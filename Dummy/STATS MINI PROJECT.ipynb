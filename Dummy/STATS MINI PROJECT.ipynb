{
 "cells": [
  {
   "cell_type": "code",
   "execution_count": 2,
   "id": "29086569",
   "metadata": {},
   "outputs": [],
   "source": [
    "import pandas as pd\n",
    "import numpy as np\n",
    "import matplotlib.pyplot as plt\n",
    "import seaborn as sns\n",
    "import random\n",
    "import statsmodels.api as sm\n",
    "from scipy import stats\n",
    "import statistics\n",
    "from scipy.stats import shapiro\n",
    "import statsmodels.api as sm\n",
    "from statsmodels.formula.api import ols\n",
    "from statsmodels.stats.anova import anova_lm\n",
    "from statsmodels.stats import weightstats as stests\n",
    "# import the functions to perform Chi-square tests\n",
    "from scipy.stats import chi2_contingency,chisquare,chi2\n",
    "# function to perform post-hoc test\n",
    "import statsmodels.stats.multicomp as mc\n",
    "from warnings import filterwarnings\n",
    "filterwarnings('ignore')"
   ]
  },
  {
   "cell_type": "code",
   "execution_count": 4,
   "id": "68f446d8",
   "metadata": {},
   "outputs": [],
   "source": [
    "Age=[42,44,62,35,20,30,56,20,23,41,55,22,31,27,66,21,18,24,42,25,32,50,31,26,36,39,40,18,36,22]"
   ]
  },
  {
   "cell_type": "markdown",
   "id": "15ce4fd5",
   "metadata": {},
   "source": [
    "# Q1. Compute the mean, median and the mode of the data"
   ]
  },
  {
   "cell_type": "code",
   "execution_count": 88,
   "id": "fe1362a3",
   "metadata": {},
   "outputs": [
    {
     "name": "stdout",
     "output_type": "stream",
     "text": [
      "mean: 34.46666666666667\n",
      "median: 31.5\n",
      "mode: 42\n"
     ]
    }
   ],
   "source": [
    "mean=np.mean(Age)\n",
    "median=np.median(Age)\n",
    "mode=statistics.mode(Age)\n",
    "print('mean:',mean)\n",
    "print('median:',median)\n",
    "print('mode:',mode)"
   ]
  },
  {
   "cell_type": "markdown",
   "id": "807aac70",
   "metadata": {},
   "source": [
    "# Q2. Compute the range , variance and standard deviation of customer ages"
   ]
  },
  {
   "cell_type": "code",
   "execution_count": 91,
   "id": "e301d221",
   "metadata": {},
   "outputs": [
    {
     "name": "stdout",
     "output_type": "stream",
     "text": [
      "range: 48\n",
      "variance: 171.4488888888889\n",
      "std: 13.093849277003645\n"
     ]
    }
   ],
   "source": [
    "rnge=np.max(Age)-np.min(Age)\n",
    "variance=np.var(Age)\n",
    "std=np.std(Age)\n",
    "print('range:',rnge)\n",
    "print('variance:',variance)\n",
    "print('std:',std)"
   ]
  },
  {
   "cell_type": "markdown",
   "id": "8352a6fc",
   "metadata": {},
   "source": [
    "# Q3. Find the mean deviation for the data . The mean deviation is defined as below."
   ]
  },
  {
   "cell_type": "code",
   "execution_count": 96,
   "id": "e9ca436c",
   "metadata": {},
   "outputs": [
    {
     "data": {
      "text/plain": [
       "10.764444444444443"
      ]
     },
     "execution_count": 96,
     "metadata": {},
     "output_type": "execute_result"
    }
   ],
   "source": [
    "mean_val = np.mean(Age)\n",
    "n=len(Age)\n",
    "mean_deviation=sum([abs(x-mean_val) for x in Age])\n",
    "mean_deviation=mean_deviation/n\n",
    "mean_deviation"
   ]
  },
  {
   "cell_type": "markdown",
   "id": "9ef25f8e",
   "metadata": {},
   "source": [
    "# Q4. Calculate the Pearson coefficient of skewness and comment on the skewness of the data"
   ]
  },
  {
   "cell_type": "code",
   "execution_count": 97,
   "id": "f2f8abf5",
   "metadata": {},
   "outputs": [
    {
     "data": {
      "text/plain": [
       "0.6797084502592238"
      ]
     },
     "execution_count": 97,
     "metadata": {},
     "output_type": "execute_result"
    }
   ],
   "source": [
    "from scipy.stats import skew\n",
    "mean_val = np.mean(Age)\n",
    "median=np.median(Age)\n",
    "std=np.std(Age)\n",
    "\n",
    "p_c_skew=(3*(mean_val-median))/std\n",
    "p_c_skew"
   ]
  },
  {
   "cell_type": "code",
   "execution_count": null,
   "id": "805737e2",
   "metadata": {},
   "outputs": [],
   "source": [
    "# we can observe that when we do pearson coeficient it is positively skewness in data, i.e right skewed"
   ]
  },
  {
   "cell_type": "markdown",
   "id": "c6d752b1",
   "metadata": {},
   "source": [
    "# Q5. Count the number of data values that fall within two standard deviations of the mean. Compare this with the answer from Chebyshev’s Theorem."
   ]
  },
  {
   "cell_type": "code",
   "execution_count": 100,
   "id": "b3e57308",
   "metadata": {},
   "outputs": [
    {
     "name": "stdout",
     "output_type": "stream",
     "text": [
      "[42, 44, 35, 20, 30, 56, 20, 23, 41, 55, 22, 31, 27, 21, 18, 24, 42, 25, 32, 50, 31, 26, 36, 39, 40, 18, 36, 22]\n",
      "number of data values that fall within two standard deviations of the mean: 28\n"
     ]
    }
   ],
   "source": [
    "mean = np.mean(Age)\n",
    "std = np.std(Age)\n",
    "\n",
    "lower_limit = (mean - 2 * std)\n",
    "upper_limit = (mean + 2 * std)\n",
    "\n",
    "val = [x for x in Age if lower_limit <= x <= upper_limit]\n",
    "count = len(val)\n",
    "print(val)\n",
    "print(\"number of data values that fall within two standard deviations of the mean:\", count)"
   ]
  },
  {
   "cell_type": "markdown",
   "id": "c125901f",
   "metadata": {},
   "source": [
    "# Q6. Find the three quartiles and the interquartile range (IQR)."
   ]
  },
  {
   "cell_type": "code",
   "execution_count": 36,
   "id": "bae9777e",
   "metadata": {},
   "outputs": [
    {
     "name": "stdout",
     "output_type": "stream",
     "text": [
      "23.25 31.5 41.75\n",
      "18.5\n"
     ]
    }
   ],
   "source": [
    "quartile_1=np.quantile(Age,q=0.25)\n",
    "quartile_2=np.quantile(Age,q=0.50)\n",
    "quartile_3=np.quantile(Age,q=0.75)\n",
    "print(quartile_1,quartile_2,quartile_3)\n",
    "\n",
    "IQR=(quartile_3-quartile_1)\n",
    "print(IQR)"
   ]
  },
  {
   "cell_type": "markdown",
   "id": "c56b5efe",
   "metadata": {},
   "source": [
    "# Q7. Are there any outliers in the data set ?"
   ]
  },
  {
   "cell_type": "code",
   "execution_count": 102,
   "id": "e91a4186",
   "metadata": {},
   "outputs": [
    {
     "name": "stdout",
     "output_type": "stream",
     "text": [
      "Upper bound: 69.5\n",
      "Lower bound: -4.5\n",
      "Outliers: []\n"
     ]
    }
   ],
   "source": [
    "q1 = np.percentile(Age, 25)\n",
    "q3 = np.percentile(Age, 75)\n",
    "iqr = q3 - q1\n",
    "\n",
    "upper_bound = q3 + 1.5 * iqr\n",
    "lower_bound = q1 - 1.5 * iqr\n",
    "\n",
    "outliers = [x for x in Age if x < lower_bound or x > upper_bound]\n",
    "\n",
    "print(\"Upper bound:\", upper_bound)\n",
    "print(\"Lower bound:\", lower_bound)\n",
    "print(\"Outliers:\", outliers)\n",
    "# NO there are no outlier are present in the dataset"
   ]
  },
  {
   "cell_type": "markdown",
   "id": "cce7a92c",
   "metadata": {},
   "source": [
    "# Q8. Draw a boxplot of the dataset to confirm"
   ]
  },
  {
   "cell_type": "code",
   "execution_count": 41,
   "id": "2f73bd10",
   "metadata": {
    "scrolled": true
   },
   "outputs": [
    {
     "data": {
      "text/plain": [
       "<AxesSubplot:>"
      ]
     },
     "execution_count": 41,
     "metadata": {},
     "output_type": "execute_result"
    },
    {
     "data": {
      "image/png": "[encoded data removed]",
      "text/plain": [
       "<Figure size 432x288 with 1 Axes>"
      ]
     },
     "metadata": {
      "needs_background": "light"
     },
     "output_type": "display_data"
    }
   ],
   "source": [
    "sns.boxplot(Age)"
   ]
  },
  {
   "cell_type": "markdown",
   "id": "d5f63f43",
   "metadata": {},
   "source": [
    "from above plot we can observe that there is no outlier in the data"
   ]
  },
  {
   "cell_type": "markdown",
   "id": "d5f42775",
   "metadata": {},
   "source": [
    "# Q9. Find the percentile rank of the datapoint 50."
   ]
  },
  {
   "cell_type": "code",
   "execution_count": 104,
   "id": "cde9ca7d",
   "metadata": {},
   "outputs": [
    {
     "name": "stdout",
     "output_type": "stream",
     "text": [
      "Percentile rank of 50: 83.333\n"
     ]
    }
   ],
   "source": [
    "num_below_50 = len([x for x in Age if x < 50])\n",
    "total_num = len(Age)\n",
    "\n",
    "percentile_rank = (num_below_50 / total_num) * 100\n",
    "\n",
    "print(\"Percentile rank of 50:\", round(percentile_rank,3))"
   ]
  },
  {
   "cell_type": "markdown",
   "id": "f78dc037",
   "metadata": {},
   "source": [
    "# Q10. What is the probability that a person ordering an EV scooter is above 50 years old?"
   ]
  },
  {
   "cell_type": "code",
   "execution_count": 105,
   "id": "c73ed7c9",
   "metadata": {},
   "outputs": [],
   "source": [
    "count = 0\n",
    "for x in Age:\n",
    "    if x > 50:\n",
    "        count += 1"
   ]
  },
  {
   "cell_type": "code",
   "execution_count": 106,
   "id": "252f83a9",
   "metadata": {},
   "outputs": [
    {
     "data": {
      "text/plain": [
       "0.13333333333333333"
      ]
     },
     "execution_count": 106,
     "metadata": {},
     "output_type": "execute_result"
    }
   ],
   "source": [
    "prob = count / len(Age)\n",
    "prob"
   ]
  },
  {
   "cell_type": "markdown",
   "id": "482284e8",
   "metadata": {},
   "source": [
    "# Q11. Create a frequency distribution for the data and visualize it appropriately"
   ]
  },
  {
   "cell_type": "code",
   "execution_count": 107,
   "id": "be190dfb",
   "metadata": {},
   "outputs": [
    {
     "data": {
      "text/plain": [
       "<AxesSubplot:ylabel='Density'>"
      ]
     },
     "execution_count": 107,
     "metadata": {},
     "output_type": "execute_result"
    },
    {
     "data": {
      "image/png": "[encoded data removed]",
      "text/plain": [
       "<Figure size 432x288 with 1 Axes>"
      ]
     },
     "metadata": {
      "needs_background": "light"
     },
     "output_type": "display_data"
    }
   ],
   "source": [
    "Age = [42,44,62,35,20,30,56,20,23,41,55,22,31,27,66,21,18,24,42,25,32,50,31,26,36,39,40,18,36,22]\n",
    "sns.distplot(Age)"
   ]
  },
  {
   "cell_type": "markdown",
   "id": "5949ce42",
   "metadata": {},
   "source": [
    "# Q12. Create a probability distribution of the data and visualize it appropriately."
   ]
  },
  {
   "cell_type": "code",
   "execution_count": 68,
   "id": "5e116c35",
   "metadata": {},
   "outputs": [
    {
     "data": {
      "image/png": "[encoded data removed]",
      "text/plain": [
       "<Figure size 432x288 with 1 Axes>"
      ]
     },
     "metadata": {
      "needs_background": "light"
     },
     "output_type": "display_data"
    }
   ],
   "source": [
    "ax = sns.distplot(Age,\n",
    "                  bins=50,\n",
    "                  kde=True,\n",
    "                  color='red',\n",
    "                  hist_kws={\"linewidth\": 15,'alpha':1})\n",
    "ax.set(xlabel='Normal Distribution', ylabel='Frequency')\n",
    " \n",
    "plt.show()"
   ]
  },
  {
   "cell_type": "markdown",
   "id": "42ada4a2",
   "metadata": {},
   "source": [
    "# Q13. What is the shape of the distribution of this dataset? Create an\n",
    "appropriate graph to determine that. Take 100 random samples with\n",
    "replacement from this dataset of size 5 each. Create a sampling distribution of\n",
    "the mean age of customers. Compare with other sampling distributions of\n",
    "sample size 10, 15, 20, 25, 30. State your observations. Does it corroborate\n",
    "the Central Limit Theorem?Q13. What is the shape of the distribution of this dataset? Create an\n",
    "appropriate graph to determine that. Take 100 random samples with\n",
    "replacement from this dataset of size 5 each. Create a sampling distribution of\n",
    "the mean age of customers. Compare with other sampling distributions of\n",
    "sample size 10, 15, 20, 25, 30. State your observations. Does it corroborate\n",
    "the Central Limit Theorem?"
   ]
  },
  {
   "cell_type": "code",
   "execution_count": 108,
   "id": "8110fbc3",
   "metadata": {
    "scrolled": true
   },
   "outputs": [
    {
     "data": {
      "image/png": "[encoded data removed]",
      "text/plain": [
       "<Figure size 432x288 with 1 Axes>"
      ]
     },
     "metadata": {
      "needs_background": "light"
     },
     "output_type": "display_data"
    }
   ],
   "source": [
    "Age = [42,44,62,35,20,30,56,20,23,41,55,22,31,27,66,21,18,24,42,25,32,50,31,26,36,39,40,18,36,22]\n",
    "plt.hist(Age)\n",
    "plt.title(\"Histogram of ages of people who ordered EV scooters\")\n",
    "plt.xlabel(\"Age\")\n",
    "plt.ylabel(\"Frequency\")\n",
    "plt.show()\n"
   ]
  },
  {
   "cell_type": "code",
   "execution_count": 110,
   "id": "a85c4ee1",
   "metadata": {},
   "outputs": [
    {
     "data": {
      "image/png": "[encoded data removed]",
      "text/plain": [
       "<Figure size 432x288 with 1 Axes>"
      ]
     },
     "metadata": {
      "needs_background": "light"
     },
     "output_type": "display_data"
    }
   ],
   "source": [
    "sample_means = []\n",
    "for i in range(100):\n",
    "    sample = np.random.choice(Age, size=5, replace=True)\n",
    "    sample_means.append(np.mean(sample))\n",
    "plt.hist(sample_means)\n",
    "plt.show()"
   ]
  },
  {
   "cell_type": "code",
   "execution_count": 113,
   "id": "8e3f7588",
   "metadata": {},
   "outputs": [
    {
     "data": {
      "image/png": "[encoded data removed]",
      "text/plain": [
       "<Figure size 432x288 with 1 Axes>"
      ]
     },
     "metadata": {
      "needs_background": "light"
     },
     "output_type": "display_data"
    }
   ],
   "source": [
    "sample_sizes = [10, 15, 20, 25, 30]\n",
    "for size in sample_sizes:\n",
    "    sample_means = []\n",
    "    for i in range(100):\n",
    "        sample = np.random.choice(Age, size=size, replace=True)\n",
    "        sample_means.append(np.mean(sample))\n",
    "    plt.axvline(x=np.mean(Age), color='red', linestyle='--')\n",
    "    plt.hist(sample_means)\n",
    "    plt.title(\"Sampling distribution of the mean age of customers (sample size = {})\".format(size))"
   ]
  },
  {
   "cell_type": "markdown",
   "id": "f5da4238",
   "metadata": {},
   "source": [
    "# Q14. Treat this dataset as a binomial distribution where p is the probability that a person ordering an EV is above 50 years age. What is the probability that out of a random sample of 10 buyers exactly 6 are above 50 years of age"
   ]
  },
  {
   "cell_type": "code",
   "execution_count": 114,
   "id": "5ae98f2d",
   "metadata": {},
   "outputs": [
    {
     "data": {
      "text/plain": [
       "0.00067"
      ]
     },
     "execution_count": 114,
     "metadata": {},
     "output_type": "execute_result"
    }
   ],
   "source": [
    "p=0.13333\n",
    "k=6\n",
    "n=10\n",
    "binomial=stats.binom.pmf(k,n,p)\n",
    "round(binomial,5)"
   ]
  },
  {
   "cell_type": "markdown",
   "id": "797a8ee7",
   "metadata": {},
   "source": [
    "# Q15. A study claims that 10% of all customers for an EV scooter are above 50 years of age. Using the Normal approximation of a Binomial distribution, find the probability that in a random sample of 300 prospective customers exactly 25 will be above 50 years of age. [ Note that the normal distribution can be used to approximate a binomial distribution if np>=5 and nq>=5 with the following correction for continuity P(X=z) = P(z-0.5 < X < z+0.5 ) ]"
   ]
  },
  {
   "cell_type": "code",
   "execution_count": 3,
   "id": "1e620d8f",
   "metadata": {},
   "outputs": [
    {
     "name": "stdout",
     "output_type": "stream",
     "text": [
      "-1.058475493514314\n",
      "-0.8660254037844386\n",
      "0.04831875658186224\n"
     ]
    }
   ],
   "source": [
    "x=25\n",
    "p=0.1\n",
    "n=300\n",
    "# Calculate mean and standard deviation\n",
    "mu = n * p\n",
    "sigma = (n * p * (1 - p))**0.5\n",
    "\n",
    "# Calculate z-score using continuity correction\n",
    "z = (x - mu) / sigma\n",
    "lower = (x - 0.5 - mu) / sigma\n",
    "upper = (x + 0.5 - mu) / sigma\n",
    "\n",
    "prob = stats.norm.cdf(upper) - stats.norm.cdf(lower)\n",
    "print(lower)\n",
    "print(upper)\n",
    "print(prob)"
   ]
  },
  {
   "cell_type": "markdown",
   "id": "9ec9de0a",
   "metadata": {},
   "source": [
    "# Q16. Compute a 95% Confidence Interval for the true mean age of the population of EV scooter buyers for the dataset using appropriate distribution.(State reasons as to why did you use a z or t distribution"
   ]
  },
  {
   "cell_type": "code",
   "execution_count": 6,
   "id": "a5127a6d",
   "metadata": {},
   "outputs": [
    {
     "data": {
      "text/plain": [
       "(29.781178977640657, 39.15215435569268)"
      ]
     },
     "execution_count": 6,
     "metadata": {},
     "output_type": "execute_result"
    }
   ],
   "source": [
    "n=30\n",
    "c_i=0.95\n",
    "std=np.std(Age)\n",
    "interval=stats.norm.interval(0.95,loc=np.mean(Age),scale=std/np.sqrt(n))\n",
    "interval"
   ]
  },
  {
   "cell_type": "markdown",
   "id": "ba4aa6d8",
   "metadata": {},
   "source": [
    "we can use a t-distribution to compute the confidence interval if the sample size is small (less than 30) or the population standard deviation is unknown. If the sample size is large (greater than or equal to 30) and the population standard deviation is known or the sample size is sufficiently large, then we can use a z-distribution"
   ]
  },
  {
   "cell_type": "markdown",
   "id": "7192ccdb",
   "metadata": {},
   "source": [
    "# Q17. A data scientist wants to estimate with 95% confidence the proportion of people who own an EV in the population. A recent study showed that 20% of people interviewed had an EV. The data scientist wants to be accurate within 2% of the true proportion. Find the minimum sample size necessary."
   ]
  },
  {
   "cell_type": "code",
   "execution_count": 15,
   "id": "b289ef30",
   "metadata": {},
   "outputs": [
    {
     "name": "stdout",
     "output_type": "stream",
     "text": [
      "Minimum sample size necessary: 1082.2173816381653\n"
     ]
    }
   ],
   "source": [
    "p=0.2\n",
    "m_e=0.02\n",
    "alpha=0.5\n",
    "z = stats.norm.ppf(0.95)    # Critical value at 95% confidence level\n",
    "\n",
    "# Compute minimum sample size\n",
    "n = ((z / m_e)**2 * p * (1 - p))  # round up to nearest integer\n",
    "\n",
    "print(\"Minimum sample size necessary:\", n)"
   ]
  },
  {
   "cell_type": "markdown",
   "id": "86fa7842",
   "metadata": {},
   "source": [
    "# Q18. The same data scientist wants to estimate the proportion of executives who own an EV. She wants to be 90% confident and accurate within 5% of true proportion. Find the minimum sample size necessary"
   ]
  },
  {
   "cell_type": "code",
   "execution_count": 19,
   "id": "92061d2a",
   "metadata": {},
   "outputs": [
    {
     "name": "stdout",
     "output_type": "stream",
     "text": [
      "Minimum sample size necessary: 173.15478106210648\n"
     ]
    }
   ],
   "source": [
    "p=0.2\n",
    "m_e=0.05\n",
    "alpha=0.1\n",
    "z = stats.norm.ppf(0.95)    # Critical value at 95% confidence level\n",
    "\n",
    "# Compute minimum sample size\n",
    "n = ((z / m_e)**2 * p * (1 - p))  # round up to nearest integer\n",
    "\n",
    "print(\"Minimum sample size necessary:\", n)"
   ]
  },
  {
   "cell_type": "markdown",
   "id": "244dcbce",
   "metadata": {},
   "source": [
    "# Q19. A researcher claims that currently 20% of the population are owning EVs. Test his claim with an alpha =0.05 if out of a random sample of 30 two-wheeler owners only 5 own an EV."
   ]
  },
  {
   "cell_type": "code",
   "execution_count": 22,
   "id": "fb31c6a5",
   "metadata": {},
   "outputs": [
    {
     "data": {
      "text/plain": [
       "0.427512437590322"
      ]
     },
     "execution_count": 22,
     "metadata": {},
     "output_type": "execute_result"
    }
   ],
   "source": [
    "alpha=0.05\n",
    "n=30\n",
    "p=0.2\n",
    "k=5\n",
    "\n",
    "stats.binom.cdf(k,n,p)"
   ]
  },
  {
   "cell_type": "markdown",
   "id": "df960ed3",
   "metadata": {},
   "source": [
    "# Q20. Assume you are working for a Consumer Protection Agency that looks at complaints raised by customers for the transportation industry. Say you have been receiving complaints about the mileage of the latest EV launched by the Zen Automotives. Zen allows you to test randomly 40 of its new EVs to test mileage. Zen claims that the new EVs get a mileage of 96 kmpl on the highway. Your results show a mean of 91.3 kmpl and a standard deviation of 14.4. a. Show why you support Zen’s claim using the P-value obtained. b. After more complaints you decide to test the variability of the mileage on the highway. On questioning Zen’s quality control engineer , you find that they are claiming a standard deviation of 7.2. Test the claim about the standard deviation. [Hint :use the Chi-square test for variance/standard deviation] c. Write a summary of results and the action that Zen must take to remedy the complaints. d. What is your position on performing the test for variability along with the test for means?"
   ]
  },
  {
   "cell_type": "code",
   "execution_count": 39,
   "id": "681790f9",
   "metadata": {},
   "outputs": [
    {
     "name": "stdout",
     "output_type": "stream",
     "text": [
      "t-score: -2.0642645837210267\n",
      "p-value: 0.02284465174557921\n"
     ]
    }
   ],
   "source": [
    "# H0:that the true population mean is equal to 96 kmpl\n",
    "# H1: true population mean that it is less than 96 kmpl.\n",
    "def t_test(pop_mean, samp_std, n, samp_mean):\n",
    "   \n",
    "    # calculate the test statistic\n",
    "    t_score = (samp_mean - pop_mean) / (samp_std / np.sqrt(n))\n",
    "\n",
    "    # return the t-test value\n",
    "    return t_score\n",
    "\n",
    "# given data\n",
    "n = 40\n",
    "pop_mean = 96\n",
    "samp_std = 14.4\n",
    "samp_mean = 91.3\n",
    "\n",
    "# calculate the test statistic using the function 't_test'\n",
    "t_score = t_test(pop_mean, samp_std, n, samp_mean)\n",
    "print(\"t-score:\", t_score)\n",
    "\n",
    "p_value = stats.t.cdf(t_score, df = 39)\n",
    "\n",
    "print('p-value:', p_value)"
   ]
  },
  {
   "cell_type": "code",
   "execution_count": 31,
   "id": "158d829f",
   "metadata": {},
   "outputs": [
    {
     "name": "stdout",
     "output_type": "stream",
     "text": [
      "Reject the null hypothesis.\n"
     ]
    }
   ],
   "source": [
    "alpha = 0.05\n",
    "if p_value < alpha:\n",
    "    print(\"Reject the null hypothesis.\")\n",
    "else:\n",
    "    print(\"Fail to reject the null hypothesis.\")"
   ]
  },
  {
   "cell_type": "code",
   "execution_count": 43,
   "id": "cfff1aab",
   "metadata": {},
   "outputs": [
    {
     "data": {
      "text/plain": [
       "41.26040816326531"
      ]
     },
     "execution_count": 43,
     "metadata": {},
     "output_type": "execute_result"
    }
   ],
   "source": [
    "alpha = 0.05\n",
    "n = 40\n",
    "s = 7.2\n",
    "df=39\n",
    "chi_critical_left = stats.chi2.ppf(alpha / 2, df)\n",
    "chi_critical_right = stats.chi2.ppf(1 - alpha / 2, n - 1)\n",
    "chi_stat = df * s ** 2 / 49\n",
    "chi_stat"
   ]
  },
  {
   "cell_type": "code",
   "execution_count": 44,
   "id": "501f0b19",
   "metadata": {},
   "outputs": [
    {
     "name": "stdout",
     "output_type": "stream",
     "text": [
      "We fail to reject Zen's claim that the standard deviation of mileage on the highway is 7.2.\n"
     ]
    }
   ],
   "source": [
    "if chi_stat > chi_critical_left and chi_stat < chi_critical_right:\n",
    "    print(\"We fail to reject Zen's claim that the standard deviation of mileage on the highway is 7.2.\")\n",
    "else:\n",
    "    print(\"We reject Zen's claim that the standard deviation of mileage on the highway is 7.2.\")"
   ]
  },
  {
   "cell_type": "code",
   "execution_count": null,
   "id": "fb0fc343",
   "metadata": {},
   "outputs": [],
   "source": []
  }
 ],
 "metadata": {
  "kernelspec": {
   "display_name": "Python 3 (ipykernel)",
   "language": "python",
   "name": "python3"
  },
  "language_info": {
   "codemirror_mode": {
    "name": "ipython",
    "version": 3
   },
   "file_extension": ".py",
   "mimetype": "text/x-python",
   "name": "python",
   "nbconvert_exporter": "python",
   "pygments_lexer": "ipython3",
   "version": "3.9.7"
  }
 },
 "nbformat": 4,
 "nbformat_minor": 5
}
