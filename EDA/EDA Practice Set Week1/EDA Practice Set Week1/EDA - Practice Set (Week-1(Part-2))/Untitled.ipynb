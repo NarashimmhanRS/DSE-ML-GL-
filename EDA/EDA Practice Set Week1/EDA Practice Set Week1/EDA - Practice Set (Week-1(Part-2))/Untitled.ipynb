{
 "cells": [
  {
   "cell_type": "code",
   "execution_count": 1,
   "id": "cf60f6b7",
   "metadata": {},
   "outputs": [
    {
     "data": {
      "text/plain": [
       "['A', 'B', 'C', 'E', 'F', 'G']"
      ]
     },
     "execution_count": 1,
     "metadata": {},
     "output_type": "execute_result"
    }
   ],
   "source": [
    "L1 = ['A','B','C']\n",
    "L2 = ['E','F','G']\n",
    "\n",
    "L1 +L2"
   ]
  },
  {
   "cell_type": "code",
   "execution_count": 4,
   "id": "5a99413c",
   "metadata": {},
   "outputs": [],
   "source": [
    "def f(m):\n",
    "    if m ==0:\n",
    "        return(1)\n",
    "    else:\n",
    "        return(m*f(m-1))"
   ]
  },
  {
   "cell_type": "code",
   "execution_count": 5,
   "id": "45d963a9",
   "metadata": {},
   "outputs": [
    {
     "ename": "SyntaxError",
     "evalue": "invalid syntax (256696715.py, line 1)",
     "output_type": "error",
     "traceback": [
      "\u001b[1;36m  Input \u001b[1;32mIn [5]\u001b[1;36m\u001b[0m\n\u001b[1;33m    if__name__==\"__main__\":\u001b[0m\n\u001b[1;37m                          ^\u001b[0m\n\u001b[1;31mSyntaxError\u001b[0m\u001b[1;31m:\u001b[0m invalid syntax\n"
     ]
    }
   ],
   "source": [
    "if__name__==\"__main__\":\n",
    "    somemethod()"
   ]
  },
  {
   "cell_type": "code",
   "execution_count": 7,
   "id": "144c932b",
   "metadata": {},
   "outputs": [
    {
     "name": "stdout",
     "output_type": "stream",
     "text": [
      "<function pyfunc at 0x000002A80F4BBF40>\n"
     ]
    }
   ],
   "source": [
    "def pyfunc():\n",
    "    print ('Hello function')\n",
    "print(pyfunc)"
   ]
  },
  {
   "cell_type": "code",
   "execution_count": 8,
   "id": "8b515447",
   "metadata": {},
   "outputs": [
    {
     "ename": "AssertionError",
     "evalue": "",
     "output_type": "error",
     "traceback": [
      "\u001b[1;31m---------------------------------------------------------------------------\u001b[0m",
      "\u001b[1;31mAssertionError\u001b[0m                            Traceback (most recent call last)",
      "Input \u001b[1;32mIn [8]\u001b[0m, in \u001b[0;36m<cell line: 1>\u001b[1;34m()\u001b[0m\n\u001b[1;32m----> 1\u001b[0m \u001b[38;5;28;01massert\u001b[39;00m(\u001b[38;5;241m2\u001b[39m\u001b[38;5;241m+\u001b[39m\u001b[38;5;241m3\u001b[39m) \u001b[38;5;241m==\u001b[39m (\u001b[38;5;241m2\u001b[39m\u001b[38;5;241m*\u001b[39m\u001b[38;5;241m3\u001b[39m)\n",
      "\u001b[1;31mAssertionError\u001b[0m: "
     ]
    }
   ],
   "source": [
    "assert(2+3) == (2*3)"
   ]
  },
  {
   "cell_type": "code",
   "execution_count": 9,
   "id": "3a8ae57e",
   "metadata": {},
   "outputs": [
    {
     "name": "stdout",
     "output_type": "stream",
     "text": [
      "(<class 'ValueError'>, ValueError(\"could not convert string to float: 'abc123'\"), <traceback object at 0x000002A810934280>)\n"
     ]
    }
   ],
   "source": [
    "try:\n",
    "    float('abc123')\n",
    "except:\n",
    "    import sys\n",
    "    exc_tupe=sys.exc_info()\n",
    "print(exc_tupe)"
   ]
  },
  {
   "cell_type": "code",
   "execution_count": 10,
   "id": "16ed31fc",
   "metadata": {},
   "outputs": [
    {
     "name": "stdout",
     "output_type": "stream",
     "text": [
      "list index out of range\n",
      "in any\n"
     ]
    }
   ],
   "source": [
    "y=[1,2,3]\n",
    "\n",
    "try:\n",
    "    print(y[4])\n",
    "except KeyError as e:\n",
    "    print(e)\n",
    "except IndexError as err:\n",
    "    print(err)\n",
    "except: \n",
    "    print('Unknow error')\n",
    "finally:\n",
    "    print(\"in any\")"
   ]
  },
  {
   "cell_type": "code",
   "execution_count": 12,
   "id": "70ef6ef3",
   "metadata": {},
   "outputs": [
    {
     "name": "stdout",
     "output_type": "stream",
     "text": [
      "None\n"
     ]
    }
   ],
   "source": [
    "try : \n",
    "    def a(x): \n",
    "        assert x ==3 \n",
    "except NameError: print(a(2)) \n",
    "except :\n",
    "    print('1234')\n",
    "if __name__==\"__main__\":\n",
    "    print(a(3))"
   ]
  },
  {
   "cell_type": "code",
   "execution_count": 13,
   "id": "2f6ef3d6",
   "metadata": {},
   "outputs": [],
   "source": [
    "def gcd(m,n):\n",
    "    if m<n:\n",
    "        (m,n)=(n,m)\n",
    "    if(m%n)==0:\n",
    "        return(n)\n",
    "    else:\n",
    "        diff = m-n\n",
    "        return(gcd(max(n,diff),min(n,diff)))"
   ]
  },
  {
   "cell_type": "code",
   "execution_count": null,
   "id": "f8334250",
   "metadata": {},
   "outputs": [],
   "source": [
    "gcd(2,-4)"
   ]
  },
  {
   "cell_type": "code",
   "execution_count": null,
   "id": "3ef91f73",
   "metadata": {},
   "outputs": [],
   "source": [
    "s =this is simple\"\n"
   ]
  }
 ],
 "metadata": {
  "kernelspec": {
   "display_name": "Python 3 (ipykernel)",
   "language": "python",
   "name": "python3"
  },
  "language_info": {
   "codemirror_mode": {
    "name": "ipython",
    "version": 3
   },
   "file_extension": ".py",
   "mimetype": "text/x-python",
   "name": "python",
   "nbconvert_exporter": "python",
   "pygments_lexer": "ipython3",
   "version": "3.10.5"
  }
 },
 "nbformat": 4,
 "nbformat_minor": 5
}
