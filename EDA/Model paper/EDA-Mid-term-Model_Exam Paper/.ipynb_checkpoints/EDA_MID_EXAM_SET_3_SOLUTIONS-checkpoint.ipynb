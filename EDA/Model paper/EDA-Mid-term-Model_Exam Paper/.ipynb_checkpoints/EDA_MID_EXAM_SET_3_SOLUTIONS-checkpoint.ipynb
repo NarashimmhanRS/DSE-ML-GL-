{
 "cells": [
  {
   "cell_type": "markdown",
   "metadata": {
    "id": "hoQxDGeGytHX"
   },
   "source": [
    "# EDA MID EXAM"
   ]
  },
  {
   "cell_type": "markdown",
   "metadata": {
    "id": "AhU2dgzLytHY"
   },
   "source": [
    "---------------------------"
   ]
  },
  {
   "cell_type": "markdown",
   "metadata": {
    "id": "DxcxQkceytHZ"
   },
   "source": [
    "# SECTION A: 8 MARKS"
   ]
  },
  {
   "cell_type": "markdown",
   "metadata": {
    "id": "-RKvvv0BytHZ"
   },
   "source": [
    "--------------"
   ]
  },
  {
   "cell_type": "markdown",
   "metadata": {
    "id": "3LmueFIaytHa"
   },
   "source": [
    "### 1. What is the difference between missing value and an outlier? (8 MARKS)"
   ]
  },
  {
   "cell_type": "markdown",
   "metadata": {
    "id": "iHrm-n_JytHa"
   },
   "source": [
    "Outlier is the value far from the main group. Missing value is the value of blank. We often meet them when we analyze large size data.\n",
    "\n",
    "Outlier and missing value are also called \"abnormal value\", \"noise\", \"trash\", \"bad data\" and \"incomplete data\". Some people dislike them because when there are these data in the data set, we cannot make beautiful statistical model or the software outputs error.\n",
    "\n",
    "Outlier and missing value are often removed as unnecessary data. But the removal may remove the important information because outlier and missing value express some facts. And there are cases that we need to understand the reason of the mechanism of such data."
   ]
  },
  {
   "cell_type": "markdown",
   "metadata": {
    "id": "Suzuin25ytHb"
   },
   "source": [
    "# SECTION B: 17 MARKS"
   ]
  },
  {
   "cell_type": "markdown",
   "metadata": {
    "id": "2CjhZ_bPytHc"
   },
   "source": [
    "-------------"
   ]
  },
  {
   "cell_type": "markdown",
   "metadata": {
    "id": "KF3CUyhvytHc"
   },
   "source": [
    "### Data Set Information: \n",
    "\n",
    "The time period of this dataset is from 2010 to 2018 when this notebook was written. It contains 36 columns that describe various properties of the volcano as well as data related to economic and human impact of the eruption. Properties that I feel are relevant and worthy of displaying on a marker pop up are \"Year\", \"Name\", \"Country\", \"Latitude\", \"Longitude\", \"Type\" although there are some tempting ones such as 'TOTALDAMAGEMILLIONSDOLLARS' and 'TOTALHOUSES_DESTROYED' that I chose to not include. This particular slice in time only contains 63 observations. The NOAA eruptions data is not real time nor is it updated fully as seen in the many null fields. I believe the data is entered as NOAA becomes aware of various situations related to that event."
   ]
  },
  {
   "cell_type": "markdown",
   "metadata": {
    "id": "bHnYFnKCytHd"
   },
   "source": [
    "\n",
    "\n",
    "* Year\t\n",
    "\n",
    "* TSU\t\n",
    "\n",
    "* EQ\t\n",
    "\n",
    "* Name\t\n",
    "\n",
    "* Elevation\t\n",
    "\n",
    "* Type\t\n",
    "\n",
    "* Status\t\n",
    "\n",
    "* Time\t\n",
    "\n",
    "* VEI\t\n",
    "\n",
    "* Agent\t\n",
    "\n",
    "* DEATHS\t\n",
    "\n",
    "* DEATHS_DESCRIPTION\t\n",
    "\n",
    "* MISSING\t\n",
    "\n",
    "* MISSING_DESCRIPTION\t\n",
    "\n",
    "* INJURIES\t\n",
    "\n",
    "* INJURIES_DESCRIPTION\t\n",
    "\n",
    "* DAMAGE_MILLIONS_DOLLARS\t\n",
    "\n",
    "* DAMAGE_DESCRIPTION\t\n",
    "\n",
    "* HOUSES_DESTROYED\t\n",
    "\n",
    "* HOUSES_DESTROYED_DESCRIPTION\t\n",
    "\n",
    "* TOTAL_DEATHS\t\n",
    "\n",
    "* TOTAL_DEATHS_DESCRIPTION\t\n",
    "\n",
    "* TOTAL_MISSING\t\n",
    "\n",
    "* TOTAL_MISSING_DESCRIPTION\t\n",
    "\n",
    "* TOTAL_INJURIES\t\n",
    "\n",
    "* TOTAL_INJURIES_DESCRIPTION\t\n",
    "\n",
    "* TOTAL_DAMAGE_MILLIONS_DOLLARS\t\n",
    "\n",
    "* TOTAL_DAMAGE_DESCRIPTION\t\n",
    "\n",
    "* TOTAL_HOUSES_DESTROYED\t\n",
    "\n",
    "* TOTAL_HOUSES_DESTROYED_DESCRIPTION\t\n",
    "\n",
    "* Latitude\t\n",
    "\n",
    "* Longitude\t\n",
    "\n",
    "* Country\n"
   ]
  },
  {
   "cell_type": "code",
   "execution_count": null,
   "metadata": {
    "id": "Ts9dGHPuytHe"
   },
   "outputs": [],
   "source": [
    "# Kindly change the below cells from markdown to code and execute it "
   ]
  },
  {
   "cell_type": "markdown",
   "metadata": {
    "id": "-c1DdxgaytHl"
   },
   "source": [
    "import pandas as pd\n",
    "\n",
    "import csv\n",
    "\n",
    "with open(\"data_set.csv\",\"r\")as file:\n",
    "    \n",
    "    reader=csv.reader(file)\n",
    "\n",
    "df=pd.read_csv(\"data_set.csv\")\n",
    "\n",
    "df.head()\n"
   ]
  },
  {
   "cell_type": "markdown",
   "metadata": {
    "id": "qnia-UP7ytHl"
   },
   "source": [
    "### 2. Read the dataset and answer the below questions\n",
    "  \n",
    "  \n",
    " A. Compare the 'Country' and 'Status' variable and provide inferences about the volcanic eruptions. (5 marks) \n",
    " \n",
    " B. Drop the columns which contain more than 50% of null values, create a new dataframe called `data_new` (7 MARKS)\n",
    "\n",
    " C. Display pairplot for only the numerical variables, state your observations with respect to skewness (5 MARKS)"
   ]
  },
  {
   "cell_type": "code",
   "execution_count": 30,
   "metadata": {},
   "outputs": [],
   "source": [
    "import pandas as pd\n",
    "import numpy as np\n",
    "import matplotlib.pyplot as plt\n",
    "import seaborn as sns"
   ]
  },
  {
   "cell_type": "code",
   "execution_count": 31,
   "metadata": {
    "id": "F3DrXqWkytHm",
    "outputId": "81c7f3eb-501e-4140-9611-7c601330024d"
   },
   "outputs": [
    {
     "data": {
      "text/html": [
       "<div>\n",
       "<style scoped>\n",
       "    .dataframe tbody tr th:only-of-type {\n",
       "        vertical-align: middle;\n",
       "    }\n",
       "\n",
       "    .dataframe tbody tr th {\n",
       "        vertical-align: top;\n",
       "    }\n",
       "\n",
       "    .dataframe thead th {\n",
       "        text-align: right;\n",
       "    }\n",
       "</style>\n",
       "<table border=\"1\" class=\"dataframe\">\n",
       "  <thead>\n",
       "    <tr style=\"text-align: right;\">\n",
       "      <th></th>\n",
       "      <th>Year</th>\n",
       "      <th>TSU</th>\n",
       "      <th>EQ</th>\n",
       "      <th>Name</th>\n",
       "      <th>Elevation</th>\n",
       "      <th>Type</th>\n",
       "      <th>Status</th>\n",
       "      <th>Time</th>\n",
       "      <th>VEI</th>\n",
       "      <th>Agent</th>\n",
       "      <th>...</th>\n",
       "      <th>TOTAL_MISSING_DESCRIPTION</th>\n",
       "      <th>TOTAL_INJURIES</th>\n",
       "      <th>TOTAL_INJURIES_DESCRIPTION</th>\n",
       "      <th>TOTAL_DAMAGE_MILLIONS_DOLLARS</th>\n",
       "      <th>TOTAL_DAMAGE_DESCRIPTION</th>\n",
       "      <th>TOTAL_HOUSES_DESTROYED</th>\n",
       "      <th>TOTAL_HOUSES_DESTROYED_DESCRIPTION</th>\n",
       "      <th>Latitude</th>\n",
       "      <th>Longitude</th>\n",
       "      <th>Country</th>\n",
       "    </tr>\n",
       "  </thead>\n",
       "  <tbody>\n",
       "    <tr>\n",
       "      <th>0</th>\n",
       "      <td>Jan 2010</td>\n",
       "      <td>NaN</td>\n",
       "      <td>NaN</td>\n",
       "      <td>Tungurahua</td>\n",
       "      <td>5023</td>\n",
       "      <td>Stratovolcano</td>\n",
       "      <td>Historical</td>\n",
       "      <td>D1</td>\n",
       "      <td>3.0</td>\n",
       "      <td>NaN</td>\n",
       "      <td>...</td>\n",
       "      <td>NaN</td>\n",
       "      <td>NaN</td>\n",
       "      <td>NaN</td>\n",
       "      <td>NaN</td>\n",
       "      <td>1.0</td>\n",
       "      <td>NaN</td>\n",
       "      <td>NaN</td>\n",
       "      <td>-1.467</td>\n",
       "      <td>-78.442</td>\n",
       "      <td>Ecuador</td>\n",
       "    </tr>\n",
       "    <tr>\n",
       "      <th>1</th>\n",
       "      <td>Mar 2010</td>\n",
       "      <td>NaN</td>\n",
       "      <td>NaN</td>\n",
       "      <td>Eyjafjallajokull</td>\n",
       "      <td>1666</td>\n",
       "      <td>Stratovolcano</td>\n",
       "      <td>Historical</td>\n",
       "      <td>D1</td>\n",
       "      <td>2.0</td>\n",
       "      <td>NaN</td>\n",
       "      <td>...</td>\n",
       "      <td>NaN</td>\n",
       "      <td>NaN</td>\n",
       "      <td>NaN</td>\n",
       "      <td>NaN</td>\n",
       "      <td>NaN</td>\n",
       "      <td>NaN</td>\n",
       "      <td>NaN</td>\n",
       "      <td>63.630</td>\n",
       "      <td>-19.620</td>\n",
       "      <td>Iceland</td>\n",
       "    </tr>\n",
       "    <tr>\n",
       "      <th>2</th>\n",
       "      <td>May 2010</td>\n",
       "      <td>NaN</td>\n",
       "      <td>NaN</td>\n",
       "      <td>Pacaya</td>\n",
       "      <td>2552</td>\n",
       "      <td>Complex volcano</td>\n",
       "      <td>Historical</td>\n",
       "      <td>D1</td>\n",
       "      <td>1.0</td>\n",
       "      <td>T</td>\n",
       "      <td>...</td>\n",
       "      <td>1.0</td>\n",
       "      <td>NaN</td>\n",
       "      <td>NaN</td>\n",
       "      <td>NaN</td>\n",
       "      <td>1.0</td>\n",
       "      <td>3.0</td>\n",
       "      <td>1.0</td>\n",
       "      <td>14.381</td>\n",
       "      <td>-90.601</td>\n",
       "      <td>Guatemala</td>\n",
       "    </tr>\n",
       "    <tr>\n",
       "      <th>3</th>\n",
       "      <td>May 2010</td>\n",
       "      <td>TSU</td>\n",
       "      <td>EQ</td>\n",
       "      <td>Sarigan</td>\n",
       "      <td>538</td>\n",
       "      <td>Stratovolcano</td>\n",
       "      <td>Holocene</td>\n",
       "      <td>U</td>\n",
       "      <td>NaN</td>\n",
       "      <td>NaN</td>\n",
       "      <td>...</td>\n",
       "      <td>NaN</td>\n",
       "      <td>NaN</td>\n",
       "      <td>NaN</td>\n",
       "      <td>NaN</td>\n",
       "      <td>NaN</td>\n",
       "      <td>NaN</td>\n",
       "      <td>NaN</td>\n",
       "      <td>16.708</td>\n",
       "      <td>145.780</td>\n",
       "      <td>United States</td>\n",
       "    </tr>\n",
       "    <tr>\n",
       "      <th>4</th>\n",
       "      <td>Aug 2010</td>\n",
       "      <td>NaN</td>\n",
       "      <td>NaN</td>\n",
       "      <td>Karangetang [Api Siau]</td>\n",
       "      <td>1784</td>\n",
       "      <td>Stratovolcano</td>\n",
       "      <td>Historical</td>\n",
       "      <td>D1</td>\n",
       "      <td>3.0</td>\n",
       "      <td>NaN</td>\n",
       "      <td>...</td>\n",
       "      <td>NaN</td>\n",
       "      <td>5.0</td>\n",
       "      <td>1.0</td>\n",
       "      <td>NaN</td>\n",
       "      <td>NaN</td>\n",
       "      <td>NaN</td>\n",
       "      <td>1.0</td>\n",
       "      <td>2.780</td>\n",
       "      <td>125.480</td>\n",
       "      <td>Indonesia</td>\n",
       "    </tr>\n",
       "  </tbody>\n",
       "</table>\n",
       "<p>5 rows × 33 columns</p>\n",
       "</div>"
      ],
      "text/plain": [
       "       Year  TSU   EQ                    Name  Elevation             Type  \\\n",
       "0  Jan 2010  NaN  NaN              Tungurahua       5023    Stratovolcano   \n",
       "1  Mar 2010  NaN  NaN        Eyjafjallajokull       1666    Stratovolcano   \n",
       "2  May 2010  NaN  NaN                  Pacaya       2552  Complex volcano   \n",
       "3  May 2010  TSU   EQ                 Sarigan        538    Stratovolcano   \n",
       "4  Aug 2010  NaN  NaN  Karangetang [Api Siau]       1784    Stratovolcano   \n",
       "\n",
       "       Status Time  VEI Agent  ...  TOTAL_MISSING_DESCRIPTION  TOTAL_INJURIES  \\\n",
       "0  Historical   D1  3.0   NaN  ...                        NaN             NaN   \n",
       "1  Historical   D1  2.0   NaN  ...                        NaN             NaN   \n",
       "2  Historical   D1  1.0     T  ...                        1.0             NaN   \n",
       "3    Holocene    U  NaN   NaN  ...                        NaN             NaN   \n",
       "4  Historical   D1  3.0   NaN  ...                        NaN             5.0   \n",
       "\n",
       "   TOTAL_INJURIES_DESCRIPTION  TOTAL_DAMAGE_MILLIONS_DOLLARS  \\\n",
       "0                         NaN                            NaN   \n",
       "1                         NaN                            NaN   \n",
       "2                         NaN                            NaN   \n",
       "3                         NaN                            NaN   \n",
       "4                         1.0                            NaN   \n",
       "\n",
       "   TOTAL_DAMAGE_DESCRIPTION  TOTAL_HOUSES_DESTROYED  \\\n",
       "0                       1.0                     NaN   \n",
       "1                       NaN                     NaN   \n",
       "2                       1.0                     3.0   \n",
       "3                       NaN                     NaN   \n",
       "4                       NaN                     NaN   \n",
       "\n",
       "   TOTAL_HOUSES_DESTROYED_DESCRIPTION  Latitude  Longitude        Country  \n",
       "0                                 NaN    -1.467    -78.442        Ecuador  \n",
       "1                                 NaN    63.630    -19.620        Iceland  \n",
       "2                                 1.0    14.381    -90.601      Guatemala  \n",
       "3                                 NaN    16.708    145.780  United States  \n",
       "4                                 1.0     2.780    125.480      Indonesia  \n",
       "\n",
       "[5 rows x 33 columns]"
      ]
     },
     "execution_count": 31,
     "metadata": {},
     "output_type": "execute_result"
    }
   ],
   "source": [
    "data=pd.read_csv('volcano_data_2010_new.csv')\n",
    "data.head()"
   ]
  },
  {
   "cell_type": "markdown",
   "metadata": {
    "id": "IGG1i-p8ytHw"
   },
   "source": [
    "##### A. Compare the 'Country' and 'Status' variable and provide inferences about the volcanic eruptions. (5 marks)"
   ]
  },
  {
   "cell_type": "code",
   "execution_count": 32,
   "metadata": {
    "id": "-tVACf-fytHx",
    "outputId": "07e0b110-0a3d-446a-8c3e-7466ec9be0ac"
   },
   "outputs": [
    {
     "data": {
      "text/html": [
       "<div>\n",
       "<style scoped>\n",
       "    .dataframe tbody tr th:only-of-type {\n",
       "        vertical-align: middle;\n",
       "    }\n",
       "\n",
       "    .dataframe tbody tr th {\n",
       "        vertical-align: top;\n",
       "    }\n",
       "\n",
       "    .dataframe thead th {\n",
       "        text-align: right;\n",
       "    }\n",
       "</style>\n",
       "<table border=\"1\" class=\"dataframe\">\n",
       "  <thead>\n",
       "    <tr style=\"text-align: right;\">\n",
       "      <th>Status</th>\n",
       "      <th>Historical</th>\n",
       "      <th>Holocene</th>\n",
       "      <th>Tephrochronology</th>\n",
       "    </tr>\n",
       "    <tr>\n",
       "      <th>Country</th>\n",
       "      <th></th>\n",
       "      <th></th>\n",
       "      <th></th>\n",
       "    </tr>\n",
       "  </thead>\n",
       "  <tbody>\n",
       "    <tr>\n",
       "      <th>Cape Verde</th>\n",
       "      <td>1</td>\n",
       "      <td>0</td>\n",
       "      <td>0</td>\n",
       "    </tr>\n",
       "    <tr>\n",
       "      <th>Chile</th>\n",
       "      <td>1</td>\n",
       "      <td>1</td>\n",
       "      <td>0</td>\n",
       "    </tr>\n",
       "    <tr>\n",
       "      <th>Ecuador</th>\n",
       "      <td>3</td>\n",
       "      <td>0</td>\n",
       "      <td>0</td>\n",
       "    </tr>\n",
       "    <tr>\n",
       "      <th>Eritrea</th>\n",
       "      <td>0</td>\n",
       "      <td>1</td>\n",
       "      <td>0</td>\n",
       "    </tr>\n",
       "    <tr>\n",
       "      <th>Guatemala</th>\n",
       "      <td>2</td>\n",
       "      <td>0</td>\n",
       "      <td>0</td>\n",
       "    </tr>\n",
       "    <tr>\n",
       "      <th>Iceland</th>\n",
       "      <td>2</td>\n",
       "      <td>0</td>\n",
       "      <td>0</td>\n",
       "    </tr>\n",
       "    <tr>\n",
       "      <th>Indonesia</th>\n",
       "      <td>17</td>\n",
       "      <td>9</td>\n",
       "      <td>0</td>\n",
       "    </tr>\n",
       "    <tr>\n",
       "      <th>Italy</th>\n",
       "      <td>2</td>\n",
       "      <td>0</td>\n",
       "      <td>0</td>\n",
       "    </tr>\n",
       "    <tr>\n",
       "      <th>Japan</th>\n",
       "      <td>5</td>\n",
       "      <td>0</td>\n",
       "      <td>0</td>\n",
       "    </tr>\n",
       "    <tr>\n",
       "      <th>New Zealand</th>\n",
       "      <td>2</td>\n",
       "      <td>0</td>\n",
       "      <td>0</td>\n",
       "    </tr>\n",
       "    <tr>\n",
       "      <th>Papua New Guinea</th>\n",
       "      <td>1</td>\n",
       "      <td>2</td>\n",
       "      <td>0</td>\n",
       "    </tr>\n",
       "    <tr>\n",
       "      <th>Peru</th>\n",
       "      <td>1</td>\n",
       "      <td>0</td>\n",
       "      <td>0</td>\n",
       "    </tr>\n",
       "    <tr>\n",
       "      <th>Philippines</th>\n",
       "      <td>3</td>\n",
       "      <td>0</td>\n",
       "      <td>0</td>\n",
       "    </tr>\n",
       "    <tr>\n",
       "      <th>Russia</th>\n",
       "      <td>1</td>\n",
       "      <td>0</td>\n",
       "      <td>0</td>\n",
       "    </tr>\n",
       "    <tr>\n",
       "      <th>United States</th>\n",
       "      <td>5</td>\n",
       "      <td>1</td>\n",
       "      <td>1</td>\n",
       "    </tr>\n",
       "    <tr>\n",
       "      <th>Vanuatu</th>\n",
       "      <td>2</td>\n",
       "      <td>0</td>\n",
       "      <td>0</td>\n",
       "    </tr>\n",
       "  </tbody>\n",
       "</table>\n",
       "</div>"
      ],
      "text/plain": [
       "Status            Historical  Holocene  Tephrochronology\n",
       "Country                                                 \n",
       "Cape Verde                 1         0                 0\n",
       "Chile                      1         1                 0\n",
       "Ecuador                    3         0                 0\n",
       "Eritrea                    0         1                 0\n",
       "Guatemala                  2         0                 0\n",
       "Iceland                    2         0                 0\n",
       "Indonesia                 17         9                 0\n",
       "Italy                      2         0                 0\n",
       "Japan                      5         0                 0\n",
       "New Zealand                2         0                 0\n",
       "Papua New Guinea           1         2                 0\n",
       "Peru                       1         0                 0\n",
       "Philippines                3         0                 0\n",
       "Russia                     1         0                 0\n",
       "United States              5         1                 1\n",
       "Vanuatu                    2         0                 0"
      ]
     },
     "execution_count": 32,
     "metadata": {},
     "output_type": "execute_result"
    }
   ],
   "source": [
    "Country_vs_Status = pd.crosstab(index=data[\"Country\"], columns=data[\"Status\"])\n",
    "Country_vs_Status"
   ]
  },
  {
   "cell_type": "markdown",
   "metadata": {
    "id": "r8-5z5Y3ytH1"
   },
   "source": [
    "* Indonesia has the highly affected by volcanic eruptions, Hystorical and Holocene are the two status types of volcanic eruptions that occur frequently compared to Tephrochronology."
   ]
  },
  {
   "cell_type": "markdown",
   "metadata": {
    "id": "7tAG93DhytH1"
   },
   "source": [
    "##### B. Drop the columns which contain more than 50% of null values, create a new dataframe called `data_new` (7 MARKS)"
   ]
  },
  {
   "cell_type": "code",
   "execution_count": 33,
   "metadata": {
    "id": "GFrrqeKTytH2",
    "outputId": "d37993d7-a831-4f06-f958-fff4108bb12b"
   },
   "outputs": [
    {
     "data": {
      "text/plain": [
       "Index(['Year', 'Name', 'Elevation', 'Type', 'Status', 'Time',\n",
       "       'DAMAGE_DESCRIPTION', 'TOTAL_DAMAGE_DESCRIPTION', 'Latitude',\n",
       "       'Longitude', 'Country'],\n",
       "      dtype='object')"
      ]
     },
     "execution_count": 33,
     "metadata": {},
     "output_type": "execute_result"
    }
   ],
   "source": [
    "data_new = data.loc[:, data.isnull().mean() <= .5]\n",
    "data_new.columns"
   ]
  },
  {
   "cell_type": "code",
   "execution_count": 34,
   "metadata": {
    "id": "a1ChOiAzytH6",
    "outputId": "e0352a73-c254-4c1d-e614-a5507150e25f"
   },
   "outputs": [
    {
     "name": "stdout",
     "output_type": "stream",
     "text": [
      "Missing percentage in  DAMAGE_DESCRIPTION  is  34.92\n",
      "Missing percentage in  TOTAL_DAMAGE_DESCRIPTION  is  38.1\n"
     ]
    }
   ],
   "source": [
    "for col in data_new.columns:\n",
    "    if data_new[col].isnull().sum():\n",
    "        print(\"Missing percentage in \",col,\" is \",round((data_new[col].isnull().sum())*100/data_new.shape[0],2))"
   ]
  },
  {
   "cell_type": "markdown",
   "metadata": {
    "id": "wXkvm3gGytH_"
   },
   "source": [
    "##### C. Display pairplot for only the numerical variables, state your observations with respect to skewness (5 MARKS)"
   ]
  },
  {
   "cell_type": "code",
   "execution_count": 35,
   "metadata": {
    "id": "IeCa9eb2ytH_"
   },
   "outputs": [],
   "source": [
    "# Drop non-numerical variables\n",
    "numerical = list(set(data_new.columns) - set(['State', 'Type','Status', 'Time', 'Country', 'Name']))"
   ]
  },
  {
   "cell_type": "code",
   "execution_count": 36,
   "metadata": {
    "id": "OzGKS37rytID",
    "outputId": "1dec0d24-188d-4d78-aa62-611901685f57"
   },
   "outputs": [
    {
     "data": {
      "image/png": "[encoded data removed]",
      "text/plain": [
       "<Figure size 900x900 with 30 Axes>"
      ]
     },
     "metadata": {
      "needs_background": "light"
     },
     "output_type": "display_data"
    }
   ],
   "source": [
    "sns.pairplot(data_new[numerical], kind=\"scatter\", palette=\"Set2\",plot_kws=dict(s=80, edgecolor=\"black\", linewidth=0.4))\n",
    "plt.show()"
   ]
  },
  {
   "cell_type": "markdown",
   "metadata": {
    "id": "OOtTTq1cytIF"
   },
   "source": [
    "* The variables are higly skewed. Most of the distribution is right tailed. Variables can be transformed to bring the distribution to normality."
   ]
  },
  {
   "cell_type": "markdown",
   "metadata": {
    "id": "uO1d--HCytIF"
   },
   "source": [
    "# SECTION C: 25 MARKS"
   ]
  },
  {
   "cell_type": "markdown",
   "metadata": {
    "id": "cafQ9BA_ytIG"
   },
   "source": [
    "### 3. Using the same dataset answer the below questions\n",
    "  \n",
    "  \n",
    " a. Construct a correlation matrix for only the numerical variables, state your observations (8 MARKS)\n",
    "  \n",
    " b. Convert the categorical variables into numeric (Name, Country, Type, Status and Time) and check for the data types (8 MARKS)\n",
    "  \n",
    " c. Create box plots to visualize the distribution statistics of the features on the basis of the variable 'Country', state your observations (9 MARKS)\""
   ]
  },
  {
   "cell_type": "markdown",
   "metadata": {
    "id": "S7R0lrQaytIG"
   },
   "source": [
    "##### a. Construct a correlation matrix for only the numerical variables, state your observations (8 MARKS)"
   ]
  },
  {
   "cell_type": "code",
   "execution_count": 37,
   "metadata": {
    "id": "8ct6pD7TytIG",
    "outputId": "53c84ea8-5577-44c8-c955-4dcc1ed9a5b4"
   },
   "outputs": [
    {
     "data": {
      "text/plain": [
       "<matplotlib.axes._subplots.AxesSubplot at 0x19f672e91f0>"
      ]
     },
     "execution_count": 37,
     "metadata": {},
     "output_type": "execute_result"
    },
    {
     "data": {
      "image/png": "[encoded data removed]",
      "text/plain": [
       "<Figure size 1080x720 with 2 Axes>"
      ]
     },
     "metadata": {
      "needs_background": "light"
     },
     "output_type": "display_data"
    }
   ],
   "source": [
    "\n",
    "# Drop non-numerical variables\n",
    "numerical = list(set(data_new.columns) - set(['State', 'Type','Status', 'Time', 'Country', 'Name']))\n",
    "\n",
    "plt.figure(figsize=(15,10)) \n",
    "\n",
    "corr_matrix = data_new[numerical].corr()\n",
    "sns.heatmap(corr_matrix,annot=True,cmap='cubehelix_r')\n"
   ]
  },
  {
   "cell_type": "markdown",
   "metadata": {
    "id": "hTP90MeyytIJ"
   },
   "source": [
    "Total Damage Million Dollars - Deaths are highly correlated with each other"
   ]
  },
  {
   "cell_type": "markdown",
   "metadata": {
    "id": "RVsbBsatytIL"
   },
   "source": [
    "##### b. Convert the categorical variables into numeric (Name, Country, Type, Status and Time) and check for the data types (8 MARKS)"
   ]
  },
  {
   "cell_type": "code",
   "execution_count": 39,
   "metadata": {
    "id": "Fv-Eo9d5ytIM"
   },
   "outputs": [],
   "source": [
    "from sklearn.preprocessing import LabelEncoder"
   ]
  },
  {
   "cell_type": "code",
   "execution_count": 42,
   "metadata": {
    "id": "4kxelmHbytIO",
    "outputId": "85657b0b-26ff-4b93-9c5f-a6005f94fe33",
    "scrolled": false
   },
   "outputs": [
    {
     "name": "stderr",
     "output_type": "stream",
     "text": [
      "<ipython-input-42-b388526164f8>:2: SettingWithCopyWarning: \n",
      "A value is trying to be set on a copy of a slice from a DataFrame.\n",
      "Try using .loc[row_indexer,col_indexer] = value instead\n",
      "\n",
      "See the caveats in the documentation: https://pandas.pydata.org/pandas-docs/stable/user_guide/indexing.html#returning-a-view-versus-a-copy\n",
      "  data_new['Name'] = number.fit_transform(data_new['Name'])\n",
      "<ipython-input-42-b388526164f8>:3: SettingWithCopyWarning: \n",
      "A value is trying to be set on a copy of a slice from a DataFrame.\n",
      "Try using .loc[row_indexer,col_indexer] = value instead\n",
      "\n",
      "See the caveats in the documentation: https://pandas.pydata.org/pandas-docs/stable/user_guide/indexing.html#returning-a-view-versus-a-copy\n",
      "  data_new['Country'] = number.fit_transform(data_new['Country'])\n",
      "<ipython-input-42-b388526164f8>:4: SettingWithCopyWarning: \n",
      "A value is trying to be set on a copy of a slice from a DataFrame.\n",
      "Try using .loc[row_indexer,col_indexer] = value instead\n",
      "\n",
      "See the caveats in the documentation: https://pandas.pydata.org/pandas-docs/stable/user_guide/indexing.html#returning-a-view-versus-a-copy\n",
      "  data_new['Type'] = number.fit_transform(data_new['Type'])\n",
      "<ipython-input-42-b388526164f8>:5: SettingWithCopyWarning: \n",
      "A value is trying to be set on a copy of a slice from a DataFrame.\n",
      "Try using .loc[row_indexer,col_indexer] = value instead\n",
      "\n",
      "See the caveats in the documentation: https://pandas.pydata.org/pandas-docs/stable/user_guide/indexing.html#returning-a-view-versus-a-copy\n",
      "  data_new['Status'] = number.fit_transform(data_new['Status'])\n",
      "<ipython-input-42-b388526164f8>:6: SettingWithCopyWarning: \n",
      "A value is trying to be set on a copy of a slice from a DataFrame.\n",
      "Try using .loc[row_indexer,col_indexer] = value instead\n",
      "\n",
      "See the caveats in the documentation: https://pandas.pydata.org/pandas-docs/stable/user_guide/indexing.html#returning-a-view-versus-a-copy\n",
      "  data_new['Time'] = number.fit_transform(data_new['Time'])\n"
     ]
    },
    {
     "data": {
      "text/html": [
       "<div>\n",
       "<style scoped>\n",
       "    .dataframe tbody tr th:only-of-type {\n",
       "        vertical-align: middle;\n",
       "    }\n",
       "\n",
       "    .dataframe tbody tr th {\n",
       "        vertical-align: top;\n",
       "    }\n",
       "\n",
       "    .dataframe thead th {\n",
       "        text-align: right;\n",
       "    }\n",
       "</style>\n",
       "<table border=\"1\" class=\"dataframe\">\n",
       "  <thead>\n",
       "    <tr style=\"text-align: right;\">\n",
       "      <th></th>\n",
       "      <th>Year</th>\n",
       "      <th>Name</th>\n",
       "      <th>Elevation</th>\n",
       "      <th>Type</th>\n",
       "      <th>Status</th>\n",
       "      <th>Time</th>\n",
       "      <th>DAMAGE_DESCRIPTION</th>\n",
       "      <th>TOTAL_DAMAGE_DESCRIPTION</th>\n",
       "      <th>Latitude</th>\n",
       "      <th>Longitude</th>\n",
       "      <th>Country</th>\n",
       "    </tr>\n",
       "  </thead>\n",
       "  <tbody>\n",
       "    <tr>\n",
       "      <th>0</th>\n",
       "      <td>Jan 2010</td>\n",
       "      <td>35</td>\n",
       "      <td>5023</td>\n",
       "      <td>4</td>\n",
       "      <td>0</td>\n",
       "      <td>0</td>\n",
       "      <td>1.0</td>\n",
       "      <td>1.0</td>\n",
       "      <td>-1.467</td>\n",
       "      <td>-78.442</td>\n",
       "      <td>2</td>\n",
       "    </tr>\n",
       "    <tr>\n",
       "      <th>1</th>\n",
       "      <td>Mar 2010</td>\n",
       "      <td>7</td>\n",
       "      <td>1666</td>\n",
       "      <td>4</td>\n",
       "      <td>0</td>\n",
       "      <td>0</td>\n",
       "      <td>NaN</td>\n",
       "      <td>NaN</td>\n",
       "      <td>63.630</td>\n",
       "      <td>-19.620</td>\n",
       "      <td>5</td>\n",
       "    </tr>\n",
       "    <tr>\n",
       "      <th>2</th>\n",
       "      <td>May 2010</td>\n",
       "      <td>26</td>\n",
       "      <td>2552</td>\n",
       "      <td>1</td>\n",
       "      <td>0</td>\n",
       "      <td>0</td>\n",
       "      <td>1.0</td>\n",
       "      <td>1.0</td>\n",
       "      <td>14.381</td>\n",
       "      <td>-90.601</td>\n",
       "      <td>4</td>\n",
       "    </tr>\n",
       "    <tr>\n",
       "      <th>3</th>\n",
       "      <td>May 2010</td>\n",
       "      <td>31</td>\n",
       "      <td>538</td>\n",
       "      <td>4</td>\n",
       "      <td>1</td>\n",
       "      <td>4</td>\n",
       "      <td>NaN</td>\n",
       "      <td>NaN</td>\n",
       "      <td>16.708</td>\n",
       "      <td>145.780</td>\n",
       "      <td>14</td>\n",
       "    </tr>\n",
       "    <tr>\n",
       "      <th>4</th>\n",
       "      <td>Aug 2010</td>\n",
       "      <td>13</td>\n",
       "      <td>1784</td>\n",
       "      <td>4</td>\n",
       "      <td>0</td>\n",
       "      <td>0</td>\n",
       "      <td>NaN</td>\n",
       "      <td>NaN</td>\n",
       "      <td>2.780</td>\n",
       "      <td>125.480</td>\n",
       "      <td>6</td>\n",
       "    </tr>\n",
       "  </tbody>\n",
       "</table>\n",
       "</div>"
      ],
      "text/plain": [
       "       Year  Name  Elevation  Type  Status  Time  DAMAGE_DESCRIPTION  \\\n",
       "0  Jan 2010    35       5023     4       0     0                 1.0   \n",
       "1  Mar 2010     7       1666     4       0     0                 NaN   \n",
       "2  May 2010    26       2552     1       0     0                 1.0   \n",
       "3  May 2010    31        538     4       1     4                 NaN   \n",
       "4  Aug 2010    13       1784     4       0     0                 NaN   \n",
       "\n",
       "   TOTAL_DAMAGE_DESCRIPTION  Latitude  Longitude  Country  \n",
       "0                       1.0    -1.467    -78.442        2  \n",
       "1                       NaN    63.630    -19.620        5  \n",
       "2                       1.0    14.381    -90.601        4  \n",
       "3                       NaN    16.708    145.780       14  \n",
       "4                       NaN     2.780    125.480        6  "
      ]
     },
     "execution_count": 42,
     "metadata": {},
     "output_type": "execute_result"
    }
   ],
   "source": [
    "number = LabelEncoder()\n",
    "data_new['Name'] = number.fit_transform(data_new['Name'])\n",
    "data_new['Country'] = number.fit_transform(data_new['Country'])\n",
    "data_new['Type'] = number.fit_transform(data_new['Type'])\n",
    "data_new['Status'] = number.fit_transform(data_new['Status'])\n",
    "data_new['Time'] = number.fit_transform(data_new['Time'])\n",
    "\n",
    "data_new.head()"
   ]
  },
  {
   "cell_type": "code",
   "execution_count": 43,
   "metadata": {
    "id": "GUimdADZytIS",
    "outputId": "e678f695-a7c3-4fa9-de19-778411ae8849"
   },
   "outputs": [
    {
     "data": {
      "text/plain": [
       "(63, 97)"
      ]
     },
     "execution_count": 43,
     "metadata": {},
     "output_type": "execute_result"
    }
   ],
   "source": [
    "data=pd.read_csv('volcano_data_2010_new.csv')\n",
    "data_dum=pd.get_dummies(data,columns=['Name', 'Country', 'Type', 'Status','Time'])\n",
    "data_dum.shape"
   ]
  },
  {
   "cell_type": "code",
   "execution_count": 48,
   "metadata": {},
   "outputs": [],
   "source": [
    "data_new['Year'] = pd.to_datetime(data_new['Year'],infer_datetime_format=True) \n",
    "data_new = data_new.set_index(['Year'])"
   ]
  },
  {
   "cell_type": "code",
   "execution_count": 49,
   "metadata": {},
   "outputs": [
    {
     "data": {
      "text/plain": [
       "int64      6\n",
       "float64    4\n",
       "dtype: int64"
      ]
     },
     "execution_count": 49,
     "metadata": {},
     "output_type": "execute_result"
    }
   ],
   "source": [
    "\n",
    "\n",
    "data_new.dtypes.value_counts()"
   ]
  },
  {
   "cell_type": "markdown",
   "metadata": {
    "id": "gY0_cnvuytIb"
   },
   "source": [
    "##### c. Create box plots to visualize the distribution statistics of the features on the basis of the variable 'Country', state your observations (9 MARKS)\""
   ]
  },
  {
   "cell_type": "code",
   "execution_count": 50,
   "metadata": {
    "id": "0B-NUMafytIb",
    "outputId": "6e5906b0-5ece-43fa-b222-aa6f764f455b"
   },
   "outputs": [
    {
     "ename": "IndexError",
     "evalue": "too many indices for array",
     "output_type": "error",
     "traceback": [
      "\u001b[1;31m---------------------------------------------------------------------------\u001b[0m",
      "\u001b[1;31mIndexError\u001b[0m                                Traceback (most recent call last)",
      "\u001b[1;32m<ipython-input-50-eb1081be8756>\u001b[0m in \u001b[0;36m<module>\u001b[1;34m\u001b[0m\n\u001b[0;32m      6\u001b[0m     \u001b[0msns\u001b[0m\u001b[1;33m.\u001b[0m\u001b[0mboxplot\u001b[0m\u001b[1;33m(\u001b[0m\u001b[0mx\u001b[0m\u001b[1;33m=\u001b[0m\u001b[1;34m\"Country\"\u001b[0m\u001b[1;33m,\u001b[0m \u001b[0my\u001b[0m\u001b[1;33m=\u001b[0m\u001b[0mdata_new\u001b[0m\u001b[1;33m.\u001b[0m\u001b[0miloc\u001b[0m\u001b[1;33m[\u001b[0m\u001b[1;33m:\u001b[0m\u001b[1;33m,\u001b[0m\u001b[0mi\u001b[0m\u001b[1;33m]\u001b[0m\u001b[1;33m,\u001b[0m \u001b[0mdata\u001b[0m\u001b[1;33m=\u001b[0m\u001b[0mdata_new\u001b[0m\u001b[1;33m,\u001b[0m \u001b[0morient\u001b[0m\u001b[1;33m=\u001b[0m\u001b[1;34m'v'\u001b[0m\u001b[1;33m,\u001b[0m \u001b[0max\u001b[0m\u001b[1;33m=\u001b[0m\u001b[0maxes\u001b[0m\u001b[1;33m[\u001b[0m\u001b[0mi\u001b[0m\u001b[1;33m]\u001b[0m\u001b[1;33m)\u001b[0m\u001b[1;33m\u001b[0m\u001b[1;33m\u001b[0m\u001b[0m\n\u001b[0;32m      7\u001b[0m \u001b[1;33m\u001b[0m\u001b[0m\n\u001b[1;32m----> 8\u001b[1;33m \u001b[0mfig\u001b[0m\u001b[1;33m.\u001b[0m\u001b[0mdelaxes\u001b[0m\u001b[1;33m(\u001b[0m\u001b[0maxes\u001b[0m\u001b[1;33m[\u001b[0m\u001b[1;36m1\u001b[0m\u001b[1;33m,\u001b[0m\u001b[1;36m1\u001b[0m\u001b[1;33m]\u001b[0m\u001b[1;33m)\u001b[0m\u001b[1;33m\u001b[0m\u001b[1;33m\u001b[0m\u001b[0m\n\u001b[0m\u001b[0;32m      9\u001b[0m \u001b[0mplt\u001b[0m\u001b[1;33m.\u001b[0m\u001b[0mtight_layout\u001b[0m\u001b[1;33m(\u001b[0m\u001b[1;33m)\u001b[0m\u001b[1;33m\u001b[0m\u001b[1;33m\u001b[0m\u001b[0m\n\u001b[0;32m     10\u001b[0m \u001b[0mplt\u001b[0m\u001b[1;33m.\u001b[0m\u001b[0mshow\u001b[0m\u001b[1;33m(\u001b[0m\u001b[1;33m)\u001b[0m\u001b[1;33m\u001b[0m\u001b[1;33m\u001b[0m\u001b[0m\n",
      "\u001b[1;31mIndexError\u001b[0m: too many indices for array"
     ]
    },
    {
     "data": {
      "image/png": "[encoded data removed]",
      "text/plain": [
       "<Figure size 1080x1080 with 10 Axes>"
      ]
     },
     "metadata": {
      "needs_background": "light"
     },
     "output_type": "display_data"
    }
   ],
   "source": [
    "## Generating 5*2 matrix of box plots\n",
    "fig, axes = plt.subplots(5, 2, figsize = (15,15))\n",
    "axes = axes.flatten()\n",
    "\n",
    "for i in range(0,len(data_new.columns)-1):\n",
    "    sns.boxplot(x=\"Country\", y=data_new.iloc[:,i], data=data_new, orient='v', ax=axes[i])\n",
    "\n",
    "fig.delaxes(axes[1,1])\n",
    "plt.tight_layout()\n",
    "plt.show()"
   ]
  },
  {
   "cell_type": "markdown",
   "metadata": {
    "id": "3E6rlMI6ytId"
   },
   "source": [
    "* The whole dataset is highly skewed. Outliers are present in the dataset, As Volcano eruptions are rarely occuring natural calamity, we are not imputing the outliers. Indonesia is the worst affected nation due to Volcanic eruptions."
   ]
  }
 ],
 "metadata": {
  "colab": {
   "collapsed_sections": [],
   "name": "EDA_MID_EXAM_SET_3_SOLUTIONS.ipynb",
   "provenance": []
  },
  "kernelspec": {
   "display_name": "Python 3 (ipykernel)",
   "language": "python",
   "name": "python3"
  },
  "language_info": {
   "codemirror_mode": {
    "name": "ipython",
    "version": 3
   },
   "file_extension": ".py",
   "mimetype": "text/x-python",
   "name": "python",
   "nbconvert_exporter": "python",
   "pygments_lexer": "ipython3",
   "version": "3.10.5"
  }
 },
 "nbformat": 4,
 "nbformat_minor": 1
}
