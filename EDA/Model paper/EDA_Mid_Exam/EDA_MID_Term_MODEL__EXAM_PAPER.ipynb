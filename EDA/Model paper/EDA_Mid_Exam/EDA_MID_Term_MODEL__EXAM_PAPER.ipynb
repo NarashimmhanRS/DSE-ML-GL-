{
 "cells": [
  {
   "cell_type": "markdown",
   "metadata": {},
   "source": [
    "<table align=\"left\" width=100%>\n",
    "    <tr>\n",
    "        <td width=\"20%\">\n",
    "            <img src=\"GL-2.png\">\n",
    "        </td>\n",
    "        <td>\n",
    "            <div align=\"center\">\n",
    "                <font color=\"#21618C\" size=8px>\n",
    "                  <b> Mid Exam <br> </b>\n",
    "                </font>\n",
    "            </div>\n",
    "        </td>\n",
    "    </tr>\n",
    "</table>"
   ]
  },
  {
   "cell_type": "markdown",
   "metadata": {},
   "source": [
    "# EDA MID EXAM MODEL PAPER\n",
    "## Total Marks 50"
   ]
  },
  {
   "cell_type": "markdown",
   "metadata": {},
   "source": [
    "---------------------------"
   ]
  },
  {
   "cell_type": "markdown",
   "metadata": {},
   "source": [
    "# SECTION A: 8 MARKS"
   ]
  },
  {
   "cell_type": "markdown",
   "metadata": {},
   "source": [
    "--------------"
   ]
  },
  {
   "cell_type": "markdown",
   "metadata": {},
   "source": [
    "### 1. What is the difference between missing value and an outlier? (8 MARKS)"
   ]
  },
  {
   "cell_type": "code",
   "execution_count": null,
   "metadata": {},
   "outputs": [],
   "source": []
  },
  {
   "cell_type": "markdown",
   "metadata": {},
   "source": [
    "# SECTION B: 17 MARKS"
   ]
  },
  {
   "cell_type": "markdown",
   "metadata": {},
   "source": [
    "-------------"
   ]
  },
  {
   "cell_type": "markdown",
   "metadata": {},
   "source": [
    "### Data Set Information: "
   ]
  },
  {
   "cell_type": "markdown",
   "metadata": {},
   "source": [
    "\n",
    "\n",
    "* Year\t\n",
    "\n",
    "* TSU\t\n",
    "\n",
    "* EQ\t\n",
    "\n",
    "* Name\t\n",
    "\n",
    "* Elevation\t\n",
    "\n",
    "* Type\t\n",
    "\n",
    "* Status\t\n",
    "\n",
    "* Time\t\n",
    "\n",
    "* VEI\t\n",
    "\n",
    "* Agent\t\n",
    "\n",
    "* DEATHS\t\n",
    "\n",
    "* DEATHS_DESCRIPTION\t\n",
    "\n",
    "* MISSING\t\n",
    "\n",
    "* MISSING_DESCRIPTION\t\n",
    "\n",
    "* INJURIES\t\n",
    "\n",
    "* INJURIES_DESCRIPTION\t\n",
    "\n",
    "* DAMAGE_MILLIONS_DOLLARS\t\n",
    "\n",
    "* DAMAGE_DESCRIPTION\t\n",
    "\n",
    "* HOUSES_DESTROYED\t\n",
    "\n",
    "* HOUSES_DESTROYED_DESCRIPTION\t\n",
    "\n",
    "* TOTAL_DEATHS\t\n",
    "\n",
    "* TOTAL_DEATHS_DESCRIPTION\t\n",
    "\n",
    "* TOTAL_MISSING\t\n",
    "\n",
    "* TOTAL_MISSING_DESCRIPTION\t\n",
    "\n",
    "* TOTAL_INJURIES\t\n",
    "\n",
    "* TOTAL_INJURIES_DESCRIPTION\t\n",
    "\n",
    "* TOTAL_DAMAGE_MILLIONS_DOLLARS\t\n",
    "\n",
    "* TOTAL_DAMAGE_DESCRIPTION\t\n",
    "\n",
    "* TOTAL_HOUSES_DESTROYED\t\n",
    "\n",
    "* TOTAL_HOUSES_DESTROYED_DESCRIPTION\t\n",
    "\n",
    "* Latitude\t\n",
    "\n",
    "* Longitude\t\n",
    "\n",
    "* Country\n"
   ]
  },
  {
   "cell_type": "code",
   "execution_count": null,
   "metadata": {},
   "outputs": [],
   "source": [
    "# Kindly change the below cells from markdown to code and execute it "
   ]
  },
  {
   "cell_type": "code",
   "execution_count": 5,
   "metadata": {},
   "outputs": [
    {
     "data": {
      "text/html": [
       "<div>\n",
       "<style scoped>\n",
       "    .dataframe tbody tr th:only-of-type {\n",
       "        vertical-align: middle;\n",
       "    }\n",
       "\n",
       "    .dataframe tbody tr th {\n",
       "        vertical-align: top;\n",
       "    }\n",
       "\n",
       "    .dataframe thead th {\n",
       "        text-align: right;\n",
       "    }\n",
       "</style>\n",
       "<table border=\"1\" class=\"dataframe\">\n",
       "  <thead>\n",
       "    <tr style=\"text-align: right;\">\n",
       "      <th></th>\n",
       "      <th>Year</th>\n",
       "      <th>TSU</th>\n",
       "      <th>EQ</th>\n",
       "      <th>Name</th>\n",
       "      <th>Elevation</th>\n",
       "      <th>Type</th>\n",
       "      <th>Status</th>\n",
       "      <th>Time</th>\n",
       "      <th>VEI</th>\n",
       "      <th>Agent</th>\n",
       "      <th>...</th>\n",
       "      <th>TOTAL_MISSING_DESCRIPTION</th>\n",
       "      <th>TOTAL_INJURIES</th>\n",
       "      <th>TOTAL_INJURIES_DESCRIPTION</th>\n",
       "      <th>TOTAL_DAMAGE_MILLIONS_DOLLARS</th>\n",
       "      <th>TOTAL_DAMAGE_DESCRIPTION</th>\n",
       "      <th>TOTAL_HOUSES_DESTROYED</th>\n",
       "      <th>TOTAL_HOUSES_DESTROYED_DESCRIPTION</th>\n",
       "      <th>Latitude</th>\n",
       "      <th>Longitude</th>\n",
       "      <th>Country</th>\n",
       "    </tr>\n",
       "  </thead>\n",
       "  <tbody>\n",
       "    <tr>\n",
       "      <th>0</th>\n",
       "      <td>Jan 2010</td>\n",
       "      <td>NaN</td>\n",
       "      <td>NaN</td>\n",
       "      <td>Tungurahua</td>\n",
       "      <td>5023</td>\n",
       "      <td>Stratovolcano</td>\n",
       "      <td>Historical</td>\n",
       "      <td>D1</td>\n",
       "      <td>3.0</td>\n",
       "      <td>NaN</td>\n",
       "      <td>...</td>\n",
       "      <td>NaN</td>\n",
       "      <td>NaN</td>\n",
       "      <td>NaN</td>\n",
       "      <td>NaN</td>\n",
       "      <td>1.0</td>\n",
       "      <td>NaN</td>\n",
       "      <td>NaN</td>\n",
       "      <td>-1.467</td>\n",
       "      <td>-78.442</td>\n",
       "      <td>Ecuador</td>\n",
       "    </tr>\n",
       "    <tr>\n",
       "      <th>1</th>\n",
       "      <td>Mar 2010</td>\n",
       "      <td>NaN</td>\n",
       "      <td>NaN</td>\n",
       "      <td>Eyjafjallajokull</td>\n",
       "      <td>1666</td>\n",
       "      <td>Stratovolcano</td>\n",
       "      <td>Historical</td>\n",
       "      <td>D1</td>\n",
       "      <td>2.0</td>\n",
       "      <td>NaN</td>\n",
       "      <td>...</td>\n",
       "      <td>NaN</td>\n",
       "      <td>NaN</td>\n",
       "      <td>NaN</td>\n",
       "      <td>NaN</td>\n",
       "      <td>NaN</td>\n",
       "      <td>NaN</td>\n",
       "      <td>NaN</td>\n",
       "      <td>63.630</td>\n",
       "      <td>-19.620</td>\n",
       "      <td>Iceland</td>\n",
       "    </tr>\n",
       "    <tr>\n",
       "      <th>2</th>\n",
       "      <td>May 2010</td>\n",
       "      <td>NaN</td>\n",
       "      <td>NaN</td>\n",
       "      <td>Pacaya</td>\n",
       "      <td>2552</td>\n",
       "      <td>Complex volcano</td>\n",
       "      <td>Historical</td>\n",
       "      <td>D1</td>\n",
       "      <td>1.0</td>\n",
       "      <td>T</td>\n",
       "      <td>...</td>\n",
       "      <td>1.0</td>\n",
       "      <td>NaN</td>\n",
       "      <td>NaN</td>\n",
       "      <td>NaN</td>\n",
       "      <td>1.0</td>\n",
       "      <td>3.0</td>\n",
       "      <td>1.0</td>\n",
       "      <td>14.381</td>\n",
       "      <td>-90.601</td>\n",
       "      <td>Guatemala</td>\n",
       "    </tr>\n",
       "    <tr>\n",
       "      <th>3</th>\n",
       "      <td>May 2010</td>\n",
       "      <td>TSU</td>\n",
       "      <td>EQ</td>\n",
       "      <td>Sarigan</td>\n",
       "      <td>538</td>\n",
       "      <td>Stratovolcano</td>\n",
       "      <td>Holocene</td>\n",
       "      <td>U</td>\n",
       "      <td>NaN</td>\n",
       "      <td>NaN</td>\n",
       "      <td>...</td>\n",
       "      <td>NaN</td>\n",
       "      <td>NaN</td>\n",
       "      <td>NaN</td>\n",
       "      <td>NaN</td>\n",
       "      <td>NaN</td>\n",
       "      <td>NaN</td>\n",
       "      <td>NaN</td>\n",
       "      <td>16.708</td>\n",
       "      <td>145.780</td>\n",
       "      <td>United States</td>\n",
       "    </tr>\n",
       "    <tr>\n",
       "      <th>4</th>\n",
       "      <td>Aug 2010</td>\n",
       "      <td>NaN</td>\n",
       "      <td>NaN</td>\n",
       "      <td>Karangetang [Api Siau]</td>\n",
       "      <td>1784</td>\n",
       "      <td>Stratovolcano</td>\n",
       "      <td>Historical</td>\n",
       "      <td>D1</td>\n",
       "      <td>3.0</td>\n",
       "      <td>NaN</td>\n",
       "      <td>...</td>\n",
       "      <td>NaN</td>\n",
       "      <td>5.0</td>\n",
       "      <td>1.0</td>\n",
       "      <td>NaN</td>\n",
       "      <td>NaN</td>\n",
       "      <td>NaN</td>\n",
       "      <td>1.0</td>\n",
       "      <td>2.780</td>\n",
       "      <td>125.480</td>\n",
       "      <td>Indonesia</td>\n",
       "    </tr>\n",
       "  </tbody>\n",
       "</table>\n",
       "<p>5 rows × 33 columns</p>\n",
       "</div>"
      ],
      "text/plain": [
       "       Year  TSU   EQ                    Name  Elevation             Type  \\\n",
       "0  Jan 2010  NaN  NaN              Tungurahua       5023    Stratovolcano   \n",
       "1  Mar 2010  NaN  NaN        Eyjafjallajokull       1666    Stratovolcano   \n",
       "2  May 2010  NaN  NaN                  Pacaya       2552  Complex volcano   \n",
       "3  May 2010  TSU   EQ                 Sarigan        538    Stratovolcano   \n",
       "4  Aug 2010  NaN  NaN  Karangetang [Api Siau]       1784    Stratovolcano   \n",
       "\n",
       "       Status Time  VEI Agent  ...  TOTAL_MISSING_DESCRIPTION  TOTAL_INJURIES  \\\n",
       "0  Historical   D1  3.0   NaN  ...                        NaN             NaN   \n",
       "1  Historical   D1  2.0   NaN  ...                        NaN             NaN   \n",
       "2  Historical   D1  1.0     T  ...                        1.0             NaN   \n",
       "3    Holocene    U  NaN   NaN  ...                        NaN             NaN   \n",
       "4  Historical   D1  3.0   NaN  ...                        NaN             5.0   \n",
       "\n",
       "   TOTAL_INJURIES_DESCRIPTION  TOTAL_DAMAGE_MILLIONS_DOLLARS  \\\n",
       "0                         NaN                            NaN   \n",
       "1                         NaN                            NaN   \n",
       "2                         NaN                            NaN   \n",
       "3                         NaN                            NaN   \n",
       "4                         1.0                            NaN   \n",
       "\n",
       "   TOTAL_DAMAGE_DESCRIPTION  TOTAL_HOUSES_DESTROYED  \\\n",
       "0                       1.0                     NaN   \n",
       "1                       NaN                     NaN   \n",
       "2                       1.0                     3.0   \n",
       "3                       NaN                     NaN   \n",
       "4                       NaN                     NaN   \n",
       "\n",
       "   TOTAL_HOUSES_DESTROYED_DESCRIPTION  Latitude  Longitude        Country  \n",
       "0                                 NaN    -1.467    -78.442        Ecuador  \n",
       "1                                 NaN    63.630    -19.620        Iceland  \n",
       "2                                 1.0    14.381    -90.601      Guatemala  \n",
       "3                                 NaN    16.708    145.780  United States  \n",
       "4                                 1.0     2.780    125.480      Indonesia  \n",
       "\n",
       "[5 rows x 33 columns]"
      ]
     },
     "execution_count": 5,
     "metadata": {},
     "output_type": "execute_result"
    }
   ],
   "source": [
    "import pandas as pd\n",
    "\n",
    "import csv\n",
    "\n",
    "with open(\"volcano_data_2010_new.csv\",\"r\")as file:\n",
    "    reader=csv.reader(file) \n",
    "    df=pd.read_csv(\"volcano_data_2010_new.csv\")\n",
    "\n",
    "df.head()\n",
    "\n"
   ]
  },
  {
   "cell_type": "code",
   "execution_count": 6,
   "metadata": {},
   "outputs": [],
   "source": [
    "import numpy as np\n",
    "import pandas as pd\n",
    "import scipy.stats as stats\n",
    "import seaborn as sns"
   ]
  },
  {
   "cell_type": "markdown",
   "metadata": {},
   "source": [
    "### 2. Read the dataset and answer the below questions\n",
    "  \n",
    "  \n",
    " A. Compare the 'Country' and 'Status' variable and provide inferences about the volcanic eruptions. (5 marks) \n",
    " \n",
    " b. Drop the columns which contain more than 50% of null values, name the new data frame as data_new (6 MARKS)\n",
    "\n",
    " c. Display pairplot for only the numerical variables, state your observations with respective to skewness (6 MARKS)"
   ]
  },
  {
   "cell_type": "code",
   "execution_count": 9,
   "metadata": {},
   "outputs": [
    {
     "data": {
      "text/plain": [
       "<AxesSubplot:xlabel='Status', ylabel='Country'>"
      ]
     },
     "execution_count": 9,
     "metadata": {},
     "output_type": "execute_result"
    },
    {
     "data": {
      "image/png": "[encoded data removed]",
      "text/plain": [
       "<Figure size 432x288 with 1 Axes>"
      ]
     },
     "metadata": {
      "needs_background": "light"
     },
     "output_type": "display_data"
    }
   ],
   "source": [
    "sns.scatterplot(y=df['Country'],x=df['Status'])"
   ]
  },
  {
   "cell_type": "code",
   "execution_count": 10,
   "metadata": {
    "scrolled": true
   },
   "outputs": [
    {
     "data": {
      "text/html": [
       "<div>\n",
       "<style scoped>\n",
       "    .dataframe tbody tr th:only-of-type {\n",
       "        vertical-align: middle;\n",
       "    }\n",
       "\n",
       "    .dataframe tbody tr th {\n",
       "        vertical-align: top;\n",
       "    }\n",
       "\n",
       "    .dataframe thead th {\n",
       "        text-align: right;\n",
       "    }\n",
       "</style>\n",
       "<table border=\"1\" class=\"dataframe\">\n",
       "  <thead>\n",
       "    <tr style=\"text-align: right;\">\n",
       "      <th></th>\n",
       "      <th>Year</th>\n",
       "      <th>Name</th>\n",
       "      <th>Elevation</th>\n",
       "      <th>Type</th>\n",
       "      <th>Status</th>\n",
       "      <th>Time</th>\n",
       "      <th>Latitude</th>\n",
       "      <th>Longitude</th>\n",
       "      <th>Country</th>\n",
       "    </tr>\n",
       "  </thead>\n",
       "  <tbody>\n",
       "    <tr>\n",
       "      <th>0</th>\n",
       "      <td>Jan 2010</td>\n",
       "      <td>Tungurahua</td>\n",
       "      <td>5023</td>\n",
       "      <td>Stratovolcano</td>\n",
       "      <td>Historical</td>\n",
       "      <td>D1</td>\n",
       "      <td>-1.467</td>\n",
       "      <td>-78.442</td>\n",
       "      <td>Ecuador</td>\n",
       "    </tr>\n",
       "    <tr>\n",
       "      <th>1</th>\n",
       "      <td>Mar 2010</td>\n",
       "      <td>Eyjafjallajokull</td>\n",
       "      <td>1666</td>\n",
       "      <td>Stratovolcano</td>\n",
       "      <td>Historical</td>\n",
       "      <td>D1</td>\n",
       "      <td>63.630</td>\n",
       "      <td>-19.620</td>\n",
       "      <td>Iceland</td>\n",
       "    </tr>\n",
       "    <tr>\n",
       "      <th>2</th>\n",
       "      <td>May 2010</td>\n",
       "      <td>Pacaya</td>\n",
       "      <td>2552</td>\n",
       "      <td>Complex volcano</td>\n",
       "      <td>Historical</td>\n",
       "      <td>D1</td>\n",
       "      <td>14.381</td>\n",
       "      <td>-90.601</td>\n",
       "      <td>Guatemala</td>\n",
       "    </tr>\n",
       "    <tr>\n",
       "      <th>3</th>\n",
       "      <td>May 2010</td>\n",
       "      <td>Sarigan</td>\n",
       "      <td>538</td>\n",
       "      <td>Stratovolcano</td>\n",
       "      <td>Holocene</td>\n",
       "      <td>U</td>\n",
       "      <td>16.708</td>\n",
       "      <td>145.780</td>\n",
       "      <td>United States</td>\n",
       "    </tr>\n",
       "    <tr>\n",
       "      <th>4</th>\n",
       "      <td>Aug 2010</td>\n",
       "      <td>Karangetang [Api Siau]</td>\n",
       "      <td>1784</td>\n",
       "      <td>Stratovolcano</td>\n",
       "      <td>Historical</td>\n",
       "      <td>D1</td>\n",
       "      <td>2.780</td>\n",
       "      <td>125.480</td>\n",
       "      <td>Indonesia</td>\n",
       "    </tr>\n",
       "    <tr>\n",
       "      <th>...</th>\n",
       "      <td>...</td>\n",
       "      <td>...</td>\n",
       "      <td>...</td>\n",
       "      <td>...</td>\n",
       "      <td>...</td>\n",
       "      <td>...</td>\n",
       "      <td>...</td>\n",
       "      <td>...</td>\n",
       "      <td>...</td>\n",
       "    </tr>\n",
       "    <tr>\n",
       "      <th>58</th>\n",
       "      <td>Feb 2018</td>\n",
       "      <td>Kilauea</td>\n",
       "      <td>1222</td>\n",
       "      <td>Shield volcano</td>\n",
       "      <td>Historical</td>\n",
       "      <td>D1</td>\n",
       "      <td>19.425</td>\n",
       "      <td>-155.292</td>\n",
       "      <td>United States</td>\n",
       "    </tr>\n",
       "    <tr>\n",
       "      <th>59</th>\n",
       "      <td>Feb 2018</td>\n",
       "      <td>Kadovar</td>\n",
       "      <td>365</td>\n",
       "      <td>Stratovolcano</td>\n",
       "      <td>Holocene</td>\n",
       "      <td>U</td>\n",
       "      <td>-3.620</td>\n",
       "      <td>144.620</td>\n",
       "      <td>Papua New Guinea</td>\n",
       "    </tr>\n",
       "    <tr>\n",
       "      <th>60</th>\n",
       "      <td>Mar 2018</td>\n",
       "      <td>Ijen</td>\n",
       "      <td>2799</td>\n",
       "      <td>Stratovolcano</td>\n",
       "      <td>Historical</td>\n",
       "      <td>D1</td>\n",
       "      <td>-8.058</td>\n",
       "      <td>114.242</td>\n",
       "      <td>Indonesia</td>\n",
       "    </tr>\n",
       "    <tr>\n",
       "      <th>61</th>\n",
       "      <td>Apr 2018</td>\n",
       "      <td>Kilauea</td>\n",
       "      <td>1222</td>\n",
       "      <td>Shield volcano</td>\n",
       "      <td>Historical</td>\n",
       "      <td>D1</td>\n",
       "      <td>19.425</td>\n",
       "      <td>-155.292</td>\n",
       "      <td>United States</td>\n",
       "    </tr>\n",
       "    <tr>\n",
       "      <th>62</th>\n",
       "      <td>Apr 2018</td>\n",
       "      <td>Aoba</td>\n",
       "      <td>1496</td>\n",
       "      <td>Shield volcano</td>\n",
       "      <td>Historical</td>\n",
       "      <td>D1</td>\n",
       "      <td>-15.400</td>\n",
       "      <td>167.830</td>\n",
       "      <td>Vanuatu</td>\n",
       "    </tr>\n",
       "  </tbody>\n",
       "</table>\n",
       "<p>63 rows × 9 columns</p>\n",
       "</div>"
      ],
      "text/plain": [
       "        Year                    Name  Elevation             Type      Status  \\\n",
       "0   Jan 2010              Tungurahua       5023    Stratovolcano  Historical   \n",
       "1   Mar 2010        Eyjafjallajokull       1666    Stratovolcano  Historical   \n",
       "2   May 2010                  Pacaya       2552  Complex volcano  Historical   \n",
       "3   May 2010                 Sarigan        538    Stratovolcano    Holocene   \n",
       "4   Aug 2010  Karangetang [Api Siau]       1784    Stratovolcano  Historical   \n",
       "..       ...                     ...        ...              ...         ...   \n",
       "58  Feb 2018                 Kilauea       1222   Shield volcano  Historical   \n",
       "59  Feb 2018                 Kadovar        365    Stratovolcano    Holocene   \n",
       "60  Mar 2018                    Ijen       2799    Stratovolcano  Historical   \n",
       "61  Apr 2018                 Kilauea       1222   Shield volcano  Historical   \n",
       "62  Apr 2018                    Aoba       1496   Shield volcano  Historical   \n",
       "\n",
       "   Time  Latitude  Longitude           Country  \n",
       "0    D1    -1.467    -78.442           Ecuador  \n",
       "1    D1    63.630    -19.620           Iceland  \n",
       "2    D1    14.381    -90.601         Guatemala  \n",
       "3     U    16.708    145.780     United States  \n",
       "4    D1     2.780    125.480         Indonesia  \n",
       "..  ...       ...        ...               ...  \n",
       "58   D1    19.425   -155.292     United States  \n",
       "59    U    -3.620    144.620  Papua New Guinea  \n",
       "60   D1    -8.058    114.242         Indonesia  \n",
       "61   D1    19.425   -155.292     United States  \n",
       "62   D1   -15.400    167.830           Vanuatu  \n",
       "\n",
       "[63 rows x 9 columns]"
      ]
     },
     "execution_count": 10,
     "metadata": {},
     "output_type": "execute_result"
    }
   ],
   "source": [
    "null_pct = df.isnull().sum() / len(df) * 100\n",
    "thresh = len(df) * 0.5\n",
    "cols_to_drop = null_pct[null_pct > thresh].index\n",
    "dfn = df.drop(cols_to_drop, axis=1)\n",
    "dfn"
   ]
  },
  {
   "cell_type": "code",
   "execution_count": 11,
   "metadata": {},
   "outputs": [
    {
     "data": {
      "text/plain": [
       "<seaborn.axisgrid.PairGrid at 0x164a80614e0>"
      ]
     },
     "execution_count": 11,
     "metadata": {},
     "output_type": "execute_result"
    },
    {
     "data": {
      "image/png": "[encoded data removed]",
      "text/plain": [
       "<Figure size 540x540 with 12 Axes>"
      ]
     },
     "metadata": {
      "needs_background": "light"
     },
     "output_type": "display_data"
    }
   ],
   "source": [
    "sns.pairplot(dfn)"
   ]
  },
  {
   "cell_type": "markdown",
   "metadata": {},
   "source": [
    "# SECTION C: 25 MARKS"
   ]
  },
  {
   "cell_type": "markdown",
   "metadata": {},
   "source": [
    "### 3. Using the same dataset answer the below questions\n",
    "  \n",
    "  \n",
    " a. Construct a correlation matrix for only the numerical variables, state your observations (10 MARKS)\n",
    "  \n",
    " b. Convert the categorical variables into numeric (Name, Country, Type, Status and Time) and check for the data types (10 MARKS)\n",
    "  \n",
    " c. Create box plots to visualize the distribution statistics of the features on the basis of the variable 'Country', state your observations (5 MARKS)"
   ]
  },
  {
   "cell_type": "code",
   "execution_count": 14,
   "metadata": {},
   "outputs": [
    {
     "data": {
      "text/html": [
       "<div>\n",
       "<style scoped>\n",
       "    .dataframe tbody tr th:only-of-type {\n",
       "        vertical-align: middle;\n",
       "    }\n",
       "\n",
       "    .dataframe tbody tr th {\n",
       "        vertical-align: top;\n",
       "    }\n",
       "\n",
       "    .dataframe thead th {\n",
       "        text-align: right;\n",
       "    }\n",
       "</style>\n",
       "<table border=\"1\" class=\"dataframe\">\n",
       "  <thead>\n",
       "    <tr style=\"text-align: right;\">\n",
       "      <th></th>\n",
       "      <th>Elevation</th>\n",
       "      <th>Latitude</th>\n",
       "      <th>Longitude</th>\n",
       "    </tr>\n",
       "  </thead>\n",
       "  <tbody>\n",
       "    <tr>\n",
       "      <th>Elevation</th>\n",
       "      <td>1.000000</td>\n",
       "      <td>-0.056505</td>\n",
       "      <td>-0.240992</td>\n",
       "    </tr>\n",
       "    <tr>\n",
       "      <th>Latitude</th>\n",
       "      <td>-0.056505</td>\n",
       "      <td>1.000000</td>\n",
       "      <td>-0.206063</td>\n",
       "    </tr>\n",
       "    <tr>\n",
       "      <th>Longitude</th>\n",
       "      <td>-0.240992</td>\n",
       "      <td>-0.206063</td>\n",
       "      <td>1.000000</td>\n",
       "    </tr>\n",
       "  </tbody>\n",
       "</table>\n",
       "</div>"
      ],
      "text/plain": [
       "           Elevation  Latitude  Longitude\n",
       "Elevation   1.000000 -0.056505  -0.240992\n",
       "Latitude   -0.056505  1.000000  -0.206063\n",
       "Longitude  -0.240992 -0.206063   1.000000"
      ]
     },
     "execution_count": 14,
     "metadata": {},
     "output_type": "execute_result"
    }
   ],
   "source": [
    "cor = dfn.corr()\n",
    "cor"
   ]
  },
  {
   "cell_type": "code",
   "execution_count": 15,
   "metadata": {
    "scrolled": true
   },
   "outputs": [
    {
     "data": {
      "text/plain": [
       "<AxesSubplot:>"
      ]
     },
     "execution_count": 15,
     "metadata": {},
     "output_type": "execute_result"
    },
    {
     "data": {
      "image/png": "[encoded data removed]",
      "text/plain": [
       "<Figure size 432x288 with 2 Axes>"
      ]
     },
     "metadata": {
      "needs_background": "light"
     },
     "output_type": "display_data"
    }
   ],
   "source": [
    "sns.heatmap(cor)"
   ]
  },
  {
   "cell_type": "code",
   "execution_count": 16,
   "metadata": {},
   "outputs": [
    {
     "data": {
      "text/plain": [
       "'elevation have weak negative corr with latitude'"
      ]
     },
     "execution_count": 16,
     "metadata": {},
     "output_type": "execute_result"
    }
   ],
   "source": [
    "'elevation have weak postive corr with latitude'\n",
    "'elevation have weak negative corr with latitude'"
   ]
  },
  {
   "cell_type": "code",
   "execution_count": 20,
   "metadata": {},
   "outputs": [
    {
     "data": {
      "text/html": [
       "<div>\n",
       "<style scoped>\n",
       "    .dataframe tbody tr th:only-of-type {\n",
       "        vertical-align: middle;\n",
       "    }\n",
       "\n",
       "    .dataframe tbody tr th {\n",
       "        vertical-align: top;\n",
       "    }\n",
       "\n",
       "    .dataframe thead th {\n",
       "        text-align: right;\n",
       "    }\n",
       "</style>\n",
       "<table border=\"1\" class=\"dataframe\">\n",
       "  <thead>\n",
       "    <tr style=\"text-align: right;\">\n",
       "      <th></th>\n",
       "      <th>Year</th>\n",
       "      <th>Name</th>\n",
       "      <th>Elevation</th>\n",
       "      <th>Type</th>\n",
       "      <th>Status</th>\n",
       "      <th>Time</th>\n",
       "      <th>Latitude</th>\n",
       "      <th>Longitude</th>\n",
       "      <th>Country</th>\n",
       "      <th>NameN</th>\n",
       "      <th>CountryC</th>\n",
       "      <th>TypeT</th>\n",
       "      <th>StatusS</th>\n",
       "      <th>TimeT</th>\n",
       "    </tr>\n",
       "  </thead>\n",
       "  <tbody>\n",
       "    <tr>\n",
       "      <th>0</th>\n",
       "      <td>Jan 2010</td>\n",
       "      <td>Tungurahua</td>\n",
       "      <td>5023</td>\n",
       "      <td>Stratovolcano</td>\n",
       "      <td>Historical</td>\n",
       "      <td>D1</td>\n",
       "      <td>-1.467</td>\n",
       "      <td>-78.442</td>\n",
       "      <td>Ecuador</td>\n",
       "      <td>35</td>\n",
       "      <td>2</td>\n",
       "      <td>4</td>\n",
       "      <td>0</td>\n",
       "      <td>0</td>\n",
       "    </tr>\n",
       "    <tr>\n",
       "      <th>1</th>\n",
       "      <td>Mar 2010</td>\n",
       "      <td>Eyjafjallajokull</td>\n",
       "      <td>1666</td>\n",
       "      <td>Stratovolcano</td>\n",
       "      <td>Historical</td>\n",
       "      <td>D1</td>\n",
       "      <td>63.630</td>\n",
       "      <td>-19.620</td>\n",
       "      <td>Iceland</td>\n",
       "      <td>7</td>\n",
       "      <td>5</td>\n",
       "      <td>4</td>\n",
       "      <td>0</td>\n",
       "      <td>0</td>\n",
       "    </tr>\n",
       "    <tr>\n",
       "      <th>2</th>\n",
       "      <td>May 2010</td>\n",
       "      <td>Pacaya</td>\n",
       "      <td>2552</td>\n",
       "      <td>Complex volcano</td>\n",
       "      <td>Historical</td>\n",
       "      <td>D1</td>\n",
       "      <td>14.381</td>\n",
       "      <td>-90.601</td>\n",
       "      <td>Guatemala</td>\n",
       "      <td>26</td>\n",
       "      <td>4</td>\n",
       "      <td>1</td>\n",
       "      <td>0</td>\n",
       "      <td>0</td>\n",
       "    </tr>\n",
       "    <tr>\n",
       "      <th>3</th>\n",
       "      <td>May 2010</td>\n",
       "      <td>Sarigan</td>\n",
       "      <td>538</td>\n",
       "      <td>Stratovolcano</td>\n",
       "      <td>Holocene</td>\n",
       "      <td>U</td>\n",
       "      <td>16.708</td>\n",
       "      <td>145.780</td>\n",
       "      <td>United States</td>\n",
       "      <td>31</td>\n",
       "      <td>14</td>\n",
       "      <td>4</td>\n",
       "      <td>1</td>\n",
       "      <td>4</td>\n",
       "    </tr>\n",
       "    <tr>\n",
       "      <th>4</th>\n",
       "      <td>Aug 2010</td>\n",
       "      <td>Karangetang [Api Siau]</td>\n",
       "      <td>1784</td>\n",
       "      <td>Stratovolcano</td>\n",
       "      <td>Historical</td>\n",
       "      <td>D1</td>\n",
       "      <td>2.780</td>\n",
       "      <td>125.480</td>\n",
       "      <td>Indonesia</td>\n",
       "      <td>13</td>\n",
       "      <td>6</td>\n",
       "      <td>4</td>\n",
       "      <td>0</td>\n",
       "      <td>0</td>\n",
       "    </tr>\n",
       "    <tr>\n",
       "      <th>...</th>\n",
       "      <td>...</td>\n",
       "      <td>...</td>\n",
       "      <td>...</td>\n",
       "      <td>...</td>\n",
       "      <td>...</td>\n",
       "      <td>...</td>\n",
       "      <td>...</td>\n",
       "      <td>...</td>\n",
       "      <td>...</td>\n",
       "      <td>...</td>\n",
       "      <td>...</td>\n",
       "      <td>...</td>\n",
       "      <td>...</td>\n",
       "      <td>...</td>\n",
       "    </tr>\n",
       "    <tr>\n",
       "      <th>58</th>\n",
       "      <td>Feb 2018</td>\n",
       "      <td>Kilauea</td>\n",
       "      <td>1222</td>\n",
       "      <td>Shield volcano</td>\n",
       "      <td>Historical</td>\n",
       "      <td>D1</td>\n",
       "      <td>19.425</td>\n",
       "      <td>-155.292</td>\n",
       "      <td>United States</td>\n",
       "      <td>16</td>\n",
       "      <td>14</td>\n",
       "      <td>3</td>\n",
       "      <td>0</td>\n",
       "      <td>0</td>\n",
       "    </tr>\n",
       "    <tr>\n",
       "      <th>59</th>\n",
       "      <td>Feb 2018</td>\n",
       "      <td>Kadovar</td>\n",
       "      <td>365</td>\n",
       "      <td>Stratovolcano</td>\n",
       "      <td>Holocene</td>\n",
       "      <td>U</td>\n",
       "      <td>-3.620</td>\n",
       "      <td>144.620</td>\n",
       "      <td>Papua New Guinea</td>\n",
       "      <td>12</td>\n",
       "      <td>10</td>\n",
       "      <td>4</td>\n",
       "      <td>1</td>\n",
       "      <td>4</td>\n",
       "    </tr>\n",
       "    <tr>\n",
       "      <th>60</th>\n",
       "      <td>Mar 2018</td>\n",
       "      <td>Ijen</td>\n",
       "      <td>2799</td>\n",
       "      <td>Stratovolcano</td>\n",
       "      <td>Historical</td>\n",
       "      <td>D1</td>\n",
       "      <td>-8.058</td>\n",
       "      <td>114.242</td>\n",
       "      <td>Indonesia</td>\n",
       "      <td>11</td>\n",
       "      <td>6</td>\n",
       "      <td>4</td>\n",
       "      <td>0</td>\n",
       "      <td>0</td>\n",
       "    </tr>\n",
       "    <tr>\n",
       "      <th>61</th>\n",
       "      <td>Apr 2018</td>\n",
       "      <td>Kilauea</td>\n",
       "      <td>1222</td>\n",
       "      <td>Shield volcano</td>\n",
       "      <td>Historical</td>\n",
       "      <td>D1</td>\n",
       "      <td>19.425</td>\n",
       "      <td>-155.292</td>\n",
       "      <td>United States</td>\n",
       "      <td>16</td>\n",
       "      <td>14</td>\n",
       "      <td>3</td>\n",
       "      <td>0</td>\n",
       "      <td>0</td>\n",
       "    </tr>\n",
       "    <tr>\n",
       "      <th>62</th>\n",
       "      <td>Apr 2018</td>\n",
       "      <td>Aoba</td>\n",
       "      <td>1496</td>\n",
       "      <td>Shield volcano</td>\n",
       "      <td>Historical</td>\n",
       "      <td>D1</td>\n",
       "      <td>-15.400</td>\n",
       "      <td>167.830</td>\n",
       "      <td>Vanuatu</td>\n",
       "      <td>0</td>\n",
       "      <td>15</td>\n",
       "      <td>3</td>\n",
       "      <td>0</td>\n",
       "      <td>0</td>\n",
       "    </tr>\n",
       "  </tbody>\n",
       "</table>\n",
       "<p>63 rows × 14 columns</p>\n",
       "</div>"
      ],
      "text/plain": [
       "        Year                    Name  Elevation             Type      Status  \\\n",
       "0   Jan 2010              Tungurahua       5023    Stratovolcano  Historical   \n",
       "1   Mar 2010        Eyjafjallajokull       1666    Stratovolcano  Historical   \n",
       "2   May 2010                  Pacaya       2552  Complex volcano  Historical   \n",
       "3   May 2010                 Sarigan        538    Stratovolcano    Holocene   \n",
       "4   Aug 2010  Karangetang [Api Siau]       1784    Stratovolcano  Historical   \n",
       "..       ...                     ...        ...              ...         ...   \n",
       "58  Feb 2018                 Kilauea       1222   Shield volcano  Historical   \n",
       "59  Feb 2018                 Kadovar        365    Stratovolcano    Holocene   \n",
       "60  Mar 2018                    Ijen       2799    Stratovolcano  Historical   \n",
       "61  Apr 2018                 Kilauea       1222   Shield volcano  Historical   \n",
       "62  Apr 2018                    Aoba       1496   Shield volcano  Historical   \n",
       "\n",
       "   Time  Latitude  Longitude           Country  NameN  CountryC  TypeT  \\\n",
       "0    D1    -1.467    -78.442           Ecuador     35         2      4   \n",
       "1    D1    63.630    -19.620           Iceland      7         5      4   \n",
       "2    D1    14.381    -90.601         Guatemala     26         4      1   \n",
       "3     U    16.708    145.780     United States     31        14      4   \n",
       "4    D1     2.780    125.480         Indonesia     13         6      4   \n",
       "..  ...       ...        ...               ...    ...       ...    ...   \n",
       "58   D1    19.425   -155.292     United States     16        14      3   \n",
       "59    U    -3.620    144.620  Papua New Guinea     12        10      4   \n",
       "60   D1    -8.058    114.242         Indonesia     11         6      4   \n",
       "61   D1    19.425   -155.292     United States     16        14      3   \n",
       "62   D1   -15.400    167.830           Vanuatu      0        15      3   \n",
       "\n",
       "    StatusS  TimeT  \n",
       "0         0      0  \n",
       "1         0      0  \n",
       "2         0      0  \n",
       "3         1      4  \n",
       "4         0      0  \n",
       "..      ...    ...  \n",
       "58        0      0  \n",
       "59        1      4  \n",
       "60        0      0  \n",
       "61        0      0  \n",
       "62        0      0  \n",
       "\n",
       "[63 rows x 14 columns]"
      ]
     },
     "execution_count": 20,
     "metadata": {},
     "output_type": "execute_result"
    }
   ],
   "source": [
    "from sklearn.preprocessing import LabelEncoder\n",
    "\n",
    "le_name = LabelEncoder()\n",
    "le_country = LabelEncoder()\n",
    "le_type = LabelEncoder()\n",
    "le_status = LabelEncoder()\n",
    "le_time = LabelEncoder()\n",
    "\n",
    "# Fit and transform the categorical variables using the LabelEncoder\n",
    "dfn['NameN'] = le_name.fit_transform(dfn['Name'])\n",
    "dfn['CountryC'] = le_country.fit_transform(dfn['Country'])\n",
    "dfn['TypeT'] = le_type.fit_transform(dfn['Type'])\n",
    "dfn['StatusS'] = le_status.fit_transform(dfn['Status'])\n",
    "dfn['TimeT'] = le_time.fit_transform(dfn['Time'])\n",
    "\n",
    "# Print the transformed data\n",
    "dfn\n",
    "\n",
    "\n",
    "\n",
    "\n"
   ]
  },
  {
   "cell_type": "code",
   "execution_count": 22,
   "metadata": {},
   "outputs": [
    {
     "data": {
      "text/plain": [
       "Year          object\n",
       "Name          object\n",
       "Elevation      int64\n",
       "Type          object\n",
       "Status        object\n",
       "Time          object\n",
       "Latitude     float64\n",
       "Longitude    float64\n",
       "Country       object\n",
       "NameN          int32\n",
       "CountryC       int32\n",
       "TypeT          int32\n",
       "StatusS        int32\n",
       "TimeT          int32\n",
       "dtype: object"
      ]
     },
     "execution_count": 22,
     "metadata": {},
     "output_type": "execute_result"
    }
   ],
   "source": [
    "dfn.dtypes"
   ]
  },
  {
   "cell_type": "code",
   "execution_count": 25,
   "metadata": {},
   "outputs": [
    {
     "data": {
      "text/plain": [
       "<AxesSubplot:xlabel='Elevation', ylabel='Country'>"
      ]
     },
     "execution_count": 25,
     "metadata": {},
     "output_type": "execute_result"
    },
    {
     "data": {
      "image/png": "[encoded data removed]",
      "text/plain": [
       "<Figure size 432x288 with 1 Axes>"
      ]
     },
     "metadata": {
      "needs_background": "light"
     },
     "output_type": "display_data"
    }
   ],
   "source": [
    "sns.boxplot(y='Country', x='Elevation', data=dfn)"
   ]
  },
  {
   "cell_type": "code",
   "execution_count": 29,
   "metadata": {},
   "outputs": [
    {
     "data": {
      "text/plain": [
       "<AxesSubplot:xlabel='Longitude', ylabel='Country'>"
      ]
     },
     "execution_count": 29,
     "metadata": {},
     "output_type": "execute_result"
    },
    {
     "data": {
      "image/png": "[encoded data removed]",
      "text/plain": [
       "<Figure size 432x288 with 1 Axes>"
      ]
     },
     "metadata": {
      "needs_background": "light"
     },
     "output_type": "display_data"
    }
   ],
   "source": [
    "sns.boxplot(y='Country', x='Longitude', data=dfn)"
   ]
  },
  {
   "cell_type": "code",
   "execution_count": null,
   "metadata": {},
   "outputs": [],
   "source": []
  }
 ],
 "metadata": {
  "kernelspec": {
   "display_name": "Python 3 (ipykernel)",
   "language": "python",
   "name": "python3"
  },
  "language_info": {
   "codemirror_mode": {
    "name": "ipython",
    "version": 3
   },
   "file_extension": ".py",
   "mimetype": "text/x-python",
   "name": "python",
   "nbconvert_exporter": "python",
   "pygments_lexer": "ipython3",
   "version": "3.10.5"
  }
 },
 "nbformat": 4,
 "nbformat_minor": 2
}
