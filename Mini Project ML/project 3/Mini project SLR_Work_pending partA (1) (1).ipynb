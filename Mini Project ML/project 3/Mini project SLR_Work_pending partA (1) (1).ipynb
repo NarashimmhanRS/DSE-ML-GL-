{
 "cells": [
  {
   "cell_type": "markdown",
   "id": "0e18acb0",
   "metadata": {},
   "source": [
    "# Step 1: Understand the business problem."
   ]
  },
  {
   "cell_type": "code",
   "execution_count": 1,
   "id": "67b09b12",
   "metadata": {},
   "outputs": [
    {
     "ename": "SyntaxError",
     "evalue": "invalid syntax (2347508068.py, line 1)",
     "output_type": "error",
     "traceback": [
      "\u001b[1;36m  Input \u001b[1;32mIn [1]\u001b[1;36m\u001b[0m\n\u001b[1;33m    1. URL - Website of the Zomato for each restaurant. - Object datatype\u001b[0m\n\u001b[1;37m       ^\u001b[0m\n\u001b[1;31mSyntaxError\u001b[0m\u001b[1;31m:\u001b[0m invalid syntax\n"
     ]
    }
   ],
   "source": [
    "1. URL - Website of the Zomato for each restaurant. - Object datatype\n",
    "2. Address - Address of the Restaurant. - Object datatype\n",
    "3. Name - Name of the restaurant. - Object datatype\n",
    "4. Online Order - The customer ordered the menu online or not. - Object datatype\n",
    "5. Book table - The customer has booked the table or not. - Object datatype\n",
    "6. Rate - Rating of the restaurant that has by the customer. - Numerical datatype\n",
    "7. Votes - The votes have been given by the customer to the restaurant. - Numerical \n",
    "datatype\n",
    "8. Phone - Contact number of the Restaurant. - Object datatype\n",
    "9. Location - The city name where the restaurant is located. - Object datatype\n",
    "10. Rest Type - The type of restaurant. - Object datatype\n",
    "11. Dish liked - Dishes liked by the customer from the restaurant. - Object datatype\n",
    "12. Cuisines - The cuisines that have been prepared by the restaurant. - Object datatype\n",
    "13. Approx Cost for two people - The approximate cost of the customer for 2 people. -\n",
    "Number datatype\n",
    "14. Reviews list - The reviews made by the customers on the restaurant. - Object \n",
    "datatype\n",
    "15. Menu Item - The menu items that are usually available at the restaurant. - Object \n",
    "datatype\n",
    "16. Listed in (type) - Contains the type of the meal. - Object datatype\n",
    "17. Listed in (city) - This contains the neighborhood in which the restaurant is listed. -\n",
    "Object datatype"
   ]
  },
  {
   "cell_type": "code",
   "execution_count": 3,
   "id": "04576f6e",
   "metadata": {},
   "outputs": [],
   "source": [
    "import pandas as pd\n",
    "import numpy as np\n",
    "\n",
    "import matplotlib.pyplot as plt\n",
    "import seaborn as sns\n",
    "\n",
    "import warnings\n",
    "warnings.filterwarnings(\"ignore\")\n",
    "\n",
    "# display all columns of the dataframe\n",
    "pd.options.display.max_columns = None\n",
    "\n",
    "# display all rows of the dataframe\n",
    "pd.options.display.max_rows = None\n",
    " \n",
    "# to display the float values upto 6 decimal places     \n",
    "pd.options.display.float_format = '{:.6f}'.format\n",
    "from statsmodels.tools.eval_measures import rmse\n",
    "from sklearn.metrics import mean_absolute_error\n",
    "from sklearn.metrics import mean_squared_error\n",
    "from sklearn.preprocessing import StandardScaler\n",
    "from sklearn.linear_model import LinearRegression\n",
    "from sklearn.model_selection import cross_val_score\n",
    "from sklearn.metrics import r2_score"
   ]
  },
  {
   "cell_type": "code",
   "execution_count": null,
   "id": "f231f116",
   "metadata": {},
   "outputs": [],
   "source": [
    "import re"
   ]
  },
  {
   "cell_type": "markdown",
   "id": "b8bf59e6",
   "metadata": {},
   "source": [
    "# step 2: Read the data, and convert the data types.\n",
    "Note: The data set has numerical and categorical data but due to noise(anomaly) in \n",
    "the data, the columns are treated as the object type. And You may feel like converting the \n",
    "features into numerical at this step if not appropriate at this stage, In that case, feel free to \n",
    "convert the variable to the appropriate type in the further step as well based on your way \n",
    "of analyzing the data.\n"
   ]
  },
  {
   "cell_type": "code",
   "execution_count": null,
   "id": "436aa5c7",
   "metadata": {},
   "outputs": [],
   "source": [
    "zomato_orgnl=pd.read_csv('zomato.csv')\n",
    "zomato_orgnl.head()"
   ]
  },
  {
   "cell_type": "code",
   "execution_count": null,
   "id": "67bd3690",
   "metadata": {},
   "outputs": [],
   "source": [
    "zomato_orgnl.shape"
   ]
  },
  {
   "cell_type": "code",
   "execution_count": null,
   "id": "4a43c6a9",
   "metadata": {},
   "outputs": [],
   "source": [
    "zomato_orgnl.info()"
   ]
  },
  {
   "cell_type": "code",
   "execution_count": null,
   "id": "33345e37",
   "metadata": {},
   "outputs": [],
   "source": [
    "zomato=zomato_orgnl.drop(['url','dish_liked','phone'],axis=1)"
   ]
  },
  {
   "cell_type": "code",
   "execution_count": null,
   "id": "fe6b12a1",
   "metadata": {},
   "outputs": [],
   "source": [
    "#Changing the Columns Names\n",
    "zomato_orgnl.columns\n",
    "zomato = zomato.rename(columns={'approx_cost(for two people)':'cost','listed_in(type)':'type','listed_in(city)':'city'})"
   ]
  },
  {
   "cell_type": "code",
   "execution_count": null,
   "id": "bc240947",
   "metadata": {
    "scrolled": true
   },
   "outputs": [],
   "source": [
    "zomato['cost'] = zomato['cost'].astype(str)\n",
    "zomato['cost'] = zomato['cost'].apply(lambda x: x.replace(',','.'))\n",
    "zomato['cost'] = zomato['cost'].astype(float)\n",
    "zomato.info()"
   ]
  },
  {
   "cell_type": "code",
   "execution_count": null,
   "id": "38cbfb4c",
   "metadata": {},
   "outputs": [],
   "source": [
    "def filter_rate(val):\n",
    "    if (val=='-' or val=='NEW'):\n",
    "        return np.nan\n",
    "    else:\n",
    "        val=str(val).split('/')[0] # e.g 4.3/5 -> ['4.3', '5'] -> float(4.3) -> 4.3\n",
    "    return float(val)\n",
    "\n",
    "zomato['rate']=zomato['rate'].apply(filter_rate)\n",
    "\n"
   ]
  },
  {
   "cell_type": "markdown",
   "id": "1170f4a6",
   "metadata": {},
   "source": [
    "Step 3: Perform the described method for the data, Try to find any essential points from the \n",
    "described analysis. And check the missing values and Duplicate records. Impute the \n",
    "missing values in the best way possible.\n",
    "Note: To impute the missing values with parameters, You must find the best parameter.\n",
    "Hints:\n",
    "● Check the distribution using plots. And check the Skewness, Kurtosis and etc."
   ]
  },
  {
   "cell_type": "code",
   "execution_count": null,
   "id": "3e53a65b",
   "metadata": {},
   "outputs": [],
   "source": [
    "zomato.describe()"
   ]
  },
  {
   "cell_type": "code",
   "execution_count": null,
   "id": "e15a92c0",
   "metadata": {},
   "outputs": [],
   "source": [
    "zomato.describe(include=object)\n"
   ]
  },
  {
   "cell_type": "code",
   "execution_count": null,
   "id": "9bcf3b5f",
   "metadata": {},
   "outputs": [],
   "source": [
    "zomato.isnull().sum()"
   ]
  },
  {
   "cell_type": "code",
   "execution_count": null,
   "id": "95ad61ab",
   "metadata": {},
   "outputs": [],
   "source": [
    "zomato.isnull().sum()/zomato.isnull().count()*100"
   ]
  },
  {
   "cell_type": "code",
   "execution_count": null,
   "id": "0e18be44",
   "metadata": {},
   "outputs": [],
   "source": [
    "zomato['rate'].fillna(zomato['rate'].mode()[0],inplace=True)\n",
    "zomato['rest_type'].fillna(zomato['rest_type'].mode()[0],inplace=True)\n",
    "zomato['cuisines'].fillna(zomato['cuisines'].mode()[0],inplace=True)\n",
    "zomato['location'].fillna(zomato['location'].mode()[0],inplace=True)\n",
    "zomato['cost'].fillna(zomato['cost'].mean(),inplace=True)"
   ]
  },
  {
   "cell_type": "code",
   "execution_count": null,
   "id": "82771236",
   "metadata": {},
   "outputs": [],
   "source": [
    "df_num=zomato.select_dtypes(include=np.number)\n",
    "df_num.columns"
   ]
  },
  {
   "cell_type": "code",
   "execution_count": null,
   "id": "28bdddcd",
   "metadata": {},
   "outputs": [],
   "source": [
    "t=1\n",
    "plt.figure(figsize=(15,10))\n",
    "for i in df_num:\n",
    "    plt.subplot(2,2,t)\n",
    "    sns.distplot(zomato[i])\n",
    "    plt.xticks(rotation=90)\n",
    "    t+=1\n",
    "plt.show()\n",
    "plt.tight_layout()"
   ]
  },
  {
   "cell_type": "code",
   "execution_count": null,
   "id": "d98243cc",
   "metadata": {},
   "outputs": [],
   "source": [
    "#Removing the Duplicates\n",
    "zomato.duplicated().sum()\n",
    "zomato.drop_duplicates(inplace=True)"
   ]
  },
  {
   "cell_type": "code",
   "execution_count": null,
   "id": "8586aeb6",
   "metadata": {},
   "outputs": [],
   "source": [
    "zomato.shape"
   ]
  },
  {
   "cell_type": "markdown",
   "id": "b3556bf8",
   "metadata": {},
   "source": [
    "# Step 4: Once the basic preprocessing is done like converting the data types, missing value  imputation, and duplicate rows. perform the EDA(Exploratory Data Analysis) on the data to  find the various factors that will help to understand the cost per two persons."
   ]
  },
  {
   "cell_type": "code",
   "execution_count": null,
   "id": "8c7b51f8",
   "metadata": {},
   "outputs": [],
   "source": [
    "df_cat=zomato.select_dtypes(include=object)\n",
    "df_cat.columns"
   ]
  },
  {
   "cell_type": "code",
   "execution_count": 2,
   "id": "af6a8d3d",
   "metadata": {},
   "outputs": [
    {
     "ename": "NameError",
     "evalue": "name 'sns' is not defined",
     "output_type": "error",
     "traceback": [
      "\u001b[1;31m---------------------------------------------------------------------------\u001b[0m",
      "\u001b[1;31mNameError\u001b[0m                                 Traceback (most recent call last)",
      "Input \u001b[1;32mIn [2]\u001b[0m, in \u001b[0;36m<cell line: 1>\u001b[1;34m()\u001b[0m\n\u001b[1;32m----> 1\u001b[0m \u001b[43msns\u001b[49m\u001b[38;5;241m.\u001b[39mcountplot(zomato[\u001b[38;5;124m'\u001b[39m\u001b[38;5;124monline_order\u001b[39m\u001b[38;5;124m'\u001b[39m])\n\u001b[0;32m      2\u001b[0m fig \u001b[38;5;241m=\u001b[39m plt\u001b[38;5;241m.\u001b[39mgcf()\n\u001b[0;32m      3\u001b[0m fig\u001b[38;5;241m.\u001b[39mset_size_inches(\u001b[38;5;241m10\u001b[39m,\u001b[38;5;241m10\u001b[39m)\n",
      "\u001b[1;31mNameError\u001b[0m: name 'sns' is not defined"
     ]
    }
   ],
   "source": [
    "sns.countplot(zomato['online_order'])\n",
    "fig = plt.gcf()\n",
    "fig.set_size_inches(10,10)\n",
    "plt.title('Restaurants delivering online or Not')"
   ]
  },
  {
   "cell_type": "markdown",
   "id": "61224bc9",
   "metadata": {},
   "source": [
    "# How many restaurants are present at different city?"
   ]
  },
  {
   "cell_type": "code",
   "execution_count": null,
   "id": "0271b07a",
   "metadata": {},
   "outputs": [],
   "source": [
    "zomato.city.value_counts()"
   ]
  },
  {
   "cell_type": "code",
   "execution_count": null,
   "id": "8f7f1833",
   "metadata": {},
   "outputs": [],
   "source": [
    "# Countplot of city\n",
    "\n",
    "plt.figure(figsize=(20,10))\n",
    "sns.countplot(x='city', data=zomato)\n",
    "plt.title('Count of Restaurants at each Location', fontsize=20, fontweight='bold')\n",
    "plt.xticks(rotation=90)\n",
    "plt.show()"
   ]
  },
  {
   "cell_type": "markdown",
   "id": "03f304d7",
   "metadata": {},
   "source": [
    "There are more than 3000 restaurants in BTM. Quick Google Search shows us that BTM is posh residential area so because of that there are quite a lot of restaurants and also it is famous for cafes. JP Nagar HSR, Koramangala 5th block, Whitefield, Indiranagar have more than 2000 restaurants and Jayanagar, Marathahalli, Bannerghatta Road have more than 1000 restaurants."
   ]
  },
  {
   "cell_type": "markdown",
   "id": "42396813",
   "metadata": {},
   "source": [
    "# Restaurant types"
   ]
  },
  {
   "cell_type": "code",
   "execution_count": null,
   "id": "43a4587c",
   "metadata": {},
   "outputs": [],
   "source": [
    "# Bar plot of rest_type\n",
    "\n",
    "plt.figure(figsize=(20,10))\n",
    "sns.countplot(x='rest_type', data=zomato)\n",
    "plt.xticks(rotation=90)\n",
    "plt.title('Count of each restaurant type', fontsize=20, fontweight='bold')\n",
    "plt.show()"
   ]
  },
  {
   "cell_type": "code",
   "execution_count": null,
   "id": "a0731283",
   "metadata": {},
   "outputs": [],
   "source": [
    "plt.figure(figsize=(15,7))\n",
    "chains = zomato['name'].value_counts()[:20]\n",
    "sns.barplot(x=chains, y=chains.index, palette='Set1')\n",
    "plt.xlabel(\"Number of outlets\", size=15)\n",
    "plt.ylabel(\"Name of Restaurants\", size=15)\n",
    "plt.title(\"Most famous restaurant chains\", fontsize=20, fontweight='bold')\n",
    "plt.show()"
   ]
  },
  {
   "cell_type": "code",
   "execution_count": null,
   "id": "16a94cd8",
   "metadata": {},
   "outputs": [],
   "source": [
    "# Cafe Coffee Day has maximum outlets in the city and is followed by Onesta with number of outlets little more than 80. It can be seen that most famous restaurant chains have more than 50 outlets."
   ]
  },
  {
   "cell_type": "code",
   "execution_count": null,
   "id": "bd3fd0a5",
   "metadata": {},
   "outputs": [],
   "source": [
    "df_online_booking = zomato.groupby([\"online_order\", \"book_table\"]).size().reset_index(name = \"Count\")\n",
    "plt.figure(figsize = (15,7))\n",
    "sns.barplot(x=\"online_order\", y=\"Count\", hue=\"book_table\", data=df_online_booking)\n",
    "plt.title(\"Online Order - Book Table\", fontsize=20, fontweight='bold')\n",
    "plt.show()"
   ]
  },
  {
   "cell_type": "code",
   "execution_count": null,
   "id": "0ff30ec6",
   "metadata": {},
   "outputs": [],
   "source": [
    "label1 = [\"Accepted\",'Not Accepted']\n",
    "label2 = ['Not Accepted', \"Accepted\"]\n",
    "\n",
    "df_online = zomato['online_order'].value_counts().values\n",
    "df_table = zomato['book_table'].value_counts().values\n",
    "\n",
    "fig, ax1 = plt.subplots(nrows=1, ncols=2)\n",
    "\n",
    "color1 = ['#FA744F', '#16817A']\n",
    "color2 = ['#FC5050', '#FFD00C']\n",
    "\n",
    "ax1[0].pie(df_online, labels=label1, autopct='%1.1f%%', startangle=90, colors=color1)\n",
    "ax1[0].set_title('Online order', fontsize=20, fontweight='bold')\n",
    "\n",
    "ax1[1].pie(df_table, labels=label2, autopct='%1.1f%%', startangle=90, colors=color2)\n",
    "ax1[1].set_title('Book table', fontsize=20, fontweight='bold')"
   ]
  },
  {
   "cell_type": "code",
   "execution_count": null,
   "id": "17075b77",
   "metadata": {},
   "outputs": [],
   "source": [
    "plt.rcParams['figure.figsize'] = (13, 9)\n",
    "Y = pd.crosstab(zomato['rate'], zomato['book_table'])\n",
    "Y.div(Y.sum(1).astype(float), axis = 0).plot(kind = 'bar', stacked = True,color=['red','yellow'])\n",
    "plt.title('table booking vs rate', fontweight = 30, fontsize = 20)\n",
    "plt.legend(loc=\"upper right\")\n",
    "plt.show()"
   ]
  },
  {
   "cell_type": "code",
   "execution_count": null,
   "id": "23faea09",
   "metadata": {},
   "outputs": [],
   "source": [
    "sns.countplot(zomato['city'])\n",
    "sns.countplot(zomato['city']).set_xticklabels(sns.countplot(zomato['city']).get_xticklabels(), rotation=90, ha=\"right\")\n",
    "fig = plt.gcf()\n",
    "fig.set_size_inches(13,13)\n",
    "plt.title('Location')"
   ]
  },
  {
   "cell_type": "code",
   "execution_count": null,
   "id": "e322e06f",
   "metadata": {},
   "outputs": [],
   "source": [
    "loc_plt=pd.crosstab(zomato['rate'],zomato['city'])\n",
    "loc_plt.plot(kind='bar',stacked=True);\n",
    "plt.title('Location - Rating',fontsize=15,fontweight='bold')\n",
    "plt.ylabel('Location',fontsize=10,fontweight='bold')\n",
    "plt.xlabel('Rating',fontsize=10,fontweight='bold')\n",
    "plt.xticks(fontsize=10,fontweight='bold')\n",
    "plt.yticks(fontsize=10,fontweight='bold');\n",
    "plt.legend().remove();"
   ]
  },
  {
   "cell_type": "code",
   "execution_count": null,
   "id": "c3060afb",
   "metadata": {},
   "outputs": [],
   "source": [
    "plt.figure(figsize=(12,6)) \n",
    "zomato_orgnl['location'].value_counts()[:10].plot(kind = 'pie')\n",
    "plt.title('Location', weight = 'bold')"
   ]
  },
  {
   "cell_type": "code",
   "execution_count": null,
   "id": "9570bb96",
   "metadata": {},
   "outputs": [],
   "source": [
    "plt.figure(figsize = (12,6))\n",
    "names = zomato_orgnl['location'].value_counts()[:10].index\n",
    "values = zomato_orgnl['location'].value_counts()[:10].values\n",
    "colors = ['gold', 'red', 'lightcoral', 'lightskyblue','blue','green','silver']\n",
    "explode = (0.1, 0, 0, 0,0,0,0,0,0,0)  # explode 1st slice\n",
    "\n",
    "plt.pie(values, explode=explode, labels=names, colors=colors,autopct='%1.1f%%', shadow=True, startangle=140)\n",
    "plt.axis('equal')\n",
    "plt.title(\"Percentage of restaurants present in that location\", weight = 'bold')\n",
    "plt.show()"
   ]
  },
  {
   "cell_type": "code",
   "execution_count": null,
   "id": "6855e701",
   "metadata": {},
   "outputs": [],
   "source": [
    "#zomato.menu_item = np.where(zomato.menu_item == '[]',zomato.menu_item.value_counts().index[1],zomato.menu_item)"
   ]
  },
  {
   "cell_type": "markdown",
   "id": "7842881f",
   "metadata": {},
   "source": [
    "# Step 5: Make a copy of the data set and Perform the preprocessing that require for the  model.Note: You can see many categorical variables with a high number of unique values. Therefore do not keep dropping the variables as the first option, try to create new variables  or perform any other feature engineering methods."
   ]
  },
  {
   "cell_type": "code",
   "execution_count": null,
   "id": "ced89b69",
   "metadata": {},
   "outputs": [],
   "source": [
    "def Encode(zomato):\n",
    "    for column in zomato.columns[~zomato.columns.isin(['rate', 'cost', 'votes'])]:\n",
    "        zomato[column] = zomato[column].factorize()[0]\n",
    "    return zomato\n",
    "\n",
    "zomato_en = Encode(zomato.copy())"
   ]
  },
  {
   "cell_type": "code",
   "execution_count": null,
   "id": "cafe824d",
   "metadata": {},
   "outputs": [],
   "source": [
    "#zomato['Number_of_cuisines_offered'] = zomato['cuisines'].apply(lambda x : len(x.split(',')))"
   ]
  },
  {
   "cell_type": "code",
   "execution_count": null,
   "id": "d545f963",
   "metadata": {},
   "outputs": [],
   "source": [
    "#df_numerical=zomato.select_dtypes(include=np.number)\n",
    "#df_categorical=zomato.select_dtypes(include=object)"
   ]
  },
  {
   "cell_type": "code",
   "execution_count": null,
   "id": "0d1bd2a8",
   "metadata": {},
   "outputs": [],
   "source": [
    "#df_numerical.columns"
   ]
  },
  {
   "cell_type": "code",
   "execution_count": null,
   "id": "5c4f259d",
   "metadata": {},
   "outputs": [],
   "source": [
    "#df_categorical.columns"
   ]
  },
  {
   "cell_type": "code",
   "execution_count": null,
   "id": "15993ca8",
   "metadata": {},
   "outputs": [],
   "source": [
    "#from sklearn.preprocessing import MinMaxScaler\n",
    "#X_scaler = MinMaxScaler()\n",
    "\n",
    "#num_scaled = X_scaler.fit_transform(df_numerical)\n",
    "\n",
    "#df_num_scaled = pd.DataFrame(num_scaled, columns = df_numerical.columns)"
   ]
  },
  {
   "cell_type": "code",
   "execution_count": null,
   "id": "76794104",
   "metadata": {},
   "outputs": [],
   "source": [
    "#len(df_categorical.city.unique())"
   ]
  },
  {
   "cell_type": "code",
   "execution_count": null,
   "id": "a25f155e",
   "metadata": {},
   "outputs": [],
   "source": [
    "#df_dummy=pd.get_dummies(data=df_categorical,columns=['book_table','online_order','type'],drop_first=True)"
   ]
  },
  {
   "cell_type": "code",
   "execution_count": null,
   "id": "929553a7",
   "metadata": {},
   "outputs": [],
   "source": [
    "#df_dummy['cuisines']=df_dummy['cuisines'].replace(df_dummy.cuisines.value_counts(1))\n",
    "#df_dummy['name']=df_dummy['name'].replace(df_dummy.name.value_counts(1))\n",
    "#df_dummy['rest_type']=df_dummy['rest_type'].replace(df_dummy.rest_type.value_counts(1))\n",
    "#df_dummy['city']=df_dummy['city'].replace(df_dummy.city.value_counts(1))"
   ]
  },
  {
   "cell_type": "code",
   "execution_count": null,
   "id": "efd39d67",
   "metadata": {},
   "outputs": [],
   "source": [
    "#zomato = pd.concat([df_num_scaled,df_dummy], axis = 1)"
   ]
  },
  {
   "cell_type": "code",
   "execution_count": null,
   "id": "03a11ac9",
   "metadata": {},
   "outputs": [],
   "source": [
    "#zomato.head()"
   ]
  },
  {
   "cell_type": "markdown",
   "id": "cc7abfa9",
   "metadata": {},
   "source": [
    "# Step 6: Perform statistical hypothesis testing on features to get an idea of whether features are impacting the target variables."
   ]
  },
  {
   "cell_type": "markdown",
   "id": "43b1fd23",
   "metadata": {},
   "source": [
    "Dividing the dataset into categorical and numerical columns and then finding pvalue for each independent feature corresponding to dependent feture(cost). Keeping pvalue threshold as 0.05\n",
    "\n",
    "1. Hypothesis Testing for Categorical columns and stroke\n",
    "\n",
    "Hypothesis :\n",
    "\n",
    "H0:Independent variables are not significantly associated with the dependent variable (cost)\n",
    "\n",
    "H1:Independent variables are significantly associated with the dependent variable (cost)\n",
    "\n",
    "if pvalue<0.05 we will reject the null hypothesis."
   ]
  },
  {
   "cell_type": "code",
   "execution_count": null,
   "id": "50c21475",
   "metadata": {},
   "outputs": [],
   "source": [
    "cat_cols = ['name', 'online_order', 'book_table', 'rest_type', 'cuisines','reviews_list', 'type', 'city']"
   ]
  },
  {
   "cell_type": "code",
   "execution_count": null,
   "id": "32d059ac",
   "metadata": {},
   "outputs": [],
   "source": [
    "# To perform hypothesis between categorical columns we are using chi2_contingency"
   ]
  },
  {
   "cell_type": "code",
   "execution_count": null,
   "id": "f48713ab",
   "metadata": {},
   "outputs": [],
   "source": [
    "from scipy.stats import chi2_contingency\n",
    "pvalue_score = pd.DataFrame(columns=['Feature','pvalue'])\n",
    "\n",
    "\n",
    "def update_score_categorical(cat_cols):\n",
    "    \n",
    "    global pvalue_score\n",
    "    for col in cat_cols:\n",
    "        contingency_table = pd.crosstab(zomato[col], zomato['cost'])\n",
    "        chi2, p_value, dof, expected = chi2_contingency(contingency_table)\n",
    "        pvalue_score = pvalue_score.append({'Feature':col,'pvalue':p_value}, ignore_index = True)"
   ]
  },
  {
   "cell_type": "code",
   "execution_count": null,
   "id": "4a7417cc",
   "metadata": {},
   "outputs": [],
   "source": [
    "# list of categorical variables\n",
    "cat_cols = ['name', 'online_order', 'book_table', 'rest_type', 'cuisines','reviews_list', 'type', 'city']\n",
    "update_score_categorical(cat_cols)\n"
   ]
  },
  {
   "cell_type": "markdown",
   "id": "8e7d0e45",
   "metadata": {},
   "source": [
    "2. Hypothesis Testing for numerical columns and stroke\n",
    "\n",
    "Hypothesis :\n",
    "\n",
    "H0:The variables are not correlated with each other\n",
    "\n",
    "H1:The variables are correlated with each other\n",
    "\n",
    "if pvalue<0.05 we will reject the null hypothesis."
   ]
  },
  {
   "cell_type": "code",
   "execution_count": null,
   "id": "b3dea66e",
   "metadata": {},
   "outputs": [],
   "source": [
    "pvalue_score"
   ]
  },
  {
   "cell_type": "code",
   "execution_count": null,
   "id": "1614d793",
   "metadata": {},
   "outputs": [],
   "source": []
  },
  {
   "cell_type": "code",
   "execution_count": null,
   "id": "498c39ba",
   "metadata": {},
   "outputs": [],
   "source": [
    "zomato.head(2)"
   ]
  },
  {
   "cell_type": "markdown",
   "id": "abd22cfe",
   "metadata": {},
   "source": [
    "# Step 7: Split the dataset into train and test data sets and Perform the scaling on both sets if necessary"
   ]
  },
  {
   "cell_type": "code",
   "execution_count": null,
   "id": "0d89510b",
   "metadata": {},
   "outputs": [],
   "source": [
    "from sklearn.model_selection import train_test_split \n",
    "x = zomato_en.iloc[:,[2,3,4,5,6,7,8,11,12]]\n",
    "y = zomato_en['cost']\n",
    "#Getting Test and Training Set\n",
    "x_train,x_test,y_train,y_test=train_test_split(x,y,test_size=.1,random_state=353)\n",
    "x_train.head()\n",
    "y_train.head()"
   ]
  },
  {
   "cell_type": "markdown",
   "id": "d12b218a",
   "metadata": {},
   "source": [
    "# Step 8: Build the base model."
   ]
  },
  {
   "cell_type": "markdown",
   "id": "197da771",
   "metadata": {},
   "source": [
    "# LinearRegression"
   ]
  },
  {
   "cell_type": "code",
   "execution_count": null,
   "id": "413db59b",
   "metadata": {},
   "outputs": [],
   "source": [
    "lin_reg=LinearRegression()\n",
    "model=lin_reg.fit(X_train,y_train)\n",
    "ypred=model.predict(X_test)\n",
    "rmse=np.sqrt(mean_squared_error(y_test,ypred))\n",
    "print(rmse)\n",
    "from sklearn.metrics import r2_score\n",
    "r2=r2_score(y_test,ypred)\n",
    "print(r2)\n"
   ]
  },
  {
   "cell_type": "markdown",
   "id": "2da9336a",
   "metadata": {},
   "source": [
    "# Descision tree"
   ]
  },
  {
   "cell_type": "code",
   "execution_count": null,
   "id": "c9d131b6",
   "metadata": {},
   "outputs": [],
   "source": [
    "from sklearn.tree import DecisionTreeRegressor\n",
    "x_train,x_test,y_train,y_test=train_test_split(x,y,test_size=.1,random_state=105)\n",
    "Dtree=DecisionTreeRegressor(min_samples_leaf=.0001)\n",
    "Dtree.fit(x_train,y_train)\n",
    "y_predict=Dtree.predict(x_test)\n",
    "from sklearn.metrics import r2_score\n",
    "r2_score(y_test,y_predict)"
   ]
  },
  {
   "cell_type": "markdown",
   "id": "890df891",
   "metadata": {},
   "source": [
    "# RandomForestRegressor"
   ]
  },
  {
   "cell_type": "code",
   "execution_count": null,
   "id": "11c64c9c",
   "metadata": {},
   "outputs": [],
   "source": [
    "from sklearn.ensemble import RandomForestRegressor\n",
    "Rforest=RandomForestRegressor(n_estimators=500,random_state=329,min_samples_leaf=.0001)\n",
    "Rforest.fit(x_train,y_train)\n",
    "y_predict=Rforest.predict(x_test)\n",
    "from sklearn.metrics import r2_score\n",
    "r2_score(y_test,y_predict)"
   ]
  },
  {
   "cell_type": "code",
   "execution_count": null,
   "id": "277f6e9b",
   "metadata": {},
   "outputs": [],
   "source": [
    "Randpred =pd.DataFrame({ \"actual\": y_test, \"pred\": y_predict })\n",
    "Randpred.head()"
   ]
  },
  {
   "cell_type": "code",
   "execution_count": null,
   "id": "74d11ed6",
   "metadata": {},
   "outputs": [],
   "source": [
    "Step 9: Understand how the model is performing, Perform feature engineering again if \n",
    "needed. Do feature selection. Try with various models like a parametric and \n",
    "nonparametric models. Once you choose the final model, rebuild the model with best \n",
    "parameters. \n",
    "Note: If you are performing with Linear models, check the model is fulfilling the \n",
    "assumptions"
   ]
  },
  {
   "cell_type": "code",
   "execution_count": null,
   "id": "37940c97",
   "metadata": {},
   "outputs": [],
   "source": []
  },
  {
   "cell_type": "code",
   "execution_count": null,
   "id": "0e0dfb35",
   "metadata": {},
   "outputs": [],
   "source": []
  },
  {
   "cell_type": "code",
   "execution_count": null,
   "id": "aca816f0",
   "metadata": {},
   "outputs": [],
   "source": []
  },
  {
   "cell_type": "code",
   "execution_count": null,
   "id": "7b403fff",
   "metadata": {},
   "outputs": [],
   "source": [
    "Step 10: Based on your understanding of the model and EDA analysis, Explain the business \n",
    "understanding.\n"
   ]
  },
  {
   "cell_type": "code",
   "execution_count": null,
   "id": "35ee4000",
   "metadata": {},
   "outputs": [],
   "source": []
  },
  {
   "cell_type": "code",
   "execution_count": null,
   "id": "45f7a920",
   "metadata": {},
   "outputs": [],
   "source": []
  },
  {
   "cell_type": "code",
   "execution_count": null,
   "id": "22c96213",
   "metadata": {},
   "outputs": [],
   "source": []
  },
  {
   "cell_type": "code",
   "execution_count": null,
   "id": "98097c99",
   "metadata": {},
   "outputs": [],
   "source": []
  }
 ],
 "metadata": {
  "kernelspec": {
   "display_name": "Python 3 (ipykernel)",
   "language": "python",
   "name": "python3"
  },
  "language_info": {
   "codemirror_mode": {
    "name": "ipython",
    "version": 3
   },
   "file_extension": ".py",
   "mimetype": "text/x-python",
   "name": "python",
   "nbconvert_exporter": "python",
   "pygments_lexer": "ipython3",
   "version": "3.10.5"
  }
 },
 "nbformat": 4,
 "nbformat_minor": 5
}
