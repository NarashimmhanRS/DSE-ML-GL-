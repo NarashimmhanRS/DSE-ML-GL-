{
 "cells": [
  {
   "cell_type": "markdown",
   "metadata": {
    "id": "n-fswZJfC5lJ"
   },
   "source": [
    "<table align=\"center\" width=100%>\n",
    "    <tr>\n",
    "        <td width=\"20%\">\n",
    "            <img src=\"GL-2.png\">\n",
    "        </td>\n",
    "        <td>\n",
    "            <div align=\"center\">\n",
    "                <font color=\"#21618C\" size=8px>\n",
    "                    <b> Inclass-Lab  <br>(Week 3)\n",
    "                    </b>\n",
    "                </font>\n",
    "            </div>\n",
    "        </td>\n",
    "    </tr>\n",
    "</table>"
   ]
  },
  {
   "cell_type": "markdown",
   "metadata": {
    "id": "N1crriolC5lN"
   },
   "source": [
    "## Table of Content\n",
    "\n",
    "1. **[Python Flow Control](#flow_control)**\n",
    "2. **[List Comprehension](#lc)**"
   ]
  },
  {
   "cell_type": "markdown",
   "metadata": {
    "id": "nqJ36GO0C5lN"
   },
   "source": [
    "### Let's begin with some hands-on practice exercises"
   ]
  },
  {
   "cell_type": "markdown",
   "metadata": {
    "id": "avo7Qe4cC5lO"
   },
   "source": [
    "<a id= \"flow_control\"> </a>\n",
    "## 1. Python Flow Control"
   ]
  },
  {
   "cell_type": "markdown",
   "metadata": {
    "id": "G65Uah2zC5lO"
   },
   "source": [
    "<table align=\"left\">\n",
    "    <tr>\n",
    "        <td width=\"6%\">\n",
    "            <img src=\"question_icon.png\">\n",
    "        </td>\n",
    "        <td>\n",
    "            <div align=\"left\", style=\"font-size:120%\">\n",
    "                <font color=\"#21618C\">\n",
    "                    <b>1. Write a code to print table of 5 using assignment operand +=.</b>\n",
    "                </font>\n",
    "            </div>\n",
    "        </td>\n",
    "    </tr>\n",
    "</table>"
   ]
  },
  {
   "cell_type": "code",
   "execution_count": 11,
   "metadata": {
    "id": "cHQtKuEIC5lP"
   },
   "outputs": [
    {
     "name": "stdout",
     "output_type": "stream",
     "text": [
      "Enter the sequence length : 10\n",
      "5 X 1 = 5\n",
      "5 X 2 = 10\n",
      "5 X 3 = 15\n",
      "5 X 4 = 20\n",
      "5 X 5 = 25\n",
      "5 X 6 = 30\n",
      "5 X 7 = 35\n",
      "5 X 8 = 40\n",
      "5 X 9 = 45\n",
      "5 X 10 = 50\n"
     ]
    }
   ],
   "source": [
    "seq = int(input(\"Enter the sequence length : \"))\n",
    "a=0\n",
    "for i in range(1,seq+1):\n",
    "    a +=5\n",
    "    print(\"5\",\"X\",i,\"=\",a)"
   ]
  },
  {
   "cell_type": "markdown",
   "metadata": {
    "id": "OiqCNHGhC5lQ"
   },
   "source": [
    "<table align=\"left\">\n",
    "    <tr>\n",
    "        <td width=\"6%\">\n",
    "            <img src=\"question_icon.png\">\n",
    "        </td>\n",
    "        <td>\n",
    "            <div align=\"left\", style=\"font-size:120%\">\n",
    "                <font color=\"#21618C\">\n",
    "                    <b>2. Write a program for generating a fibonacci series starting with 0 and 1 for the next 10 values using a while loop. </b>\n",
    "                </font>\n",
    "            </div>\n",
    "        </td>\n",
    "    </tr>\n",
    "</table>"
   ]
  },
  {
   "cell_type": "code",
   "execution_count": 13,
   "metadata": {
    "id": "w0Ba6n87C5lQ"
   },
   "outputs": [
    {
     "name": "stdout",
     "output_type": "stream",
     "text": [
      "0\n",
      "1\n",
      "1\n",
      "2\n",
      "3\n",
      "5\n",
      "8\n",
      "13\n",
      "21\n",
      "34\n",
      "55\n"
     ]
    }
   ],
   "source": [
    "a = 0\n",
    "b = 1\n",
    "c = 0\n",
    "\n",
    "while c <= 10:\n",
    "    print(a)\n",
    "    temp = a + b\n",
    "    a = b\n",
    "    b = temp\n",
    "    c +=1"
   ]
  },
  {
   "cell_type": "markdown",
   "metadata": {
    "id": "beg44NB8C5lR"
   },
   "source": [
    "<table align=\"left\">\n",
    "    <tr>\n",
    "        <td width=\"6%\">\n",
    "            <img src=\"question_icon.png\">\n",
    "        </td>\n",
    "        <td>\n",
    "            <div align=\"left\", style=\"font-size:120%\">\n",
    "                <font color=\"#21618C\">\n",
    "                    <b>3. Write a program to check whether a number is greater than the other using if statement (take the input from user).</b>\n",
    "                </font>\n",
    "            </div>\n",
    "        </td>\n",
    "    </tr>\n",
    "</table>"
   ]
  },
  {
   "cell_type": "code",
   "execution_count": 14,
   "metadata": {
    "id": "5GC99CsOC5lR"
   },
   "outputs": [
    {
     "name": "stdout",
     "output_type": "stream",
     "text": [
      "Enter the 1st number10\n",
      "Enter the 2nd number20\n",
      "20 is greater than 10\n"
     ]
    }
   ],
   "source": [
    "a = int(input(\"Enter the 1st number\"))\n",
    "b = int(input(\"Enter the 2nd number\"))\n",
    "\n",
    "if a > b:\n",
    "    print(a,\"is greater than\",b)\n",
    "else:\n",
    "    print(b,\"is greater than\",a)"
   ]
  },
  {
   "cell_type": "markdown",
   "metadata": {
    "id": "nqKFuCIHC5lR"
   },
   "source": [
    "<table align=\"left\">\n",
    "    <tr>\n",
    "        <td width=\"6%\">\n",
    "            <img src=\"question_icon.png\">\n",
    "        </td>\n",
    "        <td>\n",
    "            <div align=\"left\", style=\"font-size:120%\">\n",
    "                <font color=\"#21618C\">\n",
    "                    <b>4. Write a code to check whether a number is divisible by 7 or not (take the input from user). </b>\n",
    "                </font>\n",
    "            </div>\n",
    "        </td>\n",
    "    </tr>\n",
    "</table>"
   ]
  },
  {
   "cell_type": "code",
   "execution_count": 16,
   "metadata": {
    "id": "j6U4oUUzC5lS"
   },
   "outputs": [
    {
     "name": "stdout",
     "output_type": "stream",
     "text": [
      "Enter the number : 21\n",
      "21 is divisible by 7\n"
     ]
    }
   ],
   "source": [
    "num = int(input(\"Enter the number : \"))\n",
    "\n",
    "if num%7 == 0:\n",
    "    print(num,\"is divisible by 7\")\n",
    "else:\n",
    "    print(num,\"is not divisible by 7\")"
   ]
  },
  {
   "cell_type": "markdown",
   "metadata": {
    "id": "lViDgTjyC5lS"
   },
   "source": [
    "<table align=\"left\">\n",
    "    <tr>\n",
    "        <td width=\"6%\">\n",
    "            <img src=\"question_icon.png\">\n",
    "        </td>\n",
    "        <td>\n",
    "            <div align=\"left\", style=\"font-size:120%\">\n",
    "                <font color=\"#21618C\">\n",
    "                    <b>5. Write a code to find factorial of a number (take the input from user). </b>\n",
    "                </font>\n",
    "            </div>\n",
    "        </td>\n",
    "    </tr>\n",
    "</table>"
   ]
  },
  {
   "cell_type": "code",
   "execution_count": 101,
   "metadata": {
    "id": "DJC6LKYsC5lT"
   },
   "outputs": [
    {
     "name": "stdout",
     "output_type": "stream",
     "text": [
      "Enter the number : 5\n",
      "120\n"
     ]
    }
   ],
   "source": [
    "num1 = int(input(\"Enter the number : \"))\n",
    "t = 1\n",
    "if num1 < 0:\n",
    "    print(\"number is negative\")\n",
    "elif num1 == 0 or num1 == 1:\n",
    "    print(\"The factorial is 1\")\n",
    "else:\n",
    "    for i in range(1,num1+1):\n",
    "        t *= i\n",
    "print(t)\n",
    "    "
   ]
  },
  {
   "cell_type": "markdown",
   "metadata": {
    "id": "ApjNuawiC5lT"
   },
   "source": [
    "<table align=\"left\">\n",
    "    <tr>\n",
    "        <td width=\"6%\">\n",
    "            <img src=\"question_icon.png\">\n",
    "        </td>\n",
    "        <td>\n",
    "            <div align=\"left\", style=\"font-size:120%\">\n",
    "                <font color=\"#21618C\">\n",
    "                    <b>6. Write a program to check whether a number is prime or not (take the input from user).</b>\n",
    "                </font>\n",
    "            </div>\n",
    "        </td>\n",
    "    </tr>\n",
    "</table>"
   ]
  },
  {
   "cell_type": "code",
   "execution_count": 115,
   "metadata": {
    "id": "HGr51mZWC5lT"
   },
   "outputs": [
    {
     "name": "stdout",
     "output_type": "stream",
     "text": [
      "Enter the number : 17\n",
      "17 is a prime number\n"
     ]
    }
   ],
   "source": [
    "num2 = int(input(\"Enter the number : \"))\n",
    "\n",
    "if num2 > 2:\n",
    "    for i in range(2,num2):\n",
    "        if num2 % i == 0:\n",
    "            print(num2,\"is not a prime number\")\n",
    "            print(i,\"X\",num2//i,\"=\",num2)\n",
    "            break\n",
    "    else:\n",
    "        print(num2,\"is a prime number\")\n",
    "else:\n",
    "    print(num2,\"is a prime number\")\n",
    "    "
   ]
  },
  {
   "cell_type": "code",
   "execution_count": 116,
   "metadata": {},
   "outputs": [
    {
     "name": "stdout",
     "output_type": "stream",
     "text": [
      "Enter the number : 17\n",
      "Prime number\n"
     ]
    }
   ],
   "source": [
    "num3 = int(input(\"Enter the number : \"))\n",
    "\n",
    "x = 0\n",
    "t = 2\n",
    "\n",
    "while num3 > t:\n",
    "    if num3%t == 0:\n",
    "        x = 1\n",
    "    t +=1\n",
    "if x ==0:\n",
    "    print(\"Prime number\")\n",
    "else:\n",
    "    print(\"Not a prime number\")\n"
   ]
  },
  {
   "cell_type": "markdown",
   "metadata": {
    "id": "IAPUZJOiC5lU"
   },
   "source": [
    "<table align=\"left\">\n",
    "    <tr>\n",
    "        <td width=\"6%\">\n",
    "            <img src=\"question_icon.png\">\n",
    "        </td>\n",
    "        <td>\n",
    "            <div align=\"left\", style=\"font-size:120%\">\n",
    "                <font color=\"#21618C\">\n",
    "                    <b>7. Write a program to check whether two numbers are amicable or not (take the input from user).</b>\n",
    "                </font>\n",
    "            </div>\n",
    "        </td>\n",
    "    </tr>\n",
    "</table>"
   ]
  },
  {
   "cell_type": "code",
   "execution_count": 117,
   "metadata": {
    "id": "wtsC8hpZC5lU"
   },
   "outputs": [
    {
     "name": "stdout",
     "output_type": "stream",
     "text": [
      "Enter the number1 : 220\n",
      "Enter the number2 : 284\n",
      "284\n",
      "220\n",
      "Given two numbers are amicable\n"
     ]
    }
   ],
   "source": [
    "n1 =int(input(\"Enter the number1 : \"))\n",
    "n2 = int(input(\"Enter the number2 : \"))\n",
    "\n",
    "ln1 = 0\n",
    "ln2 = 0\n",
    "\n",
    "for i in range(1,n1):\n",
    "    if n1%i == 0:\n",
    "        ln1 += i\n",
    "for j in range(1,n2):\n",
    "    if n2%j == 0:\n",
    "        ln2 += j\n",
    "print(ln1)\n",
    "print(ln2)\n",
    "\n",
    "if ln1 == n2 and ln2 == n1:\n",
    "    print(\"Given two numbers are amicable\")\n",
    "else:\n",
    "    print(\"Given two number are not amicable\")\n",
    "\n"
   ]
  },
  {
   "cell_type": "markdown",
   "metadata": {
    "id": "a2je5IAUC5lU"
   },
   "source": [
    "<table align=\"left\">\n",
    "    <tr>\n",
    "        <td width=\"6%\">\n",
    "            <img src=\"question_icon.png\">\n",
    "        </td>\n",
    "        <td>\n",
    "            <div align=\"left\", style=\"font-size:120%\">\n",
    "                <font color=\"#21618C\">\n",
    "                    <b>8. Reverse string using a for loop (take the input from user).</b>\n",
    "                </font>\n",
    "            </div>\n",
    "        </td>\n",
    "    </tr>\n",
    "</table>"
   ]
  },
  {
   "cell_type": "code",
   "execution_count": 11,
   "metadata": {
    "id": "BkzmTaXwC5lV"
   },
   "outputs": [
    {
     "name": "stdout",
     "output_type": "stream",
     "text": [
      "Enter the string : string\n",
      "gnirts\n"
     ]
    }
   ],
   "source": [
    "st = input(\"Enter the string : \")\n",
    "st1 = \"\"\n",
    "for i in st:\n",
    "    st1 = i + st1\n",
    "print(st1)"
   ]
  },
  {
   "cell_type": "markdown",
   "metadata": {
    "id": "0CkQzlDCC5lV"
   },
   "source": [
    "<table align=\"left\">\n",
    "    <tr>\n",
    "        <td width=\"6%\">\n",
    "            <img src=\"question_icon.png\">\n",
    "        </td>\n",
    "        <td>\n",
    "            <div align=\"left\", style=\"font-size:120%\">\n",
    "                <font color=\"#21618C\">\n",
    "                    <b>9. Write a code to find the average of given numbers (take the input from user).</b>\n",
    "                </font>\n",
    "            </div>\n",
    "        </td>\n",
    "    </tr>\n",
    "</table>"
   ]
  },
  {
   "cell_type": "code",
   "execution_count": 53,
   "metadata": {
    "id": "WSehFjvbC5lV"
   },
   "outputs": [
    {
     "name": "stdout",
     "output_type": "stream",
     "text": [
      "Enter the length : 5\n",
      "Enter the number : 1\n",
      "Enter the number : 2\n",
      "Enter the number : 3\n",
      "Enter the number : 4\n",
      "Enter the number : 5\n",
      "15\n",
      "3\n"
     ]
    }
   ],
   "source": [
    "ln = int(input(\"Enter the length : \"))\n",
    "num = []\n",
    "d = 0\n",
    "for i in range(0,ln):\n",
    "    a = int(input(\"Enter the number : \"))\n",
    "    num.append(a)\n",
    "for j in num:\n",
    "    d += j\n",
    "\n",
    "print(d)\n",
    "out = d//ln\n",
    "print(out)"
   ]
  },
  {
   "cell_type": "markdown",
   "metadata": {
    "id": "0QZbxBDhC5lW"
   },
   "source": [
    "<table align=\"left\">\n",
    "    <tr>\n",
    "        <td width=\"6%\">\n",
    "            <img src=\"question_icon.png\">\n",
    "        </td>\n",
    "        <td>\n",
    "            <div align=\"left\", style=\"font-size:120%\">\n",
    "                <font color=\"#21618C\">\n",
    "                    <b>10. Write a program to find the area of a circle for a given radius (take the input from user).</b>\n",
    "                </font>\n",
    "            </div>\n",
    "        </td>\n",
    "    </tr>\n",
    "</table>"
   ]
  },
  {
   "cell_type": "code",
   "execution_count": 118,
   "metadata": {
    "id": "Q4ZWBG6kC5lW"
   },
   "outputs": [
    {
     "name": "stdout",
     "output_type": "stream",
     "text": [
      "Enter the Radius : 23.5\n",
      "Area of Circle :  1734.065\n"
     ]
    }
   ],
   "source": [
    "pi = 3.14\n",
    "r = float(input(\"Enter the Radius : \"))\n",
    "area = pi * r**2\n",
    "\n",
    "print(\"Area of Circle : \",area)\n"
   ]
  },
  {
   "cell_type": "markdown",
   "metadata": {
    "id": "hF7rRzCoC5lX"
   },
   "source": [
    "<table align=\"left\">\n",
    "    <tr>\n",
    "        <td width=\"6%\">\n",
    "            <img src=\"question_icon.png\">\n",
    "        </td>\n",
    "        <td>\n",
    "            <div align=\"left\", style=\"font-size:120%\">\n",
    "                <font color=\"#21618C\">\n",
    "                    <b>11. Write a code to find the simple interest (take the input from user).</b>\n",
    "                </font>\n",
    "            </div>\n",
    "        </td>\n",
    "    </tr>\n",
    "</table>"
   ]
  },
  {
   "cell_type": "code",
   "execution_count": 57,
   "metadata": {
    "id": "U1rnTkH7C5lX"
   },
   "outputs": [
    {
     "name": "stdout",
     "output_type": "stream",
     "text": [
      "Enter the Principle : 5000000\n",
      "Enter the Rate of intrest in percentage : 8\n",
      "Enter the tenure in years : 30\n",
      "12000000.0\n"
     ]
    }
   ],
   "source": [
    "P = int(input(\"Enter the Principle : \"))\n",
    "R = int(input(\"Enter the Rate of intrest in percentage : \"))\n",
    "T = int(input(\"Enter the tenure in years : \"))\n",
    "SI = P*(R/100)*T\n",
    "print(SI)"
   ]
  },
  {
   "cell_type": "markdown",
   "metadata": {
    "id": "uoelg_YzC5lX"
   },
   "source": [
    "<a id= \"lc\"> </a>\n",
    "## 2. List Comprehension"
   ]
  },
  {
   "cell_type": "markdown",
   "metadata": {
    "id": "RLHNURf9C5lY"
   },
   "source": [
    "<table align=\"left\">\n",
    "    <tr>\n",
    "        <td width=\"6%\">\n",
    "            <img src=\"question_icon.png\">\n",
    "        </td>\n",
    "        <td>\n",
    "            <div align=\"left\", style=\"font-size:120%\">\n",
    "                <font color=\"#21618C\">\n",
    "                    <b>12. Use list comprehension to obtain the squre root of first 10 natural numbers.</b>\n",
    "                </font>\n",
    "            </div>\n",
    "        </td>\n",
    "    </tr>\n",
    "</table>"
   ]
  },
  {
   "cell_type": "code",
   "execution_count": 119,
   "metadata": {
    "id": "-3J1ZfNpC5lY"
   },
   "outputs": [
    {
     "data": {
      "text/plain": [
       "[1.0, 1.41, 1.73, 2.0, 2.24, 2.45, 2.65, 2.83, 3.0, 3.16]"
      ]
     },
     "execution_count": 119,
     "metadata": {},
     "output_type": "execute_result"
    }
   ],
   "source": [
    "[round(i**0.5,2) for i in range(1,11)]"
   ]
  },
  {
   "cell_type": "markdown",
   "metadata": {
    "id": "c6Q8Z0lmC5lY"
   },
   "source": [
    "<table align=\"left\">\n",
    "    <tr>\n",
    "        <td width=\"6%\">\n",
    "            <img src=\"question_icon.png\">\n",
    "        </td>\n",
    "        <td>\n",
    "            <div align=\"left\", style=\"font-size:120%\">\n",
    "                <font color=\"#21618C\">\n",
    "                    <b>13. Use list comprehension to find the used vowels in a given sentence and/or word (take the input from user). </b>\n",
    "                </font>\n",
    "            </div>\n",
    "        </td>\n",
    "    </tr>\n",
    "</table>"
   ]
  },
  {
   "cell_type": "code",
   "execution_count": 120,
   "metadata": {
    "id": "BQnMRt-oC5lY"
   },
   "outputs": [
    {
     "name": "stdout",
     "output_type": "stream",
     "text": [
      "Enter the sentence or word : great\n"
     ]
    },
    {
     "data": {
      "text/plain": [
       "['e', 'a']"
      ]
     },
     "execution_count": 120,
     "metadata": {},
     "output_type": "execute_result"
    }
   ],
   "source": [
    "w = input(\"Enter the sentence or word : \")\n",
    "v = 'aeiou'\n",
    "[ i for i in w if i.lower() in v]"
   ]
  },
  {
   "cell_type": "markdown",
   "metadata": {
    "id": "RmW3YEMWC5lZ"
   },
   "source": [
    "<table align=\"left\">\n",
    "    <tr>\n",
    "        <td width=\"6%\">\n",
    "            <img src=\"question_icon.png\">\n",
    "        </td>\n",
    "        <td>\n",
    "            <div align=\"left\", style=\"font-size:120%\">\n",
    "                <font color=\"#21618C\">\n",
    "                    <b>14. Create a dictionary and access it values using a condition on its key. The data is given below. Let the condidtion on the key is that it should be a even number.</b>\n",
    "                </font>\n",
    "            </div>\n",
    "       </td>\n",
    "    </tr>\n",
    "</table>\n"
   ]
  },
  {
   "cell_type": "markdown",
   "metadata": {
    "id": "CUELT4UUC5lZ"
   },
   "source": [
    "<table>\n",
    "<tr>\n",
    "    <th>Key</th>\n",
    "    <td>1</td>\n",
    "    <td>2</td>\n",
    "    <td>3</td>\n",
    "    <td>4</td> \n",
    "    <td>5</td> \n",
    "</tr>\n",
    "<tr>\n",
    "    <th>Name</th>\n",
    "    <td>Aman</td>\n",
    "    <td>Mohit</td>\n",
    "    <td>Guari</td>\n",
    "    <td>Imran</td>\n",
    "    <td>Roma</td\n",
    "     </tr>\n",
    "<tr>\n",
    "    <th>Marks</th>\n",
    "    <td>24</td>\n",
    "    <td>25</td>\n",
    "    <td>26</td>\n",
    "    <td>24</td>\n",
    "    <td>27</td>\n",
    "   </tr>\n",
    "</table>"
   ]
  },
  {
   "cell_type": "code",
   "execution_count": 136,
   "metadata": {
    "id": "IDgYZuxQC5lZ"
   },
   "outputs": [
    {
     "name": "stdout",
     "output_type": "stream",
     "text": [
      "{'Mohit': 25}\n",
      "{'Roma': 27}\n"
     ]
    }
   ],
   "source": [
    "dict1 = {1 : {\"Aman\" : 24}, 2 : {\"Mohit\" : 25}, 3 : {\"Guari\" : 26}, 4 : {\"Roma\" : 27}}\n",
    "dict1\n",
    "for i in dict1.keys():\n",
    "    if i%2 == 0:\n",
    "        print(dict1.get(i))\n"
   ]
  },
  {
   "cell_type": "markdown",
   "metadata": {
    "id": "5PgCDOAaC5la"
   },
   "source": [
    "<table align=\"left\">\n",
    "    <tr>\n",
    "        <td width=\"6%\">\n",
    "            <img src=\"question_icon.png\">\n",
    "        </td>\n",
    "        <td>\n",
    "            <div align=\"left\", style=\"font-size:120%\">\n",
    "                <font color=\"#21618C\">\n",
    "                    <b>15. Use list comprehension to find even and odd numbers from first 20 whole numbers.</b>\n",
    "                </font>\n",
    "            </div>\n",
    "        </td>\n",
    "    </tr>\n",
    "</table>"
   ]
  },
  {
   "cell_type": "code",
   "execution_count": 20,
   "metadata": {
    "id": "5voIjeHeC5la"
   },
   "outputs": [
    {
     "data": {
      "text/plain": [
       "['0 is even',\n",
       " '1 is odd',\n",
       " '2 is even',\n",
       " '3 is odd',\n",
       " '4 is even',\n",
       " '5 is odd',\n",
       " '6 is even',\n",
       " '7 is odd',\n",
       " '8 is even',\n",
       " '9 is odd',\n",
       " '10 is even',\n",
       " '11 is odd',\n",
       " '12 is even',\n",
       " '13 is odd',\n",
       " '14 is even',\n",
       " '15 is odd',\n",
       " '16 is even',\n",
       " '17 is odd',\n",
       " '18 is even',\n",
       " '19 is odd',\n",
       " '20 is even']"
      ]
     },
     "execution_count": 20,
     "metadata": {},
     "output_type": "execute_result"
    }
   ],
   "source": [
    " [ f\"{i} is even\" if i%2 == 0 else f\"{i} is odd\"  for i in range(21)]"
   ]
  },
  {
   "cell_type": "markdown",
   "metadata": {
    "id": "0BHZ0pxgC5la"
   },
   "source": [
    "<table align=\"left\">\n",
    "    <tr>\n",
    "        <td width=\"6%\">\n",
    "            <img src=\"question_icon.png\">\n",
    "        </td>\n",
    "        <td>\n",
    "            <div align=\"left\", style=\"font-size:120%\">\n",
    "                <font color=\"#21618C\">\n",
    "                    <b>16. Use list comprehension to print numbers divisible  by 2 and 3 in between 1 and 100. </b>\n",
    "                </font>\n",
    "            </div>\n",
    "        </td>\n",
    "    </tr>\n",
    "</table>"
   ]
  },
  {
   "cell_type": "code",
   "execution_count": 125,
   "metadata": {
    "id": "fw4SCUuPC5lb"
   },
   "outputs": [
    {
     "data": {
      "text/plain": [
       "[6, 12, 18, 24, 30, 36, 42, 48, 54, 60, 66, 72, 78, 84, 90, 96]"
      ]
     },
     "execution_count": 125,
     "metadata": {},
     "output_type": "execute_result"
    }
   ],
   "source": [
    " [ i for i in range(1,101) if i%2==0 and i%3==0]"
   ]
  },
  {
   "cell_type": "markdown",
   "metadata": {
    "id": "aqifR-f7C5lb"
   },
   "source": [
    "<table align=\"left\">\n",
    "    <tr>\n",
    "        <td width=\"6%\">\n",
    "            <img src=\"question_icon.png\">\n",
    "        </td>\n",
    "        <td>\n",
    "            <div align=\"left\", style=\"font-size:120%\">\n",
    "                <font color=\"#21618C\">\n",
    "                    <b>17. Use list comprehension to create a dictionary such that its keys are numbers from 1 to 10 and values are the corresponding to that key are its cube.</b>\n",
    "                </font>\n",
    "            </div>\n",
    "        </td>\n",
    "    </tr>\n",
    "</table>"
   ]
  },
  {
   "cell_type": "code",
   "execution_count": 28,
   "metadata": {
    "id": "QzBYO1zNC5lb"
   },
   "outputs": [
    {
     "name": "stdout",
     "output_type": "stream",
     "text": [
      "{1: 1, 2: 8, 3: 27, 4: 64, 5: 125, 6: 216, 7: 343, 8: 512, 9: 729, 10: 1000}\n",
      "<class 'dict'>\n"
     ]
    }
   ],
   "source": [
    "a = { i : i**3 for i in range(1,11)}\n",
    "print(a)\n",
    "print(type(a))"
   ]
  },
  {
   "cell_type": "markdown",
   "metadata": {
    "id": "aG-ubP4TC5lb"
   },
   "source": [
    "<table align=\"left\">\n",
    "    <tr>\n",
    "        <td width=\"6%\">\n",
    "            <img src=\"question_icon.png\">\n",
    "        </td>\n",
    "        <td>\n",
    "            <div align=\"left\", style=\"font-size:120%\">\n",
    "                <font color=\"#21618C\">\n",
    "                    <b>18. Use list comprehension to extract numbers from a string </b>\n",
    "                </font>\n",
    "            </div>\n",
    "        </td>\n",
    "    </tr>\n",
    "</table>"
   ]
  },
  {
   "cell_type": "code",
   "execution_count": 138,
   "metadata": {
    "id": "dnQ-twynC5lc"
   },
   "outputs": [
    {
     "data": {
      "text/plain": [
       "['1', '2', '3', '5', '6', '7', '9', '5', '8']"
      ]
     },
     "execution_count": 138,
     "metadata": {},
     "output_type": "execute_result"
    }
   ],
   "source": [
    "st = \"string123great567leaa958ning\"\n",
    "[ i for i in st if i in '0123456789']"
   ]
  },
  {
   "cell_type": "code",
   "execution_count": 137,
   "metadata": {},
   "outputs": [
    {
     "data": {
      "text/plain": [
       "['1', '2', '3', '5', '6', '7', '9', '5', '8']"
      ]
     },
     "execution_count": 137,
     "metadata": {},
     "output_type": "execute_result"
    }
   ],
   "source": [
    "st = \"string123great567leaa958ning\"\n",
    "[ i for i in st if i.isdigit()]"
   ]
  },
  {
   "cell_type": "markdown",
   "metadata": {
    "id": "rQQhvnfCC5lc"
   },
   "source": [
    "<table align=\"left\">\n",
    "    <tr>\n",
    "        <td width=\"6%\">\n",
    "            <img src=\"question_icon.png\">\n",
    "        </td>\n",
    "        <td>\n",
    "            <div align=\"left\", style=\"font-size:120%\">\n",
    "                <font color=\"#21618C\">\n",
    "                    <b>19. Use list comprehension to print table of 11 to 20 as shown below.</b>\n",
    "                </font>\n",
    "            </div>\n",
    "        </td>\n",
    "    </tr>\n",
    "</table>"
   ]
  },
  {
   "cell_type": "markdown",
   "metadata": {
    "id": "lVcjcaKfC5lc"
   },
   "source": [
    "<table>\n",
    "<tr>\n",
    "    <td>11</td><td>22</td><td>33</td><td>44</td><td>55</td><td>66</td><td>77</td><td>88</td><td>99</td><td>110</td> \n",
    "</tr>\n",
    "    \n",
    "<tr>\n",
    "    <td>12</td><td>24</td><td>36</td><td>48</td><td>60</td><td>72</td><td>84</td><td>96</td><td>108</td><td>120</td> \n",
    "</tr>\n",
    "\n",
    "<tr>\n",
    "    <td>13</td><td>36</td><td>39</td><td>52</td><td>65</td><td>78</td><td>91</td><td>104</td><td>117</td><td>130</td> \n",
    "</tr> \n",
    "\n",
    "<tr>\n",
    "     <td>14</td><td>28</td><td>42</td><td>56</td><td>70</td> <td>84</td><td>98</td><td>112</td><td>126</td><td>140</td> \n",
    "</tr>\n",
    "\n",
    "<tr>\n",
    "     <td>15</td><td>30</td><td>45</td><td>60</td><td>75</td><td>90</td><td>105</td><td>120</td><td>135</td><td>150</td> \n",
    "</tr>\n",
    "\n",
    "<tr>\n",
    "     <td>16</td><td>32</td><td>48</td><td>64</td><td>80</td><td>96</td><td>112</td><td>128</td><td>144</td><td>160</td> \n",
    "</tr> \n",
    "\n",
    "<tr>\n",
    "     <td>17</td><td>34</td><td>51</td><td>68</td><td>85</td><td>102</td><td>119</td><td>136</td><td>153</td><td>170</td> \n",
    "</tr> \n",
    "\n",
    "<tr>\n",
    "     <td>18</td><td>36</td><td>54</td><td>72</td><td>90</td> <td>108</td><td>126</td><td>144</td><td>162</td><td>180</td> \n",
    "</tr>\n",
    "\n",
    "<tr>\n",
    " <td>19</td><td>38</td><td>57</td><td>76</td><td>95</td><td>114</td><td>133</td><td>152</td><td>171</td><td>190</td> \n",
    "</tr>\n",
    "\n",
    "<tr>\n",
    "     <td>20</td><td>40</td><td>60</td><td>80</td><td>100</td><td>120</td><td>140</td><td>160</td><td>180</td><td>200</td> \n",
    "<tr>    \n",
    "    \n",
    "</table>"
   ]
  },
  {
   "cell_type": "code",
   "execution_count": 93,
   "metadata": {
    "id": "3YoZIZtAC5ld"
   },
   "outputs": [
    {
     "data": {
      "text/plain": [
       "[[11, 22, 33, 44, 55, 66, 77, 88, 99, 110],\n",
       " [12, 24, 36, 48, 60, 72, 84, 96, 108, 120],\n",
       " [13, 26, 39, 52, 65, 78, 91, 104, 117, 130],\n",
       " [14, 28, 42, 56, 70, 84, 98, 112, 126, 140],\n",
       " [15, 30, 45, 60, 75, 90, 105, 120, 135, 150],\n",
       " [16, 32, 48, 64, 80, 96, 112, 128, 144, 160],\n",
       " [17, 34, 51, 68, 85, 102, 119, 136, 153, 170],\n",
       " [18, 36, 54, 72, 90, 108, 126, 144, 162, 180],\n",
       " [19, 38, 57, 76, 95, 114, 133, 152, 171, 190],\n",
       " [20, 40, 60, 80, 100, 120, 140, 160, 180, 200]]"
      ]
     },
     "execution_count": 93,
     "metadata": {},
     "output_type": "execute_result"
    }
   ],
   "source": [
    "[ [ i*j for j in range(1,11)] for i in range(11,21)]"
   ]
  },
  {
   "cell_type": "markdown",
   "metadata": {
    "id": "XkrLpTrbC5ld"
   },
   "source": [
    "<table align=\"left\">\n",
    "    <tr>\n",
    "        <td width=\"6%\">\n",
    "            <img src=\"question_icon.png\">\n",
    "        </td>\n",
    "        <td>\n",
    "            <div align=\"left\", style=\"font-size:120%\">\n",
    "                <font color=\"#21618C\">\n",
    "                    <b>20. Use list comprehension to find transpose of the matrix given below.</b>\n",
    "                </font>\n",
    "            </div>\n",
    "        </td>\n",
    "    </tr>\n",
    "</table>"
   ]
  },
  {
   "cell_type": "markdown",
   "metadata": {
    "id": "QUMHVUoiC5ld"
   },
   "source": [
    "<table>\n",
    "    <tr>\n",
    "        <td>1</td>\n",
    "        <td>2</td>\n",
    "    </tr>\n",
    "    <tr>\n",
    "        <td>3</td>\n",
    "        <td>4</td>\n",
    "    </tr>\n",
    "    <tr>\n",
    "        <td>5</td>\n",
    "        <td>6</td>\n",
    "    </tr>\n",
    "    <tr>\n",
    "        <td>7</td>\n",
    "        <td>8</td>\n",
    "    </tr>\n",
    "    </table>"
   ]
  },
  {
   "cell_type": "code",
   "execution_count": 4,
   "metadata": {
    "id": "oH5NN9T1C5ld"
   },
   "outputs": [
    {
     "data": {
      "text/plain": [
       "[[1, 3, 5, 7], [2, 4, 6, 8]]"
      ]
     },
     "execution_count": 4,
     "metadata": {},
     "output_type": "execute_result"
    }
   ],
   "source": [
    "a =[[1,2],[3,4],[5,6],[7,8]]\n",
    "\n",
    "[ [a[j][i] for j in range(len(a))] for i in range(len(a[0]))]"
   ]
  },
  {
   "cell_type": "code",
   "execution_count": 140,
   "metadata": {},
   "outputs": [
    {
     "data": {
      "text/plain": [
       "[[1, 3, 5, 7], [2, 4, 6, 8]]"
      ]
     },
     "execution_count": 140,
     "metadata": {},
     "output_type": "execute_result"
    }
   ],
   "source": [
    "a =[[1,2],[3,4],[5,6],[7,8]]\n",
    "[ [j[i] for j in a] for i in range(len(a[0]))]"
   ]
  },
  {
   "cell_type": "markdown",
   "metadata": {
    "id": "tqvAkwChC5le"
   },
   "source": [
    "<table align=\"left\">\n",
    "    <tr>\n",
    "        <td width=\"6%\">\n",
    "            <img src=\"question_icon.png\">\n",
    "        </td>\n",
    "        <td>\n",
    "            <div align=\"left\", style=\"font-size:120%\">\n",
    "                <font color=\"#21618C\">\n",
    "                    <b>21.  Assume a mother playing a \"word guessing game  2 times\" with children. She chooses 8 words relating to recent conversation  and write sets of clues to help students. Condition that children should not use same word again. children get 5 chances to guess the four letters word given below.\n",
    " \n",
    " Create a word set=[\"milk\", \"race\", \"rice\", \"race\", \"hide\", \"tree\",\"jump\",\"bike\"] \n",
    " \n",
    " like and take user input display like \"Let's play a word guessing game . The word has 4 letters in it. You get 5 guesses. Guess a letter \" if you guess correct 2 time it will display. If children found answer with 2 option display wow\n",
    " \n",
    " Great Guess! for 1st time\n",
    " \n",
    " Great Guess! for 2nd time\n",
    " \n",
    " Thanks for playing! you won!\n",
    " \n",
    " \n",
    " Exiting\n",
    " \n",
    " If your guess wrongly your code will ask 5 times to guess the word as shown in the below example\n",
    " \n",
    " Sorry, try again. was\n",
    " \n",
    " Sorry, try again. the\n",
    " \n",
    " Sorry, try again. are\n",
    " \n",
    " Sorry, try again. the\n",
    " \n",
    " Sorry, try again. are\n",
    " \n",
    " if you did not find 2 option it return you lose.\n",
    " \n",
    " \n",
    " make sure that program takes only smaller case values..</b>\n",
    "                </font>\n",
    "            </div>\n",
    "        </td>\n",
    "    </tr>\n",
    "</table>"
   ]
  },
  {
   "cell_type": "code",
   "execution_count": 95,
   "metadata": {},
   "outputs": [
    {
     "name": "stdout",
     "output_type": "stream",
     "text": [
      "Let's play a word guessing game\n",
      "The word has 4 letters in it. You get 5 guesses. Guess a letter\n",
      "adcd\n",
      "Sorry, try again. adcd\n",
      "bike\n",
      "Great Guess! for 1st time\n",
      "bike\n",
      "Sorry Already guessed, try again. bike\n",
      "race\n",
      "Great Guess! for 2nd time\n",
      "THANKS FOR PLAYING! YOU WON!\n"
     ]
    }
   ],
   "source": [
    "set=[\"milk\", \"race\", \"rice\", \"race\", \"hide\", \"tree\",\"jump\",\"bike\"]\n",
    "count = 0\n",
    "print(\"Let's play a word guessing game\")\n",
    "print(\"The word has 4 letters in it. You get 5 guesses. Guess a letter\")\n",
    "for i in range(5):\n",
    "    if count==0:\n",
    "        A = input()\n",
    "        if A.lower() in set:\n",
    "            print(\"Great Guess! for 1st time\")\n",
    "            count +=1\n",
    "        else:\n",
    "            print(\"Sorry, try again.\",A)\n",
    "    elif count == 1:\n",
    "        B = input()\n",
    "        if B.lower() in set:\n",
    "            if A.lower() == B.lower():\n",
    "                print(\"Sorry Already guessed, try again.\",B)\n",
    "            else:\n",
    "                print(\"Great Guess! for 2nd time\")\n",
    "                print(\"THANKS FOR PLAYING! YOU WON!\")\n",
    "                break\n",
    "        else:\n",
    "            print(\"Sorry, try again.\",B)\n",
    "else:\n",
    "    print(\"YOU LOSE THE GAME\")\n",
    "        "
   ]
  },
  {
   "cell_type": "code",
   "execution_count": 86,
   "metadata": {},
   "outputs": [
    {
     "name": "stdout",
     "output_type": "stream",
     "text": [
      "Let's play a word guessing game\n",
      "The word has 4 letters in it. You get 5 guesses. Guess a letter\n",
      "jump\n",
      "milk\n",
      "Sorry, try again. milk\n",
      "rice\n",
      "Sorry, try again. rice\n",
      "race\n",
      "Sorry, try again. race\n",
      "jump\n",
      "Great Guess! for 1st time\n",
      "hide\n",
      "Sorry, try again. hide\n",
      "YOU LOSE THE GAME\n"
     ]
    }
   ],
   "source": [
    "import random\n",
    "set=[\"milk\", \"race\", \"rice\", \"race\", \"hide\", \"tree\",\"jump\",\"bike\"]\n",
    "count = 0\n",
    "print(\"Let's play a word guessing game\")\n",
    "print(\"The word has 4 letters in it. You get 5 guesses. Guess a letter\")\n",
    "word = random.choice(set)\n",
    "print(word)\n",
    "for i in range(5):\n",
    "    if count==0:\n",
    "        A = input()\n",
    "        if A.lower() == word:\n",
    "            print(\"Great Guess! for 1st time\")\n",
    "            count +=1\n",
    "        else:\n",
    "            print(\"Sorry, try again.\",A)\n",
    "    elif count == 1:\n",
    "        B = input()\n",
    "        if B.lower() ==word:\n",
    "            if A.lower() == B.lower():\n",
    "                print(\"Sorry Already guessed, try again.\",B)\n",
    "            else:\n",
    "                print(\"Great Guess! for 2nd time\")\n",
    "                print(\"THANKS FOR PLAYING! YOU WON!\")\n",
    "                break\n",
    "        else:\n",
    "            print(\"Sorry, try again.\",B)\n",
    "else:\n",
    "    print(\"YOU LOSE THE GAME\")\n",
    "        "
   ]
  },
  {
   "cell_type": "code",
   "execution_count": null,
   "metadata": {},
   "outputs": [],
   "source": []
  },
  {
   "cell_type": "code",
   "execution_count": null,
   "metadata": {},
   "outputs": [],
   "source": []
  }
 ],
 "metadata": {
  "colab": {
   "collapsed_sections": [],
   "name": "Python - In-Class Lab Exercise (Week 3)- Questions.ipynb",
   "provenance": []
  },
  "kernelspec": {
   "display_name": "Python 3 (ipykernel)",
   "language": "python",
   "name": "python3"
  },
  "language_info": {
   "codemirror_mode": {
    "name": "ipython",
    "version": 3
   },
   "file_extension": ".py",
   "mimetype": "text/x-python",
   "name": "python",
   "nbconvert_exporter": "python",
   "pygments_lexer": "ipython3",
   "version": "3.10.5"
  }
 },
 "nbformat": 4,
 "nbformat_minor": 1
}
