{
 "cells": [
  {
   "cell_type": "markdown",
   "metadata": {
    "id": "akU7MRw9DU0X"
   },
   "source": [
    "<table align=\"center\" width=100%>\n",
    "    <tr>\n",
    "        <td width=\"20%\">\n",
    "            <img src=\"GL-2.png\">\n",
    "        </td>\n",
    "        <td>\n",
    "            <div align=\"center\">\n",
    "                <font color=\"#21618C\" size=8px>\n",
    "                    <b> Practice Set <br>(Week 3)\n",
    "                    </b>\n",
    "                </font>\n",
    "            </div>\n",
    "        </td>\n",
    "    </tr>\n",
    "</table>"
   ]
  },
  {
   "cell_type": "markdown",
   "metadata": {
    "id": "FmObt1WkDU0Z"
   },
   "source": [
    "**Let's begin with some hands-on practice exercises**"
   ]
  },
  {
   "cell_type": "markdown",
   "metadata": {
    "id": "pDQZhSDMDU0a"
   },
   "source": [
    "<table align=\"left\">\n",
    "    <tr>\n",
    "        <td width=\"6%\">\n",
    "            <img src=\"question_icon.png\">\n",
    "        </td>\n",
    "        <td>\n",
    "            <div align=\"left\", style=\"font-size:120%\">\n",
    "                <font color=\"#21618C\">\n",
    "                    <b>1. Write a program to print the following pattern (use for loop)</b>\n",
    "                    <br>\n",
    "                 </font>\n",
    "            </div>\n",
    "        </td>\n",
    "    </tr>\n",
    "</table>\n"
   ]
  },
  {
   "cell_type": "markdown",
   "metadata": {
    "id": "KTOhvEzwDU0a"
   },
   "source": [
    "                                            A  \n",
    "                                            B C  \n",
    "                                            D E F  \n",
    "                                            G H I J  \n",
    "                                            K L M N O  \n",
    "                                            P Q R S T U  "
   ]
  },
  {
   "cell_type": "code",
   "execution_count": 28,
   "metadata": {
    "id": "WgjNBfx2DU0b"
   },
   "outputs": [
    {
     "name": "stdout",
     "output_type": "stream",
     "text": [
      "Enter the number of lines : 7\n",
      " \n",
      "A  \n",
      "B C  \n",
      "D E F  \n",
      "G H I J  \n",
      "K L M N O  \n",
      "P Q R S T U  \n"
     ]
    }
   ],
   "source": [
    "line  = int(input(\"Enter the number of lines : \"))\n",
    "a = 65\n",
    "for i in range(line):\n",
    "    for j in range(i):\n",
    "        print(chr(a),end=\" \")\n",
    "        a +=1\n",
    "    print(\" \")"
   ]
  },
  {
   "cell_type": "markdown",
   "metadata": {
    "id": "1cWIziwqDU0b"
   },
   "source": [
    "<table align=\"left\">\n",
    "    <tr>\n",
    "        <td width=\"6%\">\n",
    "            <img src=\"question_icon.png\">\n",
    "        </td>\n",
    "        <td>\n",
    "            <div align=\"left\", style=\"font-size:120%\">\n",
    "                <font color=\"#21618C\">\n",
    "                    <b>2. Write a program to print tables from 2 to a user provided range (use for loop)</b>\n",
    "                 </font>\n",
    "            </div>\n",
    "        </td>\n",
    "    </tr>\n",
    "r</table>"
   ]
  },
  {
   "cell_type": "code",
   "execution_count": 34,
   "metadata": {
    "id": "GEVhBvYuDU0c"
   },
   "outputs": [
    {
     "name": "stdout",
     "output_type": "stream",
     "text": [
      "Enter the Range : 10\n",
      "Enter the Table : 2\n",
      "2 X 0 = 0\n",
      "2 X 1 = 2\n",
      "2 X 2 = 4\n",
      "2 X 3 = 6\n",
      "2 X 4 = 8\n",
      "2 X 5 = 10\n",
      "2 X 6 = 12\n",
      "2 X 7 = 14\n",
      "2 X 8 = 16\n",
      "2 X 9 = 18\n",
      "2 X 10 = 20\n"
     ]
    }
   ],
   "source": [
    "Range = int(input(\"Enter the Range : \"))\n",
    "Tabel = int(input(\"Enter the Table : \"))\n",
    "\n",
    "for i in range(Range+1):\n",
    "    print(Tabel,\"X\",i,\"=\",Tabel*i)\n"
   ]
  },
  {
   "cell_type": "markdown",
   "metadata": {
    "id": "_ipBl015DU0c"
   },
   "source": [
    "<table align=\"left\">\n",
    "    <tr>\n",
    "        <td width=\"6%\">\n",
    "            <img src=\"question_icon.png\">\n",
    "        </td>\n",
    "        <td>\n",
    "            <div align=\"left\", style=\"font-size:120%\">\n",
    "                <font color=\"#21618C\">\n",
    "                    <b>3. Consider the given two tuples. Divide corresponding elemets of two tuples and print the result as tuple (use zip())</b>\n",
    "                 </font>\n",
    "            </div>\n",
    "        </td>\n",
    "    </tr>\n",
    "</table>"
   ]
  },
  {
   "cell_type": "markdown",
   "metadata": {
    "id": "TzsIkua3DU0c"
   },
   "source": [
    "   **The original tuple 1 : (10, 4, 6, 9)**\n",
    "\n",
    "   **The original tuple 2 : (5, 2, 3, 3)**\n",
    "\n",
    "   **Output: (2, 2, 2, 3)**\n"
   ]
  },
  {
   "cell_type": "code",
   "execution_count": 48,
   "metadata": {
    "id": "Ba6sqNmBDU0d"
   },
   "outputs": [
    {
     "name": "stdout",
     "output_type": "stream",
     "text": [
      "(2, 2, 2, 3)\n"
     ]
    }
   ],
   "source": [
    "tp1 = (10, 4, 6, 9)\n",
    "tp2 = (5, 2, 3, 3)\n",
    "out = tuple(zip(tp1,tp2))\n",
    "o = tuple(int(i[0]/i[1]) for i in out)\n",
    "print(o)\n",
    "    "
   ]
  },
  {
   "cell_type": "markdown",
   "metadata": {
    "id": "ATyz43uADU0d"
   },
   "source": [
    "<table align=\"left\">\n",
    "    <tr>\n",
    "        <td width=\"6%\">\n",
    "            <img src=\"question_icon.png\">\n",
    "        </td>\n",
    "        <td>\n",
    "            <div align=\"left\", style=\"font-size:120%\">\n",
    "                <font color=\"#21618C\">\n",
    "                    <b>4. Use list comprehension to find words whose length is less than 5 from the given multi-dimensional list</b>\n",
    "                    <br>\n",
    "                </font>\n",
    "            </div>\n",
    "        </td>\n",
    "    </tr>\n",
    "</table>"
   ]
  },
  {
   "cell_type": "markdown",
   "metadata": {
    "id": "5ak31NVLDU0d"
   },
   "source": [
    "**astro = [['sky', 'sun', 'moon'], ['star', 'Jupiter', 'mars'], ['Jupiter', 'Neptune', 'Pluto']] **\n"
   ]
  },
  {
   "cell_type": "code",
   "execution_count": 52,
   "metadata": {
    "id": "c5TgxVS-DU0e"
   },
   "outputs": [
    {
     "data": {
      "text/plain": [
       "[['sky', 'sun', 'moon'], ['star', 'mars'], []]"
      ]
     },
     "execution_count": 52,
     "metadata": {},
     "output_type": "execute_result"
    }
   ],
   "source": [
    "astro = [['sky', 'sun', 'moon'], ['star', 'Jupiter', 'mars'], ['Jupiter', 'Neptune', 'Pluto']] \n",
    "[ [ j for j in i if len(j) < 5] for i in astro]"
   ]
  },
  {
   "cell_type": "markdown",
   "metadata": {
    "id": "5AClMXGPDU0e"
   },
   "source": [
    "<table align=\"left\">\n",
    "    <tr>\n",
    "        <td width=\"6%\">\n",
    "            <img src=\"question_icon.png\">\n",
    "        </td>\n",
    "        <td>\n",
    "            <div align=\"left\", style=\"font-size:120%\">\n",
    "                <font color=\"#21618C\">\n",
    "                    <b>5. Write a program to append a dictionary to a tuple</b>\n",
    "                 </font>\n",
    "            </div>\n",
    "        </td>\n",
    "    </tr>\n",
    "</table>"
   ]
  },
  {
   "cell_type": "markdown",
   "metadata": {
    "id": "yFGsCXc0DU0e"
   },
   "source": [
    "**The original tuple : (4, 5, 6)**\n",
    "\n",
    "**Tuple after addition of dictionary : (4, 5, 6, {'gfg': 1, 'is': 2, 'best': 3})**"
   ]
  },
  {
   "cell_type": "code",
   "execution_count": 63,
   "metadata": {
    "id": "hSOtPDToDU0e"
   },
   "outputs": [
    {
     "name": "stdout",
     "output_type": "stream",
     "text": [
      "(4, 5, 6, {'gfg': 1, 'is': 2, 'best': 3})\n"
     ]
    }
   ],
   "source": [
    "tpp = (4,5,6)\n",
    "dict1 = {'gfg': 1, 'is': 2, 'best': 3}\n",
    "tpl = list(tpp)\n",
    "tpl.append(dict1)\n",
    "print(tuple(tpl))"
   ]
  },
  {
   "cell_type": "markdown",
   "metadata": {
    "id": "Uf2neCpXDU0e"
   },
   "source": [
    "<table align=\"left\">\n",
    "    <tr>\n",
    "        <td width=\"6%\">\n",
    "            <img src=\"question_icon.png\">\n",
    "        </td>\n",
    "        <td>\n",
    "            <div align=\"left\", style=\"font-size:120%\">\n",
    "                <font color=\"#21618C\">\n",
    "                    <b>6. Write a program to remove space from keys of the given dictionary (use for loop)  </b>\n",
    "                 </font>\n",
    "            </div>\n",
    "        </td>\n",
    "    </tr>\n",
    "</table>"
   ]
  },
  {
   "cell_type": "markdown",
   "metadata": {
    "id": "SZi0OeHZDU0f"
   },
   "source": [
    "**fruity = {'Fruits 01' : 'Apple', 'Fruits 02' : 'Orange', \n",
    "                'Fruits 0 3 ': 'Grapes'}**\n",
    "\n",
    "**(Output) New dictionary :   {'Fruits01': 'Apple', 'Fruits02': 'Orange', 'Fruits03': 'Grapes'}**\n"
   ]
  },
  {
   "cell_type": "code",
   "execution_count": 87,
   "metadata": {
    "id": "1TG3VzDLDU0f"
   },
   "outputs": [
    {
     "name": "stdout",
     "output_type": "stream",
     "text": [
      "{'Fruits01': 'Apple', 'Fruits02': 'Orange', 'Fruits03': 'Grapes'}\n"
     ]
    }
   ],
   "source": [
    "fruity = {'Fruits 01' : 'Apple', 'Fruits 02' : 'Orange', 'Fruits 0 3 ': 'Grapes'}\n",
    "out = {}\n",
    "for i in fruity:\n",
    "    a = i.replace(\" \",\"\")\n",
    "    out.update({a : fruity.get(i)})\n",
    "print(out)"
   ]
  },
  {
   "cell_type": "markdown",
   "metadata": {
    "id": "zqQhZRjUDU0f"
   },
   "source": [
    "<table align=\"left\">\n",
    "    <tr>\n",
    "        <td width=\"6%\">\n",
    "            <img src=\"question_icon.png\">\n",
    "        </td>\n",
    "        <td>\n",
    "            <div align=\"left\", style=\"font-size:120%\">\n",
    "                <font color=\"#21618C\">\n",
    "                    <b>7. Write a program to transpose a matrix using list comprehension</b>\n",
    "                 </font>\n",
    "            </div>\n",
    "        </td>\n",
    "    </tr>\n",
    "</table>"
   ]
  },
  {
   "cell_type": "markdown",
   "metadata": {
    "id": "wBuJEvr0DU0f"
   },
   "source": [
    "**matrix=[[1,2],[3,4],[5,6],[7,8]]**<br>\n",
    "**Output: [[1, 3, 5, 7], [2, 4, 6, 8]]**"
   ]
  },
  {
   "cell_type": "code",
   "execution_count": 112,
   "metadata": {
    "id": "JeDaKLKEDU0g"
   },
   "outputs": [
    {
     "data": {
      "text/plain": [
       "[[1, 3, 5, 7], [2, 4, 6, 8]]"
      ]
     },
     "execution_count": 112,
     "metadata": {},
     "output_type": "execute_result"
    }
   ],
   "source": [
    "m=[[1,2],[3,4],[5,6],[7,8]]\n",
    "\n",
    "out = [ [m[j][i] for j in range(len(m))] for i in range(len(m[0]))]\n",
    "out"
   ]
  },
  {
   "cell_type": "markdown",
   "metadata": {
    "id": "YvWt6EWDDU0g"
   },
   "source": [
    "<table align=\"left\">\n",
    "    <tr>\n",
    "        <td width=\"6%\">\n",
    "            <img src=\"question_icon.png\">\n",
    "        </td>\n",
    "        <td>\n",
    "            <div align=\"left\", style=\"font-size:120%\">\n",
    "                <font color=\"#21618C\">\n",
    "                    <b>8. Write a program to add the cubes of first 5 positive integers (use while loop)</b>\n",
    "                 </font>\n",
    "            </div>\n",
    "        </td>\n",
    "    </tr>\n",
    "</table>"
   ]
  },
  {
   "cell_type": "code",
   "execution_count": 101,
   "metadata": {
    "id": "Tr8zVFF7DU0g"
   },
   "outputs": [
    {
     "name": "stdout",
     "output_type": "stream",
     "text": [
      "440\n"
     ]
    }
   ],
   "source": [
    "v = 1\n",
    "o = 0\n",
    "while v < 6:\n",
    "    v += 1\n",
    "    o += v**3\n",
    "print(o)\n",
    "    "
   ]
  },
  {
   "cell_type": "markdown",
   "metadata": {
    "id": "d_KEyVn1DU0g"
   },
   "source": [
    "<table align=\"left\">\n",
    "    <tr>\n",
    "        <td width=\"6%\">\n",
    "            <img src=\"question_icon.png\">\n",
    "        </td>\n",
    "        <td>\n",
    "            <div align=\"left\", style=\"font-size:120%\">\n",
    "                <font color=\"#21618C\">\n",
    "                    <b>9. Write a program to create a 5x3 matrix with values in each row as 1,2, and 3 (use list comprehension)</b>\n",
    "                    <br>\n",
    "                 </font>\n",
    "            </div>\n",
    "        </td>\n",
    "    </tr>\n",
    "</table>"
   ]
  },
  {
   "cell_type": "code",
   "execution_count": 117,
   "metadata": {
    "id": "NZQ4zJncDU0h"
   },
   "outputs": [
    {
     "data": {
      "text/plain": [
       "[[1, 2, 3], [1, 2, 3], [1, 2, 3], [1, 2, 3], [1, 2, 3]]"
      ]
     },
     "execution_count": 117,
     "metadata": {},
     "output_type": "execute_result"
    }
   ],
   "source": [
    " [ [j for j in range(1,4)] for i in range(5)]"
   ]
  },
  {
   "cell_type": "code",
   "execution_count": null,
   "metadata": {},
   "outputs": [],
   "source": []
  }
 ],
 "metadata": {
  "colab": {
   "collapsed_sections": [],
   "name": "Python - Take Home (Week 3) - Questions.ipynb",
   "provenance": []
  },
  "kernelspec": {
   "display_name": "Python 3 (ipykernel)",
   "language": "python",
   "name": "python3"
  },
  "language_info": {
   "codemirror_mode": {
    "name": "ipython",
    "version": 3
   },
   "file_extension": ".py",
   "mimetype": "text/x-python",
   "name": "python",
   "nbconvert_exporter": "python",
   "pygments_lexer": "ipython3",
   "version": "3.10.5"
  }
 },
 "nbformat": 4,
 "nbformat_minor": 1
}
