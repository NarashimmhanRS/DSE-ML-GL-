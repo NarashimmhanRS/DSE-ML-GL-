{
 "cells": [
  {
   "cell_type": "markdown",
   "metadata": {},
   "source": [
    "# ITP Final Mock Final"
   ]
  },
  {
   "cell_type": "markdown",
   "metadata": {},
   "source": [
    "### Total Marks: 70 marks"
   ]
  },
  {
   "cell_type": "markdown",
   "metadata": {},
   "source": [
    "### Section A: 20 Marks"
   ]
  },
  {
   "cell_type": "markdown",
   "metadata": {
    "id": "b9HhJLTYmtQW"
   },
   "source": [
    "### 1.\tCreate a dictionary with a single alphabet as the key and an integer as the corresponding value. Write a program to find out the highest 3 values in the dictionary. You are free to choose any number of key and value pairs. Innovative code gets more marks as an advantage (5 MARKS)\n",
    "\n",
    "**SAMPLE INPUT:**\t\n",
    "\n",
    "Initial Dictionary:                  \n",
    "\n",
    "{'A': 67, 'B': 23, 'C': 45, 'D': 56, 'E': 12, 'F': 69}\t          \n",
    "\n",
    "**SAMPLE OUTPUT:**\n",
    "\n",
    "Keys: Values\n",
    "F: 69     \n",
    "A: 67      \n",
    "D: 56\n"
   ]
  },
  {
   "cell_type": "code",
   "execution_count": null,
   "metadata": {
    "id": "aFzP-67LmtQW",
    "outputId": "83558807-c8e7-4ee6-c01b-baf63c8ffc0a"
   },
   "outputs": [
    {
     "name": "stdout",
     "output_type": "stream",
     "text": [
      "Initial Dictionary:\n",
      "{'A': 67, 'B': 23, 'C': 45, 'D': 56, 'E': 12, 'F': 69} \n",
      "\n",
      "Dictionary with 3 highest values:\n",
      "Keys: Values\n",
      "F  : 69  \n",
      "A  : 67  \n",
      "D  : 56  \n"
     ]
    }
   ],
   "source": [
    "# BASIC CODE\n",
    "from collections import Counter \n",
    "\n",
    "# Initial Dictionary \n",
    "my_dict = {'A': 67, 'B': 23, 'C': 45,  \n",
    "           'D': 56, 'E': 12, 'F': 69} \n",
    "  \n",
    "k = Counter(my_dict) \n",
    "  \n",
    "# Finding 3 highest values \n",
    "high = k.most_common(3)  \n",
    "  \n",
    "print(\"Initial Dictionary:\") \n",
    "print(my_dict, \"\\n\") \n",
    "  \n",
    "print(\"Dictionary with 3 highest values:\") \n",
    "print(\"Keys: Values\") \n",
    "  \n",
    "for i in high: \n",
    "    print(i[0],\" :\",i[1],\" \") "
   ]
  },
  {
   "cell_type": "markdown",
   "metadata": {
    "id": "DlYfDzMRmtQW"
   },
   "source": [
    "#### 2.\tIn a Flipkart sale, all the people who took the phone and also ordered phone cover, other people who took shoes also ordered socks and based on the people's choice recommend them the item they are most likely to order? (5 MARKS)\n",
    "\n",
    "a.\tThis is a list of products and recommendations. items = [('mobile',' cover'), ('shoe', 'socks')]\n",
    "\n",
    "b.\tTake input from the customer\n",
    "\n",
    "c.\tSearch for the product in items list and return the recommended product. if the input is mobile suggest mobile cover, if the input is shoe suggest socks\n",
    "\n",
    "d.\tTake input from user YES or NO, if he is interested. Do you want to buy cover: YES\n",
    "\n",
    "e.\tReturn items in the shopping list like -\n",
    "If the mobile is bought, then it should also suggest cover.\n"
   ]
  },
  {
   "cell_type": "code",
   "execution_count": null,
   "metadata": {
    "id": "dyLbZL4-mtQW",
    "outputId": "6e812eee-5670-4fc1-8499-22089fb1aa44"
   },
   "outputs": [
    {
     "name": "stdout",
     "output_type": "stream",
     "text": [
      "enter item:mobile\n",
      "you can buy  cover along with mobile\n",
      "Do you wish to buy cover:YES\n",
      "item sucessfully ordered\n",
      "cover\n",
      "mobile\n"
     ]
    }
   ],
   "source": [
    "items = [('mobile','cover'),('shoe','socks')]\n",
    "\n",
    "select_item = input('enter item:')\n",
    "\n",
    "for each in items:\n",
    "    if select_item == each[0]:\n",
    "            print(\"you can buy  %s along with %s\" % (each[1], each[0]))\n",
    "            recomendation_input = input(\"Do you wish to buy %s:\" % (each[1]))\n",
    "            if recomendation_input == 'YES':\n",
    "                print('item sucessfully ordered')\n",
    "                print(\"%s\" % (each[1]))\n",
    "                print(\"%s\" % (each[0]))\n",
    "            if recomendation_input == 'NO':\n",
    "                print('item sucessfully ordered')\n",
    "                print(\"%s\" % (each[1]))\n",
    "            break\n",
    "    else:\n",
    "            print(\"item not in list\")  "
   ]
  },
  {
   "cell_type": "markdown",
   "metadata": {
    "id": "bKvcaxsbmtQW"
   },
   "source": [
    "#### 3.\tA robot moves in a plane starting from the original point (0,0). The robot can move toward UP, DOWN, LEFT and RIGHT with a given step n (which has to be taken manually and has to be an integer) (10 MARKS)\n",
    "\tThe trace of robot movement is shown as the following:\n",
    "\tUP 5\n",
    "\tDOWN 3\n",
    "\tLEFT 3\n",
    "\tRIGHT 2\n",
    "\tThe numbers after the direction are steps. Please write a program to compute the Euclidean \tdistance from the current position after a sequence of movement and original point. If the distance \tis afloat, then just print the nearest integer. \n",
    "\tExample: If the following tuples are given as input to the program:\n",
    "\tUP 5\n",
    "\tDOWN 3\n",
    "\tLEFT 3\n",
    "\tRIGHT 2\n",
    "\tThen, the output of the program should be: 2\n"
   ]
  },
  {
   "cell_type": "code",
   "execution_count": null,
   "metadata": {
    "id": "dolg3XCamtQW",
    "outputId": "b906de53-ac29-44c8-a05a-68b3fa6cbefd"
   },
   "outputs": [
    {
     "name": "stdout",
     "output_type": "stream",
     "text": [
      "4\n",
      "UP 5\n",
      "DOWN 3\n",
      "LEFT 3\n",
      "RIGHT 2\n",
      "2\n"
     ]
    }
   ],
   "source": [
    "import math\n",
    "pos = [0,0]\n",
    "n = int(input())\n",
    "for m in range(n):\n",
    "    s = input()\n",
    "    movement = s.split(\" \")\n",
    "    direction = movement[0]\n",
    "    steps = int(movement[1])\n",
    "    if direction==\"UP\":\n",
    "        pos[0]+=steps\n",
    "    elif direction==\"DOWN\":\n",
    "        pos[0]-=steps\n",
    "    elif direction==\"LEFT\":\n",
    "        pos[1]-=steps\n",
    "    elif direction==\"RIGHT\":\n",
    "        pos[1]+=steps\n",
    "    else:\n",
    "        pass  \n",
    "    \n",
    "print (int(round(math.sqrt(pos[1]**2+pos[0]**2))))"
   ]
  },
  {
   "cell_type": "markdown",
   "metadata": {},
   "source": [
    "### Section B: 20 Marks"
   ]
  },
  {
   "cell_type": "markdown",
   "metadata": {
    "id": "3JKLwxzCmtQX"
   },
   "source": [
    "#### 4.\tThere is a wood log cutting factory. We are calculating the revenue and the no. of pieces that the wood is cut into. Proved an user input, We are given a wood log of length n cms and a table of prices p[i] for i = 1, 2, …, n. Here p[i] is the price of a wood log of length ’i’ cms. We have to find the optimal way of cutting the wood log to make the furniture so that maximum revenue can be generated by selling the pieces of wood. (10 MARKS)"
   ]
  },
  {
   "cell_type": "code",
   "execution_count": null,
   "metadata": {
    "id": "6N_14A_JmtQX",
    "outputId": "59e4bdc4-89aa-4eda-c212-430c46a3bbb2"
   },
   "outputs": [
    {
     "name": "stdout",
     "output_type": "stream",
     "text": [
      "Enter the length of the wood log  in cms: 10\n",
      "Enter the price of a wood log of length 1 in: 1\n",
      "Enter the price of a wood log of length 2 in: 2\n",
      "Enter the price of a wood log of length 3 in: 3\n",
      "Enter the price of a wood log of length 4 in: 4\n",
      "Enter the price of a wood log of length 5 in: 10\n",
      "Enter the price of a wood log of length 6 in: 12\n",
      "Enter the price of a wood log of length 7 in: 3\n",
      "Enter the price of a wood log of length 8 in: 44\n",
      "Enter the price of a wood log of length 9 in: 100\n",
      "Enter the price of a wood log of length 10 in: 300\n",
      "The maximum revenue that can be obtained: 300\n",
      "The rod needs to be cut into length(s) of 10 "
     ]
    }
   ],
   "source": [
    "def cut_woodlog(p, n):\n",
    "    \"\"\"Take a list p of prices and the wood log length n and return lists r and s.\n",
    "    r[i] is the maximum revenue that you can get and s[i] is the length of the\n",
    "    first piece to cut from a rod of length i.\"\"\"\n",
    "    # r[i] is the maximum revenue for rod length i\n",
    "    # r[i] = -1 means that r[i] has not been calculated yet\n",
    "    r = [-1]*(n + 1)\n",
    "    r[0] = 0\n",
    " \n",
    "    # s[i] is the length of the initial cut needed for rod length i\n",
    "    # s[0] is not needed\n",
    "    s = [-1]*(n + 1)\n",
    " \n",
    "    for i in range(1, n + 1):\n",
    "        q = -1\n",
    "        for j in range(1, i + 1):\n",
    "            temp = p[j] + r[i - j]\n",
    "            if q < temp:\n",
    "                q = temp\n",
    "                s[i] = j\n",
    "        r[i] = q\n",
    " \n",
    "    return r, s\n",
    " \n",
    " \n",
    "n = int(input('Enter the length of the wood log  in cms: '))\n",
    " \n",
    "# p[i] is the price of a rod of length i\n",
    "# p[0] is not needed, so it is set to None\n",
    "p = [None]\n",
    "for i in range(1, n + 1):\n",
    "    price = input('Enter the price of a wood log of length {} in: '.format(i))\n",
    "    p.append(int(price))\n",
    " \n",
    "r, s = cut_woodlog(p, n)\n",
    "print('The maximum revenue that can be obtained:', r[n])\n",
    "print('The rod needs to be cut into length(s) of ', end='')\n",
    "while n > 0:\n",
    "    print(s[n], end=' ')\n",
    "    n -= s[n]"
   ]
  },
  {
   "cell_type": "markdown",
   "metadata": {
    "id": "7pmaSzpomtQX"
   },
   "source": [
    "### 5.\tIn a gameshow contestant can vote their competitor to get eliminated. Each contestant gets to vote twice, there are 6 contestants, write a python program to find out the name of the Contestant who is getting eliminated. (10 MARKS)"
   ]
  },
  {
   "cell_type": "markdown",
   "metadata": {
    "id": "8jhYrOeSmtQX"
   },
   "source": [
    "**SAMPLE INPUT:**"
   ]
  },
  {
   "cell_type": "markdown",
   "metadata": {
    "id": "4ajFTweAmtQX"
   },
   "source": [
    "Danniel,Ross\n",
    "\n",
    "Ross,Nansy\n",
    "\n",
    "Nansy,Ross\n",
    "\n",
    "Danniel,Ross\n",
    "\n",
    "Danniel,Ross\n",
    "\n",
    "Danniel,Trisha\n"
   ]
  },
  {
   "cell_type": "markdown",
   "metadata": {
    "id": "PzQDB4jUmtQX"
   },
   "source": [
    "**SAMPLE OUTPUT:**"
   ]
  },
  {
   "cell_type": "markdown",
   "metadata": {
    "id": "0BKrLH1NmtQX"
   },
   "source": [
    "Ross"
   ]
  },
  {
   "cell_type": "code",
   "execution_count": null,
   "metadata": {
    "id": "xn_b4bJmmtQY"
   },
   "outputs": [],
   "source": [
    "inp1=input()\n",
    "inp2=input()\n",
    "inp3=input()\n",
    "inp4=input()\n",
    "inp5=input()\n",
    "inp6=input()\n",
    "\n",
    "import re\n",
    "inp1=re.split(',',inp1)\n",
    "inp2=re.split(',',inp2)\n",
    "inp3=re.split(',',inp3)\n",
    "inp4=re.split(',',inp4)\n",
    "inp5=re.split(',',inp5)\n",
    "inp6=re.split(',',inp6)\n",
    "Total=[]\n",
    "#Total.append(inp1,inp2,inp3,inp4,inp5)\n",
    "#print(Total)\n",
    "\n",
    "for i in [0,1]:\n",
    "  Total.extend([inp1[i],inp2[i],inp3[i],inp4[i],inp5[i],inp6[i]])\n",
    "#print(Total)\n",
    "Total_uni=list(set(Total))\n",
    "#print(Total_uni)\n",
    "Count=[]\n",
    "for i in Total_uni:\n",
    "  Count.append(Total.count(i))\n",
    "#print(Count)\n",
    "for i in range(len(Count)):\n",
    "  if Count[i]==max(Count):\n",
    "    print(Total_uni[i])"
   ]
  },
  {
   "cell_type": "markdown",
   "metadata": {},
   "source": [
    "### Section C: 30 marks"
   ]
  },
  {
   "cell_type": "markdown",
   "metadata": {
    "id": "X-71rklRmtQY"
   },
   "source": [
    "#### 6.\t In a pathology lab test, there is n number of samples for testing the health condition of a patient, each slide has 5 components, Sugar level, Blood pressure, Heartbeat rate, weight, fat percentage, based on input as provided by the patient's blood report. (15 MARKS)\n",
    "\n",
    "A.\tCreate a sample input for a healthy patient and also take random samples from a patient like \n",
    "\n",
    "\"Sugar level\":75, \"Blood pressure\":110, \"Heartbeat rate\":71, \"weight\":65, \"fat percentage\":10\n",
    "\n",
    "B.\tCompare inputs with healthy patient data. If the patient data is not matching with the healthy patient’s data, provide a warning.\n",
    "\n",
    "C.\tProvide difference in readings to the patient.\n",
    "\n",
    "**SAMPLE INPUT:**\n",
    "\n",
    "\tSugar level100\n",
    "    Blood pressure90\n",
    "    Heartbeat rate71\n",
    "    weight92\n",
    "    fat percentage12\n",
    "    \n",
    "**SAMPLE OUTPUT:**\n",
    "\n",
    "    {'Sugar level': 100, 'Blood pressure': 90, 'Heartbeat rate': 71, 'weight': 92, 'fat percentage': 12}\n",
    "    Sugar level 25\n",
    "    Sugar level is 25 less than ideal value\n",
    "    Blood pressure -20\n",
    "    Blood pressure is -20 less than ideal value\n",
    "    Heartbeat rate 0\n",
    "    Heartbeat rate ideal value\n",
    "    weight 27\n",
    "    weight is 27 less than ideal value\n",
    "    fat percentage 2\n",
    "    fat percentage is 2 less than ideal value"
   ]
  },
  {
   "cell_type": "code",
   "execution_count": null,
   "metadata": {
    "id": "GUHAPh7lmtQY",
    "outputId": "184e869e-697a-44e2-c02d-cdb74a65ebe9"
   },
   "outputs": [
    {
     "name": "stdout",
     "output_type": "stream",
     "text": [
      "Sugar level75\n",
      "Blood pressure100\n",
      "Heartbeat rate100\n",
      "weight100\n",
      "fat percentage12\n",
      "New Patient’s blood report:\n",
      "{'Sugar level': 75, 'Blood pressure': 100, 'Heartbeat rate': 100, 'weight': 100, 'fat percentage': 12}\n",
      "Sugar level 0\n",
      "Sugar level ideal value\n",
      "Blood pressure -10\n",
      "Blood pressure is -10 less than ideal value\n",
      "Heartbeat rate 29\n",
      "Heartbeat rate is 29 less than ideal value\n",
      "weight 35\n",
      "weight is 35 less than ideal value\n",
      "fat percentage 2\n",
      "fat percentage is 2 less than ideal value\n"
     ]
    }
   ],
   "source": [
    "ideal_patient_data = {\"Sugar level\":75, \"Blood pressure\":110, \"Heartbeat rate\":71, \"weight\":65, \"fat percentage\":10}\n",
    "new_patient_data = {}\n",
    "sugar = input(\"Sugar level\")\n",
    "preassure = input(\"Blood pressure\")\n",
    "heart_rate = input(\"Heartbeat rate\")\n",
    "weight = input(\"weight\")\n",
    "fat = input(\"fat percentage\")\n",
    "\n",
    "#match\n",
    "\n",
    "new_patient_data[\"Sugar level\"] = int(sugar)\n",
    "new_patient_data[\"Blood pressure\"] = int(preassure)\n",
    "new_patient_data[\"Heartbeat rate\"] = int(heart_rate)\n",
    "new_patient_data[\"weight\"] = int(weight)\n",
    "new_patient_data[\"fat percentage\"] =int(fat)\n",
    "print('New Patient’s blood report:')\n",
    "print(new_patient_data)\n",
    "\n",
    "new_patient_data[\"Sugar level\"] = int(sugar)-ideal_patient_data[\"Sugar level\"] \n",
    "new_patient_data[\"Blood pressure\"] = int(preassure)- ideal_patient_data[\"Blood pressure\"]  \n",
    "new_patient_data[\"Heartbeat rate\"] = int(heart_rate)-ideal_patient_data[\"Heartbeat rate\"]\n",
    "new_patient_data[\"weight\"] = int(weight) - ideal_patient_data[\"weight\"]\n",
    "new_patient_data[\"fat percentage\"] =int(fat) -ideal_patient_data[\"fat percentage\"]\n",
    "\n",
    "for key, value in new_patient_data.items():\n",
    "    print(key,value)\n",
    "    if value == 0:\n",
    "        print(\"%s ideal value\" % (key))\n",
    "    elif value < ideal_patient_data[key]:\n",
    "        print(\"%s is %s less than ideal value\" % (key, new_patient_data[key]))\n",
    "    elif value > ideal_patient_data[key]:\n",
    "        print(\"%s is %s greater than ideal value\" % (key, new_patient_data[key]))\n",
    "    else:\n",
    "        print(\"wrong input\")        "
   ]
  },
  {
   "cell_type": "markdown",
   "metadata": {},
   "source": [
    "#### 7.There is a wood log cutting factory. We are calculating the revenue and the no. of pieces that the wood is cut into. Proved an user input, We are given a wood log of length n cms and a table of prices p[i] for i = 1, 2, …, n. Here p[i] is the price of a wood log of length ’i’ cms. We have to find the optimal way of cutting the wood log to make the furniture so that maximum revenue can be generated by selling the pieces of wood. (15 MARKS)"
   ]
  },
  {
   "cell_type": "code",
   "execution_count": null,
   "metadata": {},
   "outputs": [],
   "source": [
    "def cut_woodlog(p, n):\n",
    "    \"\"\"Take a list p of prices and the wood log length n and return lists r and s.\n",
    "    r[i] is the maximum revenue that you can get and s[i] is the length of the\n",
    "    first piece to cut from a rod of length i.\"\"\"\n",
    "    # r[i] is the maximum revenue for rod length i\n",
    "    # r[i] = -1 means that r[i] has not been calculated yet\n",
    "    r = [-1]*(n + 1)\n",
    "    r[0] = 0\n",
    " \n",
    "    # s[i] is the length of the initial cut needed for rod length i\n",
    "    # s[0] is not needed\n",
    "    s = [-1]*(n + 1)\n",
    " \n",
    "    for i in range(1, n + 1):\n",
    "        q = -1\n",
    "        for j in range(1, i + 1):\n",
    "            temp = p[j] + r[i - j]\n",
    "            if q < temp:\n",
    "                q = temp\n",
    "                s[i] = j\n",
    "        r[i] = q\n",
    " \n",
    "    return r, s\n",
    " \n",
    " \n",
    "n = int(input('Enter the length of the wood log  in cms: '))\n",
    " \n",
    "# p[i] is the price of a rod of length i\n",
    "# p[0] is not needed, so it is set to None\n",
    "p = [None]\n",
    "for i in range(1, n + 1):\n",
    "    price = input('Enter the price of a wood log of length {} in: '.format(i))\n",
    "    p.append(int(price))\n",
    " \n",
    "r, s = cut_woodlog(p, n)\n",
    "print('The maximum revenue that can be obtained:', r[n])\n",
    "print('The rod needs to be cut into length(s) of ', end='')\n",
    "while n > 0:\n",
    "    print(s[n], end=' ')\n",
    "    n -= s[n]"
   ]
  }
 ],
 "metadata": {
  "colab": {
   "name": "ITP_QB Solution Final Exam.ipynb",
   "provenance": []
  },
  "kernelspec": {
   "display_name": "Python 3 (ipykernel)",
   "language": "python",
   "name": "python3"
  },
  "language_info": {
   "codemirror_mode": {
    "name": "ipython",
    "version": 3
   },
   "file_extension": ".py",
   "mimetype": "text/x-python",
   "name": "python",
   "nbconvert_exporter": "python",
   "pygments_lexer": "ipython3",
   "version": "3.10.5"
  }
 },
 "nbformat": 4,
 "nbformat_minor": 1
}
