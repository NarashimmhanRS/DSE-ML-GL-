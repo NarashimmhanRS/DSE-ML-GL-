{
 "cells": [
  {
   "cell_type": "markdown",
   "metadata": {},
   "source": [
    "### ITP Mock Exam"
   ]
  },
  {
   "cell_type": "markdown",
   "metadata": {},
   "source": [
    "### Section A: 8 Marks"
   ]
  },
  {
   "cell_type": "markdown",
   "metadata": {},
   "source": [
    "#### 1. Create Python Program for adding two binary numbers value?(3 marks)\n",
    "    \n",
    "**Note:** input is decimal value 5 and decimal value 21 = sum of decimal value 26"
   ]
  },
  {
   "cell_type": "code",
   "execution_count": 1,
   "metadata": {},
   "outputs": [
    {
     "name": "stdout",
     "output_type": "stream",
     "text": [
      "0b11010\n"
     ]
    }
   ],
   "source": [
    "# decimal value 5\n",
    "num1 = '00101'\n",
    "# decimal value 21\n",
    "num2 = '10101'\n",
    "\n",
    "# sum - decimal value 26\n",
    "sum = bin(int(num1,2) + int(num2,2))\n",
    "print(sum)"
   ]
  },
  {
   "cell_type": "markdown",
   "metadata": {
    "id": "EsiTFFjdmtQJ"
   },
   "source": [
    "##### 2. A string is said to be complete if it contains all the characters from a to z. Given a string, check if it is complete or not.   ( 5 marks)                                                                                  \n",
    "\n",
    "**Input:** The first line of the input contains the number of strings N. It is followed by N lines each contains a single string.\n",
    "\n",
    "**Output:** For each test case print \"YES\" if the string is complete, else print \"NO\"\n",
    "\n",
    "Constraints\n",
    "1 <= N <= 10\n",
    "\n",
    "The length of the string is at max 100 and the string contains only the characters a to z\n",
    "\n",
    "\n",
    "**SAMPLE INPUT: 3**\n",
    "\n",
    "wyyga\n",
    "\n",
    "qwertyuioplkjhgfdsazxcvbnm\n",
    "\n",
    "ejuxggfsts\n",
    "\n",
    "\n",
    "\n",
    "**SAMPLE OUTPUT**\n",
    "\n",
    "NO\n",
    "\n",
    "YES\n",
    "\n",
    "NO\n"
   ]
  },
  {
   "cell_type": "code",
   "execution_count": null,
   "metadata": {
    "id": "g1muMsjNmtQM",
    "outputId": "cbd44c8b-50d5-4b13-b843-d5e15d851533"
   },
   "outputs": [
    {
     "name": "stdout",
     "output_type": "stream",
     "text": [
      "3\n",
      "wyyga\n",
      "NO\n",
      "qwertyuioplkjhgfdsazxcvbnm\n",
      "YES\n",
      "sdddsddsddsddsddsdddsdddddddddddsss\n",
      "NO\n"
     ]
    }
   ],
   "source": [
    "testCases = int(input())\n",
    "while testCases:\n",
    "    testCases -= 1\n",
    "    string = input()\n",
    "    alphabet = list(map(chr, range(97, 123)))\n",
    "    if set(alphabet) == set(string):\n",
    "        print('YES')\n",
    "    else:\n",
    "        print('NO')"
   ]
  },
  {
   "cell_type": "markdown",
   "metadata": {},
   "source": [
    "### Section B: 17 Marks"
   ]
  },
  {
   "cell_type": "markdown",
   "metadata": {
    "id": "j-1kZSB_mtQN"
   },
   "source": [
    "#### 3a) . Write a Python program to build a numeric converter. The program will take integer from the user and convert it into binary, octal , hexadecimal, float , complex format. (6 marks)\n"
   ]
  },
  {
   "cell_type": "markdown",
   "metadata": {
    "id": "RGYNQDNdmtQN"
   },
   "source": [
    "**SAMPLE INPUT AND OUTPUT:**\n",
    "    \n",
    "    \n",
    "Enter a number                                123\n",
    "\n",
    "The binary of the number is                   0b1111011\n",
    "\n",
    "The octal of the number is                    0o173\n",
    "\n",
    "The hexadecimal of the number is              0x7b\n",
    "\n",
    "The float of the numbers is                   123.0\n",
    "\n",
    "The complex of the number is                  123+0j)\n"
   ]
  },
  {
   "cell_type": "code",
   "execution_count": null,
   "metadata": {
    "id": "eXu2e7J6mtQO",
    "outputId": "f79f5076-fd41-4c2c-a9b4-bef648e76987"
   },
   "outputs": [
    {
     "name": "stdout",
     "output_type": "stream",
     "text": [
      "Enter a number234\n",
      "The binary of the number is  0b11101010\n",
      "The octal of the number is 0o352\n",
      "The hexadecimal of the number is  0xea\n",
      "The float of the numbers is 234.0\n",
      "The complex of the number is (234+0j)\n"
     ]
    }
   ],
   "source": [
    "number=int(input(\"Enter a number\"))\n",
    "bin1=bin(number)\n",
    "print(\"The binary of the number is \",bin1)\n",
    "oct1=oct(number)\n",
    "print(\"The octal of the number is\",oct1)\n",
    "hexa1=hex(number)\n",
    "print(\"The hexadecimal of the number is \",hexa1)\n",
    "float1=float(number)\n",
    "print(\"The float of the numbers is\",float1)\n",
    "complex1=complex(number)\n",
    "print(\"The complex of the number is\",complex1)"
   ]
  },
  {
   "cell_type": "markdown",
   "metadata": {
    "id": "562Ujm3RmtQO"
   },
   "source": [
    "### 3. b) Write a python program to manipulate lists. Take two lists \n",
    "\n",
    "#### L1=[1,2,3,4,5,6,7,8,9,10] and L2=[10,20,30,40,50,60,70,80,90,100].\n",
    "\n",
    "\n",
    "a) Concatenate L1 and L2.(2 mark)\n",
    "\n",
    "b) Use the inbuilt function zip and save a copy of the zipped lists as L3.(2 marks)\n",
    "\n",
    "c) Identify the common elements between the two L1 and L2 and print the answer. (2 marks)"
   ]
  },
  {
   "cell_type": "markdown",
   "metadata": {
    "id": "hpZCL5l3mtQP"
   },
   "source": [
    "**SAMPLE INPUT AND OUTPUT:**\n",
    "\n",
    "\n",
    "L1=[1,2,3,4,5,6,7,8,9,10]\n",
    "\n",
    "L2=[10,20,30,40,50,60,70,80,90,100]\n",
    "\n",
    "Concatenation: [1, 2, 3, 4, 5, 6, 7, 8, 9, 10, 10, 20, 30, 40, 50, 60, 70, 80, 90, 100]\n",
    "\n",
    "L3=[(1, 10), (2, 20), (3, 30), (4, 40), (5, 50), (6, 60), (7, 70), (8, 80), (9, 90), (10, 100)]\n",
    "\n",
    "The common element in both the list is 10\n"
   ]
  },
  {
   "cell_type": "code",
   "execution_count": null,
   "metadata": {
    "id": "-VJNvAoDmtQP"
   },
   "outputs": [],
   "source": [
    "L1=[1,2,3,4,5,6,7,8,9,10]\n",
    "L2=[10,20,30,40,50,60,70,80,90,100]"
   ]
  },
  {
   "cell_type": "code",
   "execution_count": null,
   "metadata": {
    "id": "C7LHl0TYmtQP",
    "outputId": "9292e373-a608-45aa-9ea0-b487914c0b05"
   },
   "outputs": [
    {
     "data": {
      "text/plain": [
       "[1, 2, 3, 4, 5, 6, 7, 8, 9, 10, 10, 20, 30, 40, 50, 60, 70, 80, 90, 100]"
      ]
     },
     "execution_count": 5,
     "metadata": {},
     "output_type": "execute_result"
    }
   ],
   "source": [
    " L1+L2"
   ]
  },
  {
   "cell_type": "code",
   "execution_count": null,
   "metadata": {
    "id": "JQUr_EDzmtQQ"
   },
   "outputs": [],
   "source": [
    "L3=list(zip(L1,L2))"
   ]
  },
  {
   "cell_type": "code",
   "execution_count": null,
   "metadata": {
    "id": "WmA2JeyYmtQQ",
    "outputId": "f28df16c-14d7-4ed0-8720-cd507b95e123"
   },
   "outputs": [
    {
     "name": "stdout",
     "output_type": "stream",
     "text": [
      "[(1, 10), (2, 20), (3, 30), (4, 40), (5, 50), (6, 60), (7, 70), (8, 80), (9, 90), (10, 100)]\n"
     ]
    }
   ],
   "source": [
    "print(L3)"
   ]
  },
  {
   "cell_type": "code",
   "execution_count": null,
   "metadata": {
    "id": "Nl564L74mtQQ",
    "outputId": "bff8ccf8-4819-4a29-9caa-5b5556df95a4"
   },
   "outputs": [
    {
     "name": "stdout",
     "output_type": "stream",
     "text": [
      "10\n"
     ]
    }
   ],
   "source": [
    "for numbers in L1:\n",
    "    if numbers in L2:\n",
    "        print(numbers)"
   ]
  },
  {
   "cell_type": "markdown",
   "metadata": {
    "id": "P_BGiPeOmtQR"
   },
   "source": [
    "### 4. Write a numbers guessing game in python. Roll a dice and it shows up numbers between 1 and 6. The user has to guess the number on the dice. If the guess is correct, then the user wins. If the guess is not correct the user looses the game. (5 marks)"
   ]
  },
  {
   "cell_type": "markdown",
   "metadata": {
    "id": "a9KtoAb_mtQR"
   },
   "source": [
    "**SAMPLE INPUT AND OUTPUT:**\n",
    "    \n",
    "Guess the number on the dice   23\n",
    "\n",
    "your guess is wrong\n",
    "\n"
   ]
  },
  {
   "cell_type": "code",
   "execution_count": null,
   "metadata": {
    "id": "uJa3d4L4mtQR",
    "outputId": "cfa79719-a4fc-4f79-8884-7fca8f9eda0b"
   },
   "outputs": [
    {
     "name": "stdout",
     "output_type": "stream",
     "text": [
      "Guess the number on the dice4\n",
      "your guess is wrong\n"
     ]
    }
   ],
   "source": [
    "import random\n",
    "abc=random.randint(1,7)\n",
    "guess=int(input(\"Guess the number on the dice\"))\n",
    "if abc==guess:\n",
    "    print(\"your guess is correct\")\n",
    "else:\n",
    "    print(\"your guess is wrong\")"
   ]
  },
  {
   "cell_type": "markdown",
   "metadata": {},
   "source": [
    "### Section C: 25 Marks"
   ]
  },
  {
   "cell_type": "markdown",
   "metadata": {
    "id": "layB7431mtQT"
   },
   "source": [
    "## 5. Write a program that lets the user play Rock-Paper-Scissors against the computer. \n",
    "\n",
    "\n",
    "1. There should be five rounds,in every round user will get a chance to pick one item from [rock,paper,scissor] and computer will randomly select one. \n",
    "2. Depending upon the selection either one of the player will get a point as per the rules or it will be draw if both the items are same.\n",
    "3. In every round, player's choice and their current score should be updated and displayed. \n",
    "4. After those five rounds, your program should print out who won and lost or that there is a tie. (10 Marks)\n",
    "\n",
    "        **Rules for the Game:**\n",
    "        1. Scissors beats Paper\n",
    "        2. Rock beats Scissors\n",
    "        3. Paper beats Rock\n",
    "\n",
    "\n"
   ]
  },
  {
   "cell_type": "markdown",
   "metadata": {
    "id": "SAklRS-1mtQT"
   },
   "source": [
    "**SAMPLE INPUT AND OUTPUT:**\n",
    "\n",
    "\n",
    "---------------------Round 1----------------------------\n",
    "\n",
    "Enter your choice : paper\n",
    "\n",
    "your choice :  paper\n",
    "\n",
    "Computer's choice:  paper\n",
    "\n",
    "Scoreboard : Your score 0 , computer's score 0 \n",
    "\n",
    "---------------------Round 2----------------------------\n",
    "\n",
    "Enter your choice : paper\n",
    "\n",
    "your choice :  paper\n",
    "\n",
    "Computer's choice:  scissor\n",
    "\n",
    "Scoreboard : Your score 0 , computer's score 1 \n",
    "\n",
    "---------------------Round 3----------------------------\n",
    "\n",
    "Enter your choice : rock\n",
    "\n",
    "your choice :  rock\n",
    "\n",
    "Computer's choice:  scissor\n",
    "\n",
    "Scoreboard : Your score 1 , computer's score 1 \n",
    "\n",
    "---------------------Round 4----------------------------\n",
    "\n",
    "Enter your choice : rock\n",
    "\n",
    "\n",
    "your choice :  rock\n",
    "\n",
    "Computer's choice:  scissor\n",
    "\n",
    "Scoreboard : Your score 2 , computer's score 1 \n",
    "\n",
    "---------------------Round 5----------------------------\n",
    "\n",
    "Enter your choice : rock\n",
    "\n",
    "your choice :  rock\n",
    "\n",
    "Computer's choice:  paper\n",
    "\n",
    "Scoreboard : Your score 2 , computer's score 1 \n",
    "\n",
    "Result : Congratulations!!! You won!!!\n",
    "\n"
   ]
  },
  {
   "cell_type": "code",
   "execution_count": null,
   "metadata": {
    "id": "0ttRQlCNmtQU",
    "outputId": "a5a02868-f365-41f8-82a0-3d8a99318887",
    "scrolled": false
   },
   "outputs": [
    {
     "name": "stdout",
     "output_type": "stream",
     "text": [
      "---------------------Round 1----------------------------\n",
      "Enter your choice : paper\n",
      "your choice :  paper\n",
      "Computer's choice:  rock\n",
      "Scoreboard : Your score 1 , computer's score 0 \n",
      "---------------------Round 2----------------------------\n",
      "Enter your choice : paper\n",
      "your choice :  paper\n",
      "Computer's choice:  scissor\n",
      "Scoreboard : Your score 1 , computer's score 1 \n",
      "---------------------Round 3----------------------------\n",
      "Enter your choice : rock\n",
      "your choice :  rock\n",
      "Computer's choice:  rock\n",
      "Scoreboard : Your score 1 , computer's score 1 \n",
      "---------------------Round 4----------------------------\n",
      "Enter your choice : rock\n",
      "your choice :  rock\n",
      "Computer's choice:  rock\n",
      "Scoreboard : Your score 1 , computer's score 1 \n",
      "---------------------Round 5----------------------------\n",
      "Enter your choice : rock\n",
      "your choice :  rock\n",
      "Computer's choice:  scissor\n",
      "Scoreboard : Your score 2 , computer's score 1 \n",
      "Result : Congratulations!!! You won!!!\n"
     ]
    }
   ],
   "source": [
    "import random\n",
    "comp_score=0\n",
    "user_score=0\n",
    "game=['rock','paper','scissor']\n",
    "for round in range(5):\n",
    "    print('---------------------Round %d----------------------------'% (round+1))\n",
    "    user= input('Enter your choice : ').lower()\n",
    "    comp=random.choice(game)\n",
    "    if user == 'rock':\n",
    "        if comp == 'scissor':\n",
    "            user_score +=1\n",
    "        elif comp == 'Paper':\n",
    "            comp_score += 1\n",
    "        print('your choice : ', user)\n",
    "        print('Computer\\'s choice: ', comp)\n",
    "        print('Scoreboard : Your score %d , computer\\'s score %d '% (user_score,comp_score))\n",
    "    elif user == 'paper':\n",
    "        if comp == 'rock':\n",
    "            user_score +=1\n",
    "        elif comp == 'scissor':\n",
    "            comp_score += 1\n",
    "        print('your choice : ', user)\n",
    "        print('Computer\\'s choice: ', comp)\n",
    "        print('Scoreboard : Your score %d , computer\\'s score %d '% (user_score,comp_score))\n",
    "    elif user== 'scissor':\n",
    "        if comp == 'rock':\n",
    "            comp_score +=1\n",
    "        elif comp == 'Paper':\n",
    "            user_score += 1\n",
    "        print('your choice : ', user)\n",
    "        print('Computer\\'s choice: ', comp)\n",
    "        print('Scoreboard : Your score %d , computer\\'s score %d '% (user_score,comp_score))\n",
    "    \n",
    "            \n",
    "if (user_score > comp_score):\n",
    "    print('Result : Congratulations!!! You won!!!')\n",
    "elif (user_score < comp_score):\n",
    "    print('Result :Computer won !! better luck next time!!!!')\n",
    "else:\n",
    "    print(\"There is Tie\")\n",
    "        "
   ]
  },
  {
   "cell_type": "markdown",
   "metadata": {
    "id": "sTs88tArmtQU"
   },
   "source": [
    "## 6. Ask the user to enter 10 test scores. Write five different functions to do the following: (15 Marks)\n",
    "\n",
    "(a) Print out the highest and lowest scores.\n",
    "\n",
    "(b) Print out the average of the scores.\n",
    "\n",
    "(c) Print out the second largest score.\n",
    "\n",
    "(d) If any of the scores is greater than 100, then after all the scores \n",
    "have been entered, print\n",
    "a message warning the user that a value over 100 has been entered.\n",
    "\n",
    "(e) Drop the two lowest scores and print out the average of the rest of them.\n",
    "\n"
   ]
  },
  {
   "cell_type": "markdown",
   "metadata": {
    "id": "iISeGvArmtQU"
   },
   "source": [
    "**SAMPLE INPUT AND OUTPUT:**\n",
    "    \n",
    "Enter your score : 123\n",
    "\n",
    "Enter your score : 1234\n",
    "\n",
    "Enter your score : 1234\n",
    "\n",
    "Enter your score : 1234\n",
    "\n",
    "Enter your score : 543\n",
    "\n",
    "Enter your score : 543\n",
    "\n",
    "Enter your score : 7654\n",
    "\n",
    "Enter your score : 23456\n",
    "\n",
    "Enter your score : 8765\n",
    "\n",
    "Enter your score : 34567\n",
    "\n",
    "Highest value :  34567\n",
    "\n",
    "Lowest value :  123\n",
    "\n",
    "Average value :  7935.3\n",
    "\n",
    "Second highest is :  23456\n",
    "\n",
    "You have entered  1 th value more than 100\n",
    "\n",
    "You have entered  2 th value more than 100\n",
    "\n",
    "You have entered  3 th value more than 100\n",
    "\n",
    "You have entered  4 th value more than 100\n",
    "\n",
    "You have entered  5 th value more than 100\n",
    "\n",
    "You have entered  6 th value more than 100\n",
    "\n",
    "You have entered  7 th value more than 100\n",
    "\n",
    "\n",
    "You have entered  8 th value more than 100\n",
    "\n",
    "You have entered  9 th value more than 100\n",
    "\n",
    "You have entered  10 th value more than 100\n",
    "\n",
    "Average after dropping lowest score is  8803.333333333334\n",
    "\n",
    "\n"
   ]
  },
  {
   "cell_type": "code",
   "execution_count": null,
   "metadata": {
    "id": "wTlYaf5hmtQV",
    "outputId": "ee8e2232-0950-48d7-c318-d8d9d233ea44"
   },
   "outputs": [
    {
     "name": "stdout",
     "output_type": "stream",
     "text": [
      "Enter your score : 123\n",
      "Enter your score : 234\n",
      "Enter your score : 33356\n",
      "Enter your score : 56\n",
      "Enter your score : 234\n",
      "Enter your score : 33\n",
      "Enter your score : 56\n",
      "Enter your score : 76\n",
      "Enter your score : 45\n",
      "Enter your score : 5555\n",
      "Highest value :  33356\n",
      "Lowest value :  33\n",
      "Average value :  3976.8\n",
      "Second highest is :  5555\n",
      "You have entered  1 th value more than 100\n",
      "You have entered  2 th value more than 100\n",
      "You have entered  3 th value more than 100\n",
      "You have entered  5 th value more than 100\n",
      "You have entered  10 th value more than 100\n",
      "Average after dropping lowest score is  4415.0\n"
     ]
    }
   ],
   "source": [
    "###### def highest_lowest(z):\n",
    "def highest_lowest(z):\n",
    "    print('Highest value : ', max(z))\n",
    "    print('Lowest value : ', min(z))\n",
    "    \n",
    "def average_all(z):\n",
    "    mean_z= sum(z) / len(z)\n",
    "    print (\"Average value : \", mean_z)\n",
    "    \n",
    "def second_lagest(z):\n",
    "    z= sorted(z,reverse=True)\n",
    "    z.pop(0)\n",
    "    print('Second highest is : ',z[0])\n",
    "    \n",
    "def check_100(z):\n",
    "    for i in range(10):\n",
    "        if z[i]>100:\n",
    "            print('You have entered ',str(i+1), 'th value more than 100')\n",
    "    \n",
    "def fun(z):\n",
    "    z=sorted(z)\n",
    "    z.pop(0)\n",
    "    mean_z= sum(z) / len(z)\n",
    "    print ('Average after dropping lowest score is ', mean_z)\n",
    "\n",
    "\n",
    "x_list=[]\n",
    "for i in range(10):\n",
    "    x=int(input('Enter your score : '))\n",
    "    x_list.append(x) \n",
    "\n",
    "highest_lowest(x_list)\n",
    "average_all(x_list)\n",
    "second_lagest(x_list)\n",
    "check_100(x_list)\n",
    "fun(x_list)"
   ]
  }
 ],
 "metadata": {
  "colab": {
   "name": "ITP_QB Solution Final Exam.ipynb",
   "provenance": []
  },
  "kernelspec": {
   "display_name": "Python 3 (ipykernel)",
   "language": "python",
   "name": "python3"
  },
  "language_info": {
   "codemirror_mode": {
    "name": "ipython",
    "version": 3
   },
   "file_extension": ".py",
   "mimetype": "text/x-python",
   "name": "python",
   "nbconvert_exporter": "python",
   "pygments_lexer": "ipython3",
   "version": "3.10.5"
  }
 },
 "nbformat": 4,
 "nbformat_minor": 1
}
