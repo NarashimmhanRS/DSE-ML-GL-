{
 "cells": [
  {
   "cell_type": "markdown",
   "metadata": {
    "id": "zmBgItJ9AdyP"
   },
   "source": [
    "# INTRODUCTION TO PYTHON"
   ]
  },
  {
   "cell_type": "markdown",
   "metadata": {
    "id": "TvcUsJ_JAdyV"
   },
   "source": [
    "## Final Exam \n",
    "## Total Marks : 70 Marks"
   ]
  },
  {
   "cell_type": "markdown",
   "metadata": {
    "id": "K-b6qp1oAdyW"
   },
   "source": [
    "----"
   ]
  },
  {
   "cell_type": "markdown",
   "metadata": {
    "id": "76lloc6sAdyX"
   },
   "source": [
    "# SECTION A: 20 MARKS"
   ]
  },
  {
   "cell_type": "markdown",
   "metadata": {
    "id": "dGmlINJ5AdyX"
   },
   "source": [
    " _________________"
   ]
  },
  {
   "cell_type": "markdown",
   "metadata": {
    "id": "tsGDSvNnAdyY"
   },
   "source": [
    "### Q1.  Write a program that asks the user to enter size of the list, then do the following: (5Marks)\n",
    "(a) if size of the list is less than 4 then print a message to user \"Invalid size and enter a size more than 4\". The program will continue from begining.\n",
    "\n",
    "(b) After taking valid size , program should take list items from user and create user defined list.\n",
    "\n",
    "(c) Use the choice() function to print out random item from the list.\n",
    "\n",
    "(d) Use the sample() function to print out three random items from the list.\n",
    "\n",
    "(e) Use the shuffle() function to reorder the list and then print out the list.\n",
    "\n",
    "\n",
    "**Choice(),shuffle(),sample() functions are defined under random library. You need to import random library to use it.**\n",
    "\n",
    "***\n",
    "#### Sample Input/Output:\n",
    "\n",
    "\n",
    "<span style=\"font-family:consolas \">\n",
    "\n",
    "Enter number of elements in the list: 3\n",
    "\n",
    "Invalid size and enter a size more than 4\n",
    "\n",
    "Enter number of elements in the list: 5\n",
    "\n",
    "1\n",
    "\n",
    "2\n",
    "\n",
    "3\n",
    "\n",
    "4\n",
    "\n",
    "5\n",
    "\n",
    "Random item from the list:  1\n",
    "\n",
    "Three random items from the list: ['1', '4', '2']\n",
    "\n",
    "Shuffeled list: ['3', '4', '5', '1', '2']\n",
    "\n",
    "***"
   ]
  },
  {
   "cell_type": "code",
   "execution_count": null,
   "metadata": {
    "id": "muv58nnFAdya",
    "outputId": "c07fc989-ce72-465c-8856-2e3a05cf6240",
    "scrolled": true
   },
   "outputs": [
    {
     "name": "stdout",
     "output_type": "stream",
     "text": [
      "Enter number of elements in the list3\n",
      "Invalid size and enter a size more than 4\n",
      "Enter number of elements in the list5\n",
      "1\n",
      "2\n",
      "3\n",
      "4\n",
      "5\n",
      "Random item from the list: 1\n",
      "Three random items from the list: ['1', '4', '2']\n",
      "Shuffeled list: ['3', '4', '5', '1', '2']\n"
     ]
    }
   ],
   "source": [
    "import random\n",
    "while(True):\n",
    "    n = int(input('Enter number of elements in the list: '))\n",
    "    if n > 4:\n",
    "        lst=[]\n",
    "        for i in range(n):\n",
    "            lst.append(input())\n",
    "        print('Three random items from the list:  ', random.sample(lst,3))\n",
    "        random.shuffle(lst)\n",
    "        print('Shuffeled list:  ',lst)\n",
    "        break\n",
    "    else:\n",
    "        print('Invalid size and enter a size more than 4: ')\n",
    "        continue"
   ]
  },
  {
   "cell_type": "markdown",
   "metadata": {
    "id": "buIvZ5W1Adyd"
   },
   "source": [
    "### Q2. Ask the user for a number and then print the following, where the pattern ends at the number that the user enters.\n",
    "<pre>\n",
    "1\n",
    " 2\n",
    "  3\n",
    "   4\n",
    "    5\n",
    "   4\n",
    "  3\n",
    " 2\n",
    "1\n",
    "</pre>\n",
    "\n",
    "***\n",
    "#### Sample Input/Output:\n",
    "\n",
    "***\n"
   ]
  },
  {
   "cell_type": "raw",
   "metadata": {
    "id": "B93GbNDlAdyf"
   },
   "source": [
    "Enter the number: 5\n",
    "1\n",
    " 2\n",
    "  3\n",
    "   4\n",
    "    5\n",
    "   4\n",
    "  3\n",
    " 2\n",
    "1"
   ]
  },
  {
   "cell_type": "code",
   "execution_count": null,
   "metadata": {
    "id": "UUE6p9ZsAdyg",
    "outputId": "51b2d0b2-269a-45c7-b490-3c937cbd209d"
   },
   "outputs": [
    {
     "name": "stdout",
     "output_type": "stream",
     "text": [
      "Enter the number: 6\n",
      "1\n",
      " 2\n",
      "  3\n",
      "   4\n",
      "    5\n",
      "     6\n",
      "    5\n",
      "   4\n",
      "  3\n",
      " 2\n",
      "1\n"
     ]
    }
   ],
   "source": [
    "n = int(input('Enter the number: '))\n",
    "\n",
    "for i in range(n):\n",
    "    print(' ' * i, end = '')\n",
    "    print(i+1)\n",
    "for i in range(n-1,0,-1):\n",
    "    print(' ' * (i-1), end = '')\n",
    "    print(i)"
   ]
  },
  {
   "cell_type": "markdown",
   "metadata": {
    "id": "PEzgYoFLAdyg"
   },
   "source": [
    "### Q3.Write a program to validate the data entered by its user and then perform conversion from kilogram to pounds. Write a program that asks the user for a weight and converts it from kilograms to pounds. Whenever the user enters a weight below 0, the program should tell them that their entry is invalid and then ask them again to enter a weight. At the end it should show a weight converted into pounds. do this repeatedly untill user enters 'STOP' [use of IF statement is restricated here] (5 marks)\n",
    "\n",
    "\n",
    "***\n",
    "#### Sample Input/Output:\n",
    "\n",
    "Enter Weight or enter STOP: 10\n",
    "\n",
    "Weight in pounds:  22.046226218 lbs\n",
    "\n",
    "Enter Weight: 50\n",
    "\n",
    "Weight in pounds:  110.23113109 lbs\n",
    "\n",
    "Enter Weight: 45\n",
    "\n",
    "Weight in pounds:  99.208017981 lbs\n",
    "\n",
    "Enter Weight: 62\n",
    "\n",
    "Weight in pounds:  136.6866025516 lbs\n",
    "\n",
    "Enter Weight: STOP\n",
    "\n",
    "***"
   ]
  },
  {
   "cell_type": "code",
   "execution_count": null,
   "metadata": {
    "id": "BD2_PoDwAdyh",
    "outputId": "0baff6f7-adc1-43b5-e65e-4b32be6adfd6"
   },
   "outputs": [
    {
     "name": "stdout",
     "output_type": "stream",
     "text": [
      "Enter Weight or enter STOP: 10\n",
      "Weight in pounds:  22.046226218 lbs\n",
      "Enter Weight: 50\n",
      "Weight in pounds:  110.23113109 lbs\n",
      "Enter Weight: 45\n",
      "Weight in pounds:  99.208017981 lbs\n",
      "Enter Weight: 62\n",
      "Weight in pounds:  136.6866025516 lbs\n",
      "Enter Weight: STOP\n"
     ]
    }
   ],
   "source": [
    "w = input('Enter Weight or enter STOP: ')\n",
    "\n",
    "while(w != 'STOP' and int(w) > 0):\n",
    "    p = int(w) * 2.2046226218\n",
    "    print('Weight in pounds: ',p,'lbs')\n",
    "    w = input('Enter Weight: ')"
   ]
  },
  {
   "cell_type": "markdown",
   "metadata": {
    "id": "cQ5FXxyDAdyh"
   },
   "source": [
    "### Q4. Ask the user to enter a list of 10 elemnts containing numbers between 1 and 15. Then replace all of the entries in the list that are greater than 10, with 10 using map() function.(5 Marks)\n",
    "\n",
    "\n",
    "***\n",
    "#### Sample Input/Output:\n",
    "\n",
    "Enter a number between 1 to 15: 3\n",
    "\n",
    "Enter a number between 1 to 15: 13\n",
    "\n",
    "Enter a number between 1 to 15: 7\n",
    "\n",
    "Enter a number between 1 to 15: 12\n",
    "\n",
    "Enter a number between 1 to 15: 13\n",
    "\n",
    "Enter a number between 1 to 15: 4\n",
    "\n",
    "Enter a number between 1 to 15: 5\n",
    "\n",
    "Enter a number between 1 to 15: 6\n",
    "\n",
    "Enter a number between 1 to 15: 17\n",
    "\n",
    "Enter a number between 1 to 15: 18\n",
    "\n",
    "Output list :  [3, 10, 7, 10, 10, 4, 5, 6, 10, 10]\n",
    "\n",
    "***"
   ]
  },
  {
   "cell_type": "code",
   "execution_count": null,
   "metadata": {
    "id": "Ugch1gBzAdyi",
    "outputId": "aa17bfe8-d779-4cc0-8149-fd1458e0e37d"
   },
   "outputs": [
    {
     "name": "stdout",
     "output_type": "stream",
     "text": [
      "Enter a number between 1 to 15: 3\n",
      "Enter a number between 1 to 15: 13\n",
      "Enter a number between 1 to 15: 7\n",
      "Enter a number between 1 to 15: 12\n",
      "Enter a number between 1 to 15: 13\n",
      "Enter a number between 1 to 15: 4\n",
      "Enter a number between 1 to 15: 5\n",
      "Enter a number between 1 to 15: 6\n",
      "Enter a number between 1 to 15: 17\n",
      "Enter a number between 1 to 15: 18\n",
      "Output list :  [3, 10, 7, 10, 10, 4, 5, 6, 10, 10]\n"
     ]
    }
   ],
   "source": [
    "list1= [int(input('Enter a number between 1 to 15: ')) for i in range(10)]\n",
    "\n",
    "\n",
    "map_list = list(map(lambda x : min(x,10),list1))\n",
    "print('Output list : ', map_list)"
   ]
  },
  {
   "cell_type": "markdown",
   "metadata": {
    "id": "BzKG-XGoAdyi"
   },
   "source": [
    "# SECTION B: 20 MARKS"
   ]
  },
  {
   "cell_type": "markdown",
   "metadata": {
    "id": "ilPjpackAdyi"
   },
   "source": [
    "---------------------"
   ]
  },
  {
   "cell_type": "markdown",
   "metadata": {
    "id": "Bf6jbZDWAdyj"
   },
   "source": [
    "### Q5. A superstore has multiple items to sell. These items are categorised as  category A and category B. For festival time the superstore decided to declare some discount, as given below. \n",
    "\n",
    "### for category A items, it charges Rs.15 per item if you buy less than 30 quantity of an item. If you buy between 30 and 99 quantity of an item, the cost is Rs.12 per item. If buying quantity is 100 or more for an item, the cost is Rs.10 per item. \n",
    "\n",
    "### For category B items, it charges Rs.30 per item if you buy less than 50 quantity of an item. If you buy between 50 and 99 quantity of an item, the cost is Rs.25 per item. If buying quantity is 100 or more for an item, the cost is Rs.20 per item. Further it also gives discount of 5% if total bill exceeds 1000 and 10% if bill exceeds 1500.\n",
    "\n",
    "### Write a program which repeatedly ask user to enter no of items and its category. If user enters 'STOP' it shows user has done with the purchase, now calculate total payable amount and display it to user(10 Marks)\n",
    "\n",
    "\n",
    "***\n",
    "#### Sample Input/Output:\n",
    "Enter no of items and its category: 23,A\n",
    "\n",
    "Enter no of items and its category: 56, b\n",
    "\n",
    "Enter no of items and its category: 67,b\n",
    "\n",
    "Enter no of items and its category: 110,a\n",
    "\n",
    "Enter no of items and its category: STOP\n",
    "\n",
    "Total amount payable is :  2808.0\n",
    "\n",
    "***"
   ]
  },
  {
   "cell_type": "code",
   "execution_count": null,
   "metadata": {
    "id": "qAQZivz1Adyj",
    "outputId": "1b3dee12-3af6-46fe-f2b6-958bccc6a849"
   },
   "outputs": [
    {
     "name": "stdout",
     "output_type": "stream",
     "text": [
      "Enter no of items and its category: 23,A\n",
      "Enter no of items and its category: 56, b\n",
      "Enter no of items and its category: 67,b\n",
      "Enter no of items and its category: 110,a\n",
      "Enter no of items and its category: STOP\n",
      "Total amount payable is :  2808.0\n"
     ]
    }
   ],
   "source": [
    "total = 0\n",
    "while(True):\n",
    "    in1 = input('Enter no of items and its category: ')\n",
    "    if in1 != 'STOP':\n",
    "        no_items,cat = in1.split(',')\n",
    "        no_items = int(no_items)\n",
    "        if cat in('A','a'):\n",
    "            if no_items < 30:\n",
    "                total +=  no_items * 15\n",
    "            elif no_items >= 30 and no_items <= 99:\n",
    "                total +=  no_items * 12\n",
    "            else:\n",
    "                total +=  no_items * 10\n",
    "        elif cat in('B','b'):\n",
    "            if no_items < 50:\n",
    "                total +=  no_items * 30\n",
    "            elif no_items >= 50 and no_items <= 99:\n",
    "                total +=  no_items * 25\n",
    "            else:\n",
    "                total +=  no_items * 20\n",
    "    else:\n",
    "        break\n",
    "    \n",
    "if total > 1500:\n",
    "    total = total - total * 0.10\n",
    "elif total > 1000:\n",
    "    total = total - total * 0.05\n",
    "print ('Total amount payable is : ', total)\n",
    "        "
   ]
  },
  {
   "cell_type": "markdown",
   "metadata": {
    "id": "8X4c2mgNAdyj"
   },
   "source": [
    "### Q6.Create a 5*5  list of numbers from 1 to 10 using list comprehension. Print the nested list. \n",
    "### Create a dictionary whose keys are the numbers and whose values are the frequencies of the number in that nested list. \n",
    "### Print the dictionary in the descending order of frequencies of the numbers. \n",
    "### Then print the three most common numbers.(10 Marks) \n",
    "\n",
    "\n",
    "***\n",
    "#### Sample Input/Output:\n",
    "\n",
    "***\n",
    "\n",
    "5 * 5 nested list : \n",
    "[[10, 3, 10, 9, 4], [1, 6, 1, 2, 5], [4, 1, 5, 9, 7], [9, 7, 5, 4, 1], [8, 7, 3, 3, 3]]\n",
    "\n",
    "\n",
    "Dictionary for number and its frequency : \n",
    "{1: 4, 2: 1, 3: 4, 4: 3, 5: 3, 6: 1, 7: 3, 8: 1, 9: 3, 10: 2}\n",
    "\n",
    "\n",
    "Dictionary in descending order of frequency : \n",
    "{1: 4, 3: 4, 4: 3, 5: 3, 7: 3, 9: 3, 10: 2, 2: 1, 6: 1, 8: 1}\n",
    "\n",
    "\n",
    "Top three frequent numbers are [1, 3, 4]"
   ]
  },
  {
   "cell_type": "code",
   "execution_count": null,
   "metadata": {
    "id": "YHxGkX32Adyk",
    "outputId": "9d75f975-70f7-46c0-c571-4acac79ae91b"
   },
   "outputs": [
    {
     "name": "stdout",
     "output_type": "stream",
     "text": [
      "5 * 5 nested list : \n",
      "[[10, 3, 10, 9, 4], [1, 6, 1, 2, 5], [4, 1, 5, 9, 7], [9, 7, 5, 4, 1], [8, 7, 3, 3, 3]]\n",
      "\n",
      "\n",
      "Dictionary for number and its frequency : \n",
      "{1: 4, 2: 1, 3: 4, 4: 3, 5: 3, 6: 1, 7: 3, 8: 1, 9: 3, 10: 2}\n",
      "\n",
      "\n",
      "Dictionary in descending order of frequency : \n",
      "{1: 4, 3: 4, 4: 3, 5: 3, 7: 3, 9: 3, 10: 2, 2: 1, 6: 1, 8: 1}\n",
      "\n",
      "\n",
      "Top three frequent numbers are [1, 3, 4]\n"
     ]
    }
   ],
   "source": [
    "import random\n",
    "matrix = [[random.randint(1,10) for i in range(5)] for i in range(5)]\n",
    "print('5 * 5 nested list : ')\n",
    "print(matrix)\n",
    "print('\\n')\n",
    "\n",
    "dict1 = {i:0 for i in range(1,11)}\n",
    "\n",
    "for x in matrix:\n",
    "    for i in x:\n",
    "        dict1[i] = dict1[i] + 1\n",
    "        #print(dict1)\n",
    "        \n",
    "        \n",
    "        \n",
    "print('Dictionary for number and its frequency : ')\n",
    "print(dict1)\n",
    "print('\\n')\n",
    "sorted_x = {k: v for k, v in sorted(dict1.items(), key=lambda item: item[1],reverse =True)}\n",
    "print('Dictionary in descending order of frequency : ')\n",
    "print(sorted_x)\n",
    "print('\\n')\n",
    "list2 = list(sorted_x.keys())\n",
    "print ('Top three frequent numbers are', list2[0:3])"
   ]
  },
  {
   "cell_type": "markdown",
   "metadata": {
    "id": "erRNeBhMAdyk"
   },
   "source": [
    "# SECTION C: 30 MARKS"
   ]
  },
  {
   "cell_type": "markdown",
   "metadata": {
    "id": "bgAFIfchAdyk"
   },
   "source": [
    "--------------------"
   ]
  },
  {
   "cell_type": "markdown",
   "metadata": {
    "id": "dGhHYFAtAdyk"
   },
   "source": [
    "### Q7. One way of encrypting a string message is to rearrange its characters. Simple way to rearrange the characters is to pick out the characters at even indices, put them first in the encrypted string and follow them by the odd characters.\n",
    "#### For example, the string \"message\" would be encrypted as \"msaeesg\" because the even characters are m, s, a, e (at indices 0, 2, 4, and 6) and the odd characters are e, s, g (at indices 1, 3, and 5).\n",
    "#### (a) Write a function encrypt()to encrypt the string given by user.\n",
    "#### (b) Write a function decrypt() to decrypt a string that was encrypted before.(15 Marks)\n",
    "\n",
    "\n",
    "***\n",
    "#### Sample Input/Output:\n",
    "<span style=\"font-family:consolas \">\n",
    "Encrypted message is :  SceMsaeertesg\n",
    "    \n",
    "Decrypted message is :  SecretMessage\n",
    "***"
   ]
  },
  {
   "cell_type": "code",
   "execution_count": null,
   "metadata": {
    "id": "mxdr4Cm-Adyl",
    "outputId": "da19c719-2e96-4d67-e894-bd51e4784c8f"
   },
   "outputs": [
    {
     "name": "stdout",
     "output_type": "stream",
     "text": [
      "Encrypted message is :  SceMsaeertesg\n",
      "Decrypted message is :  SecretMessage\n"
     ]
    }
   ],
   "source": [
    "def encrypt(s):\n",
    "    e = s[::2]\n",
    "    o = s[1::2]\n",
    "    return e+o\n",
    "\n",
    "\n",
    "def decrypt(s):\n",
    "    n = len(s)\n",
    "    ns=[]\n",
    "    m=''\n",
    "    s1 = s[0:(n//2)]\n",
    "    if n%2 !=0:\n",
    "        m = s[n//2]\n",
    "        s2 = s[(n//2)+1:]\n",
    "    else:\n",
    "        s2 = s[(n//2):]  \n",
    "    #print(s1,s2)\n",
    "    for i,j in zip(s1,s2):\n",
    "        ns.append(i)\n",
    "        ns.append(j)\n",
    " \n",
    "    ns.append(m)\n",
    "    #print(ns)\n",
    "    ns = ''.join(ns)\n",
    "    return ns  \n",
    "\n",
    "encr_message = encrypt('SecretMessage')\n",
    "print('Encrypted message is : ',encr_message)\n",
    "decr_message = decrypt(encr_message)\n",
    "print('Decrypted message is : ',decr_message)"
   ]
  },
  {
   "cell_type": "markdown",
   "metadata": {
    "id": "McjPi365Adyl"
   },
   "source": [
    "### Q8. Write a program that checks to see if a 4 * 4 list is a magic square. In a magic square, every row, column, and the two diagonals add up to the same value. Write a function magic_square which returns True if list is magic square otherwise it returns false (15 Marks)\n",
    "\n",
    "E.g Given below is 4 * 4 magic Square\n",
    "<pre>\n",
    "    1  15  14  4\n",
    "    10 11   8  5\n",
    "    7  6    9  12\n",
    "    16 2    3  13\n",
    "\n",
    "\n",
    "***\n",
    "#### Sample Input/Output:\n",
    "\n",
    "***"
   ]
  },
  {
   "cell_type": "code",
   "execution_count": null,
   "metadata": {
    "id": "9JXMMeyBAdyl",
    "outputId": "ca82540b-9c23-4615-feca-016c93e78eb3"
   },
   "outputs": [
    {
     "name": "stdout",
     "output_type": "stream",
     "text": [
      "Its a magic Square\n"
     ]
    }
   ],
   "source": [
    "def magic_square(l1):\n",
    "    n = len(l1)\n",
    "    total_sums= []\n",
    "    \n",
    "    for i in range(n):\n",
    "        sum1=0\n",
    "        for j in range(n):\n",
    "            sum1 = sum1 + l1[i][j]\n",
    "        total_sums.append(sum1)\n",
    "    \n",
    "    for i in range(n):\n",
    "        sum1=0\n",
    "        for j in range(n):\n",
    "            sum1 = sum1 + l1[j][i]\n",
    "        total_sums.append(sum1)\n",
    "        \n",
    "    sum1=0    \n",
    "    for i in range(n):\n",
    "        sum1 += l1[i][i]\n",
    "    total_sums.append(sum1)\n",
    "    \n",
    "    sum1=0 \n",
    "    for i in range(n):\n",
    "        for j in range(n):\n",
    "            if((i+j) == (n-1)):\n",
    "                sum1 += l1[i][j]\n",
    "    total_sums.append(sum1)\n",
    "                \n",
    "                \n",
    "    if len(set(total_sums)) == 1:\n",
    "        return True\n",
    "    else:\n",
    "        return False\n",
    "\n",
    "\n",
    "\n",
    "l1 = [[1,15,14,4],[10,11,8,5],[7,6,9,12],[16,2,3,13]]\n",
    "if (magic_square(l1)):\n",
    "    print('Its a magic Square')\n",
    "else:\n",
    "    print('Its not a magic Square')\n"
   ]
  }
 ],
 "metadata": {
  "colab": {
   "provenance": []
  },
  "kernelspec": {
   "display_name": "Python 3 (ipykernel)",
   "language": "python",
   "name": "python3"
  },
  "language_info": {
   "codemirror_mode": {
    "name": "ipython",
    "version": 3
   },
   "file_extension": ".py",
   "mimetype": "text/x-python",
   "name": "python",
   "nbconvert_exporter": "python",
   "pygments_lexer": "ipython3",
   "version": "3.10.5"
  }
 },
 "nbformat": 4,
 "nbformat_minor": 1
}
