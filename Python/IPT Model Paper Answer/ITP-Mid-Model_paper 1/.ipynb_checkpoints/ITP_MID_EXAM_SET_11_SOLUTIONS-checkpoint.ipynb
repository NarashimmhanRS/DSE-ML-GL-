{
 "cells": [
  {
   "cell_type": "markdown",
   "metadata": {
    "id": "XWbMvTJd9JvT"
   },
   "source": [
    "# INTRODUCTION TO PYTHON"
   ]
  },
  {
   "cell_type": "markdown",
   "metadata": {
    "id": "Ne1Hu5Yk9JvU"
   },
   "source": [
    "## Mid Exam \n",
    "## Total Marks : 50 Marks"
   ]
  },
  {
   "cell_type": "markdown",
   "metadata": {
    "id": "5m5ZD-vj9JvV"
   },
   "source": [
    "# SECTION A: 8 MARKS"
   ]
  },
  {
   "cell_type": "markdown",
   "metadata": {
    "id": "G90wbHz19JvW"
   },
   "source": [
    " _________________"
   ]
  },
  {
   "cell_type": "markdown",
   "metadata": {
    "id": "WyIgnniF9JvW"
   },
   "source": [
    "### Q1. Explain Break and continue statements with examples (8 Marks)\n"
   ]
  },
  {
   "cell_type": "markdown",
   "metadata": {
    "id": "CrZZ66LR9JvX"
   },
   "source": [
    "In Python, break and continue statements can alter the flow of a normal loop.\n",
    "\n",
    "Loops iterate over a block of code until the test expression is false, but sometimes we wish to terminate the current iteration or even the whole loop without checking test expression.\n",
    "\n",
    "The break and continue statements are used in these cases.\n",
    "\n",
    "**The break statement** terminates the loop containing it. Control of the program flows to the statement immediately after the body of the loop.\n",
    "\n",
    "If the break statement is inside a nested loop (loop inside another loop), the break statement will terminate the innermost loop."
   ]
  },
  {
   "cell_type": "code",
   "execution_count": null,
   "metadata": {
    "id": "xLur6WAz9JvY",
    "outputId": "2d9f148b-0275-467f-fcfc-eb6d9d767f2b"
   },
   "outputs": [
    {
     "name": "stdout",
     "output_type": "stream",
     "text": [
      "1\n",
      "2\n",
      "3\n",
      "4\n",
      "The end\n"
     ]
    }
   ],
   "source": [
    "# Use of break statement inside the loop\n",
    "\n",
    "for val in range(1,11):\n",
    "    if val == 5:\n",
    "        break\n",
    "    print(val)\n",
    "\n",
    "print(\"The end\")"
   ]
  },
  {
   "cell_type": "code",
   "execution_count": null,
   "metadata": {
    "id": "AgDUAMhs9Jvd"
   },
   "outputs": [],
   "source": [
    "The continue statement is used to skip the rest of the code inside a loop for the current iteration only. Loop does not terminate but continues on with the next iteration."
   ]
  },
  {
   "cell_type": "code",
   "execution_count": null,
   "metadata": {
    "id": "0y4Bd4SS9Jvg",
    "outputId": "c79043ae-dc26-42b9-8dba-74f81e515e95"
   },
   "outputs": [
    {
     "name": "stdout",
     "output_type": "stream",
     "text": [
      "1\n",
      "2\n",
      "3\n",
      "4\n",
      "6\n",
      "7\n",
      "8\n",
      "9\n",
      "10\n",
      "The end\n"
     ]
    }
   ],
   "source": [
    "# Use of continue statement inside the loop\n",
    "\n",
    "for val in range(1,11):\n",
    "    if val == 5:\n",
    "        continue\n",
    "    print(val)\n",
    "\n",
    "print(\"The end\")"
   ]
  },
  {
   "cell_type": "markdown",
   "metadata": {
    "id": "C-hEioGJ9Jvk"
   },
   "source": [
    "# SECTION B: 17 MARKS"
   ]
  },
  {
   "cell_type": "markdown",
   "metadata": {
    "id": "bdMuJI509Jvk"
   },
   "source": [
    "---------------------"
   ]
  },
  {
   "cell_type": "markdown",
   "metadata": {
    "id": "_0buB1M4o9Mi"
   },
   "source": [
    "### Q2. The Body Mass Index, BMI, is calculated as, $703 * (W/H^2)$ where W is the person’s weight in pounds and H is the person’s height in inches. Write a program that asks the user for their height , weight and prints out their BMI and Weight class based on BMI. (8 Marks)\n",
    "Use classification given below:\n",
    "\n",
    "“Under weight: BMI <18.5” \n",
    "\n",
    "“Healthy weight: BMI 18.5–24” \n",
    "\n",
    "“Overweight: BMI 25–29.9”\n",
    "\n",
    "“Obese: BMI >30”\n",
    "\n",
    "***\n",
    "#### Sample Input/Output:\n",
    "<span style=\"font-family:consolas \"> <br>Enter your weight in pounds: 125\n",
    "    \n",
    "Enter your height in inches: 68\n",
    "\n",
    "Your BMI is: 19.004\n",
    "\n",
    "Healthy Weight\n",
    "***"
   ]
  },
  {
   "cell_type": "code",
   "execution_count": null,
   "metadata": {
    "id": "gOWWkiUI9Jvl"
   },
   "outputs": [],
   "source": [
    "W = int(input('Enter your weight in pounds: '))\n",
    "H = int(input('Enter your height in inches: '))\n",
    "\n",
    "bmi= 703 * (W/ H**2)\n",
    "\n",
    "print('Your BMI is: %.3f'%bmi)\n",
    "\n",
    "if bmi >= 30:\n",
    "    print('Obese')\n",
    "elif bmi>= 25 and bmi < 30:\n",
    "    print('Overweight')\n",
    "elif bmi>= 18.5 and bmi < 25:\n",
    "    print('Healthy Weight')\n",
    "else:\n",
    "    print('Under weight')"
   ]
  },
  {
   "cell_type": "markdown",
   "metadata": {
    "id": "f9j1EIxDo9M6"
   },
   "source": [
    "### Q3. Write a program for temperature conversion. Take input from user for a temperature. Then ask user what units, Celsius or Fahrenheit, the temperature is in. Your program should convert the temperature to the other unit. (9 Marks)\n",
    "\n",
    "### The conversions are  \n",
    "#### F = 9/5 * C + 32 and C = 5/9 * (F - 32) \n",
    "\n",
    "\n",
    "***\n",
    "#### Sample Input/Output:\n",
    "\n",
    "Enter Temperature: 34\n",
    "\n",
    "Enter unit : Celsius or Fahrenheit?  Celsius\n",
    "\n",
    "34 degree Celsius is 93.2 degree Fahrenheit\n",
    "\n",
    "***"
   ]
  },
  {
   "cell_type": "code",
   "execution_count": null,
   "metadata": {
    "id": "ZA5tTX939Jvp",
    "outputId": "b331f2ef-a2bf-49c2-adaa-b03aaf8de653",
    "scrolled": true
   },
   "outputs": [
    {
     "name": "stdout",
     "output_type": "stream",
     "text": [
      "Enter Temperature: 34\n",
      "Enter unit : Celsius or Fahrenheit?  Celsius\n",
      "34 degree Celsius is 93.2 degree Fahrenheit\n"
     ]
    }
   ],
   "source": [
    "t = int(input(\"Enter Temperature: \"))\n",
    "unit = input(\"Enter unit : Celsius or Fahrenheit?  \")\n",
    "if unit.lower() == 'celsius':\n",
    "    F = (9/5) * t + 32\n",
    "    print('{0} degree Celsius is {1} degree Fahrenheit'.format(t,F))\n",
    "else:\n",
    "    C = 5/9 * (t - 32)\n",
    "    print('{0} degree Fahrenheit is {1} degree Celsius'.format(t,C))"
   ]
  },
  {
   "cell_type": "markdown",
   "metadata": {
    "id": "774SkU-x9Jvs"
   },
   "source": [
    "# SECTION C: 25 MARKS"
   ]
  },
  {
   "cell_type": "markdown",
   "metadata": {
    "id": "U5jAjZCE9Jvs"
   },
   "source": [
    "--------------------"
   ]
  },
  {
   "cell_type": "markdown",
   "metadata": {
    "id": "uY4KZB4W9Jvs"
   },
   "source": [
    "### Q4.To convert from inches to centimeters, the conversion is to multiply by 2.54. To convert from inches to meters, the conversion is to multiply by .0254. To convert from inches to feet, the conversion is to multiply by 1/12. To convert from inches to yards, the conversion is to multiply by 1/36. Write program that creates a dictionary whose keys are cm, m, ft and yd and whose values are these conversion factors. Then ask the user to enter a value in inches and the unit (abbreviation) that they want to convert to. Use the dictionary to do the conversion and print out the result. [8 Marks]\n",
    "\n",
    "***\n",
    "#### Sample Input/Output:\n",
    "<span style=\"font-family:consolas \">\n",
    "<br>\n",
    "    \n",
    "Enter inches : 10\n",
    "\n",
    "Enter conversion unit: cm\n",
    "\n",
    "10 Inches converted to 25.4 cm\n",
    "***"
   ]
  },
  {
   "cell_type": "code",
   "execution_count": null,
   "metadata": {
    "id": "GZ-XBIOF9Jvt",
    "outputId": "04f44a0a-8ea2-4ead-846e-530f0ba811bd"
   },
   "outputs": [
    {
     "name": "stdout",
     "output_type": "stream",
     "text": [
      "Enter inches : 10\n",
      "Enter conversion unit: cm\n",
      "10 Inches converted to 25.4 cm\n"
     ]
    }
   ],
   "source": [
    "convert_d= {'cm':2.54,'m':0.0254,'ft':1/12,'yd':1/36}\n",
    "\n",
    "inches = int(input('Enter inches : '))\n",
    "\n",
    "conv_factors = input('Enter conversion unit: ').lower()\n",
    "\n",
    "ans =  inches * convert_d[conv_factors]\n",
    "\n",
    "print(\"{0} Inches converted to {1} \".format(inches,ans) + str(conv_factors))"
   ]
  },
  {
   "cell_type": "markdown",
   "metadata": {
    "id": "zv0P6AP89Jvx"
   },
   "source": [
    "### Q5.  Write a program that asks the user to enter a string of at least six characters. Then print out the following: (17 Marks)\n",
    "(a) The string backwards\n",
    "\n",
    "(b) Every character of the string except the last one\n",
    "\n",
    "(c) Every character of the string except the first and last\n",
    "\n",
    "(d) If the string contains a lowercase a, print out the index of the first a. Otherwise say that there is no lowercase a\n",
    "\n",
    "(e) The string in all caps\n",
    "\n",
    "(f) The string with every space replaced with an underscore"
   ]
  },
  {
   "cell_type": "code",
   "execution_count": null,
   "metadata": {
    "id": "_ujNFyU19Jvx",
    "outputId": "48a74f64-78d9-4e13-eed2-fffeab6dd499"
   },
   "outputs": [
    {
     "name": "stdout",
     "output_type": "stream",
     "text": [
      "a. The string backwards:  gninrael taerg\n",
      "b. Every character of the string except the last one:  great learnin\n",
      "c. Every character of the string except the first and last:  reat learnin\n",
      "d. index of lowercase a is :  3\n",
      "e. The string in all caps  GREAT LEARNING\n",
      "f. The string with every space replaced with an underscore  great_learning\n"
     ]
    }
   ],
   "source": [
    "#str1 = input('Enter a string: ')\n",
    "str1= 'great learning'\n",
    "print('a. The string backwards: ', str1[::-1])\n",
    "print('b. Every character of the string except the last one: ', str1[:-1:])\n",
    "print('c. Every character of the string except the first and last: ', str1[1:-1:])\n",
    "print('d. ',end= '')\n",
    "if 'a' in str1:\n",
    "    print('index of lowercase a is : ',str1.index('a'))\n",
    "else:\n",
    "    print('there is no lowercase a')\n",
    "\n",
    "print('e. The string in all caps ', str1.upper())\n",
    "print('f. The string with every space replaced with an underscore ', str1.replace(' ','_'))\n"
   ]
  },
  {
   "cell_type": "code",
   "execution_count": null,
   "metadata": {
    "id": "ZMy3WtPM9Jv0"
   },
   "outputs": [],
   "source": []
  }
 ],
 "metadata": {
  "colab": {
   "collapsed_sections": [],
   "provenance": []
  },
  "kernelspec": {
   "display_name": "Python 3 (ipykernel)",
   "language": "python",
   "name": "python3"
  },
  "language_info": {
   "codemirror_mode": {
    "name": "ipython",
    "version": 3
   },
   "file_extension": ".py",
   "mimetype": "text/x-python",
   "name": "python",
   "nbconvert_exporter": "python",
   "pygments_lexer": "ipython3",
   "version": "3.10.5"
  }
 },
 "nbformat": 4,
 "nbformat_minor": 1
}
