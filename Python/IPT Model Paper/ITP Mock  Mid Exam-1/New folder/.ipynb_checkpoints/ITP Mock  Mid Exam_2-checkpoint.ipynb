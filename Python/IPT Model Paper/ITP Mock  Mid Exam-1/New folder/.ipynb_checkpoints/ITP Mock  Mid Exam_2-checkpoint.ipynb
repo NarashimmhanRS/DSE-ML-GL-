{
 "cells": [
  {
   "cell_type": "markdown",
   "metadata": {},
   "source": [
    "<table align=\"left\" width=100%>\n",
    "    <tr>\n",
    "        <td width=\"20%\">\n",
    "            <img src=\"GL-2.png\">\n",
    "        </td>\n",
    "        <td>\n",
    "            <div align=\"center\">\n",
    "                <font color=\"#21618C\" size=8px>\n",
    "                  <b> Mid Exam <br> </b>\n",
    "                </font>\n",
    "            </div>\n",
    "        </td>\n",
    "    </tr>\n",
    "</table>"
   ]
  },
  {
   "cell_type": "markdown",
   "metadata": {},
   "source": [
    "### Introduction to Python"
   ]
  },
  {
   "cell_type": "markdown",
   "metadata": {},
   "source": [
    "### Total Marks = 50"
   ]
  },
  {
   "cell_type": "markdown",
   "metadata": {},
   "source": [
    "### Section A: 8 Marks"
   ]
  },
  {
   "cell_type": "markdown",
   "metadata": {},
   "source": [
    "#### 1. Create Python Program for adding two binary numbers value?(3 marks)\n",
    "    \n",
    "**Note:** input is decimal value 5 and decimal value 21 = sum of decimal value 26"
   ]
  },
  {
   "cell_type": "code",
   "execution_count": 22,
   "metadata": {},
   "outputs": [
    {
     "name": "stdout",
     "output_type": "stream",
     "text": [
      "101\n",
      "10101\n",
      "26\n"
     ]
    }
   ],
   "source": [
    "a = 5\n",
    "b = 21\n",
    "\n",
    "ad = (bin(a).replace(\"0b\",\"\"))\n",
    "bd = (bin(b).replace(\"0b\",\"\"))\n",
    "print(ad)\n",
    "print(bd)\n",
    "sum = int(ad,2)+int(bd,2)\n",
    "print(sum)\n"
   ]
  },
  {
   "cell_type": "markdown",
   "metadata": {
    "id": "EsiTFFjdmtQJ"
   },
   "source": [
    "##### 2. A string is said to be complete if it contains all the characters from a to z. Given a string, check if it is complete or not.   ( 5 marks)                                                                                  \n",
    "\n",
    "**Input:** The first line of the input contains the number of strings N. It is followed by N lines each contains a single string.\n",
    "\n",
    "**Output:** For each test case print \"YES\" if the string is complete, else print \"NO\"\n",
    "\n",
    "Constraints\n",
    "1 <= N <= 10\n",
    "\n",
    "The length of the string is at max 100 and the string contains only the characters a to z\n",
    "\n",
    "\n",
    "**SAMPLE INPUT: 3**\n",
    "\n",
    "wyyga\n",
    "\n",
    "qwertyuioplkjhgfdsazxcvbnm\n",
    "\n",
    "ejuxggfsts\n",
    "\n",
    "\n",
    "\n",
    "**SAMPLE OUTPUT**\n",
    "\n",
    "NO\n",
    "\n",
    "YES\n",
    "\n",
    "NO\n"
   ]
  },
  {
   "cell_type": "code",
   "execution_count": 105,
   "metadata": {},
   "outputs": [
    {
     "name": "stdout",
     "output_type": "stream",
     "text": [
      "Enter the string abcdefghijklmnopqrstuvwxyzzzabcdefghijklmnopqrstuvwxyzzz\n",
      "Yes\n"
     ]
    }
   ],
   "source": [
    "# coun = int(input(\"Input the number of input\"))\n",
    "in1 = input(\"Enter the string \")\n",
    "aa = in1.isalpha()\n",
    "ww = 'abcdefghijklmnopqrstuvwxyzzz'\n",
    "l1 = [i for i in ww]\n",
    "t1 = set(l1)\n",
    "l2=[]\n",
    "if (aa == True) & (len(in1) <= 100):\n",
    "    l2 = [j for j in in1]\n",
    "    t2 = set(l2)\n",
    "    if t1 == t2:\n",
    "        print('Yes')\n",
    "    else:\n",
    "        print('No')\n",
    "else:\n",
    "    print(\"NOO\")\n",
    "           \n",
    "    "
   ]
  },
  {
   "cell_type": "code",
   "execution_count": 87,
   "metadata": {
    "id": "g1muMsjNmtQM",
    "outputId": "cbd44c8b-50d5-4b13-b843-d5e15d851533"
   },
   "outputs": [],
   "source": [
    "# Solution"
   ]
  },
  {
   "cell_type": "markdown",
   "metadata": {},
   "source": [
    "### Section B: 17 Marks"
   ]
  },
  {
   "cell_type": "markdown",
   "metadata": {
    "id": "j-1kZSB_mtQN"
   },
   "source": [
    "#### 3. a) Write a Python program to build a numeric converter. The program will take integer from the user and convert it into binary, octal , hexadecimal, float , complex format. (6 marks)\n"
   ]
  },
  {
   "cell_type": "markdown",
   "metadata": {
    "id": "RGYNQDNdmtQN"
   },
   "source": [
    "**SAMPLE INPUT AND OUTPUT:**\n",
    "    \n",
    "    \n",
    "Enter a number                                123\n",
    "\n",
    "The binary of the number is                   0b1111011\n",
    "\n",
    "The octal of the number is                    0o173\n",
    "\n",
    "The hexadecimal of the number is              0x7b\n",
    "\n",
    "The float of the numbers is                   123.0\n",
    "\n",
    "The complex of the number is                  123+0j)\n"
   ]
  },
  {
   "cell_type": "code",
   "execution_count": 48,
   "metadata": {
    "id": "eXu2e7J6mtQO",
    "outputId": "f79f5076-fd41-4c2c-a9b4-bef648e76987"
   },
   "outputs": [
    {
     "name": "stdout",
     "output_type": "stream",
     "text": [
      "Enter the number 123\n",
      "The binary of the number is 0b1111011\n",
      "The octal of the number is 0o173\n",
      "The hexadecimal of the number is 0x7b\n",
      "The float of the number is 123.0\n",
      "The complex of the number is (123+0j)\n"
     ]
    }
   ],
   "source": [
    "in2 = int(input(\"Enter the number \"))\n",
    "print(\"The binary of the number is\",bin(in2))\n",
    "print(\"The octal of the number is\",oct(in2))\n",
    "print(\"The hexadecimal of the number is\",hex(in2))\n",
    "print(\"The float of the number is\",float(in2))\n",
    "print(\"The complex of the number is\",complex(in2))"
   ]
  },
  {
   "cell_type": "markdown",
   "metadata": {
    "id": "562Ujm3RmtQO"
   },
   "source": [
    "### 3 b). Write a python program to manipulate lists. Take two lists \n",
    "\n",
    "#### L1=[1,2,3,4,5,6,7,8,9,10] and L2=[10,20,30,40,50,60,70,80,90,100].\n",
    "\n",
    "\n",
    "a) Concatenate L1 and L2.(2 mark)\n",
    "\n",
    "b) Use the inbuilt function zip and save a copy of the zipped lists as L3.(2 marks)\n",
    "\n",
    "c) Identify the common elements between the two L1 and L2 and print the answer. (2 marks)"
   ]
  },
  {
   "cell_type": "markdown",
   "metadata": {
    "id": "hpZCL5l3mtQP"
   },
   "source": [
    "**SAMPLE INPUT AND OUTPUT:**\n",
    "\n",
    "\n",
    "L1=[1,2,3,4,5,6,7,8,9,10]\n",
    "\n",
    "L2=[10,20,30,40,50,60,70,80,90,100]\n",
    "\n",
    "Concatenation: [1, 2, 3, 4, 5, 6, 7, 8, 9, 10, 10, 20, 30, 40, 50, 60, 70, 80, 90, 100]\n",
    "\n",
    "L3=[(1, 10), (2, 20), (3, 30), (4, 40), (5, 50), (6, 60), (7, 70), (8, 80), (9, 90), (10, 100)]\n",
    "\n",
    "The common element in both the list is 10\n"
   ]
  },
  {
   "cell_type": "code",
   "execution_count": 57,
   "metadata": {
    "id": "-VJNvAoDmtQP"
   },
   "outputs": [
    {
     "name": "stdout",
     "output_type": "stream",
     "text": [
      "[1, 2, 3, 4, 5, 6, 7, 8, 9, 10]\n",
      "[10, 20, 30, 40, 50, 60, 70, 80, 90, 100]\n",
      "[1, 2, 3, 4, 5, 6, 7, 8, 9, 10, 10, 20, 30, 40, 50, 60, 70, 80, 90, 100]\n",
      "[(1, 10), (2, 20), (3, 30), (4, 40), (5, 50), (6, 60), (7, 70), (8, 80), (9, 90), (10, 100)]\n",
      "The common element in both the list is 10\n"
     ]
    }
   ],
   "source": [
    "L1=[1,2,3,4,5,6,7,8,9,10]\n",
    "\n",
    "L2=[10,20,30,40,50,60,70,80,90,100]\n",
    "\n",
    "conca  = L1 + L2\n",
    "print(L1)\n",
    "print(L2)\n",
    "print(conca)\n",
    "L3 = zip(L1,L2)\n",
    "print(list(L3))\n",
    "for i in L1:\n",
    "    for j in L2:\n",
    "        if i == j:\n",
    "            print(\"The common element in both the list is\",i)"
   ]
  },
  {
   "cell_type": "markdown",
   "metadata": {
    "id": "P_BGiPeOmtQR"
   },
   "source": [
    "### 4. Write a numbers guessing game in python. Roll a dice and it shows up numbers between 1 and 6. The user has to guess the number on the dice. If the guess is correct, then the user wins. If the guess is not correct the user looses the game. (5 marks)"
   ]
  },
  {
   "cell_type": "markdown",
   "metadata": {
    "id": "a9KtoAb_mtQR"
   },
   "source": [
    "**SAMPLE INPUT AND OUTPUT:**\n",
    "    \n",
    "Guess the number on the dice   23\n",
    "\n",
    "your guess is wrong\n",
    "\n"
   ]
  },
  {
   "cell_type": "code",
   "execution_count": 77,
   "metadata": {
    "id": "uJa3d4L4mtQR",
    "outputId": "cfa79719-a4fc-4f79-8884-7fca8f9eda0b"
   },
   "outputs": [
    {
     "name": "stdout",
     "output_type": "stream",
     "text": [
      "Guess the number on the dice 1\n",
      "dice number 1\n",
      "your guess is correct\n"
     ]
    }
   ],
   "source": [
    "import random\n",
    "dice = random.randint(0,6)\n",
    "in3 = int(input(\"Guess the number on the dice \"))\n",
    "print(\"dice number\",dice)\n",
    "if in3 == dice:\n",
    "    print(\"your guess is correct\")\n",
    "else:\n",
    "    print(\"your guess is wrong\")"
   ]
  },
  {
   "cell_type": "markdown",
   "metadata": {},
   "source": [
    "### Section C: 25 Marks"
   ]
  },
  {
   "cell_type": "markdown",
   "metadata": {
    "id": "layB7431mtQT"
   },
   "source": [
    "## 5. Write a program that lets the user play Rock-Paper-Scissors against the computer. \n",
    "\n",
    "\n",
    "1. There should be five rounds,in every round user will get a chance to pick one item from [rock,paper,scissor] and computer will randomly select one. \n",
    "2. Depending upon the selection either one of the player will get a point as per the rules or it will be draw if both the items are same.\n",
    "3. In every round, player's choice and their current score should be updated and displayed. \n",
    "4. After those five rounds, your program should print out who won and lost or that there is a tie. (10 Marks)\n",
    "\n",
    "        **Rules for the Game:**\n",
    "        1. Scissors beats Paper\n",
    "        2. Rock beats Scissors\n",
    "        3. Paper beats Rock\n",
    "\n",
    "\n"
   ]
  },
  {
   "cell_type": "markdown",
   "metadata": {
    "id": "SAklRS-1mtQT"
   },
   "source": [
    "**SAMPLE INPUT AND OUTPUT:**\n",
    "\n",
    "\n",
    "---------------------Round 1----------------------------\n",
    "\n",
    "Enter your choice : paper\n",
    "\n",
    "your choice :  paper\n",
    "\n",
    "Computer's choice:  paper\n",
    "\n",
    "Scoreboard : Your score 0 , computer's score 0 \n",
    "\n",
    "---------------------Round 2----------------------------\n",
    "\n",
    "Enter your choice : paper\n",
    "\n",
    "your choice :  paper\n",
    "\n",
    "Computer's choice:  scissor\n",
    "\n",
    "Scoreboard : Your score 0 , computer's score 1 \n",
    "\n",
    "---------------------Round 3----------------------------\n",
    "\n",
    "Enter your choice : rock\n",
    "\n",
    "your choice :  rock\n",
    "\n",
    "Computer's choice:  scissor\n",
    "\n",
    "Scoreboard : Your score 1 , computer's score 1 \n",
    "\n",
    "---------------------Round 4----------------------------\n",
    "\n",
    "Enter your choice : rock\n",
    "\n",
    "\n",
    "your choice :  rock\n",
    "\n",
    "Computer's choice:  scissor\n",
    "\n",
    "Scoreboard : Your score 2 , computer's score 1 \n",
    "\n",
    "---------------------Round 5----------------------------\n",
    "\n",
    "Enter your choice : rock\n",
    "\n",
    "your choice :  rock\n",
    "\n",
    "Computer's choice:  paper\n",
    "\n",
    "Scoreboard : Your score 2 , computer's score 1 \n",
    "\n",
    "Result : Congratulations!!! You won!!!\n",
    "\n"
   ]
  },
  {
   "cell_type": "code",
   "execution_count": 115,
   "metadata": {
    "id": "0ttRQlCNmtQU",
    "outputId": "a5a02868-f365-41f8-82a0-3d8a99318887",
    "scrolled": false
   },
   "outputs": [
    {
     "name": "stdout",
     "output_type": "stream",
     "text": [
      "-----------------Round 1 -----------------\n",
      "Enter your choice : adf\n",
      "your choice: adf\n",
      "Enter the correct option\n",
      "-----------------Round 1 -----------------\n",
      "Enter your choice : rock\n",
      "your choice: rock\n",
      "Computer's choice: paper\n",
      "Scoreboard : Your score 0 computer's score 1\n",
      "-----------------Round 2 -----------------\n",
      "Enter your choice : paper\n",
      "your choice: paper\n",
      "Computer's choice: scissor\n",
      "Scoreboard : Your score 0 computer's score 2\n",
      "-----------------Round 3 -----------------\n",
      "Enter your choice : paper\n",
      "your choice: paper\n",
      "Computer's choice: rock\n",
      "Scoreboard : Your score 1 computer's score 2\n",
      "-----------------Round 4 -----------------\n",
      "Enter your choice : rock\n",
      "your choice: rock\n",
      "Computer's choice: paper\n",
      "Scoreboard : Your score 1 computer's score 3\n",
      "-----------------Round 5 -----------------\n",
      "Enter your choice : paper\n",
      "your choice: paper\n",
      "Computer's choice: rock\n",
      "Scoreboard : Your score 2 computer's score 3\n",
      "Result : Computer won!!!\n"
     ]
    }
   ],
   "source": [
    "import random\n",
    "game = ['rock','paper','scissor'] \n",
    "count = 0\n",
    "ps = 0\n",
    "cs = 0\n",
    "\n",
    "while  count < 5:\n",
    "    print(\"-----------------Round\",count+1,\"-----------------\")\n",
    "    p = input(\"Enter your choice : \")\n",
    "    print('your choice:',p)\n",
    "    if p in game:\n",
    "        c = random.choice(game)\n",
    "        print(\"Computer's choice:\",c)\n",
    "        if p == c:\n",
    "            continue\n",
    "        if p == 'scissor' and c == 'paper':\n",
    "            ps +=1\n",
    "            count +=1\n",
    "        elif p == 'rock' and c == 'scissor':\n",
    "            ps +=1\n",
    "            count +=1\n",
    "        elif p == 'paper' and c == 'rock':\n",
    "            ps +=1\n",
    "            count +=1\n",
    "        else:\n",
    "            cs +=1\n",
    "            count +=1\n",
    "    else:\n",
    "        print('Enter the correct option')\n",
    "        continue\n",
    "    print(\"Scoreboard : Your score\",ps,\"computer's score\",cs)\n",
    "if ps > cs:\n",
    "    print(\"Result : Congratulations!!! You won!!!\")\n",
    "else:\n",
    "    print(\"Result : Computer won!!!\")\n",
    "        \n",
    "        "
   ]
  },
  {
   "cell_type": "markdown",
   "metadata": {
    "id": "sTs88tArmtQU"
   },
   "source": [
    "## 6. Ask the user to enter 10 test scores. Write five different functions to do the following: (15 Marks)\n",
    "\n",
    "(a) Print out the highest and lowest scores.\n",
    "\n",
    "(b) Print out the average of the scores.\n",
    "\n",
    "(c) Print out the second largest score.\n",
    "\n",
    "(d) If any of the scores is greater than 100, then after all the scores \n",
    "have been entered, print\n",
    "a message warning the user that a value over 100 has been entered.\n",
    "\n",
    "(e) Drop the two lowest scores and print out the average of the rest of them.\n",
    "\n"
   ]
  },
  {
   "cell_type": "markdown",
   "metadata": {
    "id": "iISeGvArmtQU"
   },
   "source": [
    "**SAMPLE INPUT AND OUTPUT:**\n",
    "    \n",
    "Enter your score : 123\n",
    "\n",
    "Enter your score : 1234\n",
    "\n",
    "Enter your score : 1234\n",
    "\n",
    "Enter your score : 1234\n",
    "\n",
    "Enter your score : 543\n",
    "\n",
    "Enter your score : 543\n",
    "\n",
    "Enter your score : 7654\n",
    "\n",
    "Enter your score : 23456\n",
    "\n",
    "Enter your score : 8765\n",
    "\n",
    "Enter your score : 34567\n",
    "\n",
    "Highest value :  34567\n",
    "\n",
    "Lowest value :  123\n",
    "\n",
    "Average value :  7935.3\n",
    "\n",
    "Second highest is :  23456\n",
    "\n",
    "You have entered  1 th value more than 100\n",
    "\n",
    "You have entered  2 th value more than 100\n",
    "\n",
    "You have entered  3 th value more than 100\n",
    "\n",
    "You have entered  4 th value more than 100\n",
    "\n",
    "You have entered  5 th value more than 100\n",
    "\n",
    "You have entered  6 th value more than 100\n",
    "\n",
    "You have entered  7 th value more than 100\n",
    "\n",
    "\n",
    "You have entered  8 th value more than 100\n",
    "\n",
    "You have entered  9 th value more than 100\n",
    "\n",
    "You have entered  10 th value more than 100\n",
    "\n",
    "Average after dropping lowest score is  8803.333333333334\n",
    "\n",
    "\n"
   ]
  },
  {
   "cell_type": "code",
   "execution_count": 163,
   "metadata": {
    "id": "wTlYaf5hmtQV",
    "outputId": "ee8e2232-0950-48d7-c318-d8d9d233ea44"
   },
   "outputs": [],
   "source": [
    "def high(l1):\n",
    "    l1.sort()\n",
    "    return l1[-1]\n",
    "def low(l1):\n",
    "    l1.sort()\n",
    "    return l1[0]\n",
    "def high2(l1):\n",
    "    l1.sort()\n",
    "    return l1[-2]\n",
    "def avg(l1):\n",
    "    temp =0\n",
    "    for i in l1:\n",
    "        temp +=i\n",
    "    av = temp/len(l1)\n",
    "    return av\n",
    "def scr(ll):\n",
    "    print(ll)\n",
    "    for i in range(0,len(ll)):\n",
    "        if ll[i] > 100:\n",
    "            print(\"You have entered\",i+1,\"th value more than 100\")\n",
    "def avg2(l1):\n",
    "    l1.sort()\n",
    "    del l1[0:2]\n",
    "    temp =0\n",
    "    for i in l1:\n",
    "        temp +=i\n",
    "    av = temp/len(l1)\n",
    "    return av\n",
    "    \n",
    "    "
   ]
  },
  {
   "cell_type": "code",
   "execution_count": 164,
   "metadata": {},
   "outputs": [
    {
     "name": "stdout",
     "output_type": "stream",
     "text": [
      "Enter your score :12\n",
      "Enter your score :23\n",
      "Enter your score :234\n",
      "Enter your score :34\n",
      "Enter your score :456\n",
      "Enter your score :45\n",
      "Enter your score :67\n",
      "Enter your score :87\n",
      "Enter your score :6778\n",
      "Enter your score :98\n",
      "Highest vale: 6778\n",
      "Lowest vale: 12\n",
      "2nd Highest vale: 456\n",
      "Average vale: 783.4\n",
      "[12, 23, 34, 45, 67, 87, 98, 234, 456, 6778]\n",
      "You have entered 8 th value more than 100\n",
      "You have entered 9 th value more than 100\n",
      "You have entered 10 th value more than 100\n",
      "Average vale 2: 974.875\n"
     ]
    }
   ],
   "source": [
    "l2 = [101,202,303,404,505,606]\n",
    "l1 = []\n",
    "for j in range(10):\n",
    "    a = int(input(\"Enter your score :\"))\n",
    "    l1.append(a)\n",
    "ll = l1\n",
    "print(\"Highest vale:\",high(l1))\n",
    "print(\"Lowest vale:\",low(l1))\n",
    "print(\"2nd Highest vale:\",high2(l1))\n",
    "print(\"Average vale:\",avg(l1))\n",
    "scr(ll)\n",
    "print(\"Average vale 2:\",avg2(l1))"
   ]
  },
  {
   "cell_type": "markdown",
   "metadata": {},
   "source": [
    "## "
   ]
  },
  {
   "cell_type": "code",
   "execution_count": null,
   "metadata": {},
   "outputs": [],
   "source": []
  }
 ],
 "metadata": {
  "colab": {
   "name": "ITP_QB Solution Final Exam.ipynb",
   "provenance": []
  },
  "kernelspec": {
   "display_name": "Python 3 (ipykernel)",
   "language": "python",
   "name": "python3"
  },
  "language_info": {
   "codemirror_mode": {
    "name": "ipython",
    "version": 3
   },
   "file_extension": ".py",
   "mimetype": "text/x-python",
   "name": "python",
   "nbconvert_exporter": "python",
   "pygments_lexer": "ipython3",
   "version": "3.10.5"
  }
 },
 "nbformat": 4,
 "nbformat_minor": 1
}
