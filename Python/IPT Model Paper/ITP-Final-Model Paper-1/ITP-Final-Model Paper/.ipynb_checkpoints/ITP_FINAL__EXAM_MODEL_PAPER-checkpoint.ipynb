{
 "cells": [
  {
   "cell_type": "markdown",
   "metadata": {},
   "source": [
    "<table align=\"left\" width=100%>\n",
    "    <tr>\n",
    "        <td width=\"20%\">\n",
    "            <img src=\"GL-2.png\">\n",
    "        </td>\n",
    "        <td>\n",
    "            <div align=\"center\">\n",
    "                <font color=\"#21618C\" size=8px>\n",
    "                  <b> Final Exam<br> </b>\n",
    "                </font>\n",
    "            </div>\n",
    "        </td>\n",
    "    </tr>\n",
    "</table>"
   ]
  },
  {
   "cell_type": "markdown",
   "metadata": {},
   "source": [
    "# INTRODUCTION TO PYTHON"
   ]
  },
  {
   "cell_type": "markdown",
   "metadata": {},
   "source": [
    "\n",
    "## Total Marks : 70 Marks"
   ]
  },
  {
   "cell_type": "markdown",
   "metadata": {},
   "source": [
    "----"
   ]
  },
  {
   "cell_type": "markdown",
   "metadata": {},
   "source": [
    "# SECTION A: 20 MARKS"
   ]
  },
  {
   "cell_type": "markdown",
   "metadata": {},
   "source": [
    " _________________"
   ]
  },
  {
   "cell_type": "markdown",
   "metadata": {},
   "source": [
    "### Q1.  Write a program that asks the user to enter size of the list, then do the following: (5Marks)\n",
    "(a) if size of the list is less than 4 then print a message to user \"Invalid size and enter a size more than 4\". The program will continue from begining.\n",
    "\n",
    "(b) After taking valid size , program should take list items from user and create user defined list. \n",
    "\n",
    "(c) Use the choice() function to print out random item from the list.\n",
    "\n",
    "(d) Use the sample() function to print out three random items from the list.\n",
    "\n",
    "(e) Use the shuffle() function to reorder the list and then print out the list.\n",
    "\n",
    "\n",
    "**Choice(),shuffle(),sample() functions are defined under random library. You need to import random library to use it.**\n",
    "\n",
    "***\n",
    "#### Sample Input/Output:\n",
    "\n",
    "\n",
    "<span style=\"font-family:consolas \">\n",
    "\n",
    "Enter number of elements in the list: 3\n",
    "\n",
    "Invalid size and enter a size more than 4\n",
    "\n",
    "Enter number of elements in the list: 5\n",
    "\n",
    "1\n",
    "\n",
    "2\n",
    "\n",
    "3\n",
    "\n",
    "4\n",
    "\n",
    "5\n",
    "\n",
    "Random item from the list:  1\n",
    "\n",
    "Three random items from the list: ['1', '4', '2']\n",
    "\n",
    "Shuffeled list: ['3', '4', '5', '1', '2']\n",
    "\n",
    "***"
   ]
  },
  {
   "cell_type": "code",
   "execution_count": 12,
   "metadata": {},
   "outputs": [
    {
     "name": "stdout",
     "output_type": "stream",
     "text": [
      "Enter number of elements in the list: 5\n",
      "1\n",
      "2\n",
      "3\n",
      "4\n",
      "5\n",
      "[1, 2, 3, 4, 5]\n",
      "Random item from the list: 4\n",
      "Three random items from the list: [2, 1, 4]\n",
      "Shuffeled list: [5, 3, 1, 2, 4]\n"
     ]
    }
   ],
   "source": [
    "import random\n",
    "in1 = int(input(\"Enter number of elements in the list: \"))\n",
    "l1 =[]\n",
    "if in1 < 4:\n",
    "    print(\"Invalid size and enter a size more than 4\")\n",
    "else:\n",
    "    for i in range(in1):\n",
    "        a = int(input())\n",
    "        l1.append(a)\n",
    "print(l1)\n",
    "print(\"Random item from the list:\",random.choice(l1))\n",
    "print(\"Three random items from the list:\",random.sample(l1,3))\n",
    "random.shuffle(l1)\n",
    "print(\"Shuffeled list:\",l1)\n",
    "    "
   ]
  },
  {
   "cell_type": "markdown",
   "metadata": {},
   "source": [
    "### Q2. Ask the user for a number and then print the following, where the pattern ends at the number that the user enters.\n",
    "<pre>\n",
    "1\n",
    " 2\n",
    "  3\n",
    "   4\n",
    "    5\n",
    "   4\n",
    "  3\n",
    " 2\n",
    "1\n",
    "</pre>\n",
    "\n",
    "***\n",
    "#### Sample Input/Output:\n",
    "\n",
    "***"
   ]
  },
  {
   "cell_type": "raw",
   "metadata": {},
   "source": [
    "Enter the number: 5\n",
    "1\n",
    " 2\n",
    "  3\n",
    "   4\n",
    "    5\n",
    "   4\n",
    "  3\n",
    " 2\n",
    "1"
   ]
  },
  {
   "cell_type": "code",
   "execution_count": 40,
   "metadata": {},
   "outputs": [
    {
     "name": "stdout",
     "output_type": "stream",
     "text": [
      "  1 \n",
      "    2 \n",
      "      3 \n",
      "        4 \n",
      "          5 \n",
      "        4 \n",
      "      3 \n",
      "    2 \n",
      "  1 \n"
     ]
    }
   ],
   "source": [
    "n =5\n",
    "for i in range(1,n+1):\n",
    "    for j in range(i):\n",
    "        print(\" \",end=\" \")\n",
    "    for k in range(i):\n",
    "        print(i,end=\" \")\n",
    "        break\n",
    "    print()\n",
    "for i in range(1,n):\n",
    "    for j in range(n-i):\n",
    "        print(\" \",end=\" \")\n",
    "    for k in range(i):\n",
    "        print(n-i,end=\" \")\n",
    "        break\n",
    "    print()"
   ]
  },
  {
   "cell_type": "markdown",
   "metadata": {},
   "source": [
    "### Q3.Write a program to validate the data entered by its user and then perform conversion from kilogram to pounds. Write a program that asks the user for a weight and converts it from kilograms to pounds. Whenever the user enters a weight below 0, the program should tell them that their entry is invalid and then ask them again to enter a weight. At the end it should show a weight converted into pounds. do this repeatedly untill user enters 'STOP' [use of IF statement is restricated here] (5 marks)\n",
    "\n",
    "\n",
    "***\n",
    "#### Sample Input/Output:\n",
    "\n",
    "Enter Weight or enter STOP: 10\n",
    "\n",
    "Weight in pounds:  22.046226218 lbs\n",
    "\n",
    "Enter Weight: 50\n",
    "\n",
    "Weight in pounds:  110.23113109 lbs\n",
    "\n",
    "Enter Weight: 45\n",
    "\n",
    "Weight in pounds:  99.208017981 lbs\n",
    "\n",
    "Enter Weight: 62\n",
    "\n",
    "Weight in pounds:  136.6866025516 lbs\n",
    "\n",
    "Enter Weight: STOP\n",
    "\n",
    "***"
   ]
  },
  {
   "cell_type": "code",
   "execution_count": null,
   "metadata": {},
   "outputs": [],
   "source": []
  },
  {
   "cell_type": "markdown",
   "metadata": {},
   "source": [
    "### Q4. Ask the user to enter a list of 10 elemnts containing numbers between 1 and 15. Then replace all of the entries in the list that are greater than 10, with 10 using map() function.(5 Marks)\n",
    "\n",
    "\n",
    "***\n",
    "#### Sample Input/Output:\n",
    "\n",
    "Enter a number between 1 to 15: 3\n",
    "\n",
    "Enter a number between 1 to 15: 13\n",
    "\n",
    "Enter a number between 1 to 15: 7\n",
    "\n",
    "Enter a number between 1 to 15: 12\n",
    "\n",
    "Enter a number between 1 to 15: 13\n",
    "\n",
    "Enter a number between 1 to 15: 4\n",
    "\n",
    "Enter a number between 1 to 15: 5\n",
    "\n",
    "Enter a number between 1 to 15: 6\n",
    "\n",
    "Enter a number between 1 to 15: 17\n",
    "\n",
    "Enter a number between 1 to 15: 18\n",
    "\n",
    "Output list :  [3, 10, 7, 10, 10, 4, 5, 6, 10, 10]\n",
    "\n",
    "***"
   ]
  },
  {
   "cell_type": "code",
   "execution_count": 77,
   "metadata": {},
   "outputs": [
    {
     "name": "stdout",
     "output_type": "stream",
     "text": [
      "Enter a number between 1 to 15: 12\n",
      "Enter a number between 1 to 15: 1\n",
      "Enter a number between 1 to 15: 23\n",
      "Enter a number between 1 to 15: 2\n",
      "[12, 1, 23, 2]\n",
      "Output list : []\n"
     ]
    }
   ],
   "source": [
    "def abcd(a1):\n",
    "    if a1 > 10:\n",
    "        return 10\n",
    "ll1 = []\n",
    "for j in range(4):\n",
    "    aa = int(input(\"Enter a number between 1 to 15: \"))\n",
    "    ll1.append(aa)\n",
    "print(ll1)\n",
    "out1 = map(abcd,ll1)\n",
    "print(\"Output list :\",list(out))"
   ]
  },
  {
   "cell_type": "markdown",
   "metadata": {},
   "source": [
    "## "
   ]
  },
  {
   "cell_type": "markdown",
   "metadata": {},
   "source": [
    "##### SECTION B: 20 MARKS"
   ]
  },
  {
   "cell_type": "markdown",
   "metadata": {},
   "source": [
    "---------------------"
   ]
  },
  {
   "cell_type": "markdown",
   "metadata": {},
   "source": [
    "### Q5. A superstore has multiple items to sell. These items are categorised as  category A and category B. For festival time the superstore decided to declare some discount, as given below. \n",
    "\n",
    "### for category A items, it charges Rs.15 per item if you buy less than 30 quantity of an item. If you buy between 30 and 99 quantity of an item, the cost is Rs.12 per item. If buying quantity is 100 or more for an item, the cost is Rs.10 per item. \n",
    "\n",
    "### For category B items, it charges Rs.30 per item if you buy less than 50 quantity of an item. If you buy between 50 and 99 quantity of an item, the cost is Rs.25 per item. If buying quantity is 100 or more for an item, the cost is Rs.20 per item. Further it also gives discount of 5% if total bill exceeds 1000 and 10% if bill exceeds 1500.\n",
    "\n",
    "### Write a program which repeatedly ask user to enter no of items and its category. If user enters 'STOP' it shows user has done with the purchase, now calculate total payable amount and display it to user(10 Marks)\n",
    "\n",
    "\n",
    "***\n",
    "#### Sample Input/Output:\n",
    "Enter no of items and its category: 23,A\n",
    "\n",
    "Enter no of items and its category: 56, b\n",
    "\n",
    "Enter no of items and its category: 67,b\n",
    "\n",
    "Enter no of items and its category: 110,a\n",
    "\n",
    "Enter no of items and its category: STOP\n",
    "\n",
    "Total amount payable is :  2808.0\n",
    "\n",
    "***"
   ]
  },
  {
   "cell_type": "code",
   "execution_count": 15,
   "metadata": {
    "scrolled": true
   },
   "outputs": [
    {
     "name": "stdout",
     "output_type": "stream",
     "text": [
      "Enter no of items and its category: 23,a\n",
      "Enter no of items and its category: 56,b\n",
      "Enter no of items and its category: 67,b\n",
      "Enter no of items and its category: 110,a\n",
      "Enter no of items and its category: stop\n",
      "23 a\n",
      "56 b\n",
      "67 b\n",
      "110 a\n",
      "Total : 4149.5\n"
     ]
    }
   ],
   "source": [
    "d1 ={}\n",
    "totalA = 0\n",
    "totalB = 0\n",
    "while(True):\n",
    "    ab = input(\"Enter no of items and its category: \")\n",
    "    if ab == 'STOP' or ab == 'stop':\n",
    "        break\n",
    "    else:\n",
    "        t1 = ab.split(\",\")\n",
    "        d1[t1[0]] = t1[1]\n",
    "\n",
    "for k,j in d1.items():\n",
    "    print(k,j)\n",
    "    if j == 'A' or j == 'a':\n",
    "        i = int(k)\n",
    "        if i < 30:\n",
    "            temp1 = i*15\n",
    "            totalA +=temp1\n",
    "        elif i>30 and i<99:\n",
    "            temp2 = i*12\n",
    "            totalA += temp2\n",
    "        elif i>=100:\n",
    "            temp3 = i*10\n",
    "            totalA += temp3\n",
    "    if j == 'B' or j == 'b':\n",
    "        i = int(k)\n",
    "        if i < 30:\n",
    "            temp4 = i*30\n",
    "            totalB +=temp4\n",
    "        elif i>30 and i<99:\n",
    "            temp5 = i*25\n",
    "            totalB += temp5\n",
    "        elif i>=100:\n",
    "            temp6 = i*20\n",
    "            totalB += temp6\n",
    "        if (totalB > 1000) and (totalB < 1500):\n",
    "            totalB = totalB - totalB*0.05\n",
    "        elif totalB > 1500:\n",
    "            totalB = totalB - totalB*0.1\n",
    "total = totalA + totalB\n",
    "print(\"Total :\",total)"
   ]
  },
  {
   "cell_type": "markdown",
   "metadata": {},
   "source": [
    "### Q6.Create a 5*5  list of numbers from 1 to 10 using list comprehension. Print the nested list. \n",
    "### Create a dictionary whose keys are the numbers and whose values are the frequencies of the number in the nested list mentined above\n",
    "### Print the dictionary in the descending order of frequencies of the numbers. \n",
    "### Then print the three most common numbers.(10 Marks) \n",
    "\n",
    "\n",
    "***\n",
    "#### Sample Input/Output:\n",
    "\n",
    "5 * 5 nested list : \n",
    "[[10, 3, 10, 9, 4], [1, 6, 1, 2, 5], [4, 1, 5, 9, 7], [9, 7, 5, 4, 1], [8, 7, 3, 3, 3]]\n",
    "\n",
    "\n",
    "Dictionary for number and its frequency : \n",
    "{1: 4, 2: 1, 3: 4, 4: 3, 5: 3, 6: 1, 7: 3, 8: 1, 9: 3, 10: 2}\n",
    "\n",
    "\n",
    "Dictionary in descending order of frequency : \n",
    "{1: 4, 3: 4, 4: 3, 5: 3, 7: 3, 9: 3, 10: 2, 2: 1, 6: 1, 8: 1}\n",
    "\n",
    "\n",
    "Top three frequent numbers are [1, 3, 4]\n",
    "\n",
    "***"
   ]
  },
  {
   "cell_type": "code",
   "execution_count": 32,
   "metadata": {},
   "outputs": [
    {
     "name": "stdout",
     "output_type": "stream",
     "text": [
      "[[7, 7, 2, 8, 10], [7, 6, 1, 9, 10], [2, 8, 1, 1, 3], [2, 8, 7, 2, 6], [3, 1, 3, 1, 8]]\n",
      "{7: 4, 2: 4, 8: 4, 10: 2, 6: 2, 1: 5, 9: 1, 3: 3}\n",
      "{1: 5, 7: 4, 2: 4, 8: 4, 3: 3, 10: 2, 6: 2, 9: 1}\n",
      "[1, 7, 2]\n"
     ]
    }
   ],
   "source": [
    "import random\n",
    "d2 = {}\n",
    "d4 = {}\n",
    "cont = 0\n",
    "ll1 = []\n",
    "a = [[ random.randint(1,10) for j in range(5)] for i in range(5)]\n",
    "print(a)\n",
    "for m in a:\n",
    "    for n in m:\n",
    "        if n in d2:\n",
    "            d2[n] +=1\n",
    "        else:\n",
    "            d2[n] = 1\n",
    "\n",
    "a = list(d2.values())\n",
    "a.sort(reverse =True)\n",
    "for i in a:\n",
    "    for x,y in d2.items():\n",
    "        if i == y:\n",
    "            d4[x] = y\n",
    "print(d2)\n",
    "print(d4)\n",
    "c =0\n",
    "for k,l in d4.items():\n",
    "    if c <3:\n",
    "        ll1.append(k)\n",
    "        c +=1\n",
    "print(ll1)\n",
    "    \n",
    "            \n",
    "\n",
    "    "
   ]
  },
  {
   "cell_type": "markdown",
   "metadata": {},
   "source": [
    "# SECTION C: 30 MARKS"
   ]
  },
  {
   "cell_type": "markdown",
   "metadata": {},
   "source": [
    "--------------------"
   ]
  },
  {
   "cell_type": "markdown",
   "metadata": {},
   "source": [
    "### Q7. One way of encrypting a string message is to rearrange its characters. Simple way to rearrange the characters is to pick out the characters at even indices, put them first in the encrypted string and follow them by the odd characters.\n",
    "#### For example, the string message would be encrypted as msaeesg because the even characters are m, s, a, e (at indices 0, 2, 4, and 6) and the odd characters are e, s, g (at indices 1, 3, and 5).\n",
    "#### (a) Write a function encrypt()to encrypt the string given by user.\n",
    "#### (b) Write a function decrypt() to decrypt a string that was encrypted before.(15 Marks)\n",
    "\n",
    "\n",
    "***\n",
    "#### Sample Input/Output:\n",
    "<span style=\"font-family:consolas \">\n",
    "Encrypted message is :  SceMsaeertesg\n",
    "    \n",
    "Decrypted message is :  SecretMessage\n",
    "***"
   ]
  },
  {
   "cell_type": "code",
   "execution_count": 94,
   "metadata": {},
   "outputs": [
    {
     "name": "stdout",
     "output_type": "stream",
     "text": [
      "['S', 'c', 'e', 'M', 's', 'a', 'e']\n",
      "['e', 'r', 't', 'e', 's', 'g']\n",
      "['S', 'c', 'e', 'M', 's', 'a', 'e', 'e', 'r', 't', 'e', 's', 'g']\n",
      "SceMsaeertesg\n"
     ]
    }
   ],
   "source": [
    "def encrypt(a):\n",
    "    b1 =[]\n",
    "    b2 =[]\n",
    "    c = \"\"\n",
    "    for i in range(len(a)):\n",
    "        if i%2 ==0:\n",
    "            b1.append(a[i])\n",
    "        else:\n",
    "            b2.append(a[i])\n",
    "    print(b1)\n",
    "    print(b2)\n",
    "    b1.extend(b2)\n",
    "    print(b1)\n",
    "    for j in b1:\n",
    "        c += j\n",
    "    print(c)\n",
    "\n",
    "# def decrypt(b):\n",
    "#     b3 =[]\n",
    "#     b4 =[]\n",
    "#     for i in \n",
    "a = 'SecretMessage'\n",
    "encrypt(a)\n",
    "    "
   ]
  },
  {
   "cell_type": "code",
   "execution_count": null,
   "metadata": {},
   "outputs": [],
   "source": []
  },
  {
   "cell_type": "code",
   "execution_count": 131,
   "metadata": {},
   "outputs": [
    {
     "name": "stdout",
     "output_type": "stream",
     "text": [
      "6.5\n",
      "['S', 'c', 'e', 'M', 's', 'a', 'e']\n",
      "['e', 'r', 't', 'e', 's', 'g']\n"
     ]
    },
    {
     "ename": "IndexError",
     "evalue": "list index out of range",
     "output_type": "error",
     "traceback": [
      "\u001b[1;31m---------------------------------------------------------------------------\u001b[0m",
      "\u001b[1;31mIndexError\u001b[0m                                Traceback (most recent call last)",
      "Input \u001b[1;32mIn [131]\u001b[0m, in \u001b[0;36m<cell line: 17>\u001b[1;34m()\u001b[0m\n\u001b[0;32m     13\u001b[0m \u001b[38;5;66;03m#     for x in range(len(a)):\u001b[39;00m\n\u001b[0;32m     14\u001b[0m \u001b[38;5;66;03m#         if x%2 !=0:\u001b[39;00m\n\u001b[0;32m     15\u001b[0m \u001b[38;5;66;03m#             b3.insert(x,)\u001b[39;00m\n\u001b[0;32m     16\u001b[0m \u001b[38;5;66;03m#     print(b3)\u001b[39;00m\n\u001b[0;32m     17\u001b[0m \u001b[38;5;28;01mfor\u001b[39;00m x \u001b[38;5;129;01min\u001b[39;00m \u001b[38;5;28mrange\u001b[39m(\u001b[38;5;241m0\u001b[39m,\u001b[38;5;28mlen\u001b[39m(a)):\n\u001b[1;32m---> 18\u001b[0m     c \u001b[38;5;241m+\u001b[39m\u001b[38;5;241m=\u001b[39m \u001b[38;5;28mstr\u001b[39m(\u001b[43mb3\u001b[49m\u001b[43m[\u001b[49m\u001b[43mx\u001b[49m\u001b[43m]\u001b[49m)\n",
      "\u001b[1;31mIndexError\u001b[0m: list index out of range"
     ]
    }
   ],
   "source": [
    "a = 'SceMsaeertesg'\n",
    "b3 =[]\n",
    "b4 =[]\n",
    "d = []\n",
    "print(len(a)/2)\n",
    "if len(a)%2 !=0:\n",
    "    for m in range(0,len(a)//2+1):\n",
    "        b3.append(a[m])\n",
    "    for n in range(len(a)//2+1,len(a)):\n",
    "        b4.append(a[n])\n",
    "    print(b3)\n",
    "    print(b4)\n",
    "#     for x in range(len(a)):\n",
    "#         if x%2 !=0:\n",
    "#             b3.insert(x,)\n",
    "#     print(b3)\n",
    "for x in range(0,len(a)):\n",
    "    c += str(b3[x])"
   ]
  },
  {
   "cell_type": "markdown",
   "metadata": {},
   "source": [
    "### Q8. Write a program that checks to see if a 4 * 4 list is a magic square. In a magic square, every row, column, and the two diagonals add up to the same value. Write a function magic_square which returns True if list is magic square otherwise it returns false (15 Marks)\n",
    "\n",
    "E.g Given below is 4 * 4 magic Square\n",
    "<pre>\n",
    "    1  15  14  4\n",
    "    10 11   8  5\n",
    "    7  6    9  12\n",
    "    16 2    3  13\n",
    "\n",
    "\n",
    "***\n",
    "#### Sample Input/Output: \n",
    "Its a magic Square\n",
    "\n",
    "***"
   ]
  },
  {
   "cell_type": "code",
   "execution_count": null,
   "metadata": {},
   "outputs": [],
   "source": []
  }
 ],
 "metadata": {
  "kernelspec": {
   "display_name": "Python 3 (ipykernel)",
   "language": "python",
   "name": "python3"
  },
  "language_info": {
   "codemirror_mode": {
    "name": "ipython",
    "version": 3
   },
   "file_extension": ".py",
   "mimetype": "text/x-python",
   "name": "python",
   "nbconvert_exporter": "python",
   "pygments_lexer": "ipython3",
   "version": "3.10.5"
  }
 },
 "nbformat": 4,
 "nbformat_minor": 2
}
