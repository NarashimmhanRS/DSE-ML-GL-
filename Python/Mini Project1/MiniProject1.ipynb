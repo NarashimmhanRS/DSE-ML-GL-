{
 "cells": [
  {
   "cell_type": "markdown",
   "id": "9c9afb72",
   "metadata": {},
   "source": [
    "# Mini Project Zomato"
   ]
  },
  {
   "cell_type": "markdown",
   "id": "f55f3a24",
   "metadata": {},
   "source": [
    " 1.Import libraries that you required and Load the data set."
   ]
  },
  {
   "cell_type": "code",
   "execution_count": 2,
   "id": "296e7707",
   "metadata": {},
   "outputs": [],
   "source": [
    "import matplotlib.pyplot as plt\n",
    "import numpy as np\n",
    "import pandas as pd\n",
    "import math"
   ]
  },
  {
   "cell_type": "code",
   "execution_count": 4,
   "id": "ccccbad0",
   "metadata": {},
   "outputs": [],
   "source": [
    "dz = pd.read_csv('Zomoto.csv')"
   ]
  },
  {
   "cell_type": "markdown",
   "id": "d34ffa1d",
   "metadata": {},
   "source": [
    "2.Which are the top restaurant chains based on the distribution(frequency) in Bangaluru?"
   ]
  },
  {
   "cell_type": "code",
   "execution_count": 30,
   "id": "8a6debb9",
   "metadata": {},
   "outputs": [
    {
     "name": "stdout",
     "output_type": "stream",
     "text": [
      "Cafe Coffee Day              18\n",
      "Keventers                    17\n",
      "Onesta                       17\n",
      "McDonald's                   16\n",
      "SGS Non Veg - Gundu Pulav    16\n",
      "Name: name, dtype: int64\n"
     ]
    }
   ],
   "source": [
    "Top_Restaurant = dz['name'].value_counts().head(5)\n",
    "print(Top_Restaurant)"
   ]
  },
  {
   "cell_type": "markdown",
   "id": "fc94abf7",
   "metadata": {},
   "source": [
    "3.How many restaurants do not accept online orders?"
   ]
  },
  {
   "cell_type": "code",
   "execution_count": 40,
   "id": "f054f403",
   "metadata": {},
   "outputs": [
    {
     "name": "stdout",
     "output_type": "stream",
     "text": [
      "Restaurants doesnot accept online order : 4057\n"
     ]
    }
   ],
   "source": [
    "Online_Order_No=dz[dz['online_order'] == 'No']['name'].count()\n",
    "print('Restaurants doesnot accept online order :',Online_Order_No)"
   ]
  },
  {
   "cell_type": "markdown",
   "id": "a5f64c37",
   "metadata": {},
   "source": [
    "4.What is the ratio b/w restaurants that provide and do not provide table booking?"
   ]
  },
  {
   "cell_type": "code",
   "execution_count": 24,
   "id": "ffa59326",
   "metadata": {
    "scrolled": true
   },
   "outputs": [
    {
     "name": "stdout",
     "output_type": "stream",
     "text": [
      "Ratio : 7.03\n"
     ]
    }
   ],
   "source": [
    "tb = round((dz[dz['book_table'] == 'No']['book_table'].count() / dz[dz['book_table'] == 'Yes']['book_table'].count()),2)\n",
    "print('Ratio :',tb)"
   ]
  },
  {
   "cell_type": "markdown",
   "id": "d570111f",
   "metadata": {},
   "source": [
    "6.Online and Offline orders restaurants percentage"
   ]
  },
  {
   "cell_type": "code",
   "execution_count": 22,
   "id": "ec3b03cd",
   "metadata": {},
   "outputs": [
    {
     "name": "stdout",
     "output_type": "stream",
     "text": [
      "OnlineOrderPercentage : 40.57\n",
      "OflineOrderPercentage : 59.43\n"
     ]
    }
   ],
   "source": [
    "onlineRes = dz[dz['online_order'] == 'No']['online_order'].count()\n",
    "oflineRes = dz[dz['online_order'] == 'Yes']['online_order'].count()\n",
    "TotalRes = onlineRes + oflineRes\n",
    "OnlineOrderPer = round((onlineRes / TotalRes) * 100, 2)\n",
    "OflineOrderPer = round((oflineRes / TotalRes) * 100, 2)\n",
    "print('OnlineOrderPercentage :',OnlineOrderPer)\n",
    "print('OflineOrderPercentage :',OflineOrderPer)"
   ]
  },
  {
   "cell_type": "markdown",
   "id": "4d3d8a5c",
   "metadata": {},
   "source": [
    "9. Which are the most common restaurant type in Banglore?"
   ]
  },
  {
   "cell_type": "code",
   "execution_count": 30,
   "id": "823882a5",
   "metadata": {},
   "outputs": [
    {
     "name": "stdout",
     "output_type": "stream",
     "text": [
      "Most Commom Restaurant type in Banglore : Quick Bites    3625\n",
      "Name: rest_type, dtype: int64\n"
     ]
    }
   ],
   "source": [
    "Most_Rest_type = dz['rest_type'].value_counts().head(1)\n",
    "print('Most Commom Restaurant type in Banglore :',Most_Rest_type)"
   ]
  },
  {
   "cell_type": "markdown",
   "id": "998573e0",
   "metadata": {},
   "source": [
    "10.Is there any difference b/w the votes of restaurants accepting and not accepting online orders?"
   ]
  },
  {
   "cell_type": "code",
   "execution_count": 37,
   "id": "9c28832c",
   "metadata": {},
   "outputs": [
    {
     "name": "stdout",
     "output_type": "stream",
     "text": [
      "Diffrence in percentage : 159.11\n"
     ]
    }
   ],
   "source": [
    "vno = dz[dz['online_order'] == 'No']['votes'].sum()\n",
    "vyes = dz[dz['online_order'] == 'Yes']['votes'].sum()\n",
    "difvote = round(vyes/vno * 100,2)\n",
    "print('Diffrence in percentage :',difvote)"
   ]
  },
  {
   "cell_type": "markdown",
   "id": "5ff968da",
   "metadata": {},
   "source": [
    "11.Which are the most common restaurant type in Banglore?"
   ]
  },
  {
   "cell_type": "code",
   "execution_count": 41,
   "id": "e60f8c54",
   "metadata": {},
   "outputs": [
    {
     "name": "stdout",
     "output_type": "stream",
     "text": [
      "Most Commom Restaurant type in Banglore : Quick Bites    3625\n",
      "Name: rest_type, dtype: int64\n"
     ]
    }
   ],
   "source": [
    "Most_Rest_type = dz['rest_type'].value_counts().head(1)\n",
    "print('Most Commom Restaurant type in Banglore :',Most_Rest_type)"
   ]
  },
  {
   "cell_type": "markdown",
   "id": "8427f4b3",
   "metadata": {},
   "source": [
    "12.Find the Best budget Restaurants in any location ?"
   ]
  },
  {
   "cell_type": "code",
   "execution_count": null,
   "id": "0ddd2a1b",
   "metadata": {},
   "outputs": [],
   "source": [
    "dz['approx_cost(for two people)'] = dz['approx_cost(for two people)'].str.replace(',','')\n",
    "dz['approx_cost(for two people)'] = dz['approx_cost(for two people)'].astype(str).astype(float)"
   ]
  },
  {
   "cell_type": "code",
   "execution_count": 94,
   "id": "b9c569e8",
   "metadata": {},
   "outputs": [
    {
     "data": {
      "text/plain": [
       "Series([], Name: name, dtype: object)"
      ]
     },
     "execution_count": 94,
     "metadata": {},
     "output_type": "execute_result"
    }
   ],
   "source": [
    "totalcount = dz['approx_cost(for two people)'].value_counts().sum()\n",
    "summ = dz['approx_cost(for two people)'].sum()\n",
    "avg = round(summ/totalcount,2)\n",
    "avg\n",
    "dz[(dz['approx_cost(for two people)'] < avg) & dz['votes'] ==(dz['votes'].max())]['name'] "
   ]
  },
  {
   "cell_type": "code",
   "execution_count": 89,
   "id": "32a35b30",
   "metadata": {},
   "outputs": [
    {
     "data": {
      "text/plain": [
       "14956"
      ]
     },
     "execution_count": 89,
     "metadata": {},
     "output_type": "execute_result"
    }
   ],
   "source": []
  },
  {
   "cell_type": "markdown",
   "id": "ff8af9a9",
   "metadata": {},
   "source": [
    "13.Top quick bites restaurant chains in Banglore."
   ]
  },
  {
   "cell_type": "code",
   "execution_count": 39,
   "id": "6943db50",
   "metadata": {},
   "outputs": [
    {
     "name": "stdout",
     "output_type": "stream",
     "text": [
      "Top quick bites restaurant chains in Banglore is : McDonald's    16\n",
      "Name: name, dtype: int64\n"
     ]
    }
   ],
   "source": [
    "top = dz[dz['rest_type'] == 'Quick Bites']['name'].value_counts().head(1)\n",
    "print('Top quick bites restaurant chains in Banglore is :',top)"
   ]
  },
  {
   "cell_type": "code",
   "execution_count": null,
   "id": "4a57b6c6",
   "metadata": {},
   "outputs": [],
   "source": []
  }
 ],
 "metadata": {
  "kernelspec": {
   "display_name": "Python 3 (ipykernel)",
   "language": "python",
   "name": "python3"
  },
  "language_info": {
   "codemirror_mode": {
    "name": "ipython",
    "version": 3
   },
   "file_extension": ".py",
   "mimetype": "text/x-python",
   "name": "python",
   "nbconvert_exporter": "python",
   "pygments_lexer": "ipython3",
   "version": "3.10.5"
  }
 },
 "nbformat": 4,
 "nbformat_minor": 5
}
