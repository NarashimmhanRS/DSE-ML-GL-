{
 "cells": [
  {
   "cell_type": "markdown",
   "id": "04ad1337",
   "metadata": {},
   "source": [
    "# 1 Import libraries"
   ]
  },
  {
   "cell_type": "code",
   "execution_count": 2,
   "id": "3450cfac",
   "metadata": {},
   "outputs": [],
   "source": [
    "import pandas as pd\n",
    "from matplotlib import pyplot as plt\n",
    "import seaborn as sns\n",
    "from math import nan, isnan"
   ]
  },
  {
   "cell_type": "code",
   "execution_count": null,
   "id": "8fc511a5",
   "metadata": {},
   "outputs": [],
   "source": []
  },
  {
   "cell_type": "code",
   "execution_count": 2,
   "id": "43c7cb77",
   "metadata": {},
   "outputs": [],
   "source": [
    "import os"
   ]
  },
  {
   "cell_type": "code",
   "execution_count": 3,
   "id": "210a6486",
   "metadata": {},
   "outputs": [
    {
     "data": {
      "text/plain": [
       "'C:\\\\Users\\\\anant'"
      ]
     },
     "execution_count": 3,
     "metadata": {},
     "output_type": "execute_result"
    }
   ],
   "source": [
    "os.getcwd()"
   ]
  },
  {
   "cell_type": "code",
   "execution_count": 4,
   "id": "e6049152",
   "metadata": {},
   "outputs": [],
   "source": [
    "os.chdir('C:\\\\GreatLearning\\\\MiniProjects\\\\Project 3-2-1\\\\Project 3')"
   ]
  },
  {
   "cell_type": "code",
   "execution_count": 5,
   "id": "bcae3aea",
   "metadata": {},
   "outputs": [
    {
     "data": {
      "text/plain": [
       "'C:\\\\GreatLearning\\\\MiniProjects\\\\Project 3-2-1\\\\Project 3'"
      ]
     },
     "execution_count": 5,
     "metadata": {},
     "output_type": "execute_result"
    }
   ],
   "source": [
    "os.getcwd()"
   ]
  },
  {
   "cell_type": "code",
   "execution_count": 4,
   "id": "c3501580",
   "metadata": {},
   "outputs": [],
   "source": [
    "zomoto_df = pd.read_csv('zomoto.csv')"
   ]
  },
  {
   "cell_type": "markdown",
   "id": "e120b23d",
   "metadata": {},
   "source": [
    "# 2\n",
    "Top restaurant chains based on distribution.\n",
    "\n",
    "Presume that we are talking about the number of restaurants these chains have"
   ]
  },
  {
   "cell_type": "code",
   "execution_count": 7,
   "id": "6da72b59",
   "metadata": {
    "scrolled": true
   },
   "outputs": [
    {
     "data": {
      "text/plain": [
       "name\n",
       "Cafe Coffee Day              18\n",
       "Onesta                       17\n",
       "Keventers                    17\n",
       "McDonald's                   16\n",
       "SGS Non Veg - Gundu Pulav    16\n",
       "Baskin Robbins               16\n",
       "The Chocolate Heaven         16\n",
       "Mad Over Donuts              15\n",
       "Tata Cha                     15\n",
       "Petoo                        15\n",
       "Name: name, dtype: int64"
      ]
     },
     "execution_count": 7,
     "metadata": {},
     "output_type": "execute_result"
    }
   ],
   "source": [
    "zomoto_df.groupby([\"name\"])[\"name\"].count().sort_values(ascending = False).head(10)"
   ]
  },
  {
   "cell_type": "markdown",
   "id": "829ea242",
   "metadata": {},
   "source": [
    "# 3\n",
    "Restaurants that do not take online orders"
   ]
  },
  {
   "cell_type": "code",
   "execution_count": 8,
   "id": "97677cad",
   "metadata": {
    "scrolled": true
   },
   "outputs": [
    {
     "data": {
      "text/html": [
       "<div>\n",
       "<style scoped>\n",
       "    .dataframe tbody tr th:only-of-type {\n",
       "        vertical-align: middle;\n",
       "    }\n",
       "\n",
       "    .dataframe tbody tr th {\n",
       "        vertical-align: top;\n",
       "    }\n",
       "\n",
       "    .dataframe thead th {\n",
       "        text-align: right;\n",
       "    }\n",
       "</style>\n",
       "<table border=\"1\" class=\"dataframe\">\n",
       "  <thead>\n",
       "    <tr style=\"text-align: right;\">\n",
       "      <th></th>\n",
       "      <th>name</th>\n",
       "      <th>online_order</th>\n",
       "    </tr>\n",
       "  </thead>\n",
       "  <tbody>\n",
       "    <tr>\n",
       "      <th>0</th>\n",
       "      <td>Shree Ranga Vilas</td>\n",
       "      <td>No</td>\n",
       "    </tr>\n",
       "    <tr>\n",
       "      <th>1</th>\n",
       "      <td>Sphyre - Gateway Hotel</td>\n",
       "      <td>No</td>\n",
       "    </tr>\n",
       "    <tr>\n",
       "      <th>2</th>\n",
       "      <td>Popular Bakery</td>\n",
       "      <td>No</td>\n",
       "    </tr>\n",
       "    <tr>\n",
       "      <th>3</th>\n",
       "      <td>Thai &amp; Chinese Fast Food</td>\n",
       "      <td>No</td>\n",
       "    </tr>\n",
       "    <tr>\n",
       "      <th>4</th>\n",
       "      <td>Grill On Wheels</td>\n",
       "      <td>No</td>\n",
       "    </tr>\n",
       "    <tr>\n",
       "      <th>...</th>\n",
       "      <td>...</td>\n",
       "      <td>...</td>\n",
       "    </tr>\n",
       "    <tr>\n",
       "      <th>9991</th>\n",
       "      <td>White Horse</td>\n",
       "      <td>No</td>\n",
       "    </tr>\n",
       "    <tr>\n",
       "      <th>9994</th>\n",
       "      <td>CafÃÂÃÂÃÂÃÂÃÂÃÂÃÂÃÂ© Delight</td>\n",
       "      <td>No</td>\n",
       "    </tr>\n",
       "    <tr>\n",
       "      <th>9996</th>\n",
       "      <td>24 Hours Cake Delivery</td>\n",
       "      <td>No</td>\n",
       "    </tr>\n",
       "    <tr>\n",
       "      <th>9997</th>\n",
       "      <td>TBC- Sky Lounge</td>\n",
       "      <td>No</td>\n",
       "    </tr>\n",
       "    <tr>\n",
       "      <th>9998</th>\n",
       "      <td>Tawa Sagara</td>\n",
       "      <td>No</td>\n",
       "    </tr>\n",
       "  </tbody>\n",
       "</table>\n",
       "<p>4057 rows × 2 columns</p>\n",
       "</div>"
      ],
      "text/plain": [
       "                                             name online_order\n",
       "0                               Shree Ranga Vilas           No\n",
       "1                          Sphyre - Gateway Hotel           No\n",
       "2                                  Popular Bakery           No\n",
       "3                        Thai & Chinese Fast Food           No\n",
       "4                                 Grill On Wheels           No\n",
       "...                                           ...          ...\n",
       "9991                                  White Horse           No\n",
       "9994  CafÃÂÃÂÃÂÃÂÃÂÃÂÃÂÃÂ© Delight           No\n",
       "9996                       24 Hours Cake Delivery           No\n",
       "9997                              TBC- Sky Lounge           No\n",
       "9998                                  Tawa Sagara           No\n",
       "\n",
       "[4057 rows x 2 columns]"
      ]
     },
     "execution_count": 8,
     "metadata": {},
     "output_type": "execute_result"
    }
   ],
   "source": [
    "zomoto_df[zomoto_df[\"online_order\"] == 'No'][[\"name\", \"online_order\"]]"
   ]
  },
  {
   "cell_type": "markdown",
   "id": "6c8dfc07",
   "metadata": {},
   "source": [
    "# 4\n",
    "\n",
    "Restaurants that provide table booking vs the ones that do not"
   ]
  },
  {
   "cell_type": "code",
   "execution_count": 9,
   "id": "7633ce05",
   "metadata": {
    "scrolled": true
   },
   "outputs": [
    {
     "name": "stdout",
     "output_type": "stream",
     "text": [
      "Count of restaurants that provide table bookings is: \n",
      "1246\n",
      "Count of restaurants that do not provide table bookings is: \n",
      "8754\n",
      "Their ratio is:\n",
      "0.14233493260223898\n"
     ]
    }
   ],
   "source": [
    "print(\"Count of restaurants that provide table bookings is: \")\n",
    "print(zomoto_df[zomoto_df['book_table'] == 'Yes']['book_table'].count())\n",
    "\n",
    "print(\"Count of restaurants that do not provide table bookings is: \")\n",
    "print(zomoto_df[zomoto_df['book_table'] == 'No']['book_table'].count())\n",
    "\n",
    "print(\"Their ratio is:\")\n",
    "print(zomoto_df[zomoto_df['book_table'] == 'Yes']['book_table'].count() / zomoto_df[zomoto_df['book_table'] == 'No']['book_table'].count())"
   ]
  },
  {
   "cell_type": "code",
   "execution_count": 10,
   "id": "ac601169",
   "metadata": {},
   "outputs": [
    {
     "data": {
      "text/html": [
       "<div>\n",
       "<style scoped>\n",
       "    .dataframe tbody tr th:only-of-type {\n",
       "        vertical-align: middle;\n",
       "    }\n",
       "\n",
       "    .dataframe tbody tr th {\n",
       "        vertical-align: top;\n",
       "    }\n",
       "\n",
       "    .dataframe thead th {\n",
       "        text-align: right;\n",
       "    }\n",
       "</style>\n",
       "<table border=\"1\" class=\"dataframe\">\n",
       "  <thead>\n",
       "    <tr style=\"text-align: right;\">\n",
       "      <th></th>\n",
       "      <th>Unnamed: 0</th>\n",
       "      <th>url</th>\n",
       "      <th>address</th>\n",
       "      <th>name</th>\n",
       "      <th>online_order</th>\n",
       "      <th>book_table</th>\n",
       "      <th>rate</th>\n",
       "      <th>votes</th>\n",
       "      <th>phone</th>\n",
       "      <th>location</th>\n",
       "      <th>rest_type</th>\n",
       "      <th>dish_liked</th>\n",
       "      <th>cuisines</th>\n",
       "      <th>approx_cost(for two people)</th>\n",
       "      <th>reviews_list</th>\n",
       "      <th>menu_item</th>\n",
       "      <th>listed_in(type)</th>\n",
       "      <th>listed_in(city)</th>\n",
       "    </tr>\n",
       "  </thead>\n",
       "  <tbody>\n",
       "    <tr>\n",
       "      <th>0</th>\n",
       "      <td>14221</td>\n",
       "      <td>https://www.zomato.com/bangalore/shree-ranga-v...</td>\n",
       "      <td>366, Hosur Main Road, Attibele, Anekal Taluk, ...</td>\n",
       "      <td>Shree Ranga Vilas</td>\n",
       "      <td>No</td>\n",
       "      <td>No</td>\n",
       "      <td>3.2/5</td>\n",
       "      <td>7</td>\n",
       "      <td>080 29765044</td>\n",
       "      <td>Electronic City</td>\n",
       "      <td>Casual Dining</td>\n",
       "      <td>NaN</td>\n",
       "      <td>North Indian, South Indian, Chinese, Juices</td>\n",
       "      <td>500</td>\n",
       "      <td>[('Rated 3.0', 'RATED\\n  Typical South Indian ...</td>\n",
       "      <td>[]</td>\n",
       "      <td>Dine-out</td>\n",
       "      <td>Electronic City</td>\n",
       "    </tr>\n",
       "    <tr>\n",
       "      <th>1</th>\n",
       "      <td>43422</td>\n",
       "      <td>https://www.zomato.com/bangalore/sphyre-gatewa...</td>\n",
       "      <td>Gateway Hotel, 66, Residency Road, Bangalore</td>\n",
       "      <td>Sphyre - Gateway Hotel</td>\n",
       "      <td>No</td>\n",
       "      <td>No</td>\n",
       "      <td>3.6 /5</td>\n",
       "      <td>45</td>\n",
       "      <td>+91 9886643495\\n+91 9898780004</td>\n",
       "      <td>Residency Road</td>\n",
       "      <td>Lounge</td>\n",
       "      <td>NaN</td>\n",
       "      <td>Finger Food</td>\n",
       "      <td>1,700</td>\n",
       "      <td>[('Rated 1.0', 'RATED\\n  Expected a good night...</td>\n",
       "      <td>[]</td>\n",
       "      <td>Dine-out</td>\n",
       "      <td>MG Road</td>\n",
       "    </tr>\n",
       "    <tr>\n",
       "      <th>2</th>\n",
       "      <td>16032</td>\n",
       "      <td>https://www.zomato.com/bangalore/popular-baker...</td>\n",
       "      <td>19, BDA Complex, HSR, Bangalore</td>\n",
       "      <td>Popular Bakery</td>\n",
       "      <td>No</td>\n",
       "      <td>No</td>\n",
       "      <td>3.7/5</td>\n",
       "      <td>36</td>\n",
       "      <td>+91 8105834605\\r\\n080 25722488</td>\n",
       "      <td>HSR</td>\n",
       "      <td>Dessert Parlor, Bakery</td>\n",
       "      <td>NaN</td>\n",
       "      <td>Desserts, Bakery</td>\n",
       "      <td>600</td>\n",
       "      <td>[('Rated 5.0', \"RATED\\n  This outlet is in HSR...</td>\n",
       "      <td>[]</td>\n",
       "      <td>Delivery</td>\n",
       "      <td>HSR</td>\n",
       "    </tr>\n",
       "    <tr>\n",
       "      <th>3</th>\n",
       "      <td>51635</td>\n",
       "      <td>https://www.zomato.com/bangalore/thai-chinese-...</td>\n",
       "      <td>7, Anurhh Arcade, Hoodi Road, Kodigehalli Road...</td>\n",
       "      <td>Thai &amp; Chinese Fast Food</td>\n",
       "      <td>No</td>\n",
       "      <td>No</td>\n",
       "      <td>3.4 /5</td>\n",
       "      <td>7</td>\n",
       "      <td>+91 9206260085\\n+91 7619416923</td>\n",
       "      <td>KR Puram</td>\n",
       "      <td>Quick Bites</td>\n",
       "      <td>NaN</td>\n",
       "      <td>Chinese, Thai</td>\n",
       "      <td>400</td>\n",
       "      <td>[('Rated 5.0', 'RATED\\n  Its Looking delicious...</td>\n",
       "      <td>[]</td>\n",
       "      <td>Dine-out</td>\n",
       "      <td>Whitefield</td>\n",
       "    </tr>\n",
       "    <tr>\n",
       "      <th>4</th>\n",
       "      <td>23424</td>\n",
       "      <td>https://www.zomato.com/bangalore/grill-on-whee...</td>\n",
       "      <td>Kothanuru Main Road, Puttenahalli Road, Natara...</td>\n",
       "      <td>Grill On Wheels</td>\n",
       "      <td>No</td>\n",
       "      <td>No</td>\n",
       "      <td>NEW</td>\n",
       "      <td>0</td>\n",
       "      <td>+91 9901979901</td>\n",
       "      <td>JP Nagar</td>\n",
       "      <td>Quick Bites</td>\n",
       "      <td>NaN</td>\n",
       "      <td>North Indian, Chinese, BBQ, Arabian, Fast Food</td>\n",
       "      <td>400</td>\n",
       "      <td>[]</td>\n",
       "      <td>[]</td>\n",
       "      <td>Dine-out</td>\n",
       "      <td>JP Nagar</td>\n",
       "    </tr>\n",
       "  </tbody>\n",
       "</table>\n",
       "</div>"
      ],
      "text/plain": [
       "   Unnamed: 0                                                url  \\\n",
       "0       14221  https://www.zomato.com/bangalore/shree-ranga-v...   \n",
       "1       43422  https://www.zomato.com/bangalore/sphyre-gatewa...   \n",
       "2       16032  https://www.zomato.com/bangalore/popular-baker...   \n",
       "3       51635  https://www.zomato.com/bangalore/thai-chinese-...   \n",
       "4       23424  https://www.zomato.com/bangalore/grill-on-whee...   \n",
       "\n",
       "                                             address  \\\n",
       "0  366, Hosur Main Road, Attibele, Anekal Taluk, ...   \n",
       "1       Gateway Hotel, 66, Residency Road, Bangalore   \n",
       "2                    19, BDA Complex, HSR, Bangalore   \n",
       "3  7, Anurhh Arcade, Hoodi Road, Kodigehalli Road...   \n",
       "4  Kothanuru Main Road, Puttenahalli Road, Natara...   \n",
       "\n",
       "                       name online_order book_table    rate  votes  \\\n",
       "0         Shree Ranga Vilas           No         No   3.2/5      7   \n",
       "1    Sphyre - Gateway Hotel           No         No  3.6 /5     45   \n",
       "2            Popular Bakery           No         No   3.7/5     36   \n",
       "3  Thai & Chinese Fast Food           No         No  3.4 /5      7   \n",
       "4           Grill On Wheels           No         No     NEW      0   \n",
       "\n",
       "                            phone         location               rest_type  \\\n",
       "0                    080 29765044  Electronic City           Casual Dining   \n",
       "1  +91 9886643495\\n+91 9898780004   Residency Road                  Lounge   \n",
       "2  +91 8105834605\\r\\n080 25722488              HSR  Dessert Parlor, Bakery   \n",
       "3  +91 9206260085\\n+91 7619416923         KR Puram             Quick Bites   \n",
       "4                  +91 9901979901         JP Nagar             Quick Bites   \n",
       "\n",
       "  dish_liked                                        cuisines  \\\n",
       "0        NaN     North Indian, South Indian, Chinese, Juices   \n",
       "1        NaN                                     Finger Food   \n",
       "2        NaN                                Desserts, Bakery   \n",
       "3        NaN                                   Chinese, Thai   \n",
       "4        NaN  North Indian, Chinese, BBQ, Arabian, Fast Food   \n",
       "\n",
       "  approx_cost(for two people)  \\\n",
       "0                         500   \n",
       "1                       1,700   \n",
       "2                         600   \n",
       "3                         400   \n",
       "4                         400   \n",
       "\n",
       "                                        reviews_list menu_item  \\\n",
       "0  [('Rated 3.0', 'RATED\\n  Typical South Indian ...        []   \n",
       "1  [('Rated 1.0', 'RATED\\n  Expected a good night...        []   \n",
       "2  [('Rated 5.0', \"RATED\\n  This outlet is in HSR...        []   \n",
       "3  [('Rated 5.0', 'RATED\\n  Its Looking delicious...        []   \n",
       "4                                                 []        []   \n",
       "\n",
       "  listed_in(type)  listed_in(city)  \n",
       "0        Dine-out  Electronic City  \n",
       "1        Dine-out          MG Road  \n",
       "2        Delivery              HSR  \n",
       "3        Dine-out       Whitefield  \n",
       "4        Dine-out         JP Nagar  "
      ]
     },
     "execution_count": 10,
     "metadata": {},
     "output_type": "execute_result"
    }
   ],
   "source": [
    "zomoto_df.head()"
   ]
  },
  {
   "cell_type": "markdown",
   "id": "c220b2ae",
   "metadata": {},
   "source": [
    "# 5\n",
    "Use a boxplot on the rating column. Use a user defined function or a lambda function or apply a function to get the data that comes before"
   ]
  },
  {
   "cell_type": "code",
   "execution_count": 11,
   "id": "a0a5cf56",
   "metadata": {},
   "outputs": [],
   "source": [
    "sns.set_style('dark')"
   ]
  },
  {
   "cell_type": "markdown",
   "id": "7cf14f58",
   "metadata": {},
   "source": [
    "### Define a lambda function to get the numeric only values from the rating to facilitate box plot"
   ]
  },
  {
   "cell_type": "code",
   "execution_count": 12,
   "id": "d22e4f96",
   "metadata": {},
   "outputs": [
    {
     "name": "stdout",
     "output_type": "stream",
     "text": [
      "10000\n"
     ]
    }
   ],
   "source": [
    "# valid_ratings = lambda zdf: [float(i.split('/')[0].strip()) for i in zomoto_df[\"rate\"] if i == i and i != 'NEW' and i != '-']\n",
    "\n",
    "valid_ratings = lambda zdf: [float(str(i).split('/')[0].strip().replace(\"NEW\", \"0\").replace(\"nan\", \"0\").replace(\"-\", \"0\")) for i in zomoto_df[\"rate\"]]# if i == i and i != 'NEW' and i != '-']\n",
    "print(len(valid_ratings(zomoto_df[\"rate\"])))"
   ]
  },
  {
   "cell_type": "markdown",
   "id": "9ca77ea3",
   "metadata": {},
   "source": [
    "### Iterate on each lambda function and invoke the function to get the calculated value"
   ]
  },
  {
   "cell_type": "code",
   "execution_count": 13,
   "id": "41a8cb51",
   "metadata": {
    "scrolled": true
   },
   "outputs": [
    {
     "data": {
      "text/plain": [
       "[]"
      ]
     },
     "execution_count": 13,
     "metadata": {},
     "output_type": "execute_result"
    },
    {
     "data": {
      "image/png": "[encoded data removed]",
      "text/plain": [
       "<Figure size 432x288 with 1 Axes>"
      ]
     },
     "metadata": {},
     "output_type": "display_data"
    }
   ],
   "source": [
    "sns.boxplot(y=valid_ratings(zomoto_df)),#, y = \"votes\", data=zomoto_df)\n",
    "# sns.boxplot(y=get_numeric_rating(zomoto_df[\"rate\"]))\n",
    "sns.set(rc={\"figure.figsize\":(25, 50)})\n",
    "plt.title('Ratings across the restaurants', color='grey', weight='normal', size=18)\n",
    "plt.ylabel('Ratings', color='grey', size=20)\n",
    "plt.plot()"
   ]
  },
  {
   "cell_type": "markdown",
   "id": "d3349271",
   "metadata": {},
   "source": [
    "# 6\n",
    "Online and Offline orders percentage"
   ]
  },
  {
   "cell_type": "code",
   "execution_count": 14,
   "id": "a287934a",
   "metadata": {},
   "outputs": [
    {
     "name": "stdout",
     "output_type": "stream",
     "text": [
      "Percentage of restaurants that provide online orders is: \n",
      "59.43000000000001\n",
      "Percentage of restaurants that do not provide online orders is: \n",
      "40.57\n"
     ]
    }
   ],
   "source": [
    "print(\"Percentage of restaurants that provide online orders is: \")\n",
    "print((zomoto_df[zomoto_df['online_order'] == 'Yes']['online_order'].count() / zomoto_df['online_order'].count()) * 100)\n",
    "\n",
    "print(\"Percentage of restaurants that do not provide online orders is: \")\n",
    "print((zomoto_df[zomoto_df['online_order'] == 'No']['online_order'].count() / zomoto_df['online_order'].count()) * 100)\n",
    "\n"
   ]
  },
  {
   "cell_type": "markdown",
   "id": "3648ed95",
   "metadata": {},
   "source": [
    "# 7\n",
    "Plot the scatter plot using Cost vs rating variable with respect to online order. \n",
    "Use apply function or other function to remove the \",\""
   ]
  },
  {
   "cell_type": "markdown",
   "id": "8f227e79",
   "metadata": {},
   "source": [
    "### Function for getting numeric rating only for the restaurants\n",
    "(Replaced the non numeric and NaN values with 0)"
   ]
  },
  {
   "cell_type": "code",
   "execution_count": 15,
   "id": "f8d9c4ae",
   "metadata": {},
   "outputs": [],
   "source": [
    "# print(len(zomoto_df[zomoto_df[\"rate\"]=='NEW']))\n",
    "\n",
    "def get_numeric_rating(c):\n",
    "    return float(str(c).replace(\"NEW\", \"0\").replace(\"-\", \"0\").replace(\"nan\", \"0\").split('/')[0].strip())\n"
   ]
  },
  {
   "cell_type": "markdown",
   "id": "79238905",
   "metadata": {},
   "source": [
    "### Function for getting cost without \",\""
   ]
  },
  {
   "cell_type": "code",
   "execution_count": 16,
   "id": "9819ac97",
   "metadata": {
    "scrolled": false
   },
   "outputs": [],
   "source": [
    "def get_numeric_cost(f):\n",
    "    return float(str(f).replace(\",\",\"\"))\n"
   ]
  },
  {
   "cell_type": "markdown",
   "id": "ea690c3b",
   "metadata": {},
   "source": [
    "### Scatter plot with ratings in the x axis and cost in the y axis using the above defined functions"
   ]
  },
  {
   "cell_type": "code",
   "execution_count": 17,
   "id": "1bc94f8f",
   "metadata": {},
   "outputs": [
    {
     "data": {
      "image/png": "[encoded data removed]",
      "text/plain": [
       "<Figure size 1440x360 with 1 Axes>"
      ]
     },
     "metadata": {},
     "output_type": "display_data"
    }
   ],
   "source": [
    "sns.set(rc={\"figure.figsize\":(20, 5)})\n",
    "plt.ylabel('Cost', color='grey', size=20)\n",
    "plt.xlabel('Ratings', color='grey', size=20)\n",
    "# print(vnr)\n",
    "sns.set_style(\"white\")\n",
    "sns.scatterplot(x=zomoto_df[\"rate\"].apply(get_numeric_rating), y=zomoto_df[\"approx_cost(for two people)\"].apply(get_numeric_cost), legend = \"full\")\n",
    "plt.show()"
   ]
  },
  {
   "cell_type": "markdown",
   "id": "effdebbd",
   "metadata": {},
   "source": [
    "# 8\n",
    "Find the distribution of the votes and Approx_cost using a user-defined function and for a loop. "
   ]
  },
  {
   "cell_type": "code",
   "execution_count": 18,
   "id": "57b2705a",
   "metadata": {},
   "outputs": [],
   "source": [
    "### User defined function that uses for loop to get the rating and cost without \",\"\n",
    "def get_numeric_rating_for(ratings):\n",
    "    numeric_ratings = []\n",
    "    for r in ratings:\n",
    "        numeric_ratings.append(float(str(r).replace(\"NEW\", \"0\").replace(\"-\", \"0\").replace(\"nan\", \"0\").split('/')[0].strip()))\n",
    "    return numeric_ratings\n",
    "\n",
    "def get_numeric_cost_for(cost):\n",
    "    numeric_cost = []\n",
    "    for c in cost:\n",
    "        numeric_cost.append(float(str(c).replace(\",\",\"\")))\n",
    "    return numeric_cost\n",
    "# nr = get_numeric_rating_for(zomoto_df[\"rate\"])\n",
    "# print(len(nr))\n",
    "# nc = get_numeric_cost_for(zomoto_df[\"approx_cost(for two people)\"])\n",
    "# print(len(nc))"
   ]
  },
  {
   "cell_type": "code",
   "execution_count": 19,
   "id": "a95280c2",
   "metadata": {},
   "outputs": [
    {
     "data": {
      "image/png": "[encoded data removed]",
      "text/plain": [
       "<Figure size 360x360 with 1 Axes>"
      ]
     },
     "metadata": {},
     "output_type": "display_data"
    }
   ],
   "source": [
    "sns.displot(rug=True,\n",
    "            x=get_numeric_rating_for(zomoto_df[\"rate\"]), \n",
    "            y=get_numeric_cost_for(zomoto_df[\"approx_cost(for two people)\"]),\n",
    "            color=\"teal\",)\n",
    "plt.show()"
   ]
  },
  {
   "cell_type": "markdown",
   "id": "f7de4a2f",
   "metadata": {},
   "source": [
    "# 9, 11\n",
    "Most common restaurant type in Bangalore"
   ]
  },
  {
   "cell_type": "code",
   "execution_count": 20,
   "id": "acc47d79",
   "metadata": {
    "scrolled": true
   },
   "outputs": [
    {
     "data": {
      "text/plain": [
       "rest_type\n",
       "Quick Bites    3625\n",
       "Name: rest_type, dtype: int64"
      ]
     },
     "execution_count": 20,
     "metadata": {},
     "output_type": "execute_result"
    }
   ],
   "source": [
    "\n",
    "zomoto_df.groupby('rest_type')['rest_type'].count().sort_values(ascending = False).head(1)"
   ]
  },
  {
   "cell_type": "markdown",
   "id": "3156081c",
   "metadata": {},
   "source": [
    "# 10\n",
    "\n",
    "Is there a difference between the votes of restaurants accepting and not accepting online orders\n",
    "\n",
    "What we do:\n",
    "Get the average votes of the restaurants that take and not take online orders and see the difference"
   ]
  },
  {
   "cell_type": "code",
   "execution_count": 21,
   "id": "1ff4faaf",
   "metadata": {
    "scrolled": true
   },
   "outputs": [
    {
     "name": "stdout",
     "output_type": "stream",
     "text": [
      "Average votes for all the restaurants taking online orders\n",
      "Average votes for all the restaurants not taking online orders\n",
      "online order restaurants are rated marginally better than offline only order restaurants\n"
     ]
    }
   ],
   "source": [
    "print('Average votes for all the restaurants taking online orders')\n",
    "avg_vote_online = zomoto_df[zomoto_df['online_order'] == 'Yes']['votes'].mean()\n",
    "\n",
    "print('Average votes for all the restaurants not taking online orders')\n",
    "avg_vote_offline = zomoto_df[zomoto_df['online_order'] == 'No']['votes'].mean()\n",
    "\n",
    "online_vote_pct = avg_vote_online / (avg_vote_online + avg_vote_offline) * 100\n",
    "offline_vote_pct = avg_vote_offline / (avg_vote_online + avg_vote_offline) * 100\n",
    "\n",
    "if (online_vote_pct > offline_vote_pct):\n",
    "    s1 = 'online order restaurants'\n",
    "    s2 = 'offline only order restaurants'\n",
    "else:\n",
    "    s2 = 'online order restaurants'\n",
    "    s1 = 'offline only order restaurants'\n",
    "\n",
    "if (abs(online_vote_pct - offline_vote_pct) == 0):\n",
    "    margin = 'equal to'\n",
    "else:\n",
    "    if (abs(online_vote_pct - offline_vote_pct) < 10):\n",
    "        margin = 'marginally better than'\n",
    "    elif (abs(online_vote_pct - offline_vote_pct) < 50):\n",
    "        margin = 'reasonably better than'\n",
    "    elif (abs(online_vote_pct - offline_vote_pct) > 50):\n",
    "        margin = 'largely better than'\n",
    "    \n",
    "print(s1, \"are rated\", margin, s2)"
   ]
  },
  {
   "cell_type": "markdown",
   "id": "d6311382",
   "metadata": {},
   "source": [
    "# 12 Best budget restaurants\n",
    "How is it calculated?\n",
    "Get the cost for two people and the rating of the restaurants\n",
    "Sort the data by lowest cost to highest and then sort again by rating highest to lowest\n",
    "Ignore the restaurants that are not yet rated\n",
    "Get only the top 10 restaurants"
   ]
  },
  {
   "cell_type": "code",
   "execution_count": 22,
   "id": "feb96855",
   "metadata": {
    "scrolled": false
   },
   "outputs": [
    {
     "data": {
      "text/html": [
       "<div>\n",
       "<style scoped>\n",
       "    .dataframe tbody tr th:only-of-type {\n",
       "        vertical-align: middle;\n",
       "    }\n",
       "\n",
       "    .dataframe tbody tr th {\n",
       "        vertical-align: top;\n",
       "    }\n",
       "\n",
       "    .dataframe thead th {\n",
       "        text-align: right;\n",
       "    }\n",
       "</style>\n",
       "<table border=\"1\" class=\"dataframe\">\n",
       "  <thead>\n",
       "    <tr style=\"text-align: right;\">\n",
       "      <th></th>\n",
       "      <th>url</th>\n",
       "      <th>name</th>\n",
       "      <th>rate</th>\n",
       "      <th>approx_cost(for two people)</th>\n",
       "    </tr>\n",
       "  </thead>\n",
       "  <tbody>\n",
       "    <tr>\n",
       "      <th>4682</th>\n",
       "      <td>https://www.zomato.com/bangalore/house-of-comm...</td>\n",
       "      <td>House Of Commons</td>\n",
       "      <td>4.8/5</td>\n",
       "      <td>1,000</td>\n",
       "    </tr>\n",
       "    <tr>\n",
       "      <th>5403</th>\n",
       "      <td>https://www.zomato.com/bangalore/house-of-comm...</td>\n",
       "      <td>House Of Commons</td>\n",
       "      <td>4.8/5</td>\n",
       "      <td>1,000</td>\n",
       "    </tr>\n",
       "    <tr>\n",
       "      <th>6729</th>\n",
       "      <td>https://www.zomato.com/bangalore/tbc-sky-loung...</td>\n",
       "      <td>TBC Sky Lounge</td>\n",
       "      <td>4.7/5</td>\n",
       "      <td>1,000</td>\n",
       "    </tr>\n",
       "    <tr>\n",
       "      <th>2477</th>\n",
       "      <td>https://www.zomato.com/bangalore/house-of-comm...</td>\n",
       "      <td>House Of Commons</td>\n",
       "      <td>4.7 /5</td>\n",
       "      <td>1,000</td>\n",
       "    </tr>\n",
       "    <tr>\n",
       "      <th>4903</th>\n",
       "      <td>https://www.zomato.com/bangalore/house-of-comm...</td>\n",
       "      <td>House Of Commons</td>\n",
       "      <td>4.7 /5</td>\n",
       "      <td>1,000</td>\n",
       "    </tr>\n",
       "    <tr>\n",
       "      <th>7511</th>\n",
       "      <td>https://www.zomato.com/bangalore/house-of-comm...</td>\n",
       "      <td>House Of Commons</td>\n",
       "      <td>4.7 /5</td>\n",
       "      <td>1,000</td>\n",
       "    </tr>\n",
       "    <tr>\n",
       "      <th>9739</th>\n",
       "      <td>https://www.zomato.com/bangalore/house-of-comm...</td>\n",
       "      <td>House Of Commons</td>\n",
       "      <td>4.7 /5</td>\n",
       "      <td>1,000</td>\n",
       "    </tr>\n",
       "    <tr>\n",
       "      <th>6749</th>\n",
       "      <td>https://www.zomato.com/bangalore/galitos-banne...</td>\n",
       "      <td>Galito's</td>\n",
       "      <td>4.6/5</td>\n",
       "      <td>1,000</td>\n",
       "    </tr>\n",
       "    <tr>\n",
       "      <th>6379</th>\n",
       "      <td>https://www.zomato.com/bangalore/galitos-banne...</td>\n",
       "      <td>Galito's</td>\n",
       "      <td>4.6 /5</td>\n",
       "      <td>1,000</td>\n",
       "    </tr>\n",
       "    <tr>\n",
       "      <th>2528</th>\n",
       "      <td>https://www.zomato.com/bangalore/gillys-restob...</td>\n",
       "      <td>Gilly's Restobar</td>\n",
       "      <td>4.5/5</td>\n",
       "      <td>1,000</td>\n",
       "    </tr>\n",
       "  </tbody>\n",
       "</table>\n",
       "</div>"
      ],
      "text/plain": [
       "                                                    url              name  \\\n",
       "4682  https://www.zomato.com/bangalore/house-of-comm...  House Of Commons   \n",
       "5403  https://www.zomato.com/bangalore/house-of-comm...  House Of Commons   \n",
       "6729  https://www.zomato.com/bangalore/tbc-sky-loung...    TBC Sky Lounge   \n",
       "2477  https://www.zomato.com/bangalore/house-of-comm...  House Of Commons   \n",
       "4903  https://www.zomato.com/bangalore/house-of-comm...  House Of Commons   \n",
       "7511  https://www.zomato.com/bangalore/house-of-comm...  House Of Commons   \n",
       "9739  https://www.zomato.com/bangalore/house-of-comm...  House Of Commons   \n",
       "6749  https://www.zomato.com/bangalore/galitos-banne...          Galito's   \n",
       "6379  https://www.zomato.com/bangalore/galitos-banne...          Galito's   \n",
       "2528  https://www.zomato.com/bangalore/gillys-restob...  Gilly's Restobar   \n",
       "\n",
       "        rate approx_cost(for two people)  \n",
       "4682   4.8/5                       1,000  \n",
       "5403   4.8/5                       1,000  \n",
       "6729   4.7/5                       1,000  \n",
       "2477  4.7 /5                       1,000  \n",
       "4903  4.7 /5                       1,000  \n",
       "7511  4.7 /5                       1,000  \n",
       "9739  4.7 /5                       1,000  \n",
       "6749   4.6/5                       1,000  \n",
       "6379  4.6 /5                       1,000  \n",
       "2528   4.5/5                       1,000  "
      ]
     },
     "execution_count": 22,
     "metadata": {},
     "output_type": "execute_result"
    }
   ],
   "source": [
    "zomoto_df[zomoto_df[\"rate\"] != 'NEW'].sort_values(by = [\"approx_cost(for two people)\", \"rate\"], ascending = [True, False])[[\"url\", \"name\", \"rate\", \"approx_cost(for two people)\"]].head(10)"
   ]
  },
  {
   "cell_type": "markdown",
   "id": "7f9110b7",
   "metadata": {},
   "source": [
    "# 13\n",
    "Top quick bites restaurant type in Bangalore"
   ]
  },
  {
   "cell_type": "code",
   "execution_count": 7,
   "id": "94674af7",
   "metadata": {
    "scrolled": true
   },
   "outputs": [
    {
     "data": {
      "text/html": [
       "<div>\n",
       "<style scoped>\n",
       "    .dataframe tbody tr th:only-of-type {\n",
       "        vertical-align: middle;\n",
       "    }\n",
       "\n",
       "    .dataframe tbody tr th {\n",
       "        vertical-align: top;\n",
       "    }\n",
       "\n",
       "    .dataframe thead th {\n",
       "        text-align: right;\n",
       "    }\n",
       "</style>\n",
       "<table border=\"1\" class=\"dataframe\">\n",
       "  <thead>\n",
       "    <tr style=\"text-align: right;\">\n",
       "      <th></th>\n",
       "      <th>url</th>\n",
       "      <th>rate</th>\n",
       "      <th>address</th>\n",
       "      <th>rest_type</th>\n",
       "      <th>name</th>\n",
       "    </tr>\n",
       "  </thead>\n",
       "  <tbody>\n",
       "    <tr>\n",
       "      <th>5909</th>\n",
       "      <td>https://www.zomato.com/bangalore/khiche-chale-...</td>\n",
       "      <td>NEW</td>\n",
       "      <td>11, Eat Street, 80 Feet Road, Opposite Indian ...</td>\n",
       "      <td>Quick Bites</td>\n",
       "      <td>Khiche Chale Aao</td>\n",
       "    </tr>\n",
       "    <tr>\n",
       "      <th>1300</th>\n",
       "      <td>https://www.zomato.com/bangalore/sri-durga-fas...</td>\n",
       "      <td>NEW</td>\n",
       "      <td>20, Ejipura, Bangalore</td>\n",
       "      <td>Quick Bites</td>\n",
       "      <td>Sri Durga Fast Food</td>\n",
       "    </tr>\n",
       "    <tr>\n",
       "      <th>5648</th>\n",
       "      <td>https://www.zomato.com/bangalore/gr-foods-btm-...</td>\n",
       "      <td>NEW</td>\n",
       "      <td>23E, 1St Main Road, Maruthi Nagar, Madiwala, B...</td>\n",
       "      <td>Quick Bites</td>\n",
       "      <td>GR Foods</td>\n",
       "    </tr>\n",
       "    <tr>\n",
       "      <th>9316</th>\n",
       "      <td>https://www.zomato.com/bangalore/tasty-restaur...</td>\n",
       "      <td>NEW</td>\n",
       "      <td>3, SR Complex, Arekere Mico Layout, JP Nagar, ...</td>\n",
       "      <td>Quick Bites</td>\n",
       "      <td>Tasty Restaurant</td>\n",
       "    </tr>\n",
       "    <tr>\n",
       "      <th>1287</th>\n",
       "      <td>https://www.zomato.com/bangalore/milkyway-ice-...</td>\n",
       "      <td>NEW</td>\n",
       "      <td>Shop K-04, 1st Floor, Ascendas Park Square Mal...</td>\n",
       "      <td>Quick Bites</td>\n",
       "      <td>Milkyway Ice Creams &amp; Fast Food</td>\n",
       "    </tr>\n",
       "    <tr>\n",
       "      <th>4658</th>\n",
       "      <td>https://www.zomato.com/bangalore/chilli-park-3...</td>\n",
       "      <td>NEW</td>\n",
       "      <td>3rd Cross, Neeladri Nagar, Phase-1, Electronic...</td>\n",
       "      <td>Quick Bites</td>\n",
       "      <td>Chilli Park</td>\n",
       "    </tr>\n",
       "    <tr>\n",
       "      <th>4685</th>\n",
       "      <td>https://www.zomato.com/bangalore/pr-kitchen-wh...</td>\n",
       "      <td>NEW</td>\n",
       "      <td>55, Sapthagiri Layout, Government College Road...</td>\n",
       "      <td>Quick Bites</td>\n",
       "      <td>PR Kitchen</td>\n",
       "    </tr>\n",
       "    <tr>\n",
       "      <th>2744</th>\n",
       "      <td>https://www.zomato.com/bangalore/cafe-sulaiman...</td>\n",
       "      <td>NEW</td>\n",
       "      <td>Bharathi Layout, SG Palya, Srinivasa Theatre, ...</td>\n",
       "      <td>Quick Bites</td>\n",
       "      <td>Cafe Sulaimani</td>\n",
       "    </tr>\n",
       "    <tr>\n",
       "      <th>1243</th>\n",
       "      <td>https://www.zomato.com/bangalore/rs-shiv-sagar...</td>\n",
       "      <td>NEW</td>\n",
       "      <td>62, 80 Feet Road, RMV 2nd Stage, Near M S Rama...</td>\n",
       "      <td>Quick Bites</td>\n",
       "      <td>RS Shiv Sagar Express</td>\n",
       "    </tr>\n",
       "    <tr>\n",
       "      <th>496</th>\n",
       "      <td>https://www.zomato.com/bangalore/risalo-restau...</td>\n",
       "      <td>NEW</td>\n",
       "      <td>Sy. 74, Near Narayana PU College, BEML Layout,...</td>\n",
       "      <td>Quick Bites</td>\n",
       "      <td>Risalo Restaurant</td>\n",
       "    </tr>\n",
       "    <tr>\n",
       "      <th>4689</th>\n",
       "      <td>https://www.zomato.com/bangalore/sos-indiranag...</td>\n",
       "      <td>NEW</td>\n",
       "      <td>56, 1st Ground Floor, Indiranagar, Bangalore</td>\n",
       "      <td>Quick Bites</td>\n",
       "      <td>SOS</td>\n",
       "    </tr>\n",
       "    <tr>\n",
       "      <th>507</th>\n",
       "      <td>https://www.zomato.com/bangalore/sri-srinivas-...</td>\n",
       "      <td>NEW</td>\n",
       "      <td>147 Ejipura Road, Near Green Vine Hospital BTM...</td>\n",
       "      <td>Quick Bites</td>\n",
       "      <td>Sri Srinivas Park Hotel</td>\n",
       "    </tr>\n",
       "    <tr>\n",
       "      <th>9240</th>\n",
       "      <td>https://www.zomato.com/bangalore/shiv-sagar-1-...</td>\n",
       "      <td>NEW</td>\n",
       "      <td>Shop No 10, Food Court, 2nd Floor, Phoenix Mar...</td>\n",
       "      <td>Quick Bites, Food Court</td>\n",
       "      <td>Shiv sagar</td>\n",
       "    </tr>\n",
       "    <tr>\n",
       "      <th>1159</th>\n",
       "      <td>https://www.zomato.com/bangalore/house-of-chaa...</td>\n",
       "      <td>NEW</td>\n",
       "      <td>225, SriDevi Mansion, 1st Main, Koramangala 1s...</td>\n",
       "      <td>Quick Bites</td>\n",
       "      <td>House of Chaaps</td>\n",
       "    </tr>\n",
       "    <tr>\n",
       "      <th>5447</th>\n",
       "      <td>https://www.zomato.com/bangalore/khaja-point-b...</td>\n",
       "      <td>NEW</td>\n",
       "      <td>1st Main, 1st Cross, Maruthinagar Extension, M...</td>\n",
       "      <td>Quick Bites</td>\n",
       "      <td>Khaja Point</td>\n",
       "    </tr>\n",
       "    <tr>\n",
       "      <th>9228</th>\n",
       "      <td>https://www.zomato.com/bangalore/kadhai-tadka-...</td>\n",
       "      <td>NEW</td>\n",
       "      <td>Plot 25, JP Software Park, 2nd Cross Road, Ele...</td>\n",
       "      <td>Quick Bites</td>\n",
       "      <td>Kadhai Tadka family Restaurant</td>\n",
       "    </tr>\n",
       "    <tr>\n",
       "      <th>9221</th>\n",
       "      <td>https://www.zomato.com/bangalore/al-marhaba-re...</td>\n",
       "      <td>NEW</td>\n",
       "      <td>157, Sai Krupa, 1St Cross A Main, Btm Layout, ...</td>\n",
       "      <td>Quick Bites</td>\n",
       "      <td>Al-Marhaba Restaurant</td>\n",
       "    </tr>\n",
       "    <tr>\n",
       "      <th>4707</th>\n",
       "      <td>https://www.zomato.com/bangalore/garage-food-c...</td>\n",
       "      <td>NEW</td>\n",
       "      <td>80 Feet Road, SBI Colony, Koramangala 1st Bloc...</td>\n",
       "      <td>Quick Bites</td>\n",
       "      <td>Garage Food Company</td>\n",
       "    </tr>\n",
       "    <tr>\n",
       "      <th>5445</th>\n",
       "      <td>https://www.zomato.com/bangalore/al-marhaba-re...</td>\n",
       "      <td>NEW</td>\n",
       "      <td>157, Sai Krupa, 1St Cross A Main, Btm Layout, ...</td>\n",
       "      <td>Quick Bites</td>\n",
       "      <td>Al-Marhaba Restaurant</td>\n",
       "    </tr>\n",
       "    <tr>\n",
       "      <th>1123</th>\n",
       "      <td>https://www.zomato.com/bangalore/dastarkhan-1-...</td>\n",
       "      <td>NEW</td>\n",
       "      <td>102, Ground floor, Lakshmi Layout 3rd Cross, B...</td>\n",
       "      <td>Quick Bites</td>\n",
       "      <td>Dastarkhan</td>\n",
       "    </tr>\n",
       "  </tbody>\n",
       "</table>\n",
       "</div>"
      ],
      "text/plain": [
       "                                                    url rate  \\\n",
       "5909  https://www.zomato.com/bangalore/khiche-chale-...  NEW   \n",
       "1300  https://www.zomato.com/bangalore/sri-durga-fas...  NEW   \n",
       "5648  https://www.zomato.com/bangalore/gr-foods-btm-...  NEW   \n",
       "9316  https://www.zomato.com/bangalore/tasty-restaur...  NEW   \n",
       "1287  https://www.zomato.com/bangalore/milkyway-ice-...  NEW   \n",
       "4658  https://www.zomato.com/bangalore/chilli-park-3...  NEW   \n",
       "4685  https://www.zomato.com/bangalore/pr-kitchen-wh...  NEW   \n",
       "2744  https://www.zomato.com/bangalore/cafe-sulaiman...  NEW   \n",
       "1243  https://www.zomato.com/bangalore/rs-shiv-sagar...  NEW   \n",
       "496   https://www.zomato.com/bangalore/risalo-restau...  NEW   \n",
       "4689  https://www.zomato.com/bangalore/sos-indiranag...  NEW   \n",
       "507   https://www.zomato.com/bangalore/sri-srinivas-...  NEW   \n",
       "9240  https://www.zomato.com/bangalore/shiv-sagar-1-...  NEW   \n",
       "1159  https://www.zomato.com/bangalore/house-of-chaa...  NEW   \n",
       "5447  https://www.zomato.com/bangalore/khaja-point-b...  NEW   \n",
       "9228  https://www.zomato.com/bangalore/kadhai-tadka-...  NEW   \n",
       "9221  https://www.zomato.com/bangalore/al-marhaba-re...  NEW   \n",
       "4707  https://www.zomato.com/bangalore/garage-food-c...  NEW   \n",
       "5445  https://www.zomato.com/bangalore/al-marhaba-re...  NEW   \n",
       "1123  https://www.zomato.com/bangalore/dastarkhan-1-...  NEW   \n",
       "\n",
       "                                                address  \\\n",
       "5909  11, Eat Street, 80 Feet Road, Opposite Indian ...   \n",
       "1300                             20, Ejipura, Bangalore   \n",
       "5648  23E, 1St Main Road, Maruthi Nagar, Madiwala, B...   \n",
       "9316  3, SR Complex, Arekere Mico Layout, JP Nagar, ...   \n",
       "1287  Shop K-04, 1st Floor, Ascendas Park Square Mal...   \n",
       "4658  3rd Cross, Neeladri Nagar, Phase-1, Electronic...   \n",
       "4685  55, Sapthagiri Layout, Government College Road...   \n",
       "2744  Bharathi Layout, SG Palya, Srinivasa Theatre, ...   \n",
       "1243  62, 80 Feet Road, RMV 2nd Stage, Near M S Rama...   \n",
       "496   Sy. 74, Near Narayana PU College, BEML Layout,...   \n",
       "4689       56, 1st Ground Floor, Indiranagar, Bangalore   \n",
       "507   147 Ejipura Road, Near Green Vine Hospital BTM...   \n",
       "9240  Shop No 10, Food Court, 2nd Floor, Phoenix Mar...   \n",
       "1159  225, SriDevi Mansion, 1st Main, Koramangala 1s...   \n",
       "5447  1st Main, 1st Cross, Maruthinagar Extension, M...   \n",
       "9228  Plot 25, JP Software Park, 2nd Cross Road, Ele...   \n",
       "9221  157, Sai Krupa, 1St Cross A Main, Btm Layout, ...   \n",
       "4707  80 Feet Road, SBI Colony, Koramangala 1st Bloc...   \n",
       "5445  157, Sai Krupa, 1St Cross A Main, Btm Layout, ...   \n",
       "1123  102, Ground floor, Lakshmi Layout 3rd Cross, B...   \n",
       "\n",
       "                    rest_type                             name  \n",
       "5909              Quick Bites                 Khiche Chale Aao  \n",
       "1300              Quick Bites              Sri Durga Fast Food  \n",
       "5648              Quick Bites                         GR Foods  \n",
       "9316              Quick Bites                 Tasty Restaurant  \n",
       "1287              Quick Bites  Milkyway Ice Creams & Fast Food  \n",
       "4658              Quick Bites                      Chilli Park  \n",
       "4685              Quick Bites                       PR Kitchen  \n",
       "2744              Quick Bites                   Cafe Sulaimani  \n",
       "1243              Quick Bites            RS Shiv Sagar Express  \n",
       "496               Quick Bites                Risalo Restaurant  \n",
       "4689              Quick Bites                              SOS  \n",
       "507               Quick Bites          Sri Srinivas Park Hotel  \n",
       "9240  Quick Bites, Food Court                       Shiv sagar  \n",
       "1159              Quick Bites                  House of Chaaps  \n",
       "5447              Quick Bites                      Khaja Point  \n",
       "9228              Quick Bites   Kadhai Tadka family Restaurant  \n",
       "9221              Quick Bites            Al-Marhaba Restaurant  \n",
       "4707              Quick Bites              Garage Food Company  \n",
       "5445              Quick Bites            Al-Marhaba Restaurant  \n",
       "1123              Quick Bites                       Dastarkhan  "
      ]
     },
     "execution_count": 7,
     "metadata": {},
     "output_type": "execute_result"
    }
   ],
   "source": [
    "zomoto_df[zomoto_df[\"rest_type\"].str.contains(\"Quick Bites\", na=True)][[\"url\", \"rate\", \"address\", \"rest_type\",'name']].sort_values(by=[\"rate\"], ascending = False).head(20)"
   ]
  },
  {
   "cell_type": "markdown",
   "id": "afdbcdfa",
   "metadata": {
    "scrolled": true
   },
   "source": [
    "# 14\n",
    "Which are the most popular casual dining restaurant chains, Make use of any plot related to this question? "
   ]
  },
  {
   "cell_type": "markdown",
   "id": "92f28707",
   "metadata": {},
   "source": [
    "zomoto_df[\"rate\"] == zomoto_df[\"rate\"] will remove NaN values as these are not comparable\n",
    "\n",
    "Picking the top 25 restaurants"
   ]
  },
  {
   "cell_type": "code",
   "execution_count": 24,
   "id": "edee555b",
   "metadata": {},
   "outputs": [],
   "source": [
    "def get_numeric_rating_for(ratings):\n",
    "    numeric_ratings = []\n",
    "    for r in ratings:\n",
    "        numeric_ratings.append(float(str(r).replace(\"NEW\", \"0\").replace(\"-\", \"0\").replace(\"nan\", \"0\").split('/')[0].strip()))\n",
    "    return numeric_ratings\n",
    "\n",
    "cd = zomoto_df[(zomoto_df[\"rest_type\"].str.contains(\"Casual\")) & (zomoto_df[\"rate\"] != 'NEW') & (zomoto_df[\"rate\"] != '-') & (zomoto_df[\"rate\"] == zomoto_df[\"rate\"])].sort_values(by = \"rate\", ascending=False)\n",
    "cd[\"rate\"] = get_numeric_rating_for(cd[\"rate\"])\n",
    "\n",
    "top_cd = cd.sort_values(by = \"rate\", ascending = False).head(50)"
   ]
  },
  {
   "cell_type": "code",
   "execution_count": 25,
   "id": "ed8458a6",
   "metadata": {
    "scrolled": true
   },
   "outputs": [
    {
     "data": {
      "image/png": "[encoded data removed]",
      "text/plain": [
       "<Figure size 1440x360 with 1 Axes>"
      ]
     },
     "metadata": {},
     "output_type": "display_data"
    }
   ],
   "source": [
    "plt.ylabel('Ratings', color='grey', size=20)\n",
    "plt.xlabel('Restaurants', color='grey', size=20)\n",
    "sns.set(font_scale=1)\n",
    "plt.rcParams[\"figure.figsize\"] = (15,10)\n",
    "plt.xticks(range(len(top_cd)),rotation=45)\n",
    "sns.lineplot(x=\"name\", y=\"rate\", data=top_cd)\n",
    "plt.show()\n"
   ]
  },
  {
   "cell_type": "markdown",
   "id": "bb4425c9",
   "metadata": {},
   "source": [
    "# 15\n",
    "\n",
    "Which are the most popular cuisines of Bangalore using a related plot?"
   ]
  },
  {
   "cell_type": "code",
   "execution_count": 26,
   "id": "c9c1300b",
   "metadata": {},
   "outputs": [
    {
     "name": "stdout",
     "output_type": "stream",
     "text": [
      "0       3.2\n",
      "1       3.6\n",
      "2       3.7\n",
      "3       3.4\n",
      "4       0.0\n",
      "       ... \n",
      "9995    4.9\n",
      "9996    3.3\n",
      "9997    4.4\n",
      "9998    3.8\n",
      "9999    3.7\n",
      "Name: rate, Length: 10000, dtype: float64\n"
     ]
    }
   ],
   "source": [
    "rate_n = zomoto_df[\"rate\"].apply(get_numeric_rating)\n",
    "print(rate_n)"
   ]
  },
  {
   "cell_type": "markdown",
   "id": "cd68eb49",
   "metadata": {},
   "source": [
    "Most popular cuisine is calculated using the average rating against each type of restaurants"
   ]
  },
  {
   "cell_type": "code",
   "execution_count": 27,
   "id": "e94b95c4",
   "metadata": {
    "scrolled": false
   },
   "outputs": [],
   "source": [
    "rest_type_rate = zomoto_df[[\"rate\", \"rest_type\"]]\n",
    "numeric_rate = rest_type_rate[\"rate\"].apply(get_numeric_rating)\n",
    "rest_type_rate.insert(loc=2, column = \"rate_num\", value = numeric_rate, allow_duplicates = True)\n"
   ]
  },
  {
   "cell_type": "code",
   "execution_count": 48,
   "id": "3874b560",
   "metadata": {},
   "outputs": [
    {
     "name": "stdout",
     "output_type": "stream",
     "text": [
      "82\n"
     ]
    }
   ],
   "source": [
    "rest_rate_categorized = rest_type_rate.groupby(\"rest_type\").mean(\"rate_num\").reset_index()\n",
    "popular_rest_types = rest_rate_categorized.sort_values(by = \"rate_num\", ascending=False)\n",
    "print(len(popular_rest_types))"
   ]
  },
  {
   "cell_type": "code",
   "execution_count": 52,
   "id": "fe7e8246",
   "metadata": {},
   "outputs": [],
   "source": [
    "popular_rest_types = popular_rest_types.head(10)\n",
    "# popular_rest_types"
   ]
  },
  {
   "cell_type": "code",
   "execution_count": 54,
   "id": "5c0410c2",
   "metadata": {},
   "outputs": [
    {
     "name": "stdout",
     "output_type": "stream",
     "text": [
      "10\n",
      "10\n"
     ]
    },
    {
     "data": {
      "image/png": "[encoded data removed]",
      "text/plain": [
       "<Figure size 421.1x360 with 1 Axes>"
      ]
     },
     "metadata": {},
     "output_type": "display_data"
    }
   ],
   "source": [
    "sns.set(rc={\"figure.figsize\":(50, 50)})\n",
    "g = sns.relplot(x=\"rest_type\", y=\"rate_num\", hue=\"rate_num\", kind=\"scatter\", data=popular_rest_types)\n",
    "# range(0, 50, 2)\n",
    "value_tick = range(0, len(popular_rest_types))\n",
    "print(len(value_tick))\n",
    "# print(value_tick)\n",
    "header_names = list(popular_rest_types[\"rest_type\"])\n",
    "print(len(header_names))\n",
    "header_name_sel = [header_names[idx] for idx in range(0, len(value_tick))]\n",
    "for ax in g.axes.flat:\n",
    "    labels = ax.get_xticklabels()\n",
    "    ax.set_xticks(ticks=value_tick)\n",
    "    ax.set_xticklabels(fontsize = 8, rotation = 45, labels=header_name_sel)\n",
    "plt.show()"
   ]
  }
 ],
 "metadata": {
  "kernelspec": {
   "display_name": "Python 3 (ipykernel)",
   "language": "python",
   "name": "python3"
  },
  "language_info": {
   "codemirror_mode": {
    "name": "ipython",
    "version": 3
   },
   "file_extension": ".py",
   "mimetype": "text/x-python",
   "name": "python",
   "nbconvert_exporter": "python",
   "pygments_lexer": "ipython3",
   "version": "3.10.5"
  }
 },
 "nbformat": 4,
 "nbformat_minor": 5
}
