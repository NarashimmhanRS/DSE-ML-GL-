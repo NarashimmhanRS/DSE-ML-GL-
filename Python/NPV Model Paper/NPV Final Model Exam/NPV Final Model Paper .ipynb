{
 "cells": [
  {
   "cell_type": "markdown",
   "metadata": {},
   "source": [
    "<table align=\"left\" width=100%>\n",
    "    <tr>\n",
    "        <td width=\"20%\">\n",
    "            <img src=\"GL-2.png\">\n",
    "        </td>\n",
    "        <td>\n",
    "            <div align=\"center\">\n",
    "                <font color=\"#21618C\" size=8px>\n",
    "                  <b> Final Exam<br> </b>\n",
    "                </font>\n",
    "            </div>\n",
    "        </td>\n",
    "    </tr>\n",
    "</table>"
   ]
  },
  {
   "cell_type": "markdown",
   "metadata": {},
   "source": [
    " ### Total Marks: 70"
   ]
  },
  {
   "cell_type": "code",
   "execution_count": null,
   "metadata": {
    "id": "pSud36Q5EXlL"
   },
   "outputs": [],
   "source": [
    "%matplotlib inline\n",
    "import matplotlib.pyplot as plt\n",
    "import numpy as np\n",
    "import pandas as pd\n",
    "import math"
   ]
  },
  {
   "cell_type": "markdown",
   "metadata": {
    "id": "zkvfBQ3iEXla"
   },
   "source": [
    "<span style=\"font-family: Arial; font-weight:bold;font-size:1.5em;color:#db0b49;\">1. Read the dataset(2010_Report_to_Congress_on_White_House_Staff.csv) and Answer the below questions?(10 Marks)\n",
    "    \n",
    "A. Find the salary of an employee in a (1st-row 2nd-column) using a position based indexing function?\n",
    "\n",
    "B. Display all the employees whose salary is greater than 50000?\n",
    "\n",
    "C. Display all the rows whose salary is greater than 50000 and position as \"ANALYST\"?\n",
    "\n",
    "D. Find the list of Employee details belonging to a position ('ANALYST','ADVISOR')?\n",
    "\n",
    "E. Find the top 10 highest-paid employees in each position?\n"
   ]
  },
  {
   "cell_type": "code",
   "execution_count": 1,
   "metadata": {
    "id": "QxpIu6PjEXlb",
    "outputId": "c5e0725b-41ed-44be-f307-f248a8079c53",
    "scrolled": true
   },
   "outputs": [],
   "source": [
    "#Solution"
   ]
  },
  {
   "cell_type": "markdown",
   "metadata": {
    "id": "oOKS9xcpEXmB"
   },
   "source": [
    "<span style=\"font-family: Arial; font-weight:bold;font-size:1.5em;color:#db0b49;\">2. Read the dataset(Election_Contributions.csv) and Answer the below questions? (30 Marks)\n",
    "\n",
    "A.\tThere are four parties namely: 'Republican','Democrat','Reform','Libertarian'. One or more candidates can appear for elections from each party as shown in the figure below. Create a dictionary for storing the data given below in the figure. Create a new column 'Party' in the election dataset and map the party information for each candidate in the election dataset. (5 MARKS) \n",
    "\n",
    "\n",
    "| Candidate name           |      Party|\n",
    "|--------------------------|------------|\n",
    "|Bachmann, Michelle':      |    'Republican'|\n",
    "|'Romney, Mitt':           |    'Republican'|\n",
    "|'Obama, Barack':          |    'Democrat'|\n",
    "|\"Roemer, Charles E.'Buddy' III\":| 'Reform'|\n",
    "|'Pawlenty, Timothy':     |     'Republican'|\n",
    "| 'Johnson, Gary Earl':   |      'Libertarian'|\n",
    "|'Paul, Ron':             |     'Republican'|\n",
    "|'Santorum, Rick':        |     'Republican'|\n",
    "|'Cain, Herman':         |      'Republican'|\n",
    "|'Gingrich, Newt':        |     'Republican'|\n",
    "|'McCotter, Thaddeus G':  |     'Republican'|\n",
    "|'Huntsman, Jon':       |       'Republican'|\n",
    "|'Perry, Rick':        |        'Republican'|\n",
    "\n",
    "\n",
    "\n",
    "\n",
    "\n",
    "B.\tCreate columns first_name and last_name from column cand_nm. Add them to the data frame. Find the count of contributions for every last_name. (4 MARKS)\n",
    "\n",
    "C.\tDisplay the name (given as 'contbr_nm'), occupation (given as “contbr_occupation”) of Top 10 Contributors (given as “contb_receipt_amt”) in the dataset (3 MARKS)\n",
    "\n",
    "\n",
    "D.\tThere can be duplication for the combination of name (given as 'contbr_nm'), occupation (given as “contbr_occupation”) in the dataset. Accumulate it according to each unique combination of name (given as 'contbr_nm'), occupation (given as “contbr_occupation”) then display the name (given as 'contbr_nm'), occupation (given as “contbr_occupation”) of Top 10 Contributors (given as “contb_receipt_amt”) in the dataset (3 Marks)\n",
    "\n",
    "E.\tThere can be duplication for the candidate name (given as 'cand_nm') in the dataset. Accumulate it according to each unique candidate name (given as “cand_nm”) then display top 10 candidates who got maximum contribution amount (given as “contb_receipt_amt”) (3 MARK)\n",
    "\n",
    "\n",
    "F.\tDisplay which city and the amount that has given maximum contribution to Democrat party (6MARKS)\n",
    "G.\tCount the number of unique contributors for every candidate from each state and the total amount of contribution made. Plotline graphs for every state for each of the aggregations calculated separately. (6 MARKS)\n",
    "\n",
    "\n"
   ]
  },
  {
   "cell_type": "code",
   "execution_count": 2,
   "metadata": {
    "id": "WeG-u-39EXmB"
   },
   "outputs": [],
   "source": [
    "# Solution"
   ]
  },
  {
   "cell_type": "markdown",
   "metadata": {
    "id": "vQEtySPgEXmL"
   },
   "source": [
    "<span style=\"font-family: Arial; font-weight:bold;font-size:1.5em;color:#db0b49;\">3.a) Read the dataset (adult.csv) and understand the dataset description given below (15 Marks)\n",
    "    \n",
    "    \n",
    "    \n",
    "    \n",
    "  \n",
    "  \n",
    " A. Write a code snippet to find the average age of women from the United States.  2 Marks \n",
    "  \n",
    " B. Write a code snippet to find the proportion of US citizens (native-country feature) in the dataset.  2 Marks \n",
    "  \n",
    " C. Write a code snippet to find which occupation has the maximum number of workers who earn a salary more than 50K?  2 Marks \n",
    "  \n",
    " D. Is it true that people who receive more than 50K salary have at least a high school education? (education - Bachelors, Profschool, Assoc-acdm, Assoc-voc, Masters or Doctorate feature). Justify your answer with all facts and figures from the dataset  2 Marks \n",
    "  \n",
    " E. Write code to count the average time of work (hours-per-week) for those who earn a little (<50 K ) and a lot (salary) (>=50 K ) for each country (native-country).  2 Marks \n",
    "  \n",
    " F. Among whom the proportion of those who earn a lot(>50K) is  5 Marks \n",
    "  \n",
    " more: among married or single men (marital-status feature)? Consider married as those who have a marital-status starting with Married (Married-civ-spouse, Married-spouse-absent or Married-AF-spouse), the rest are considered bachelors. Find out the proportion.\""
   ]
  },
  {
   "cell_type": "code",
   "execution_count": 3,
   "metadata": {
    "id": "Ry9z_9STEXmL",
    "outputId": "92d8a507-9684-4811-e6aa-45d9ac154dea"
   },
   "outputs": [],
   "source": [
    "# Solution"
   ]
  },
  {
   "cell_type": "markdown",
   "metadata": {
    "id": "10xAUMMJEXmN"
   },
   "source": [
    "### 3 b).\"Refer to the same dataset (adult.csv) and answer the following questions (15 Marks) \n",
    "  \n",
    " A. Write a code block to find, what is the maximum number of hours a person works per week (hours-per-week feature)? How many number of people work for the above mentioned number of hours? What is the percentage of those who earn more than >50 K among them?  5 Marks \n",
    "  \n",
    " B. Observe the column occupation, every entry has two parts: \n",
    " profession-specialty. Make two separate columns namely profession and specialty out of this column. Drop the column occupation from the dataset.  5 Marks \n",
    "  \n",
    " C. Find out the percentage of males and females in every profession using the ‘profession’ column created in the above question.  5 Marks\""
   ]
  },
  {
   "cell_type": "code",
   "execution_count": 5,
   "metadata": {},
   "outputs": [],
   "source": [
    "# Solution"
   ]
  },
  {
   "cell_type": "code",
   "execution_count": null,
   "metadata": {},
   "outputs": [],
   "source": []
  }
 ],
 "metadata": {
  "colab": {
   "name": "NPV_QB Solution Final Exam.ipynb",
   "provenance": []
  },
  "kernelspec": {
   "display_name": "Python 3 (ipykernel)",
   "language": "python",
   "name": "python3"
  },
  "language_info": {
   "codemirror_mode": {
    "name": "ipython",
    "version": 3
   },
   "file_extension": ".py",
   "mimetype": "text/x-python",
   "name": "python",
   "nbconvert_exporter": "python",
   "pygments_lexer": "ipython3",
   "version": "3.10.5"
  }
 },
 "nbformat": 4,
 "nbformat_minor": 1
}
