{
 "cells": [
  {
   "cell_type": "markdown",
   "id": "65e56933",
   "metadata": {},
   "source": [
    "<table align=\"left\" width=100%>\n",
    "    <tr>\n",
    "        <td width=\"20%\">\n",
    "            <img src=\"GL-2.png\">\n",
    "        </td>\n",
    "        <td>\n",
    "            <div align=\"center\">\n",
    "                <font color=\"#21618C\" size=8px>\n",
    "                  <b> Mid Exam<br> </b>\n",
    "                </font>\n",
    "            </div>\n",
    "        </td>\n",
    "    </tr>\n",
    "</table>"
   ]
  },
  {
   "cell_type": "markdown",
   "id": "69f393fa",
   "metadata": {},
   "source": [
    "### NPV Mid Exam"
   ]
  },
  {
   "cell_type": "markdown",
   "id": "f9be7e5a",
   "metadata": {},
   "source": [
    "### Total Marks - 50"
   ]
  },
  {
   "cell_type": "code",
   "execution_count": 1,
   "id": "29a7e847",
   "metadata": {},
   "outputs": [],
   "source": [
    "%matplotlib inline\n",
    "import matplotlib.pyplot as plt\n",
    "import numpy as np\n",
    "import pandas as pd\n",
    "import math"
   ]
  },
  {
   "cell_type": "markdown",
   "id": "0b3cb64e",
   "metadata": {},
   "source": [
    "<span style=\"font-family: Arial; font-weight:bold;font-size:1.5em;color:#db0b49;\">1. Read the dataset(matches.csv) and Answer below questions (10 Marks)\n",
    "\n",
    "\n",
    "   A. Display the no.of matches played in the dataset?\n",
    "\n",
    "   B. What percentages of the match are won by the toss winners?\n",
    "\n",
    "   C. Who won the final match and also which two teams reached the finals match?\n",
    "\n",
    "   D. Create a data frame of the team that have won the match after winning the toss?\n",
    "   \n",
    "   E. What percentage of matches are won after selecting from the toss_decision as a field?"
   ]
  },
  {
   "cell_type": "code",
   "execution_count": 3,
   "id": "74876685",
   "metadata": {},
   "outputs": [],
   "source": [
    "# Solution"
   ]
  },
  {
   "cell_type": "markdown",
   "id": "e21cdd69",
   "metadata": {},
   "source": [
    "<span style=\"font-family: Arial; font-weight:bold;font-size:1.5em;color:#db0b49;\">2. Read the dataset(911.csv) and Answer below questions (10 Marks)\n",
    " \n",
    "   A. Find the Topmost zipcodes and townships (twp) for 911 calls?\n",
    "\n",
    "   B. There are EMS, Fire, and TrafficMake you need to separate column to create a new column called \"Reason\" and understand our data more?\n",
    "\n",
    "   C. What is the most common reason for a 911 call?\n",
    "\n",
    "   D. Change the timeStamp from strings to DateTime objects and also grab specific attributes(For example Hour, Month and Day of the Week) from a DateTime object.\n",
    "\n",
    "   E. Restructure the data frame so that the columns become the Hours and the Index becomes the Day of the Week?\n"
   ]
  },
  {
   "cell_type": "code",
   "execution_count": 5,
   "id": "5a59b9e0",
   "metadata": {},
   "outputs": [],
   "source": [
    "# Solution"
   ]
  },
  {
   "cell_type": "markdown",
   "id": "669e1396",
   "metadata": {},
   "source": [
    "<span style=\"font-family: Arial; font-weight:bold;font-size:1.5em;color:#db0b49;\">3. Read the dataset(Ecommerce_Purchases.csv) and Answer below questions? (10 Marks)\n",
    "    \n",
    "   A. What were the highest and lowest purchase prices?\n",
    "  \n",
    "  B. How many people have English 'en' as their Language of choice on the website?\n",
    "  \n",
    "  C. How many people have the job title of \"Lawyer\" ?\n",
    "  \n",
    "  D. How many people made the purchase during the AM and how many people made the purchase during PM ?\n",
    "  \n",
    "  E. Someone made a purchase that came from Lot: \"90 WT\" , what was the Purchase Price for this transaction?"
   ]
  },
  {
   "cell_type": "code",
   "execution_count": 6,
   "id": "a26a26e3",
   "metadata": {},
   "outputs": [],
   "source": [
    "### Solution"
   ]
  },
  {
   "cell_type": "markdown",
   "id": "83e03e36",
   "metadata": {},
   "source": [
    "<span style=\"font-family: Arial; font-weight:bold;font-size:1.5em;color:#db0b49;\">4. Read the Dataset (Ramen-ratings.CSV)(20 marks)\n",
    "    \n",
    "\n",
    " A. Identify how many brands the data is captured. (2 Marks) \n",
    " \n",
    " B. Identify for how many rows the data for column Top Ten exists? (2 Marks) \n",
    " \n",
    " C. Display the data of bowl noodles for countries China and Taiwan. (3 Marks) \n",
    " \n",
    " D. Store the result in a data frame. Using the data frame find the brands that have ranking more than 4. (3 Marks) \n",
    " \n",
    " E. For Every Country and Style of noodle find the average Stars. Order them by stars highest to lowest. (4 Marks) \n",
    " \n",
    " \n",
    " F. Write a function to return the year in numbers or null if there is no value for the Top Ten column. Use this value to create a new column Top_Year. (5 Marks) Add the column to the dataset. (1 Marks)\""
   ]
  },
  {
   "cell_type": "code",
   "execution_count": null,
   "id": "6c680a3b",
   "metadata": {},
   "outputs": [],
   "source": [
    "# Solution"
   ]
  }
 ],
 "metadata": {
  "kernelspec": {
   "display_name": "Python 3 (ipykernel)",
   "language": "python",
   "name": "python3"
  },
  "language_info": {
   "codemirror_mode": {
    "name": "ipython",
    "version": 3
   },
   "file_extension": ".py",
   "mimetype": "text/x-python",
   "name": "python",
   "nbconvert_exporter": "python",
   "pygments_lexer": "ipython3",
   "version": "3.10.5"
  }
 },
 "nbformat": 4,
 "nbformat_minor": 5
}
