{
 "cells": [
  {
   "cell_type": "code",
   "execution_count": null,
   "metadata": {
    "id": "pSud36Q5EXlL"
   },
   "outputs": [],
   "source": [
    "%matplotlib inline\n",
    "import matplotlib.pyplot as plt\n",
    "import numpy as np\n",
    "import pandas as pd\n",
    "import math"
   ]
  },
  {
   "cell_type": "markdown",
   "metadata": {
    "id": "zkvfBQ3iEXla"
   },
   "source": [
    "<span style=\"font-family: Arial; font-weight:bold;font-size:1.5em;color:#db0b49;\">1. Read the dataset(2010_Report_to_Congress_on_White_House_Staff.csv) and Answer the below questions?(10 Marks)\n",
    "    \n",
    "A. Find the salary of an employee in a (1st-row 2nd-column) using a position based indexing function?\n",
    "\n",
    "B. Display all the employees whose salary is greater than 50000?\n",
    "\n",
    "C. Display all the rows whose salary is greater than 50000 and position as \"ANALYST\"?\n",
    "\n",
    "D. Find the list of Employee details belonging to a position ('ANALYST','ADVISOR')?\n",
    "\n",
    "E. Find the top 10 highest-paid employees in each position?\n"
   ]
  },
  {
   "cell_type": "code",
   "execution_count": null,
   "metadata": {
    "id": "QxpIu6PjEXlb",
    "outputId": "c5e0725b-41ed-44be-f307-f248a8079c53",
    "scrolled": true
   },
   "outputs": [
    {
     "data": {
      "text/html": [
       "<div>\n",
       "<style scoped>\n",
       "    .dataframe tbody tr th:only-of-type {\n",
       "        vertical-align: middle;\n",
       "    }\n",
       "\n",
       "    .dataframe tbody tr th {\n",
       "        vertical-align: top;\n",
       "    }\n",
       "\n",
       "    .dataframe thead th {\n",
       "        text-align: right;\n",
       "    }\n",
       "</style>\n",
       "<table border=\"1\" class=\"dataframe\">\n",
       "  <thead>\n",
       "    <tr style=\"text-align: right;\">\n",
       "      <th></th>\n",
       "      <th>Employee Name</th>\n",
       "      <th>Employee Status</th>\n",
       "      <th>Salary</th>\n",
       "      <th>Pay Basis</th>\n",
       "      <th>Position Title</th>\n",
       "    </tr>\n",
       "  </thead>\n",
       "  <tbody>\n",
       "    <tr>\n",
       "      <td>0</td>\n",
       "      <td>Abrams, Adam W.</td>\n",
       "      <td>Employee</td>\n",
       "      <td>66300.0</td>\n",
       "      <td>Per Annum</td>\n",
       "      <td>WESTERN REGIONAL COMMUNICATIONS DIRECTOR</td>\n",
       "    </tr>\n",
       "    <tr>\n",
       "      <td>1</td>\n",
       "      <td>Adams, Ian H.</td>\n",
       "      <td>Employee</td>\n",
       "      <td>45000.0</td>\n",
       "      <td>Per Annum</td>\n",
       "      <td>EXECUTIVE ASSISTANT TO THE DIRECTOR OF SCHEDUL...</td>\n",
       "    </tr>\n",
       "    <tr>\n",
       "      <td>2</td>\n",
       "      <td>Agnew, David P.</td>\n",
       "      <td>Employee</td>\n",
       "      <td>93840.0</td>\n",
       "      <td>Per Annum</td>\n",
       "      <td>DEPUTY DIRECTOR OF INTERGOVERNMENTAL AFFAIRS</td>\n",
       "    </tr>\n",
       "    <tr>\n",
       "      <td>3</td>\n",
       "      <td>Albino, James</td>\n",
       "      <td>Employee</td>\n",
       "      <td>91800.0</td>\n",
       "      <td>Per Annum</td>\n",
       "      <td>SENIOR PROGRAM MANAGER</td>\n",
       "    </tr>\n",
       "    <tr>\n",
       "      <td>4</td>\n",
       "      <td>Aldy, Jr., Joseph E.</td>\n",
       "      <td>Employee</td>\n",
       "      <td>130500.0</td>\n",
       "      <td>Per Annum</td>\n",
       "      <td>SPECIAL ASSISTANT TO THE PRESIDENT FOR ENERGY ...</td>\n",
       "    </tr>\n",
       "  </tbody>\n",
       "</table>\n",
       "</div>"
      ],
      "text/plain": [
       "          Employee Name Employee Status    Salary  Pay Basis  \\\n",
       "0       Abrams, Adam W.        Employee   66300.0  Per Annum   \n",
       "1         Adams, Ian H.        Employee   45000.0  Per Annum   \n",
       "2       Agnew, David P.        Employee   93840.0  Per Annum   \n",
       "3        Albino, James         Employee   91800.0  Per Annum   \n",
       "4  Aldy, Jr., Joseph E.        Employee  130500.0  Per Annum   \n",
       "\n",
       "                                      Position Title  \n",
       "0           WESTERN REGIONAL COMMUNICATIONS DIRECTOR  \n",
       "1  EXECUTIVE ASSISTANT TO THE DIRECTOR OF SCHEDUL...  \n",
       "2       DEPUTY DIRECTOR OF INTERGOVERNMENTAL AFFAIRS  \n",
       "3                             SENIOR PROGRAM MANAGER  \n",
       "4  SPECIAL ASSISTANT TO THE PRESIDENT FOR ENERGY ...  "
      ]
     },
     "execution_count": 26,
     "metadata": {},
     "output_type": "execute_result"
    }
   ],
   "source": [
    "data=pd.read_csv('2010_Report_to_Congress_on_White_House_Staff.csv')\n",
    "data.head()"
   ]
  },
  {
   "cell_type": "markdown",
   "metadata": {
    "id": "z6uVnVmhEXlb"
   },
   "source": [
    "#### A. Find the salary of an employee in a 1st-row 2nd column using a position based indexing function?"
   ]
  },
  {
   "cell_type": "code",
   "execution_count": null,
   "metadata": {
    "id": "0_nux0nNEXlb",
    "outputId": "340d91a3-030b-4f00-dfa1-7c938e54c920"
   },
   "outputs": [
    {
     "data": {
      "text/plain": [
       "45000.0"
      ]
     },
     "execution_count": 27,
     "metadata": {},
     "output_type": "execute_result"
    }
   ],
   "source": [
    "data.iloc[1,2]"
   ]
  },
  {
   "cell_type": "markdown",
   "metadata": {
    "id": "i0Omy2HyEXlb"
   },
   "source": [
    "#### B. Display all the employees whose salary is greater than 50000?"
   ]
  },
  {
   "cell_type": "code",
   "execution_count": null,
   "metadata": {
    "id": "_aOHHiebEXlb",
    "outputId": "4d18cb70-9427-4a9e-f37d-d8440b3a3520"
   },
   "outputs": [
    {
     "data": {
      "text/html": [
       "<div>\n",
       "<style scoped>\n",
       "    .dataframe tbody tr th:only-of-type {\n",
       "        vertical-align: middle;\n",
       "    }\n",
       "\n",
       "    .dataframe tbody tr th {\n",
       "        vertical-align: top;\n",
       "    }\n",
       "\n",
       "    .dataframe thead th {\n",
       "        text-align: right;\n",
       "    }\n",
       "</style>\n",
       "<table border=\"1\" class=\"dataframe\">\n",
       "  <thead>\n",
       "    <tr style=\"text-align: right;\">\n",
       "      <th></th>\n",
       "      <th>Employee Name</th>\n",
       "      <th>Employee Status</th>\n",
       "      <th>Salary</th>\n",
       "      <th>Pay Basis</th>\n",
       "      <th>Position Title</th>\n",
       "    </tr>\n",
       "  </thead>\n",
       "  <tbody>\n",
       "    <tr>\n",
       "      <td>0</td>\n",
       "      <td>Abrams, Adam W.</td>\n",
       "      <td>Employee</td>\n",
       "      <td>66300.0</td>\n",
       "      <td>Per Annum</td>\n",
       "      <td>WESTERN REGIONAL COMMUNICATIONS DIRECTOR</td>\n",
       "    </tr>\n",
       "    <tr>\n",
       "      <td>2</td>\n",
       "      <td>Agnew, David P.</td>\n",
       "      <td>Employee</td>\n",
       "      <td>93840.0</td>\n",
       "      <td>Per Annum</td>\n",
       "      <td>DEPUTY DIRECTOR OF INTERGOVERNMENTAL AFFAIRS</td>\n",
       "    </tr>\n",
       "  </tbody>\n",
       "</table>\n",
       "</div>"
      ],
      "text/plain": [
       "     Employee Name Employee Status   Salary  Pay Basis  \\\n",
       "0  Abrams, Adam W.        Employee  66300.0  Per Annum   \n",
       "2  Agnew, David P.        Employee  93840.0  Per Annum   \n",
       "\n",
       "                                 Position Title  \n",
       "0      WESTERN REGIONAL COMMUNICATIONS DIRECTOR  \n",
       "2  DEPUTY DIRECTOR OF INTERGOVERNMENTAL AFFAIRS  "
      ]
     },
     "execution_count": 28,
     "metadata": {},
     "output_type": "execute_result"
    }
   ],
   "source": [
    "data.Salary>50000\n",
    "transformed_df=data[data.Salary>50000]\n",
    "transformed_df.head(2)"
   ]
  },
  {
   "cell_type": "markdown",
   "metadata": {
    "id": "lAicAm-BEXlb"
   },
   "source": [
    "#### C.  Display all the rows whose salary is greater than 50000 and position as \"ANALYST\"?"
   ]
  },
  {
   "cell_type": "code",
   "execution_count": null,
   "metadata": {
    "id": "X-KIlGr5EXlb",
    "outputId": "a42b4177-4163-44e9-9c02-6d8d804fe3f7",
    "scrolled": true
   },
   "outputs": [
    {
     "data": {
      "text/html": [
       "<div>\n",
       "<style scoped>\n",
       "    .dataframe tbody tr th:only-of-type {\n",
       "        vertical-align: middle;\n",
       "    }\n",
       "\n",
       "    .dataframe tbody tr th {\n",
       "        vertical-align: top;\n",
       "    }\n",
       "\n",
       "    .dataframe thead th {\n",
       "        text-align: right;\n",
       "    }\n",
       "</style>\n",
       "<table border=\"1\" class=\"dataframe\">\n",
       "  <thead>\n",
       "    <tr style=\"text-align: right;\">\n",
       "      <th></th>\n",
       "      <th>Employee Name</th>\n",
       "      <th>Employee Status</th>\n",
       "      <th>Salary</th>\n",
       "      <th>Pay Basis</th>\n",
       "      <th>Position Title</th>\n",
       "    </tr>\n",
       "  </thead>\n",
       "  <tbody>\n",
       "    <tr>\n",
       "      <td>453</td>\n",
       "      <td>White, Cleo</td>\n",
       "      <td>Detailee</td>\n",
       "      <td>65393.0</td>\n",
       "      <td>Per Annum</td>\n",
       "      <td>ANALYST</td>\n",
       "    </tr>\n",
       "  </tbody>\n",
       "</table>\n",
       "</div>"
      ],
      "text/plain": [
       "    Employee Name Employee Status   Salary  Pay Basis Position Title\n",
       "453   White, Cleo        Detailee  65393.0  Per Annum        ANALYST"
      ]
     },
     "execution_count": 29,
     "metadata": {},
     "output_type": "execute_result"
    }
   ],
   "source": [
    "transformed_df2=data[(data.Salary>50000) & (data['Position Title'] == 'ANALYST')]\n",
    "transformed_df2"
   ]
  },
  {
   "cell_type": "markdown",
   "metadata": {
    "id": "4bcv1rawEXlb"
   },
   "source": [
    "#### D. Find the list of Employee details belonging to a position ('ANALYST','ADVISOR')?"
   ]
  },
  {
   "cell_type": "code",
   "execution_count": null,
   "metadata": {
    "id": "mMizTXlsEXlb",
    "outputId": "0c09605d-213a-4f88-dcc8-03e20a3729ec"
   },
   "outputs": [
    {
     "data": {
      "text/html": [
       "<div>\n",
       "<style scoped>\n",
       "    .dataframe tbody tr th:only-of-type {\n",
       "        vertical-align: middle;\n",
       "    }\n",
       "\n",
       "    .dataframe tbody tr th {\n",
       "        vertical-align: top;\n",
       "    }\n",
       "\n",
       "    .dataframe thead th {\n",
       "        text-align: right;\n",
       "    }\n",
       "</style>\n",
       "<table border=\"1\" class=\"dataframe\">\n",
       "  <thead>\n",
       "    <tr style=\"text-align: right;\">\n",
       "      <th></th>\n",
       "      <th>Employee Name</th>\n",
       "      <th>Employee Status</th>\n",
       "      <th>Salary</th>\n",
       "      <th>Pay Basis</th>\n",
       "      <th>Position Title</th>\n",
       "    </tr>\n",
       "  </thead>\n",
       "  <tbody>\n",
       "    <tr>\n",
       "      <td>14</td>\n",
       "      <td>Ayling, Lindsay A.</td>\n",
       "      <td>Employee</td>\n",
       "      <td>42000.0</td>\n",
       "      <td>Per Annum</td>\n",
       "      <td>ANALYST</td>\n",
       "    </tr>\n",
       "    <tr>\n",
       "      <td>55</td>\n",
       "      <td>Campos, David R.</td>\n",
       "      <td>Employee</td>\n",
       "      <td>42000.0</td>\n",
       "      <td>Per Annum</td>\n",
       "      <td>ANALYST</td>\n",
       "    </tr>\n",
       "    <tr>\n",
       "      <td>63</td>\n",
       "      <td>Castillo, Laura M.</td>\n",
       "      <td>Employee</td>\n",
       "      <td>42000.0</td>\n",
       "      <td>Per Annum</td>\n",
       "      <td>ANALYST</td>\n",
       "    </tr>\n",
       "    <tr>\n",
       "      <td>104</td>\n",
       "      <td>Dorsett, Craig M.</td>\n",
       "      <td>Employee</td>\n",
       "      <td>42000.0</td>\n",
       "      <td>Per Annum</td>\n",
       "      <td>ANALYST</td>\n",
       "    </tr>\n",
       "    <tr>\n",
       "      <td>154</td>\n",
       "      <td>Grant, Kathryn A.</td>\n",
       "      <td>Employee</td>\n",
       "      <td>42000.0</td>\n",
       "      <td>Per Annum</td>\n",
       "      <td>ANALYST</td>\n",
       "    </tr>\n",
       "    <tr>\n",
       "      <td>167</td>\n",
       "      <td>Hegde, Shilpa S.</td>\n",
       "      <td>Employee</td>\n",
       "      <td>42000.0</td>\n",
       "      <td>Per Annum</td>\n",
       "      <td>ANALYST</td>\n",
       "    </tr>\n",
       "    <tr>\n",
       "      <td>277</td>\n",
       "      <td>McGinnis, Patricia G.</td>\n",
       "      <td>Employee</td>\n",
       "      <td>0.0</td>\n",
       "      <td>Per Annum</td>\n",
       "      <td>ADVISOR</td>\n",
       "    </tr>\n",
       "    <tr>\n",
       "      <td>284</td>\n",
       "      <td>Metcalf, Ryan D.</td>\n",
       "      <td>Employee</td>\n",
       "      <td>42000.0</td>\n",
       "      <td>Per Annum</td>\n",
       "      <td>ANALYST</td>\n",
       "    </tr>\n",
       "    <tr>\n",
       "      <td>338</td>\n",
       "      <td>Posey, Stacie M.</td>\n",
       "      <td>Employee</td>\n",
       "      <td>42000.0</td>\n",
       "      <td>Per Annum</td>\n",
       "      <td>ANALYST</td>\n",
       "    </tr>\n",
       "    <tr>\n",
       "      <td>353</td>\n",
       "      <td>Robertson, Ian T.</td>\n",
       "      <td>Employee</td>\n",
       "      <td>42000.0</td>\n",
       "      <td>Per Annum</td>\n",
       "      <td>ANALYST</td>\n",
       "    </tr>\n",
       "    <tr>\n",
       "      <td>373</td>\n",
       "      <td>Schaub, Matthew J.</td>\n",
       "      <td>Employee</td>\n",
       "      <td>42000.0</td>\n",
       "      <td>Per Annum</td>\n",
       "      <td>ANALYST</td>\n",
       "    </tr>\n",
       "    <tr>\n",
       "      <td>434</td>\n",
       "      <td>Utech, Daniel G.</td>\n",
       "      <td>Detailee</td>\n",
       "      <td>130000.0</td>\n",
       "      <td>Per Annum</td>\n",
       "      <td>ADVISOR</td>\n",
       "    </tr>\n",
       "    <tr>\n",
       "      <td>453</td>\n",
       "      <td>White, Cleo</td>\n",
       "      <td>Detailee</td>\n",
       "      <td>65393.0</td>\n",
       "      <td>Per Annum</td>\n",
       "      <td>ANALYST</td>\n",
       "    </tr>\n",
       "  </tbody>\n",
       "</table>\n",
       "</div>"
      ],
      "text/plain": [
       "             Employee Name Employee Status    Salary  Pay Basis Position Title\n",
       "14      Ayling, Lindsay A.        Employee   42000.0  Per Annum        ANALYST\n",
       "55        Campos, David R.        Employee   42000.0  Per Annum        ANALYST\n",
       "63      Castillo, Laura M.        Employee   42000.0  Per Annum        ANALYST\n",
       "104      Dorsett, Craig M.        Employee   42000.0  Per Annum        ANALYST\n",
       "154      Grant, Kathryn A.        Employee   42000.0  Per Annum        ANALYST\n",
       "167       Hegde, Shilpa S.        Employee   42000.0  Per Annum        ANALYST\n",
       "277  McGinnis, Patricia G.        Employee       0.0  Per Annum        ADVISOR\n",
       "284       Metcalf, Ryan D.        Employee   42000.0  Per Annum        ANALYST\n",
       "338       Posey, Stacie M.        Employee   42000.0  Per Annum        ANALYST\n",
       "353      Robertson, Ian T.        Employee   42000.0  Per Annum        ANALYST\n",
       "373     Schaub, Matthew J.        Employee   42000.0  Per Annum        ANALYST\n",
       "434       Utech, Daniel G.        Detailee  130000.0  Per Annum        ADVISOR\n",
       "453            White, Cleo        Detailee   65393.0  Per Annum        ANALYST"
      ]
     },
     "execution_count": 30,
     "metadata": {},
     "output_type": "execute_result"
    }
   ],
   "source": [
    "transformed_df3=data[data['Position Title'].isin(['ANALYST','ADVISOR'])]\n",
    "transformed_df3"
   ]
  },
  {
   "cell_type": "markdown",
   "metadata": {
    "id": "pTEaVFqZEXlb"
   },
   "source": [
    "#### E. Find the top 10 highest-paid employees in each position?"
   ]
  },
  {
   "cell_type": "code",
   "execution_count": null,
   "metadata": {
    "id": "K4YSeMSKEXlb",
    "outputId": "058181f6-aff1-486d-bf2b-75f24172441e",
    "scrolled": true
   },
   "outputs": [
    {
     "data": {
      "text/html": [
       "<div>\n",
       "<style scoped>\n",
       "    .dataframe tbody tr th:only-of-type {\n",
       "        vertical-align: middle;\n",
       "    }\n",
       "\n",
       "    .dataframe tbody tr th {\n",
       "        vertical-align: top;\n",
       "    }\n",
       "\n",
       "    .dataframe thead th {\n",
       "        text-align: right;\n",
       "    }\n",
       "</style>\n",
       "<table border=\"1\" class=\"dataframe\">\n",
       "  <thead>\n",
       "    <tr style=\"text-align: right;\">\n",
       "      <th></th>\n",
       "      <th>Employee Name</th>\n",
       "      <th>Salary</th>\n",
       "    </tr>\n",
       "    <tr>\n",
       "      <th>Position Title</th>\n",
       "      <th></th>\n",
       "      <th></th>\n",
       "    </tr>\n",
       "  </thead>\n",
       "  <tbody>\n",
       "    <tr>\n",
       "      <td>ADVANCE COORDINATOR</td>\n",
       "      <td>Faulman, Michael T.</td>\n",
       "      <td>42000.0</td>\n",
       "    </tr>\n",
       "    <tr>\n",
       "      <td>ADVISOR</td>\n",
       "      <td>Utech, Daniel G.</td>\n",
       "      <td>130000.0</td>\n",
       "    </tr>\n",
       "    <tr>\n",
       "      <td>ANALYST</td>\n",
       "      <td>White, Cleo</td>\n",
       "      <td>65393.0</td>\n",
       "    </tr>\n",
       "    <tr>\n",
       "      <td>ASSISTANT COUNSEL FOR NOMINATIONS</td>\n",
       "      <td>Kumar, Pravin D.</td>\n",
       "      <td>50000.0</td>\n",
       "    </tr>\n",
       "    <tr>\n",
       "      <td>ASSISTANT DIRECTOR</td>\n",
       "      <td>Stracko, Jill A.</td>\n",
       "      <td>66300.0</td>\n",
       "    </tr>\n",
       "    <tr>\n",
       "      <td>ASSISTANT EXECUTIVE CLERK</td>\n",
       "      <td>Thomas, III, Edwin R.</td>\n",
       "      <td>106839.0</td>\n",
       "    </tr>\n",
       "    <tr>\n",
       "      <td>ASSISTANT PRESS SECRETARY</td>\n",
       "      <td>Vietor, Thomas F.</td>\n",
       "      <td>78000.0</td>\n",
       "    </tr>\n",
       "    <tr>\n",
       "      <td>ASSISTANT SHIFT LEADER</td>\n",
       "      <td>Sass, Joan C.</td>\n",
       "      <td>63673.0</td>\n",
       "    </tr>\n",
       "    <tr>\n",
       "      <td>ASSISTANT SPEECHWRITER</td>\n",
       "      <td>O'Connor, Kyle P.</td>\n",
       "      <td>42000.0</td>\n",
       "    </tr>\n",
       "    <tr>\n",
       "      <td>ASSISTANT STAFF SECRETARY</td>\n",
       "      <td>Walsh, Joan L.</td>\n",
       "      <td>60000.0</td>\n",
       "    </tr>\n",
       "  </tbody>\n",
       "</table>\n",
       "</div>"
      ],
      "text/plain": [
       "                                           Employee Name    Salary\n",
       "Position Title                                                    \n",
       "ADVANCE COORDINATOR                  Faulman, Michael T.   42000.0\n",
       "ADVISOR                                 Utech, Daniel G.  130000.0\n",
       "ANALYST                                      White, Cleo   65393.0\n",
       "ASSISTANT COUNSEL FOR NOMINATIONS       Kumar, Pravin D.   50000.0\n",
       "ASSISTANT DIRECTOR                      Stracko, Jill A.   66300.0\n",
       "ASSISTANT EXECUTIVE CLERK          Thomas, III, Edwin R.  106839.0\n",
       "ASSISTANT PRESS SECRETARY              Vietor, Thomas F.   78000.0\n",
       "ASSISTANT SHIFT LEADER                     Sass, Joan C.   63673.0\n",
       "ASSISTANT SPEECHWRITER                 O'Connor, Kyle P.   42000.0\n",
       "ASSISTANT STAFF SECRETARY                 Walsh, Joan L.   60000.0"
      ]
     },
     "execution_count": 31,
     "metadata": {},
     "output_type": "execute_result"
    }
   ],
   "source": [
    "df_bypositiontitle=data.groupby('Position Title')\n",
    "df_bypositiontitle[['Employee Name','Salary']].max().head(10)\n"
   ]
  },
  {
   "cell_type": "markdown",
   "metadata": {
    "id": "oOKS9xcpEXmB"
   },
   "source": [
    "<span style=\"font-family: Arial; font-weight:bold;font-size:1.5em;color:#db0b49;\">2. Read the dataset(Election_Contributions.csv) and Answer the below questions? (30 Marks)\n",
    "\n",
    "A.\tThere are four parties namely: 'Republican','Democrat','Reform','Libertarian'. One or more candidates can appear for elections from each party as shown in the figure below. Create a dictionary for storing the data given below in the figure. Create a new column 'Party' in the election dataset and map the party information for each candidate in the election dataset. (5 MARKS) \n",
    "\n",
    "\n",
    "| Candidate name           |      Party|\n",
    "|--------------------------|------------|\n",
    "|Bachmann, Michelle':      |    'Republican'|\n",
    "|'Romney, Mitt':           |    'Republican'|\n",
    "|'Obama, Barack':          |    'Democrat'|\n",
    "|\"Roemer, Charles E.'Buddy' III\":| 'Reform'|\n",
    "|'Pawlenty, Timothy':     |     'Republican'|\n",
    "| 'Johnson, Gary Earl':   |      'Libertarian'|\n",
    "|'Paul, Ron':             |     'Republican'|\n",
    "|'Santorum, Rick':        |     'Republican'|\n",
    "|'Cain, Herman':         |      'Republican'|\n",
    "|'Gingrich, Newt':        |     'Republican'|\n",
    "|'McCotter, Thaddeus G':  |     'Republican'|\n",
    "|'Huntsman, Jon':       |       'Republican'|\n",
    "|'Perry, Rick':        |        'Republican'|\n",
    "\n",
    "\n",
    "\n",
    "\n",
    "\n",
    "B.\tCreate columns first_name and last_name from column cand_nm. Add them to the data frame. Find the count of contributions for every last_name. (4 MARKS)\n",
    "\n",
    "C.\tDisplay the name (given as 'contbr_nm'), occupation (given as “contbr_occupation”) of Top 10 Contributors (given as “contb_receipt_amt”) in the dataset (3 MARKS)\n",
    "\n",
    "\n",
    "D.\tThere can be duplication for the combination of name (given as 'contbr_nm'), occupation (given as “contbr_occupation”) in the dataset. Accumulate it according to each unique combination of name (given as 'contbr_nm'), occupation (given as “contbr_occupation”) then display the name (given as 'contbr_nm'), occupation (given as “contbr_occupation”) of Top 10 Contributors (given as “contb_receipt_amt”) in the dataset (3 Marks)\n",
    "\n",
    "E.\tThere can be duplication for the candidate name (given as 'cand_nm') in the dataset. Accumulate it according to each unique candidate name (given as “cand_nm”) then display top 10 candidates who got maximum contribution amount (given as “contb_receipt_amt”) (3 MARK)\n",
    "\n",
    "\n",
    "F.\tDisplay which city and the amount that has given maximum contribution to Democrat party (6MARKS)\n",
    "G.\tCount the number of unique contributors for every candidate from each state and the total amount of contribution made. Plotline graphs for every state for each of the aggregations calculated separately. (6 MARKS)\n",
    "\n",
    "\n"
   ]
  },
  {
   "cell_type": "code",
   "execution_count": null,
   "metadata": {
    "id": "WeG-u-39EXmB"
   },
   "outputs": [],
   "source": [
    "fec = pd.read_csv('Election_Contributions.csv')"
   ]
  },
  {
   "cell_type": "code",
   "execution_count": null,
   "metadata": {
    "id": "U3W1yTaOEXmB",
    "outputId": "e9b59142-c24b-4995-bce7-8c10f0b5a120"
   },
   "outputs": [
    {
     "data": {
      "text/html": [
       "<div>\n",
       "<style scoped>\n",
       "    .dataframe tbody tr th:only-of-type {\n",
       "        vertical-align: middle;\n",
       "    }\n",
       "\n",
       "    .dataframe tbody tr th {\n",
       "        vertical-align: top;\n",
       "    }\n",
       "\n",
       "    .dataframe thead th {\n",
       "        text-align: right;\n",
       "    }\n",
       "</style>\n",
       "<table border=\"1\" class=\"dataframe\">\n",
       "  <thead>\n",
       "    <tr style=\"text-align: right;\">\n",
       "      <th></th>\n",
       "      <th>Unnamed: 0</th>\n",
       "      <th>cand_nm</th>\n",
       "      <th>contbr_nm</th>\n",
       "      <th>contbr_city</th>\n",
       "      <th>contbr_st</th>\n",
       "      <th>contbr_occupation</th>\n",
       "      <th>contb_receipt_amt</th>\n",
       "      <th>contb_receipt_dt</th>\n",
       "    </tr>\n",
       "  </thead>\n",
       "  <tbody>\n",
       "    <tr>\n",
       "      <td>0</td>\n",
       "      <td>61030</td>\n",
       "      <td>Obama, Barack</td>\n",
       "      <td>KNOX, JAMES</td>\n",
       "      <td>GADSDEN</td>\n",
       "      <td>AL</td>\n",
       "      <td>RETIRED</td>\n",
       "      <td>50.0</td>\n",
       "      <td>28-Nov-11</td>\n",
       "    </tr>\n",
       "    <tr>\n",
       "      <td>1</td>\n",
       "      <td>474870</td>\n",
       "      <td>Cain, Herman</td>\n",
       "      <td>STOKES, MARION O MR</td>\n",
       "      <td>MARYVILLE</td>\n",
       "      <td>TN</td>\n",
       "      <td>RETIRED</td>\n",
       "      <td>80.0</td>\n",
       "      <td>27-Oct-11</td>\n",
       "    </tr>\n",
       "    <tr>\n",
       "      <td>2</td>\n",
       "      <td>498731</td>\n",
       "      <td>Gingrich, Newt</td>\n",
       "      <td>BLAIR, RALPH E. MR.</td>\n",
       "      <td>GUTHRIE</td>\n",
       "      <td>OK</td>\n",
       "      <td>RETIRED</td>\n",
       "      <td>50.0</td>\n",
       "      <td>07-Dec-11</td>\n",
       "    </tr>\n",
       "    <tr>\n",
       "      <td>3</td>\n",
       "      <td>155276</td>\n",
       "      <td>Obama, Barack</td>\n",
       "      <td>LACEWELL, BARBARA</td>\n",
       "      <td>ROSWELL</td>\n",
       "      <td>GA</td>\n",
       "      <td>COLLISION CENTER MANAGER</td>\n",
       "      <td>10.0</td>\n",
       "      <td>31-Oct-11</td>\n",
       "    </tr>\n",
       "    <tr>\n",
       "      <td>4</td>\n",
       "      <td>118843</td>\n",
       "      <td>Obama, Barack</td>\n",
       "      <td>YBANEZ, VICTORIA</td>\n",
       "      <td>COLORADO SPRINGS</td>\n",
       "      <td>CO</td>\n",
       "      <td>DIRECTOR</td>\n",
       "      <td>120.0</td>\n",
       "      <td>07-Jan-12</td>\n",
       "    </tr>\n",
       "  </tbody>\n",
       "</table>\n",
       "</div>"
      ],
      "text/plain": [
       "   Unnamed: 0         cand_nm            contbr_nm       contbr_city  \\\n",
       "0       61030   Obama, Barack          KNOX, JAMES           GADSDEN   \n",
       "1      474870    Cain, Herman  STOKES, MARION O MR         MARYVILLE   \n",
       "2      498731  Gingrich, Newt  BLAIR, RALPH E. MR.           GUTHRIE   \n",
       "3      155276   Obama, Barack    LACEWELL, BARBARA           ROSWELL   \n",
       "4      118843   Obama, Barack     YBANEZ, VICTORIA  COLORADO SPRINGS   \n",
       "\n",
       "  contbr_st         contbr_occupation  contb_receipt_amt contb_receipt_dt  \n",
       "0        AL                   RETIRED               50.0        28-Nov-11  \n",
       "1        TN                   RETIRED               80.0        27-Oct-11  \n",
       "2        OK                   RETIRED               50.0        07-Dec-11  \n",
       "3        GA  COLLISION CENTER MANAGER               10.0        31-Oct-11  \n",
       "4        CO                  DIRECTOR              120.0        07-Jan-12  "
      ]
     },
     "execution_count": 9,
     "metadata": {},
     "output_type": "execute_result"
    }
   ],
   "source": [
    "fec.head()"
   ]
  },
  {
   "cell_type": "markdown",
   "metadata": {
    "id": "PHDYMiClEXmB"
   },
   "source": [
    "#### A.\tThere are four parties namely: 'Republican','Democrat','Reform','Libertarian'. One or more candidates can appear for elections from each party as shown in the figure below. Create a dictionary for storing the data given below in the figure. Create a new column 'Party' in the election dataset and map the party information for each candidate in the election dataset. (5 MARKS) "
   ]
  },
  {
   "cell_type": "code",
   "execution_count": null,
   "metadata": {
    "id": "ah3351IkEXmB"
   },
   "outputs": [],
   "source": [
    "parties = {\n",
    "  'Bachmann, Michelle': 'Republican',\n",
    "  'Romney, Mitt': 'Republican',\n",
    "  'Obama, Barack': 'Democrat',\n",
    "  \"Roemer, Charles E. 'Buddy' III\": 'Reform',\n",
    "  'Pawlenty, Timothy': 'Republican',\n",
    "  'Johnson, Gary Earl': 'Libertarian',\n",
    "  'Paul, Ron': 'Republican',\n",
    "  'Santorum, Rick': 'Republican',\n",
    "  'Cain, Herman': 'Republican',\n",
    "  'Gingrich, Newt': 'Republican',\n",
    "  'McCotter, Thaddeus G': 'Republican',\n",
    "  'Huntsman, Jon': 'Republican',\n",
    "  'Perry, Rick': 'Republican'           \n",
    " }\n",
    "\n",
    "\n",
    "fec['party'] = fec.cand_nm.map(parties)"
   ]
  },
  {
   "cell_type": "code",
   "execution_count": null,
   "metadata": {
    "id": "NfL_GbUFEXmB",
    "outputId": "35873d81-94fc-4fdb-971f-fae69bc464db"
   },
   "outputs": [
    {
     "data": {
      "text/plain": [
       "{'Bachmann, Michelle': 'Republican',\n",
       " 'Romney, Mitt': 'Republican',\n",
       " 'Obama, Barack': 'Democrat',\n",
       " \"Roemer, Charles E. 'Buddy' III\": 'Reform',\n",
       " 'Pawlenty, Timothy': 'Republican',\n",
       " 'Johnson, Gary Earl': 'Libertarian',\n",
       " 'Paul, Ron': 'Republican',\n",
       " 'Santorum, Rick': 'Republican',\n",
       " 'Cain, Herman': 'Republican',\n",
       " 'Gingrich, Newt': 'Republican',\n",
       " 'McCotter, Thaddeus G': 'Republican',\n",
       " 'Huntsman, Jon': 'Republican',\n",
       " 'Perry, Rick': 'Republican'}"
      ]
     },
     "execution_count": 11,
     "metadata": {},
     "output_type": "execute_result"
    }
   ],
   "source": [
    "parties\n"
   ]
  },
  {
   "cell_type": "code",
   "execution_count": null,
   "metadata": {
    "id": "czjOM2OAEXmC",
    "outputId": "9be8f33d-402f-4ca9-fd29-19c6ebccf20d"
   },
   "outputs": [
    {
     "data": {
      "text/plain": [
       "array(['Democrat', 'Republican', 'Libertarian', 'Reform'], dtype=object)"
      ]
     },
     "execution_count": 13,
     "metadata": {},
     "output_type": "execute_result"
    }
   ],
   "source": [
    "fec['party'].unique()"
   ]
  },
  {
   "cell_type": "markdown",
   "metadata": {
    "id": "CsLVbd84EXmC"
   },
   "source": [
    "#### B.\tCreate columns first_name and last_name from column cand_nm. Add them to the data frame. Find the count of contributions for every last_name. (4 MARKS)"
   ]
  },
  {
   "cell_type": "code",
   "execution_count": null,
   "metadata": {
    "id": "IzdGmO45EXmC",
    "outputId": "d5e8ebdf-4d6b-4baa-99d9-46df6657b119"
   },
   "outputs": [
    {
     "data": {
      "text/html": [
       "<div>\n",
       "<style scoped>\n",
       "    .dataframe tbody tr th:only-of-type {\n",
       "        vertical-align: middle;\n",
       "    }\n",
       "\n",
       "    .dataframe tbody tr th {\n",
       "        vertical-align: top;\n",
       "    }\n",
       "\n",
       "    .dataframe thead th {\n",
       "        text-align: right;\n",
       "    }\n",
       "</style>\n",
       "<table border=\"1\" class=\"dataframe\">\n",
       "  <thead>\n",
       "    <tr style=\"text-align: right;\">\n",
       "      <th></th>\n",
       "      <th>0</th>\n",
       "      <th>1</th>\n",
       "    </tr>\n",
       "  </thead>\n",
       "  <tbody>\n",
       "    <tr>\n",
       "      <td>0</td>\n",
       "      <td>Obama</td>\n",
       "      <td>Barack</td>\n",
       "    </tr>\n",
       "    <tr>\n",
       "      <td>1</td>\n",
       "      <td>Cain</td>\n",
       "      <td>Herman</td>\n",
       "    </tr>\n",
       "    <tr>\n",
       "      <td>2</td>\n",
       "      <td>Gingrich</td>\n",
       "      <td>Newt</td>\n",
       "    </tr>\n",
       "    <tr>\n",
       "      <td>3</td>\n",
       "      <td>Obama</td>\n",
       "      <td>Barack</td>\n",
       "    </tr>\n",
       "    <tr>\n",
       "      <td>4</td>\n",
       "      <td>Obama</td>\n",
       "      <td>Barack</td>\n",
       "    </tr>\n",
       "    <tr>\n",
       "      <td>...</td>\n",
       "      <td>...</td>\n",
       "      <td>...</td>\n",
       "    </tr>\n",
       "    <tr>\n",
       "      <td>9995</td>\n",
       "      <td>Obama</td>\n",
       "      <td>Barack</td>\n",
       "    </tr>\n",
       "    <tr>\n",
       "      <td>9996</td>\n",
       "      <td>Obama</td>\n",
       "      <td>Barack</td>\n",
       "    </tr>\n",
       "    <tr>\n",
       "      <td>9997</td>\n",
       "      <td>Obama</td>\n",
       "      <td>Barack</td>\n",
       "    </tr>\n",
       "    <tr>\n",
       "      <td>9998</td>\n",
       "      <td>Obama</td>\n",
       "      <td>Barack</td>\n",
       "    </tr>\n",
       "    <tr>\n",
       "      <td>9999</td>\n",
       "      <td>Pawlenty</td>\n",
       "      <td>Timothy</td>\n",
       "    </tr>\n",
       "  </tbody>\n",
       "</table>\n",
       "<p>10000 rows × 2 columns</p>\n",
       "</div>"
      ],
      "text/plain": [
       "             0         1\n",
       "0        Obama    Barack\n",
       "1         Cain    Herman\n",
       "2     Gingrich      Newt\n",
       "3        Obama    Barack\n",
       "4        Obama    Barack\n",
       "...        ...       ...\n",
       "9995     Obama    Barack\n",
       "9996     Obama    Barack\n",
       "9997     Obama    Barack\n",
       "9998     Obama    Barack\n",
       "9999  Pawlenty   Timothy\n",
       "\n",
       "[10000 rows x 2 columns]"
      ]
     },
     "execution_count": 15,
     "metadata": {},
     "output_type": "execute_result"
    }
   ],
   "source": [
    "name= fec['cand_nm'].str.split(',' , expand = True)\n",
    "name"
   ]
  },
  {
   "cell_type": "code",
   "execution_count": null,
   "metadata": {
    "id": "kgtbznYaEXmC"
   },
   "outputs": [],
   "source": [
    "fec['first_name']=name[1]\n",
    "fec['last_name']=name[0]"
   ]
  },
  {
   "cell_type": "code",
   "execution_count": null,
   "metadata": {
    "id": "Xs9vYsReEXmC",
    "outputId": "71b17a2c-a00f-4eb1-e02d-dbcee34af673"
   },
   "outputs": [
    {
     "data": {
      "text/plain": [
       "Obama       5534\n",
       "Paul        1622\n",
       "Romney      1096\n",
       "Gingrich     501\n",
       "Cain         372\n",
       "Perry        239\n",
       "Bachmann     216\n",
       "Santorum     157\n",
       "Roemer        94\n",
       "Pawlenty      88\n",
       "Huntsman      70\n",
       "Johnson       10\n",
       "McCotter       1\n",
       "Name: last_name, dtype: int64"
      ]
     },
     "execution_count": 17,
     "metadata": {},
     "output_type": "execute_result"
    }
   ],
   "source": [
    "fec['last_name'].value_counts()"
   ]
  },
  {
   "cell_type": "markdown",
   "metadata": {
    "id": "x4Nc9yxXEXmC"
   },
   "source": [
    "#### C.\tDisplay the name (given as 'contbr_nm'), occupation (given as “contbr_occupation”) of Top 10 Contributors (given as “contb_receipt_amt”) in the dataset (3 MARKS)"
   ]
  },
  {
   "cell_type": "code",
   "execution_count": null,
   "metadata": {
    "id": "4ayqok8qEXmC",
    "outputId": "aeb3be00-7bc1-4116-fd43-0d8699ab1a96"
   },
   "outputs": [
    {
     "data": {
      "text/html": [
       "<div>\n",
       "<style scoped>\n",
       "    .dataframe tbody tr th:only-of-type {\n",
       "        vertical-align: middle;\n",
       "    }\n",
       "\n",
       "    .dataframe tbody tr th {\n",
       "        vertical-align: top;\n",
       "    }\n",
       "\n",
       "    .dataframe thead th {\n",
       "        text-align: right;\n",
       "    }\n",
       "</style>\n",
       "<table border=\"1\" class=\"dataframe\">\n",
       "  <thead>\n",
       "    <tr style=\"text-align: right;\">\n",
       "      <th></th>\n",
       "      <th>contbr_nm</th>\n",
       "      <th>contbr_occupation</th>\n",
       "    </tr>\n",
       "  </thead>\n",
       "  <tbody>\n",
       "    <tr>\n",
       "      <td>9999</td>\n",
       "      <td>SILLIK, DIANE MS.</td>\n",
       "      <td>INFORMATION REQUESTED PER BEST EFFORTS</td>\n",
       "    </tr>\n",
       "    <tr>\n",
       "      <td>1195</td>\n",
       "      <td>KNIGHT, NELSON G. MR.</td>\n",
       "      <td>ANALYST</td>\n",
       "    </tr>\n",
       "    <tr>\n",
       "      <td>380</td>\n",
       "      <td>LEMKIN, TODD MR.</td>\n",
       "      <td>ASSET MANAGEMENT</td>\n",
       "    </tr>\n",
       "    <tr>\n",
       "      <td>9824</td>\n",
       "      <td>DENNY, JEFFREY S. MR.</td>\n",
       "      <td>INFORMATION REQUESTED PER BEST EFFORTS</td>\n",
       "    </tr>\n",
       "    <tr>\n",
       "      <td>9826</td>\n",
       "      <td>ENGLES, GREGG L. MR.</td>\n",
       "      <td>CEO</td>\n",
       "    </tr>\n",
       "    <tr>\n",
       "      <td>3951</td>\n",
       "      <td>ESPOSITO, MICHAEL MR. III</td>\n",
       "      <td>INVESTMENT BANKER</td>\n",
       "    </tr>\n",
       "    <tr>\n",
       "      <td>924</td>\n",
       "      <td>NICHOLS, DANIEL MR.</td>\n",
       "      <td>MARKETING</td>\n",
       "    </tr>\n",
       "    <tr>\n",
       "      <td>2066</td>\n",
       "      <td>WAGNER, LEON M. MR.</td>\n",
       "      <td>OWNER/CONSULTANT</td>\n",
       "    </tr>\n",
       "    <tr>\n",
       "      <td>6591</td>\n",
       "      <td>RINGLER, LOU</td>\n",
       "      <td>RETIRED</td>\n",
       "    </tr>\n",
       "    <tr>\n",
       "      <td>337</td>\n",
       "      <td>KILBERG, BOBBIE GREENE MRS.</td>\n",
       "      <td>PRESIDENT &amp; C.E.O.</td>\n",
       "    </tr>\n",
       "  </tbody>\n",
       "</table>\n",
       "</div>"
      ],
      "text/plain": [
       "                        contbr_nm                       contbr_occupation\n",
       "9999            SILLIK, DIANE MS.  INFORMATION REQUESTED PER BEST EFFORTS\n",
       "1195        KNIGHT, NELSON G. MR.                                 ANALYST\n",
       "380              LEMKIN, TODD MR.                        ASSET MANAGEMENT\n",
       "9824        DENNY, JEFFREY S. MR.  INFORMATION REQUESTED PER BEST EFFORTS\n",
       "9826         ENGLES, GREGG L. MR.                                     CEO\n",
       "3951    ESPOSITO, MICHAEL MR. III                       INVESTMENT BANKER\n",
       "924           NICHOLS, DANIEL MR.                               MARKETING\n",
       "2066          WAGNER, LEON M. MR.                        OWNER/CONSULTANT\n",
       "6591                 RINGLER, LOU                                 RETIRED\n",
       "337   KILBERG, BOBBIE GREENE MRS.                      PRESIDENT & C.E.O."
      ]
     },
     "execution_count": 18,
     "metadata": {},
     "output_type": "execute_result"
    }
   ],
   "source": [
    "fec.sort_values('contb_receipt_amt',ascending= False)[['contbr_nm','contbr_occupation']].iloc[:10]"
   ]
  },
  {
   "cell_type": "markdown",
   "metadata": {
    "id": "AgbqB_UCEXmC"
   },
   "source": [
    "#### D.\tThere can be duplication for the combination of name (given as 'contbr_nm'), occupation (given as “contbr_occupation”) in the dataset. Accumulate it according to the each unique combination of name (given as 'contbr_nm'), occupation (given as “contbr_occupation”) then display the name (given as 'contbr_nm'), occupation (given as “contbr_occupation”) of Top 10 Contributors (given as “contb_receipt_amt”) in the dataset (3 Marks)"
   ]
  },
  {
   "cell_type": "code",
   "execution_count": null,
   "metadata": {
    "id": "9UjFZ-FNEXmC",
    "outputId": "e6b1f4c7-bedd-4b4d-9958-62658cf0ba8b",
    "scrolled": true
   },
   "outputs": [
    {
     "data": {
      "text/plain": [
       "contbr_nm                  contbr_occupation                     \n",
       "ESPOSITO, MICHAEL MR. III  INVESTMENT BANKER                         10000.0\n",
       "GOLDBERG, MARC S. MR.      RETIRED                                    5000.0\n",
       "SCHEAR, LEE MR.            PRESIDENT                                  5000.0\n",
       "SILLIK, DIANE MS.          INFORMATION REQUESTED PER BEST EFFORTS     5000.0\n",
       "FISCHMAN, STEVEN S. MR.    REAL ESTATE                                5000.0\n",
       "CIST, MARYHARDING          INFORMATION REQUESTED                      5000.0\n",
       "REISER, ANDREW MR.         INSURANCE                                  5000.0\n",
       "HICKS, JAMES RICHARD MR.   C.E.O.                                     5000.0\n",
       "DENNY, JEFFREY S. MR.      INFORMATION REQUESTED PER BEST EFFORTS     5000.0\n",
       "NICHOLSON, DAVID A. MR.    VICE PRESIDENT                             5000.0\n",
       "Name: contb_receipt_amt, dtype: float64"
      ]
     },
     "execution_count": 19,
     "metadata": {},
     "output_type": "execute_result"
    }
   ],
   "source": [
    "result = fec.groupby(['contbr_nm','contbr_occupation'])['contb_receipt_amt'].sum()\n",
    "result= result.sort_values(ascending=False)\n",
    "result[0:10]"
   ]
  },
  {
   "cell_type": "markdown",
   "metadata": {
    "id": "i-IfPp_DEXmD"
   },
   "source": [
    "#### E.\tThere can be duplication for the candidate name (given as 'cand_nm') in the dataset. Accumulate it according to the each unique candidate name (given as “cand_nm”) then display top 10 candidates who got maximum contribution amount (given as “contb_receipt_amt”) (3 MARK)"
   ]
  },
  {
   "cell_type": "code",
   "execution_count": null,
   "metadata": {
    "id": "xfGEuqK9EXmD",
    "outputId": "58d17b54-80fb-473e-f0d5-81bc3e357567"
   },
   "outputs": [
    {
     "data": {
      "text/plain": [
       "cand_nm\n",
       "Obama, Barack         1422703.90\n",
       "Romney, Mitt          1008399.89\n",
       "Perry, Rick            314319.62\n",
       "Paul, Ron              283176.24\n",
       "Gingrich, Newt         153356.20\n",
       "Cain, Herman           134330.76\n",
       "Pawlenty, Timothy      126377.24\n",
       "Santorum, Rick          67093.55\n",
       "Bachmann, Michelle      44342.75\n",
       "Huntsman, Jon           38613.00\n",
       "Name: contb_receipt_amt, dtype: float64"
      ]
     },
     "execution_count": 20,
     "metadata": {},
     "output_type": "execute_result"
    }
   ],
   "source": [
    "result = fec.groupby(['cand_nm'])['contb_receipt_amt'].sum()\n",
    "result= result.sort_values(ascending=False)\n",
    "result[0:10]"
   ]
  },
  {
   "cell_type": "markdown",
   "metadata": {
    "id": "xT3uqgagEXmD"
   },
   "source": [
    "#### F.\tDisplay which city and the amount that has given maximum contribution to Democrat party (6MARKS)"
   ]
  },
  {
   "cell_type": "code",
   "execution_count": null,
   "metadata": {
    "id": "UgKn-mKvEXmD",
    "outputId": "d2236567-08ac-4537-de24-581213a1682b",
    "scrolled": true
   },
   "outputs": [
    {
     "name": "stdout",
     "output_type": "stream",
     "text": [
      "City :  NEW YORK\n",
      "Max amount received : 102481.75\n"
     ]
    }
   ],
   "source": [
    "fec_republic=fec[fec['party'] == 'Democrat']\n",
    "fec_st=fec_republic.groupby('contbr_city')['contb_receipt_amt'].sum()\n",
    "max_sum=fec_st.sort_values(ascending = False)\n",
    "\n",
    "print('City : ', max_sum.index[0])\n",
    "print('Max amount received :',max_sum[0])"
   ]
  },
  {
   "cell_type": "markdown",
   "metadata": {
    "id": "cu3zn6kgEXmD"
   },
   "source": [
    "#### G.\tCount the number of unique contributors for every candidate from each state and the total amount of contribution made. Plotline graphs for every state for each of the aggregations calculated separately. (6 MARKS)"
   ]
  },
  {
   "cell_type": "code",
   "execution_count": null,
   "metadata": {
    "id": "3izeGWqpEXmD",
    "outputId": "a19629b0-8f95-4075-8d90-e49e0eec7b52"
   },
   "outputs": [
    {
     "data": {
      "text/html": [
       "<div>\n",
       "<style scoped>\n",
       "    .dataframe tbody tr th:only-of-type {\n",
       "        vertical-align: middle;\n",
       "    }\n",
       "\n",
       "    .dataframe tbody tr th {\n",
       "        vertical-align: top;\n",
       "    }\n",
       "\n",
       "    .dataframe thead th {\n",
       "        text-align: right;\n",
       "    }\n",
       "</style>\n",
       "<table border=\"1\" class=\"dataframe\">\n",
       "  <thead>\n",
       "    <tr style=\"text-align: right;\">\n",
       "      <th></th>\n",
       "      <th>contbr_st</th>\n",
       "      <th>cand_nm</th>\n",
       "      <th>contbr_nm</th>\n",
       "      <th>contb_receipt_amt</th>\n",
       "    </tr>\n",
       "  </thead>\n",
       "  <tbody>\n",
       "    <tr>\n",
       "      <td>0</td>\n",
       "      <td>AE</td>\n",
       "      <td>Gingrich, Newt</td>\n",
       "      <td>1</td>\n",
       "      <td>200.0</td>\n",
       "    </tr>\n",
       "    <tr>\n",
       "      <td>1</td>\n",
       "      <td>AE</td>\n",
       "      <td>Obama, Barack</td>\n",
       "      <td>3</td>\n",
       "      <td>355.0</td>\n",
       "    </tr>\n",
       "    <tr>\n",
       "      <td>2</td>\n",
       "      <td>AE</td>\n",
       "      <td>Paul, Ron</td>\n",
       "      <td>3</td>\n",
       "      <td>400.0</td>\n",
       "    </tr>\n",
       "    <tr>\n",
       "      <td>3</td>\n",
       "      <td>AE</td>\n",
       "      <td>Romney, Mitt</td>\n",
       "      <td>1</td>\n",
       "      <td>500.0</td>\n",
       "    </tr>\n",
       "    <tr>\n",
       "      <td>4</td>\n",
       "      <td>AK</td>\n",
       "      <td>Bachmann, Michelle</td>\n",
       "      <td>3</td>\n",
       "      <td>232.5</td>\n",
       "    </tr>\n",
       "  </tbody>\n",
       "</table>\n",
       "</div>"
      ],
      "text/plain": [
       "  contbr_st             cand_nm  contbr_nm  contb_receipt_amt\n",
       "0        AE      Gingrich, Newt          1              200.0\n",
       "1        AE       Obama, Barack          3              355.0\n",
       "2        AE           Paul, Ron          3              400.0\n",
       "3        AE        Romney, Mitt          1              500.0\n",
       "4        AK  Bachmann, Michelle          3              232.5"
      ]
     },
     "execution_count": 22,
     "metadata": {},
     "output_type": "execute_result"
    }
   ],
   "source": [
    "new_df= fec[['contbr_nm','cand_nm','contbr_st','contb_receipt_amt']]\n",
    "new_df=new_df.groupby(['contbr_st','cand_nm']).agg({'contbr_nm':'count','contb_receipt_amt':'sum'}).reset_index()\n",
    "new_df.head()"
   ]
  },
  {
   "cell_type": "code",
   "execution_count": null,
   "metadata": {
    "id": "ogTDY5kmEXmD",
    "outputId": "b52fe1f6-dfc2-4216-ba40-966118806994",
    "scrolled": true
   },
   "outputs": [
    {
     "data": {
      "text/plain": [
       "<matplotlib.axes._subplots.AxesSubplot at 0x239ce9fb948>"
      ]
     },
     "execution_count": 23,
     "metadata": {},
     "output_type": "execute_result"
    },
    {
     "data": {
      "image/png": "[encoded data removed]",
      "text/plain": [
       "<Figure size 432x288 with 1 Axes>"
      ]
     },
     "metadata": {
      "needs_background": "light"
     },
     "output_type": "display_data"
    },
    {
     "data": {
      "image/png": "[encoded data removed]",
      "text/plain": [
       "<Figure size 432x288 with 1 Axes>"
      ]
     },
     "metadata": {
      "needs_background": "light"
     },
     "output_type": "display_data"
    }
   ],
   "source": [
    "new_df.plot.line(x='contbr_st',y='contbr_nm')\n",
    "new_df.plot.line(x='contbr_st',y='contb_receipt_amt')"
   ]
  },
  {
   "cell_type": "markdown",
   "metadata": {
    "id": "g2Ru_pi3EXmD"
   },
   "source": [
    "--------"
   ]
  },
  {
   "cell_type": "markdown",
   "metadata": {
    "id": "vQEtySPgEXmL"
   },
   "source": [
    "<span style=\"font-family: Arial; font-weight:bold;font-size:1.5em;color:#db0b49;\">3.a) Read the dataset (adult.csv) and understand the dataset description given below\n",
    "    \n",
    "    \n",
    "    \n",
    "    \n",
    "  \n",
    "  \n",
    " A. Write a code snippet to find the average age of women from the United States.  2 Marks \n",
    "  \n",
    " B. Write a code snippet to find the proportion of US citizens (native-country feature) in the dataset.  2 Marks \n",
    "  \n",
    " C. Write a code snippet to find which occupation has the maximum number of workers who earn a salary more than 50K?  2 Marks \n",
    "  \n",
    " D. Is it true that people who receive more than 50K salary have at least a high school education? (education - Bachelors, Profschool, Assoc-acdm, Assoc-voc, Masters or Doctorate feature). Justify your answer with all facts and figures from the dataset  2 Marks \n",
    "  \n",
    " E. Write code to count the average time of work (hours-per-week) for those who earn a little (<50 K ) and a lot (salary) (>=50 K ) for each country (native-country).  2 Marks \n",
    "  \n",
    " F. Among whom the proportion of those who earn a lot(>50K) is  5 Marks \n",
    "  \n",
    " more: among married or single men (marital-status feature)? Consider married as those who have a marital-status starting with Married (Married-civ-spouse, Married-spouse-absent or Married-AF-spouse), the rest are considered bachelors. Find out the proportion.\""
   ]
  },
  {
   "cell_type": "code",
   "execution_count": null,
   "metadata": {
    "id": "Ry9z_9STEXmL",
    "outputId": "92d8a507-9684-4811-e6aa-45d9ac154dea"
   },
   "outputs": [
    {
     "data": {
      "text/html": [
       "<div>\n",
       "<style scoped>\n",
       "    .dataframe tbody tr th:only-of-type {\n",
       "        vertical-align: middle;\n",
       "    }\n",
       "\n",
       "    .dataframe tbody tr th {\n",
       "        vertical-align: top;\n",
       "    }\n",
       "\n",
       "    .dataframe thead th {\n",
       "        text-align: right;\n",
       "    }\n",
       "</style>\n",
       "<table border=\"1\" class=\"dataframe\">\n",
       "  <thead>\n",
       "    <tr style=\"text-align: right;\">\n",
       "      <th></th>\n",
       "      <th>age</th>\n",
       "      <th>workclass</th>\n",
       "      <th>fnlwgt</th>\n",
       "      <th>education</th>\n",
       "      <th>education-num</th>\n",
       "      <th>marital-status</th>\n",
       "      <th>occupation</th>\n",
       "      <th>relationship</th>\n",
       "      <th>race</th>\n",
       "      <th>sex</th>\n",
       "      <th>hours-per-week</th>\n",
       "      <th>native-country</th>\n",
       "      <th>salary</th>\n",
       "    </tr>\n",
       "  </thead>\n",
       "  <tbody>\n",
       "    <tr>\n",
       "      <td>0</td>\n",
       "      <td>31</td>\n",
       "      <td>Private</td>\n",
       "      <td>467579</td>\n",
       "      <td>Bachelors</td>\n",
       "      <td>13</td>\n",
       "      <td>Married-civ-spouse</td>\n",
       "      <td>Exec-managerial</td>\n",
       "      <td>Husband</td>\n",
       "      <td>Black</td>\n",
       "      <td>Male</td>\n",
       "      <td>40</td>\n",
       "      <td>United-States</td>\n",
       "      <td>&gt;50K</td>\n",
       "    </tr>\n",
       "    <tr>\n",
       "      <td>1</td>\n",
       "      <td>71</td>\n",
       "      <td>Private</td>\n",
       "      <td>93202</td>\n",
       "      <td>HS-grad</td>\n",
       "      <td>9</td>\n",
       "      <td>Divorced</td>\n",
       "      <td>Other-service</td>\n",
       "      <td>Not-in-family</td>\n",
       "      <td>White</td>\n",
       "      <td>Female</td>\n",
       "      <td>16</td>\n",
       "      <td>United-States</td>\n",
       "      <td>&lt;=50K</td>\n",
       "    </tr>\n",
       "    <tr>\n",
       "      <td>2</td>\n",
       "      <td>62</td>\n",
       "      <td>Private</td>\n",
       "      <td>252668</td>\n",
       "      <td>Masters</td>\n",
       "      <td>14</td>\n",
       "      <td>Never-married</td>\n",
       "      <td>Prof-specialty</td>\n",
       "      <td>Not-in-family</td>\n",
       "      <td>White</td>\n",
       "      <td>Male</td>\n",
       "      <td>70</td>\n",
       "      <td>United-States</td>\n",
       "      <td>&lt;=50K</td>\n",
       "    </tr>\n",
       "  </tbody>\n",
       "</table>\n",
       "</div>"
      ],
      "text/plain": [
       "   age workclass  fnlwgt  education  education-num      marital-status  \\\n",
       "0   31   Private  467579  Bachelors             13  Married-civ-spouse   \n",
       "1   71   Private   93202    HS-grad              9            Divorced   \n",
       "2   62   Private  252668    Masters             14       Never-married   \n",
       "\n",
       "        occupation   relationship   race     sex  hours-per-week  \\\n",
       "0  Exec-managerial        Husband  Black    Male              40   \n",
       "1    Other-service  Not-in-family  White  Female              16   \n",
       "2   Prof-specialty  Not-in-family  White    Male              70   \n",
       "\n",
       "  native-country salary  \n",
       "0  United-States   >50K  \n",
       "1  United-States  <=50K  \n",
       "2  United-States  <=50K  "
      ]
     },
     "execution_count": 70,
     "metadata": {},
     "output_type": "execute_result"
    }
   ],
   "source": [
    "df=pd.read_csv('Adult1.csv')\n",
    "df.head(3)"
   ]
  },
  {
   "cell_type": "code",
   "execution_count": null,
   "metadata": {
    "id": "tUpt0HbzEXmM",
    "outputId": "5d0ea59b-7b1b-4d5f-d3e6-c29b148c8cf5"
   },
   "outputs": [
    {
     "data": {
      "text/plain": [
       "(5000, 13)"
      ]
     },
     "execution_count": 15,
     "metadata": {},
     "output_type": "execute_result"
    }
   ],
   "source": [
    "df.shape"
   ]
  },
  {
   "cell_type": "markdown",
   "metadata": {
    "id": "uKvBdVD_EXmM"
   },
   "source": [
    "A.\tWrite a code to find the average age of women from the United States. (2 Marks)"
   ]
  },
  {
   "cell_type": "code",
   "execution_count": null,
   "metadata": {
    "id": "LnUYv6izEXmM",
    "outputId": "2f7f8db4-4eb5-4531-b531-a9509aaa1e4b"
   },
   "outputs": [
    {
     "data": {
      "text/plain": [
       "37.22"
      ]
     },
     "execution_count": 71,
     "metadata": {},
     "output_type": "execute_result"
    }
   ],
   "source": [
    "df1=df.loc[df['native-country'] == 'United-States']\n",
    "round(df1.loc[df['sex'] == 'Female','age'].mean(),2)"
   ]
  },
  {
   "cell_type": "markdown",
   "metadata": {
    "id": "MuxFgD8rEXmM"
   },
   "source": [
    "B.\tWrite a code to find the proportion of US citizens (native-country feature) in the dataset."
   ]
  },
  {
   "cell_type": "code",
   "execution_count": null,
   "metadata": {
    "id": "ARhDVfeoEXmM",
    "outputId": "bf1bc8f7-34aa-4eb7-a4cc-a20062d0205c"
   },
   "outputs": [
    {
     "data": {
      "text/plain": [
       "91.10000000000001"
      ]
     },
     "execution_count": 72,
     "metadata": {},
     "output_type": "execute_result"
    }
   ],
   "source": [
    "float((df['native-country'] == 'United-States').sum()) / df.shape[0] *100"
   ]
  },
  {
   "cell_type": "markdown",
   "metadata": {
    "id": "o-2KvFbJEXmM"
   },
   "source": [
    "c.Write a code to find which occupation has the maximum number of workers who earn more than 50K salary? "
   ]
  },
  {
   "cell_type": "code",
   "execution_count": null,
   "metadata": {
    "id": "M3GPOb5vEXmM",
    "outputId": "35ce37dd-83b8-4cf5-8e06-05d87e1765b4"
   },
   "outputs": [
    {
     "data": {
      "text/plain": [
       "occupation    Transport-moving\n",
       "salary                    >50K\n",
       "Counts                     326\n",
       "dtype: object"
      ]
     },
     "execution_count": 74,
     "metadata": {},
     "output_type": "execute_result"
    }
   ],
   "source": [
    "df_occ=df.groupby('occupation')\n",
    "df_occ=df_occ['salary'].value_counts().reset_index(name='Counts')\n",
    "df_occ[df_occ['salary'] == '>50K'].max()"
   ]
  },
  {
   "cell_type": "markdown",
   "metadata": {
    "id": "dc64hnJhEXmM"
   },
   "source": [
    " d.\tIs it true that people who receive more than 50K salary have at least a high school education?  (education - Bachelors, Prof-school, Assoc-acdm, Assoc-voc, Masters or Doctorate feature). \n",
    "Justify your answer with all facts and figures from the dataset\n"
   ]
  },
  {
   "cell_type": "code",
   "execution_count": null,
   "metadata": {
    "id": "sPjLPi_DEXmM",
    "outputId": "e49bdd76-d4bd-4018-a205-7599ca09d08f"
   },
   "outputs": [
    {
     "data": {
      "text/plain": [
       "array(['Bachelors', 'Assoc-acdm', 'HS-grad', 'Some-college', '7th-8th',\n",
       "       'Masters', 'Assoc-voc', 'Prof-school', '9th', 'Doctorate', '11th',\n",
       "       '12th', '10th', '5th-6th', '1st-4th'], dtype=object)"
      ]
     },
     "execution_count": 75,
     "metadata": {},
     "output_type": "execute_result"
    }
   ],
   "source": [
    "df.loc[df['salary'] == '>50K','education'].unique()"
   ]
  },
  {
   "cell_type": "markdown",
   "metadata": {
    "id": "T6mab3_XEXmM"
   },
   "source": [
    "Looking at the result we can conclude that Its **not always true** that people who receive more than 50k have at least high school education but we can find out the proportion of people not having atleast high school education and earning more than 50 K"
   ]
  },
  {
   "cell_type": "code",
   "execution_count": null,
   "metadata": {
    "id": "T2VxV7p2EXmM"
   },
   "outputs": [],
   "source": [
    "df1=df.loc[df['salary'] == '>50K']\n",
    "df1=df1.groupby(['education','education-num']).size().reset_index(name='counts')"
   ]
  },
  {
   "cell_type": "code",
   "execution_count": null,
   "metadata": {
    "id": "SniCdb8aEXmN",
    "outputId": "600ad9ce-5f90-4826-a2a6-9747df36e3d6"
   },
   "outputs": [
    {
     "data": {
      "text/plain": [
       "15.810593900481539"
      ]
     },
     "execution_count": 77,
     "metadata": {},
     "output_type": "execute_result"
    }
   ],
   "source": [
    "total= df1.counts.sum()\n",
    "not_educated = df1.loc[df['education-num'] <9,'counts'].sum()\n",
    "educated = df1.loc[df['education-num'] >=9,'counts'].sum()\n",
    "not_educated/ total *100"
   ]
  },
  {
   "cell_type": "markdown",
   "metadata": {
    "id": "Jzq8oVLvEXmN"
   },
   "source": [
    " e.Write code to count the average time of work (hours-per-week)  those who earn a little (<50 K ) and a lot (salary) (>=50 K ) for each country (native-country)"
   ]
  },
  {
   "cell_type": "code",
   "execution_count": null,
   "metadata": {
    "id": "VXrgje7NEXmN",
    "outputId": "6d19ac15-2c32-4bc3-fb82-34813472881e"
   },
   "outputs": [
    {
     "name": "stdout",
     "output_type": "stream",
     "text": [
      "Cambodia >50K 40.0\n",
      "Canada <=50K 32.85\n",
      "Canada >50K 41.83\n",
      "China <=50K 36.46\n",
      "China >50K 46.0\n",
      "Columbia <=50K 39.71\n",
      "Cuba <=50K 38.12\n",
      "Cuba >50K 38.8\n",
      "Dominican-Republic <=50K 38.5\n",
      "Dominican-Republic >50K 54.0\n",
      "Ecuador <=50K 33.75\n",
      "El-Salvador <=50K 40.68\n",
      "El-Salvador >50K 35.0\n",
      "England <=50K 44.75\n",
      "England >50K 42.33\n",
      "France >50K 55.0\n",
      "Germany <=50K 42.93\n",
      "Germany >50K 38.78\n",
      "Greece <=50K 22.0\n",
      "Greece >50K 50.0\n",
      "Guatemala <=50K 32.17\n",
      "Guatemala >50K 35.0\n",
      "Haiti <=50K 35.78\n",
      "Honduras <=50K 35.0\n",
      "Honduras >50K 60.0\n",
      "Hong <=50K 41.67\n",
      "Hong >50K 65.0\n",
      "Hungary <=50K 30.0\n",
      "India <=50K 38.18\n",
      "India >50K 52.0\n",
      "Iran <=50K 40.4\n",
      "Iran >50K 48.57\n",
      "Ireland <=50K 42.5\n",
      "Ireland >50K 46.67\n",
      "Italy <=50K 38.85\n",
      "Italy >50K 54.25\n",
      "Jamaica <=50K 36.92\n",
      "Jamaica >50K 50.0\n",
      "Japan <=50K 40.5\n",
      "Japan >50K 40.0\n",
      "Laos <=50K 45.0\n",
      "Mexico <=50K 39.08\n",
      "Mexico >50K 43.5\n",
      "Nicaragua <=50K 40.0\n",
      "Outlying-US(Guam-USVI-etc) <=50K 40.0\n",
      "Peru <=50K 35.09\n",
      "Philippines <=50K 39.5\n",
      "Philippines >50K 43.12\n",
      "Poland <=50K 33.17\n",
      "Poland >50K 40.0\n",
      "Portugal <=50K 42.2\n",
      "Puerto-Rico <=50K 40.59\n",
      "Puerto-Rico >50K 38.33\n",
      "Scotland <=50K 20.0\n",
      "South <=50K 45.33\n",
      "South >50K 55.0\n",
      "Taiwan <=50K 46.67\n",
      "Taiwan >50K 57.5\n",
      "Thailand <=50K 22.5\n",
      "Thailand >50K 62.5\n",
      "Trinadad&Tobago <=50K 40.0\n",
      "United-States <=50K 39.22\n",
      "United-States >50K 45.91\n",
      "Vietnam <=50K 42.22\n",
      "Yugoslavia <=50K 45.0\n",
      "Yugoslavia >50K 52.0\n"
     ]
    }
   ],
   "source": [
    "for (country, salary), sub_df in df.groupby(['native-country', 'salary']):\n",
    "    print(country, salary, round(sub_df['hours-per-week'].mean(), 2))"
   ]
  },
  {
   "cell_type": "markdown",
   "metadata": {
    "id": "2jdlHjQ-EXmN"
   },
   "source": [
    " f.Among whom the proportion of those who earn a lot(>50K) is more: among married or single men (marital-status feature)? Consider married those who have a marital-status starting with Married (Married-civ-spouse, Married-spouse-absent or Married-AF-spouse), the rest are considered bachelors. Find out this proportion.(5 Marks)"
   ]
  },
  {
   "cell_type": "code",
   "execution_count": null,
   "metadata": {
    "id": "GMtBwRDcEXmN",
    "outputId": "4698e715-1aad-41af-a0e0-6d9325831774"
   },
   "outputs": [
    {
     "data": {
      "text/plain": [
       "<=50K    1170\n",
       ">50K      106\n",
       "Name: salary, dtype: int64"
      ]
     },
     "execution_count": 79,
     "metadata": {},
     "output_type": "execute_result"
    }
   ],
   "source": [
    "single_men_count=df.loc[(df['sex'] == 'Male') &\n",
    "     (df['marital-status'].isin(['Never-married', \n",
    "                                   'Separated', \n",
    "                                   'Divorced',\n",
    "                                   'Widowed'])), 'salary'].value_counts()\n",
    "single_men_count"
   ]
  },
  {
   "cell_type": "code",
   "execution_count": null,
   "metadata": {
    "id": "wq7P_fblEXmN",
    "outputId": "9d1fe3ee-85a2-48d0-e113-d97c1070a457"
   },
   "outputs": [
    {
     "data": {
      "text/plain": [
       "<=50K    1144\n",
       ">50K      960\n",
       "Name: salary, dtype: int64"
      ]
     },
     "execution_count": 80,
     "metadata": {},
     "output_type": "execute_result"
    }
   ],
   "source": [
    "married_count=df.loc[(df['sex'] == 'Male') &\n",
    "     (df['marital-status'].str.startswith('Married')), 'salary'].value_counts()\n",
    "married_count"
   ]
  },
  {
   "cell_type": "markdown",
   "metadata": {
    "id": "SpY89RXFEXmN"
   },
   "source": [
    "From Above result we can conclude that proprtion of married men earning more than 50 k is more than single men."
   ]
  },
  {
   "cell_type": "code",
   "execution_count": null,
   "metadata": {
    "id": "hY1COc5IEXmN",
    "outputId": "75c9120d-bce4-4f15-d3ea-dd9a4f4a0c74",
    "scrolled": true
   },
   "outputs": [
    {
     "name": "stdout",
     "output_type": "stream",
     "text": [
      "proportion of married men earning >50 K  :  22.88\n",
      "proportion of single men earning >50 K  :  23.400000000000002\n"
     ]
    }
   ],
   "source": [
    "total=df['marital-status'].value_counts().sum()\n",
    "\n",
    "print('proportion of married men earning >50 K  : ',married_count[0]/total*100)\n",
    "print('proportion of single men earning >50 K  : ',single_men_count[0] / total*100) "
   ]
  },
  {
   "cell_type": "markdown",
   "metadata": {
    "id": "10xAUMMJEXmN"
   },
   "source": [
    "### 3 b).\"Refer to the same dataset (adult.csv) and answer the following questions (15 Marks) \n",
    "  \n",
    " A. Write a code block to find, what is the maximum number of hours a person works per week (hours-per-week feature)? How many number of people work for the above mentioned number of hours? What is the percentage of those who earn more than >50 K among them?  5 Marks \n",
    "  \n",
    " B. Observe the column occupation, every entry has two parts: \n",
    " profession-specialty. Make two separate columns namely profession and specialty out of this column. Drop the column occupation from the dataset.  5 Marks \n",
    "  \n",
    " C. Find out the percentage of males and females in every profession using the ‘profession’ column created in the above question.  5 Marks\""
   ]
  },
  {
   "cell_type": "markdown",
   "metadata": {
    "id": "NtZA6V3oEXmO"
   },
   "source": [
    ".a.Write a code to find, what is the maximum number of hours a person works per week (hours-per-week feature)?  How many people work such a number of hours and what is the percentage of those who earn a lot (>50 K) among them? (5 Marks)"
   ]
  },
  {
   "cell_type": "code",
   "execution_count": null,
   "metadata": {
    "id": "6w0LnbZ4EXmO",
    "outputId": "dcb58589-0d38-4833-e62a-58271181852e"
   },
   "outputs": [
    {
     "name": "stdout",
     "output_type": "stream",
     "text": [
      "Max time - 99 hours./week.\n",
      "Total number of such hard workers 10\n",
      "Percentage of rich among them 30%\n"
     ]
    }
   ],
   "source": [
    "max_load = df['hours-per-week'].max()\n",
    "print(\"Max time - {0} hours./week.\".format(max_load))\n",
    "\n",
    "num_workaholics = df[df['hours-per-week'] == max_load].shape[0]\n",
    "print(\"Total number of such hard workers {0}\".format(num_workaholics))\n",
    "\n",
    "rich_share = float(df[(df['hours-per-week'] == max_load)\n",
    "                 & (df['salary'] == '>50K')].shape[0]) / num_workaholics\n",
    "print(\"Percentage of rich among them {0}%\".format(int(100 * rich_share)))"
   ]
  },
  {
   "cell_type": "markdown",
   "metadata": {
    "id": "FIglW50HEXmO"
   },
   "source": [
    "b.\tObserve occupation column, every entry has two parts profession-specialty. Make two separate columns namely profession and specialty out of this one column. Drop the column occupation from the dataset. (5 Marks) "
   ]
  },
  {
   "cell_type": "code",
   "execution_count": null,
   "metadata": {
    "id": "eJ0jdRI_EXmO"
   },
   "outputs": [],
   "source": [
    "df[['profession','speciality']] = df['occupation'].str.split(\"-\",expand=True)\n",
    "df.drop(['occupation'],axis=1,inplace=True)"
   ]
  },
  {
   "cell_type": "markdown",
   "metadata": {
    "id": "kHusP-jpEXmO"
   },
   "source": [
    " c.Find out male and female percentage (%) in every profession using a profession column created in the above question. (5 Marks)"
   ]
  },
  {
   "cell_type": "code",
   "execution_count": null,
   "metadata": {
    "id": "UWa0WxXjEXmO",
    "outputId": "02fe1826-5039-4892-d1a4-ac86449af0cb",
    "scrolled": false
   },
   "outputs": [
    {
     "data": {
      "text/html": [
       "<div>\n",
       "<style scoped>\n",
       "    .dataframe tbody tr th:only-of-type {\n",
       "        vertical-align: middle;\n",
       "    }\n",
       "\n",
       "    .dataframe tbody tr th {\n",
       "        vertical-align: top;\n",
       "    }\n",
       "\n",
       "    .dataframe thead th {\n",
       "        text-align: right;\n",
       "    }\n",
       "</style>\n",
       "<table border=\"1\" class=\"dataframe\">\n",
       "  <thead>\n",
       "    <tr style=\"text-align: right;\">\n",
       "      <th>sex</th>\n",
       "      <th>Female</th>\n",
       "      <th>Male</th>\n",
       "      <th>FemaleRatio</th>\n",
       "      <th>MaleRatio</th>\n",
       "    </tr>\n",
       "    <tr>\n",
       "      <th>profession</th>\n",
       "      <th></th>\n",
       "      <th></th>\n",
       "      <th></th>\n",
       "      <th></th>\n",
       "    </tr>\n",
       "  </thead>\n",
       "  <tbody>\n",
       "    <tr>\n",
       "      <td>Adm</td>\n",
       "      <td>424</td>\n",
       "      <td>183</td>\n",
       "      <td>0.698517</td>\n",
       "      <td>0.301483</td>\n",
       "    </tr>\n",
       "    <tr>\n",
       "      <td>Armed</td>\n",
       "      <td>0</td>\n",
       "      <td>1</td>\n",
       "      <td>0.000000</td>\n",
       "      <td>1.000000</td>\n",
       "    </tr>\n",
       "    <tr>\n",
       "      <td>Craft</td>\n",
       "      <td>35</td>\n",
       "      <td>612</td>\n",
       "      <td>0.054096</td>\n",
       "      <td>0.945904</td>\n",
       "    </tr>\n",
       "    <tr>\n",
       "      <td>Exec</td>\n",
       "      <td>180</td>\n",
       "      <td>488</td>\n",
       "      <td>0.269461</td>\n",
       "      <td>0.730539</td>\n",
       "    </tr>\n",
       "    <tr>\n",
       "      <td>Farming</td>\n",
       "      <td>5</td>\n",
       "      <td>143</td>\n",
       "      <td>0.033784</td>\n",
       "      <td>0.966216</td>\n",
       "    </tr>\n",
       "    <tr>\n",
       "      <td>Handlers</td>\n",
       "      <td>21</td>\n",
       "      <td>190</td>\n",
       "      <td>0.099526</td>\n",
       "      <td>0.900474</td>\n",
       "    </tr>\n",
       "    <tr>\n",
       "      <td>MachineInsp</td>\n",
       "      <td>90</td>\n",
       "      <td>233</td>\n",
       "      <td>0.278638</td>\n",
       "      <td>0.721362</td>\n",
       "    </tr>\n",
       "    <tr>\n",
       "      <td>Other</td>\n",
       "      <td>297</td>\n",
       "      <td>245</td>\n",
       "      <td>0.547970</td>\n",
       "      <td>0.452030</td>\n",
       "    </tr>\n",
       "    <tr>\n",
       "      <td>Prof</td>\n",
       "      <td>261</td>\n",
       "      <td>466</td>\n",
       "      <td>0.359010</td>\n",
       "      <td>0.640990</td>\n",
       "    </tr>\n",
       "    <tr>\n",
       "      <td>Protective</td>\n",
       "      <td>14</td>\n",
       "      <td>87</td>\n",
       "      <td>0.138614</td>\n",
       "      <td>0.861386</td>\n",
       "    </tr>\n",
       "    <tr>\n",
       "      <td>Sales</td>\n",
       "      <td>205</td>\n",
       "      <td>385</td>\n",
       "      <td>0.347458</td>\n",
       "      <td>0.652542</td>\n",
       "    </tr>\n",
       "    <tr>\n",
       "      <td>Servernt</td>\n",
       "      <td>20</td>\n",
       "      <td>1</td>\n",
       "      <td>0.952381</td>\n",
       "      <td>0.047619</td>\n",
       "    </tr>\n",
       "    <tr>\n",
       "      <td>Tech</td>\n",
       "      <td>49</td>\n",
       "      <td>84</td>\n",
       "      <td>0.368421</td>\n",
       "      <td>0.631579</td>\n",
       "    </tr>\n",
       "    <tr>\n",
       "      <td>Transport</td>\n",
       "      <td>19</td>\n",
       "      <td>262</td>\n",
       "      <td>0.067616</td>\n",
       "      <td>0.932384</td>\n",
       "    </tr>\n",
       "  </tbody>\n",
       "</table>\n",
       "</div>"
      ],
      "text/plain": [
       "sex          Female  Male  FemaleRatio  MaleRatio\n",
       "profession                                       \n",
       "Adm             424   183     0.698517   0.301483\n",
       "Armed             0     1     0.000000   1.000000\n",
       "Craft            35   612     0.054096   0.945904\n",
       "Exec            180   488     0.269461   0.730539\n",
       "Farming           5   143     0.033784   0.966216\n",
       "Handlers         21   190     0.099526   0.900474\n",
       "MachineInsp      90   233     0.278638   0.721362\n",
       "Other           297   245     0.547970   0.452030\n",
       "Prof            261   466     0.359010   0.640990\n",
       "Protective       14    87     0.138614   0.861386\n",
       "Sales           205   385     0.347458   0.652542\n",
       "Servernt         20     1     0.952381   0.047619\n",
       "Tech             49    84     0.368421   0.631579\n",
       "Transport        19   262     0.067616   0.932384"
      ]
     },
     "execution_count": 85,
     "metadata": {},
     "output_type": "execute_result"
    }
   ],
   "source": [
    "res = df.pivot_table(index='profession', columns='sex', aggfunc='size', fill_value=0)\n",
    "\n",
    "# calculate ratios\n",
    "sums = res[['Female', 'Male']].sum(axis=1)\n",
    "res['FemaleRatio'] = res['Female'] / sums\n",
    "res['MaleRatio'] = res['Male'] / sums\n",
    "res"
   ]
  }
 ],
 "metadata": {
  "colab": {
   "name": "NPV_QB Solution Final Exam.ipynb",
   "provenance": []
  },
  "kernelspec": {
   "display_name": "Python 3 (ipykernel)",
   "language": "python",
   "name": "python3"
  },
  "language_info": {
   "codemirror_mode": {
    "name": "ipython",
    "version": 3
   },
   "file_extension": ".py",
   "mimetype": "text/x-python",
   "name": "python",
   "nbconvert_exporter": "python",
   "pygments_lexer": "ipython3",
   "version": "3.10.5"
  }
 },
 "nbformat": 4,
 "nbformat_minor": 1
}
