{
 "cells": [
  {
   "cell_type": "code",
   "execution_count": 5,
   "metadata": {
    "id": "pSud36Q5EXlL"
   },
   "outputs": [],
   "source": [
    "%matplotlib inline\n",
    "import matplotlib.pyplot as plt\n",
    "import numpy as np\n",
    "import pandas as pd\n",
    "import math"
   ]
  },
  {
   "cell_type": "markdown",
   "metadata": {
    "id": "E2IaxXgoEXlN"
   },
   "source": [
    "<span style=\"font-family: Arial; font-weight:bold;font-size:1.5em;color:#db0b49;\">1. Read the dataset(matches.csv) and Answer below questions\n",
    "\n",
    "\n",
    "   A. Display the no.of matches played in the dataset?\n",
    "\n",
    "   B. What percentages of the match are won by the toss winners?\n",
    "\n",
    "   C. Who won the final match and also which two teams reached the finals match?\n",
    "\n",
    "   D. Create a data frame of the team that have won the match after winning the toss?\n",
    "   \n",
    "   E. What percentage of matches are won after selecting from the toss_decision as a field?\n"
   ]
  },
  {
   "cell_type": "code",
   "execution_count": null,
   "metadata": {
    "id": "a7kWetNPEXlP",
    "outputId": "0cdf519d-ee16-40d4-cb0b-55ce44e9217c"
   },
   "outputs": [
    {
     "data": {
      "text/html": [
       "<div>\n",
       "<style scoped>\n",
       "    .dataframe tbody tr th:only-of-type {\n",
       "        vertical-align: middle;\n",
       "    }\n",
       "\n",
       "    .dataframe tbody tr th {\n",
       "        vertical-align: top;\n",
       "    }\n",
       "\n",
       "    .dataframe thead th {\n",
       "        text-align: right;\n",
       "    }\n",
       "</style>\n",
       "<table border=\"1\" class=\"dataframe\">\n",
       "  <thead>\n",
       "    <tr style=\"text-align: right;\">\n",
       "      <th></th>\n",
       "      <th>id</th>\n",
       "      <th>season</th>\n",
       "      <th>city</th>\n",
       "      <th>date</th>\n",
       "      <th>team1</th>\n",
       "      <th>team2</th>\n",
       "      <th>toss_winner</th>\n",
       "      <th>toss_decision</th>\n",
       "      <th>result</th>\n",
       "      <th>dl_applied</th>\n",
       "      <th>winner</th>\n",
       "      <th>win_by_runs</th>\n",
       "      <th>win_by_wickets</th>\n",
       "      <th>player_of_match</th>\n",
       "      <th>venue</th>\n",
       "      <th>umpire1</th>\n",
       "      <th>umpire2</th>\n",
       "      <th>umpire3</th>\n",
       "    </tr>\n",
       "  </thead>\n",
       "  <tbody>\n",
       "    <tr>\n",
       "      <td>0</td>\n",
       "      <td>1</td>\n",
       "      <td>2017</td>\n",
       "      <td>Hyderabad</td>\n",
       "      <td>2017-04-05</td>\n",
       "      <td>Sunrisers Hyderabad</td>\n",
       "      <td>Royal Challengers Bangalore</td>\n",
       "      <td>Royal Challengers Bangalore</td>\n",
       "      <td>field</td>\n",
       "      <td>normal</td>\n",
       "      <td>0</td>\n",
       "      <td>Sunrisers Hyderabad</td>\n",
       "      <td>35</td>\n",
       "      <td>0</td>\n",
       "      <td>Yuvraj Singh</td>\n",
       "      <td>Rajiv Gandhi International Stadium, Uppal</td>\n",
       "      <td>AY Dandekar</td>\n",
       "      <td>NJ Llong</td>\n",
       "      <td>NaN</td>\n",
       "    </tr>\n",
       "    <tr>\n",
       "      <td>1</td>\n",
       "      <td>2</td>\n",
       "      <td>2017</td>\n",
       "      <td>Pune</td>\n",
       "      <td>2017-04-06</td>\n",
       "      <td>Mumbai Indians</td>\n",
       "      <td>Rising Pune Supergiant</td>\n",
       "      <td>Rising Pune Supergiant</td>\n",
       "      <td>field</td>\n",
       "      <td>normal</td>\n",
       "      <td>0</td>\n",
       "      <td>Rising Pune Supergiant</td>\n",
       "      <td>0</td>\n",
       "      <td>7</td>\n",
       "      <td>SPD Smith</td>\n",
       "      <td>Maharashtra Cricket Association Stadium</td>\n",
       "      <td>A Nand Kishore</td>\n",
       "      <td>S Ravi</td>\n",
       "      <td>NaN</td>\n",
       "    </tr>\n",
       "  </tbody>\n",
       "</table>\n",
       "</div>"
      ],
      "text/plain": [
       "   id  season       city        date                team1  \\\n",
       "0   1    2017  Hyderabad  2017-04-05  Sunrisers Hyderabad   \n",
       "1   2    2017       Pune  2017-04-06       Mumbai Indians   \n",
       "\n",
       "                         team2                  toss_winner toss_decision  \\\n",
       "0  Royal Challengers Bangalore  Royal Challengers Bangalore         field   \n",
       "1       Rising Pune Supergiant       Rising Pune Supergiant         field   \n",
       "\n",
       "   result  dl_applied                  winner  win_by_runs  win_by_wickets  \\\n",
       "0  normal           0     Sunrisers Hyderabad           35               0   \n",
       "1  normal           0  Rising Pune Supergiant            0               7   \n",
       "\n",
       "  player_of_match                                      venue         umpire1  \\\n",
       "0    Yuvraj Singh  Rajiv Gandhi International Stadium, Uppal     AY Dandekar   \n",
       "1       SPD Smith    Maharashtra Cricket Association Stadium  A Nand Kishore   \n",
       "\n",
       "    umpire2 umpire3  \n",
       "0  NJ Llong     NaN  \n",
       "1    S Ravi     NaN  "
      ]
     },
     "execution_count": 3,
     "metadata": {},
     "output_type": "execute_result"
    }
   ],
   "source": [
    "df=pd.read_csv(\"matches.csv\")\n",
    "df=df[df['season']==2017]  \n",
    "df.head(2)"
   ]
  },
  {
   "cell_type": "markdown",
   "metadata": {
    "id": "gTo080TwEXlQ"
   },
   "source": [
    "####  A. Display the no.of matches played in the dataset?"
   ]
  },
  {
   "cell_type": "code",
   "execution_count": null,
   "metadata": {
    "id": "Ej-8G22fEXlQ",
    "outputId": "c72becfd-b539-4275-8779-3e603bc64eac"
   },
   "outputs": [
    {
     "name": "stdout",
     "output_type": "stream",
     "text": [
      "59\n"
     ]
    }
   ],
   "source": [
    "no_of_matches=df.shape[0]\n",
    "print(no_of_matches)"
   ]
  },
  {
   "cell_type": "markdown",
   "metadata": {
    "id": "R06AbpN9EXlR"
   },
   "source": [
    "#### B.What percentages of match are won by the toss winners?\n"
   ]
  },
  {
   "cell_type": "code",
   "execution_count": null,
   "metadata": {
    "id": "_MEI_LPhEXlS",
    "outputId": "ec43c2e4-34c4-4504-fd66-f3711e46f542"
   },
   "outputs": [
    {
     "data": {
      "text/plain": [
       "57.6271186440678"
      ]
     },
     "execution_count": 5,
     "metadata": {},
     "output_type": "execute_result"
    }
   ],
   "source": [
    "p=df[df['winner']==df['toss_winner']]\n",
    "q=(p.shape[0]/df.shape[0])*100\n",
    "q"
   ]
  },
  {
   "cell_type": "markdown",
   "metadata": {
    "id": "I2FkWo1BEXlT"
   },
   "source": [
    "#### C.Who won the final match and also which two teams reached the finals match?"
   ]
  },
  {
   "cell_type": "code",
   "execution_count": null,
   "metadata": {
    "id": "WKfcM-dpEXlU",
    "outputId": "771b8c11-ee47-4703-b676-bc0fcbcafe82"
   },
   "outputs": [
    {
     "data": {
      "text/plain": [
       "58    Mumbai Indians\n",
       "Name: winner, dtype: object"
      ]
     },
     "execution_count": 6,
     "metadata": {},
     "output_type": "execute_result"
    }
   ],
   "source": [
    "last_match=df.tail(1)\n",
    "last_match['winner']    "
   ]
  },
  {
   "cell_type": "code",
   "execution_count": null,
   "metadata": {
    "id": "iJN8LEX2EXlV",
    "outputId": "57593cdb-1cec-4641-b67f-ba5b5a0543fa"
   },
   "outputs": [
    {
     "data": {
      "text/html": [
       "<div>\n",
       "<style scoped>\n",
       "    .dataframe tbody tr th:only-of-type {\n",
       "        vertical-align: middle;\n",
       "    }\n",
       "\n",
       "    .dataframe tbody tr th {\n",
       "        vertical-align: top;\n",
       "    }\n",
       "\n",
       "    .dataframe thead th {\n",
       "        text-align: right;\n",
       "    }\n",
       "</style>\n",
       "<table border=\"1\" class=\"dataframe\">\n",
       "  <thead>\n",
       "    <tr style=\"text-align: right;\">\n",
       "      <th></th>\n",
       "      <th>team1</th>\n",
       "      <th>team2</th>\n",
       "    </tr>\n",
       "  </thead>\n",
       "  <tbody>\n",
       "    <tr>\n",
       "      <td>58</td>\n",
       "      <td>Mumbai Indians</td>\n",
       "      <td>Rising Pune Supergiant</td>\n",
       "    </tr>\n",
       "  </tbody>\n",
       "</table>\n",
       "</div>"
      ],
      "text/plain": [
       "             team1                   team2\n",
       "58  Mumbai Indians  Rising Pune Supergiant"
      ]
     },
     "execution_count": 7,
     "metadata": {},
     "output_type": "execute_result"
    }
   ],
   "source": [
    "last_match[['team1','team2']]"
   ]
  },
  {
   "cell_type": "markdown",
   "metadata": {
    "id": "ECnRrJ7DEXlV"
   },
   "source": [
    "#### D. Create a dataframe of the team who have won the match after winning toss?"
   ]
  },
  {
   "cell_type": "code",
   "execution_count": null,
   "metadata": {
    "id": "qBUqUqAWEXlV",
    "outputId": "7f4aa699-be78-4f06-a2fe-f036b908000c"
   },
   "outputs": [
    {
     "data": {
      "text/html": [
       "<div>\n",
       "<style scoped>\n",
       "    .dataframe tbody tr th:only-of-type {\n",
       "        vertical-align: middle;\n",
       "    }\n",
       "\n",
       "    .dataframe tbody tr th {\n",
       "        vertical-align: top;\n",
       "    }\n",
       "\n",
       "    .dataframe thead th {\n",
       "        text-align: right;\n",
       "    }\n",
       "</style>\n",
       "<table border=\"1\" class=\"dataframe\">\n",
       "  <thead>\n",
       "    <tr style=\"text-align: right;\">\n",
       "      <th></th>\n",
       "      <th>toss_winner</th>\n",
       "      <th>toss_decision</th>\n",
       "      <th>winner</th>\n",
       "    </tr>\n",
       "  </thead>\n",
       "  <tbody>\n",
       "    <tr>\n",
       "      <td>1</td>\n",
       "      <td>Rising Pune Supergiant</td>\n",
       "      <td>field</td>\n",
       "      <td>Rising Pune Supergiant</td>\n",
       "    </tr>\n",
       "    <tr>\n",
       "      <td>2</td>\n",
       "      <td>Kolkata Knight Riders</td>\n",
       "      <td>field</td>\n",
       "      <td>Kolkata Knight Riders</td>\n",
       "    </tr>\n",
       "  </tbody>\n",
       "</table>\n",
       "</div>"
      ],
      "text/plain": [
       "              toss_winner toss_decision                  winner\n",
       "1  Rising Pune Supergiant         field  Rising Pune Supergiant\n",
       "2   Kolkata Knight Riders         field   Kolkata Knight Riders"
      ]
     },
     "execution_count": 8,
     "metadata": {},
     "output_type": "execute_result"
    }
   ],
   "source": [
    "df=df[['toss_winner','toss_decision','winner']]\n",
    "equal=df[df['toss_winner']==df['winner']]  \n",
    "equal.head(2)"
   ]
  },
  {
   "cell_type": "markdown",
   "metadata": {
    "id": "qT8sSQmSEXlW"
   },
   "source": [
    "#### E. What percentage of matches are won after selecting from the toss_decision as a field?"
   ]
  },
  {
   "cell_type": "code",
   "execution_count": null,
   "metadata": {
    "id": "NCYRn2bZEXlW",
    "outputId": "cfcfd5a5-900c-4f3d-8912-a43c1c944c42"
   },
   "outputs": [
    {
     "name": "stderr",
     "output_type": "stream",
     "text": [
      "C:\\ProgramData\\Anaconda3\\lib\\site-packages\\ipykernel_launcher.py:1: UserWarning: Boolean Series key will be reindexed to match DataFrame index.\n",
      "  \"\"\"Entry point for launching an IPython kernel.\n"
     ]
    },
    {
     "data": {
      "text/plain": [
       "28"
      ]
     },
     "execution_count": 9,
     "metadata": {},
     "output_type": "execute_result"
    }
   ],
   "source": [
    "ZERO=equal[df.toss_decision=='field']    #this will show the dataframe of the team who have won fielding first.\n",
    "ZERO.shape[0]"
   ]
  },
  {
   "cell_type": "code",
   "execution_count": null,
   "metadata": {
    "id": "ZhJRq4iZEXlW"
   },
   "outputs": [],
   "source": [
    "#28 is the number of matches won fielding first\n",
    "games_won_field_first=(ZERO.shape[0]/df.shape[0])*100"
   ]
  },
  {
   "cell_type": "code",
   "execution_count": null,
   "metadata": {
    "id": "ANHWop6KEXlW",
    "outputId": "ebcfe328-81b7-4701-8d5c-f4188eb19521"
   },
   "outputs": [
    {
     "data": {
      "text/plain": [
       "47.45762711864407"
      ]
     },
     "execution_count": 11,
     "metadata": {},
     "output_type": "execute_result"
    }
   ],
   "source": [
    "games_won_field_first\n"
   ]
  },
  {
   "cell_type": "markdown",
   "metadata": {
    "id": "Qxn0BK2cEXlX"
   },
   "source": [
    "<span style=\"font-family: Arial; font-weight:bold;font-size:1.5em;color:#db0b49;\">2. Read the dataset(911.csv) and Answer below questions\n",
    "\n",
    "   A. Find the Topmost zipcodes and townships (twp) for 911 calls?\n",
    "\n",
    "   B. There are EMS, Fire, and TrafficMake you need to separate column to create a new column called \"Reason\" and understand our data more?\n",
    "\n",
    "   C. What is the most common reason for a 911 call?\n",
    "\n",
    "   D. Change the timeStamp from strings to DateTime objects and also grab specific attributes(For example Hour, Month and Day of the Week) from a DateTime object.\n",
    "\n",
    "   E. Restructure the data frame so that the columns become the Hours and the Index becomes the Day of the Week?\n"
   ]
  },
  {
   "cell_type": "code",
   "execution_count": null,
   "metadata": {
    "id": "rOu2s_YiEXlX",
    "outputId": "51684d73-265b-451f-c9fc-63a20e9cd8ec"
   },
   "outputs": [
    {
     "data": {
      "text/html": [
       "<div>\n",
       "<style scoped>\n",
       "    .dataframe tbody tr th:only-of-type {\n",
       "        vertical-align: middle;\n",
       "    }\n",
       "\n",
       "    .dataframe tbody tr th {\n",
       "        vertical-align: top;\n",
       "    }\n",
       "\n",
       "    .dataframe thead th {\n",
       "        text-align: right;\n",
       "    }\n",
       "</style>\n",
       "<table border=\"1\" class=\"dataframe\">\n",
       "  <thead>\n",
       "    <tr style=\"text-align: right;\">\n",
       "      <th></th>\n",
       "      <th>lat</th>\n",
       "      <th>lng</th>\n",
       "      <th>desc</th>\n",
       "      <th>zip</th>\n",
       "      <th>title</th>\n",
       "      <th>timeStamp</th>\n",
       "      <th>twp</th>\n",
       "      <th>addr</th>\n",
       "      <th>e</th>\n",
       "    </tr>\n",
       "  </thead>\n",
       "  <tbody>\n",
       "    <tr>\n",
       "      <td>0</td>\n",
       "      <td>40.297876</td>\n",
       "      <td>-75.581294</td>\n",
       "      <td>REINDEER CT &amp; DEAD END;  NEW HANOVER; Station ...</td>\n",
       "      <td>19525.0</td>\n",
       "      <td>EMS: BACK PAINS/INJURY</td>\n",
       "      <td>2015-12-10 17:10:52</td>\n",
       "      <td>NEW HANOVER</td>\n",
       "      <td>REINDEER CT &amp; DEAD END</td>\n",
       "      <td>1</td>\n",
       "    </tr>\n",
       "    <tr>\n",
       "      <td>1</td>\n",
       "      <td>40.258061</td>\n",
       "      <td>-75.264680</td>\n",
       "      <td>BRIAR PATH &amp; WHITEMARSH LN;  HATFIELD TOWNSHIP...</td>\n",
       "      <td>19446.0</td>\n",
       "      <td>EMS: DIABETIC EMERGENCY</td>\n",
       "      <td>2015-12-10 17:29:21</td>\n",
       "      <td>HATFIELD TOWNSHIP</td>\n",
       "      <td>BRIAR PATH &amp; WHITEMARSH LN</td>\n",
       "      <td>1</td>\n",
       "    </tr>\n",
       "  </tbody>\n",
       "</table>\n",
       "</div>"
      ],
      "text/plain": [
       "         lat        lng                                               desc  \\\n",
       "0  40.297876 -75.581294  REINDEER CT & DEAD END;  NEW HANOVER; Station ...   \n",
       "1  40.258061 -75.264680  BRIAR PATH & WHITEMARSH LN;  HATFIELD TOWNSHIP...   \n",
       "\n",
       "       zip                    title            timeStamp                twp  \\\n",
       "0  19525.0   EMS: BACK PAINS/INJURY  2015-12-10 17:10:52        NEW HANOVER   \n",
       "1  19446.0  EMS: DIABETIC EMERGENCY  2015-12-10 17:29:21  HATFIELD TOWNSHIP   \n",
       "\n",
       "                         addr  e  \n",
       "0      REINDEER CT & DEAD END  1  \n",
       "1  BRIAR PATH & WHITEMARSH LN  1  "
      ]
     },
     "execution_count": 12,
     "metadata": {},
     "output_type": "execute_result"
    }
   ],
   "source": [
    "df= pd.read_csv('911.csv')\n",
    "df.head(2)"
   ]
  },
  {
   "cell_type": "markdown",
   "metadata": {
    "id": "MRh43WA7EXlX"
   },
   "source": [
    "#### A. Find the Top 1 zipcodes and townships (twp) for 911 calls?"
   ]
  },
  {
   "cell_type": "code",
   "execution_count": null,
   "metadata": {
    "id": "AfueTohTEXlX",
    "outputId": "d845f702-b955-40d2-8a88-70160f3a3e9d"
   },
   "outputs": [
    {
     "data": {
      "text/plain": [
       "19401.0    28656\n",
       "Name: zip, dtype: int64"
      ]
     },
     "execution_count": 13,
     "metadata": {},
     "output_type": "execute_result"
    }
   ],
   "source": [
    "df['zip'].value_counts().head(1)"
   ]
  },
  {
   "cell_type": "code",
   "execution_count": null,
   "metadata": {
    "id": "-0NuxIauEXlX",
    "outputId": "d282680d-b5b7-4d1d-9e8e-cbea6d953b69"
   },
   "outputs": [
    {
     "data": {
      "text/plain": [
       "LOWER MERION    36441\n",
       "Name: twp, dtype: int64"
      ]
     },
     "execution_count": 14,
     "metadata": {},
     "output_type": "execute_result"
    }
   ],
   "source": [
    "df['twp'].value_counts().head(1)"
   ]
  },
  {
   "cell_type": "markdown",
   "metadata": {
    "id": "BqF66GofEXlY"
   },
   "source": [
    "#### B. There are EMS, Fire, and TrafficMake you need to separate column to create a new column called \"Reason\" and understand our data more?"
   ]
  },
  {
   "cell_type": "code",
   "execution_count": null,
   "metadata": {
    "id": "z4C2OP_YEXlY",
    "outputId": "68ac043e-f4a5-4159-ca4c-87118b3831c9"
   },
   "outputs": [
    {
     "data": {
      "text/plain": [
       "0             EMS\n",
       "1             EMS\n",
       "2            Fire\n",
       "3             EMS\n",
       "4             EMS\n",
       "           ...   \n",
       "423904    Traffic\n",
       "423905    Traffic\n",
       "423906    Traffic\n",
       "423907    Traffic\n",
       "423908    Traffic\n",
       "Name: Reason, Length: 423909, dtype: object"
      ]
     },
     "execution_count": 16,
     "metadata": {},
     "output_type": "execute_result"
    }
   ],
   "source": [
    "df['Reason']= df['title'].apply(lambda x:x.split(':')[0])\n",
    "df.Reason\n"
   ]
  },
  {
   "cell_type": "markdown",
   "metadata": {
    "id": "oMbOjXMeEXlY"
   },
   "source": [
    "#### C. What are the most common Reason for a 911 call ?"
   ]
  },
  {
   "cell_type": "code",
   "execution_count": null,
   "metadata": {
    "id": "mODac59vEXlY",
    "outputId": "e34da5ec-71b6-43c2-8438-0126c1f2db30"
   },
   "outputs": [
    {
     "data": {
      "text/plain": [
       "EMS        208676\n",
       "Traffic    151458\n",
       "Fire        63775\n",
       "Name: Reason, dtype: int64"
      ]
     },
     "execution_count": 17,
     "metadata": {},
     "output_type": "execute_result"
    }
   ],
   "source": [
    "df['Reason'].value_counts()"
   ]
  },
  {
   "cell_type": "markdown",
   "metadata": {
    "id": "Tv22_vfmEXlY"
   },
   "source": [
    "#### D.Change the timeStamp from strings to DateTime objects and also grab specific attributes(For example: Hour, Month and Day of the Week) from a Datetime object."
   ]
  },
  {
   "cell_type": "code",
   "execution_count": null,
   "metadata": {
    "id": "bysB1Zz-EXlY"
   },
   "outputs": [],
   "source": [
    "df['timeStamp'] = pd.to_datetime(df['timeStamp'])"
   ]
  },
  {
   "cell_type": "code",
   "execution_count": null,
   "metadata": {
    "id": "FtQLUPnxEXlZ"
   },
   "outputs": [],
   "source": [
    "df['Hour'] = df['timeStamp'].apply(lambda time: time.hour)\n",
    "df['Month'] = df['timeStamp'].apply(lambda time: time.month)\n",
    "df['Day of Week'] = df['timeStamp'].apply(lambda time: time.dayofweek)"
   ]
  },
  {
   "cell_type": "markdown",
   "metadata": {
    "id": "JtMMo9N9EXlZ"
   },
   "source": [
    "#### E. Restructure the dataframe so that the columns become the Hours and the Index becomes the Day of the Week?"
   ]
  },
  {
   "cell_type": "code",
   "execution_count": null,
   "metadata": {
    "id": "LAV8ltFVEXlZ",
    "outputId": "3430ed33-89c7-41d7-9ba2-e47517f8517e"
   },
   "outputs": [
    {
     "data": {
      "text/html": [
       "<div>\n",
       "<style scoped>\n",
       "    .dataframe tbody tr th:only-of-type {\n",
       "        vertical-align: middle;\n",
       "    }\n",
       "\n",
       "    .dataframe tbody tr th {\n",
       "        vertical-align: top;\n",
       "    }\n",
       "\n",
       "    .dataframe thead th {\n",
       "        text-align: right;\n",
       "    }\n",
       "</style>\n",
       "<table border=\"1\" class=\"dataframe\">\n",
       "  <thead>\n",
       "    <tr style=\"text-align: right;\">\n",
       "      <th>Hour</th>\n",
       "      <th>0</th>\n",
       "      <th>1</th>\n",
       "      <th>2</th>\n",
       "      <th>3</th>\n",
       "      <th>4</th>\n",
       "      <th>5</th>\n",
       "      <th>6</th>\n",
       "      <th>7</th>\n",
       "      <th>8</th>\n",
       "      <th>9</th>\n",
       "      <th>...</th>\n",
       "      <th>14</th>\n",
       "      <th>15</th>\n",
       "      <th>16</th>\n",
       "      <th>17</th>\n",
       "      <th>18</th>\n",
       "      <th>19</th>\n",
       "      <th>20</th>\n",
       "      <th>21</th>\n",
       "      <th>22</th>\n",
       "      <th>23</th>\n",
       "    </tr>\n",
       "    <tr>\n",
       "      <th>Day of Week</th>\n",
       "      <th></th>\n",
       "      <th></th>\n",
       "      <th></th>\n",
       "      <th></th>\n",
       "      <th></th>\n",
       "      <th></th>\n",
       "      <th></th>\n",
       "      <th></th>\n",
       "      <th></th>\n",
       "      <th></th>\n",
       "      <th></th>\n",
       "      <th></th>\n",
       "      <th></th>\n",
       "      <th></th>\n",
       "      <th></th>\n",
       "      <th></th>\n",
       "      <th></th>\n",
       "      <th></th>\n",
       "      <th></th>\n",
       "      <th></th>\n",
       "      <th></th>\n",
       "    </tr>\n",
       "  </thead>\n",
       "  <tbody>\n",
       "    <tr>\n",
       "      <th>0</th>\n",
       "      <td>1207</td>\n",
       "      <td>974</td>\n",
       "      <td>857</td>\n",
       "      <td>784</td>\n",
       "      <td>871</td>\n",
       "      <td>1124</td>\n",
       "      <td>1729</td>\n",
       "      <td>2829</td>\n",
       "      <td>3588</td>\n",
       "      <td>3685</td>\n",
       "      <td>...</td>\n",
       "      <td>3547</td>\n",
       "      <td>3975</td>\n",
       "      <td>4063</td>\n",
       "      <td>4003</td>\n",
       "      <td>3512</td>\n",
       "      <td>2821</td>\n",
       "      <td>2418</td>\n",
       "      <td>2005</td>\n",
       "      <td>1698</td>\n",
       "      <td>1283</td>\n",
       "    </tr>\n",
       "    <tr>\n",
       "      <th>1</th>\n",
       "      <td>1086</td>\n",
       "      <td>918</td>\n",
       "      <td>812</td>\n",
       "      <td>783</td>\n",
       "      <td>824</td>\n",
       "      <td>1075</td>\n",
       "      <td>1806</td>\n",
       "      <td>2912</td>\n",
       "      <td>3650</td>\n",
       "      <td>3563</td>\n",
       "      <td>...</td>\n",
       "      <td>3831</td>\n",
       "      <td>4087</td>\n",
       "      <td>4265</td>\n",
       "      <td>4396</td>\n",
       "      <td>3753</td>\n",
       "      <td>2960</td>\n",
       "      <td>2535</td>\n",
       "      <td>2147</td>\n",
       "      <td>1705</td>\n",
       "      <td>1350</td>\n",
       "    </tr>\n",
       "  </tbody>\n",
       "</table>\n",
       "<p>2 rows × 24 columns</p>\n",
       "</div>"
      ],
      "text/plain": [
       "Hour           0    1    2    3    4     5     6     7     8     9   ...  \\\n",
       "Day of Week                                                          ...   \n",
       "0            1207  974  857  784  871  1124  1729  2829  3588  3685  ...   \n",
       "1            1086  918  812  783  824  1075  1806  2912  3650  3563  ...   \n",
       "\n",
       "Hour           14    15    16    17    18    19    20    21    22    23  \n",
       "Day of Week                                                              \n",
       "0            3547  3975  4063  4003  3512  2821  2418  2005  1698  1283  \n",
       "1            3831  4087  4265  4396  3753  2960  2535  2147  1705  1350  \n",
       "\n",
       "[2 rows x 24 columns]"
      ]
     },
     "execution_count": 18,
     "metadata": {},
     "output_type": "execute_result"
    }
   ],
   "source": [
    "dayHour = df.groupby(by=['Day of Week','Hour']).count()['Reason'].unstack()\n",
    "dayHour.head(2)"
   ]
  },
  {
   "cell_type": "markdown",
   "metadata": {
    "id": "THF3tZZFEXlZ"
   },
   "source": [
    "<span style=\"font-family: Arial; font-weight:bold;font-size:1.5em;color:#db0b49;\">3. Read the dataset(Ecommerce_Purchases.csv) and Answer below questions?\n",
    "    \n",
    "   A. What were the highest and lowest purchase prices?\n",
    "  \n",
    "  B. How many people have English 'en' as their Language of choice on the website?\n",
    "  \n",
    "  C. How many people have the job title of \"Lawyer\" ?\n",
    "  \n",
    "  D. How many people made the purchase during the AM and how many people made the purchase during PM ?\n",
    "  \n",
    "  E. Someone made a purchase that came from Lot: \"90 WT\" , what was the Purchase Price for this transaction?"
   ]
  },
  {
   "cell_type": "code",
   "execution_count": null,
   "metadata": {
    "id": "9jVdc5hbEXlZ"
   },
   "outputs": [],
   "source": [
    "ecom = pd.read_csv('Ecommerce_Purchases.csv')"
   ]
  },
  {
   "cell_type": "markdown",
   "metadata": {
    "id": "e_MpPX9QEXlZ"
   },
   "source": [
    "#### A. What were the highest and lowest purchase prices?"
   ]
  },
  {
   "cell_type": "code",
   "execution_count": null,
   "metadata": {
    "id": "ShH5pdwTEXlZ",
    "outputId": "8ed1e8f6-8dcc-4b14-cc37-43c26ea1a196"
   },
   "outputs": [
    {
     "data": {
      "text/plain": [
       "99.99"
      ]
     },
     "execution_count": 21,
     "metadata": {},
     "output_type": "execute_result"
    }
   ],
   "source": [
    "# Highest\n",
    "ecom['Purchase Price'].max()"
   ]
  },
  {
   "cell_type": "code",
   "execution_count": null,
   "metadata": {
    "id": "vsaweZ1KEXlZ",
    "outputId": "863a83d1-f5ab-431f-ada0-56d1e109858e"
   },
   "outputs": [
    {
     "data": {
      "text/plain": [
       "0.0"
      ]
     },
     "execution_count": 22,
     "metadata": {},
     "output_type": "execute_result"
    }
   ],
   "source": [
    "# Lowest\n",
    "ecom['Purchase Price'].min()"
   ]
  },
  {
   "cell_type": "markdown",
   "metadata": {
    "id": "eAP720yJEXlZ"
   },
   "source": [
    "#### B. How many people have English 'en' as their Language of choice on the website?"
   ]
  },
  {
   "cell_type": "code",
   "execution_count": null,
   "metadata": {
    "id": "MV6tWHREEXla",
    "outputId": "b8c11d8c-3ed4-44c5-f10b-de0e2a870660"
   },
   "outputs": [
    {
     "data": {
      "text/plain": [
       "Address             1098\n",
       "Lot                 1098\n",
       "AM or PM            1098\n",
       "Browser Info        1098\n",
       "Company             1098\n",
       "Credit Card         1098\n",
       "CC Exp Date         1098\n",
       "CC Security Code    1098\n",
       "CC Provider         1098\n",
       "Email               1098\n",
       "Job                 1098\n",
       "IP Address          1098\n",
       "Language            1098\n",
       "Purchase Price      1098\n",
       "dtype: int64"
      ]
     },
     "execution_count": 23,
     "metadata": {},
     "output_type": "execute_result"
    }
   ],
   "source": [
    "ecom[ecom['Language']=='en'].count()"
   ]
  },
  {
   "cell_type": "markdown",
   "metadata": {
    "id": "yn50n78xEXla"
   },
   "source": [
    "#### C. How many people have the job title of \"Lawyer\" ?"
   ]
  },
  {
   "cell_type": "code",
   "execution_count": null,
   "metadata": {
    "id": "qzq5VuqDEXla",
    "outputId": "e8aa803e-c5e4-4316-c76f-1f0e414a6845"
   },
   "outputs": [
    {
     "data": {
      "text/plain": [
       "Address             30\n",
       "Lot                 30\n",
       "AM or PM            30\n",
       "Browser Info        30\n",
       "Company             30\n",
       "Credit Card         30\n",
       "CC Exp Date         30\n",
       "CC Security Code    30\n",
       "CC Provider         30\n",
       "Email               30\n",
       "Job                 30\n",
       "IP Address          30\n",
       "Language            30\n",
       "Purchase Price      30\n",
       "dtype: int64"
      ]
     },
     "execution_count": 23,
     "metadata": {},
     "output_type": "execute_result"
    }
   ],
   "source": [
    "ecom[ecom['Job']=='Lawyer'].count()"
   ]
  },
  {
   "cell_type": "markdown",
   "metadata": {
    "id": "lw9zQKTvEXla"
   },
   "source": [
    "#### D. How many people made the purchase during the AM and how many people made the purchase during PM ?"
   ]
  },
  {
   "cell_type": "code",
   "execution_count": null,
   "metadata": {
    "id": "kGgh_ZjGEXla",
    "outputId": "594eee0f-3bd8-406b-e1d6-a575e03a83e5"
   },
   "outputs": [
    {
     "data": {
      "text/plain": [
       "PM    5068\n",
       "AM    4932\n",
       "Name: AM or PM, dtype: int64"
      ]
     },
     "execution_count": 24,
     "metadata": {},
     "output_type": "execute_result"
    }
   ],
   "source": [
    "ecom['AM or PM'].value_counts()"
   ]
  },
  {
   "cell_type": "markdown",
   "metadata": {
    "id": "ZgJJLZrvEXla"
   },
   "source": [
    "#### E. Someone made a purchase that came from Lot: \"90 WT\" , what was the Purchase Price for this transaction?"
   ]
  },
  {
   "cell_type": "code",
   "execution_count": null,
   "metadata": {
    "id": "eY7IJvyPEXla",
    "outputId": "e3771fbd-c672-4dd3-91a5-70e21248a884",
    "scrolled": true
   },
   "outputs": [
    {
     "data": {
      "text/plain": [
       "513    75.1\n",
       "Name: Purchase Price, dtype: float64"
      ]
     },
     "execution_count": 25,
     "metadata": {},
     "output_type": "execute_result"
    }
   ],
   "source": [
    "ecom[ecom['Lot']==\"90 WT\"]['Purchase Price']"
   ]
  },
  {
   "cell_type": "markdown",
   "metadata": {
    "id": "VFcQO3VGEXmF"
   },
   "source": [
    "<span style=\"font-family: Arial; font-weight:bold;font-size:1.5em;color:#db0b49;\">4. Read the Dataset (Ramen-ratings.CSV)\n",
    "    \n",
    "\n",
    " A. Identify how many brands the data is captured. (2 Marks) \n",
    " \n",
    " B. Identify for how many rows the data for column Top Ten exists? (2 Marks) \n",
    " \n",
    " C. Display the data of bowl noodles for countries China and Taiwan. (3 Marks) \n",
    " \n",
    " D. Store the result in a data frame. Using the data frame find the brands that have ranking more than 4. (3 Marks) \n",
    " \n",
    " E. For Every Country and Style of noodle find the average Stars. Order them by stars highest to lowest. (4 Marks) \n",
    " \n",
    " \n",
    " F. Write a function to return the year in numbers or null if there is no value for the Top Ten column. Use this value to create a new column Top_Year. (5 Marks) Add the column to the dataset. (1 Marks)\""
   ]
  },
  {
   "cell_type": "code",
   "execution_count": 6,
   "metadata": {
    "id": "FD3o4w9uEXmF",
    "outputId": "8e27141e-278f-4954-e2c7-4a4859d9f26a"
   },
   "outputs": [
    {
     "data": {
      "text/html": [
       "<div>\n",
       "<style scoped>\n",
       "    .dataframe tbody tr th:only-of-type {\n",
       "        vertical-align: middle;\n",
       "    }\n",
       "\n",
       "    .dataframe tbody tr th {\n",
       "        vertical-align: top;\n",
       "    }\n",
       "\n",
       "    .dataframe thead th {\n",
       "        text-align: right;\n",
       "    }\n",
       "</style>\n",
       "<table border=\"1\" class=\"dataframe\">\n",
       "  <thead>\n",
       "    <tr style=\"text-align: right;\">\n",
       "      <th></th>\n",
       "      <th>Review #</th>\n",
       "      <th>Brand</th>\n",
       "      <th>Variety</th>\n",
       "      <th>Style</th>\n",
       "      <th>Country</th>\n",
       "      <th>Stars</th>\n",
       "      <th>Top Ten</th>\n",
       "    </tr>\n",
       "  </thead>\n",
       "  <tbody>\n",
       "    <tr>\n",
       "      <th>0</th>\n",
       "      <td>2580</td>\n",
       "      <td>New Touch</td>\n",
       "      <td>T's Restaurant Tantanmen</td>\n",
       "      <td>Cup</td>\n",
       "      <td>Japan</td>\n",
       "      <td>3.75</td>\n",
       "      <td>NaN</td>\n",
       "    </tr>\n",
       "    <tr>\n",
       "      <th>1</th>\n",
       "      <td>2579</td>\n",
       "      <td>Just Way</td>\n",
       "      <td>Noodles Spicy Hot Sesame Spicy Hot Sesame Guan...</td>\n",
       "      <td>Pack</td>\n",
       "      <td>Taiwan</td>\n",
       "      <td>1.00</td>\n",
       "      <td>NaN</td>\n",
       "    </tr>\n",
       "    <tr>\n",
       "      <th>2</th>\n",
       "      <td>2578</td>\n",
       "      <td>Nissin</td>\n",
       "      <td>Cup Noodles Chicken Vegetable</td>\n",
       "      <td>Cup</td>\n",
       "      <td>USA</td>\n",
       "      <td>2.25</td>\n",
       "      <td>NaN</td>\n",
       "    </tr>\n",
       "    <tr>\n",
       "      <th>3</th>\n",
       "      <td>2577</td>\n",
       "      <td>Wei Lih</td>\n",
       "      <td>GGE Ramen Snack Tomato Flavor</td>\n",
       "      <td>Pack</td>\n",
       "      <td>Taiwan</td>\n",
       "      <td>2.75</td>\n",
       "      <td>NaN</td>\n",
       "    </tr>\n",
       "    <tr>\n",
       "      <th>4</th>\n",
       "      <td>2576</td>\n",
       "      <td>Ching's Secret</td>\n",
       "      <td>Singapore Curry</td>\n",
       "      <td>Pack</td>\n",
       "      <td>India</td>\n",
       "      <td>3.75</td>\n",
       "      <td>NaN</td>\n",
       "    </tr>\n",
       "  </tbody>\n",
       "</table>\n",
       "</div>"
      ],
      "text/plain": [
       "   Review #           Brand  \\\n",
       "0      2580       New Touch   \n",
       "1      2579        Just Way   \n",
       "2      2578          Nissin   \n",
       "3      2577         Wei Lih   \n",
       "4      2576  Ching's Secret   \n",
       "\n",
       "                                             Variety Style Country  Stars  \\\n",
       "0                          T's Restaurant Tantanmen    Cup   Japan   3.75   \n",
       "1  Noodles Spicy Hot Sesame Spicy Hot Sesame Guan...  Pack  Taiwan   1.00   \n",
       "2                      Cup Noodles Chicken Vegetable   Cup     USA   2.25   \n",
       "3                      GGE Ramen Snack Tomato Flavor  Pack  Taiwan   2.75   \n",
       "4                                    Singapore Curry  Pack   India   3.75   \n",
       "\n",
       "  Top Ten  \n",
       "0     NaN  \n",
       "1     NaN  \n",
       "2     NaN  \n",
       "3     NaN  \n",
       "4     NaN  "
      ]
     },
     "execution_count": 6,
     "metadata": {},
     "output_type": "execute_result"
    }
   ],
   "source": [
    "ramen=pd.read_csv('ramen-ratings.csv')\n",
    "ramen.head()"
   ]
  },
  {
   "cell_type": "code",
   "execution_count": null,
   "metadata": {
    "id": "z8yyEUCCEXmF",
    "outputId": "e5138d3e-dd5c-44a2-c1d0-9439bbddc69b"
   },
   "outputs": [
    {
     "data": {
      "text/plain": [
       "(2580, 7)"
      ]
     },
     "execution_count": 60,
     "metadata": {},
     "output_type": "execute_result"
    }
   ],
   "source": [
    "ramen.shape"
   ]
  },
  {
   "cell_type": "code",
   "execution_count": null,
   "metadata": {
    "id": "Ia5c6GkREXmF",
    "outputId": "f7164f93-5155-4630-f26b-10bc1bcf8bed"
   },
   "outputs": [
    {
     "data": {
      "text/plain": [
       "355"
      ]
     },
     "execution_count": 61,
     "metadata": {},
     "output_type": "execute_result"
    }
   ],
   "source": [
    "ramen['Brand'].nunique()"
   ]
  },
  {
   "cell_type": "code",
   "execution_count": null,
   "metadata": {
    "id": "Na_2Kp-PEXmG",
    "outputId": "b9eb4971-2339-4eda-8639-594c0389a87b"
   },
   "outputs": [
    {
     "data": {
      "text/plain": [
       "array(['New Touch', 'Just Way', 'Nissin', 'Wei Lih', \"Ching's Secret\",\n",
       "       'Samyang Foods', 'Acecook', 'Ikeda Shoku', \"Ripe'n'Dry\", 'KOKA',\n",
       "       'Tao Kae Noi', 'Yamachan', 'Nongshim', 'TRDP', 'Binh Tay', 'Paldo',\n",
       "       'Jackpot Teriyaki', 'Yum-Mie', 'MyKuali', 'Ottogi',\n",
       "       'Sichuan Guangyou', 'Lipton', 'Lele', 'Fujiwara', 'Uni-President',\n",
       "       'Maruchan', 'Prima', 'Sokensha', 'Takamori', 'Guava Story',\n",
       "       'Samurai Ramen', 'Ogasawara', 'Pringles', \"Mom's Dry Noodle\",\n",
       "       'Maggi', 'Indomie', 'Happy Cook', 'The Ramen Rater Select', 'TTL',\n",
       "       'E-Zee', 'Kiki Noodle', 'Tokyo Noodle', 'GGE', 'Myojo', 'Sau Tao',\n",
       "       'Wang', 'Daifuku', 'Master Kong', \"World O' Noodle\", 'Kang Shi Fu',\n",
       "       'Mum Ngon', 'Fashion Food', 'Dream Kitchen', 'Ajinatori',\n",
       "       \"Dr. McDougall's\", 'Ve Wong', 'Super Bihun', 'Xiuhe',\n",
       "       'Little Cook', 'Shirakiku', \"Mama Pat's\", 'Goku-Uma',\n",
       "       'Sichuan Baijia', 'Liang Cheng Mai', 'Gefen', 'Hua Feng',\n",
       "       'Pulmuone', 'Liu Quan', 'Daikoku', 'Chuan Wei Wang', 'Wai Wai',\n",
       "       'Kamfen', 'Marutai', 'Vifon', '1 To 3 Noodles', 'Fantastic',\n",
       "       'Knorr', 'Sempio', 'Patanjali', 'Qin Zong', 'Pran',\n",
       "       'Sapporo Ichiban', 'MAMA', 'Xiao Ban Mian', 'Suimin', 'Cintan',\n",
       "       'JML', 'Unif Tung-I', 'Tablemark', \"Farmer's Heart\", 'Fuku',\n",
       "       'Singa-Me', 'Love Cook', 'Great Value', 'Asian Thai Foods',\n",
       "       'Nagatanien', 'Nyor Nyar', 'Tseng Noodles', 'A-Sha Dry Noodle',\n",
       "       'Morre', 'Roland', \"Mr. Lee's Noodles\", 'Choumama',\n",
       "       'President Rice', 'Happy Family', 'Menraku', 'La Moderna',\n",
       "       'Jingqi', 'Thien Houng Foods', 'Doll', 'Four Seas', 'CarJEN',\n",
       "       '7 Select', 'Oni Hot Pot', 'Weh Lih', 'Itomen', 'Sanpo',\n",
       "       'Mi Sedaap', 'Tokushima Seifun', 'Mamee', 'Zow Zow', 'Koyo',\n",
       "       'ORee Garden', 'A1', 'Migawon', \"Chaudhary's Wai Wai\",\n",
       "       'Urban Noodle', 'Trident', 'Conimex', 'Prima Taste', 'MyOri',\n",
       "       'Itsuki', 'Kabuto Noodles', 'IbuRamen', 'Koh Thai', 'Bamee',\n",
       "       'Ibumie', 'Unox', 'Fortune', 'Bonasia', 'Mie Sedaap', 'iMee',\n",
       "       'Thai Smile', 'Asia Gold', 'Pirkka', 'Higashimaru', 'Kuriki',\n",
       "       'Vedan', 'Yum Yum', 'Mama', 'Baijia', 'Daraz', 'Pama', 'Seven & I',\n",
       "       'Forest Noodles', \"Vit's\", 'Ten-In', 'Sugakiya Foods', 'Hao Way',\n",
       "       'Nakaya Shouten', 'Thai Chef', 'Crystal Noodle', 'Azami', 'Super',\n",
       "       'Torishi', 'Western Family', 'Chering Chang', 'Ishimaru',\n",
       "       'Authentically Asian', 'Aroi', 'Koka', 'Wu-Mu', 'Yamadai',\n",
       "       'Vina Acecook', 'Baixiang Noodles', 'Salam Mie', 'Lee Fah Mee',\n",
       "       'Sakurai Foods', 'The Kitchen Food', 'Premiere', '7 Select/Nissin',\n",
       "       'Wugudaochang', 'Emart', 'Lishan Food Manufacturing', 'Ah Lai',\n",
       "       'Tropicana Slim', 'A-One', 'Deshome', 'Paldo Vina', 'Chencun',\n",
       "       'United', 'ChoripDong', 'Shan', 'Ruski', 'No Name', 'New Way',\n",
       "       'Lucky Me!', \"Campbell's\", 'One Dish Asia', 'Long Jun Hang',\n",
       "       'Unif-100', 'Hankow', 'The Bridge', 'Mitoku', 'Unzen', 'Uncle Sun',\n",
       "       'Mi E-Zee', 'E-mi', 'J.J.', 'Curry Prince', 'Econsave', 'Oyatsu',\n",
       "       'Kin-Dee', 'Ko-Lee', 'ICA', 'Nanyang Chef', 'Thai Pavilion',\n",
       "       'Miliket', 'Katoz', 'Men-Sunaoshi', 'Chewy', 'Adabi',\n",
       "       'Osaka Ramen', \"Sainsbury's\", 'Pamana', \"Annie Chun's\", 'La Fonte',\n",
       "       'Thai Choice', 'Tesco', 'Pop Bihun', 'Snapdragon', 'Saji',\n",
       "       'Miracle Noodle', 'Tiger Tiger', 'Takamori Kosan', 'Papa',\n",
       "       'Sawadee', 'Golden Wheat', 'Lotus Foods', 'Plats Du Chef',\n",
       "       'Batchelors', 'Sakura Noodle', 'Unif', 'Hi-Myon', 'Healtimie',\n",
       "       'Thai Kitchen', 'Mr. Noodles', 'Good Tto Leu Foods', 'GaGa',\n",
       "       'Kimura', 'Tokachimen Koubou', 'ABC', 'Eat & Go', 'President',\n",
       "       'SuperMi', 'Kumamoto', 'HoMyeonDang', 'Nan Jie Cun', 'China Best',\n",
       "       'Sanrio', 'Peyang', 'Golden Wonder', 'Komforte Chockolates',\n",
       "       'Nagao Noodle', 'Maitri', 'GS25', 'Baltix', 'Amianda',\n",
       "       'Tasty Bite', 'Star Anise Foods', 'Tradition', 'Amino',\n",
       "       'Pot Noodle', 'Sun Noodle', 'S&S', 'Springlife', 'Right Foods',\n",
       "       'Sunlee', 'Goku Uma', 'Daddy', \"Han's South Korea\", 'Sarimi',\n",
       "       'FMF', 'Long Kow', 'Unif / Tung-I', 'Song Hak', 'Fuji Mengyo',\n",
       "       'Dragonfly', 'CJ CheilJedang', 'Dongwon', 'Seven-Eleven', 'Souper',\n",
       "       \"Kim's Bowl\", 'Ohsung', 'Gau Do', 'Golden Mie', 'GreeNoodle',\n",
       "       'Kailo', 'Fashion Foods', 'Hosoonyi', 'Payless', 'Yamamoto',\n",
       "       'Saigon Ve Wong', 'Wu Mu', 'Mee Jang', 'JFC', 'Samyang',\n",
       "       'Mug Shot', 'Lishan', 'Cap Atoom Bulan', 'Sura', 'Wei Chuan',\n",
       "       'Yamamori', 'Mr. Udon', 'Omachi', 'Wei Wei', 'Six Fortune',\n",
       "       'Haioreum', 'Sunlight', 'Noah Foods', 'O Sung', 'Foodmon',\n",
       "       'Sahmyook', 'Nan Hsing', 'Mexi-Ramen', 'Hsin Tung Yang', 'Sao Tao',\n",
       "       'iNoodle', 'Quickchow', 'Chikara', 'Q', 'Noodle Time', 'Gomex',\n",
       "       'US Canning', 'Rhee Bros Assi', 'Bon Go Jang', 'Tayho',\n",
       "       'Sunny Maid', 'Royal Umbrella', 'Tiger',\n",
       "       'Fu Chang Chinese Noodle Company', 'Sanyo Foods', 'Rocket Brand',\n",
       "       'Boss', 'Chorip Dong', 'Higashi', 'Sakurai', 'Global Inspiration',\n",
       "       'Teriyaki Time', 'Hua Feng Noodle Expert', 'Kim Ve Wong', 'Smack',\n",
       "       'Sutah', 'Tung-I', 'Westbrae'], dtype=object)"
      ]
     },
     "execution_count": 62,
     "metadata": {},
     "output_type": "execute_result"
    }
   ],
   "source": [
    "ramen['Brand'].unique()"
   ]
  },
  {
   "cell_type": "code",
   "execution_count": null,
   "metadata": {
    "id": "cEGeRSdrEXmK",
    "outputId": "bb4982a1-5776-4520-af8c-8b749c43f0d4"
   },
   "outputs": [
    {
     "data": {
      "text/plain": [
       "616     2016 #10\n",
       "633      2016 #1\n",
       "655      2016 #8\n",
       "673      2016 #5\n",
       "752      2016 #9\n",
       "891      2016 #7\n",
       "942     2015 #10\n",
       "963      2015 #7\n",
       "995      2015 #4\n",
       "1059     2015 #9\n",
       "1072     2015 #6\n",
       "1080     2015 #1\n",
       "1109    2013 #10\n",
       "1114     2015 #8\n",
       "1230     2014 #7\n",
       "1250     2014 #4\n",
       "1272     2014 #9\n",
       "1278    2014 #10\n",
       "1309     2014 #8\n",
       "1382     2014 #5\n",
       "1397     2014 #6\n",
       "1493     2014 #1\n",
       "1588     2013 #1\n",
       "1589     2013 #2\n",
       "1646     2013 #4\n",
       "1757     2013 #9\n",
       "1865     2013 #3\n",
       "1972    2012 #10\n",
       "2002     2012 #7\n",
       "2146     2012 #5\n",
       "2188     2012 #3\n",
       "2189     2012 #6\n",
       "2295     2012 #9\n",
       "2475     2012 #1\n",
       "2533     2012 #2\n",
       "2549     2013 #6\n",
       "2567     2012 #4\n",
       "Name: Top Ten, dtype: object"
      ]
     },
     "execution_count": 63,
     "metadata": {},
     "output_type": "execute_result"
    }
   ],
   "source": [
    "ramen[ramen['Top Ten'].isnull()==False]['Top Ten']"
   ]
  },
  {
   "cell_type": "code",
   "execution_count": null,
   "metadata": {
    "id": "wVJu6IMSEXmK",
    "outputId": "f2892f1c-0959-47eb-d930-c9ec9f6fb072"
   },
   "outputs": [
    {
     "data": {
      "text/plain": [
       "37"
      ]
     },
     "execution_count": 64,
     "metadata": {},
     "output_type": "execute_result"
    }
   ],
   "source": [
    "ramen[ramen['Top Ten'].isnull()==False]['Top Ten'].count()"
   ]
  },
  {
   "cell_type": "markdown",
   "metadata": {
    "id": "KlpP-kSQEXmK"
   },
   "source": [
    "#### D. Display the data of bowl noodles for countries China and Taiwan. (3 Marks) "
   ]
  },
  {
   "cell_type": "code",
   "execution_count": null,
   "metadata": {
    "id": "V8m0_O4iEXmK",
    "outputId": "5c768b05-c1ca-43d9-cfc0-680572d7b2e5"
   },
   "outputs": [
    {
     "data": {
      "text/html": [
       "<div>\n",
       "<style scoped>\n",
       "    .dataframe tbody tr th:only-of-type {\n",
       "        vertical-align: middle;\n",
       "    }\n",
       "\n",
       "    .dataframe tbody tr th {\n",
       "        vertical-align: top;\n",
       "    }\n",
       "\n",
       "    .dataframe thead th {\n",
       "        text-align: right;\n",
       "    }\n",
       "</style>\n",
       "<table border=\"1\" class=\"dataframe\">\n",
       "  <thead>\n",
       "    <tr style=\"text-align: right;\">\n",
       "      <th></th>\n",
       "      <th>Review #</th>\n",
       "      <th>Brand</th>\n",
       "      <th>Variety</th>\n",
       "      <th>Style</th>\n",
       "      <th>Country</th>\n",
       "      <th>Stars</th>\n",
       "      <th>Top Ten</th>\n",
       "    </tr>\n",
       "  </thead>\n",
       "  <tbody>\n",
       "    <tr>\n",
       "      <td>33</td>\n",
       "      <td>2547</td>\n",
       "      <td>Sichuan Guangyou</td>\n",
       "      <td>Chongqing Spicy Hot Noodles</td>\n",
       "      <td>Bowl</td>\n",
       "      <td>China</td>\n",
       "      <td>4.00</td>\n",
       "      <td>NaN</td>\n",
       "    </tr>\n",
       "    <tr>\n",
       "      <td>65</td>\n",
       "      <td>2515</td>\n",
       "      <td>Uni-President</td>\n",
       "      <td>Man Han Feast Spicy Beef Flavor Instant Noodles</td>\n",
       "      <td>Bowl</td>\n",
       "      <td>Taiwan</td>\n",
       "      <td>5.00</td>\n",
       "      <td>NaN</td>\n",
       "    </tr>\n",
       "    <tr>\n",
       "      <td>77</td>\n",
       "      <td>2503</td>\n",
       "      <td>Sichuan Guangyou</td>\n",
       "      <td>Sweet Potato Instant Noodle Sout-Hot Flavor</td>\n",
       "      <td>Bowl</td>\n",
       "      <td>China</td>\n",
       "      <td>0.00</td>\n",
       "      <td>NaN</td>\n",
       "    </tr>\n",
       "    <tr>\n",
       "      <td>118</td>\n",
       "      <td>2462</td>\n",
       "      <td>TTL</td>\n",
       "      <td>Sesame Oil Chicken Noodle With Rice Wine</td>\n",
       "      <td>Bowl</td>\n",
       "      <td>Taiwan</td>\n",
       "      <td>5.00</td>\n",
       "      <td>NaN</td>\n",
       "    </tr>\n",
       "    <tr>\n",
       "      <td>141</td>\n",
       "      <td>2439</td>\n",
       "      <td>Uni-President</td>\n",
       "      <td>Man Han Feast Super Hot Pot Beef Flavor Instan...</td>\n",
       "      <td>Bowl</td>\n",
       "      <td>Taiwan</td>\n",
       "      <td>5.00</td>\n",
       "      <td>NaN</td>\n",
       "    </tr>\n",
       "    <tr>\n",
       "      <td>...</td>\n",
       "      <td>...</td>\n",
       "      <td>...</td>\n",
       "      <td>...</td>\n",
       "      <td>...</td>\n",
       "      <td>...</td>\n",
       "      <td>...</td>\n",
       "      <td>...</td>\n",
       "    </tr>\n",
       "    <tr>\n",
       "      <td>2264</td>\n",
       "      <td>316</td>\n",
       "      <td>Unif</td>\n",
       "      <td>Super Bowl Artificial Stewed Pork Chop</td>\n",
       "      <td>Bowl</td>\n",
       "      <td>Taiwan</td>\n",
       "      <td>3.50</td>\n",
       "      <td>NaN</td>\n",
       "    </tr>\n",
       "    <tr>\n",
       "      <td>2265</td>\n",
       "      <td>315</td>\n",
       "      <td>Unif</td>\n",
       "      <td>Super Bowl Artificial Spicy Beef</td>\n",
       "      <td>Bowl</td>\n",
       "      <td>Taiwan</td>\n",
       "      <td>2.75</td>\n",
       "      <td>NaN</td>\n",
       "    </tr>\n",
       "    <tr>\n",
       "      <td>2279</td>\n",
       "      <td>301</td>\n",
       "      <td>Dragonfly</td>\n",
       "      <td>Guilin Style Rice Vermicelli</td>\n",
       "      <td>Bowl</td>\n",
       "      <td>China</td>\n",
       "      <td>4.50</td>\n",
       "      <td>NaN</td>\n",
       "    </tr>\n",
       "    <tr>\n",
       "      <td>2287</td>\n",
       "      <td>293</td>\n",
       "      <td>Tiger</td>\n",
       "      <td>Onion Flaver Rice Noodle</td>\n",
       "      <td>Bowl</td>\n",
       "      <td>Taiwan</td>\n",
       "      <td>0.00</td>\n",
       "      <td>NaN</td>\n",
       "    </tr>\n",
       "    <tr>\n",
       "      <td>2537</td>\n",
       "      <td>43</td>\n",
       "      <td>Kim Ve Wong</td>\n",
       "      <td>Jaopai Series: Vegetarian Instant Noodles</td>\n",
       "      <td>Bowl</td>\n",
       "      <td>Taiwan</td>\n",
       "      <td>0.00</td>\n",
       "      <td>NaN</td>\n",
       "    </tr>\n",
       "  </tbody>\n",
       "</table>\n",
       "<p>82 rows × 7 columns</p>\n",
       "</div>"
      ],
      "text/plain": [
       "      Review #             Brand  \\\n",
       "33        2547  Sichuan Guangyou   \n",
       "65        2515     Uni-President   \n",
       "77        2503  Sichuan Guangyou   \n",
       "118       2462               TTL   \n",
       "141       2439     Uni-President   \n",
       "...        ...               ...   \n",
       "2264       316              Unif   \n",
       "2265       315              Unif   \n",
       "2279       301         Dragonfly   \n",
       "2287       293             Tiger   \n",
       "2537        43       Kim Ve Wong   \n",
       "\n",
       "                                                Variety Style Country  Stars  \\\n",
       "33                          Chongqing Spicy Hot Noodles  Bowl   China   4.00   \n",
       "65      Man Han Feast Spicy Beef Flavor Instant Noodles  Bowl  Taiwan   5.00   \n",
       "77          Sweet Potato Instant Noodle Sout-Hot Flavor  Bowl   China   0.00   \n",
       "118            Sesame Oil Chicken Noodle With Rice Wine  Bowl  Taiwan   5.00   \n",
       "141   Man Han Feast Super Hot Pot Beef Flavor Instan...  Bowl  Taiwan   5.00   \n",
       "...                                                 ...   ...     ...    ...   \n",
       "2264             Super Bowl Artificial Stewed Pork Chop  Bowl  Taiwan   3.50   \n",
       "2265                   Super Bowl Artificial Spicy Beef  Bowl  Taiwan   2.75   \n",
       "2279                       Guilin Style Rice Vermicelli  Bowl   China   4.50   \n",
       "2287                           Onion Flaver Rice Noodle  Bowl  Taiwan   0.00   \n",
       "2537          Jaopai Series: Vegetarian Instant Noodles  Bowl  Taiwan   0.00   \n",
       "\n",
       "     Top Ten  \n",
       "33       NaN  \n",
       "65       NaN  \n",
       "77       NaN  \n",
       "118      NaN  \n",
       "141      NaN  \n",
       "...      ...  \n",
       "2264     NaN  \n",
       "2265     NaN  \n",
       "2279     NaN  \n",
       "2287     NaN  \n",
       "2537     NaN  \n",
       "\n",
       "[82 rows x 7 columns]"
      ]
     },
     "execution_count": 65,
     "metadata": {},
     "output_type": "execute_result"
    }
   ],
   "source": [
    "china_taiwan=ramen[((ramen['Country']=='China') | (ramen['Country']=='Taiwan'))&(ramen['Style']=='Bowl')]\n",
    "china_taiwan"
   ]
  },
  {
   "cell_type": "markdown",
   "metadata": {
    "id": "1qPhjdJqEXmK"
   },
   "source": [
    "#### E. Store the result in a data frame. Using the data frame find the brands that have ranking more than 4.(2 Marks)"
   ]
  },
  {
   "cell_type": "code",
   "execution_count": null,
   "metadata": {
    "id": "iVdRR7_mEXmK",
    "outputId": "96da82e5-e8b4-4cef-ff4e-84d114285cab"
   },
   "outputs": [
    {
     "data": {
      "text/plain": [
       "array(['Uni-President', 'TTL', 'Xiuhe', 'Little Cook', 'Sichuan Baijia',\n",
       "       'Master Kong', 'JML', 'Wei Lih', 'Wugudaochang', 'Vedan', 'Unif',\n",
       "       'Dragonfly'], dtype=object)"
      ]
     },
     "execution_count": 76,
     "metadata": {},
     "output_type": "execute_result"
    }
   ],
   "source": [
    "china_taiwan[china_taiwan['Stars']>4.0]['Brand'].unique()"
   ]
  },
  {
   "cell_type": "markdown",
   "metadata": {
    "id": "evtU2A-9EXmL"
   },
   "source": [
    "#### F. For Every Country and Style of noodles find the average Stars. Order the stars from highest to lowest.(4 Marks)"
   ]
  },
  {
   "cell_type": "code",
   "execution_count": null,
   "metadata": {
    "id": "UHm3dPghEXmL",
    "outputId": "b946f2aa-c551-485d-8c41-bf2f1fdaecc6"
   },
   "outputs": [
    {
     "data": {
      "text/plain": [
       "Country      Style\n",
       "Malaysia     Box      5.000000\n",
       "Japan        Box      5.000000\n",
       "USA          Bar      5.000000\n",
       "Brazil       Cup      4.500000\n",
       "Japan        Tray     4.375000\n",
       "                        ...   \n",
       "Canada       Bowl     2.281250\n",
       "             Cup      1.970588\n",
       "Nigeria      Pack     1.500000\n",
       "USA          Box      1.500000\n",
       "Netherlands  Cup      1.333333\n",
       "Name: Stars, Length: 87, dtype: float64"
      ]
     },
     "execution_count": 77,
     "metadata": {},
     "output_type": "execute_result"
    }
   ],
   "source": [
    "x=ramen[['Country','Style','Stars']]\n",
    "x.groupby(['Country','Style'])['Stars'].mean().sort_values( ascending=False)"
   ]
  },
  {
   "cell_type": "markdown",
   "metadata": {
    "id": "Xrf2iqktEXmL"
   },
   "source": [
    "#### G. Write a function to return the year in numbers or null if there is no value for Top Ten column. Use this value to create a new column Top_Year.(5 Marks) and Add the column to the dataset.(1 Marks)"
   ]
  },
  {
   "cell_type": "code",
   "execution_count": null,
   "metadata": {
    "id": "10NgaENrEXmL",
    "outputId": "862a2d07-2dc2-4e16-c8f7-8a8d8c687cb0"
   },
   "outputs": [
    {
     "data": {
      "text/html": [
       "<div>\n",
       "<style scoped>\n",
       "    .dataframe tbody tr th:only-of-type {\n",
       "        vertical-align: middle;\n",
       "    }\n",
       "\n",
       "    .dataframe tbody tr th {\n",
       "        vertical-align: top;\n",
       "    }\n",
       "\n",
       "    .dataframe thead th {\n",
       "        text-align: right;\n",
       "    }\n",
       "</style>\n",
       "<table border=\"1\" class=\"dataframe\">\n",
       "  <thead>\n",
       "    <tr style=\"text-align: right;\">\n",
       "      <th></th>\n",
       "      <th>Brand</th>\n",
       "      <th>Top Ten</th>\n",
       "    </tr>\n",
       "  </thead>\n",
       "  <tbody>\n",
       "    <tr>\n",
       "      <td>616</td>\n",
       "      <td>MAMA</td>\n",
       "      <td>2016 #10</td>\n",
       "    </tr>\n",
       "    <tr>\n",
       "      <td>633</td>\n",
       "      <td>Prima Taste</td>\n",
       "      <td>2016 #1</td>\n",
       "    </tr>\n",
       "    <tr>\n",
       "      <td>655</td>\n",
       "      <td>Prima</td>\n",
       "      <td>2016 #8</td>\n",
       "    </tr>\n",
       "    <tr>\n",
       "      <td>673</td>\n",
       "      <td>Prima Taste</td>\n",
       "      <td>2016 #5</td>\n",
       "    </tr>\n",
       "    <tr>\n",
       "      <td>752</td>\n",
       "      <td>Tseng Noodles</td>\n",
       "      <td>2016 #9</td>\n",
       "    </tr>\n",
       "    <tr>\n",
       "      <td>891</td>\n",
       "      <td>Wugudaochang</td>\n",
       "      <td>2016 #7</td>\n",
       "    </tr>\n",
       "    <tr>\n",
       "      <td>942</td>\n",
       "      <td>A-Sha Dry Noodle</td>\n",
       "      <td>2015 #10</td>\n",
       "    </tr>\n",
       "    <tr>\n",
       "      <td>963</td>\n",
       "      <td>MyKuali</td>\n",
       "      <td>2015 #7</td>\n",
       "    </tr>\n",
       "    <tr>\n",
       "      <td>995</td>\n",
       "      <td>CarJEN</td>\n",
       "      <td>2015 #4</td>\n",
       "    </tr>\n",
       "    <tr>\n",
       "      <td>1059</td>\n",
       "      <td>Maruchan</td>\n",
       "      <td>2015 #9</td>\n",
       "    </tr>\n",
       "    <tr>\n",
       "      <td>1072</td>\n",
       "      <td>Mamee</td>\n",
       "      <td>2015 #6</td>\n",
       "    </tr>\n",
       "    <tr>\n",
       "      <td>1080</td>\n",
       "      <td>MyKuali</td>\n",
       "      <td>2015 #1</td>\n",
       "    </tr>\n",
       "    <tr>\n",
       "      <td>1109</td>\n",
       "      <td>Mama</td>\n",
       "      <td>2013 #10</td>\n",
       "    </tr>\n",
       "    <tr>\n",
       "      <td>1114</td>\n",
       "      <td>Mama</td>\n",
       "      <td>2015 #8</td>\n",
       "    </tr>\n",
       "    <tr>\n",
       "      <td>1230</td>\n",
       "      <td>Mamee</td>\n",
       "      <td>2014 #7</td>\n",
       "    </tr>\n",
       "    <tr>\n",
       "      <td>1250</td>\n",
       "      <td>Sapporo Ichiban</td>\n",
       "      <td>2014 #4</td>\n",
       "    </tr>\n",
       "    <tr>\n",
       "      <td>1272</td>\n",
       "      <td>Nongshim</td>\n",
       "      <td>2014 #9</td>\n",
       "    </tr>\n",
       "    <tr>\n",
       "      <td>1278</td>\n",
       "      <td>Mama</td>\n",
       "      <td>2014 #10</td>\n",
       "    </tr>\n",
       "    <tr>\n",
       "      <td>1309</td>\n",
       "      <td>Prima Taste</td>\n",
       "      <td>2014 #8</td>\n",
       "    </tr>\n",
       "    <tr>\n",
       "      <td>1382</td>\n",
       "      <td>Samyang Foods</td>\n",
       "      <td>2014 #5</td>\n",
       "    </tr>\n",
       "    <tr>\n",
       "      <td>1397</td>\n",
       "      <td>Paldo</td>\n",
       "      <td>2014 #6</td>\n",
       "    </tr>\n",
       "    <tr>\n",
       "      <td>1493</td>\n",
       "      <td>MyKuali</td>\n",
       "      <td>2014 #1</td>\n",
       "    </tr>\n",
       "    <tr>\n",
       "      <td>1588</td>\n",
       "      <td>Prima Taste</td>\n",
       "      <td>2013 #1</td>\n",
       "    </tr>\n",
       "    <tr>\n",
       "      <td>1589</td>\n",
       "      <td>Prima Taste</td>\n",
       "      <td>2013 #2</td>\n",
       "    </tr>\n",
       "    <tr>\n",
       "      <td>1646</td>\n",
       "      <td>Nongshim</td>\n",
       "      <td>2013 #4</td>\n",
       "    </tr>\n",
       "    <tr>\n",
       "      <td>1757</td>\n",
       "      <td>Paldo</td>\n",
       "      <td>2013 #9</td>\n",
       "    </tr>\n",
       "    <tr>\n",
       "      <td>1865</td>\n",
       "      <td>Indomie</td>\n",
       "      <td>2013 #3</td>\n",
       "    </tr>\n",
       "    <tr>\n",
       "      <td>1972</td>\n",
       "      <td>Koka</td>\n",
       "      <td>2012 #10</td>\n",
       "    </tr>\n",
       "    <tr>\n",
       "      <td>2002</td>\n",
       "      <td>Nongshim</td>\n",
       "      <td>2012 #7</td>\n",
       "    </tr>\n",
       "    <tr>\n",
       "      <td>2146</td>\n",
       "      <td>Mi Sedaap</td>\n",
       "      <td>2012 #5</td>\n",
       "    </tr>\n",
       "    <tr>\n",
       "      <td>2188</td>\n",
       "      <td>Nissin</td>\n",
       "      <td>2012 #3</td>\n",
       "    </tr>\n",
       "    <tr>\n",
       "      <td>2189</td>\n",
       "      <td>Myojo</td>\n",
       "      <td>2012 #6</td>\n",
       "    </tr>\n",
       "    <tr>\n",
       "      <td>2295</td>\n",
       "      <td>Doll</td>\n",
       "      <td>2012 #9</td>\n",
       "    </tr>\n",
       "    <tr>\n",
       "      <td>2475</td>\n",
       "      <td>Indomie</td>\n",
       "      <td>2012 #1</td>\n",
       "    </tr>\n",
       "    <tr>\n",
       "      <td>2533</td>\n",
       "      <td>Indomie</td>\n",
       "      <td>2012 #2</td>\n",
       "    </tr>\n",
       "    <tr>\n",
       "      <td>2549</td>\n",
       "      <td>Myojo</td>\n",
       "      <td>2013 #6</td>\n",
       "    </tr>\n",
       "    <tr>\n",
       "      <td>2567</td>\n",
       "      <td>Sapporo Ichiban</td>\n",
       "      <td>2012 #4</td>\n",
       "    </tr>\n",
       "  </tbody>\n",
       "</table>\n",
       "</div>"
      ],
      "text/plain": [
       "                 Brand   Top Ten\n",
       "616               MAMA  2016 #10\n",
       "633        Prima Taste   2016 #1\n",
       "655              Prima   2016 #8\n",
       "673        Prima Taste   2016 #5\n",
       "752      Tseng Noodles   2016 #9\n",
       "891       Wugudaochang   2016 #7\n",
       "942   A-Sha Dry Noodle  2015 #10\n",
       "963            MyKuali   2015 #7\n",
       "995             CarJEN   2015 #4\n",
       "1059          Maruchan   2015 #9\n",
       "1072             Mamee   2015 #6\n",
       "1080           MyKuali   2015 #1\n",
       "1109              Mama  2013 #10\n",
       "1114              Mama   2015 #8\n",
       "1230             Mamee   2014 #7\n",
       "1250   Sapporo Ichiban   2014 #4\n",
       "1272          Nongshim   2014 #9\n",
       "1278              Mama  2014 #10\n",
       "1309       Prima Taste   2014 #8\n",
       "1382     Samyang Foods   2014 #5\n",
       "1397             Paldo   2014 #6\n",
       "1493           MyKuali   2014 #1\n",
       "1588       Prima Taste   2013 #1\n",
       "1589       Prima Taste   2013 #2\n",
       "1646          Nongshim   2013 #4\n",
       "1757             Paldo   2013 #9\n",
       "1865           Indomie   2013 #3\n",
       "1972              Koka  2012 #10\n",
       "2002          Nongshim   2012 #7\n",
       "2146         Mi Sedaap   2012 #5\n",
       "2188            Nissin   2012 #3\n",
       "2189             Myojo   2012 #6\n",
       "2295              Doll   2012 #9\n",
       "2475           Indomie   2012 #1\n",
       "2533           Indomie   2012 #2\n",
       "2549             Myojo   2013 #6\n",
       "2567   Sapporo Ichiban   2012 #4"
      ]
     },
     "execution_count": 66,
     "metadata": {},
     "output_type": "execute_result"
    }
   ],
   "source": [
    "ramen[ramen['Top Ten'].isnull()==False][['Brand','Top Ten']]"
   ]
  },
  {
   "cell_type": "code",
   "execution_count": 12,
   "metadata": {
    "id": "qFenR2NSEXmL"
   },
   "outputs": [],
   "source": [
    "def find_year(x):\n",
    "    if x.split('#')[0]:\n",
    "        return x.split('#')[0]\n",
    "    else:\n",
    "        return null"
   ]
  },
  {
   "cell_type": "code",
   "execution_count": 13,
   "metadata": {
    "id": "0ToBX_FWEXmL",
    "outputId": "d5f2be67-5d24-49d9-8f42-bfb725836ead"
   },
   "outputs": [
    {
     "data": {
      "text/plain": [
       "0       nan\n",
       "1       nan\n",
       "2       nan\n",
       "3       nan\n",
       "4       nan\n",
       "       ... \n",
       "2575    nan\n",
       "2576    nan\n",
       "2577    nan\n",
       "2578    nan\n",
       "2579    nan\n",
       "Name: Top Ten, Length: 2580, dtype: object"
      ]
     },
     "execution_count": 13,
     "metadata": {},
     "output_type": "execute_result"
    }
   ],
   "source": [
    "y=ramen['Top Ten'].apply(lambda x: find_year(str(x)))\n",
    "y"
   ]
  },
  {
   "cell_type": "code",
   "execution_count": 15,
   "metadata": {
    "id": "kF4b1sMdEXmL",
    "outputId": "2ef48f67-a20f-4c65-9553-ba6000e905af"
   },
   "outputs": [
    {
     "data": {
      "text/html": [
       "<div>\n",
       "<style scoped>\n",
       "    .dataframe tbody tr th:only-of-type {\n",
       "        vertical-align: middle;\n",
       "    }\n",
       "\n",
       "    .dataframe tbody tr th {\n",
       "        vertical-align: top;\n",
       "    }\n",
       "\n",
       "    .dataframe thead th {\n",
       "        text-align: right;\n",
       "    }\n",
       "</style>\n",
       "<table border=\"1\" class=\"dataframe\">\n",
       "  <thead>\n",
       "    <tr style=\"text-align: right;\">\n",
       "      <th></th>\n",
       "      <th>Review #</th>\n",
       "      <th>Brand</th>\n",
       "      <th>Variety</th>\n",
       "      <th>Style</th>\n",
       "      <th>Country</th>\n",
       "      <th>Stars</th>\n",
       "      <th>Top Ten</th>\n",
       "      <th>Top_year</th>\n",
       "    </tr>\n",
       "  </thead>\n",
       "  <tbody>\n",
       "    <tr>\n",
       "      <th>0</th>\n",
       "      <td>2580</td>\n",
       "      <td>New Touch</td>\n",
       "      <td>T's Restaurant Tantanmen</td>\n",
       "      <td>Cup</td>\n",
       "      <td>Japan</td>\n",
       "      <td>3.75</td>\n",
       "      <td>NaN</td>\n",
       "      <td>nan</td>\n",
       "    </tr>\n",
       "    <tr>\n",
       "      <th>1</th>\n",
       "      <td>2579</td>\n",
       "      <td>Just Way</td>\n",
       "      <td>Noodles Spicy Hot Sesame Spicy Hot Sesame Guan...</td>\n",
       "      <td>Pack</td>\n",
       "      <td>Taiwan</td>\n",
       "      <td>1.00</td>\n",
       "      <td>NaN</td>\n",
       "      <td>nan</td>\n",
       "    </tr>\n",
       "    <tr>\n",
       "      <th>2</th>\n",
       "      <td>2578</td>\n",
       "      <td>Nissin</td>\n",
       "      <td>Cup Noodles Chicken Vegetable</td>\n",
       "      <td>Cup</td>\n",
       "      <td>USA</td>\n",
       "      <td>2.25</td>\n",
       "      <td>NaN</td>\n",
       "      <td>nan</td>\n",
       "    </tr>\n",
       "    <tr>\n",
       "      <th>3</th>\n",
       "      <td>2577</td>\n",
       "      <td>Wei Lih</td>\n",
       "      <td>GGE Ramen Snack Tomato Flavor</td>\n",
       "      <td>Pack</td>\n",
       "      <td>Taiwan</td>\n",
       "      <td>2.75</td>\n",
       "      <td>NaN</td>\n",
       "      <td>nan</td>\n",
       "    </tr>\n",
       "    <tr>\n",
       "      <th>4</th>\n",
       "      <td>2576</td>\n",
       "      <td>Ching's Secret</td>\n",
       "      <td>Singapore Curry</td>\n",
       "      <td>Pack</td>\n",
       "      <td>India</td>\n",
       "      <td>3.75</td>\n",
       "      <td>NaN</td>\n",
       "      <td>nan</td>\n",
       "    </tr>\n",
       "    <tr>\n",
       "      <th>...</th>\n",
       "      <td>...</td>\n",
       "      <td>...</td>\n",
       "      <td>...</td>\n",
       "      <td>...</td>\n",
       "      <td>...</td>\n",
       "      <td>...</td>\n",
       "      <td>...</td>\n",
       "      <td>...</td>\n",
       "    </tr>\n",
       "    <tr>\n",
       "      <th>2575</th>\n",
       "      <td>5</td>\n",
       "      <td>Vifon</td>\n",
       "      <td>Hu Tiu Nam Vang [\"Phnom Penh\" style] Asian Sty...</td>\n",
       "      <td>Bowl</td>\n",
       "      <td>Vietnam</td>\n",
       "      <td>3.50</td>\n",
       "      <td>NaN</td>\n",
       "      <td>nan</td>\n",
       "    </tr>\n",
       "    <tr>\n",
       "      <th>2576</th>\n",
       "      <td>4</td>\n",
       "      <td>Wai Wai</td>\n",
       "      <td>Oriental Style Instant Noodles</td>\n",
       "      <td>Pack</td>\n",
       "      <td>Thailand</td>\n",
       "      <td>1.00</td>\n",
       "      <td>NaN</td>\n",
       "      <td>nan</td>\n",
       "    </tr>\n",
       "    <tr>\n",
       "      <th>2577</th>\n",
       "      <td>3</td>\n",
       "      <td>Wai Wai</td>\n",
       "      <td>Tom Yum Shrimp</td>\n",
       "      <td>Pack</td>\n",
       "      <td>Thailand</td>\n",
       "      <td>2.00</td>\n",
       "      <td>NaN</td>\n",
       "      <td>nan</td>\n",
       "    </tr>\n",
       "    <tr>\n",
       "      <th>2578</th>\n",
       "      <td>2</td>\n",
       "      <td>Wai Wai</td>\n",
       "      <td>Tom Yum Chili Flavor</td>\n",
       "      <td>Pack</td>\n",
       "      <td>Thailand</td>\n",
       "      <td>2.00</td>\n",
       "      <td>NaN</td>\n",
       "      <td>nan</td>\n",
       "    </tr>\n",
       "    <tr>\n",
       "      <th>2579</th>\n",
       "      <td>1</td>\n",
       "      <td>Westbrae</td>\n",
       "      <td>Miso Ramen</td>\n",
       "      <td>Pack</td>\n",
       "      <td>USA</td>\n",
       "      <td>0.50</td>\n",
       "      <td>NaN</td>\n",
       "      <td>nan</td>\n",
       "    </tr>\n",
       "  </tbody>\n",
       "</table>\n",
       "<p>2580 rows × 8 columns</p>\n",
       "</div>"
      ],
      "text/plain": [
       "      Review #           Brand  \\\n",
       "0         2580       New Touch   \n",
       "1         2579        Just Way   \n",
       "2         2578          Nissin   \n",
       "3         2577         Wei Lih   \n",
       "4         2576  Ching's Secret   \n",
       "...        ...             ...   \n",
       "2575         5           Vifon   \n",
       "2576         4         Wai Wai   \n",
       "2577         3         Wai Wai   \n",
       "2578         2         Wai Wai   \n",
       "2579         1        Westbrae   \n",
       "\n",
       "                                                Variety Style   Country  \\\n",
       "0                             T's Restaurant Tantanmen    Cup     Japan   \n",
       "1     Noodles Spicy Hot Sesame Spicy Hot Sesame Guan...  Pack    Taiwan   \n",
       "2                         Cup Noodles Chicken Vegetable   Cup       USA   \n",
       "3                         GGE Ramen Snack Tomato Flavor  Pack    Taiwan   \n",
       "4                                       Singapore Curry  Pack     India   \n",
       "...                                                 ...   ...       ...   \n",
       "2575  Hu Tiu Nam Vang [\"Phnom Penh\" style] Asian Sty...  Bowl   Vietnam   \n",
       "2576                     Oriental Style Instant Noodles  Pack  Thailand   \n",
       "2577                                     Tom Yum Shrimp  Pack  Thailand   \n",
       "2578                               Tom Yum Chili Flavor  Pack  Thailand   \n",
       "2579                                         Miso Ramen  Pack       USA   \n",
       "\n",
       "      Stars Top Ten Top_year  \n",
       "0      3.75     NaN      nan  \n",
       "1      1.00     NaN      nan  \n",
       "2      2.25     NaN      nan  \n",
       "3      2.75     NaN      nan  \n",
       "4      3.75     NaN      nan  \n",
       "...     ...     ...      ...  \n",
       "2575   3.50     NaN      nan  \n",
       "2576   1.00     NaN      nan  \n",
       "2577   2.00     NaN      nan  \n",
       "2578   2.00     NaN      nan  \n",
       "2579   0.50     NaN      nan  \n",
       "\n",
       "[2580 rows x 8 columns]"
      ]
     },
     "execution_count": 15,
     "metadata": {},
     "output_type": "execute_result"
    }
   ],
   "source": [
    "ramen['Top_year']=y\n",
    "ramen[ramen['Top_year'].isnull() == False]"
   ]
  },
  {
   "cell_type": "code",
   "execution_count": null,
   "metadata": {},
   "outputs": [],
   "source": []
  }
 ],
 "metadata": {
  "colab": {
   "name": "NPV_QB Solution Final Exam.ipynb",
   "provenance": []
  },
  "kernelspec": {
   "display_name": "Python 3 (ipykernel)",
   "language": "python",
   "name": "python3"
  },
  "language_info": {
   "codemirror_mode": {
    "name": "ipython",
    "version": 3
   },
   "file_extension": ".py",
   "mimetype": "text/x-python",
   "name": "python",
   "nbconvert_exporter": "python",
   "pygments_lexer": "ipython3",
   "version": "3.10.5"
  }
 },
 "nbformat": 4,
 "nbformat_minor": 1
}
