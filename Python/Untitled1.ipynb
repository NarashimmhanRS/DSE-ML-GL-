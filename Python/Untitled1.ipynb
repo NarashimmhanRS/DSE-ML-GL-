{
 "cells": [
  {
   "cell_type": "code",
   "execution_count": 5,
   "id": "76dd4c65",
   "metadata": {},
   "outputs": [],
   "source": [
    "import numpy as np"
   ]
  },
  {
   "cell_type": "code",
   "execution_count": 19,
   "id": "7c35fbb5",
   "metadata": {},
   "outputs": [],
   "source": [
    "a = np.random.random(50)"
   ]
  },
  {
   "cell_type": "code",
   "execution_count": 20,
   "id": "a6841de8",
   "metadata": {},
   "outputs": [
    {
     "data": {
      "text/plain": [
       "array([0.13533725, 0.25508592, 0.33917845, 0.88214364, 0.50025144,\n",
       "       0.51964283, 0.18942788, 0.65356991, 0.77582004, 0.80751879,\n",
       "       0.14889866, 0.71100374, 0.53001895, 0.03905639, 0.79136494,\n",
       "       0.76020182, 0.22188582, 0.08030307, 0.0097322 , 0.34010001,\n",
       "       0.78242842, 0.56316009, 0.84619138, 0.32157741, 0.14025526,\n",
       "       0.29649448, 0.69921058, 0.12405732, 0.75728232, 0.29727663,\n",
       "       0.91204781, 0.10182236, 0.45056441, 0.33077833, 0.59389994,\n",
       "       0.57029784, 0.88669129, 0.01517222, 0.96730267, 0.90489314,\n",
       "       0.81354256, 0.91748728, 0.51957479, 0.69880522, 0.90016674,\n",
       "       0.64234473, 0.28108102, 0.25215085, 0.31052119, 0.0992675 ])"
      ]
     },
     "execution_count": 20,
     "metadata": {},
     "output_type": "execute_result"
    }
   ],
   "source": [
    "a"
   ]
  },
  {
   "cell_type": "code",
   "execution_count": 21,
   "id": "000bee45",
   "metadata": {},
   "outputs": [],
   "source": [
    "a = {}"
   ]
  },
  {
   "cell_type": "code",
   "execution_count": 22,
   "id": "25aef955",
   "metadata": {},
   "outputs": [
    {
     "data": {
      "text/plain": [
       "dict"
      ]
     },
     "execution_count": 22,
     "metadata": {},
     "output_type": "execute_result"
    }
   ],
   "source": [
    "type(a)"
   ]
  },
  {
   "cell_type": "code",
   "execution_count": 27,
   "id": "0c1ae0eb",
   "metadata": {},
   "outputs": [
    {
     "name": "stdout",
     "output_type": "stream",
     "text": [
      "None\n"
     ]
    }
   ],
   "source": [
    "lt = [12,3,4,56]\n",
    "\n",
    "tp = (2,4,5)\n",
    "\n",
    "print(lt.append(tp))"
   ]
  },
  {
   "cell_type": "code",
   "execution_count": 32,
   "id": "8f5f690a",
   "metadata": {},
   "outputs": [],
   "source": [
    "lt[2] = 7"
   ]
  },
  {
   "cell_type": "code",
   "execution_count": 33,
   "id": "fa16e9fb",
   "metadata": {},
   "outputs": [
    {
     "data": {
      "text/plain": [
       "[12, 3, 7, 56, (2, 4, 5)]"
      ]
     },
     "execution_count": 33,
     "metadata": {},
     "output_type": "execute_result"
    }
   ],
   "source": [
    "lt"
   ]
  },
  {
   "cell_type": "code",
   "execution_count": 34,
   "id": "c80d98c5",
   "metadata": {},
   "outputs": [
    {
     "data": {
      "text/plain": [
       "[12, 3, (2, 4, 5), 56, (2, 4, 5)]"
      ]
     },
     "execution_count": 34,
     "metadata": {},
     "output_type": "execute_result"
    }
   ],
   "source": [
    "lt[2] =tp\n",
    "lt"
   ]
  },
  {
   "cell_type": "code",
   "execution_count": null,
   "id": "6ef9c51c",
   "metadata": {},
   "outputs": [],
   "source": [
    "df3 = df1.join(df2,)"
   ]
  },
  {
   "cell_type": "code",
   "execution_count": null,
   "id": "6445957e",
   "metadata": {},
   "outputs": [],
   "source": [
    "pd.concatenate(df1,df2,axis =0)"
   ]
  },
  {
   "cell_type": "code",
   "execution_count": null,
   "id": "c1fa0125",
   "metadata": {},
   "outputs": [],
   "source": [
    "substring(umberla,4)"
   ]
  },
  {
   "cell_type": "code",
   "execution_count": null,
   "id": "96b2d237",
   "metadata": {},
   "outputs": [],
   "source": [
    "select * from table1 group bby cl "
   ]
  },
  {
   "cell_type": "code",
   "execution_count": null,
   "id": "44fae8df",
   "metadata": {},
   "outputs": [],
   "source": [
    "select * from (seelct Top 2 sal from tabel order by sal desc)\n",
    "order by tabel asce \n",
    "\n"
   ]
  },
  {
   "cell_type": "code",
   "execution_count": null,
   "id": "16ad8b77",
   "metadata": {},
   "outputs": [],
   "source": [
    "umberla "
   ]
  },
  {
   "cell_type": "code",
   "execution_count": null,
   "id": "f13a2faf",
   "metadata": {},
   "outputs": [],
   "source": [
    "select * from table. "
   ]
  }
 ],
 "metadata": {
  "kernelspec": {
   "display_name": "Python 3 (ipykernel)",
   "language": "python",
   "name": "python3"
  },
  "language_info": {
   "codemirror_mode": {
    "name": "ipython",
    "version": 3
   },
   "file_extension": ".py",
   "mimetype": "text/x-python",
   "name": "python",
   "nbconvert_exporter": "python",
   "pygments_lexer": "ipython3",
   "version": "3.10.5"
  }
 },
 "nbformat": 4,
 "nbformat_minor": 5
}
