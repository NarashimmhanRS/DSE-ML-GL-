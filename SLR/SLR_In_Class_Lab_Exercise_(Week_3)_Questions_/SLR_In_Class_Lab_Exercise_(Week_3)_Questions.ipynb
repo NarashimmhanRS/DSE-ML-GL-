{
 "cells": [
  {
   "cell_type": "markdown",
   "metadata": {
    "id": "nhsKElFUTTfF"
   },
   "source": [
    "<table align=\"center\" width=100%>\n",
    "    <tr>\n",
    "        <td width=\"20%\">\n",
    "            <img src=\"in_class.png\">\n",
    "        </td>\n",
    "        <td>\n",
    "            <div align=\"center\">\n",
    "                <font color=\"#21618C\" size=8px>\n",
    "                    <b> Inclass - Lab <br>(Week 3)\n",
    "                    </b>\n",
    "                </font>\n",
    "            </div>\n",
    "        </td>\n",
    "        <td width=\"25%\">\n",
    "            <img src=\"GL-2.png\">\n",
    "        </td>\n",
    "    </tr>\n",
    "</table>"
   ]
  },
  {
   "cell_type": "markdown",
   "metadata": {
    "id": "tP5RfoZzTTfI"
   },
   "source": [
    "### About the data set  (Life Expectancy data)\n",
    "\n",
    "The dataset contains information about several health and economic factors that contribute to average life expectancy for different countries. <br> Attribute information: \n",
    "\n",
    "**Country:** Name of the country\n",
    "\n",
    "**Year:** Year the observations were recorded\n",
    "\n",
    "**Status:** Whether the country is Developed or Developing\n",
    "\n",
    "**Adult_Mortality:** Mortality rate for age group 15-60 out of every 1000 individuals of the population\n",
    "\n",
    "**Infant_Deaths:** Number of infant deaths per 1000 population\n",
    "\n",
    "**Alcohol:** Alcohol, recorded per capita (15+) consumption (in litres of pure alcohol)\n",
    "\n",
    "**Hepatitis B:** Hepatitis B (HepB) immunization coverage for 1 year olds (Percentage)\n",
    "\n",
    "**Measles:** Number of reported cases for measles per 1000 from population\n",
    "\n",
    "**BMI:** Average Body Mass Index for entire population\n",
    "\n",
    "**Underfive_Deaths:** Number of deaths under 5 years of age per 1000 population\n",
    "\n",
    "**Polio:** Polio (Pol3) immunization coverage for 1 year olds (Percentage)\n",
    "\n",
    "**Diphtheria:** Diphtheria tetanus toxoid and pertussis (DTP3) immunization coverage for 1 year olds (Percentage)\n",
    "\n",
    "**HIV:** Deaths per 1000 live births due to HIV/AIDS (0-4 years)\n",
    "\n",
    "**GDP:** Gross Domestic Product per capita (in USD)\n",
    "\n",
    "**Population:** Population of the country\n",
    "\n",
    "**Malnourished10_19:** Prevalence of malnutrition among children and adolescents for Age 10 to 19 (Percentage)\n",
    "\n",
    "**Malnourished5_9:** Prevalence of malnutrition among children for Age 5 to 9 (Percentage)\n",
    "\n",
    "**Income_Index:** Human Development Index (HDI) in terms of national income per capita (index ranging from 0 to 1)\n",
    "\n",
    "**Schooling:** Number of years of Schooling\n",
    "\n",
    "**Life_Expectancy:** Life Expectancy in age for the country\n"
   ]
  },
  {
   "cell_type": "markdown",
   "metadata": {
    "id": "DAeQrOfHTTfJ"
   },
   "source": [
    "##  Table of Content\n",
    "\n",
    "1. **[Data Preparation](#eda)**\n",
    "2. **[Linear Regression](#lf)**\n",
    "3. **[Gradient Descent](#gd)**\n",
    "4. **[Regularization](#reg)**\n",
    "5. **[Grid Search](#gs)**"
   ]
  },
  {
   "cell_type": "markdown",
   "metadata": {
    "id": "uTorue9GTTfJ"
   },
   "source": [
    "**Import the required libraries**"
   ]
  },
  {
   "cell_type": "code",
   "execution_count": null,
   "metadata": {
    "id": "wOylL_E_TTfJ"
   },
   "outputs": [],
   "source": [
    "# type your code here"
   ]
  },
  {
   "cell_type": "code",
   "execution_count": 1,
   "metadata": {},
   "outputs": [],
   "source": [
    "# import 'Pandas' \n",
    "import pandas as pd \n",
    "\n",
    "# import 'Numpy' \n",
    "import numpy as np\n",
    "\n",
    "# import subpackage of Matplotlib\n",
    "import matplotlib.pyplot as plt\n",
    "\n",
    "# import 'Seaborn' \n",
    "import seaborn as sns\n",
    "\n",
    "# to suppress warnings \n",
    "from warnings import filterwarnings\n",
    "filterwarnings('ignore')\n",
    "\n",
    "# display all columns of the dataframe\n",
    "pd.options.display.max_columns = None\n",
    "\n",
    "# display all rows of the dataframe\n",
    "pd.options.display.max_rows = None\n",
    " \n",
    "# to display the float values upto 6 decimal places     \n",
    "pd.options.display.float_format = '{:.6f}'.format\n",
    "\n",
    "# import train-test split \n",
    "from sklearn.model_selection import train_test_split\n",
    "\n",
    "# import various functions from statsmodels\n",
    "import statsmodels\n",
    "import statsmodels.api as sm\n",
    "\n",
    "# import 'stats'\n",
    "from scipy import stats\n",
    "\n",
    "# 'metrics' from sklearn is used for evaluating the model performance\n",
    "from sklearn.metrics import mean_squared_error\n",
    "from sklearn.metrics import mean_absolute_error\n",
    "\n",
    "\n",
    "# import function to perform linear regression\n",
    "from sklearn.linear_model import LinearRegression\n",
    "\n",
    "# import StandardScaler to perform scaling\n",
    "from sklearn.preprocessing import StandardScaler \n",
    "\n",
    "# import SGDRegressor from sklearn to perform linear regression with stochastic gradient descent\n",
    "from sklearn.linear_model import SGDRegressor\n",
    "\n",
    "# import function for ridge regression\n",
    "from sklearn.linear_model import Ridge\n",
    "\n",
    "# import function for lasso regression\n",
    "from sklearn.linear_model import Lasso\n",
    "\n",
    "# import function for elastic net regression\n",
    "from sklearn.linear_model import ElasticNet\n",
    "\n",
    "# import function to perform GridSearchCV\n",
    "from sklearn.model_selection import GridSearchCV"
   ]
  },
  {
   "cell_type": "code",
   "execution_count": 2,
   "metadata": {},
   "outputs": [],
   "source": [
    "# set the plot size using 'rcParams'\n",
    "# once the plot size is set using 'rcParams', it sets the size of all the forthcoming plots in the file\n",
    "# pass width and height in inches to 'figure.figsize' \n",
    "plt.rcParams['figure.figsize'] = [15,8]"
   ]
  },
  {
   "cell_type": "markdown",
   "metadata": {
    "id": "CR72_LOaTTfK"
   },
   "source": [
    "#### Load the Life expectancy dataset and display the first five records "
   ]
  },
  {
   "cell_type": "code",
   "execution_count": 16,
   "metadata": {
    "id": "vYMoelnBTTfK"
   },
   "outputs": [
    {
     "data": {
      "text/html": [
       "<div>\n",
       "<style scoped>\n",
       "    .dataframe tbody tr th:only-of-type {\n",
       "        vertical-align: middle;\n",
       "    }\n",
       "\n",
       "    .dataframe tbody tr th {\n",
       "        vertical-align: top;\n",
       "    }\n",
       "\n",
       "    .dataframe thead th {\n",
       "        text-align: right;\n",
       "    }\n",
       "</style>\n",
       "<table border=\"1\" class=\"dataframe\">\n",
       "  <thead>\n",
       "    <tr style=\"text-align: right;\">\n",
       "      <th></th>\n",
       "      <th>Country</th>\n",
       "      <th>Year</th>\n",
       "      <th>Status</th>\n",
       "      <th>Adult_Mortality</th>\n",
       "      <th>Infant_Deaths</th>\n",
       "      <th>Alcohol</th>\n",
       "      <th>Hepatitis B</th>\n",
       "      <th>Measles</th>\n",
       "      <th>BMI</th>\n",
       "      <th>Underfive_Deaths</th>\n",
       "      <th>Polio</th>\n",
       "      <th>Diphtheria</th>\n",
       "      <th>HIV</th>\n",
       "      <th>GDP</th>\n",
       "      <th>Population</th>\n",
       "      <th>Malnourished10_19</th>\n",
       "      <th>Malnourished5_9</th>\n",
       "      <th>Income_Index</th>\n",
       "      <th>Schooling</th>\n",
       "      <th>Life_Expectancy</th>\n",
       "    </tr>\n",
       "  </thead>\n",
       "  <tbody>\n",
       "    <tr>\n",
       "      <th>0</th>\n",
       "      <td>Afghanistan</td>\n",
       "      <td>2015</td>\n",
       "      <td>Developing</td>\n",
       "      <td>263.000000</td>\n",
       "      <td>62</td>\n",
       "      <td>0.010000</td>\n",
       "      <td>65.000000</td>\n",
       "      <td>1154</td>\n",
       "      <td>19.100000</td>\n",
       "      <td>83</td>\n",
       "      <td>6</td>\n",
       "      <td>65</td>\n",
       "      <td>0.100000</td>\n",
       "      <td>584.259210</td>\n",
       "      <td>33736494.000000</td>\n",
       "      <td>17.200000</td>\n",
       "      <td>17.300000</td>\n",
       "      <td>0.479000</td>\n",
       "      <td>10.100000</td>\n",
       "      <td>65.000000</td>\n",
       "    </tr>\n",
       "    <tr>\n",
       "      <th>1</th>\n",
       "      <td>Albania</td>\n",
       "      <td>2015</td>\n",
       "      <td>Developing</td>\n",
       "      <td>74.000000</td>\n",
       "      <td>0</td>\n",
       "      <td>4.600000</td>\n",
       "      <td>99.000000</td>\n",
       "      <td>0</td>\n",
       "      <td>58.000000</td>\n",
       "      <td>0</td>\n",
       "      <td>99</td>\n",
       "      <td>99</td>\n",
       "      <td>0.100000</td>\n",
       "      <td>3954.227830</td>\n",
       "      <td>28873.000000</td>\n",
       "      <td>1.200000</td>\n",
       "      <td>1.300000</td>\n",
       "      <td>0.762000</td>\n",
       "      <td>14.200000</td>\n",
       "      <td>77.800000</td>\n",
       "    </tr>\n",
       "    <tr>\n",
       "      <th>2</th>\n",
       "      <td>Algeria</td>\n",
       "      <td>2015</td>\n",
       "      <td>Developing</td>\n",
       "      <td>19.000000</td>\n",
       "      <td>21</td>\n",
       "      <td>NaN</td>\n",
       "      <td>95.000000</td>\n",
       "      <td>63</td>\n",
       "      <td>59.500000</td>\n",
       "      <td>24</td>\n",
       "      <td>95</td>\n",
       "      <td>95</td>\n",
       "      <td>0.100000</td>\n",
       "      <td>4132.762920</td>\n",
       "      <td>39871528.000000</td>\n",
       "      <td>6.000000</td>\n",
       "      <td>5.800000</td>\n",
       "      <td>0.743000</td>\n",
       "      <td>14.400000</td>\n",
       "      <td>75.600000</td>\n",
       "    </tr>\n",
       "    <tr>\n",
       "      <th>3</th>\n",
       "      <td>Angola</td>\n",
       "      <td>2015</td>\n",
       "      <td>Developing</td>\n",
       "      <td>335.000000</td>\n",
       "      <td>66</td>\n",
       "      <td>NaN</td>\n",
       "      <td>64.000000</td>\n",
       "      <td>118</td>\n",
       "      <td>23.300000</td>\n",
       "      <td>98</td>\n",
       "      <td>7</td>\n",
       "      <td>64</td>\n",
       "      <td>1.900000</td>\n",
       "      <td>3695.793748</td>\n",
       "      <td>2785935.000000</td>\n",
       "      <td>8.300000</td>\n",
       "      <td>8.200000</td>\n",
       "      <td>0.531000</td>\n",
       "      <td>11.400000</td>\n",
       "      <td>52.400000</td>\n",
       "    </tr>\n",
       "    <tr>\n",
       "      <th>4</th>\n",
       "      <td>Antigua</td>\n",
       "      <td>2015</td>\n",
       "      <td>Developing</td>\n",
       "      <td>13.000000</td>\n",
       "      <td>0</td>\n",
       "      <td>NaN</td>\n",
       "      <td>99.000000</td>\n",
       "      <td>0</td>\n",
       "      <td>47.700000</td>\n",
       "      <td>0</td>\n",
       "      <td>86</td>\n",
       "      <td>99</td>\n",
       "      <td>0.200000</td>\n",
       "      <td>13566.954100</td>\n",
       "      <td>NaN</td>\n",
       "      <td>3.300000</td>\n",
       "      <td>3.300000</td>\n",
       "      <td>0.784000</td>\n",
       "      <td>13.900000</td>\n",
       "      <td>76.400000</td>\n",
       "    </tr>\n",
       "  </tbody>\n",
       "</table>\n",
       "</div>"
      ],
      "text/plain": [
       "       Country  Year      Status  Adult_Mortality  Infant_Deaths  Alcohol  \\\n",
       "0  Afghanistan  2015  Developing       263.000000             62 0.010000   \n",
       "1      Albania  2015  Developing        74.000000              0 4.600000   \n",
       "2      Algeria  2015  Developing        19.000000             21      NaN   \n",
       "3       Angola  2015  Developing       335.000000             66      NaN   \n",
       "4      Antigua  2015  Developing        13.000000              0      NaN   \n",
       "\n",
       "   Hepatitis B  Measles        BMI  Underfive_Deaths   Polio  Diphtheria   \\\n",
       "0    65.000000      1154 19.100000                 83      6           65   \n",
       "1    99.000000         0 58.000000                  0     99           99   \n",
       "2    95.000000        63 59.500000                 24     95           95   \n",
       "3    64.000000       118 23.300000                 98      7           64   \n",
       "4    99.000000         0 47.700000                  0     86           99   \n",
       "\n",
       "       HIV          GDP      Population  Malnourished10_19  Malnourished5_9  \\\n",
       "0 0.100000   584.259210 33736494.000000          17.200000        17.300000   \n",
       "1 0.100000  3954.227830    28873.000000           1.200000         1.300000   \n",
       "2 0.100000  4132.762920 39871528.000000           6.000000         5.800000   \n",
       "3 1.900000  3695.793748  2785935.000000           8.300000         8.200000   \n",
       "4 0.200000 13566.954100             NaN           3.300000         3.300000   \n",
       "\n",
       "   Income_Index  Schooling  Life_Expectancy  \n",
       "0      0.479000  10.100000        65.000000  \n",
       "1      0.762000  14.200000        77.800000  \n",
       "2      0.743000  14.400000        75.600000  \n",
       "3      0.531000  11.400000        52.400000  \n",
       "4      0.784000  13.900000        76.400000  "
      ]
     },
     "execution_count": 16,
     "metadata": {},
     "output_type": "execute_result"
    }
   ],
   "source": [
    "# load the csv file\n",
    "\n",
    "# type your code here\n",
    "df = pd.read_csv('Life_Expectancy.csv')\n",
    "# display the first five observations\n",
    "\n",
    "# type your code here\n",
    "df.head()"
   ]
  },
  {
   "cell_type": "markdown",
   "metadata": {
    "id": "TN1i-ozcTTfK"
   },
   "source": [
    "#### Check the shape of the data and display its information"
   ]
  },
  {
   "cell_type": "code",
   "execution_count": 4,
   "metadata": {
    "id": "KpZcLNqfTTfL",
    "scrolled": true
   },
   "outputs": [
    {
     "data": {
      "text/plain": [
       "(182, 20)"
      ]
     },
     "execution_count": 4,
     "metadata": {},
     "output_type": "execute_result"
    }
   ],
   "source": [
    "# check the size of the dataframe\n",
    "df.shape"
   ]
  },
  {
   "cell_type": "code",
   "execution_count": 5,
   "metadata": {
    "id": "XbAATGuDTTfL"
   },
   "outputs": [
    {
     "name": "stdout",
     "output_type": "stream",
     "text": [
      "<class 'pandas.core.frame.DataFrame'>\n",
      "RangeIndex: 182 entries, 0 to 181\n",
      "Data columns (total 20 columns):\n",
      " #   Column             Non-Null Count  Dtype  \n",
      "---  ------             --------------  -----  \n",
      " 0   Country            182 non-null    object \n",
      " 1   Year               182 non-null    int64  \n",
      " 2   Status             182 non-null    object \n",
      " 3   Adult_Mortality    173 non-null    float64\n",
      " 4   Infant_Deaths      182 non-null    int64  \n",
      " 5   Alcohol            15 non-null     float64\n",
      " 6   Hepatitis B        173 non-null    float64\n",
      " 7   Measles            182 non-null    int64  \n",
      " 8   BMI                178 non-null    float64\n",
      " 9   Underfive_Deaths   182 non-null    int64  \n",
      " 10  Polio              182 non-null    int64  \n",
      " 11  Diphtheria         182 non-null    int64  \n",
      " 12  HIV                182 non-null    float64\n",
      " 13  GDP                157 non-null    float64\n",
      " 14  Population         141 non-null    float64\n",
      " 15  Malnourished10_19  178 non-null    float64\n",
      " 16  Malnourished5_9    178 non-null    float64\n",
      " 17  Income_Index       169 non-null    float64\n",
      " 18  Schooling          173 non-null    float64\n",
      " 19  Life_Expectancy    173 non-null    float64\n",
      "dtypes: float64(12), int64(6), object(2)\n",
      "memory usage: 28.6+ KB\n"
     ]
    }
   ],
   "source": [
    "# display dataset information understand the dataset\n",
    "\n",
    "# type your code here\n",
    "df.info()"
   ]
  },
  {
   "cell_type": "markdown",
   "metadata": {
    "id": "fbDZas9xTTfL"
   },
   "source": [
    "### Let's begin with some hands-on practice exercises"
   ]
  },
  {
   "cell_type": "markdown",
   "metadata": {
    "id": "zks9LqeeTTfL"
   },
   "source": [
    "<a id=\"eda\"> </a>\n",
    "## 1. Data Preparation"
   ]
  },
  {
   "cell_type": "markdown",
   "metadata": {
    "collapsed": true,
    "id": "ygMLafMZTTfL"
   },
   "source": [
    "<table align=\"left\">\n",
    "    <tr>\n",
    "        <td width=\"6%\">\n",
    "            <img src=\"question_icon.png\">\n",
    "        </td>\n",
    "        <td>\n",
    "            <div align=\"left\", style=\"font-size:120%\">\n",
    "                <font color=\"#21618C\">\n",
    "                    <b>1. The dataset gives the life expectancy for different countries. Check if any information about life expectancy is missing from the given records. How do we fix the problem if present?</b>\n",
    "                </font>\n",
    "            </div>\n",
    "        </td>\n",
    "    </tr>\n",
    "</table>"
   ]
  },
  {
   "cell_type": "code",
   "execution_count": 27,
   "metadata": {
    "id": "eXqbuW_yTTfM"
   },
   "outputs": [
    {
     "data": {
      "text/plain": [
       "0"
      ]
     },
     "execution_count": 27,
     "metadata": {},
     "output_type": "execute_result"
    }
   ],
   "source": [
    "# type your code here\n",
    "df['Life_Expectancy'].isnull().sum()"
   ]
  },
  {
   "cell_type": "code",
   "execution_count": 18,
   "metadata": {},
   "outputs": [],
   "source": [
    "na_data = df['Life_Expectancy'].isnull()"
   ]
  },
  {
   "cell_type": "code",
   "execution_count": 20,
   "metadata": {},
   "outputs": [
    {
     "data": {
      "text/plain": [
       "[46, 100, 104, 111, 118, 122, 135, 138, 168]"
      ]
     },
     "execution_count": 20,
     "metadata": {},
     "output_type": "execute_result"
    }
   ],
   "source": [
    "na_data.index[na_data == True].tolist()"
   ]
  },
  {
   "cell_type": "code",
   "execution_count": 25,
   "metadata": {},
   "outputs": [],
   "source": [
    "df = df.drop(df.index[[46, 100, 104, 111, 118, 122, 135, 138, 168]])"
   ]
  },
  {
   "cell_type": "code",
   "execution_count": 28,
   "metadata": {},
   "outputs": [
    {
     "data": {
      "text/plain": [
       "(173, 20)"
      ]
     },
     "execution_count": 28,
     "metadata": {},
     "output_type": "execute_result"
    }
   ],
   "source": [
    "df.shape"
   ]
  },
  {
   "cell_type": "markdown",
   "metadata": {
    "collapsed": true,
    "id": "7Amu2F5iTTfM"
   },
   "source": [
    "<table align=\"left\">\n",
    "    <tr>\n",
    "        <td width=\"6%\">\n",
    "            <img src=\"question_icon.png\">\n",
    "        </td>\n",
    "        <td>\n",
    "            <div align=\"left\", style=\"font-size:120%\">\n",
    "                <font color=\"#21618C\">\n",
    "                    <b>2. How do we handle the missing values from the entire dataset?</b>\n",
    "                </font>\n",
    "            </div>\n",
    "        </td>\n",
    "    </tr>\n",
    "</table>"
   ]
  },
  {
   "cell_type": "code",
   "execution_count": 30,
   "metadata": {
    "id": "FwEmZ1joTTfM"
   },
   "outputs": [
    {
     "data": {
      "text/plain": [
       "Country                0\n",
       "Year                   0\n",
       "Status                 0\n",
       "Adult_Mortality        0\n",
       "Infant_Deaths          0\n",
       "Alcohol              166\n",
       "Hepatitis B            9\n",
       "Measles                0\n",
       "BMI                    2\n",
       "Underfive_Deaths       0\n",
       "Polio                  0\n",
       "Diphtheria             0\n",
       "HIV                    0\n",
       "GDP                   21\n",
       "Population            34\n",
       "Malnourished10_19      2\n",
       "Malnourished5_9        2\n",
       "Income_Index           7\n",
       "Schooling              7\n",
       "Life_Expectancy        0\n",
       "dtype: int64"
      ]
     },
     "execution_count": 30,
     "metadata": {},
     "output_type": "execute_result"
    }
   ],
   "source": [
    "# type your code here\n",
    "df.isnull().sum()"
   ]
  },
  {
   "cell_type": "code",
   "execution_count": 46,
   "metadata": {},
   "outputs": [
    {
     "data": {
      "image/png": "[encoded data removed]",
      "text/plain": [
       "<Figure size 1080x576 with 9 Axes>"
      ]
     },
     "metadata": {
      "needs_background": "light"
     },
     "output_type": "display_data"
    }
   ],
   "source": [
    "df_missing_values = df[['Hepatitis B','BMI','GDP','Population','Malnourished10_19',\n",
    "                                'Malnourished5_9','Income_Index','Schooling']]\n",
    "\n",
    "# plot histogram of all variables which have missing values\n",
    "# set the number of bins to 20\n",
    "# set the figure size using 'figsize'\n",
    "df_missing_values.hist(bins = 20, figsize = (15,8))\n",
    "\n",
    "# adjust the subplots\n",
    "plt.tight_layout()\n",
    "\n",
    "# display the plot\n",
    "plt.show()"
   ]
  },
  {
   "cell_type": "code",
   "execution_count": 34,
   "metadata": {},
   "outputs": [],
   "source": [
    "df['Hepatitis B'] = df['Hepatitis B'].fillna(df['Hepatitis B'].median())"
   ]
  },
  {
   "cell_type": "code",
   "execution_count": 35,
   "metadata": {},
   "outputs": [],
   "source": [
    "df['BMI'] = df['BMI'].fillna(df['BMI'].mean())"
   ]
  },
  {
   "cell_type": "code",
   "execution_count": 36,
   "metadata": {},
   "outputs": [],
   "source": [
    "df['GDP'] = df['GDP'].fillna(df['GDP'].median())"
   ]
  },
  {
   "cell_type": "code",
   "execution_count": 37,
   "metadata": {},
   "outputs": [],
   "source": [
    "df['Population'] = df['Population'].fillna(df['Population'].median())"
   ]
  },
  {
   "cell_type": "code",
   "execution_count": 38,
   "metadata": {},
   "outputs": [],
   "source": [
    "df['Malnourished10_19'] = df['Malnourished10_19'].fillna(df['Malnourished10_19'].median())"
   ]
  },
  {
   "cell_type": "code",
   "execution_count": 39,
   "metadata": {},
   "outputs": [],
   "source": [
    "df['Malnourished5_9'] = df['Malnourished5_9'].fillna(df['Malnourished5_9'].median())"
   ]
  },
  {
   "cell_type": "code",
   "execution_count": 40,
   "metadata": {},
   "outputs": [],
   "source": [
    "df['Income_Index'] = df['Income_Index'].fillna(df['Income_Index'].mean())"
   ]
  },
  {
   "cell_type": "code",
   "execution_count": 41,
   "metadata": {},
   "outputs": [],
   "source": [
    "df['Schooling'] = df['Schooling'].fillna(df['Schooling'].mean())"
   ]
  },
  {
   "cell_type": "code",
   "execution_count": 42,
   "metadata": {},
   "outputs": [
    {
     "data": {
      "text/plain": [
       "Country                0\n",
       "Year                   0\n",
       "Status                 0\n",
       "Adult_Mortality        0\n",
       "Infant_Deaths          0\n",
       "Alcohol              166\n",
       "Hepatitis B            0\n",
       "Measles                0\n",
       "BMI                    0\n",
       "Underfive_Deaths       0\n",
       "Polio                  0\n",
       "Diphtheria             0\n",
       "HIV                    0\n",
       "GDP                    0\n",
       "Population             0\n",
       "Malnourished10_19      0\n",
       "Malnourished5_9        0\n",
       "Income_Index           0\n",
       "Schooling              0\n",
       "Life_Expectancy        0\n",
       "dtype: int64"
      ]
     },
     "execution_count": 42,
     "metadata": {},
     "output_type": "execute_result"
    }
   ],
   "source": [
    "df.isnull().sum()"
   ]
  },
  {
   "cell_type": "code",
   "execution_count": 44,
   "metadata": {},
   "outputs": [],
   "source": [
    "df.drop('Alcohol', axis=1, inplace=True)"
   ]
  },
  {
   "cell_type": "code",
   "execution_count": 45,
   "metadata": {},
   "outputs": [
    {
     "data": {
      "text/plain": [
       "Country              0\n",
       "Year                 0\n",
       "Status               0\n",
       "Adult_Mortality      0\n",
       "Infant_Deaths        0\n",
       "Hepatitis B          0\n",
       "Measles              0\n",
       "BMI                  0\n",
       "Underfive_Deaths     0\n",
       "Polio                0\n",
       "Diphtheria           0\n",
       "HIV                  0\n",
       "GDP                  0\n",
       "Population           0\n",
       "Malnourished10_19    0\n",
       "Malnourished5_9      0\n",
       "Income_Index         0\n",
       "Schooling            0\n",
       "Life_Expectancy      0\n",
       "dtype: int64"
      ]
     },
     "execution_count": 45,
     "metadata": {},
     "output_type": "execute_result"
    }
   ],
   "source": [
    "df.isnull().sum()"
   ]
  },
  {
   "cell_type": "markdown",
   "metadata": {
    "collapsed": true,
    "id": "Ded0aTCDTTfM"
   },
   "source": [
    "<table align=\"left\">\n",
    "    <tr>\n",
    "        <td width=\"6%\">\n",
    "            <img src=\"question_icon.png\">\n",
    "        </td>\n",
    "        <td>\n",
    "            <div align=\"left\", style=\"font-size:120%\">\n",
    "                <font color=\"#21618C\">\n",
    "                    <b>3. Are there any redundant features in the data?</b>\n",
    "                </font>\n",
    "            </div>\n",
    "        </td>\n",
    "    </tr>\n",
    "</table>"
   ]
  },
  {
   "cell_type": "code",
   "execution_count": 47,
   "metadata": {
    "id": "3URx761fTTfN"
   },
   "outputs": [
    {
     "data": {
      "text/html": [
       "<div>\n",
       "<style scoped>\n",
       "    .dataframe tbody tr th:only-of-type {\n",
       "        vertical-align: middle;\n",
       "    }\n",
       "\n",
       "    .dataframe tbody tr th {\n",
       "        vertical-align: top;\n",
       "    }\n",
       "\n",
       "    .dataframe thead th {\n",
       "        text-align: right;\n",
       "    }\n",
       "</style>\n",
       "<table border=\"1\" class=\"dataframe\">\n",
       "  <thead>\n",
       "    <tr style=\"text-align: right;\">\n",
       "      <th></th>\n",
       "      <th>Country</th>\n",
       "      <th>Status</th>\n",
       "    </tr>\n",
       "  </thead>\n",
       "  <tbody>\n",
       "    <tr>\n",
       "      <th>count</th>\n",
       "      <td>173</td>\n",
       "      <td>173</td>\n",
       "    </tr>\n",
       "    <tr>\n",
       "      <th>unique</th>\n",
       "      <td>173</td>\n",
       "      <td>2</td>\n",
       "    </tr>\n",
       "    <tr>\n",
       "      <th>top</th>\n",
       "      <td>Afghanistan</td>\n",
       "      <td>Developing</td>\n",
       "    </tr>\n",
       "    <tr>\n",
       "      <th>freq</th>\n",
       "      <td>1</td>\n",
       "      <td>141</td>\n",
       "    </tr>\n",
       "  </tbody>\n",
       "</table>\n",
       "</div>"
      ],
      "text/plain": [
       "            Country      Status\n",
       "count           173         173\n",
       "unique          173           2\n",
       "top     Afghanistan  Developing\n",
       "freq              1         141"
      ]
     },
     "execution_count": 47,
     "metadata": {},
     "output_type": "execute_result"
    }
   ],
   "source": [
    "# type your code here\n",
    "df.describe(include='object')"
   ]
  },
  {
   "cell_type": "code",
   "execution_count": 48,
   "metadata": {},
   "outputs": [],
   "source": [
    "df.drop('Country', axis=1, inplace=True)"
   ]
  },
  {
   "cell_type": "code",
   "execution_count": 49,
   "metadata": {},
   "outputs": [
    {
     "data": {
      "text/html": [
       "<div>\n",
       "<style scoped>\n",
       "    .dataframe tbody tr th:only-of-type {\n",
       "        vertical-align: middle;\n",
       "    }\n",
       "\n",
       "    .dataframe tbody tr th {\n",
       "        vertical-align: top;\n",
       "    }\n",
       "\n",
       "    .dataframe thead th {\n",
       "        text-align: right;\n",
       "    }\n",
       "</style>\n",
       "<table border=\"1\" class=\"dataframe\">\n",
       "  <thead>\n",
       "    <tr style=\"text-align: right;\">\n",
       "      <th></th>\n",
       "      <th>Year</th>\n",
       "      <th>Adult_Mortality</th>\n",
       "      <th>Infant_Deaths</th>\n",
       "      <th>Hepatitis B</th>\n",
       "      <th>Measles</th>\n",
       "      <th>BMI</th>\n",
       "      <th>Underfive_Deaths</th>\n",
       "      <th>Polio</th>\n",
       "      <th>Diphtheria</th>\n",
       "      <th>HIV</th>\n",
       "      <th>GDP</th>\n",
       "      <th>Population</th>\n",
       "      <th>Malnourished10_19</th>\n",
       "      <th>Malnourished5_9</th>\n",
       "      <th>Income_Index</th>\n",
       "      <th>Schooling</th>\n",
       "      <th>Life_Expectancy</th>\n",
       "    </tr>\n",
       "  </thead>\n",
       "  <tbody>\n",
       "    <tr>\n",
       "      <th>count</th>\n",
       "      <td>173.000000</td>\n",
       "      <td>173.000000</td>\n",
       "      <td>173.000000</td>\n",
       "      <td>173.000000</td>\n",
       "      <td>173.000000</td>\n",
       "      <td>173.000000</td>\n",
       "      <td>173.000000</td>\n",
       "      <td>173.000000</td>\n",
       "      <td>173.000000</td>\n",
       "      <td>173.000000</td>\n",
       "      <td>173.000000</td>\n",
       "      <td>173.000000</td>\n",
       "      <td>173.000000</td>\n",
       "      <td>173.000000</td>\n",
       "      <td>173.000000</td>\n",
       "      <td>173.000000</td>\n",
       "      <td>173.000000</td>\n",
       "    </tr>\n",
       "    <tr>\n",
       "      <th>mean</th>\n",
       "      <td>2014.988439</td>\n",
       "      <td>149.971098</td>\n",
       "      <td>22.872832</td>\n",
       "      <td>82.716763</td>\n",
       "      <td>1559.208092</td>\n",
       "      <td>43.466667</td>\n",
       "      <td>30.352601</td>\n",
       "      <td>83.040462</td>\n",
       "      <td>84.508671</td>\n",
       "      <td>0.647399</td>\n",
       "      <td>6764.134560</td>\n",
       "      <td>9663690.310289</td>\n",
       "      <td>4.492486</td>\n",
       "      <td>4.539306</td>\n",
       "      <td>0.695627</td>\n",
       "      <td>12.995783</td>\n",
       "      <td>72.007514</td>\n",
       "    </tr>\n",
       "    <tr>\n",
       "      <th>std</th>\n",
       "      <td>0.152057</td>\n",
       "      <td>95.679846</td>\n",
       "      <td>84.268577</td>\n",
       "      <td>24.066903</td>\n",
       "      <td>8055.443243</td>\n",
       "      <td>20.378109</td>\n",
       "      <td>108.428722</td>\n",
       "      <td>24.833951</td>\n",
       "      <td>22.687364</td>\n",
       "      <td>1.361795</td>\n",
       "      <td>11095.340318</td>\n",
       "      <td>26505222.081520</td>\n",
       "      <td>4.131178</td>\n",
       "      <td>4.217814</td>\n",
       "      <td>0.150721</td>\n",
       "      <td>2.879849</td>\n",
       "      <td>8.032405</td>\n",
       "    </tr>\n",
       "    <tr>\n",
       "      <th>min</th>\n",
       "      <td>2013.000000</td>\n",
       "      <td>1.000000</td>\n",
       "      <td>0.000000</td>\n",
       "      <td>6.000000</td>\n",
       "      <td>0.000000</td>\n",
       "      <td>2.500000</td>\n",
       "      <td>0.000000</td>\n",
       "      <td>5.000000</td>\n",
       "      <td>6.000000</td>\n",
       "      <td>0.100000</td>\n",
       "      <td>33.681223</td>\n",
       "      <td>2966.000000</td>\n",
       "      <td>0.100000</td>\n",
       "      <td>0.100000</td>\n",
       "      <td>0.347000</td>\n",
       "      <td>4.900000</td>\n",
       "      <td>51.000000</td>\n",
       "    </tr>\n",
       "    <tr>\n",
       "      <th>25%</th>\n",
       "      <td>2015.000000</td>\n",
       "      <td>74.000000</td>\n",
       "      <td>0.000000</td>\n",
       "      <td>81.000000</td>\n",
       "      <td>0.000000</td>\n",
       "      <td>24.400000</td>\n",
       "      <td>0.000000</td>\n",
       "      <td>84.000000</td>\n",
       "      <td>84.000000</td>\n",
       "      <td>0.100000</td>\n",
       "      <td>918.677154</td>\n",
       "      <td>587482.000000</td>\n",
       "      <td>1.500000</td>\n",
       "      <td>1.500000</td>\n",
       "      <td>0.576000</td>\n",
       "      <td>11.100000</td>\n",
       "      <td>66.200000</td>\n",
       "    </tr>\n",
       "    <tr>\n",
       "      <th>50%</th>\n",
       "      <td>2015.000000</td>\n",
       "      <td>137.000000</td>\n",
       "      <td>2.000000</td>\n",
       "      <td>93.000000</td>\n",
       "      <td>16.000000</td>\n",
       "      <td>51.000000</td>\n",
       "      <td>3.000000</td>\n",
       "      <td>93.000000</td>\n",
       "      <td>94.000000</td>\n",
       "      <td>0.100000</td>\n",
       "      <td>3124.343998</td>\n",
       "      <td>2174645.000000</td>\n",
       "      <td>3.300000</td>\n",
       "      <td>3.300000</td>\n",
       "      <td>0.723000</td>\n",
       "      <td>13.100000</td>\n",
       "      <td>74.100000</td>\n",
       "    </tr>\n",
       "    <tr>\n",
       "      <th>75%</th>\n",
       "      <td>2015.000000</td>\n",
       "      <td>199.000000</td>\n",
       "      <td>17.000000</td>\n",
       "      <td>97.000000</td>\n",
       "      <td>212.000000</td>\n",
       "      <td>61.600000</td>\n",
       "      <td>21.000000</td>\n",
       "      <td>97.000000</td>\n",
       "      <td>97.000000</td>\n",
       "      <td>0.300000</td>\n",
       "      <td>6461.192554</td>\n",
       "      <td>7177991.000000</td>\n",
       "      <td>6.400000</td>\n",
       "      <td>6.400000</td>\n",
       "      <td>0.798000</td>\n",
       "      <td>15.000000</td>\n",
       "      <td>77.100000</td>\n",
       "    </tr>\n",
       "    <tr>\n",
       "      <th>max</th>\n",
       "      <td>2015.000000</td>\n",
       "      <td>484.000000</td>\n",
       "      <td>910.000000</td>\n",
       "      <td>99.000000</td>\n",
       "      <td>90387.000000</td>\n",
       "      <td>77.600000</td>\n",
       "      <td>1100.000000</td>\n",
       "      <td>99.000000</td>\n",
       "      <td>99.000000</td>\n",
       "      <td>9.300000</td>\n",
       "      <td>66346.522670</td>\n",
       "      <td>258162113.000000</td>\n",
       "      <td>26.700000</td>\n",
       "      <td>27.300000</td>\n",
       "      <td>0.948000</td>\n",
       "      <td>20.400000</td>\n",
       "      <td>88.000000</td>\n",
       "    </tr>\n",
       "  </tbody>\n",
       "</table>\n",
       "</div>"
      ],
      "text/plain": [
       "             Year  Adult_Mortality  Infant_Deaths  Hepatitis B     Measles   \\\n",
       "count  173.000000       173.000000     173.000000   173.000000   173.000000   \n",
       "mean  2014.988439       149.971098      22.872832    82.716763  1559.208092   \n",
       "std      0.152057        95.679846      84.268577    24.066903  8055.443243   \n",
       "min   2013.000000         1.000000       0.000000     6.000000     0.000000   \n",
       "25%   2015.000000        74.000000       0.000000    81.000000     0.000000   \n",
       "50%   2015.000000       137.000000       2.000000    93.000000    16.000000   \n",
       "75%   2015.000000       199.000000      17.000000    97.000000   212.000000   \n",
       "max   2015.000000       484.000000     910.000000    99.000000 90387.000000   \n",
       "\n",
       "             BMI  Underfive_Deaths       Polio  Diphtheria         HIV  \\\n",
       "count 173.000000         173.000000 173.000000   173.000000 173.000000   \n",
       "mean   43.466667          30.352601  83.040462    84.508671   0.647399   \n",
       "std    20.378109         108.428722  24.833951    22.687364   1.361795   \n",
       "min     2.500000           0.000000   5.000000     6.000000   0.100000   \n",
       "25%    24.400000           0.000000  84.000000    84.000000   0.100000   \n",
       "50%    51.000000           3.000000  93.000000    94.000000   0.100000   \n",
       "75%    61.600000          21.000000  97.000000    97.000000   0.300000   \n",
       "max    77.600000        1100.000000  99.000000    99.000000   9.300000   \n",
       "\n",
       "               GDP       Population  Malnourished10_19  Malnourished5_9  \\\n",
       "count   173.000000       173.000000         173.000000       173.000000   \n",
       "mean   6764.134560   9663690.310289           4.492486         4.539306   \n",
       "std   11095.340318  26505222.081520           4.131178         4.217814   \n",
       "min      33.681223      2966.000000           0.100000         0.100000   \n",
       "25%     918.677154    587482.000000           1.500000         1.500000   \n",
       "50%    3124.343998   2174645.000000           3.300000         3.300000   \n",
       "75%    6461.192554   7177991.000000           6.400000         6.400000   \n",
       "max   66346.522670 258162113.000000          26.700000        27.300000   \n",
       "\n",
       "       Income_Index  Schooling  Life_Expectancy  \n",
       "count    173.000000 173.000000       173.000000  \n",
       "mean       0.695627  12.995783        72.007514  \n",
       "std        0.150721   2.879849         8.032405  \n",
       "min        0.347000   4.900000        51.000000  \n",
       "25%        0.576000  11.100000        66.200000  \n",
       "50%        0.723000  13.100000        74.100000  \n",
       "75%        0.798000  15.000000        77.100000  \n",
       "max        0.948000  20.400000        88.000000  "
      ]
     },
     "execution_count": 49,
     "metadata": {},
     "output_type": "execute_result"
    }
   ],
   "source": [
    "df.describe()"
   ]
  },
  {
   "cell_type": "code",
   "execution_count": 50,
   "metadata": {},
   "outputs": [
    {
     "data": {
      "text/plain": [
       "2015    172\n",
       "2013      1\n",
       "Name: Year, dtype: int64"
      ]
     },
     "execution_count": 50,
     "metadata": {},
     "output_type": "execute_result"
    }
   ],
   "source": [
    "df['Year'].value_counts()"
   ]
  },
  {
   "cell_type": "code",
   "execution_count": 51,
   "metadata": {},
   "outputs": [],
   "source": [
    "df.drop('Year', axis=1, inplace=True)"
   ]
  },
  {
   "cell_type": "code",
   "execution_count": 52,
   "metadata": {},
   "outputs": [],
   "source": [
    "df.drop('Infant_Deaths', axis=1, inplace=True)"
   ]
  },
  {
   "cell_type": "code",
   "execution_count": 53,
   "metadata": {},
   "outputs": [
    {
     "data": {
      "text/plain": [
       "(173, 16)"
      ]
     },
     "execution_count": 53,
     "metadata": {},
     "output_type": "execute_result"
    }
   ],
   "source": [
    "df.shape"
   ]
  },
  {
   "cell_type": "markdown",
   "metadata": {
    "collapsed": true,
    "id": "5BRvL0DRTTfN"
   },
   "source": [
    "<table align=\"left\">\n",
    "    <tr>\n",
    "        <td width=\"6%\">\n",
    "            <img src=\"question_icon.png\">\n",
    "        </td>\n",
    "        <td>\n",
    "            <div align=\"left\", style=\"font-size:120%\">\n",
    "                <font color=\"#21618C\">\n",
    "                    <b>4. Perform dummy encoding for appropriate variables of the dataset if required</b>\n",
    "                </font>\n",
    "            </div>\n",
    "        </td>\n",
    "    </tr>\n",
    "</table>"
   ]
  },
  {
   "cell_type": "code",
   "execution_count": 54,
   "metadata": {
    "id": "nJtfCyVATTfN",
    "scrolled": true
   },
   "outputs": [],
   "source": [
    "# type your code here\n",
    "df['Status'] = pd.get_dummies(data=df['Status'],drop_first=True)"
   ]
  },
  {
   "cell_type": "code",
   "execution_count": 55,
   "metadata": {},
   "outputs": [
    {
     "data": {
      "text/html": [
       "<div>\n",
       "<style scoped>\n",
       "    .dataframe tbody tr th:only-of-type {\n",
       "        vertical-align: middle;\n",
       "    }\n",
       "\n",
       "    .dataframe tbody tr th {\n",
       "        vertical-align: top;\n",
       "    }\n",
       "\n",
       "    .dataframe thead th {\n",
       "        text-align: right;\n",
       "    }\n",
       "</style>\n",
       "<table border=\"1\" class=\"dataframe\">\n",
       "  <thead>\n",
       "    <tr style=\"text-align: right;\">\n",
       "      <th></th>\n",
       "      <th>Status</th>\n",
       "      <th>Adult_Mortality</th>\n",
       "      <th>Hepatitis B</th>\n",
       "      <th>Measles</th>\n",
       "      <th>BMI</th>\n",
       "      <th>Underfive_Deaths</th>\n",
       "      <th>Polio</th>\n",
       "      <th>Diphtheria</th>\n",
       "      <th>HIV</th>\n",
       "      <th>GDP</th>\n",
       "      <th>Population</th>\n",
       "      <th>Malnourished10_19</th>\n",
       "      <th>Malnourished5_9</th>\n",
       "      <th>Income_Index</th>\n",
       "      <th>Schooling</th>\n",
       "      <th>Life_Expectancy</th>\n",
       "    </tr>\n",
       "  </thead>\n",
       "  <tbody>\n",
       "    <tr>\n",
       "      <th>0</th>\n",
       "      <td>1</td>\n",
       "      <td>263.000000</td>\n",
       "      <td>65.000000</td>\n",
       "      <td>1154</td>\n",
       "      <td>19.100000</td>\n",
       "      <td>83</td>\n",
       "      <td>6</td>\n",
       "      <td>65</td>\n",
       "      <td>0.100000</td>\n",
       "      <td>584.259210</td>\n",
       "      <td>33736494.000000</td>\n",
       "      <td>17.200000</td>\n",
       "      <td>17.300000</td>\n",
       "      <td>0.479000</td>\n",
       "      <td>10.100000</td>\n",
       "      <td>65.000000</td>\n",
       "    </tr>\n",
       "    <tr>\n",
       "      <th>1</th>\n",
       "      <td>1</td>\n",
       "      <td>74.000000</td>\n",
       "      <td>99.000000</td>\n",
       "      <td>0</td>\n",
       "      <td>58.000000</td>\n",
       "      <td>0</td>\n",
       "      <td>99</td>\n",
       "      <td>99</td>\n",
       "      <td>0.100000</td>\n",
       "      <td>3954.227830</td>\n",
       "      <td>28873.000000</td>\n",
       "      <td>1.200000</td>\n",
       "      <td>1.300000</td>\n",
       "      <td>0.762000</td>\n",
       "      <td>14.200000</td>\n",
       "      <td>77.800000</td>\n",
       "    </tr>\n",
       "    <tr>\n",
       "      <th>2</th>\n",
       "      <td>1</td>\n",
       "      <td>19.000000</td>\n",
       "      <td>95.000000</td>\n",
       "      <td>63</td>\n",
       "      <td>59.500000</td>\n",
       "      <td>24</td>\n",
       "      <td>95</td>\n",
       "      <td>95</td>\n",
       "      <td>0.100000</td>\n",
       "      <td>4132.762920</td>\n",
       "      <td>39871528.000000</td>\n",
       "      <td>6.000000</td>\n",
       "      <td>5.800000</td>\n",
       "      <td>0.743000</td>\n",
       "      <td>14.400000</td>\n",
       "      <td>75.600000</td>\n",
       "    </tr>\n",
       "    <tr>\n",
       "      <th>3</th>\n",
       "      <td>1</td>\n",
       "      <td>335.000000</td>\n",
       "      <td>64.000000</td>\n",
       "      <td>118</td>\n",
       "      <td>23.300000</td>\n",
       "      <td>98</td>\n",
       "      <td>7</td>\n",
       "      <td>64</td>\n",
       "      <td>1.900000</td>\n",
       "      <td>3695.793748</td>\n",
       "      <td>2785935.000000</td>\n",
       "      <td>8.300000</td>\n",
       "      <td>8.200000</td>\n",
       "      <td>0.531000</td>\n",
       "      <td>11.400000</td>\n",
       "      <td>52.400000</td>\n",
       "    </tr>\n",
       "    <tr>\n",
       "      <th>4</th>\n",
       "      <td>1</td>\n",
       "      <td>13.000000</td>\n",
       "      <td>99.000000</td>\n",
       "      <td>0</td>\n",
       "      <td>47.700000</td>\n",
       "      <td>0</td>\n",
       "      <td>86</td>\n",
       "      <td>99</td>\n",
       "      <td>0.200000</td>\n",
       "      <td>13566.954100</td>\n",
       "      <td>2174645.000000</td>\n",
       "      <td>3.300000</td>\n",
       "      <td>3.300000</td>\n",
       "      <td>0.784000</td>\n",
       "      <td>13.900000</td>\n",
       "      <td>76.400000</td>\n",
       "    </tr>\n",
       "  </tbody>\n",
       "</table>\n",
       "</div>"
      ],
      "text/plain": [
       "   Status  Adult_Mortality  Hepatitis B  Measles        BMI  \\\n",
       "0       1       263.000000    65.000000      1154 19.100000   \n",
       "1       1        74.000000    99.000000         0 58.000000   \n",
       "2       1        19.000000    95.000000        63 59.500000   \n",
       "3       1       335.000000    64.000000       118 23.300000   \n",
       "4       1        13.000000    99.000000         0 47.700000   \n",
       "\n",
       "   Underfive_Deaths   Polio  Diphtheria       HIV          GDP  \\\n",
       "0                 83      6           65 0.100000   584.259210   \n",
       "1                  0     99           99 0.100000  3954.227830   \n",
       "2                 24     95           95 0.100000  4132.762920   \n",
       "3                 98      7           64 1.900000  3695.793748   \n",
       "4                  0     86           99 0.200000 13566.954100   \n",
       "\n",
       "       Population  Malnourished10_19  Malnourished5_9  Income_Index  \\\n",
       "0 33736494.000000          17.200000        17.300000      0.479000   \n",
       "1    28873.000000           1.200000         1.300000      0.762000   \n",
       "2 39871528.000000           6.000000         5.800000      0.743000   \n",
       "3  2785935.000000           8.300000         8.200000      0.531000   \n",
       "4  2174645.000000           3.300000         3.300000      0.784000   \n",
       "\n",
       "   Schooling  Life_Expectancy  \n",
       "0  10.100000        65.000000  \n",
       "1  14.200000        77.800000  \n",
       "2  14.400000        75.600000  \n",
       "3  11.400000        52.400000  \n",
       "4  13.900000        76.400000  "
      ]
     },
     "execution_count": 55,
     "metadata": {},
     "output_type": "execute_result"
    }
   ],
   "source": [
    "df.head()"
   ]
  },
  {
   "cell_type": "markdown",
   "metadata": {
    "id": "UqjvxeHUTTfN"
   },
   "source": [
    "<a id=\"lf\"> </a>\n",
    "## 2. Linear Regression"
   ]
  },
  {
   "cell_type": "markdown",
   "metadata": {
    "collapsed": true,
    "id": "uUzA8fLGTTfO"
   },
   "source": [
    "<table align=\"left\">\n",
    "    <tr>\n",
    "        <td width=\"6%\">\n",
    "            <img src=\"question_icon.png\">\n",
    "        </td>\n",
    "        <td>\n",
    "            <div align=\"left\", style=\"font-size:120%\">\n",
    "                <font color=\"#21618C\">\n",
    "                    <b>5.  Build a full model on the given data. Check whether the obtained residuals have constant variance\n",
    "</b>\n",
    "                </font>\n",
    "            </div>\n",
    "        </td>\n",
    "    </tr>\n",
    "</table>"
   ]
  },
  {
   "cell_type": "code",
   "execution_count": 56,
   "metadata": {
    "id": "wLxck87MTTfO"
   },
   "outputs": [],
   "source": [
    "# type your code here\n",
    "X = df.iloc[:,:15]\n",
    "X = sm.add_constant(X)\n",
    "y = df['Life_Expectancy']\n",
    "\n",
    "X_train, X_test, y_train, y_test = train_test_split(X, y, random_state=10, test_size=0.2)\n",
    "MLR_model = sm.OLS(y_train, X_train).fit()\n"
   ]
  },
  {
   "cell_type": "code",
   "execution_count": 58,
   "metadata": {},
   "outputs": [
    {
     "data": {
      "text/plain": [
       "<AxesSubplot:>"
      ]
     },
     "execution_count": 58,
     "metadata": {},
     "output_type": "execute_result"
    },
    {
     "data": {
      "image/png": "[encoded data removed]",
      "text/plain": [
       "<Figure size 1080x576 with 1 Axes>"
      ]
     },
     "metadata": {
      "needs_background": "light"
     },
     "output_type": "display_data"
    }
   ],
   "source": [
    "y_pred = MLR_model.fittedvalues\n",
    "residuals = MLR_model.resid\n",
    "sns.scatterplot(x=y_pred,y= residuals)"
   ]
  },
  {
   "cell_type": "code",
   "execution_count": null,
   "metadata": {},
   "outputs": [],
   "source": [
    "# There is no pattern seen in the scatterplot hence the data contains constant variance."
   ]
  },
  {
   "cell_type": "markdown",
   "metadata": {
    "collapsed": true,
    "id": "uOhy3Lv0TTfO"
   },
   "source": [
    "<table align=\"left\">\n",
    "    <tr>\n",
    "        <td width=\"6%\">\n",
    "            <img src=\"question_icon.png\">\n",
    "        </td>\n",
    "        <td>\n",
    "            <div align=\"left\", style=\"font-size:120%\">\n",
    "                <font color=\"#21618C\">\n",
    "                    <b>6. Build a model to study the impact of immunization on life expectancy, using least squares regression. Find the unexplained variation for the model\n",
    "</b>\n",
    "                </font>\n",
    "            </div>\n",
    "        </td>\n",
    "    </tr>\n",
    "</table>"
   ]
  },
  {
   "cell_type": "code",
   "execution_count": 59,
   "metadata": {
    "id": "zOlQHyyLTTfP"
   },
   "outputs": [
    {
     "name": "stdout",
     "output_type": "stream",
     "text": [
      "7272.4649163342965\n"
     ]
    }
   ],
   "source": [
    "# type your code here\n",
    "X = df.iloc[:,[2,6,7]]\n",
    "y = df['Life_Expectancy']\n",
    "\n",
    "linreg = LinearRegression()\n",
    "MLR_model = linreg.fit(X,y)\n",
    "y_pred = MLR_model.predict(X)\n",
    "residual = np.array(y - y_pred)\n",
    "\n",
    "unexplained_var = np.sum(residual**2)\n",
    "print(unexplained_var)"
   ]
  },
  {
   "cell_type": "markdown",
   "metadata": {
    "collapsed": true,
    "id": "tQEZzqr_TTfP"
   },
   "source": [
    "<table align=\"left\">\n",
    "    <tr>\n",
    "        <td width=\"6%\">\n",
    "            <img src=\"question_icon.png\">\n",
    "        </td>\n",
    "        <td>\n",
    "            <div align=\"left\", style=\"font-size:120%\">\n",
    "                <font color=\"#21618C\">\n",
    "                    <b>7. Build a model to study the impact of malnutrition on life expectancy, using least squares regression. Interpret the coeffients</b>\n",
    "                </font>\n",
    "            </div>\n",
    "        </td>\n",
    "    </tr>\n",
    "</table>"
   ]
  },
  {
   "cell_type": "code",
   "execution_count": 60,
   "metadata": {
    "id": "tTey04rUTTfP"
   },
   "outputs": [
    {
     "data": {
      "text/html": [
       "<table class=\"simpletable\">\n",
       "<caption>OLS Regression Results</caption>\n",
       "<tr>\n",
       "  <th>Dep. Variable:</th>     <td>Life_Expectancy</td> <th>  R-squared:         </th> <td>   0.226</td>\n",
       "</tr>\n",
       "<tr>\n",
       "  <th>Model:</th>                   <td>OLS</td>       <th>  Adj. R-squared:    </th> <td>   0.214</td>\n",
       "</tr>\n",
       "<tr>\n",
       "  <th>Method:</th>             <td>Least Squares</td>  <th>  F-statistic:       </th> <td>   19.66</td>\n",
       "</tr>\n",
       "<tr>\n",
       "  <th>Date:</th>             <td>Sun, 19 Mar 2023</td> <th>  Prob (F-statistic):</th> <td>3.20e-08</td>\n",
       "</tr>\n",
       "<tr>\n",
       "  <th>Time:</th>                 <td>11:15:31</td>     <th>  Log-Likelihood:    </th> <td> -466.03</td>\n",
       "</tr>\n",
       "<tr>\n",
       "  <th>No. Observations:</th>      <td>   138</td>      <th>  AIC:               </th> <td>   938.1</td>\n",
       "</tr>\n",
       "<tr>\n",
       "  <th>Df Residuals:</th>          <td>   135</td>      <th>  BIC:               </th> <td>   946.8</td>\n",
       "</tr>\n",
       "<tr>\n",
       "  <th>Df Model:</th>              <td>     2</td>      <th>                     </th>     <td> </td>   \n",
       "</tr>\n",
       "<tr>\n",
       "  <th>Covariance Type:</th>      <td>nonrobust</td>    <th>                     </th>     <td> </td>   \n",
       "</tr>\n",
       "</table>\n",
       "<table class=\"simpletable\">\n",
       "<tr>\n",
       "          <td></td>             <th>coef</th>     <th>std err</th>      <th>t</th>      <th>P>|t|</th>  <th>[0.025</th>    <th>0.975]</th>  \n",
       "</tr>\n",
       "<tr>\n",
       "  <th>const</th>             <td>   76.3070</td> <td>    0.916</td> <td>   83.320</td> <td> 0.000</td> <td>   74.496</td> <td>   78.118</td>\n",
       "</tr>\n",
       "<tr>\n",
       "  <th>Malnourished10_19</th> <td>   -0.5024</td> <td>    0.769</td> <td>   -0.654</td> <td> 0.514</td> <td>   -2.023</td> <td>    1.018</td>\n",
       "</tr>\n",
       "<tr>\n",
       "  <th>Malnourished5_9</th>   <td>   -0.3930</td> <td>    0.754</td> <td>   -0.521</td> <td> 0.603</td> <td>   -1.884</td> <td>    1.098</td>\n",
       "</tr>\n",
       "</table>\n",
       "<table class=\"simpletable\">\n",
       "<tr>\n",
       "  <th>Omnibus:</th>       <td> 6.049</td> <th>  Durbin-Watson:     </th> <td>   1.840</td>\n",
       "</tr>\n",
       "<tr>\n",
       "  <th>Prob(Omnibus):</th> <td> 0.049</td> <th>  Jarque-Bera (JB):  </th> <td>   6.225</td>\n",
       "</tr>\n",
       "<tr>\n",
       "  <th>Skew:</th>          <td>-0.512</td> <th>  Prob(JB):          </th> <td>  0.0445</td>\n",
       "</tr>\n",
       "<tr>\n",
       "  <th>Kurtosis:</th>      <td> 2.820</td> <th>  Cond. No.          </th> <td>    16.1</td>\n",
       "</tr>\n",
       "</table><br/><br/>Notes:<br/>[1] Standard Errors assume that the covariance matrix of the errors is correctly specified."
      ],
      "text/plain": [
       "<class 'statsmodels.iolib.summary.Summary'>\n",
       "\"\"\"\n",
       "                            OLS Regression Results                            \n",
       "==============================================================================\n",
       "Dep. Variable:        Life_Expectancy   R-squared:                       0.226\n",
       "Model:                            OLS   Adj. R-squared:                  0.214\n",
       "Method:                 Least Squares   F-statistic:                     19.66\n",
       "Date:                Sun, 19 Mar 2023   Prob (F-statistic):           3.20e-08\n",
       "Time:                        11:15:31   Log-Likelihood:                -466.03\n",
       "No. Observations:                 138   AIC:                             938.1\n",
       "Df Residuals:                     135   BIC:                             946.8\n",
       "Df Model:                           2                                         \n",
       "Covariance Type:            nonrobust                                         \n",
       "=====================================================================================\n",
       "                        coef    std err          t      P>|t|      [0.025      0.975]\n",
       "-------------------------------------------------------------------------------------\n",
       "const                76.3070      0.916     83.320      0.000      74.496      78.118\n",
       "Malnourished10_19    -0.5024      0.769     -0.654      0.514      -2.023       1.018\n",
       "Malnourished5_9      -0.3930      0.754     -0.521      0.603      -1.884       1.098\n",
       "==============================================================================\n",
       "Omnibus:                        6.049   Durbin-Watson:                   1.840\n",
       "Prob(Omnibus):                  0.049   Jarque-Bera (JB):                6.225\n",
       "Skew:                          -0.512   Prob(JB):                       0.0445\n",
       "Kurtosis:                       2.820   Cond. No.                         16.1\n",
       "==============================================================================\n",
       "\n",
       "Notes:\n",
       "[1] Standard Errors assume that the covariance matrix of the errors is correctly specified.\n",
       "\"\"\""
      ]
     },
     "execution_count": 60,
     "metadata": {},
     "output_type": "execute_result"
    }
   ],
   "source": [
    "# type your code here\n",
    "X = df.iloc[:,[11,12]]\n",
    "X = sm.add_constant(X)\n",
    "y = df['Life_Expectancy']\n",
    "\n",
    "X_train, X_test, y_train, y_test = train_test_split(X, y, random_state=10, test_size=0.2)\n",
    "MLR_model = sm.OLS(y_train, X_train).fit()\n",
    "MLR_model.summary()"
   ]
  },
  {
   "cell_type": "markdown",
   "metadata": {
    "id": "brV-9Et9TTfP"
   },
   "source": [
    "<a id=\"gd\"> </a>\n",
    "## 3. Gradient Descent"
   ]
  },
  {
   "cell_type": "markdown",
   "metadata": {
    "collapsed": true,
    "id": "ZGuGe8BCTTfP"
   },
   "source": [
    "<table align=\"left\">\n",
    "    <tr>\n",
    "        <td width=\"6%\">\n",
    "            <img src=\"question_icon.png\">\n",
    "        </td>\n",
    "        <td>\n",
    "            <div align=\"left\", style=\"font-size:120%\">\n",
    "                <font color=\"#21618C\">\n",
    "                    <b>8. Build a model to study the influence of adult mortality rate on life expectancy using both the least squares regression and gradient descent approach. Are the fits for both the models different?</b>\n",
    "                </font>\n",
    "            </div>\n",
    "        </td>\n",
    "    </tr>\n",
    "</table>"
   ]
  },
  {
   "cell_type": "code",
   "execution_count": 61,
   "metadata": {
    "id": "z3kDeeSETTfQ"
   },
   "outputs": [],
   "source": [
    "# type your code here\n",
    "X = df.iloc[:,1].values\n",
    "X = X.reshape(-1,1)\n",
    "\n",
    "# set the dependent variable\n",
    "y = df['Life_Expectancy']\n",
    "\n",
    "# initialize the standard scalar\n",
    "X_scaler = StandardScaler()\n",
    "\n",
    "# standardize all the columns of df_lifeExp\n",
    "X = X_scaler.fit_transform(X)\n",
    "\n",
    "# standardize the target explicitly and storing it in a new variable 'y'\n",
    "y = (y - y.mean()) / y.std()\n",
    "\n",
    "# split data into train subset and test subset\n",
    "# set 'random_state' to generate the same dataset each time you run the code \n",
    "# 'test_size' returns the proportion of data to be included in the test set\n",
    "X_train, X_test, y_train, y_test = train_test_split(X, y, random_state = 10, test_size = 0.2)"
   ]
  },
  {
   "cell_type": "code",
   "execution_count": 62,
   "metadata": {},
   "outputs": [],
   "source": [
    "linreg = LinearRegression()\n",
    "MLR_model = linreg.fit(X_train,y_train)\n",
    "linpred = MLR_model.predict(X_train)"
   ]
  },
  {
   "cell_type": "code",
   "execution_count": 63,
   "metadata": {},
   "outputs": [],
   "source": [
    "sgd = SGDRegressor()\n",
    "MLR_model_sgd = sgd.fit(X_train,y_train)\n",
    "sgdpred = MLR_model_sgd.predict(X_train)"
   ]
  },
  {
   "cell_type": "code",
   "execution_count": 64,
   "metadata": {},
   "outputs": [
    {
     "data": {
      "image/png": "[encoded data removed]",
      "text/plain": [
       "<Figure size 720x504 with 1 Axes>"
      ]
     },
     "metadata": {
      "needs_background": "light"
     },
     "output_type": "display_data"
    }
   ],
   "source": [
    "# set the figure size \n",
    "plt.figure(figsize=(10,7))\n",
    "\n",
    "# plot the scatter plot\n",
    "# colors: set the color of the points in the scatter plot\n",
    "plt.scatter(X_train, y_train,color='grey')\n",
    "\n",
    "# set xlabel for the plot\n",
    "plt.xlabel(\"Adult Mortality Rate\",fontsize = 15)\n",
    "\n",
    "# set ylabel for the plot\n",
    "plt.ylabel(\"Life Expectancy\",fontsize = 15)\n",
    "\n",
    "# set title for the plot\n",
    "plt.title(\"Comparison of fits\",fontsize = 15)\n",
    "\n",
    "# plot the regression line for the two models\n",
    "# color: set the color of the line\n",
    "# label: set the label of the line for the legend\n",
    "plt.plot(X_train,sgdpred,color='red',label='SGD regressor')\n",
    "plt.plot(X_train,linpred,color='blue',label='Least squares regressor')\n",
    "\n",
    "# set the position of legend\n",
    "plt.legend(loc='upper left')\n",
    "\n",
    "# disply the plot\n",
    "plt.show()"
   ]
  },
  {
   "cell_type": "markdown",
   "metadata": {
    "collapsed": true,
    "id": "pjyuSLwjTTfQ"
   },
   "source": [
    "<table align=\"left\">\n",
    "    <tr>\n",
    "        <td width=\"6%\">\n",
    "            <img src=\"question_icon.png\">\n",
    "        </td>\n",
    "        <td>\n",
    "            <div align=\"left\", style=\"font-size:120%\">\n",
    "                <font color=\"#21618C\">\n",
    "                    <b>9. Build a model to analyze the influence of immunization on life expectancy. Use SGD and plot a horizontal multiple barchart to compare the values of beta coefficients with values obtained by the full model build least squares regression.</b>\n",
    "                </font>\n",
    "            </div>\n",
    "        </td>\n",
    "    </tr>\n",
    "</table>"
   ]
  },
  {
   "cell_type": "code",
   "execution_count": 68,
   "metadata": {
    "id": "nLCt7QfiTTfQ"
   },
   "outputs": [],
   "source": [
    "# type your code here\n",
    "X = df.iloc[:,[2,6,7]]\n",
    "\n",
    "\n",
    "# set the dependent variable\n",
    "y = df['Life_Expectancy']\n",
    "\n",
    "# initialize the standard scalar\n",
    "X_scaler = StandardScaler()\n",
    "\n",
    "# standardize all the columns of df_lifeExp\n",
    "X = X_scaler.fit_transform(X)\n",
    "\n",
    "# standardize the target explicitly and storing it in a new variable 'y'\n",
    "y = (y - y.mean()) / y.std()\n",
    "\n",
    "# split data into train subset and test subset\n",
    "# set 'random_state' to generate the same dataset each time you run the code \n",
    "# 'test_size' returns the proportion of data to be included in the test set\n",
    "X_train, X_test, y_train, y_test = train_test_split(X, y, random_state = 10, test_size = 0.2)"
   ]
  },
  {
   "cell_type": "code",
   "execution_count": 69,
   "metadata": {},
   "outputs": [],
   "source": [
    "sgd1 = SGDRegressor()\n",
    "MLR_model_sgd1 = sgd1.fit(X_train,y_train)"
   ]
  },
  {
   "cell_type": "code",
   "execution_count": 70,
   "metadata": {},
   "outputs": [],
   "source": [
    "linreg = LinearRegression()\n",
    "MLR_model1 = linreg.fit(X_train,y_train)"
   ]
  },
  {
   "cell_type": "code",
   "execution_count": 71,
   "metadata": {},
   "outputs": [
    {
     "data": {
      "image/png": "[encoded data removed]",
      "text/plain": [
       "<Figure size 720x504 with 1 Axes>"
      ]
     },
     "metadata": {
      "needs_background": "light"
     },
     "output_type": "display_data"
    }
   ],
   "source": [
    "df_immunization=df.iloc[:,[2,6,7]]\n",
    "\n",
    "df_coeff = pd.DataFrame([MLR_model1.coef_, MLR_model_sgd1.coef_], columns = df_immunization.columns, \n",
    "                 index = ['linreg_sklearn_coeff', 'linreg_SGD_coeff'])\n",
    "\n",
    "fig = df_coeff.T.plot.barh( figsize=(10,7))\n",
    "\n",
    "# set axes and plot labels\n",
    "# set the text size using 'fontsize'\n",
    "plt.title('Comparison of Coefficients', fontsize = 15)\n",
    "fig.set_xlabel('Features', fontsize = 15)\n",
    "fig.set_ylabel('Values', fontsize = 15)\n",
    "\n",
    "# set the x-axis labels horizontally\n",
    "plt.xticks(rotation = 'horizontal')\n",
    "\n",
    "# set the position of legend\n",
    "fig.legend(loc='upper left')\n",
    "\n",
    "# display the plot\n",
    "plt.show()"
   ]
  },
  {
   "cell_type": "code",
   "execution_count": null,
   "metadata": {},
   "outputs": [],
   "source": [
    "# For polio both the model interpretations are nearly similar\n",
    "# For diptheria the linreg coeff are higher than SGD.\n",
    "# For hepatitis B the SGD coeff are higher and the lin reg coeff have gone towards negative."
   ]
  },
  {
   "cell_type": "markdown",
   "metadata": {
    "collapsed": true,
    "id": "YGfn28ayTTfQ"
   },
   "source": [
    "<table align=\"left\">\n",
    "    <tr>\n",
    "        <td width=\"6%\">\n",
    "            <img src=\"question_icon.png\">\n",
    "        </td>\n",
    "        <td>\n",
    "            <div align=\"left\", style=\"font-size:120%\">\n",
    "                <font color=\"#21618C\">\n",
    "                    <b>10. Build a full model using least squares regression. Check whether the model overfits the training data or not.\n",
    "</b>\n",
    "                </font>\n",
    "            </div>\n",
    "        </td>\n",
    "    </tr>\n",
    "</table>"
   ]
  },
  {
   "cell_type": "code",
   "execution_count": 78,
   "metadata": {
    "id": "YqUHwmAwTTfQ"
   },
   "outputs": [],
   "source": [
    "# type your code here\n",
    "X = df.iloc[:,:15]\n",
    "y = df['Life_Expectancy']\n",
    "\n",
    "X_train, X_test, y_train, y_test = train_test_split(X, y, random_state = 10, test_size = 0.2)\n",
    "\n",
    "linreg = LinearRegression()\n",
    "MLR_model2 = linreg.fit(X_train,y_train)"
   ]
  },
  {
   "cell_type": "code",
   "execution_count": 79,
   "metadata": {},
   "outputs": [],
   "source": [
    "# Train\n",
    "train_pred = MLR_model2.predict(X_train)\n",
    "\n",
    "mse_train = mean_squared_error(y_train,train_pred)\n",
    "rmse_train = round(np.sqrt(mse_train),4)"
   ]
  },
  {
   "cell_type": "code",
   "execution_count": 80,
   "metadata": {},
   "outputs": [],
   "source": [
    "# Test\n",
    "test_pred = MLR_model2.predict(X_test)\n",
    "\n",
    "mse_test = mean_squared_error(y_test,test_pred)\n",
    "rmse_test = round(np.sqrt(mse_test),4)"
   ]
  },
  {
   "cell_type": "code",
   "execution_count": 81,
   "metadata": {},
   "outputs": [
    {
     "name": "stdout",
     "output_type": "stream",
     "text": [
      "7.0590856828921575 2.6569\n",
      "11.72600488499266 3.4243\n"
     ]
    }
   ],
   "source": [
    "print(mse_train,rmse_train)\n",
    "print(mse_test,rmse_test)"
   ]
  },
  {
   "cell_type": "markdown",
   "metadata": {
    "collapsed": true,
    "id": "nwtRj3cuTTfQ"
   },
   "source": [
    "<table align=\"left\">\n",
    "    <tr>\n",
    "        <td width=\"6%\">\n",
    "            <img src=\"question_icon.png\">\n",
    "        </td>\n",
    "        <td>\n",
    "            <div align=\"left\", style=\"font-size:120%\">\n",
    "                <font color=\"#21618C\">\n",
    "                    <b>11. Can we use a linear regression model to analyze how all features from the dataset impact life expectancy?</b>\n",
    "                </font>\n",
    "            </div>\n",
    "        </td>\n",
    "    </tr>\n",
    "</table>"
   ]
  },
  {
   "cell_type": "code",
   "execution_count": null,
   "metadata": {
    "id": "6Y3rv6TmTTfR"
   },
   "outputs": [],
   "source": [
    "# type your code here\n",
    "# Yes we can use linear regression because the target variable is numerical and is dependent on independent variables"
   ]
  },
  {
   "cell_type": "code",
   "execution_count": 85,
   "metadata": {},
   "outputs": [
    {
     "data": {
      "text/plain": [
       "<AxesSubplot:>"
      ]
     },
     "execution_count": 85,
     "metadata": {},
     "output_type": "execute_result"
    },
    {
     "data": {
      "image/png": "[encoded data removed]",
      "text/plain": [
       "<Figure size 1080x576 with 2 Axes>"
      ]
     },
     "metadata": {
      "needs_background": "light"
     },
     "output_type": "display_data"
    }
   ],
   "source": [
    "df_features = df.iloc[:,:15]\n",
    "sns.heatmap(df_features.corr(),annot=True)"
   ]
  },
  {
   "cell_type": "markdown",
   "metadata": {
    "id": "DvrSDkOHTTfR"
   },
   "source": [
    "<a id=\"reg\"> </a>\n",
    "## 4. Regularization"
   ]
  },
  {
   "cell_type": "markdown",
   "metadata": {
    "collapsed": true,
    "id": "ROBxNH2eTTfR"
   },
   "source": [
    "<table align=\"left\">\n",
    "    <tr>\n",
    "        <td width=\"6%\">\n",
    "            <img src=\"question_icon.png\">\n",
    "        </td>\n",
    "        <td>\n",
    "            <div align=\"left\", style=\"font-size:120%\">\n",
    "                <font color=\"#21618C\">\n",
    "                    <b>12. Can we perform regression analysis without eliminating features involved in multicollinearity detected in question 11?</b>\n",
    "                </font>\n",
    "            </div>\n",
    "        </td>\n",
    "    </tr>\n",
    "</table>"
   ]
  },
  {
   "cell_type": "code",
   "execution_count": 90,
   "metadata": {
    "id": "p3mThKhiTTfR",
    "scrolled": true
   },
   "outputs": [],
   "source": [
    "# type your code here\n",
    "X = df.iloc[:,:15]\n",
    "\n",
    "\n",
    "# set the dependent variable\n",
    "y = df['Life_Expectancy']\n",
    "\n",
    "# initialize the standard scalar\n",
    "X_scaler = StandardScaler()\n",
    "\n",
    "# standardize all the columns of df_lifeExp\n",
    "X = X_scaler.fit_transform(X)\n",
    "\n",
    "# standardize the target explicitly and storing it in a new variable 'y'\n",
    "y = (y - y.mean()) / y.std()\n",
    "\n",
    "# split data into train subset and test subset\n",
    "# set 'random_state' to generate the same dataset each time you run the code \n",
    "# 'test_size' returns the proportion of data to be included in the test set\n",
    "X_train, X_test, y_train, y_test = train_test_split(X, y, random_state = 110, test_size = 0.2)"
   ]
  },
  {
   "cell_type": "code",
   "execution_count": 91,
   "metadata": {},
   "outputs": [],
   "source": [
    "ridge = Ridge(alpha=5.5)\n",
    "ridge_model = ridge.fit(X_train, y_train)"
   ]
  },
  {
   "cell_type": "code",
   "execution_count": 92,
   "metadata": {},
   "outputs": [
    {
     "name": "stdout",
     "output_type": "stream",
     "text": [
      "0.3528\n"
     ]
    }
   ],
   "source": [
    "# Train\n",
    "train_pred = ridge_model.predict(X_train)\n",
    "\n",
    "mse_train = mean_squared_error(y_train,train_pred)\n",
    "rmse_train = round(np.sqrt(mse_train),4)\n",
    "print(rmse_train)"
   ]
  },
  {
   "cell_type": "code",
   "execution_count": 93,
   "metadata": {},
   "outputs": [
    {
     "name": "stdout",
     "output_type": "stream",
     "text": [
      "0.3533\n"
     ]
    }
   ],
   "source": [
    "# Test\n",
    "test_pred = ridge_model.predict(X_test)\n",
    "\n",
    "mse_test = mean_squared_error(y_test,test_pred)\n",
    "rmse_test = round(np.sqrt(mse_test),4)\n",
    "print(rmse_test)"
   ]
  },
  {
   "cell_type": "code",
   "execution_count": null,
   "metadata": {},
   "outputs": [],
   "source": [
    "# Ridge"
   ]
  },
  {
   "cell_type": "markdown",
   "metadata": {
    "collapsed": true,
    "id": "nzI9qSVXTTfR"
   },
   "source": [
    "<table align=\"left\">\n",
    "    <tr>\n",
    "        <td width=\"6%\">\n",
    "            <img src=\"question_icon.png\">\n",
    "        </td>\n",
    "        <td>\n",
    "            <div align=\"left\", style=\"font-size:120%\">\n",
    "                <font color=\"#21618C\">\n",
    "                    <b>13. Build a model to study the impact of diseases and immunization on life expectancy. Identify the significant variables from the model. Use 'alpha = 1.5' if required.\n",
    "</b>\n",
    "                </font>\n",
    "            </div>\n",
    "        </td>\n",
    "    </tr>\n",
    "</table>"
   ]
  },
  {
   "cell_type": "code",
   "execution_count": 94,
   "metadata": {
    "id": "4OB-rh02TTfS"
   },
   "outputs": [],
   "source": [
    "# type your code here\n",
    "# type your code here\n",
    "X = df.iloc[:,[2,3,6,7,8]]\n",
    "\n",
    "\n",
    "# set the dependent variable\n",
    "y = df['Life_Expectancy']\n",
    "\n",
    "# initialize the standard scalar\n",
    "X_scaler = StandardScaler()\n",
    "\n",
    "# standardize all the columns of df_lifeExp\n",
    "X = X_scaler.fit_transform(X)\n",
    "\n",
    "# standardize the target explicitly and storing it in a new variable 'y'\n",
    "y = (y - y.mean()) / y.std()\n",
    "\n",
    "# split data into train subset and test subset\n",
    "# set 'random_state' to generate the same dataset each time you run the code \n",
    "# 'test_size' returns the proportion of data to be included in the test set\n",
    "X_train, X_test, y_train, y_test = train_test_split(X, y, random_state = 10, test_size = 0.2)"
   ]
  },
  {
   "cell_type": "code",
   "execution_count": 95,
   "metadata": {},
   "outputs": [],
   "source": [
    "ridge = Ridge(alpha=1.5)\n",
    "ridge_model = ridge.fit(X_train, y_train)"
   ]
  },
  {
   "cell_type": "code",
   "execution_count": 96,
   "metadata": {},
   "outputs": [
    {
     "name": "stdout",
     "output_type": "stream",
     "text": [
      "0.7101\n"
     ]
    }
   ],
   "source": [
    "# Train\n",
    "train_pred = ridge_model.predict(X_train)\n",
    "\n",
    "mse_train = mean_squared_error(y_train,train_pred)\n",
    "rmse_train = round(np.sqrt(mse_train),4)\n",
    "print(rmse_train)"
   ]
  },
  {
   "cell_type": "code",
   "execution_count": 97,
   "metadata": {},
   "outputs": [
    {
     "name": "stdout",
     "output_type": "stream",
     "text": [
      "0.7136\n"
     ]
    }
   ],
   "source": [
    "# Test\n",
    "test_pred = ridge_model.predict(X_test)\n",
    "\n",
    "mse_test = mean_squared_error(y_test,test_pred)\n",
    "rmse_test = round(np.sqrt(mse_test),4)\n",
    "print(rmse_test)"
   ]
  },
  {
   "cell_type": "code",
   "execution_count": 98,
   "metadata": {},
   "outputs": [],
   "source": [
    "X = df.iloc[:,[2,3,6,7,8]]\n",
    "X = sm.add_constant(X)\n",
    "y = df['Life_Expectancy']\n",
    "\n",
    "MLR_model3 = sm.OLS(y_train,X_train).fit()"
   ]
  },
  {
   "cell_type": "code",
   "execution_count": 100,
   "metadata": {},
   "outputs": [
    {
     "name": "stdout",
     "output_type": "stream",
     "text": [
      "0.7102\n"
     ]
    }
   ],
   "source": [
    "# Train\n",
    "train_pred = MLR_model3.predict(X_train)\n",
    "\n",
    "mse_train = mean_squared_error(y_train,train_pred)\n",
    "rmse_train = round(np.sqrt(mse_train),4)\n",
    "print(rmse_train)"
   ]
  },
  {
   "cell_type": "code",
   "execution_count": 101,
   "metadata": {},
   "outputs": [
    {
     "name": "stdout",
     "output_type": "stream",
     "text": [
      "0.7117\n"
     ]
    }
   ],
   "source": [
    "# Test\n",
    "test_pred = MLR_model3.predict(X_test)\n",
    "\n",
    "mse_test = mean_squared_error(y_test,test_pred)\n",
    "rmse_test = round(np.sqrt(mse_test),4)\n",
    "print(rmse_test)"
   ]
  },
  {
   "cell_type": "code",
   "execution_count": 102,
   "metadata": {},
   "outputs": [
    {
     "data": {
      "text/html": [
       "<table class=\"simpletable\">\n",
       "<caption>OLS Regression Results</caption>\n",
       "<tr>\n",
       "  <th>Dep. Variable:</th>     <td>Life_Expectancy</td> <th>  R-squared (uncentered):</th>      <td>   0.498</td>\n",
       "</tr>\n",
       "<tr>\n",
       "  <th>Model:</th>                   <td>OLS</td>       <th>  Adj. R-squared (uncentered):</th> <td>   0.479</td>\n",
       "</tr>\n",
       "<tr>\n",
       "  <th>Method:</th>             <td>Least Squares</td>  <th>  F-statistic:       </th>          <td>   26.39</td>\n",
       "</tr>\n",
       "<tr>\n",
       "  <th>Date:</th>             <td>Sun, 19 Mar 2023</td> <th>  Prob (F-statistic):</th>          <td>1.87e-18</td>\n",
       "</tr>\n",
       "<tr>\n",
       "  <th>Time:</th>                 <td>12:18:25</td>     <th>  Log-Likelihood:    </th>          <td> -148.59</td>\n",
       "</tr>\n",
       "<tr>\n",
       "  <th>No. Observations:</th>      <td>   138</td>      <th>  AIC:               </th>          <td>   307.2</td>\n",
       "</tr>\n",
       "<tr>\n",
       "  <th>Df Residuals:</th>          <td>   133</td>      <th>  BIC:               </th>          <td>   321.8</td>\n",
       "</tr>\n",
       "<tr>\n",
       "  <th>Df Model:</th>              <td>     5</td>      <th>                     </th>              <td> </td>   \n",
       "</tr>\n",
       "<tr>\n",
       "  <th>Covariance Type:</th>      <td>nonrobust</td>    <th>                     </th>              <td> </td>   \n",
       "</tr>\n",
       "</table>\n",
       "<table class=\"simpletable\">\n",
       "<tr>\n",
       "   <td></td>     <th>coef</th>     <th>std err</th>      <th>t</th>      <th>P>|t|</th>  <th>[0.025</th>    <th>0.975]</th>  \n",
       "</tr>\n",
       "<tr>\n",
       "  <th>x1</th> <td>   -0.1130</td> <td>    0.138</td> <td>   -0.821</td> <td> 0.413</td> <td>   -0.385</td> <td>    0.159</td>\n",
       "</tr>\n",
       "<tr>\n",
       "  <th>x2</th> <td>   -0.0663</td> <td>    0.057</td> <td>   -1.168</td> <td> 0.245</td> <td>   -0.179</td> <td>    0.046</td>\n",
       "</tr>\n",
       "<tr>\n",
       "  <th>x3</th> <td>    0.2707</td> <td>    0.081</td> <td>    3.355</td> <td> 0.001</td> <td>    0.111</td> <td>    0.430</td>\n",
       "</tr>\n",
       "<tr>\n",
       "  <th>x4</th> <td>    0.2251</td> <td>    0.156</td> <td>    1.441</td> <td> 0.152</td> <td>   -0.084</td> <td>    0.534</td>\n",
       "</tr>\n",
       "<tr>\n",
       "  <th>x5</th> <td>   -0.4345</td> <td>    0.065</td> <td>   -6.673</td> <td> 0.000</td> <td>   -0.563</td> <td>   -0.306</td>\n",
       "</tr>\n",
       "</table>\n",
       "<table class=\"simpletable\">\n",
       "<tr>\n",
       "  <th>Omnibus:</th>       <td> 7.053</td> <th>  Durbin-Watson:     </th> <td>   2.005</td>\n",
       "</tr>\n",
       "<tr>\n",
       "  <th>Prob(Omnibus):</th> <td> 0.029</td> <th>  Jarque-Bera (JB):  </th> <td>   6.767</td>\n",
       "</tr>\n",
       "<tr>\n",
       "  <th>Skew:</th>          <td>-0.457</td> <th>  Prob(JB):          </th> <td>  0.0339</td>\n",
       "</tr>\n",
       "<tr>\n",
       "  <th>Kurtosis:</th>      <td> 3.584</td> <th>  Cond. No.          </th> <td>    5.23</td>\n",
       "</tr>\n",
       "</table><br/><br/>Notes:<br/>[1] R² is computed without centering (uncentered) since the model does not contain a constant.<br/>[2] Standard Errors assume that the covariance matrix of the errors is correctly specified."
      ],
      "text/plain": [
       "<class 'statsmodels.iolib.summary.Summary'>\n",
       "\"\"\"\n",
       "                                 OLS Regression Results                                \n",
       "=======================================================================================\n",
       "Dep. Variable:        Life_Expectancy   R-squared (uncentered):                   0.498\n",
       "Model:                            OLS   Adj. R-squared (uncentered):              0.479\n",
       "Method:                 Least Squares   F-statistic:                              26.39\n",
       "Date:                Sun, 19 Mar 2023   Prob (F-statistic):                    1.87e-18\n",
       "Time:                        12:18:25   Log-Likelihood:                         -148.59\n",
       "No. Observations:                 138   AIC:                                      307.2\n",
       "Df Residuals:                     133   BIC:                                      321.8\n",
       "Df Model:                           5                                                  \n",
       "Covariance Type:            nonrobust                                                  \n",
       "==============================================================================\n",
       "                 coef    std err          t      P>|t|      [0.025      0.975]\n",
       "------------------------------------------------------------------------------\n",
       "x1            -0.1130      0.138     -0.821      0.413      -0.385       0.159\n",
       "x2            -0.0663      0.057     -1.168      0.245      -0.179       0.046\n",
       "x3             0.2707      0.081      3.355      0.001       0.111       0.430\n",
       "x4             0.2251      0.156      1.441      0.152      -0.084       0.534\n",
       "x5            -0.4345      0.065     -6.673      0.000      -0.563      -0.306\n",
       "==============================================================================\n",
       "Omnibus:                        7.053   Durbin-Watson:                   2.005\n",
       "Prob(Omnibus):                  0.029   Jarque-Bera (JB):                6.767\n",
       "Skew:                          -0.457   Prob(JB):                       0.0339\n",
       "Kurtosis:                       3.584   Cond. No.                         5.23\n",
       "==============================================================================\n",
       "\n",
       "Notes:\n",
       "[1] R² is computed without centering (uncentered) since the model does not contain a constant.\n",
       "[2] Standard Errors assume that the covariance matrix of the errors is correctly specified.\n",
       "\"\"\""
      ]
     },
     "execution_count": 102,
     "metadata": {},
     "output_type": "execute_result"
    }
   ],
   "source": [
    "MLR_model3.summary()"
   ]
  },
  {
   "cell_type": "markdown",
   "metadata": {
    "collapsed": true,
    "id": "BikPsDTpTTfS"
   },
   "source": [
    "<table align=\"left\">\n",
    "    <tr>\n",
    "        <td width=\"6%\">\n",
    "            <img src=\"question_icon.png\">\n",
    "        </td>\n",
    "        <td>\n",
    "            <div align=\"left\", style=\"font-size:120%\">\n",
    "                <font color=\"#21618C\">\n",
    "                    <b>14. Build a model to study the impact of malnutrition and diseases on life expectancy. Identify the insignificant variables from the model. Use 'alpha = 1' if required.</b>\n",
    "                </font>\n",
    "            </div>\n",
    "        </td>\n",
    "    </tr>\n",
    "</table>"
   ]
  },
  {
   "cell_type": "code",
   "execution_count": null,
   "metadata": {
    "id": "DthvWp6uTTfS"
   },
   "outputs": [],
   "source": [
    "# type your code here\n",
    "X = df.iloc[:,[3,8,12,11]]\n",
    "X = sm.add_constant(X)\n",
    "y = df['Life_Expectancy']\n",
    "\n",
    "MLR_model4 = sm.OLS(y_train,X_train).fit()"
   ]
  },
  {
   "cell_type": "code",
   "execution_count": 117,
   "metadata": {},
   "outputs": [],
   "source": [
    "# type your code here\n",
    "# type your code here\n",
    "X = df.iloc[:,[3,8,12,11]]\n",
    "\n",
    "\n",
    "# set the dependent variable\n",
    "y = df['Life_Expectancy']\n",
    "\n",
    "# standardize all the columns of df_lifeExp\n",
    "X = X_scaler.fit_transform(X)\n",
    "\n",
    "# standardize the target explicitly and storing it in a new variable 'y'\n",
    "y = (y - y.mean()) / y.std()\n",
    "\n",
    "# split data into train subset and test subset\n",
    "# set 'random_state' to generate the same dataset each time you run the code \n",
    "# 'test_size' returns the proportion of data to be included in the test set\n",
    "X_train, X_test, y_train, y_test = train_test_split(X, y, random_state = 30, test_size = 0.2)"
   ]
  },
  {
   "cell_type": "code",
   "execution_count": 118,
   "metadata": {},
   "outputs": [],
   "source": [
    "lasso = Lasso(alpha = 1)\n",
    "lasso_model = lasso.fit(X_train, y_train)"
   ]
  },
  {
   "cell_type": "code",
   "execution_count": 119,
   "metadata": {},
   "outputs": [],
   "source": [
    "MLR = LinearRegression()\n",
    "lin_model = MLR.fit(X_train, y_train)"
   ]
  },
  {
   "cell_type": "code",
   "execution_count": 120,
   "metadata": {},
   "outputs": [
    {
     "name": "stdout",
     "output_type": "stream",
     "text": [
      "0.6853\n",
      "0.7967\n"
     ]
    }
   ],
   "source": [
    "# Train\n",
    "train_pred = lin_model.predict(X_train)\n",
    "\n",
    "mse_train = mean_squared_error(y_train,train_pred)\n",
    "rmse_train = round(np.sqrt(mse_train),4)\n",
    "print(rmse_train)\n",
    "# Test\n",
    "test_pred = lin_model.predict(X_test)\n",
    "\n",
    "mse_test = mean_squared_error(y_test,test_pred)\n",
    "rmse_test = round(np.sqrt(mse_test),4)\n",
    "print(rmse_test)"
   ]
  },
  {
   "cell_type": "code",
   "execution_count": 121,
   "metadata": {},
   "outputs": [
    {
     "name": "stdout",
     "output_type": "stream",
     "text": [
      "1.0039\n",
      "0.9813\n"
     ]
    }
   ],
   "source": [
    "# Train\n",
    "train_pred = lasso_model.predict(X_train)\n",
    "\n",
    "mse_train = mean_squared_error(y_train,train_pred)\n",
    "rmse_train = round(np.sqrt(mse_train),4)\n",
    "print(rmse_train)\n",
    "# Test\n",
    "test_pred = lasso_model.predict(X_test)\n",
    "\n",
    "mse_test = mean_squared_error(y_test,test_pred)\n",
    "rmse_test = round(np.sqrt(mse_test),4)\n",
    "print(rmse_test)"
   ]
  },
  {
   "cell_type": "markdown",
   "metadata": {
    "collapsed": true,
    "id": "YnsCWxJ7TTfS"
   },
   "source": [
    "<table align=\"left\">\n",
    "    <tr>\n",
    "        <td width=\"6%\">\n",
    "            <img src=\"question_icon.png\">\n",
    "        </td>\n",
    "        <td>\n",
    "            <div align=\"left\", style=\"font-size:120%\">\n",
    "                <font color=\"#21618C\">\n",
    "                    <b>15. Build a full model using the elastic net regression. Use 'alpha = 0.1' and 'l1_ratio=0.001'. Also, compute the RMSE for train and test sets.\n",
    " </b>\n",
    "                </font>\n",
    "            </div>\n",
    "        </td>\n",
    "    </tr>\n",
    "</table>"
   ]
  },
  {
   "cell_type": "code",
   "execution_count": 123,
   "metadata": {
    "id": "bYz2IWjZTTfS",
    "scrolled": true
   },
   "outputs": [],
   "source": [
    "# type your code here\n",
    "# type your code here\n",
    "# type your code here\n",
    "X = df.iloc[:,:15]\n",
    "\n",
    "\n",
    "# set the dependent variable\n",
    "y = df['Life_Expectancy']\n",
    "\n",
    "# standardize all the columns of df_lifeExp\n",
    "X = X_scaler.fit_transform(X)\n",
    "\n",
    "# standardize the target explicitly and storing it in a new variable 'y'\n",
    "y = (y - y.mean()) / y.std()\n",
    "\n",
    "# split data into train subset and test subset\n",
    "# set 'random_state' to generate the same dataset each time you run the code \n",
    "# 'test_size' returns the proportion of data to be included in the test set\n",
    "X_train, X_test, y_train, y_test = train_test_split(X, y, random_state = 110, test_size = 0.2)"
   ]
  },
  {
   "cell_type": "code",
   "execution_count": 124,
   "metadata": {},
   "outputs": [],
   "source": [
    "e_net = ElasticNet(alpha=0.1,l1_ratio=0.001)\n",
    "e_net_model = e_net.fit(X_train, y_train)"
   ]
  },
  {
   "cell_type": "code",
   "execution_count": 125,
   "metadata": {},
   "outputs": [
    {
     "name": "stdout",
     "output_type": "stream",
     "text": [
      "0.3581\n",
      "0.3544\n"
     ]
    }
   ],
   "source": [
    "# Train\n",
    "train_pred = e_net_model.predict(X_train)\n",
    "\n",
    "mse_train = mean_squared_error(y_train,train_pred)\n",
    "rmse_train = round(np.sqrt(mse_train),4)\n",
    "print(rmse_train)\n",
    "# Test\n",
    "test_pred = e_net_model.predict(X_test)\n",
    "\n",
    "mse_test = mean_squared_error(y_test,test_pred)\n",
    "rmse_test = round(np.sqrt(mse_test),4)\n",
    "print(rmse_test)"
   ]
  },
  {
   "cell_type": "markdown",
   "metadata": {
    "collapsed": true,
    "id": "tjLHGrBjTTfT"
   },
   "source": [
    "<table align=\"left\">\n",
    "    <tr>\n",
    "        <td width=\"6%\">\n",
    "            <img src=\"question_icon.png\">\n",
    "        </td>\n",
    "        <td>\n",
    "            <div align=\"left\", style=\"font-size:120%\">\n",
    "                <font color=\"#21618C\">\n",
    "                    <b>16. Build a full model. Identify the features that are significantly influencing the life expectancy. Use 'alpha = 0.5' if required. </b>\n",
    "                </font>\n",
    "            </div>\n",
    "        </td>\n",
    "    </tr>\n",
    "</table>"
   ]
  },
  {
   "cell_type": "code",
   "execution_count": 126,
   "metadata": {
    "id": "3x6IMIxLTTfT",
    "scrolled": true
   },
   "outputs": [],
   "source": [
    "# type your code here\n",
    "# type your code here\n",
    "# type your code here\n",
    "X = df.iloc[:,:15]\n",
    "\n",
    "\n",
    "# set the dependent variable\n",
    "y = df['Life_Expectancy']\n",
    "\n",
    "# standardize all the columns of df_lifeExp\n",
    "X = X_scaler.fit_transform(X)\n",
    "\n",
    "# standardize the target explicitly and storing it in a new variable 'y'\n",
    "y = (y - y.mean()) / y.std()\n",
    "\n",
    "# split data into train subset and test subset\n",
    "# set 'random_state' to generate the same dataset each time you run the code \n",
    "# 'test_size' returns the proportion of data to be included in the test set\n",
    "X_train, X_test, y_train, y_test = train_test_split(X, y, random_state = 110, test_size = 0.2)"
   ]
  },
  {
   "cell_type": "code",
   "execution_count": 127,
   "metadata": {},
   "outputs": [],
   "source": [
    "MLR1 = LinearRegression()\n",
    "lin_model1 = MLR1.fit(X_train, y_train)"
   ]
  },
  {
   "cell_type": "code",
   "execution_count": 128,
   "metadata": {},
   "outputs": [
    {
     "name": "stdout",
     "output_type": "stream",
     "text": [
      "0.35\n",
      "0.3606\n"
     ]
    }
   ],
   "source": [
    "# Train\n",
    "train_pred = lin_model1.predict(X_train)\n",
    "\n",
    "mse_train = mean_squared_error(y_train,train_pred)\n",
    "rmse_train = round(np.sqrt(mse_train),4)\n",
    "print(rmse_train)\n",
    "# Test\n",
    "test_pred = lin_model1.predict(X_test)\n",
    "\n",
    "mse_test = mean_squared_error(y_test,test_pred)\n",
    "rmse_test = round(np.sqrt(mse_test),4)\n",
    "print(rmse_test)"
   ]
  },
  {
   "cell_type": "markdown",
   "metadata": {
    "id": "7AC9KIOHTTfT"
   },
   "source": [
    "<a id=\"gs\"> </a>\n",
    "## 5. Grid Search "
   ]
  },
  {
   "cell_type": "markdown",
   "metadata": {
    "collapsed": true,
    "id": "cW2SohpQTTfT"
   },
   "source": [
    "<table align=\"left\">\n",
    "    <tr>\n",
    "        <td width=\"6%\">\n",
    "            <img src=\"question_icon.png\">\n",
    "        </td>\n",
    "        <td>\n",
    "            <div align=\"left\", style=\"font-size:120%\">\n",
    "                <font color=\"#21618C\">\n",
    "                    <b>17. If ridge regression is used to build a full model. Which value is the best alpha from the list of values?<br><br>Consider the alpha values: [7,8,9,10,11]</b>\n",
    "                </font>\n",
    "            </div>\n",
    "        </td>\n",
    "    </tr>\n",
    "</table>"
   ]
  },
  {
   "cell_type": "code",
   "execution_count": 130,
   "metadata": {
    "id": "Osmq8Ui7TTfT",
    "scrolled": true
   },
   "outputs": [],
   "source": [
    "# type your code here\n",
    "X = df.iloc[:,:15]\n",
    "\n",
    "\n",
    "# set the dependent variable\n",
    "y = df['Life_Expectancy']\n",
    "\n",
    "# standardize all the columns of df_lifeExp\n",
    "X = X_scaler.fit_transform(X)\n",
    "\n",
    "# standardize the target explicitly and storing it in a new variable 'y'\n",
    "y = (y - y.mean()) / y.std()\n",
    "\n",
    "# split data into train subset and test subset\n",
    "# set 'random_state' to generate the same dataset each time you run the code \n",
    "# 'test_size' returns the proportion of data to be included in the test set\n",
    "X_train, X_test, y_train, y_test = train_test_split(X, y, random_state = 110, test_size = 0.2)"
   ]
  },
  {
   "cell_type": "code",
   "execution_count": 132,
   "metadata": {},
   "outputs": [
    {
     "name": "stdout",
     "output_type": "stream",
     "text": [
      "{'alpha': 11}\n"
     ]
    }
   ],
   "source": [
    "tuned_param = [{'alpha':[7,8,9,10,11]}]\n",
    "ridge = Ridge()\n",
    "ridge_grid = GridSearchCV(estimator=ridge,param_grid=tuned_param,cv=5)\n",
    "ridge_grid.fit(X_train,y_train)\n",
    "\n",
    "print(ridge_grid.best_params_)"
   ]
  },
  {
   "cell_type": "code",
   "execution_count": null,
   "metadata": {},
   "outputs": [],
   "source": []
  },
  {
   "cell_type": "markdown",
   "metadata": {
    "collapsed": true,
    "id": "tcfekAtjTTfU"
   },
   "source": [
    "<table align=\"left\">\n",
    "    <tr>\n",
    "        <td width=\"6%\">\n",
    "            <img src=\"question_icon.png\">\n",
    "        </td>\n",
    "        <td>\n",
    "            <div align=\"left\", style=\"font-size:120%\">\n",
    "                <font color=\"#21618C\">\n",
    "                    <b>18. If lasso regression is used to build a full model. Which value is the best alpha from the list of values?<br><br>Consider the alpha values: [7,8,9,10,11]</b>\n",
    "                </font>\n",
    "            </div>\n",
    "        </td>\n",
    "    </tr>\n",
    "</table>"
   ]
  },
  {
   "cell_type": "code",
   "execution_count": 133,
   "metadata": {
    "id": "oAQRigulTTfU"
   },
   "outputs": [],
   "source": [
    "# type your code here\n",
    "X = df.iloc[:,:15]\n",
    "\n",
    "\n",
    "# set the dependent variable\n",
    "y = df['Life_Expectancy']\n",
    "\n",
    "# standardize all the columns of df_lifeExp\n",
    "X = X_scaler.fit_transform(X)\n",
    "\n",
    "# standardize the target explicitly and storing it in a new variable 'y'\n",
    "y = (y - y.mean()) / y.std()\n",
    "\n",
    "# split data into train subset and test subset\n",
    "# set 'random_state' to generate the same dataset each time you run the code \n",
    "# 'test_size' returns the proportion of data to be included in the test set\n",
    "X_train, X_test, y_train, y_test = train_test_split(X, y, random_state = 110, test_size = 0.2)"
   ]
  },
  {
   "cell_type": "code",
   "execution_count": 134,
   "metadata": {},
   "outputs": [
    {
     "name": "stdout",
     "output_type": "stream",
     "text": [
      "{'alpha': 7}\n"
     ]
    }
   ],
   "source": [
    "tuned_param = [{'alpha':[7,8,9,10,11]}]\n",
    "lasso = Lasso()\n",
    "lasso_grid = GridSearchCV(estimator=lasso,param_grid=tuned_param,cv=5)\n",
    "lasso_grid.fit(X_train,y_train)\n",
    "\n",
    "print(lasso_grid.best_params_)"
   ]
  },
  {
   "cell_type": "markdown",
   "metadata": {
    "collapsed": true,
    "id": "aQ9C0y7ZTTfU"
   },
   "source": [
    "<table align=\"left\">\n",
    "    <tr>\n",
    "        <td width=\"6%\">\n",
    "            <img src=\"question_icon.png\">\n",
    "        </td>\n",
    "        <td>\n",
    "            <div align=\"left\", style=\"font-size:120%\">\n",
    "                <font color=\"#21618C\">\n",
    "                    <b>19. Perform regression analysis to study the impact of malnutrition and diseases on life expectancy. Determine the optimal value of alpha and mixing parameter if elastic net regression is used to build the model. Consider the following list of values:<br><br> alpha : [0.1,0.5,1,1.5,2,2.5,3,3.5,4]<br> l1_ratio : [0.5,0.55,0.6,0.65,0.7,0.75,0.8,0.85,0.9] </b>\n",
    "                </font>\n",
    "            </div>\n",
    "        </td>\n",
    "    </tr>\n",
    "</table>"
   ]
  },
  {
   "cell_type": "code",
   "execution_count": 136,
   "metadata": {
    "id": "ICO_sFkBTTfU"
   },
   "outputs": [],
   "source": [
    "# type your code here\n",
    "X = df.iloc[:,[3,8,11,12]]\n",
    "y = df['Life_Expectancy']\n",
    "\n",
    "X_train, X_test, y_train, y_test = train_test_split(X, y, random_state = 10, test_size = 0.2)"
   ]
  },
  {
   "cell_type": "code",
   "execution_count": 137,
   "metadata": {},
   "outputs": [
    {
     "name": "stdout",
     "output_type": "stream",
     "text": [
      "{'alpha': 0.1, 'l1_ratio': 0.9}\n"
     ]
    }
   ],
   "source": [
    "tuned_param = [{'alpha':[0.1,0.5,1,1.5,2,2.5,3,3.5,4],'l1_ratio':[0.5,0.55,0.6,0.65,0.7,0.75,0.8,0.85,0.9]}]\n",
    "e_net1 = ElasticNet()\n",
    "enet_grid = GridSearchCV(estimator=e_net1,param_grid=tuned_param,cv=5)\n",
    "enet_grid.fit(X_train,y_train)\n",
    "\n",
    "print(enet_grid.best_params_)"
   ]
  },
  {
   "cell_type": "markdown",
   "metadata": {
    "collapsed": true,
    "id": "UWH-TdTSTTfU"
   },
   "source": [
    "<table align=\"left\">\n",
    "    <tr>\n",
    "        <td width=\"6%\">\n",
    "            <img src=\"question_icon.png\">\n",
    "        </td>\n",
    "        <td>\n",
    "            <div align=\"left\", style=\"font-size:120%\">\n",
    "                <font color=\"#21618C\">\n",
    "                    <b>20. Build a full model. Select the optimal value for elastic net mixing parameter if the alpha value is 0.8<br><br>Consider the values: l1_ratio : [0.001, 0.005, 0.01, 0.05, 0.1, 0.5, 1]</b>\n",
    "                </font>\n",
    "            </div>\n",
    "        </td>\n",
    "    </tr>\n",
    "</table>"
   ]
  },
  {
   "cell_type": "code",
   "execution_count": 142,
   "metadata": {
    "id": "HbiR2oZ6TTfU",
    "scrolled": true
   },
   "outputs": [],
   "source": [
    "# type your code here\n",
    "X = df.iloc[:,:15]\n",
    "y = df['Life_Expectancy']\n",
    "\n",
    "X_train, X_test, y_train, y_test = train_test_split(X, y, random_state = 110, test_size = 0.2)"
   ]
  },
  {
   "cell_type": "code",
   "execution_count": 143,
   "metadata": {},
   "outputs": [
    {
     "name": "stdout",
     "output_type": "stream",
     "text": [
      "{'l1_ratio': 1}\n"
     ]
    }
   ],
   "source": [
    "tuned_param = [{'l1_ratio':[0.001, 0.005, 0.01, 0.05, 0.1, 0.5, 1]}]\n",
    "e_net2 = ElasticNet(alpha=0.8)\n",
    "enet_grid2 = GridSearchCV(estimator=e_net2,param_grid=tuned_param,cv=5)\n",
    "enet_grid2.fit(X_train,y_train)\n",
    "\n",
    "print(enet_grid2.best_params_)"
   ]
  }
 ],
 "metadata": {
  "colab": {
   "collapsed_sections": [],
   "name": "SLR - In-Class - Lab Exercise (Week- 3) - Questions.ipynb",
   "provenance": []
  },
  "kernelspec": {
   "display_name": "Python 3 (ipykernel)",
   "language": "python",
   "name": "python3"
  },
  "language_info": {
   "codemirror_mode": {
    "name": "ipython",
    "version": 3
   },
   "file_extension": ".py",
   "mimetype": "text/x-python",
   "name": "python",
   "nbconvert_exporter": "python",
   "pygments_lexer": "ipython3",
   "version": "3.10.5"
  }
 },
 "nbformat": 4,
 "nbformat_minor": 1
}
