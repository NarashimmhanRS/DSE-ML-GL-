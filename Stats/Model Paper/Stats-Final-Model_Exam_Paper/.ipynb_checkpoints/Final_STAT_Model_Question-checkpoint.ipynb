{
 "cells": [
  {
   "cell_type": "markdown",
   "metadata": {},
   "source": [
    "<table align=\"left\" width=100%>\n",
    "    <tr>\n",
    "        <td width=\"20%\">\n",
    "            <img src=\"GL-2.png\">\n",
    "        </td>\n",
    "        <td>\n",
    "            <div align=\"center\">\n",
    "                <font color=\"#21618C\" size=8px>\n",
    "                  <b> Final Exam <br> </b>\n",
    "                </font>\n",
    "            </div>\n",
    "        </td>\n",
    "    </tr>\n",
    "</table>"
   ]
  },
  {
   "cell_type": "markdown",
   "metadata": {
    "colab_type": "text",
    "id": "JwGL6yKJJ5jk"
   },
   "source": [
    "# STATISTICS FINAL EXAM"
   ]
  },
  {
   "cell_type": "markdown",
   "metadata": {
    "colab_type": "text",
    "id": "PHu2_qfuJ5jm"
   },
   "source": [
    "**TOTAL MARKS:70**                                              \t                                     \n",
    "\n",
    "**DURATION: 3 HOURS**"
   ]
  },
  {
   "cell_type": "markdown",
   "metadata": {
    "colab_type": "text",
    "id": "uZUSpXDJJ5jo"
   },
   "source": [
    "### Three datasets are combined in a single CSV file. \n",
    "\n",
    "### Description of the datasets: \n",
    "\n",
    "\n",
    "#### Online_Streaming:\n",
    "Online_Streaming contains information about \n",
    "\n",
    "    #### Age\n",
    "    #### Preference\n",
    "\n",
    "\n",
    "\n",
    "#### Admission dataset :     \n",
    "The data set consists of complete educational details of students right from their schooling to MBA and previous work experience.\n",
    "\n",
    "    #### SlNo \n",
    "    #### Gender\n",
    "    #### Percent_SSC    \n",
    "    #### Board_SSC   \n",
    "    #### Percent_HSC   \n",
    "    #### Board_HSC    \n",
    "    #### Stream_HSC   \n",
    "    #### Percent_Degree   \n",
    "    #### Course_Degree   \n",
    "    #### Experience_Yrs    \n",
    "    #### Entrance_Test    \n",
    "    #### Percentile_ET    \n",
    "    #### Percent_MBA    \n",
    "    #### Specialization_MBA    \n",
    "    #### Marks_Communication    \n",
    "    #### Marks_Projectwork    \n",
    "    #### Marks_BOCA    \n",
    "    #### Placement    \n",
    "    #### Salary\n",
    "\n",
    "    \n",
    "#### Outlet Sales :\n",
    "Outlet Sales' contains information about,\n",
    "\n",
    "    #### Item_Identifier\n",
    "    #### Item_Weight\n",
    "    #### Item_Fat_Content\n",
    "    #### Item_Visibility\n",
    "    #### Item_Type\n",
    "    #### Item_MRP\n",
    "    #### Outlet_Identifier\n",
    "    #### Outlet_Establishment_Year\n",
    "    #### Outlet_Size\n",
    "    #### Outlet_Location_Type\n",
    "    #### Outlet_Type\n",
    "    #### Item_Outlet_Sales\n"
   ]
  },
  {
   "cell_type": "markdown",
   "metadata": {},
   "source": [
    "## Kindly change the below cells from markdown to code and execute it "
   ]
  },
  {
   "cell_type": "markdown",
   "metadata": {
    "colab": {},
    "colab_type": "code",
    "id": "kbEjlC3RJ5jq",
    "outputId": "4e92bc0a-2b6c-423e-909b-029d685e7755"
   },
   "source": [
    "import pandas as pd\n",
    "\n",
    "import pandas as pd\n",
    "import csv\n",
    "with open(\"Final.csv\",\"r\")as file:\n",
    "    reader=csv.reader(file)\n",
    "data=pd.read_csv(\"Final.csv\")\n",
    "data.head()"
   ]
  },
  {
   "cell_type": "markdown",
   "metadata": {
    "colab": {},
    "colab_type": "code",
    "id": "GKivZPUOJ5j3",
    "outputId": "689865f5-f299-448d-9ddf-a4418c31be2c"
   },
   "source": [
    "Online = data.iloc[:99,:2]\n",
    "Online.head()"
   ]
  },
  {
   "cell_type": "markdown",
   "metadata": {
    "colab": {},
    "colab_type": "code",
    "id": "kbQ1YtxeJ5j-",
    "outputId": "6d57bda3-9b08-43d5-d121-c5c95d943b11"
   },
   "source": [
    "Admission = data.iloc[:391,2:21]\n",
    "Admission.head()"
   ]
  },
  {
   "cell_type": "markdown",
   "metadata": {
    "colab": {},
    "colab_type": "code",
    "id": "saP0PbuYJ5kG",
    "outputId": "0af730f1-019c-40e6-867e-bc0bd537ab1b"
   },
   "source": [
    "Outlet = data.iloc[:,21:]\n",
    "Outlet.head()"
   ]
  },
  {
   "cell_type": "markdown",
   "metadata": {
    "colab_type": "text",
    "id": "sE2cmxbCJ5kO"
   },
   "source": [
    "# SECTION A: 20 MARKS"
   ]
  },
  {
   "cell_type": "markdown",
   "metadata": {
    "colab_type": "text",
    "id": "-3GElz9FJ5kP"
   },
   "source": [
    "_________________"
   ]
  },
  {
   "cell_type": "markdown",
   "metadata": {
    "colab_type": "text",
    "id": "aLPBD6l6J5kQ"
   },
   "source": [
    "<span style=\"font-family: Arial; font-weight:bold;font-size:1.5em;\">1. A principal at a school claims that the students in his school are above average intelligence. A random sample of 45 students scores have been taken and observed mean intelligence score is 68. Is there sufficient evidence to support the principal claim as a significance level of 0.025 that the mean intelligence score is 59 with a standard deviation of 9. Assume scores are normally distributed.\n",
    "\n",
    "A.Frame Null and Alternate Hypothesis. ( 1 Mark)\n",
    "\n",
    "B.State which test to be performed.  (1 Mark)\n",
    "\n",
    "C.Find the test statistic.  (2 Marks)\n",
    "\n",
    "D.Interpret the results.  (1 Mark)"
   ]
  },
  {
   "cell_type": "code",
   "execution_count": null,
   "metadata": {
    "colab": {},
    "colab_type": "code",
    "id": "rMRPf8DzJ5kR"
   },
   "outputs": [],
   "source": []
  },
  {
   "cell_type": "markdown",
   "metadata": {
    "colab_type": "text",
    "id": "8ndb7R1jJ5kY"
   },
   "source": [
    "<span style=\"font-family: Arial; font-weight:bold;font-size:1.5em;\">2 .\tIt is very important to fill vehicle tyres with right pressure. Too much or too less pressure will result in lower performance or shorter life. The right amount of pressure is set at 16 psi. A random check of 8 tyres at a service station has resulted in following values. Do we have evidence to believe the that the observed tyre pressure is significantly different from 16? Assume data is normally distributed. \n",
    "\n",
    "**Observed Tyre Pressure (psi):\t16.02\t16.22\t15.82\t15.92\t16.22\t16.32\t16.12\t15.92**\n",
    "    \n",
    "A.Frame Null and Alternate Hypothesis. ( 1 Mark)\n",
    "\n",
    "B.State which test to be performed.  (1 Mark)\n",
    "\n",
    "C.Find the test statistic.  (2 Marks)\n",
    "\n",
    "D.Interpret the results.  (1 Mark)\n",
    " "
   ]
  },
  {
   "cell_type": "code",
   "execution_count": null,
   "metadata": {
    "colab": {},
    "colab_type": "code",
    "id": "gj5o9ywrJ5kZ"
   },
   "outputs": [],
   "source": []
  },
  {
   "cell_type": "markdown",
   "metadata": {
    "colab_type": "text",
    "id": "07tXhslAJ5kp"
   },
   "source": [
    "<span style=\"font-family: Arial; font-weight:bold;font-size:1.5em;\">3. Now a days the online streaming services like Netflix, Amazon prime, is playing dominant role in the entertainment industry.  A public opinion poll surveyed on whether these online streaming services are better than cinema halls? On a sample of 100 random people (classified as teen/Adults/Senior Citizen) with a closed ended question (Yes or No). The details are captured. From the data ,identify the association between age category and voting preference? (Use level of significance as 5%). Use the dataframe \"Online\". \n",
    "\n",
    "A.Frame Null and Alternate Hypothesis. ( 1 Mark)\n",
    "\n",
    "B.State which test to be performed.  (1 Mark)\n",
    "\n",
    "C.Perform the test. (2 marks)\n",
    "\n",
    "D.Interpret the results.  (1 Mark)"
   ]
  },
  {
   "cell_type": "code",
   "execution_count": null,
   "metadata": {
    "colab": {},
    "colab_type": "code",
    "id": "-rN3FlrCJ5lB"
   },
   "outputs": [],
   "source": []
  },
  {
   "cell_type": "markdown",
   "metadata": {
    "colab_type": "text",
    "id": "Uv7oTjyEJ5lJ"
   },
   "source": [
    "<span style=\"font-family: Arial; font-weight:bold;font-size:1.5em;\"> 4. In a survey, 200 people were asked to identify their major source of news information. 110 stated that their major source was television news.\n",
    "    \n",
    "i. Construct a 95% confidence interval for the proportion of people in the population who consider television their major source of news information.(2 marks) \n",
    "\n",
    "ii. How large a sample would be necessary to estimate the population proportion with a margin of error of .05 at 95% confidence? (3 marks)"
   ]
  },
  {
   "cell_type": "code",
   "execution_count": null,
   "metadata": {
    "colab": {},
    "colab_type": "code",
    "id": "76onCM2yJ5lL"
   },
   "outputs": [],
   "source": []
  },
  {
   "cell_type": "markdown",
   "metadata": {
    "colab_type": "text",
    "id": "1DfRBwZeJ5lX"
   },
   "source": [
    "_________________"
   ]
  },
  {
   "cell_type": "markdown",
   "metadata": {
    "colab_type": "text",
    "id": "A8Dy4DCGJ5lZ"
   },
   "source": [
    "# SECTION B: 20 MARKS"
   ]
  },
  {
   "cell_type": "markdown",
   "metadata": {
    "colab_type": "text",
    "id": "nGvrtFNTJ5la"
   },
   "source": [
    "_________________"
   ]
  },
  {
   "cell_type": "markdown",
   "metadata": {
    "colab_type": "text",
    "id": "S7wNBnkKJ5lc"
   },
   "source": [
    "<span style=\"font-family: Arial; font-weight:bold;font-size:1.5em;\"> 5.The manufacturers of compact disk players want to test whether a small price reduction is enough to increase sales of their product. Is there evidence that the small price reduction is enough to increase sales of compact disk players?\n",
    "\n",
    "\n",
    "| Before reduction||After reduction  ||\n",
    "| ------|  ------ |--------------|-----------------|\n",
    "| n1=\t|15| \tn2 =| 12|\n",
    "| Average sales_ before=|Rs. 6598 ( in lakhs)  |Average sales _ after =| RS. 6870( in lakhs)|\n",
    "| s1=|Rs. 844( in lakhs)|     s2=| Rs. 669( in lakhs)|\n",
    "    \n",
    "i) Create the Hypothesis (2 marks)\n",
    "\n",
    "ii) Determine the Statistical Test and give the reason for the selection of the test.(1 mark)\n",
    "\n",
    "iii) Find the test statistics and pvalue.(6 marks)\n",
    "\n",
    "iv) Interpret the Results(1 mark)\n",
    "\n",
    "**Note: Assume data is normally distributed and have equal variance.**"
   ]
  },
  {
   "cell_type": "code",
   "execution_count": null,
   "metadata": {
    "colab": {},
    "colab_type": "code",
    "id": "-Udu7xFgJ5le"
   },
   "outputs": [],
   "source": []
  },
  {
   "cell_type": "markdown",
   "metadata": {
    "colab_type": "text",
    "id": "MQZZAdWaJ5lo"
   },
   "source": [
    "<span style=\"font-family: Arial; font-weight:bold;font-size:1.5em;\"> 6.\tMultiple myeloma or blood plasma cancer is characterised by increased  blood vessel formulation (angiogenesis) in the bone marrow. One treatment approach used for multiple myeloma is stem cell transplantation with the patient’s own stem cells. The data given below represents the bone marrow micro vessel density for patients who had a complete response to the stem cell transplant (as measured by blood test). The measurements were taken before and after the transplant.\n",
    "\n",
    "|Patient|Before|After|\n",
    "|--|--|--|\n",
    "|1|158|284|\n",
    "|2|189|214|\n",
    "|3|202|101|\n",
    "|4|353|227|\n",
    "|5|416|290|\n",
    "|6|426|176|\n",
    "|7|441|290|\n",
    "\n",
    "\n",
    "a.\tAt the 0.05 level of significance, is there evidence that the mean bone marrow micro vessel density has decreased after the stem cell transplant? Interpret the test statistic and p-value from the result. (7 MARKS)\n",
    "\n",
    "c.\tConstruct and interpret the 95% confidence interval estimation of the mean difference in bone marrow micro vessel density before and after stem cell transplant. (3 MARKS)\n",
    "    \n",
    "**Note: Assume data is normally distributed and have equal variance.**"
   ]
  },
  {
   "cell_type": "code",
   "execution_count": null,
   "metadata": {
    "colab": {},
    "colab_type": "code",
    "id": "i_-BLkdQJ5lp"
   },
   "outputs": [],
   "source": []
  },
  {
   "cell_type": "markdown",
   "metadata": {
    "colab_type": "text",
    "id": "vVON7DP_J5lz"
   },
   "source": [
    "_________________"
   ]
  },
  {
   "cell_type": "markdown",
   "metadata": {
    "colab_type": "text",
    "id": "SdSPQGx8J5l3"
   },
   "source": [
    "# SECTION C: 30 MARKS"
   ]
  },
  {
   "cell_type": "markdown",
   "metadata": {
    "colab_type": "text",
    "id": "idKX-OFDJ5l4"
   },
   "source": [
    "_________________"
   ]
  },
  {
   "cell_type": "markdown",
   "metadata": {
    "colab_type": "text",
    "id": "rW06XfqWJ5l6"
   },
   "source": [
    "<span style=\"font-family: Arial; font-weight:bold;font-size:1.5em;\"> 7. The data set consists of complete educational details of students right from their schooling to MBA and previous work experience. Salary is the target variable.Use the dataframe \"Admission\".\n",
    "   \n",
    "\n",
    "Perform the following tasks on the data :\n",
    "\n",
    "i. List out the features( numerical and categorical) ?  (2 Marks )\n",
    "\n",
    "ii. Frame Null and Alternate Hypothesis and perform the required statistical tests between any 4 categorical features.(8 marks)\n",
    "\n",
    "\n",
    "iii. Is there any influence of gender on the Salary received ?Frame the hypothesis and perform the test. (3 Marks)\n",
    "\n",
    "iv. Interpret all the above test results. (2 Marks)\n",
    "\n",
    "\n",
    "**Note: Assume all continuous columns are normally distributed and have equal variance.**"
   ]
  },
  {
   "cell_type": "code",
   "execution_count": null,
   "metadata": {
    "colab": {},
    "colab_type": "code",
    "id": "9XuJgy7MJ5mP"
   },
   "outputs": [],
   "source": []
  },
  {
   "cell_type": "markdown",
   "metadata": {
    "colab_type": "text",
    "id": "9uWcdAZzJ5mY"
   },
   "source": [
    "<span style=\"font-family: Arial; font-weight:bold;font-size:1.5em;\"> 8.   Give the answers for the following hypothesis. Use the dataframe \"Outlet\".\n",
    "\n",
    "a.\tDoes Item fat content have any effect on item outlet sales?  ( 3 Marks )  \n",
    "\n",
    "b.\tDoes outlet establishment year have any effect on item outlet sales? ( 3 Marks )\n",
    "\n",
    "c.\tDoes item mrp have any effect on item outlet sales? ( 3 Marks )\n",
    "\n",
    "d.\tDoes item visibility have any effect on item outlet sales? ( 3 Marks )\n",
    "\n",
    "e.\tDoes item weight have any effect on item outlet sales?.(Drop the null values in the item weight) \n",
    "(3 Marks )\n",
    "\n",
    "**Note: Assume all the continuous columns are normally distributed and have equal variance.**"
   ]
  },
  {
   "cell_type": "code",
   "execution_count": null,
   "metadata": {
    "colab": {},
    "colab_type": "code",
    "id": "pzLIu4EvJ5mw"
   },
   "outputs": [],
   "source": []
  }
 ],
 "metadata": {
  "colab": {
   "name": "Final_STAT_Set7_Question.ipynb",
   "provenance": []
  },
  "kernelspec": {
   "display_name": "Python 3",
   "language": "python",
   "name": "python3"
  },
  "language_info": {
   "codemirror_mode": {
    "name": "ipython",
    "version": 3
   },
   "file_extension": ".py",
   "mimetype": "text/x-python",
   "name": "python",
   "nbconvert_exporter": "python",
   "pygments_lexer": "ipython3",
   "version": "3.8.8"
  }
 },
 "nbformat": 4,
 "nbformat_minor": 1
}
