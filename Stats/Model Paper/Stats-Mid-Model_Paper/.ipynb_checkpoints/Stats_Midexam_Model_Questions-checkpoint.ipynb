{
 "cells": [
  {
   "cell_type": "markdown",
   "metadata": {},
   "source": [
    "<table align=\"left\" width=100%>\n",
    "    <tr>\n",
    "        <td width=\"20%\">\n",
    "            <img src=\"GL-2.png\">\n",
    "        </td>\n",
    "        <td>\n",
    "            <div align=\"center\">\n",
    "                <font color=\"#21618C\" size=8px>\n",
    "                  <b> Mid Exam <br> </b>\n",
    "                </font>\n",
    "            </div>\n",
    "        </td>\n",
    "    </tr>\n",
    "</table>"
   ]
  },
  {
   "cell_type": "markdown",
   "metadata": {},
   "source": [
    "# STATISTICS MID EXAM\n",
    "## Total Marks 50"
   ]
  },
  {
   "cell_type": "markdown",
   "metadata": {},
   "source": [
    "## SECTION A: 10 MARKS"
   ]
  },
  {
   "cell_type": "markdown",
   "metadata": {},
   "source": [
    "#### 1) There are totally 100 boats in a port.If on an average 2 ship out of 10 do not arrive safely to ports. \n",
    "\n",
    "#### i) Probability of getting exactly 12 boats to sink (2marks)\n",
    "#### ii) Probability of getting atleast 12 boats to sink (2marks)\n",
    "#### iii) Probability of getting atmost 12 boats to sink (2 marks)\n",
    "#### iv) Probability of getting between 10 and 15 boats to sink (4 marks)"
   ]
  },
  {
   "cell_type": "code",
   "execution_count": null,
   "metadata": {},
   "outputs": [],
   "source": []
  },
  {
   "cell_type": "code",
   "execution_count": null,
   "metadata": {},
   "outputs": [],
   "source": []
  },
  {
   "cell_type": "markdown",
   "metadata": {},
   "source": [
    "# SECTION B: 15 MARKS"
   ]
  },
  {
   "cell_type": "markdown",
   "metadata": {},
   "source": [
    "**2) A premium cricket bat production company must produce all of its bats to 1.25kg. Samples are drawn hourly and checked. If the production line gets out of sync with a statistical significance of more than 5%, it must be shut down and bat manufacturing machine needs to  be repaired.This hour’s sample of 15 bats are produced and weights of the bat are given below. Conduct the statistical analysis to check whether the shut down of production is required. Assume that data is normally distributed.**\n",
    "\n",
    "**bat_weight =[1.32,1.57,1.49,1.22,1.26,1.31,1.17,1.5,1.62,1.28,1.36,1.39,1.44,1.25,1.54]**\n",
    "\n",
    "i) Create the Hypothesis.(2 marks)\n",
    "\n",
    "ii) Determine the Statistical Test and give the reason for selection of the test.(2 mark)\n",
    "\n",
    "iii) Manual Calculation of test statistics and pvalue. (5 marks)\n",
    "\n",
    "iv) Use the inbuilt function. Prove the results of inbuilt function and manual calculation are equal. (3 marks)\n",
    "\n",
    "v) Interpret the Results.(3 marks)"
   ]
  },
  {
   "cell_type": "code",
   "execution_count": null,
   "metadata": {},
   "outputs": [],
   "source": []
  },
  {
   "cell_type": "code",
   "execution_count": null,
   "metadata": {},
   "outputs": [],
   "source": []
  },
  {
   "cell_type": "markdown",
   "metadata": {},
   "source": [
    "# SECTION C: 25 MARKS"
   ]
  },
  {
   "cell_type": "markdown",
   "metadata": {},
   "source": [
    "**3. Read the  salary_class dataset. The data set consists of complete employee details of an American citizens. \"class\" is the target variable in the data. Perform the following tasks on the data :**\n",
    "\n",
    "**Note :** \n",
    "\n",
    "**1)Assume all the columns are normally distributed.** \n",
    "\n",
    "**2)Test the assumptions of variance and accordingly choose the appropriate statistical test.**\n",
    "\n"
   ]
  },
  {
   "cell_type": "raw",
   "metadata": {},
   "source": [
    "# Dataset Description:\n",
    "\n",
    "age               -  Age of the citizen\n",
    "workclass         -  Working sector\n",
    "education         -  Education status\n",
    "marital-status    -  Marriage status\n",
    "race              -  Race of the citizen\n",
    "sex               -  Gender of the citizen\n",
    "hours-per-week    -  Working hours in a week\n",
    "native-country    -  Country of the citizen\n",
    "class             -  Salary Status (<=50k and >50k)"
   ]
  },
  {
   "cell_type": "markdown",
   "metadata": {},
   "source": [
    "i) Check the nullvalues in the dataset (2 mark)\n",
    "\n",
    "ii) Find the number of continuous and categorical columns in the dataset (3 mark)\n",
    "\n",
    "iii) Perform the graphical anlaysis between age vs class.Interpret the results (5marks)\n",
    "     \n",
    "iv) Determine whether age is helpful in predicting the class using statistical analysis.Interpret the results .(5marks)\n",
    "\n",
    "v) Determine whether sex is helpful in predicting class?.Interpret the results.  (5 marks)\n",
    "           \n",
    "vi) Find whether workclass and hours-per-week(continuous column) are related.Interpret the results.  (5 marks)"
   ]
  },
  {
   "cell_type": "markdown",
   "metadata": {},
   "source": [
    "### Reading the dataset"
   ]
  },
  {
   "cell_type": "code",
   "execution_count": 4,
   "metadata": {},
   "outputs": [],
   "source": [
    "#Kindly change the below cells from markdown to code and execute it "
   ]
  },
  {
   "cell_type": "markdown",
   "metadata": {},
   "source": [
    "import pandas as pd\n",
    "import csv\n",
    "with open(\"salary_class_midexam.csv\",\"r\")as file:\n",
    "    reader=csv.reader(file)\n",
    "salary=pd.read_csv(\"salary_class_midexam.csv\")\n",
    "salary.head()"
   ]
  },
  {
   "cell_type": "code",
   "execution_count": null,
   "metadata": {},
   "outputs": [],
   "source": []
  }
 ],
 "metadata": {
  "kernelspec": {
   "display_name": "Python 3",
   "language": "python",
   "name": "python3"
  },
  "language_info": {
   "codemirror_mode": {
    "name": "ipython",
    "version": 3
   },
   "file_extension": ".py",
   "mimetype": "text/x-python",
   "name": "python",
   "nbconvert_exporter": "python",
   "pygments_lexer": "ipython3",
   "version": "3.8.8"
  }
 },
 "nbformat": 4,
 "nbformat_minor": 4
}
