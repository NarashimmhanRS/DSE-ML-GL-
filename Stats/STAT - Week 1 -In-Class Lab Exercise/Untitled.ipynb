{
 "cells": [
  {
   "cell_type": "code",
   "execution_count": 1,
   "id": "d9c6b25f",
   "metadata": {},
   "outputs": [
    {
     "name": "stdout",
     "output_type": "stream",
     "text": [
      "The probability that less than 12 people choose red bikes is: 0.3021\n"
     ]
    }
   ],
   "source": [
    "import math\n",
    "\n",
    "def binomial_prob(n, k, p):\n",
    "    return math.comb(n, k) * (p ** k) * ((1 - p) ** (n - k))\n",
    "\n",
    "p_red = 0.46\n",
    "n = 28\n",
    "\n",
    "prob = sum([binomial_prob(n, k, p_red) for k in range(0, 12)])\n",
    "\n",
    "print(\"The probability that less than 12 people choose red bikes is: {:.4f}\".format(prob))"
   ]
  },
  {
   "cell_type": "code",
   "execution_count": 5,
   "id": "8805a396",
   "metadata": {},
   "outputs": [
    {
     "name": "stdout",
     "output_type": "stream",
     "text": [
      "0.9946326213024866\n"
     ]
    }
   ],
   "source": [
    "import scipy.stats as stats\n",
    "import numpy as np\n",
    "\n",
    "mean = 84\n",
    "std = 14\n",
    "sample_size = 36\n",
    "\n",
    "# Calculate the standard error\n",
    "se = std / np.sqrt(sample_size)\n",
    "\n",
    "# Find the z-score for 76 months\n",
    "z1 = (76 - mean) / se\n",
    "\n",
    "# Find the z-score for 90 months\n",
    "z2 = (90 - mean) / se\n",
    "\n",
    "# Find the probability that the mean of the sample will be between 76 and 90 months\n",
    "prob = stats.norm.cdf(z2) - stats.norm.cdf(z1)\n",
    "\n",
    "print(prob)"
   ]
  },
  {
   "cell_type": "code",
   "execution_count": 6,
   "id": "f7fab9eb",
   "metadata": {},
   "outputs": [
    {
     "name": "stdout",
     "output_type": "stream",
     "text": [
      "0.08545176011539879\n"
     ]
    }
   ],
   "source": [
    "import scipy.stats as stats\n",
    "\n",
    "mean = 80\n",
    "std = 20\n",
    "sample_size = 30\n",
    "\n",
    "# Calculate the standard error\n",
    "se = std / np.sqrt(sample_size)\n",
    "\n",
    "# Find the z-score for 85 kg\n",
    "z = (85 - mean) / se\n",
    "\n",
    "# Find the probability that the mean of the sample will be more than 85 kg\n",
    "prob = 1 - stats.norm.cdf(z)\n",
    "\n",
    "print(prob)\n"
   ]
  },
  {
   "cell_type": "code",
   "execution_count": null,
   "id": "84a32a5f",
   "metadata": {},
   "outputs": [],
   "source": []
  }
 ],
 "metadata": {
  "kernelspec": {
   "display_name": "Python 3 (ipykernel)",
   "language": "python",
   "name": "python3"
  },
  "language_info": {
   "codemirror_mode": {
    "name": "ipython",
    "version": 3
   },
   "file_extension": ".py",
   "mimetype": "text/x-python",
   "name": "python",
   "nbconvert_exporter": "python",
   "pygments_lexer": "ipython3",
   "version": "3.10.5"
  }
 },
 "nbformat": 4,
 "nbformat_minor": 5
}
