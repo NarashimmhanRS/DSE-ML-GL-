{
 "cells": [
  {
   "cell_type": "markdown",
   "id": "520eae35",
   "metadata": {},
   "source": [
    "<table align=\"left\" width=100%>\n",
    "    <tr>\n",
    "        <td width=\"20%\">\n",
    "            <img src=\"GL-2.png\">\n",
    "        </td>\n",
    "        <td>\n",
    "            <div align=\"center\">\n",
    "                <font color=\"#21618C\" size=8px>\n",
    "                  <b> Inclass Exercise <br>(Week - 4)</b>\n",
    "                </font>\n",
    "            </div>\n",
    "        </td>\n",
    "    </tr>\n",
    "</table>"
   ]
  },
  {
   "cell_type": "markdown",
   "id": "7102e432",
   "metadata": {},
   "source": [
    "## Table of Content\n",
    "\n",
    "1. **[Import Libraries](#lib)**\n",
    "2. **[Large Sample Test](#z)**\n",
    "    - 2.1 - **[Two Sample Z Test](#2z)**\n",
    "3. **[Small Sample Test](#t)**\n",
    "    - 3.1 - **[Two Sample t Test (Unpaired)](#2t)**\n",
    "    - 3.2 - **[Paired t Test](#paired)**\n",
    "4. **[Chi-Square Test](#chisq)**\n",
    "5. **[One-way ANOVA](#1way)**"
   ]
  },
  {
   "cell_type": "markdown",
   "id": "b73ced5a",
   "metadata": {},
   "source": [
    "<a id = \"lib\"> </a>\n",
    "## 1. Import Libraries"
   ]
  },
  {
   "cell_type": "code",
   "execution_count": 25,
   "id": "4e949652",
   "metadata": {},
   "outputs": [],
   "source": [
    "import numpy as np\n",
    "import pandas as pd\n",
    "import scipy.stats as stats\n",
    "import seaborn as sns\n",
    "from statsmodels.stats import weightstats as stests\n"
   ]
  },
  {
   "cell_type": "markdown",
   "id": "753057d6",
   "metadata": {},
   "source": [
    "<a id = \"z\"> </a>\n",
    "## 2. Large Sample Test"
   ]
  },
  {
   "cell_type": "markdown",
   "id": "f24caa9c",
   "metadata": {},
   "source": [
    "<a id = \"2z\"> </a>\n",
    "## 2.1 Large Two Sample Test"
   ]
  },
  {
   "cell_type": "markdown",
   "id": "c3ca4038",
   "metadata": {},
   "source": [
    "<table align=\"left\">\n",
    "    <tr>\n",
    "        <td width=\"6%\">\n",
    "            <img src=\"question_icon.png\">\n",
    "        </td>\n",
    "        <td>\n",
    "            <div align=\"left\", style=\"font-size:120%\">\n",
    "                <font color=\"#21618C\">\n",
    "                    <b>1. The technician wants to test whether the price of a phablet is not the same as the price of tablet. For the study, the technician collects the data of 50 gadgets of each type. Check whether the data satisfies the conditions to use the two sample Z-test. (Use 5% level of significance)</b>\n",
    "                </font>\n",
    "            </div>\n",
    "        </td>\n",
    "    </tr>\n",
    "</table>"
   ]
  },
  {
   "cell_type": "markdown",
   "id": "d0131419",
   "metadata": {},
   "source": [
    "Consider the dataset given in the CSV file `electronic.csv`. "
   ]
  },
  {
   "cell_type": "code",
   "execution_count": 3,
   "id": "473ff6ac",
   "metadata": {},
   "outputs": [
    {
     "data": {
      "text/html": [
       "<div>\n",
       "<style scoped>\n",
       "    .dataframe tbody tr th:only-of-type {\n",
       "        vertical-align: middle;\n",
       "    }\n",
       "\n",
       "    .dataframe tbody tr th {\n",
       "        vertical-align: top;\n",
       "    }\n",
       "\n",
       "    .dataframe thead th {\n",
       "        text-align: right;\n",
       "    }\n",
       "</style>\n",
       "<table border=\"1\" class=\"dataframe\">\n",
       "  <thead>\n",
       "    <tr style=\"text-align: right;\">\n",
       "      <th></th>\n",
       "      <th>Screensize (inch)</th>\n",
       "      <th>Price ($)</th>\n",
       "      <th>Weight (g)</th>\n",
       "      <th>Type</th>\n",
       "    </tr>\n",
       "  </thead>\n",
       "  <tbody>\n",
       "    <tr>\n",
       "      <th>0</th>\n",
       "      <td>6.5</td>\n",
       "      <td>245</td>\n",
       "      <td>252</td>\n",
       "      <td>Phablet</td>\n",
       "    </tr>\n",
       "    <tr>\n",
       "      <th>1</th>\n",
       "      <td>6.3</td>\n",
       "      <td>210</td>\n",
       "      <td>252</td>\n",
       "      <td>Phablet</td>\n",
       "    </tr>\n",
       "    <tr>\n",
       "      <th>2</th>\n",
       "      <td>6.1</td>\n",
       "      <td>224</td>\n",
       "      <td>234</td>\n",
       "      <td>Phablet</td>\n",
       "    </tr>\n",
       "    <tr>\n",
       "      <th>3</th>\n",
       "      <td>6.0</td>\n",
       "      <td>217</td>\n",
       "      <td>212</td>\n",
       "      <td>Phablet</td>\n",
       "    </tr>\n",
       "    <tr>\n",
       "      <th>4</th>\n",
       "      <td>6.4</td>\n",
       "      <td>252</td>\n",
       "      <td>252</td>\n",
       "      <td>Phablet</td>\n",
       "    </tr>\n",
       "    <tr>\n",
       "      <th>...</th>\n",
       "      <td>...</td>\n",
       "      <td>...</td>\n",
       "      <td>...</td>\n",
       "      <td>...</td>\n",
       "    </tr>\n",
       "    <tr>\n",
       "      <th>95</th>\n",
       "      <td>8.5</td>\n",
       "      <td>210</td>\n",
       "      <td>462</td>\n",
       "      <td>Tablet</td>\n",
       "    </tr>\n",
       "    <tr>\n",
       "      <th>96</th>\n",
       "      <td>8.5</td>\n",
       "      <td>203</td>\n",
       "      <td>462</td>\n",
       "      <td>Tablet</td>\n",
       "    </tr>\n",
       "    <tr>\n",
       "      <th>97</th>\n",
       "      <td>9.0</td>\n",
       "      <td>203</td>\n",
       "      <td>473</td>\n",
       "      <td>Tablet</td>\n",
       "    </tr>\n",
       "    <tr>\n",
       "      <th>98</th>\n",
       "      <td>8.9</td>\n",
       "      <td>175</td>\n",
       "      <td>430</td>\n",
       "      <td>Tablet</td>\n",
       "    </tr>\n",
       "    <tr>\n",
       "      <th>99</th>\n",
       "      <td>8.5</td>\n",
       "      <td>196</td>\n",
       "      <td>451</td>\n",
       "      <td>Tablet</td>\n",
       "    </tr>\n",
       "  </tbody>\n",
       "</table>\n",
       "<p>100 rows × 4 columns</p>\n",
       "</div>"
      ],
      "text/plain": [
       "    Screensize (inch)  Price ($)  Weight (g)     Type\n",
       "0                 6.5        245         252  Phablet\n",
       "1                 6.3        210         252  Phablet\n",
       "2                 6.1        224         234  Phablet\n",
       "3                 6.0        217         212  Phablet\n",
       "4                 6.4        252         252  Phablet\n",
       "..                ...        ...         ...      ...\n",
       "95                8.5        210         462   Tablet\n",
       "96                8.5        203         462   Tablet\n",
       "97                9.0        203         473   Tablet\n",
       "98                8.9        175         430   Tablet\n",
       "99                8.5        196         451   Tablet\n",
       "\n",
       "[100 rows x 4 columns]"
      ]
     },
     "execution_count": 3,
     "metadata": {},
     "output_type": "execute_result"
    }
   ],
   "source": [
    "ele = pd.read_csv('electronic.csv')\n",
    "ele"
   ]
  },
  {
   "cell_type": "code",
   "execution_count": 12,
   "id": "1136f47c",
   "metadata": {},
   "outputs": [
    {
     "name": "stdout",
     "output_type": "stream",
     "text": [
      "p1 = 0.205\n",
      "p2 = 0.338\n"
     ]
    }
   ],
   "source": [
    "Phablet = ele[ele['Type'] == 'Phablet']['Price ($)']\n",
    "Tablet = ele[ele['Type'] == 'Tablet']['Price ($)']\n",
    "\n",
    "s1,p1 = stats.shapiro(Phablet)\n",
    "p1 = round(p1,3)\n",
    "\n",
    "s2,p2 = stats.shapiro(Tablet)\n",
    "p2 = round(p2,3)\n",
    "\n",
    "print('p1 =',p1)\n",
    "print('p2 =',p2)"
   ]
  },
  {
   "cell_type": "code",
   "execution_count": 30,
   "id": "c93cdfe8",
   "metadata": {},
   "outputs": [
    {
     "name": "stdout",
     "output_type": "stream",
     "text": [
      "0.6635459332943239\n",
      "0.41728596812962016\n"
     ]
    }
   ],
   "source": [
    "stat, p_value = stats.levene(Phablet, Tablet)\n",
    "print(stat)\n",
    "print(p_value)"
   ]
  },
  {
   "cell_type": "markdown",
   "id": "1d424159",
   "metadata": {},
   "source": [
    "since pvalue is greater than 0.05. so fail to reject the null hypo. Hence the price of a phablet is not the same as the price of tablet"
   ]
  },
  {
   "cell_type": "markdown",
   "id": "e07bb598",
   "metadata": {},
   "source": [
    "<table align=\"left\">\n",
    "    <tr>\n",
    "        <td width=\"6%\">\n",
    "            <img src=\"question_icon.png\">\n",
    "        </td>\n",
    "        <td>\n",
    "            <div align=\"left\", style=\"font-size:120%\">\n",
    "                <font color=\"#21618C\">\n",
    "                    <b>2. The technician claims that the price of phablet is not the same as the price of tablet. For the study, the technician collects the data of 50 gadgets of each type. Test the technician's claim using the 95% confidence interval.</b>\n",
    "                </font>\n",
    "            </div>\n",
    "        </td>\n",
    "    </tr>\n",
    "</table>"
   ]
  },
  {
   "cell_type": "markdown",
   "id": "6d42fd43",
   "metadata": {},
   "source": [
    "Consider the dataset given in the CSV file `electronic.csv`. "
   ]
  },
  {
   "cell_type": "code",
   "execution_count": 31,
   "id": "2bdd6fd9",
   "metadata": {},
   "outputs": [],
   "source": [
    "H0 = 'Phablet -Tablet == 0'\n",
    "HA = 'Phablet -Tablet != 0'"
   ]
  },
  {
   "cell_type": "code",
   "execution_count": 13,
   "id": "3f362637",
   "metadata": {},
   "outputs": [],
   "source": [
    "sample_avg1 = np.mean(Phablet)\n",
    "sample_avg2 = np.mean(Tablet)"
   ]
  },
  {
   "cell_type": "code",
   "execution_count": 21,
   "id": "4c78434c",
   "metadata": {},
   "outputs": [],
   "source": [
    "sample_std1 = np.std(Phablet)\n",
    "sample_std2 = np.std(Tablet)"
   ]
  },
  {
   "cell_type": "code",
   "execution_count": 22,
   "id": "dc4c9671",
   "metadata": {},
   "outputs": [],
   "source": [
    "n1 = len(Phablet)\n",
    "n2 = len(Tablet)"
   ]
  },
  {
   "cell_type": "code",
   "execution_count": 23,
   "id": "deb9270b",
   "metadata": {},
   "outputs": [
    {
     "data": {
      "text/plain": [
       "(35.878949383413975, 54.841050616585996)"
      ]
     },
     "execution_count": 23,
     "metadata": {},
     "output_type": "execute_result"
    }
   ],
   "source": [
    "stats.norm.interval(0.95, loc = sample_avg1 - sample_avg2, scale= np.sqrt(((sample_std1**2)/n1) + ((sample_std2**2)/n2)))"
   ]
  },
  {
   "cell_type": "code",
   "execution_count": 26,
   "id": "ea09bbc8",
   "metadata": {},
   "outputs": [],
   "source": [
    "zs, pval = stests.ztest(x1 = Phablet, x2 = Tablet, value = 0 )"
   ]
  },
  {
   "cell_type": "code",
   "execution_count": 28,
   "id": "5cd35df2",
   "metadata": {},
   "outputs": [
    {
     "name": "stdout",
     "output_type": "stream",
     "text": [
      "9.282772555558113\n",
      "1.6512473234517284e-20\n"
     ]
    }
   ],
   "source": [
    "print(zs)\n",
    "print(pval)"
   ]
  },
  {
   "cell_type": "markdown",
   "id": "90565a9f",
   "metadata": {},
   "source": [
    "<a id=\"t\"></a>\n",
    "## 3. Small Sample Test"
   ]
  },
  {
   "cell_type": "markdown",
   "id": "ae2b898d",
   "metadata": {},
   "source": [
    "<a id=\"2t\"></a>\n",
    "## 3.1. Two sample T test Unpaired"
   ]
  },
  {
   "cell_type": "markdown",
   "id": "53d647ba",
   "metadata": {},
   "source": [
    "<table align=\"left\">\n",
    "    <tr>\n",
    "        <td width=\"6%\">\n",
    "            <img src=\"question_icon.png\">\n",
    "        </td>\n",
    "        <td>\n",
    "            <div align=\"left\", style=\"font-size:120%\">\n",
    "                <font color=\"#21618C\">\n",
    "                    <b>3. The newspaper agency wants to test whether Harry takes less time to deliver the newspapers than his colleague Ron. The manager has collected time (in minutes) taken by Harry and Ron for 7 days. Is the given dataset unpaired? If yes, check whether the manager at newspaper agency can use the two sample t-test for unpaired data with 99% confidence.  </b>\n",
    "                </font>\n",
    "            </div>\n",
    "        </td>\n",
    "    </tr>\n",
    "</table>"
   ]
  },
  {
   "cell_type": "markdown",
   "id": "2ada034d",
   "metadata": {},
   "source": [
    "Use the data given below:\n",
    "        \n",
    "    harry = [18.5, 17.4, 19.2, 16, 15.8, 13.4, 19.5]\n",
    "    ron = [19.7, 18.6, 21.3, 17.5, 23.8, 20.7, 21]"
   ]
  },
  {
   "cell_type": "code",
   "execution_count": 33,
   "id": "ecf16261",
   "metadata": {},
   "outputs": [
    {
     "name": "stdout",
     "output_type": "stream",
     "text": [
      "Degrees of freedom 12\n"
     ]
    }
   ],
   "source": [
    "harry = [18.5, 17.4, 19.2, 16, 15.8, 13.4, 19.5]\n",
    "ron = [19.7, 18.6, 21.3, 17.5, 23.8, 20.7, 21]\n",
    "\n",
    "n1 = len(harry)\n",
    "n2 = len(ron)\n",
    "\n",
    "sample_avg1 = np.mean(harry)\n",
    "sample_avg2 = np.mean(ron)\n",
    "\n",
    "sample_std1 = np.std(harry)\n",
    "sample_std2 = np.std(ron)\n",
    "\n",
    "print('Degrees of freedom',n1+n2-2)"
   ]
  },
  {
   "cell_type": "code",
   "execution_count": 45,
   "id": "c19577fd",
   "metadata": {},
   "outputs": [
    {
     "name": "stdout",
     "output_type": "stream",
     "text": [
      "p1 = 0.575\n",
      "p2 = 0.918\n"
     ]
    }
   ],
   "source": [
    "s1,p1 = stats.shapiro(harry)\n",
    "p1 = round(p1,3)\n",
    "\n",
    "s2,p2 = stats.shapiro(ron)\n",
    "p2 = round(p2,3)\n",
    "\n",
    "print('p1 =',p1)\n",
    "print('p2 =',p2)"
   ]
  },
  {
   "cell_type": "code",
   "execution_count": 46,
   "id": "c464a2dc",
   "metadata": {},
   "outputs": [
    {
     "name": "stdout",
     "output_type": "stream",
     "text": [
      "0.12793271359008374\n",
      "0.7267972480247995\n"
     ]
    }
   ],
   "source": [
    "stat, p_value = stats.levene(harry, ron)\n",
    "print(stat)\n",
    "print(p_value)"
   ]
  },
  {
   "cell_type": "markdown",
   "id": "bc5c5cd8",
   "metadata": {},
   "source": [
    "<table align=\"left\">\n",
    "    <tr>\n",
    "        <td width=\"6%\">\n",
    "            <img src=\"question_icon.png\">\n",
    "        </td>\n",
    "        <td>\n",
    "            <div align=\"left\", style=\"font-size:120%\">\n",
    "                <font color=\"#21618C\">\n",
    "                    <b>4. The newspaper agency wants to test whether Harry takes less time to deliver the newspapers than his colleague Ron. The manager has collected time (in minutes) taken by Harry and Ron for 7 days. Use the given data and test the hypothesis for population mean time using a critical value method and p-value criteria with 90% confidence.</b>\n",
    "                </font>\n",
    "            </div>\n",
    "        </td>\n",
    "    </tr>\n",
    "</table>"
   ]
  },
  {
   "cell_type": "markdown",
   "id": "d59e8c68",
   "metadata": {},
   "source": [
    "Use the data given below:\n",
    "        \n",
    "    harry = [18.5, 17.4, 19.2, 16, 15.8, 13.4, 19.5]\n",
    "    ron = [19.7, 18.6, 21.3, 17.5, 23.8, 20.7, 21]"
   ]
  },
  {
   "cell_type": "code",
   "execution_count": 52,
   "id": "18943868",
   "metadata": {
    "scrolled": true
   },
   "outputs": [
    {
     "name": "stdout",
     "output_type": "stream",
     "text": [
      "Critical value : 1.36\n"
     ]
    }
   ],
   "source": [
    "t_val = np.abs(round(stats.t.isf(q = 0.1, df = 12), 2))\n",
    "print('Critical value :', t_val)"
   ]
  },
  {
   "cell_type": "code",
   "execution_count": 54,
   "id": "9a71f952",
   "metadata": {},
   "outputs": [
    {
     "data": {
      "text/plain": [
       "0.01385995160611642"
      ]
     },
     "execution_count": 54,
     "metadata": {},
     "output_type": "execute_result"
    }
   ],
   "source": [
    "t_stat,p_val = stats.ttest_ind(a = harry, b = ron)\n",
    "p_val"
   ]
  },
  {
   "cell_type": "markdown",
   "id": "5faca25c",
   "metadata": {},
   "source": [
    "harry takes less time to delivery newspaper compare ron "
   ]
  },
  {
   "cell_type": "markdown",
   "id": "c0146bad",
   "metadata": {},
   "source": [
    "<table align=\"left\">\n",
    "    <tr>\n",
    "        <td width=\"6%\">\n",
    "            <img src=\"question_icon.png\">\n",
    "        </td>\n",
    "        <td>\n",
    "            <div align=\"left\", style=\"font-size:120%\">\n",
    "                <font color=\"#21618C\">\n",
    "                    <b>5. Research suggests that the fat content (in g) in the rice-bran oil of Nutura products is less than that of Markgen products. To test this claim we have recorded the fat content in 6 packs of 100 g oil from both the companies. Consider a 1% level of significance.</b>\n",
    "                </font>\n",
    "            </div>\n",
    "        </td>\n",
    "    </tr>\n",
    "</table>"
   ]
  },
  {
   "cell_type": "markdown",
   "id": "2830d785",
   "metadata": {},
   "source": [
    "Given data:\n",
    "\n",
    "        Nutura_fat = [99.5, 98, 98.6, 98.2, 96.8, 98.4]\n",
    "        Markgen_fat = [ 98.7, 91.8, 92.6, 97.5, 93, 96.1]"
   ]
  },
  {
   "cell_type": "code",
   "execution_count": 49,
   "id": "67dadfaf",
   "metadata": {},
   "outputs": [
    {
     "name": "stdout",
     "output_type": "stream",
     "text": [
      "Degree of Freedom 10\n"
     ]
    }
   ],
   "source": [
    "Nutura_fat = [99.5, 98, 98.6, 98.2, 96.8, 98.4]\n",
    "Markgen_fat = [ 98.7, 91.8, 92.6, 97.5, 93, 96.1]\n",
    "\n",
    "n1 = len(Nutura_fat)\n",
    "n2 = len(Markgen_fat)\n",
    "\n",
    "samp_avg1 = np.mean(Nutura_fat)\n",
    "samp_avg2 = np.mean(Markgen_fat)\n",
    "\n",
    "samp_std1 = np.std(Nutura_fat)\n",
    "samp_std2 = np.std(Markgen_fat)\n",
    "\n",
    "print('Degree of Freedom',n1+n2-2)"
   ]
  },
  {
   "cell_type": "code",
   "execution_count": 50,
   "id": "1ed39f49",
   "metadata": {},
   "outputs": [
    {
     "name": "stdout",
     "output_type": "stream",
     "text": [
      "p1 = 0.575\n",
      "p2 = 0.918\n"
     ]
    }
   ],
   "source": [
    "s1,p1 = stats.shapiro(harry)\n",
    "p1 = round(p1,3)\n",
    "\n",
    "s2,p2 = stats.shapiro(ron)\n",
    "p2 = round(p2,3)\n",
    "\n",
    "print('p1 =',p1)\n",
    "print('p2 =',p2)"
   ]
  },
  {
   "cell_type": "markdown",
   "id": "b7a6cf43",
   "metadata": {},
   "source": [
    "<a id='paired'></a>\n",
    "## 3.2.Two sample paired T-test"
   ]
  },
  {
   "cell_type": "markdown",
   "id": "03bb3956",
   "metadata": {},
   "source": [
    "<table align=\"left\">\n",
    "    <tr>\n",
    "        <td width=\"6%\">\n",
    "            <img src=\"question_icon.png\">\n",
    "        </td>\n",
    "        <td>\n",
    "            <div align=\"left\", style=\"font-size:120%\">\n",
    "                <font color=\"#21618C\">\n",
    "                        <b>6. The pharmaceutical company had organized a program to introduce its new drug to lower the sugar level. They recorded the fasting sugar (in mg/dl) of 25 diabetic people. Those people undergo a medication of the new drug for 10 days and again took a fasting sugar level test. The company claim that the sugar level decreases due to its new drug. Test the claim using p-value technique with 95% confidence.</b>\n",
    "                </font>\n",
    "            </div>\n",
    "        </td>\n",
    "    </tr>\n",
    "</table>"
   ]
  },
  {
   "cell_type": "markdown",
   "id": "05e0a2f5",
   "metadata": {},
   "source": [
    "Use the data given in the file `sugar_level.xlsx`"
   ]
  },
  {
   "cell_type": "code",
   "execution_count": 4,
   "id": "0b0fa518",
   "metadata": {},
   "outputs": [],
   "source": [
    "# type solution here"
   ]
  },
  {
   "cell_type": "markdown",
   "id": "370dc379",
   "metadata": {},
   "source": [
    "<table align=\"left\">\n",
    "    <tr>\n",
    "        <td width=\"6%\">\n",
    "            <img src=\"question_icon.png\">\n",
    "        </td>\n",
    "        <td>\n",
    "            <div align=\"left\", style=\"font-size:120%\">\n",
    "                <font color=\"#21618C\">\n",
    "                    <b>7. The gym trainer claims that the new aerobic exercise has reduced the weight of the customers. The weight in the last month before the aerobic exercise and weight in this month after the aerobic exercise is recorded for 6 people. Test the trainer's claim with 99% confidence.  </b>\n",
    "                </font>\n",
    "            </div>\n",
    "        </td>\n",
    "    </tr>\n",
    "</table>"
   ]
  },
  {
   "cell_type": "markdown",
   "id": "d69cca8b",
   "metadata": {},
   "source": [
    "Given data:\n",
    "\n",
    "        wt_before = [85, 74, 63.5, 69.4, 71.6, 65]\n",
    "        wt_after = [82, 71, 64, 65.2, 67.8, 64.7]"
   ]
  },
  {
   "cell_type": "code",
   "execution_count": 5,
   "id": "fd52cc8c",
   "metadata": {},
   "outputs": [],
   "source": [
    "# type solution here"
   ]
  },
  {
   "cell_type": "markdown",
   "id": "3df62022",
   "metadata": {},
   "source": [
    "<a id = \"chisq\"> </a>\n",
    "## 4. Chi-Square Test"
   ]
  },
  {
   "cell_type": "markdown",
   "id": "06bbd762",
   "metadata": {},
   "source": [
    "Use the data available in the CSV file `Employee_Attrition.csv` for questions 1 to 6."
   ]
  },
  {
   "cell_type": "markdown",
   "id": "71f6f1ff",
   "metadata": {},
   "source": [
    "please use below dataset"
   ]
  },
  {
   "cell_type": "raw",
   "id": "43ea58da",
   "metadata": {},
   "source": [
    "#read the sample data \n",
    "df_emp = pd.read_csv('Employee_Attrition.csv')\n",
    "\n",
    "#display the first two observations\n",
    "df_emp.head(2)"
   ]
  },
  {
   "cell_type": "markdown",
   "id": "813e89ee",
   "metadata": {},
   "source": [
    "<table align=\"left\">\n",
    "    <tr>\n",
    "        <td width=\"6%\">\n",
    "            <img src=\"question_icon.png\">\n",
    "        </td>\n",
    "        <td>\n",
    "            <div align=\"left\", style=\"font-size:120%\">\n",
    "                <font color=\"#21618C\">\n",
    "                    <b>8. A company in Los Angeles has three functional departments - Research and Development, Sales, and Human Resources. The company claims that the percentage of employees in these 3 departments is 55%, 35% and 10% respectively. Check the company's claim using p-value criteria. Consider a 5% level of significance.</b>\n",
    "                </font>\n",
    "            </div>\n",
    "        </td>\n",
    "    </tr>\n",
    "</table>"
   ]
  },
  {
   "cell_type": "code",
   "execution_count": null,
   "id": "036fa38a",
   "metadata": {},
   "outputs": [],
   "source": [
    "# type solution here"
   ]
  },
  {
   "cell_type": "markdown",
   "id": "4d1cba4b",
   "metadata": {},
   "source": [
    "<table align=\"left\">\n",
    "    <tr>\n",
    "        <td width=\"6%\">\n",
    "            <img src=\"question_icon.png\">\n",
    "        </td>\n",
    "        <td>\n",
    "            <div align=\"left\", style=\"font-size:120%\">\n",
    "                <font color=\"#21618C\">\n",
    "                    <b>9. The employees in an IT firm undergo an online assessment survey. The survey reveals that 20% of employees are least satisfied, 18% are fairly satisfied, 30% are moderately satisfied and 32% are highly satisfied with their job. Use a critical value method to test the survey result with 90% confidence.</b>\n",
    "                </font>\n",
    "            </div>\n",
    "        </td>\n",
    "    </tr>\n",
    "</table>"
   ]
  },
  {
   "cell_type": "code",
   "execution_count": 6,
   "id": "29c2ed79",
   "metadata": {},
   "outputs": [],
   "source": [
    "# type solution here"
   ]
  },
  {
   "cell_type": "markdown",
   "id": "efffe039",
   "metadata": {},
   "source": [
    "<table align=\"left\">\n",
    "    <tr>\n",
    "        <td width=\"6%\">\n",
    "            <img src=\"question_icon.png\">\n",
    "        </td>\n",
    "        <td>\n",
    "            <div align=\"left\", style=\"font-size:120%\">\n",
    "                <font color=\"#21618C\">\n",
    "                    <b>10. Check whether travelling for work depends upon the job role of an employee. Use p-value criteria to test the dependence with 99% confidence.</b>\n",
    "                </font>\n",
    "            </div>\n",
    "        </td>\n",
    "    </tr>\n",
    "</table>"
   ]
  },
  {
   "cell_type": "code",
   "execution_count": 7,
   "id": "b98f9285",
   "metadata": {},
   "outputs": [],
   "source": [
    "# type solution here"
   ]
  },
  {
   "cell_type": "markdown",
   "id": "d89f049e",
   "metadata": {},
   "source": [
    "<table align=\"left\">\n",
    "    <tr>\n",
    "        <td width=\"6%\">\n",
    "            <img src=\"question_icon.png\">\n",
    "        </td>\n",
    "        <td>\n",
    "            <div align=\"left\", style=\"font-size:120%\">\n",
    "                <font color=\"#21618C\">\n",
    "                    <b>11. Is there any relationship between the attrition of an employee and his/her marital status? Use the critical value technique to test the relationship with 95% confidence. </b>\n",
    "                </font>\n",
    "            </div>\n",
    "        </td>\n",
    "    </tr>\n",
    "</table>"
   ]
  },
  {
   "cell_type": "code",
   "execution_count": 8,
   "id": "de3ea597",
   "metadata": {},
   "outputs": [],
   "source": [
    "# type solution here"
   ]
  },
  {
   "cell_type": "markdown",
   "id": "efbadc5a",
   "metadata": {},
   "source": [
    "<a id = \"1way\"> </a>\n",
    "## 5. One-way ANOVA"
   ]
  },
  {
   "cell_type": "markdown",
   "id": "feb608ff",
   "metadata": {},
   "source": [
    "Use the data available in the CSV file `sales_emp.csv` for questions 7 to 11."
   ]
  },
  {
   "cell_type": "markdown",
   "id": "d7f11e33",
   "metadata": {},
   "source": [
    "Please use below dataset"
   ]
  },
  {
   "cell_type": "raw",
   "id": "02f31d63",
   "metadata": {},
   "source": [
    "#read the sample data \n",
    "df_emp = pd.read_csv('sales_emp.csv')\n",
    "\n",
    "#display the first two observations\n",
    "df_emp.head(2)"
   ]
  },
  {
   "cell_type": "markdown",
   "id": "369e94ec",
   "metadata": {},
   "source": [
    " <table align=\"left\">\n",
    "    <tr>\n",
    "        <td width=\"6%\">\n",
    "            <img src=\"question_icon.png\">\n",
    "        </td>\n",
    "        <td>\n",
    "            <div align=\"left\", style=\"font-size:120%\">\n",
    "                <font color=\"#21618C\">\n",
    "                    <b>12. Use the sales employees' dataset to test whether the average monthly income of sales executives with different education background is equal or not. Use a critical value method with 99% confidence.</b>\n",
    "                </font>\n",
    "            </div>\n",
    "        </td>\n",
    "    </tr>\n",
    "</table>"
   ]
  },
  {
   "cell_type": "code",
   "execution_count": 9,
   "id": "a5a7e3d2",
   "metadata": {},
   "outputs": [],
   "source": [
    "# type solution here"
   ]
  },
  {
   "cell_type": "markdown",
   "id": "adff7360",
   "metadata": {},
   "source": [
    "<table align=\"left\">\n",
    "    <tr>\n",
    "        <td width=\"6%\">\n",
    "            <img src=\"question_icon.png\">\n",
    "        </td>\n",
    "        <td>\n",
    "            <div align=\"left\", style=\"font-size:120%\">\n",
    "                <font color=\"#21618C\">\n",
    "                    <b>13. Can we use the given data of sales executives to check the equality of the average daily rate for different types of business travellers? Use a p-value technique to test at a 1% level of significance.</b>\n",
    "                </font>\n",
    "            </div>\n",
    "        </td>\n",
    "    </tr>\n",
    "</table>"
   ]
  },
  {
   "cell_type": "code",
   "execution_count": 10,
   "id": "8d77bd2c",
   "metadata": {},
   "outputs": [],
   "source": [
    "# type solution here"
   ]
  },
  {
   "cell_type": "markdown",
   "id": "cc3181ff",
   "metadata": {},
   "source": [
    "<table align=\"left\">\n",
    "    <tr>\n",
    "        <td width=\"6%\">\n",
    "            <img src=\"question_icon.png\">\n",
    "        </td>\n",
    "        <td>\n",
    "            <div align=\"left\", style=\"font-size:120%\">\n",
    "                <font color=\"#21618C\">\n",
    "                    <b>14. Use the parametric test to check the equality of the average daily rate for all the types of business travelling. Use a p-value technique to test the data with 99% confidence.</b>\n",
    "                </font>\n",
    "            </div>\n",
    "        </td>\n",
    "    </tr>\n",
    "</table>"
   ]
  },
  {
   "cell_type": "code",
   "execution_count": 11,
   "id": "648d72c0",
   "metadata": {},
   "outputs": [],
   "source": [
    "# type solution here"
   ]
  },
  {
   "cell_type": "markdown",
   "id": "4e947d34",
   "metadata": {},
   "source": [
    "<table align=\"left\">\n",
    "    <tr>\n",
    "        <td width=\"6%\">\n",
    "            <img src=\"question_icon.png\">\n",
    "        </td>\n",
    "        <td>\n",
    "            <div align=\"left\", style=\"font-size:120%\">\n",
    "                <font color=\"#21618C\">\n",
    "                    <b>15. Find the types of business travel for which the average daily rate is different. Use a 1% level of significance.</b>\n",
    "                </font>\n",
    "            </div>\n",
    "        </td>\n",
    "    </tr>\n",
    "</table>"
   ]
  },
  {
   "cell_type": "code",
   "execution_count": null,
   "id": "539741d3",
   "metadata": {},
   "outputs": [],
   "source": [
    "# type solution here"
   ]
  }
 ],
 "metadata": {
  "kernelspec": {
   "display_name": "Python 3 (ipykernel)",
   "language": "python",
   "name": "python3"
  },
  "language_info": {
   "codemirror_mode": {
    "name": "ipython",
    "version": 3
   },
   "file_extension": ".py",
   "mimetype": "text/x-python",
   "name": "python",
   "nbconvert_exporter": "python",
   "pygments_lexer": "ipython3",
   "version": "3.10.5"
  }
 },
 "nbformat": 4,
 "nbformat_minor": 5
}
