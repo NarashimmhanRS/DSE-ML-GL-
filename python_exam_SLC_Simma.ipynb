{
 "cells": [
  {
   "cell_type": "markdown",
   "metadata": {
    "colab_type": "text",
    "id": "6k6-Ha6flY7x"
   },
   "source": [
    "# SLC FINAL EXAM"
   ]
  },
  {
   "cell_type": "markdown",
   "metadata": {
    "colab_type": "text",
    "id": "VAagTVxslY7y"
   },
   "source": [
    "### DATASET: \n",
    "\n",
    "This dataset contains daily weather observations from numerous Australian weather stations.\n",
    "\n",
    "The target variable is RainTomorrow. This means: Did it rain the next day? Yes or No."
   ]
  },
  {
   "cell_type": "markdown",
   "metadata": {
    "colab_type": "text",
    "id": "u8_mPVIQlY7z"
   },
   "source": [
    "### ATTRIBUTE INFORMATION:  \n",
    "\n",
    " \n",
    " \n",
    " \n",
    " \n",
    " \n",
    " \n",
    " \n",
    " \n",
    " \n",
    " \n",
    " \n",
    " \n",
    " \n",
    " \n",
    " \n",
    " \n",
    " \n",
    " \n",
    " \n",
    " \n",
    " \n",
    " \n",
    " \n",
    " \n",
    " \n",
    " \n"
   ]
  },
  {
   "cell_type": "markdown",
   "metadata": {
    "colab_type": "text",
    "id": "QZj6ltVllY70"
   },
   "source": [
    "1. 'Date'= The date of observation\n",
    "\n",
    "2. 'Location'=The common name of the location of the weather station\n",
    "\n",
    "3. 'MinTemp'= The minimum temperature in degrees celsius\n",
    "\n",
    "4. 'MaxTemp'= The maximum temperature in degrees celsius\n",
    "\n",
    "5. 'Rainfall' = The amount of rainfall recorded for the day in mm\n",
    "\n",
    "6. 'Evaporation'= The so-called Class A pan evaporation (mm) in the 24 hours to 9am\n",
    "       \n",
    "7. 'Sunshine'= The number of hours of bright sunshine in the day.\n",
    "\n",
    "8. 'WindGustDir'= The direction of the strongest wind gust in the 24 hours to midnight\n",
    "\n",
    "9. 'WindGustSpeed'= The speed (km/h) of the strongest wind gust in the 24 hours to midnight\n",
    "\n",
    "10. 'WindDir9am'= Direction of the wind at 9am\n",
    "\n",
    "11. 'WindDir3pm' = Direction of the wind at 3pm\n",
    "\n",
    "12. 'WindSpeed9am'= Wind speed (km/hr) averaged over 10 minutes prior to 9am\n",
    "\n",
    "13. 'WindSpeed3pm'=  Wind speed (km/hr) averaged over 10 minutes prior to 3pm\n",
    "\n",
    "14. 'Humidity9am'= Humidity (percent) at 9am\n",
    "\n",
    "15. 'Humidity3pm'= Humidity (percent) at 3pm\n",
    "\n",
    "16. 'Pressure9am'= Atmospheric pressure (hpa) reduced to mean sea level at 9am\n",
    "\n",
    "17. 'Pressure3pm'= Atmospheric pressure (hpa) reduced to mean sea level at 3pm\n",
    "\n",
    "18. 'Cloud9am'= Fraction of sky obscured by cloud at 9am. This is measured in \"oktas\", which are a unit of eigths. It records how many eigths of the sky are\n",
    "\n",
    "19. 'Cloud3pm'= Fraction of sky obscured by cloud (in \"oktas\": eighths) at 3pm. See Cload9am for a description of the values\n",
    "\n",
    "20. 'Temp9am'= Temperature (degrees C) at 9am\n",
    "       \n",
    "21. 'Temp3pm'=  Temperature (degrees C) at 3pm\n",
    "\n",
    "22. 'RainToday'=  Boolean: 1 if precipitation (mm) in the 24 hours to 9am exceeds 1mm, otherwise 0\n",
    "\n",
    "23. 'RISK_MM'= The amount of next day rain in mm. Used to create response variable RainTomorrow. A kind of measure of the \"risk\".\n",
    "\n",
    "24. 'RainTomorrow'= The target variable. Did it rain tomorrow?"
   ]
  },
  {
   "cell_type": "markdown",
   "metadata": {
    "colab_type": "text",
    "id": "wAk6rU6FlY71"
   },
   "source": [
    "### 1.\tRead the dataset (tab, csv, xls, txt, inbuilt dataset)"
   ]
  },
  {
   "cell_type": "code",
   "execution_count": 19,
   "metadata": {
    "colab": {},
    "colab_type": "code",
    "id": "0xRueviLlY72"
   },
   "outputs": [],
   "source": [
    "# Kindly change the below cells from markdown to code and execute it "
   ]
  },
  {
   "cell_type": "code",
   "execution_count": 20,
   "metadata": {},
   "outputs": [],
   "source": [
    "\n",
    "import pandas as pd \n",
    "import numpy as np\n",
    "import matplotlib.pyplot as plt\n",
    "from matplotlib.colors import ListedColormap\n",
    "import seaborn as sns\n",
    "from warnings import filterwarnings\n",
    "filterwarnings('ignore')\n",
    "\n",
    "pd.options.display.max_columns = None \n",
    "pd.options.display.max_rows = None \n",
    "pd.options.display.float_format = '{:.6f}'.format\n",
    "\n",
    "import statsmodels\n",
    "import statsmodels.api as sm\n",
    "from sklearn.preprocessing import StandardScaler, LabelEncoder\n",
    "\n",
    "from sklearn import metrics \n",
    "from sklearn.linear_model import LogisticRegression\n",
    "from sklearn.metrics import classification_report\n",
    "from sklearn.metrics import cohen_kappa_score\n",
    "from sklearn.metrics import confusion_matrix\n",
    "from sklearn.metrics import roc_curve \n",
    "from sklearn.metrics import accuracy_score\n",
    "\n",
    "from sklearn.feature_selection import RFE\n",
    "\n",
    "from sklearn.neighbors import KNeighborsClassifier\n",
    "\n",
    "from sklearn. naive_bayes import GaussianNB\n",
    "\n",
    "from sklearn.model_selection import train_test_split\n",
    "from sklearn.model_selection import GridSearchCV\n",
    "from sklearn.model_selection import cross_val_score\n",
    "\n",
    "from sklearn import tree\n",
    "from sklearn.tree import DecisionTreeClassifier\n",
    "\n",
    "from sklearn.ensemble import RandomForestClassifier, AdaBoostClassifier, GradientBoostingClassifier, StackingClassifier\n",
    "\n",
    "from xgboost import XGBClassifier\n",
    "from sklearn.metrics import confusion_matrix, accuracy_score, roc_auc_score,ConfusionMatrixDisplay,precision_score, recall_score, f1_score,classification_report, roc_curve, auc, precision_recall_curve, average_precision_score\n"
   ]
  },
  {
   "cell_type": "code",
   "execution_count": 21,
   "metadata": {
    "colab_type": "text",
    "id": "O_tINAIolY77"
   },
   "outputs": [
    {
     "data": {
      "text/html": [
       "<div>\n",
       "<style scoped>\n",
       "    .dataframe tbody tr th:only-of-type {\n",
       "        vertical-align: middle;\n",
       "    }\n",
       "\n",
       "    .dataframe tbody tr th {\n",
       "        vertical-align: top;\n",
       "    }\n",
       "\n",
       "    .dataframe thead th {\n",
       "        text-align: right;\n",
       "    }\n",
       "</style>\n",
       "<table border=\"1\" class=\"dataframe\">\n",
       "  <thead>\n",
       "    <tr style=\"text-align: right;\">\n",
       "      <th></th>\n",
       "      <th>Date</th>\n",
       "      <th>Location</th>\n",
       "      <th>MinTemp</th>\n",
       "      <th>MaxTemp</th>\n",
       "      <th>Rainfall</th>\n",
       "      <th>Evaporation</th>\n",
       "      <th>Sunshine</th>\n",
       "      <th>WindGustDir</th>\n",
       "      <th>WindGustSpeed</th>\n",
       "      <th>WindDir9am</th>\n",
       "      <th>WindDir3pm</th>\n",
       "      <th>WindSpeed9am</th>\n",
       "      <th>WindSpeed3pm</th>\n",
       "      <th>Humidity9am</th>\n",
       "      <th>Humidity3pm</th>\n",
       "      <th>Pressure9am</th>\n",
       "      <th>Pressure3pm</th>\n",
       "      <th>Cloud9am</th>\n",
       "      <th>Cloud3pm</th>\n",
       "      <th>Temp9am</th>\n",
       "      <th>Temp3pm</th>\n",
       "      <th>RainToday</th>\n",
       "      <th>RISK_MM</th>\n",
       "      <th>RainTomorrow</th>\n",
       "    </tr>\n",
       "  </thead>\n",
       "  <tbody>\n",
       "    <tr>\n",
       "      <th>0</th>\n",
       "      <td>07-03-2012</td>\n",
       "      <td>Wollongong</td>\n",
       "      <td>16.000000</td>\n",
       "      <td>20.400000</td>\n",
       "      <td>8.200000</td>\n",
       "      <td>NaN</td>\n",
       "      <td>NaN</td>\n",
       "      <td>S</td>\n",
       "      <td>63.000000</td>\n",
       "      <td>SSW</td>\n",
       "      <td>SW</td>\n",
       "      <td>39.000000</td>\n",
       "      <td>20.000000</td>\n",
       "      <td>69.000000</td>\n",
       "      <td>92.000000</td>\n",
       "      <td>1018.500000</td>\n",
       "      <td>1017.600000</td>\n",
       "      <td>1.000000</td>\n",
       "      <td>8.000000</td>\n",
       "      <td>17.400000</td>\n",
       "      <td>15.600000</td>\n",
       "      <td>Yes</td>\n",
       "      <td>78.600000</td>\n",
       "      <td>Yes</td>\n",
       "    </tr>\n",
       "    <tr>\n",
       "      <th>1</th>\n",
       "      <td>06-01-2011</td>\n",
       "      <td>PerthAirport</td>\n",
       "      <td>18.500000</td>\n",
       "      <td>25.900000</td>\n",
       "      <td>16.000000</td>\n",
       "      <td>5.400000</td>\n",
       "      <td>11.800000</td>\n",
       "      <td>WSW</td>\n",
       "      <td>39.000000</td>\n",
       "      <td>SSW</td>\n",
       "      <td>WSW</td>\n",
       "      <td>20.000000</td>\n",
       "      <td>22.000000</td>\n",
       "      <td>60.000000</td>\n",
       "      <td>36.000000</td>\n",
       "      <td>1004.600000</td>\n",
       "      <td>1003.600000</td>\n",
       "      <td>7.000000</td>\n",
       "      <td>1.000000</td>\n",
       "      <td>22.200000</td>\n",
       "      <td>25.100000</td>\n",
       "      <td>Yes</td>\n",
       "      <td>0.000000</td>\n",
       "      <td>No</td>\n",
       "    </tr>\n",
       "    <tr>\n",
       "      <th>2</th>\n",
       "      <td>29-06-2014</td>\n",
       "      <td>Penrith</td>\n",
       "      <td>8.700000</td>\n",
       "      <td>16.500000</td>\n",
       "      <td>0.000000</td>\n",
       "      <td>NaN</td>\n",
       "      <td>NaN</td>\n",
       "      <td>WNW</td>\n",
       "      <td>56.000000</td>\n",
       "      <td>WNW</td>\n",
       "      <td>WNW</td>\n",
       "      <td>19.000000</td>\n",
       "      <td>22.000000</td>\n",
       "      <td>41.000000</td>\n",
       "      <td>41.000000</td>\n",
       "      <td>NaN</td>\n",
       "      <td>NaN</td>\n",
       "      <td>NaN</td>\n",
       "      <td>NaN</td>\n",
       "      <td>13.100000</td>\n",
       "      <td>15.100000</td>\n",
       "      <td>No</td>\n",
       "      <td>0.000000</td>\n",
       "      <td>No</td>\n",
       "    </tr>\n",
       "    <tr>\n",
       "      <th>3</th>\n",
       "      <td>16-12-2008</td>\n",
       "      <td>Cairns</td>\n",
       "      <td>25.500000</td>\n",
       "      <td>33.900000</td>\n",
       "      <td>0.200000</td>\n",
       "      <td>5.000000</td>\n",
       "      <td>7.000000</td>\n",
       "      <td>SSE</td>\n",
       "      <td>41.000000</td>\n",
       "      <td>SSE</td>\n",
       "      <td>SE</td>\n",
       "      <td>11.000000</td>\n",
       "      <td>19.000000</td>\n",
       "      <td>64.000000</td>\n",
       "      <td>59.000000</td>\n",
       "      <td>1009.800000</td>\n",
       "      <td>1007.400000</td>\n",
       "      <td>6.000000</td>\n",
       "      <td>5.000000</td>\n",
       "      <td>30.800000</td>\n",
       "      <td>31.500000</td>\n",
       "      <td>No</td>\n",
       "      <td>0.000000</td>\n",
       "      <td>No</td>\n",
       "    </tr>\n",
       "    <tr>\n",
       "      <th>4</th>\n",
       "      <td>21-04-2015</td>\n",
       "      <td>SalmonGums</td>\n",
       "      <td>3.800000</td>\n",
       "      <td>23.000000</td>\n",
       "      <td>0.000000</td>\n",
       "      <td>NaN</td>\n",
       "      <td>NaN</td>\n",
       "      <td>N</td>\n",
       "      <td>28.000000</td>\n",
       "      <td>NE</td>\n",
       "      <td>W</td>\n",
       "      <td>13.000000</td>\n",
       "      <td>7.000000</td>\n",
       "      <td>56.000000</td>\n",
       "      <td>29.000000</td>\n",
       "      <td>NaN</td>\n",
       "      <td>NaN</td>\n",
       "      <td>NaN</td>\n",
       "      <td>NaN</td>\n",
       "      <td>14.000000</td>\n",
       "      <td>21.100000</td>\n",
       "      <td>No</td>\n",
       "      <td>0.000000</td>\n",
       "      <td>No</td>\n",
       "    </tr>\n",
       "  </tbody>\n",
       "</table>\n",
       "</div>"
      ],
      "text/plain": [
       "         Date      Location   MinTemp   MaxTemp  Rainfall  Evaporation  \\\n",
       "0  07-03-2012    Wollongong 16.000000 20.400000  8.200000          NaN   \n",
       "1  06-01-2011  PerthAirport 18.500000 25.900000 16.000000     5.400000   \n",
       "2  29-06-2014       Penrith  8.700000 16.500000  0.000000          NaN   \n",
       "3  16-12-2008        Cairns 25.500000 33.900000  0.200000     5.000000   \n",
       "4  21-04-2015    SalmonGums  3.800000 23.000000  0.000000          NaN   \n",
       "\n",
       "   Sunshine WindGustDir  WindGustSpeed WindDir9am WindDir3pm  WindSpeed9am  \\\n",
       "0       NaN           S      63.000000        SSW         SW     39.000000   \n",
       "1 11.800000         WSW      39.000000        SSW        WSW     20.000000   \n",
       "2       NaN         WNW      56.000000        WNW        WNW     19.000000   \n",
       "3  7.000000         SSE      41.000000        SSE         SE     11.000000   \n",
       "4       NaN           N      28.000000         NE          W     13.000000   \n",
       "\n",
       "   WindSpeed3pm  Humidity9am  Humidity3pm  Pressure9am  Pressure3pm  Cloud9am  \\\n",
       "0     20.000000    69.000000    92.000000  1018.500000  1017.600000  1.000000   \n",
       "1     22.000000    60.000000    36.000000  1004.600000  1003.600000  7.000000   \n",
       "2     22.000000    41.000000    41.000000          NaN          NaN       NaN   \n",
       "3     19.000000    64.000000    59.000000  1009.800000  1007.400000  6.000000   \n",
       "4      7.000000    56.000000    29.000000          NaN          NaN       NaN   \n",
       "\n",
       "   Cloud3pm   Temp9am   Temp3pm RainToday   RISK_MM RainTomorrow  \n",
       "0  8.000000 17.400000 15.600000       Yes 78.600000          Yes  \n",
       "1  1.000000 22.200000 25.100000       Yes  0.000000           No  \n",
       "2       NaN 13.100000 15.100000        No  0.000000           No  \n",
       "3  5.000000 30.800000 31.500000        No  0.000000           No  \n",
       "4       NaN 14.000000 21.100000        No  0.000000           No  "
      ]
     },
     "execution_count": 21,
     "metadata": {},
     "output_type": "execute_result"
    }
   ],
   "source": [
    "import csv\n",
    "\n",
    "with open(\"data_set.csv\",\"r\")as file:\n",
    "    \n",
    "    reader=csv.reader(file)\n",
    "    \n",
    "df=pd.read_csv(\"data_set.csv\")\n",
    "\n",
    "df.head()\n"
   ]
  },
  {
   "cell_type": "code",
   "execution_count": null,
   "metadata": {
    "colab": {},
    "colab_type": "code",
    "id": "HvZTS3DClY78"
   },
   "outputs": [],
   "source": []
  },
  {
   "cell_type": "markdown",
   "metadata": {
    "colab_type": "text",
    "id": "_CmXK0fNlY8A"
   },
   "source": [
    "### 2.\tSummarize important observations from the data set (5 Marks)\n",
    "\n",
    "Some pointers which would help you, but don’t be limited by these\n",
    "\n",
    "a.\tFind out number of rows; no. & types of variables (continuous, categorical etc.)\n",
    "\n",
    "b.\tCalculate five-point summary for numerical variables\n",
    "\n",
    "c.\tSummarize observations for categorical variables – no. of categories, % observations in each category\n"
   ]
  },
  {
   "cell_type": "code",
   "execution_count": 22,
   "metadata": {
    "colab": {},
    "colab_type": "code",
    "id": "Gh10yJGClY8B"
   },
   "outputs": [
    {
     "name": "stdout",
     "output_type": "stream",
     "text": [
      "<class 'pandas.core.frame.DataFrame'>\n",
      "RangeIndex: 1040 entries, 0 to 1039\n",
      "Data columns (total 24 columns):\n",
      " #   Column         Non-Null Count  Dtype  \n",
      "---  ------         --------------  -----  \n",
      " 0   Date           1040 non-null   object \n",
      " 1   Location       1040 non-null   object \n",
      " 2   MinTemp        1035 non-null   float64\n",
      " 3   MaxTemp        1035 non-null   float64\n",
      " 4   Rainfall       1029 non-null   float64\n",
      " 5   Evaporation    582 non-null    float64\n",
      " 6   Sunshine       533 non-null    float64\n",
      " 7   WindGustDir    969 non-null    object \n",
      " 8   WindGustSpeed  969 non-null    float64\n",
      " 9   WindDir9am     981 non-null    object \n",
      " 10  WindDir3pm     1014 non-null   object \n",
      " 11  WindSpeed9am   1032 non-null   float64\n",
      " 12  WindSpeed3pm   1023 non-null   float64\n",
      " 13  Humidity9am    1031 non-null   float64\n",
      " 14  Humidity3pm    1016 non-null   float64\n",
      " 15  Pressure9am    929 non-null    float64\n",
      " 16  Pressure3pm    932 non-null    float64\n",
      " 17  Cloud9am       613 non-null    float64\n",
      " 18  Cloud3pm       597 non-null    float64\n",
      " 19  Temp9am        1034 non-null   float64\n",
      " 20  Temp3pm        1022 non-null   float64\n",
      " 21  RainToday      1029 non-null   object \n",
      " 22  RISK_MM        1040 non-null   float64\n",
      " 23  RainTomorrow   1040 non-null   object \n",
      "dtypes: float64(17), object(7)\n",
      "memory usage: 195.1+ KB\n"
     ]
    }
   ],
   "source": [
    "df.info()"
   ]
  },
  {
   "cell_type": "code",
   "execution_count": 23,
   "metadata": {},
   "outputs": [
    {
     "data": {
      "text/plain": [
       "(1040, 24)"
      ]
     },
     "execution_count": 23,
     "metadata": {},
     "output_type": "execute_result"
    }
   ],
   "source": [
    "df.shape"
   ]
  },
  {
   "cell_type": "code",
   "execution_count": 24,
   "metadata": {},
   "outputs": [
    {
     "name": "stdout",
     "output_type": "stream",
     "text": [
      "Number of rows: 1040\n",
      "Number and type of varibales: float64    17\n",
      "object      7\n",
      "dtype: int64\n"
     ]
    }
   ],
   "source": [
    "num_rows = len(df)\n",
    "print('Number of rows:', num_rows)\n",
    "\n",
    "var_types = df.dtypes.value_counts()\n",
    "print('Number and type of varibales:', var_types)"
   ]
  },
  {
   "cell_type": "code",
   "execution_count": 25,
   "metadata": {},
   "outputs": [
    {
     "data": {
      "text/html": [
       "<div>\n",
       "<style scoped>\n",
       "    .dataframe tbody tr th:only-of-type {\n",
       "        vertical-align: middle;\n",
       "    }\n",
       "\n",
       "    .dataframe tbody tr th {\n",
       "        vertical-align: top;\n",
       "    }\n",
       "\n",
       "    .dataframe thead th {\n",
       "        text-align: right;\n",
       "    }\n",
       "</style>\n",
       "<table border=\"1\" class=\"dataframe\">\n",
       "  <thead>\n",
       "    <tr style=\"text-align: right;\">\n",
       "      <th></th>\n",
       "      <th>MinTemp</th>\n",
       "      <th>MaxTemp</th>\n",
       "      <th>Rainfall</th>\n",
       "      <th>Evaporation</th>\n",
       "      <th>Sunshine</th>\n",
       "      <th>WindGustSpeed</th>\n",
       "      <th>WindSpeed9am</th>\n",
       "      <th>WindSpeed3pm</th>\n",
       "      <th>Humidity9am</th>\n",
       "      <th>Humidity3pm</th>\n",
       "      <th>Pressure9am</th>\n",
       "      <th>Pressure3pm</th>\n",
       "      <th>Cloud9am</th>\n",
       "      <th>Cloud3pm</th>\n",
       "      <th>Temp9am</th>\n",
       "      <th>Temp3pm</th>\n",
       "      <th>RISK_MM</th>\n",
       "    </tr>\n",
       "  </thead>\n",
       "  <tbody>\n",
       "    <tr>\n",
       "      <th>count</th>\n",
       "      <td>1035.000000</td>\n",
       "      <td>1035.000000</td>\n",
       "      <td>1029.000000</td>\n",
       "      <td>582.000000</td>\n",
       "      <td>533.000000</td>\n",
       "      <td>969.000000</td>\n",
       "      <td>1032.000000</td>\n",
       "      <td>1023.000000</td>\n",
       "      <td>1031.000000</td>\n",
       "      <td>1016.000000</td>\n",
       "      <td>929.000000</td>\n",
       "      <td>932.000000</td>\n",
       "      <td>613.000000</td>\n",
       "      <td>597.000000</td>\n",
       "      <td>1034.000000</td>\n",
       "      <td>1022.000000</td>\n",
       "      <td>1040.000000</td>\n",
       "    </tr>\n",
       "    <tr>\n",
       "      <th>mean</th>\n",
       "      <td>12.008019</td>\n",
       "      <td>23.055942</td>\n",
       "      <td>2.185520</td>\n",
       "      <td>5.183505</td>\n",
       "      <td>7.606379</td>\n",
       "      <td>40.026832</td>\n",
       "      <td>13.768411</td>\n",
       "      <td>18.414467</td>\n",
       "      <td>69.535403</td>\n",
       "      <td>51.698819</td>\n",
       "      <td>1017.277718</td>\n",
       "      <td>1014.931438</td>\n",
       "      <td>4.592170</td>\n",
       "      <td>4.447236</td>\n",
       "      <td>16.794584</td>\n",
       "      <td>21.477495</td>\n",
       "      <td>2.158365</td>\n",
       "    </tr>\n",
       "    <tr>\n",
       "      <th>std</th>\n",
       "      <td>6.176816</td>\n",
       "      <td>6.809834</td>\n",
       "      <td>7.502780</td>\n",
       "      <td>3.426213</td>\n",
       "      <td>3.756107</td>\n",
       "      <td>13.703520</td>\n",
       "      <td>8.350102</td>\n",
       "      <td>8.446346</td>\n",
       "      <td>18.204141</td>\n",
       "      <td>20.227374</td>\n",
       "      <td>7.353785</td>\n",
       "      <td>7.243600</td>\n",
       "      <td>2.897498</td>\n",
       "      <td>2.745218</td>\n",
       "      <td>6.101344</td>\n",
       "      <td>6.665932</td>\n",
       "      <td>7.634139</td>\n",
       "    </tr>\n",
       "    <tr>\n",
       "      <th>min</th>\n",
       "      <td>-4.100000</td>\n",
       "      <td>-0.800000</td>\n",
       "      <td>0.000000</td>\n",
       "      <td>0.400000</td>\n",
       "      <td>0.000000</td>\n",
       "      <td>9.000000</td>\n",
       "      <td>0.000000</td>\n",
       "      <td>0.000000</td>\n",
       "      <td>6.000000</td>\n",
       "      <td>3.000000</td>\n",
       "      <td>986.300000</td>\n",
       "      <td>989.300000</td>\n",
       "      <td>0.000000</td>\n",
       "      <td>0.000000</td>\n",
       "      <td>-2.800000</td>\n",
       "      <td>-2.900000</td>\n",
       "      <td>0.000000</td>\n",
       "    </tr>\n",
       "    <tr>\n",
       "      <th>25%</th>\n",
       "      <td>7.500000</td>\n",
       "      <td>17.900000</td>\n",
       "      <td>0.000000</td>\n",
       "      <td>2.650000</td>\n",
       "      <td>5.000000</td>\n",
       "      <td>31.000000</td>\n",
       "      <td>7.000000</td>\n",
       "      <td>13.000000</td>\n",
       "      <td>58.000000</td>\n",
       "      <td>37.000000</td>\n",
       "      <td>1012.700000</td>\n",
       "      <td>1010.000000</td>\n",
       "      <td>1.000000</td>\n",
       "      <td>2.000000</td>\n",
       "      <td>12.300000</td>\n",
       "      <td>16.400000</td>\n",
       "      <td>0.000000</td>\n",
       "    </tr>\n",
       "    <tr>\n",
       "      <th>50%</th>\n",
       "      <td>11.800000</td>\n",
       "      <td>22.500000</td>\n",
       "      <td>0.000000</td>\n",
       "      <td>4.400000</td>\n",
       "      <td>8.500000</td>\n",
       "      <td>39.000000</td>\n",
       "      <td>13.000000</td>\n",
       "      <td>19.000000</td>\n",
       "      <td>70.000000</td>\n",
       "      <td>52.000000</td>\n",
       "      <td>1017.500000</td>\n",
       "      <td>1015.100000</td>\n",
       "      <td>6.000000</td>\n",
       "      <td>5.000000</td>\n",
       "      <td>16.600000</td>\n",
       "      <td>21.050000</td>\n",
       "      <td>0.000000</td>\n",
       "    </tr>\n",
       "    <tr>\n",
       "      <th>75%</th>\n",
       "      <td>16.350000</td>\n",
       "      <td>27.700000</td>\n",
       "      <td>0.800000</td>\n",
       "      <td>7.000000</td>\n",
       "      <td>10.600000</td>\n",
       "      <td>48.000000</td>\n",
       "      <td>19.000000</td>\n",
       "      <td>24.000000</td>\n",
       "      <td>83.000000</td>\n",
       "      <td>65.000000</td>\n",
       "      <td>1022.300000</td>\n",
       "      <td>1019.900000</td>\n",
       "      <td>7.000000</td>\n",
       "      <td>7.000000</td>\n",
       "      <td>20.900000</td>\n",
       "      <td>25.900000</td>\n",
       "      <td>0.600000</td>\n",
       "    </tr>\n",
       "    <tr>\n",
       "      <th>max</th>\n",
       "      <td>28.600000</td>\n",
       "      <td>43.900000</td>\n",
       "      <td>121.400000</td>\n",
       "      <td>25.600000</td>\n",
       "      <td>13.800000</td>\n",
       "      <td>113.000000</td>\n",
       "      <td>52.000000</td>\n",
       "      <td>54.000000</td>\n",
       "      <td>100.000000</td>\n",
       "      <td>100.000000</td>\n",
       "      <td>1040.200000</td>\n",
       "      <td>1035.700000</td>\n",
       "      <td>8.000000</td>\n",
       "      <td>8.000000</td>\n",
       "      <td>39.100000</td>\n",
       "      <td>42.400000</td>\n",
       "      <td>88.600000</td>\n",
       "    </tr>\n",
       "  </tbody>\n",
       "</table>\n",
       "</div>"
      ],
      "text/plain": [
       "          MinTemp     MaxTemp    Rainfall  Evaporation   Sunshine  \\\n",
       "count 1035.000000 1035.000000 1029.000000   582.000000 533.000000   \n",
       "mean    12.008019   23.055942    2.185520     5.183505   7.606379   \n",
       "std      6.176816    6.809834    7.502780     3.426213   3.756107   \n",
       "min     -4.100000   -0.800000    0.000000     0.400000   0.000000   \n",
       "25%      7.500000   17.900000    0.000000     2.650000   5.000000   \n",
       "50%     11.800000   22.500000    0.000000     4.400000   8.500000   \n",
       "75%     16.350000   27.700000    0.800000     7.000000  10.600000   \n",
       "max     28.600000   43.900000  121.400000    25.600000  13.800000   \n",
       "\n",
       "       WindGustSpeed  WindSpeed9am  WindSpeed3pm  Humidity9am  Humidity3pm  \\\n",
       "count     969.000000   1032.000000   1023.000000  1031.000000  1016.000000   \n",
       "mean       40.026832     13.768411     18.414467    69.535403    51.698819   \n",
       "std        13.703520      8.350102      8.446346    18.204141    20.227374   \n",
       "min         9.000000      0.000000      0.000000     6.000000     3.000000   \n",
       "25%        31.000000      7.000000     13.000000    58.000000    37.000000   \n",
       "50%        39.000000     13.000000     19.000000    70.000000    52.000000   \n",
       "75%        48.000000     19.000000     24.000000    83.000000    65.000000   \n",
       "max       113.000000     52.000000     54.000000   100.000000   100.000000   \n",
       "\n",
       "       Pressure9am  Pressure3pm   Cloud9am   Cloud3pm     Temp9am     Temp3pm  \\\n",
       "count   929.000000   932.000000 613.000000 597.000000 1034.000000 1022.000000   \n",
       "mean   1017.277718  1014.931438   4.592170   4.447236   16.794584   21.477495   \n",
       "std       7.353785     7.243600   2.897498   2.745218    6.101344    6.665932   \n",
       "min     986.300000   989.300000   0.000000   0.000000   -2.800000   -2.900000   \n",
       "25%    1012.700000  1010.000000   1.000000   2.000000   12.300000   16.400000   \n",
       "50%    1017.500000  1015.100000   6.000000   5.000000   16.600000   21.050000   \n",
       "75%    1022.300000  1019.900000   7.000000   7.000000   20.900000   25.900000   \n",
       "max    1040.200000  1035.700000   8.000000   8.000000   39.100000   42.400000   \n",
       "\n",
       "          RISK_MM  \n",
       "count 1040.000000  \n",
       "mean     2.158365  \n",
       "std      7.634139  \n",
       "min      0.000000  \n",
       "25%      0.000000  \n",
       "50%      0.000000  \n",
       "75%      0.600000  \n",
       "max     88.600000  "
      ]
     },
     "execution_count": 25,
     "metadata": {},
     "output_type": "execute_result"
    }
   ],
   "source": [
    "df.describe()"
   ]
  },
  {
   "cell_type": "code",
   "execution_count": 26,
   "metadata": {},
   "outputs": [
    {
     "data": {
      "text/html": [
       "<div>\n",
       "<style scoped>\n",
       "    .dataframe tbody tr th:only-of-type {\n",
       "        vertical-align: middle;\n",
       "    }\n",
       "\n",
       "    .dataframe tbody tr th {\n",
       "        vertical-align: top;\n",
       "    }\n",
       "\n",
       "    .dataframe thead th {\n",
       "        text-align: right;\n",
       "    }\n",
       "</style>\n",
       "<table border=\"1\" class=\"dataframe\">\n",
       "  <thead>\n",
       "    <tr style=\"text-align: right;\">\n",
       "      <th></th>\n",
       "      <th>Date</th>\n",
       "      <th>Location</th>\n",
       "      <th>WindGustDir</th>\n",
       "      <th>WindDir9am</th>\n",
       "      <th>WindDir3pm</th>\n",
       "      <th>RainToday</th>\n",
       "      <th>RainTomorrow</th>\n",
       "    </tr>\n",
       "  </thead>\n",
       "  <tbody>\n",
       "    <tr>\n",
       "      <th>count</th>\n",
       "      <td>1040</td>\n",
       "      <td>1040</td>\n",
       "      <td>969</td>\n",
       "      <td>981</td>\n",
       "      <td>1014</td>\n",
       "      <td>1029</td>\n",
       "      <td>1040</td>\n",
       "    </tr>\n",
       "    <tr>\n",
       "      <th>unique</th>\n",
       "      <td>890</td>\n",
       "      <td>49</td>\n",
       "      <td>16</td>\n",
       "      <td>16</td>\n",
       "      <td>16</td>\n",
       "      <td>2</td>\n",
       "      <td>2</td>\n",
       "    </tr>\n",
       "    <tr>\n",
       "      <th>top</th>\n",
       "      <td>23-07-2016</td>\n",
       "      <td>SalmonGums</td>\n",
       "      <td>W</td>\n",
       "      <td>N</td>\n",
       "      <td>SE</td>\n",
       "      <td>No</td>\n",
       "      <td>No</td>\n",
       "    </tr>\n",
       "    <tr>\n",
       "      <th>freq</th>\n",
       "      <td>4</td>\n",
       "      <td>33</td>\n",
       "      <td>80</td>\n",
       "      <td>85</td>\n",
       "      <td>84</td>\n",
       "      <td>788</td>\n",
       "      <td>829</td>\n",
       "    </tr>\n",
       "  </tbody>\n",
       "</table>\n",
       "</div>"
      ],
      "text/plain": [
       "              Date    Location WindGustDir WindDir9am WindDir3pm RainToday  \\\n",
       "count         1040        1040         969        981       1014      1029   \n",
       "unique         890          49          16         16         16         2   \n",
       "top     23-07-2016  SalmonGums           W          N         SE        No   \n",
       "freq             4          33          80         85         84       788   \n",
       "\n",
       "       RainTomorrow  \n",
       "count          1040  \n",
       "unique            2  \n",
       "top              No  \n",
       "freq            829  "
      ]
     },
     "execution_count": 26,
     "metadata": {},
     "output_type": "execute_result"
    }
   ],
   "source": [
    "df.describe(include = 'object')"
   ]
  },
  {
   "cell_type": "code",
   "execution_count": 27,
   "metadata": {},
   "outputs": [
    {
     "name": "stdout",
     "output_type": "stream",
     "text": [
      "categorical variable summary:\n",
      "\n",
      "Date:\n",
      "Number of categoties: 890\n",
      "Percentage of observation in each category:\n",
      "23-07-2016   0.384615\n",
      "31-08-2010   0.288462\n",
      "16-12-2009   0.288462\n",
      "22-03-2012   0.288462\n",
      "14-10-2013   0.288462\n",
      "07-04-2015   0.288462\n",
      "02-10-2013   0.288462\n",
      "21-04-2017   0.288462\n",
      "16-06-2017   0.288462\n",
      "03-05-2014   0.288462\n",
      "04-08-2009   0.288462\n",
      "14-09-2011   0.192308\n",
      "28-05-2009   0.192308\n",
      "21-03-2011   0.192308\n",
      "19-12-2015   0.192308\n",
      "31-10-2009   0.192308\n",
      "10-02-2012   0.192308\n",
      "21-01-2012   0.192308\n",
      "22-07-2016   0.192308\n",
      "17-12-2008   0.192308\n",
      "07-03-2012   0.192308\n",
      "22-03-2017   0.192308\n",
      "23-11-2016   0.192308\n",
      "27-02-2011   0.192308\n",
      "18-03-2015   0.192308\n",
      "20-07-2012   0.192308\n",
      "02-03-2016   0.192308\n",
      "14-06-2016   0.192308\n",
      "21-03-2009   0.192308\n",
      "12-08-2014   0.192308\n",
      "10-08-2016   0.192308\n",
      "14-03-2015   0.192308\n",
      "09-10-2013   0.192308\n",
      "06-10-2013   0.192308\n",
      "01-03-2016   0.192308\n",
      "11-10-2014   0.192308\n",
      "27-01-2012   0.192308\n",
      "14-05-2011   0.192308\n",
      "12-03-2017   0.192308\n",
      "11-07-2014   0.192308\n",
      "24-10-2009   0.192308\n",
      "24-09-2016   0.192308\n",
      "04-03-2013   0.192308\n",
      "11-07-2011   0.192308\n",
      "16-01-2015   0.192308\n",
      "16-05-2017   0.192308\n",
      "04-05-2017   0.192308\n",
      "11-06-2013   0.192308\n",
      "22-02-2010   0.192308\n",
      "03-10-2015   0.192308\n",
      "03-09-2009   0.192308\n",
      "13-04-2009   0.192308\n",
      "09-01-2016   0.192308\n",
      "07-02-2014   0.192308\n",
      "15-11-2010   0.192308\n",
      "04-03-2015   0.192308\n",
      "19-10-2009   0.192308\n",
      "31-03-2009   0.192308\n",
      "09-06-2015   0.192308\n",
      "20-12-2011   0.192308\n",
      "09-10-2010   0.192308\n",
      "23-09-2014   0.192308\n",
      "01-08-2011   0.192308\n",
      "17-10-2016   0.192308\n",
      "16-05-2010   0.192308\n",
      "12-10-2015   0.192308\n",
      "14-10-2014   0.192308\n",
      "23-05-2011   0.192308\n",
      "15-04-2009   0.192308\n",
      "01-05-2017   0.192308\n",
      "29-01-2015   0.192308\n",
      "21-09-2016   0.192308\n",
      "30-03-2010   0.192308\n",
      "10-12-2016   0.192308\n",
      "15-01-2015   0.192308\n",
      "01-12-2010   0.192308\n",
      "03-06-2013   0.192308\n",
      "09-01-2011   0.192308\n",
      "02-05-2014   0.192308\n",
      "09-06-2010   0.192308\n",
      "16-09-2013   0.192308\n",
      "16-07-2014   0.192308\n",
      "19-09-2013   0.192308\n",
      "09-12-2013   0.192308\n",
      "14-02-2010   0.192308\n",
      "05-10-2012   0.192308\n",
      "03-09-2010   0.192308\n",
      "13-09-2012   0.192308\n",
      "14-05-2010   0.192308\n",
      "21-04-2015   0.192308\n",
      "05-10-2014   0.192308\n",
      "06-05-2011   0.192308\n",
      "08-02-2014   0.192308\n",
      "19-10-2015   0.192308\n",
      "25-10-2015   0.192308\n",
      "31-12-2013   0.192308\n",
      "30-01-2012   0.192308\n",
      "12-12-2016   0.192308\n",
      "06-06-2017   0.192308\n",
      "06-02-2015   0.192308\n",
      "30-03-2016   0.192308\n",
      "04-02-2012   0.192308\n",
      "05-06-2011   0.192308\n",
      "12-07-2011   0.192308\n",
      "07-03-2017   0.192308\n",
      "14-09-2013   0.192308\n",
      "17-12-2014   0.192308\n",
      "04-08-2016   0.192308\n",
      "14-07-2011   0.192308\n",
      "11-06-2012   0.192308\n",
      "12-06-2014   0.192308\n",
      "02-05-2011   0.192308\n",
      "06-02-2011   0.192308\n",
      "30-06-2011   0.192308\n",
      "09-10-2011   0.192308\n",
      "23-05-2015   0.192308\n",
      "24-04-2017   0.192308\n",
      "12-01-2010   0.192308\n",
      "24-11-2015   0.192308\n",
      "19-08-2011   0.192308\n",
      "23-01-2015   0.192308\n",
      "07-05-2011   0.192308\n",
      "06-01-2009   0.192308\n",
      "04-03-2011   0.192308\n",
      "21-04-2012   0.192308\n",
      "27-04-2013   0.192308\n",
      "01-02-2017   0.192308\n",
      "03-04-2016   0.192308\n",
      "08-04-2009   0.192308\n",
      "17-08-2013   0.192308\n",
      "26-05-2016   0.192308\n",
      "14-07-2010   0.192308\n",
      "08-11-2013   0.192308\n",
      "28-07-2014   0.192308\n",
      "04-06-2017   0.192308\n",
      "20-08-2016   0.192308\n",
      "24-04-2009   0.192308\n",
      "14-03-2017   0.192308\n",
      "27-11-2013   0.096154\n",
      "04-08-2012   0.096154\n",
      "30-11-2011   0.096154\n",
      "06-12-2013   0.096154\n",
      "18-01-2011   0.096154\n",
      "01-02-2009   0.096154\n",
      "21-08-2010   0.096154\n",
      "20-12-2010   0.096154\n",
      "28-05-2012   0.096154\n",
      "07-11-2011   0.096154\n",
      "28-04-2013   0.096154\n",
      "08-09-2012   0.096154\n",
      "03-08-2010   0.096154\n",
      "03-05-2011   0.096154\n",
      "16-03-2010   0.096154\n",
      "21-07-2014   0.096154\n",
      "10-10-2010   0.096154\n",
      "03-06-2011   0.096154\n",
      "09-10-2014   0.096154\n",
      "01-09-2015   0.096154\n",
      "17-01-2012   0.096154\n",
      "10-02-2011   0.096154\n",
      "15-07-2015   0.096154\n",
      "01-01-2017   0.096154\n",
      "21-06-2011   0.096154\n",
      "08-01-2014   0.096154\n",
      "11-05-2010   0.096154\n",
      "13-03-2011   0.096154\n",
      "05-03-2010   0.096154\n",
      "13-10-2016   0.096154\n",
      "11-05-2014   0.096154\n",
      "16-10-2014   0.096154\n",
      "14-10-2015   0.096154\n",
      "24-09-2012   0.096154\n",
      "23-11-2011   0.096154\n",
      "07-02-2010   0.096154\n",
      "23-10-2012   0.096154\n",
      "16-07-2012   0.096154\n",
      "09-12-2009   0.096154\n",
      "30-10-2012   0.096154\n",
      "10-10-2015   0.096154\n",
      "22-11-2016   0.096154\n",
      "23-01-2012   0.096154\n",
      "29-04-2014   0.096154\n",
      "25-04-2014   0.096154\n",
      "09-06-2012   0.096154\n",
      "11-09-2009   0.096154\n",
      "14-12-2014   0.096154\n",
      "21-09-2014   0.096154\n",
      "23-09-2009   0.096154\n",
      "28-02-2009   0.096154\n",
      "25-12-2007   0.096154\n",
      "07-11-2009   0.096154\n",
      "09-11-2011   0.096154\n",
      "15-03-2012   0.096154\n",
      "03-12-2009   0.096154\n",
      "06-03-2012   0.096154\n",
      "06-09-2009   0.096154\n",
      "27-04-2014   0.096154\n",
      "05-07-2015   0.096154\n",
      "23-12-2009   0.096154\n",
      "09-02-2017   0.096154\n",
      "13-09-2009   0.096154\n",
      "10-03-2010   0.096154\n",
      "22-05-2016   0.096154\n",
      "20-11-2013   0.096154\n",
      "05-05-2009   0.096154\n",
      "22-06-2009   0.096154\n",
      "18-09-2013   0.096154\n",
      "16-07-2016   0.096154\n",
      "16-06-2016   0.096154\n",
      "26-05-2014   0.096154\n",
      "03-04-2014   0.096154\n",
      "11-05-2011   0.096154\n",
      "26-01-2013   0.096154\n",
      "13-02-2016   0.096154\n",
      "24-03-2010   0.096154\n",
      "17-11-2014   0.096154\n",
      "03-03-2015   0.096154\n",
      "28-05-2017   0.096154\n",
      "16-12-2016   0.096154\n",
      "01-08-2013   0.096154\n",
      "26-12-2011   0.096154\n",
      "30-08-2014   0.096154\n",
      "28-04-2012   0.096154\n",
      "24-04-2016   0.096154\n",
      "27-02-2016   0.096154\n",
      "07-06-2015   0.096154\n",
      "03-10-2014   0.096154\n",
      "25-09-2009   0.096154\n",
      "08-11-2016   0.096154\n",
      "19-04-2015   0.096154\n",
      "23-07-2011   0.096154\n",
      "13-06-2015   0.096154\n",
      "25-05-2016   0.096154\n",
      "21-03-2013   0.096154\n",
      "17-03-2014   0.096154\n",
      "17-01-2009   0.096154\n",
      "16-08-2011   0.096154\n",
      "07-01-2009   0.096154\n",
      "04-06-2014   0.096154\n",
      "13-04-2015   0.096154\n",
      "01-04-2009   0.096154\n",
      "29-12-2009   0.096154\n",
      "19-07-2010   0.096154\n",
      "22-05-2015   0.096154\n",
      "16-12-2010   0.096154\n",
      "25-02-2010   0.096154\n",
      "18-05-2009   0.096154\n",
      "26-03-2013   0.096154\n",
      "29-10-2009   0.096154\n",
      "05-04-2016   0.096154\n",
      "14-07-2009   0.096154\n",
      "31-08-2013   0.096154\n",
      "28-06-2009   0.096154\n",
      "17-09-2014   0.096154\n",
      "25-09-2014   0.096154\n",
      "13-02-2015   0.096154\n",
      "28-12-2015   0.096154\n",
      "22-07-2013   0.096154\n",
      "12-09-2015   0.096154\n",
      "25-01-2010   0.096154\n",
      "20-10-2011   0.096154\n",
      "13-10-2014   0.096154\n",
      "26-12-2013   0.096154\n",
      "26-06-2010   0.096154\n",
      "08-11-2009   0.096154\n",
      "12-09-2012   0.096154\n",
      "01-01-2014   0.096154\n",
      "22-12-2009   0.096154\n",
      "02-08-2010   0.096154\n",
      "02-04-2016   0.096154\n",
      "08-02-2009   0.096154\n",
      "10-01-2012   0.096154\n",
      "11-03-2011   0.096154\n",
      "13-05-2009   0.096154\n",
      "05-11-2010   0.096154\n",
      "27-09-2014   0.096154\n",
      "25-06-2010   0.096154\n",
      "13-02-2009   0.096154\n",
      "11-02-2009   0.096154\n",
      "17-03-2015   0.096154\n",
      "06-12-2011   0.096154\n",
      "25-07-2013   0.096154\n",
      "19-06-2015   0.096154\n",
      "08-06-2014   0.096154\n",
      "10-05-2014   0.096154\n",
      "15-09-2009   0.096154\n",
      "19-05-2013   0.096154\n",
      "19-03-2017   0.096154\n",
      "08-11-2010   0.096154\n",
      "25-03-2016   0.096154\n",
      "18-03-2014   0.096154\n",
      "25-06-2011   0.096154\n",
      "22-05-2009   0.096154\n",
      "01-10-2012   0.096154\n",
      "03-03-2016   0.096154\n",
      "05-01-2010   0.096154\n",
      "25-08-2014   0.096154\n",
      "08-01-2009   0.096154\n",
      "30-09-2014   0.096154\n",
      "18-05-2016   0.096154\n",
      "13-01-2015   0.096154\n",
      "19-09-2009   0.096154\n",
      "15-08-2015   0.096154\n",
      "28-09-2014   0.096154\n",
      "08-04-2016   0.096154\n",
      "17-07-2016   0.096154\n",
      "16-10-2009   0.096154\n",
      "14-08-2011   0.096154\n",
      "29-09-2010   0.096154\n",
      "28-04-2009   0.096154\n",
      "23-05-2010   0.096154\n",
      "21-02-2015   0.096154\n",
      "09-01-2012   0.096154\n",
      "26-06-2012   0.096154\n",
      "28-12-2011   0.096154\n",
      "27-02-2015   0.096154\n",
      "14-03-2011   0.096154\n",
      "30-11-2014   0.096154\n",
      "27-05-2011   0.096154\n",
      "18-10-2015   0.096154\n",
      "15-02-2014   0.096154\n",
      "07-04-2013   0.096154\n",
      "25-11-2011   0.096154\n",
      "28-03-2010   0.096154\n",
      "10-11-2010   0.096154\n",
      "21-07-2013   0.096154\n",
      "03-08-2011   0.096154\n",
      "23-10-2015   0.096154\n",
      "23-11-2015   0.096154\n",
      "04-02-2010   0.096154\n",
      "05-08-2012   0.096154\n",
      "10-08-2015   0.096154\n",
      "14-08-2009   0.096154\n",
      "07-09-2016   0.096154\n",
      "25-04-2017   0.096154\n",
      "23-04-2016   0.096154\n",
      "28-12-2013   0.096154\n",
      "27-04-2015   0.096154\n",
      "02-03-2015   0.096154\n",
      "23-06-2015   0.096154\n",
      "01-07-2009   0.096154\n",
      "20-02-2010   0.096154\n",
      "15-04-2012   0.096154\n",
      "06-08-2011   0.096154\n",
      "17-10-2009   0.096154\n",
      "24-10-2013   0.096154\n",
      "09-08-2013   0.096154\n",
      "08-05-2016   0.096154\n",
      "20-09-2010   0.096154\n",
      "06-06-2015   0.096154\n",
      "18-10-2009   0.096154\n",
      "24-01-2013   0.096154\n",
      "17-11-2011   0.096154\n",
      "29-08-2012   0.096154\n",
      "20-07-2010   0.096154\n",
      "28-11-2010   0.096154\n",
      "15-09-2012   0.096154\n",
      "15-09-2014   0.096154\n",
      "17-06-2013   0.096154\n",
      "02-07-2015   0.096154\n",
      "15-10-2012   0.096154\n",
      "14-03-2009   0.096154\n",
      "12-05-2016   0.096154\n",
      "17-04-2012   0.096154\n",
      "23-06-2011   0.096154\n",
      "12-08-2012   0.096154\n",
      "14-09-2008   0.096154\n",
      "03-07-2016   0.096154\n",
      "09-07-2011   0.096154\n",
      "07-10-2012   0.096154\n",
      "20-12-2008   0.096154\n",
      "30-04-2009   0.096154\n",
      "22-03-2009   0.096154\n",
      "20-05-2011   0.096154\n",
      "13-07-2014   0.096154\n",
      "25-11-2012   0.096154\n",
      "02-03-2014   0.096154\n",
      "21-04-2009   0.096154\n",
      "16-07-2009   0.096154\n",
      "10-06-2013   0.096154\n",
      "20-10-2016   0.096154\n",
      "19-09-2015   0.096154\n",
      "29-04-2016   0.096154\n",
      "15-08-2010   0.096154\n",
      "15-11-2016   0.096154\n",
      "16-03-2009   0.096154\n",
      "17-09-2015   0.096154\n",
      "14-03-2014   0.096154\n",
      "06-01-2010   0.096154\n",
      "04-01-2015   0.096154\n",
      "20-02-2011   0.096154\n",
      "20-07-2011   0.096154\n",
      "07-11-2012   0.096154\n",
      "24-12-2011   0.096154\n",
      "03-08-2015   0.096154\n",
      "31-03-2010   0.096154\n",
      "02-08-2013   0.096154\n",
      "06-08-2009   0.096154\n",
      "29-06-2014   0.096154\n",
      "24-02-2017   0.096154\n",
      "05-09-2016   0.096154\n",
      "26-02-2014   0.096154\n",
      "02-02-2015   0.096154\n",
      "02-01-2014   0.096154\n",
      "19-03-2016   0.096154\n",
      "16-07-2013   0.096154\n",
      "11-11-2014   0.096154\n",
      "22-07-2014   0.096154\n",
      "18-08-2013   0.096154\n",
      "11-01-2016   0.096154\n",
      "05-12-2016   0.096154\n",
      "13-06-2014   0.096154\n",
      "10-09-2010   0.096154\n",
      "22-06-2016   0.096154\n",
      "01-09-2014   0.096154\n",
      "24-05-2009   0.096154\n",
      "07-10-2009   0.096154\n",
      "05-01-2016   0.096154\n",
      "08-08-2012   0.096154\n",
      "08-07-2010   0.096154\n",
      "17-03-2009   0.096154\n",
      "19-08-2009   0.096154\n",
      "13-05-2015   0.096154\n",
      "28-05-2013   0.096154\n",
      "08-03-2009   0.096154\n",
      "16-06-2013   0.096154\n",
      "22-07-2009   0.096154\n",
      "19-03-2012   0.096154\n",
      "02-11-2010   0.096154\n",
      "15-05-2014   0.096154\n",
      "23-04-2014   0.096154\n",
      "26-10-2011   0.096154\n",
      "02-04-2009   0.096154\n",
      "22-08-2016   0.096154\n",
      "03-08-2016   0.096154\n",
      "28-08-2010   0.096154\n",
      "27-10-2014   0.096154\n",
      "15-09-2016   0.096154\n",
      "18-03-2013   0.096154\n",
      "07-12-2013   0.096154\n",
      "31-10-2010   0.096154\n",
      "05-11-2009   0.096154\n",
      "06-02-2009   0.096154\n",
      "27-03-2011   0.096154\n",
      "26-11-2009   0.096154\n",
      "04-09-2014   0.096154\n",
      "01-02-2011   0.096154\n",
      "27-03-2014   0.096154\n",
      "09-09-2013   0.096154\n",
      "24-09-2015   0.096154\n",
      "05-03-2009   0.096154\n",
      "14-04-2012   0.096154\n",
      "20-06-2013   0.096154\n",
      "19-06-2012   0.096154\n",
      "30-06-2016   0.096154\n",
      "26-01-2014   0.096154\n",
      "25-05-2017   0.096154\n",
      "23-10-2011   0.096154\n",
      "01-12-2016   0.096154\n",
      "12-03-2016   0.096154\n",
      "24-10-2012   0.096154\n",
      "05-12-2014   0.096154\n",
      "09-10-2016   0.096154\n",
      "29-03-2016   0.096154\n",
      "02-09-2010   0.096154\n",
      "13-03-2010   0.096154\n",
      "14-12-2015   0.096154\n",
      "06-07-2010   0.096154\n",
      "15-08-2008   0.096154\n",
      "09-05-2012   0.096154\n",
      "07-09-2015   0.096154\n",
      "22-01-2010   0.096154\n",
      "22-12-2010   0.096154\n",
      "24-12-2014   0.096154\n",
      "01-09-2011   0.096154\n",
      "20-03-2017   0.096154\n",
      "05-10-2016   0.096154\n",
      "25-03-2010   0.096154\n",
      "15-06-2012   0.096154\n",
      "15-06-2011   0.096154\n",
      "16-06-2011   0.096154\n",
      "09-06-2017   0.096154\n",
      "01-01-2011   0.096154\n",
      "11-08-2013   0.096154\n",
      "05-09-2011   0.096154\n",
      "05-07-2013   0.096154\n",
      "18-06-2011   0.096154\n",
      "12-10-2013   0.096154\n",
      "18-05-2015   0.096154\n",
      "03-09-2015   0.096154\n",
      "20-10-2009   0.096154\n",
      "22-09-2012   0.096154\n",
      "02-05-2012   0.096154\n",
      "06-10-2014   0.096154\n",
      "12-11-2016   0.096154\n",
      "02-11-2012   0.096154\n",
      "15-04-2017   0.096154\n",
      "15-04-2013   0.096154\n",
      "10-11-2015   0.096154\n",
      "28-10-2015   0.096154\n",
      "06-01-2015   0.096154\n",
      "23-01-2014   0.096154\n",
      "27-04-2012   0.096154\n",
      "14-01-2015   0.096154\n",
      "19-11-2008   0.096154\n",
      "24-10-2011   0.096154\n",
      "10-05-2010   0.096154\n",
      "01-12-2014   0.096154\n",
      "01-11-2015   0.096154\n",
      "06-07-2012   0.096154\n",
      "03-10-2012   0.096154\n",
      "21-05-2017   0.096154\n",
      "26-04-2014   0.096154\n",
      "02-10-2015   0.096154\n",
      "23-07-2009   0.096154\n",
      "11-05-2012   0.096154\n",
      "20-08-2012   0.096154\n",
      "28-10-2011   0.096154\n",
      "11-10-2010   0.096154\n",
      "27-06-2014   0.096154\n",
      "12-08-2016   0.096154\n",
      "04-06-2010   0.096154\n",
      "11-03-2014   0.096154\n",
      "20-04-2015   0.096154\n",
      "14-11-2013   0.096154\n",
      "03-03-2014   0.096154\n",
      "10-04-2010   0.096154\n",
      "27-12-2014   0.096154\n",
      "24-07-2014   0.096154\n",
      "06-07-2014   0.096154\n",
      "01-11-2010   0.096154\n",
      "08-08-2015   0.096154\n",
      "01-12-2009   0.096154\n",
      "21-09-2009   0.096154\n",
      "06-11-2015   0.096154\n",
      "22-10-2010   0.096154\n",
      "27-06-2016   0.096154\n",
      "03-06-2009   0.096154\n",
      "13-03-2017   0.096154\n",
      "29-03-2015   0.096154\n",
      "30-11-2010   0.096154\n",
      "08-08-2009   0.096154\n",
      "19-04-2009   0.096154\n",
      "06-08-2010   0.096154\n",
      "13-10-2010   0.096154\n",
      "14-09-2016   0.096154\n",
      "19-04-2010   0.096154\n",
      "24-08-2016   0.096154\n",
      "07-07-2009   0.096154\n",
      "26-09-2009   0.096154\n",
      "10-01-2011   0.096154\n",
      "05-12-2009   0.096154\n",
      "21-10-2013   0.096154\n",
      "04-03-2017   0.096154\n",
      "22-03-2013   0.096154\n",
      "01-05-2010   0.096154\n",
      "05-05-2017   0.096154\n",
      "06-03-2017   0.096154\n",
      "25-03-2009   0.096154\n",
      "07-04-2016   0.096154\n",
      "08-06-2015   0.096154\n",
      "19-06-2013   0.096154\n",
      "24-03-2011   0.096154\n",
      "23-03-2017   0.096154\n",
      "11-06-2010   0.096154\n",
      "04-01-2013   0.096154\n",
      "03-01-2015   0.096154\n",
      "04-09-2012   0.096154\n",
      "25-04-2013   0.096154\n",
      "08-03-2011   0.096154\n",
      "09-02-2010   0.096154\n",
      "14-04-2017   0.096154\n",
      "17-07-2013   0.096154\n",
      "24-02-2012   0.096154\n",
      "31-07-2016   0.096154\n",
      "20-04-2017   0.096154\n",
      "23-04-2015   0.096154\n",
      "05-08-2016   0.096154\n",
      "13-07-2016   0.096154\n",
      "15-05-2011   0.096154\n",
      "26-06-2014   0.096154\n",
      "19-04-2012   0.096154\n",
      "24-03-2013   0.096154\n",
      "22-06-2017   0.096154\n",
      "01-10-2016   0.096154\n",
      "19-03-2013   0.096154\n",
      "09-02-2016   0.096154\n",
      "21-11-2010   0.096154\n",
      "28-10-2014   0.096154\n",
      "10-01-2017   0.096154\n",
      "06-08-2008   0.096154\n",
      "10-03-2012   0.096154\n",
      "04-10-2011   0.096154\n",
      "09-11-2009   0.096154\n",
      "24-03-2017   0.096154\n",
      "08-12-2016   0.096154\n",
      "13-03-2015   0.096154\n",
      "21-05-2012   0.096154\n",
      "03-02-2015   0.096154\n",
      "17-08-2014   0.096154\n",
      "21-09-2010   0.096154\n",
      "02-12-2009   0.096154\n",
      "17-07-2010   0.096154\n",
      "27-04-2009   0.096154\n",
      "26-01-2011   0.096154\n",
      "03-05-2016   0.096154\n",
      "11-09-2016   0.096154\n",
      "29-06-2008   0.096154\n",
      "18-12-2013   0.096154\n",
      "08-04-2015   0.096154\n",
      "02-05-2016   0.096154\n",
      "15-10-2014   0.096154\n",
      "11-04-2009   0.096154\n",
      "27-01-2016   0.096154\n",
      "24-01-2014   0.096154\n",
      "29-06-2009   0.096154\n",
      "16-07-2010   0.096154\n",
      "21-09-2012   0.096154\n",
      "30-08-2011   0.096154\n",
      "21-07-2016   0.096154\n",
      "19-06-2014   0.096154\n",
      "27-06-2009   0.096154\n",
      "28-03-2017   0.096154\n",
      "02-03-2013   0.096154\n",
      "03-09-2011   0.096154\n",
      "19-08-2010   0.096154\n",
      "22-09-2015   0.096154\n",
      "01-06-2014   0.096154\n",
      "24-07-2013   0.096154\n",
      "27-05-2012   0.096154\n",
      "14-05-2012   0.096154\n",
      "03-10-2011   0.096154\n",
      "09-10-2012   0.096154\n",
      "15-01-2012   0.096154\n",
      "11-12-2011   0.096154\n",
      "06-12-2016   0.096154\n",
      "19-11-2016   0.096154\n",
      "24-08-2011   0.096154\n",
      "11-10-2011   0.096154\n",
      "29-10-2015   0.096154\n",
      "06-01-2016   0.096154\n",
      "02-01-2011   0.096154\n",
      "23-07-2010   0.096154\n",
      "28-02-2012   0.096154\n",
      "07-02-2009   0.096154\n",
      "31-10-2012   0.096154\n",
      "29-04-2012   0.096154\n",
      "08-10-2014   0.096154\n",
      "12-05-2017   0.096154\n",
      "23-11-2012   0.096154\n",
      "11-12-2010   0.096154\n",
      "07-06-2013   0.096154\n",
      "03-04-2010   0.096154\n",
      "08-02-2011   0.096154\n",
      "08-10-2008   0.096154\n",
      "01-10-2015   0.096154\n",
      "25-03-2017   0.096154\n",
      "25-08-2012   0.096154\n",
      "19-04-2016   0.096154\n",
      "15-01-2013   0.096154\n",
      "26-07-2015   0.096154\n",
      "03-05-2012   0.096154\n",
      "18-01-2014   0.096154\n",
      "14-05-2014   0.096154\n",
      "07-07-2016   0.096154\n",
      "13-05-2016   0.096154\n",
      "20-01-2013   0.096154\n",
      "30-10-2011   0.096154\n",
      "17-09-2013   0.096154\n",
      "05-03-2011   0.096154\n",
      "09-05-2016   0.096154\n",
      "21-07-2015   0.096154\n",
      "03-10-2009   0.096154\n",
      "15-09-2011   0.096154\n",
      "25-02-2009   0.096154\n",
      "04-01-2014   0.096154\n",
      "04-11-2014   0.096154\n",
      "15-06-2013   0.096154\n",
      "01-05-2009   0.096154\n",
      "10-07-2012   0.096154\n",
      "10-04-2013   0.096154\n",
      "07-04-2017   0.096154\n",
      "06-06-2016   0.096154\n",
      "04-11-2013   0.096154\n",
      "30-09-2013   0.096154\n",
      "12-02-2017   0.096154\n",
      "01-01-2013   0.096154\n",
      "28-06-2012   0.096154\n",
      "15-08-2009   0.096154\n",
      "02-03-2011   0.096154\n",
      "16-01-2013   0.096154\n",
      "17-02-2010   0.096154\n",
      "25-04-2016   0.096154\n",
      "19-01-2010   0.096154\n",
      "13-06-2016   0.096154\n",
      "09-03-2015   0.096154\n",
      "07-08-2009   0.096154\n",
      "08-04-2014   0.096154\n",
      "05-05-2015   0.096154\n",
      "04-05-2009   0.096154\n",
      "20-05-2015   0.096154\n",
      "30-04-2014   0.096154\n",
      "11-05-2016   0.096154\n",
      "10-04-2012   0.096154\n",
      "23-10-2014   0.096154\n",
      "17-12-2010   0.096154\n",
      "27-08-2013   0.096154\n",
      "09-03-2009   0.096154\n",
      "26-04-2015   0.096154\n",
      "30-08-2010   0.096154\n",
      "09-04-2009   0.096154\n",
      "07-05-2009   0.096154\n",
      "27-07-2015   0.096154\n",
      "18-08-2010   0.096154\n",
      "17-05-2010   0.096154\n",
      "19-03-2015   0.096154\n",
      "22-02-2016   0.096154\n",
      "30-04-2016   0.096154\n",
      "02-10-2014   0.096154\n",
      "30-10-2009   0.096154\n",
      "14-09-2012   0.096154\n",
      "28-11-2011   0.096154\n",
      "22-02-2011   0.096154\n",
      "17-09-2010   0.096154\n",
      "17-07-2012   0.096154\n",
      "02-12-2014   0.096154\n",
      "20-08-2015   0.096154\n",
      "27-04-2016   0.096154\n",
      "19-12-2014   0.096154\n",
      "13-12-2010   0.096154\n",
      "26-10-2010   0.096154\n",
      "27-03-2010   0.096154\n",
      "12-05-2009   0.096154\n",
      "05-02-2012   0.096154\n",
      "03-01-2016   0.096154\n",
      "25-03-2013   0.096154\n",
      "15-09-2008   0.096154\n",
      "07-03-2011   0.096154\n",
      "12-10-2016   0.096154\n",
      "15-06-2017   0.096154\n",
      "21-08-2009   0.096154\n",
      "26-08-2013   0.096154\n",
      "27-05-2017   0.096154\n",
      "27-06-2013   0.096154\n",
      "09-12-2014   0.096154\n",
      "10-12-2013   0.096154\n",
      "05-07-2009   0.096154\n",
      "05-03-2017   0.096154\n",
      "19-06-2010   0.096154\n",
      "04-01-2010   0.096154\n",
      "16-03-2017   0.096154\n",
      "30-06-2010   0.096154\n",
      "07-01-2011   0.096154\n",
      "25-09-2012   0.096154\n",
      "08-08-2014   0.096154\n",
      "09-08-2015   0.096154\n",
      "26-04-2016   0.096154\n",
      "14-10-2009   0.096154\n",
      "10-06-2009   0.096154\n",
      "24-11-2016   0.096154\n",
      "16-08-2015   0.096154\n",
      "08-09-2013   0.096154\n",
      "04-12-2014   0.096154\n",
      "15-07-2012   0.096154\n",
      "15-09-2013   0.096154\n",
      "24-12-2016   0.096154\n",
      "28-04-2016   0.096154\n",
      "15-04-2010   0.096154\n",
      "30-12-2011   0.096154\n",
      "03-06-2010   0.096154\n",
      "14-11-2014   0.096154\n",
      "24-09-2011   0.096154\n",
      "21-06-2009   0.096154\n",
      "29-08-2014   0.096154\n",
      "25-12-2010   0.096154\n",
      "07-08-2016   0.096154\n",
      "11-02-2010   0.096154\n",
      "24-06-2010   0.096154\n",
      "11-06-2014   0.096154\n",
      "24-08-2013   0.096154\n",
      "20-05-2009   0.096154\n",
      "30-12-2014   0.096154\n",
      "18-12-2010   0.096154\n",
      "24-11-2014   0.096154\n",
      "29-07-2010   0.096154\n",
      "14-06-2017   0.096154\n",
      "08-01-2016   0.096154\n",
      "21-08-2011   0.096154\n",
      "26-05-2013   0.096154\n",
      "28-10-2010   0.096154\n",
      "19-02-2015   0.096154\n",
      "23-03-2012   0.096154\n",
      "16-12-2008   0.096154\n",
      "26-04-2013   0.096154\n",
      "27-12-2010   0.096154\n",
      "12-06-2009   0.096154\n",
      "11-04-2016   0.096154\n",
      "26-06-2009   0.096154\n",
      "16-09-2010   0.096154\n",
      "25-01-2009   0.096154\n",
      "07-12-2009   0.096154\n",
      "19-02-2010   0.096154\n",
      "08-01-2013   0.096154\n",
      "19-03-2009   0.096154\n",
      "24-01-2016   0.096154\n",
      "19-05-2010   0.096154\n",
      "12-12-2009   0.096154\n",
      "13-04-2012   0.096154\n",
      "25-11-2016   0.096154\n",
      "01-03-2017   0.096154\n",
      "27-11-2012   0.096154\n",
      "10-02-2016   0.096154\n",
      "17-03-2010   0.096154\n",
      "15-02-2017   0.096154\n",
      "29-04-2009   0.096154\n",
      "18-10-2010   0.096154\n",
      "03-09-2012   0.096154\n",
      "14-12-2010   0.096154\n",
      "01-02-2012   0.096154\n",
      "09-01-2014   0.096154\n",
      "13-02-2017   0.096154\n",
      "17-01-2010   0.096154\n",
      "29-10-2014   0.096154\n",
      "16-12-2015   0.096154\n",
      "15-11-2014   0.096154\n",
      "05-12-2011   0.096154\n",
      "09-07-2013   0.096154\n",
      "06-06-2013   0.096154\n",
      "31-01-2014   0.096154\n",
      "30-03-2012   0.096154\n",
      "17-07-2009   0.096154\n",
      "06-04-2009   0.096154\n",
      "24-06-2013   0.096154\n",
      "14-06-2010   0.096154\n",
      "13-01-2013   0.096154\n",
      "14-08-2013   0.096154\n",
      "20-03-2016   0.096154\n",
      "31-05-2017   0.096154\n",
      "25-10-2014   0.096154\n",
      "18-04-2013   0.096154\n",
      "28-03-2011   0.096154\n",
      "20-11-2014   0.096154\n",
      "05-11-2011   0.096154\n",
      "30-01-2016   0.096154\n",
      "09-03-2014   0.096154\n",
      "15-12-2014   0.096154\n",
      "17-05-2012   0.096154\n",
      "02-07-2009   0.096154\n",
      "19-01-2009   0.096154\n",
      "05-03-2016   0.096154\n",
      "21-04-2014   0.096154\n",
      "28-06-2015   0.096154\n",
      "02-09-2016   0.096154\n",
      "24-06-2016   0.096154\n",
      "25-09-2010   0.096154\n",
      "29-03-2014   0.096154\n",
      "02-12-2015   0.096154\n",
      "22-03-2011   0.096154\n",
      "01-06-2013   0.096154\n",
      "22-11-2013   0.096154\n",
      "06-01-2011   0.096154\n",
      "18-06-2016   0.096154\n",
      "04-07-2014   0.096154\n",
      "31-10-2014   0.096154\n",
      "10-12-2009   0.096154\n",
      "02-04-2014   0.096154\n",
      "10-09-2009   0.096154\n",
      "11-08-2014   0.096154\n",
      "19-04-2017   0.096154\n",
      "31-12-2011   0.096154\n",
      "04-06-2016   0.096154\n",
      "27-05-2014   0.096154\n",
      "26-07-2011   0.096154\n",
      "13-08-2013   0.096154\n",
      "24-04-2015   0.096154\n",
      "13-06-2013   0.096154\n",
      "27-10-2015   0.096154\n",
      "05-11-2014   0.096154\n",
      "31-05-2014   0.096154\n",
      "26-10-2014   0.096154\n",
      "12-11-2014   0.096154\n",
      "24-10-2015   0.096154\n",
      "04-04-2010   0.096154\n",
      "06-04-2012   0.096154\n",
      "18-12-2011   0.096154\n",
      "04-07-2011   0.096154\n",
      "04-06-2009   0.096154\n",
      "13-08-2015   0.096154\n",
      "11-11-2011   0.096154\n",
      "12-04-2010   0.096154\n",
      "Name: Date, dtype: float64\n",
      "\n",
      "Location:\n",
      "Number of categoties: 49\n",
      "Percentage of observation in each category:\n",
      "SalmonGums         3.173077\n",
      "Sydney             2.980769\n",
      "Launceston         2.980769\n",
      "NorahHead          2.788462\n",
      "Darwin             2.788462\n",
      "Walpole            2.692308\n",
      "Perth              2.500000\n",
      "MountGambier       2.500000\n",
      "Hobart             2.500000\n",
      "Witchcliffe        2.403846\n",
      "PerthAirport       2.403846\n",
      "BadgerysCreek      2.403846\n",
      "Richmond           2.307692\n",
      "Brisbane           2.307692\n",
      "Wollongong         2.307692\n",
      "MelbourneAirport   2.307692\n",
      "WaggaWagga         2.211538\n",
      "Woomera            2.211538\n",
      "Dartmoor           2.211538\n",
      "Tuggeranong        2.115385\n",
      "NorfolkIsland      2.115385\n",
      "Albury             2.115385\n",
      "Newcastle          2.115385\n",
      "Sale               2.115385\n",
      "CoffsHarbour       2.019231\n",
      "Adelaide           2.019231\n",
      "Melbourne          2.019231\n",
      "Williamtown        2.019231\n",
      "Moree              2.019231\n",
      "Nuriootpa          1.826923\n",
      "Albany             1.826923\n",
      "Watsonia           1.826923\n",
      "Canberra           1.826923\n",
      "Penrith            1.730769\n",
      "Portland           1.730769\n",
      "GoldCoast          1.730769\n",
      "AliceSprings       1.730769\n",
      "MountGinini        1.730769\n",
      "Townsville         1.730769\n",
      "SydneyAirport      1.730769\n",
      "Mildura            1.634615\n",
      "Bendigo            1.634615\n",
      "Cobar              1.538462\n",
      "Cairns             1.538462\n",
      "PearceRAAF         1.442308\n",
      "Ballarat           1.153846\n",
      "Uluru              1.153846\n",
      "Nhil               0.961538\n",
      "Katherine          0.865385\n",
      "Name: Location, dtype: float64\n",
      "\n",
      "WindGustDir:\n",
      "Number of categoties: 16\n",
      "Percentage of observation in each category:\n",
      "W     8.255934\n",
      "N     7.533540\n",
      "SE    7.327141\n",
      "S     7.017544\n",
      "WNW   6.707946\n",
      "SSW   6.604747\n",
      "NW    6.501548\n",
      "SSE   6.398349\n",
      "E     6.191950\n",
      "WSW   6.088751\n",
      "NNE   6.088751\n",
      "SW    5.985552\n",
      "NNW   5.263158\n",
      "ENE   5.159959\n",
      "ESE   5.056760\n",
      "NE    3.818369\n",
      "Name: WindGustDir, dtype: float64\n",
      "\n",
      "WindDir9am:\n",
      "Number of categoties: 16\n",
      "Percentage of observation in each category:\n",
      "N     8.664628\n",
      "NW    7.339450\n",
      "W     6.931702\n",
      "SE    6.727829\n",
      "E     6.523955\n",
      "SSE   6.523955\n",
      "SW    6.523955\n",
      "NE    6.422018\n",
      "WNW   6.320082\n",
      "NNW   6.320082\n",
      "ENE   5.912334\n",
      "SSW   5.708461\n",
      "S     5.300714\n",
      "ESE   5.198777\n",
      "NNE   4.994903\n",
      "WSW   4.587156\n",
      "Name: WindDir9am, dtype: float64\n",
      "\n",
      "WindDir3pm:\n",
      "Number of categoties: 16\n",
      "Percentage of observation in each category:\n",
      "SE    8.284024\n",
      "W     7.495069\n",
      "WNW   7.396450\n",
      "NW    7.396450\n",
      "SSE   6.903353\n",
      "S     6.706114\n",
      "WSW   6.114398\n",
      "NE    6.015779\n",
      "NNW   6.015779\n",
      "N     5.818540\n",
      "ESE   5.818540\n",
      "E     5.621302\n",
      "SSW   5.621302\n",
      "ENE   5.522682\n",
      "SW    5.325444\n",
      "NNE   3.944773\n",
      "Name: WindDir3pm, dtype: float64\n",
      "\n",
      "RainToday:\n",
      "Number of categoties: 2\n",
      "Percentage of observation in each category:\n",
      "No    76.579203\n",
      "Yes   23.420797\n",
      "Name: RainToday, dtype: float64\n",
      "\n",
      "RainTomorrow:\n",
      "Number of categoties: 2\n",
      "Percentage of observation in each category:\n",
      "No    79.711538\n",
      "Yes   20.288462\n",
      "Name: RainTomorrow, dtype: float64\n"
     ]
    }
   ],
   "source": [
    "cat_clm = df.select_dtypes(include=['object']).columns\n",
    "\n",
    "summary =[]\n",
    "\n",
    "for column in cat_clm:\n",
    "    cat = df[column].value_counts()\n",
    "    cat_per = df[column].value_counts(normalize=True) *100\n",
    "    summary.append((column, len(cat),cat_per))\n",
    "    \n",
    "print('categorical variable summary:')\n",
    "for column, num_cat, cat_per in summary:\n",
    "    print(f\"\\n{column}:\")\n",
    "    print(f\"Number of categoties: {num_cat}\")\n",
    "    print(\"Percentage of observation in each category:\")\n",
    "    print(cat_per)"
   ]
  },
  {
   "cell_type": "code",
   "execution_count": null,
   "metadata": {},
   "outputs": [],
   "source": []
  },
  {
   "cell_type": "markdown",
   "metadata": {
    "colab_type": "text",
    "id": "ImShHR7hlY8F"
   },
   "source": [
    "### 3.\tCheck for defects in the data. Perform necessary actions to ‘fix’ these defects (5 Marks)\n",
    "\n",
    "Some pointers which would help you, but don’t be limited by these\n",
    "\n",
    "a.\tDo variables have missing/null values?\n",
    "\n",
    "b.\tDo variables have outliers?\n",
    "\n",
    "c.\tIs the Target distributed evenly? Is it a defect? If Yes, what steps are being taken to rectify the problem. \n"
   ]
  },
  {
   "cell_type": "code",
   "execution_count": 30,
   "metadata": {},
   "outputs": [
    {
     "data": {
      "text/html": [
       "<div>\n",
       "<style scoped>\n",
       "    .dataframe tbody tr th:only-of-type {\n",
       "        vertical-align: middle;\n",
       "    }\n",
       "\n",
       "    .dataframe tbody tr th {\n",
       "        vertical-align: top;\n",
       "    }\n",
       "\n",
       "    .dataframe thead th {\n",
       "        text-align: right;\n",
       "    }\n",
       "</style>\n",
       "<table border=\"1\" class=\"dataframe\">\n",
       "  <thead>\n",
       "    <tr style=\"text-align: right;\">\n",
       "      <th></th>\n",
       "      <th>MinTemp</th>\n",
       "      <th>MaxTemp</th>\n",
       "      <th>Rainfall</th>\n",
       "      <th>WindGustDir</th>\n",
       "      <th>WindGustSpeed</th>\n",
       "      <th>WindDir9am</th>\n",
       "      <th>WindDir3pm</th>\n",
       "      <th>WindSpeed9am</th>\n",
       "      <th>WindSpeed3pm</th>\n",
       "      <th>Humidity9am</th>\n",
       "      <th>Humidity3pm</th>\n",
       "      <th>Pressure9am</th>\n",
       "      <th>Pressure3pm</th>\n",
       "      <th>Cloud3pm</th>\n",
       "      <th>Temp9am</th>\n",
       "      <th>Temp3pm</th>\n",
       "      <th>RainToday</th>\n",
       "      <th>RISK_MM</th>\n",
       "      <th>RainTomorrow</th>\n",
       "    </tr>\n",
       "  </thead>\n",
       "  <tbody>\n",
       "    <tr>\n",
       "      <th>0</th>\n",
       "      <td>16.000000</td>\n",
       "      <td>20.400000</td>\n",
       "      <td>8.200000</td>\n",
       "      <td>S</td>\n",
       "      <td>63.000000</td>\n",
       "      <td>SSW</td>\n",
       "      <td>SW</td>\n",
       "      <td>39.000000</td>\n",
       "      <td>20.000000</td>\n",
       "      <td>69.000000</td>\n",
       "      <td>92.000000</td>\n",
       "      <td>1018.500000</td>\n",
       "      <td>1017.600000</td>\n",
       "      <td>8.000000</td>\n",
       "      <td>17.400000</td>\n",
       "      <td>15.600000</td>\n",
       "      <td>Yes</td>\n",
       "      <td>78.600000</td>\n",
       "      <td>Yes</td>\n",
       "    </tr>\n",
       "    <tr>\n",
       "      <th>1</th>\n",
       "      <td>18.500000</td>\n",
       "      <td>25.900000</td>\n",
       "      <td>16.000000</td>\n",
       "      <td>WSW</td>\n",
       "      <td>39.000000</td>\n",
       "      <td>SSW</td>\n",
       "      <td>WSW</td>\n",
       "      <td>20.000000</td>\n",
       "      <td>22.000000</td>\n",
       "      <td>60.000000</td>\n",
       "      <td>36.000000</td>\n",
       "      <td>1004.600000</td>\n",
       "      <td>1003.600000</td>\n",
       "      <td>1.000000</td>\n",
       "      <td>22.200000</td>\n",
       "      <td>25.100000</td>\n",
       "      <td>Yes</td>\n",
       "      <td>0.000000</td>\n",
       "      <td>No</td>\n",
       "    </tr>\n",
       "    <tr>\n",
       "      <th>2</th>\n",
       "      <td>8.700000</td>\n",
       "      <td>16.500000</td>\n",
       "      <td>0.000000</td>\n",
       "      <td>WNW</td>\n",
       "      <td>56.000000</td>\n",
       "      <td>WNW</td>\n",
       "      <td>WNW</td>\n",
       "      <td>19.000000</td>\n",
       "      <td>22.000000</td>\n",
       "      <td>41.000000</td>\n",
       "      <td>41.000000</td>\n",
       "      <td>NaN</td>\n",
       "      <td>NaN</td>\n",
       "      <td>NaN</td>\n",
       "      <td>13.100000</td>\n",
       "      <td>15.100000</td>\n",
       "      <td>No</td>\n",
       "      <td>0.000000</td>\n",
       "      <td>No</td>\n",
       "    </tr>\n",
       "    <tr>\n",
       "      <th>3</th>\n",
       "      <td>25.500000</td>\n",
       "      <td>33.900000</td>\n",
       "      <td>0.200000</td>\n",
       "      <td>SSE</td>\n",
       "      <td>41.000000</td>\n",
       "      <td>SSE</td>\n",
       "      <td>SE</td>\n",
       "      <td>11.000000</td>\n",
       "      <td>19.000000</td>\n",
       "      <td>64.000000</td>\n",
       "      <td>59.000000</td>\n",
       "      <td>1009.800000</td>\n",
       "      <td>1007.400000</td>\n",
       "      <td>5.000000</td>\n",
       "      <td>30.800000</td>\n",
       "      <td>31.500000</td>\n",
       "      <td>No</td>\n",
       "      <td>0.000000</td>\n",
       "      <td>No</td>\n",
       "    </tr>\n",
       "    <tr>\n",
       "      <th>4</th>\n",
       "      <td>3.800000</td>\n",
       "      <td>23.000000</td>\n",
       "      <td>0.000000</td>\n",
       "      <td>N</td>\n",
       "      <td>28.000000</td>\n",
       "      <td>NE</td>\n",
       "      <td>W</td>\n",
       "      <td>13.000000</td>\n",
       "      <td>7.000000</td>\n",
       "      <td>56.000000</td>\n",
       "      <td>29.000000</td>\n",
       "      <td>NaN</td>\n",
       "      <td>NaN</td>\n",
       "      <td>NaN</td>\n",
       "      <td>14.000000</td>\n",
       "      <td>21.100000</td>\n",
       "      <td>No</td>\n",
       "      <td>0.000000</td>\n",
       "      <td>No</td>\n",
       "    </tr>\n",
       "  </tbody>\n",
       "</table>\n",
       "</div>"
      ],
      "text/plain": [
       "    MinTemp   MaxTemp  Rainfall WindGustDir  WindGustSpeed WindDir9am  \\\n",
       "0 16.000000 20.400000  8.200000           S      63.000000        SSW   \n",
       "1 18.500000 25.900000 16.000000         WSW      39.000000        SSW   \n",
       "2  8.700000 16.500000  0.000000         WNW      56.000000        WNW   \n",
       "3 25.500000 33.900000  0.200000         SSE      41.000000        SSE   \n",
       "4  3.800000 23.000000  0.000000           N      28.000000         NE   \n",
       "\n",
       "  WindDir3pm  WindSpeed9am  WindSpeed3pm  Humidity9am  Humidity3pm  \\\n",
       "0         SW     39.000000     20.000000    69.000000    92.000000   \n",
       "1        WSW     20.000000     22.000000    60.000000    36.000000   \n",
       "2        WNW     19.000000     22.000000    41.000000    41.000000   \n",
       "3         SE     11.000000     19.000000    64.000000    59.000000   \n",
       "4          W     13.000000      7.000000    56.000000    29.000000   \n",
       "\n",
       "   Pressure9am  Pressure3pm  Cloud3pm   Temp9am   Temp3pm RainToday   RISK_MM  \\\n",
       "0  1018.500000  1017.600000  8.000000 17.400000 15.600000       Yes 78.600000   \n",
       "1  1004.600000  1003.600000  1.000000 22.200000 25.100000       Yes  0.000000   \n",
       "2          NaN          NaN       NaN 13.100000 15.100000        No  0.000000   \n",
       "3  1009.800000  1007.400000  5.000000 30.800000 31.500000        No  0.000000   \n",
       "4          NaN          NaN       NaN 14.000000 21.100000        No  0.000000   \n",
       "\n",
       "  RainTomorrow  \n",
       "0          Yes  \n",
       "1           No  \n",
       "2           No  \n",
       "3           No  \n",
       "4           No  "
      ]
     },
     "execution_count": 30,
     "metadata": {},
     "output_type": "execute_result"
    }
   ],
   "source": [
    "df = df.drop([\"Evaporation\",'Sunshine','Cloud9am','Location','Date'],axis=1)\n",
    "df.head()"
   ]
  },
  {
   "cell_type": "code",
   "execution_count": 52,
   "metadata": {},
   "outputs": [
    {
     "data": {
      "text/plain": [
       "MinTemp          0\n",
       "MaxTemp          0\n",
       "Rainfall         0\n",
       "WindGustDir      0\n",
       "WindGustSpeed    0\n",
       "WindDir9am       0\n",
       "WindDir3pm       0\n",
       "WindSpeed9am     0\n",
       "WindSpeed3pm     0\n",
       "Humidity9am      0\n",
       "Humidity3pm      0\n",
       "Pressure9am      0\n",
       "Pressure3pm      0\n",
       "Temp9am          0\n",
       "Temp3pm          0\n",
       "RainToday        0\n",
       "RISK_MM          0\n",
       "RainTomorrow     0\n",
       "dtype: int64"
      ]
     },
     "execution_count": 52,
     "metadata": {},
     "output_type": "execute_result"
    }
   ],
   "source": [
    "df.isnull().sum()"
   ]
  },
  {
   "cell_type": "code",
   "execution_count": 33,
   "metadata": {},
   "outputs": [],
   "source": [
    "df['MinTemp'].fillna(df['MinTemp'].mean(), inplace=True)"
   ]
  },
  {
   "cell_type": "code",
   "execution_count": 34,
   "metadata": {},
   "outputs": [],
   "source": [
    "df['MaxTemp'].fillna(df['MaxTemp'].mean(), inplace=True)"
   ]
  },
  {
   "cell_type": "code",
   "execution_count": 36,
   "metadata": {},
   "outputs": [],
   "source": [
    "df['Rainfall'].fillna(df['Rainfall'].mean(), inplace=True)"
   ]
  },
  {
   "cell_type": "code",
   "execution_count": 37,
   "metadata": {},
   "outputs": [],
   "source": [
    "df['WindSpeed9am'].fillna(df['WindSpeed9am'].mean(), inplace=True)"
   ]
  },
  {
   "cell_type": "code",
   "execution_count": 38,
   "metadata": {},
   "outputs": [],
   "source": [
    "df['WindSpeed3pm'].fillna(df['WindSpeed3pm'].mean(), inplace=True)"
   ]
  },
  {
   "cell_type": "code",
   "execution_count": 39,
   "metadata": {},
   "outputs": [],
   "source": [
    "df['Humidity9am'].fillna(df['Humidity9am'].mean(), inplace=True)"
   ]
  },
  {
   "cell_type": "code",
   "execution_count": 40,
   "metadata": {},
   "outputs": [],
   "source": [
    "df['Humidity3pm'].fillna(df['Humidity3pm'].mean(), inplace=True)"
   ]
  },
  {
   "cell_type": "code",
   "execution_count": 41,
   "metadata": {},
   "outputs": [],
   "source": [
    "df['Pressure9am'].fillna(df['Pressure9am'].mean(), inplace=True)"
   ]
  },
  {
   "cell_type": "code",
   "execution_count": 42,
   "metadata": {},
   "outputs": [],
   "source": [
    "df['Pressure3pm'].fillna(df['Pressure3pm'].mean(), inplace=True)"
   ]
  },
  {
   "cell_type": "code",
   "execution_count": 43,
   "metadata": {},
   "outputs": [],
   "source": [
    "df['Temp9am'].fillna(df['Temp9am'].mean(), inplace=True)"
   ]
  },
  {
   "cell_type": "code",
   "execution_count": 45,
   "metadata": {},
   "outputs": [],
   "source": [
    "df['Temp3pm'].fillna(df['Temp3pm'].mean(), inplace=True)"
   ]
  },
  {
   "cell_type": "code",
   "execution_count": 48,
   "metadata": {},
   "outputs": [],
   "source": [
    "df = df.drop(['Cloud3pm'],axis=1)"
   ]
  },
  {
   "cell_type": "code",
   "execution_count": 51,
   "metadata": {},
   "outputs": [
    {
     "data": {
      "text/plain": [
       "(912, 18)"
      ]
     },
     "execution_count": 51,
     "metadata": {},
     "output_type": "execute_result"
    }
   ],
   "source": [
    "df = df.dropna(axis =0)\n",
    "df.shape"
   ]
  },
  {
   "cell_type": "code",
   "execution_count": 53,
   "metadata": {},
   "outputs": [
    {
     "name": "stdout",
     "output_type": "stream",
     "text": [
      "<class 'pandas.core.frame.DataFrame'>\n",
      "Int64Index: 912 entries, 0 to 1039\n",
      "Data columns (total 18 columns):\n",
      " #   Column         Non-Null Count  Dtype  \n",
      "---  ------         --------------  -----  \n",
      " 0   MinTemp        912 non-null    float64\n",
      " 1   MaxTemp        912 non-null    float64\n",
      " 2   Rainfall       912 non-null    float64\n",
      " 3   WindGustDir    912 non-null    object \n",
      " 4   WindGustSpeed  912 non-null    float64\n",
      " 5   WindDir9am     912 non-null    object \n",
      " 6   WindDir3pm     912 non-null    object \n",
      " 7   WindSpeed9am   912 non-null    float64\n",
      " 8   WindSpeed3pm   912 non-null    float64\n",
      " 9   Humidity9am    912 non-null    float64\n",
      " 10  Humidity3pm    912 non-null    float64\n",
      " 11  Pressure9am    912 non-null    float64\n",
      " 12  Pressure3pm    912 non-null    float64\n",
      " 13  Temp9am        912 non-null    float64\n",
      " 14  Temp3pm        912 non-null    float64\n",
      " 15  RainToday      912 non-null    object \n",
      " 16  RISK_MM        912 non-null    float64\n",
      " 17  RainTomorrow   912 non-null    object \n",
      "dtypes: float64(13), object(5)\n",
      "memory usage: 135.4+ KB\n"
     ]
    }
   ],
   "source": [
    "df.info()"
   ]
  },
  {
   "cell_type": "code",
   "execution_count": 55,
   "metadata": {},
   "outputs": [
    {
     "data": {
      "text/plain": [
       "Index(['MinTemp', 'MaxTemp', 'Rainfall', 'WindGustDir', 'WindGustSpeed',\n",
       "       'WindDir9am', 'WindDir3pm', 'WindSpeed9am', 'WindSpeed3pm',\n",
       "       'Humidity9am', 'Humidity3pm', 'Pressure9am', 'Pressure3pm', 'Temp9am',\n",
       "       'Temp3pm', 'RainToday', 'RISK_MM', 'RainTomorrow'],\n",
       "      dtype='object')"
      ]
     },
     "execution_count": 55,
     "metadata": {},
     "output_type": "execute_result"
    }
   ],
   "source": [
    "df_clm = df.columns\n",
    "df_clm"
   ]
  },
  {
   "cell_type": "code",
   "execution_count": 63,
   "metadata": {},
   "outputs": [],
   "source": [
    "df_clm = ['MinTemp', 'MaxTemp', 'Rainfall', 'WindGustDir', 'WindGustSpeed',\n",
    "       'WindDir9am', 'WindDir3pm', 'WindSpeed9am', 'WindSpeed3pm',\n",
    "       'Humidity9am', 'Humidity3pm', 'Pressure9am', 'Pressure3pm', 'Temp9am',\n",
    "       'Temp3pm','RISK_MM']"
   ]
  },
  {
   "cell_type": "code",
   "execution_count": 56,
   "metadata": {},
   "outputs": [],
   "source": [
    "labeler = LabelEncoder()"
   ]
  },
  {
   "cell_type": "code",
   "execution_count": 57,
   "metadata": {},
   "outputs": [],
   "source": [
    "df['RainToday'] = labeler.fit_transform(df['RainToday'])\n",
    "df['RainTomorrow'] = labeler.fit_transform(df['RainTomorrow'])\n",
    "df['WindDir9am'] = labeler.fit_transform(df['WindDir9am'])\n",
    "df['WindDir3pm'] = labeler.fit_transform(df['WindDir3pm'])\n",
    "df['WindGustDir'] = labeler.fit_transform(df['WindGustDir'])"
   ]
  },
  {
   "cell_type": "code",
   "execution_count": 60,
   "metadata": {},
   "outputs": [
    {
     "data": {
      "text/plain": [
       "(912, 18)"
      ]
     },
     "execution_count": 60,
     "metadata": {},
     "output_type": "execute_result"
    }
   ],
   "source": [
    "df.shape"
   ]
  },
  {
   "cell_type": "code",
   "execution_count": 62,
   "metadata": {},
   "outputs": [
    {
     "data": {
      "image/png": "[encoded data removed]",
      "text/plain": [
       "<Figure size 1224x1080 with 18 Axes>"
      ]
     },
     "metadata": {
      "needs_background": "light"
     },
     "output_type": "display_data"
    }
   ],
   "source": [
    "t =1\n",
    "plt.figure(figsize=(17,15))\n",
    "for i in df_clm:\n",
    "    plt.subplot(5,4,t)\n",
    "    sns.boxplot(df[i])\n",
    "    t+=1\n",
    "plt.show()"
   ]
  },
  {
   "cell_type": "code",
   "execution_count": 64,
   "metadata": {},
   "outputs": [],
   "source": [
    "for i in df_clm:\n",
    "    q1,q3 = np.quantile(df[i],[0.25,0.75])\n",
    "    iqr = q3 - q1\n",
    "    ub = q3 + (1.5 * iqr)\n",
    "    lb = q1 - (1.5 * iqr)\n",
    "    df[i] = np.where(df[i] > ub, ub, df[i])\n",
    "    df[i] = np.where(df[i] < lb, lb, df[i])"
   ]
  },
  {
   "cell_type": "code",
   "execution_count": 65,
   "metadata": {},
   "outputs": [
    {
     "data": {
      "image/png": "[encoded data removed]",
      "text/plain": [
       "<Figure size 1224x1080 with 16 Axes>"
      ]
     },
     "metadata": {
      "needs_background": "light"
     },
     "output_type": "display_data"
    }
   ],
   "source": [
    "t =1\n",
    "plt.figure(figsize=(17,15))\n",
    "for i in df_clm:\n",
    "    plt.subplot(5,4,t)\n",
    "    sns.boxplot(df[i])\n",
    "    t+=1\n",
    "plt.show()"
   ]
  },
  {
   "cell_type": "code",
   "execution_count": null,
   "metadata": {},
   "outputs": [],
   "source": []
  },
  {
   "cell_type": "code",
   "execution_count": null,
   "metadata": {},
   "outputs": [],
   "source": []
  },
  {
   "cell_type": "markdown",
   "metadata": {
    "colab_type": "text",
    "id": "0voP96MFlY8K"
   },
   "source": [
    "### 4.\tSummarize relationships among variables (10 marks)               \n",
    "a.\tPlot relevant categorical plots. Find out which are the variables most correlated or appear to be in causation with Target? Do you want to exclude some variables from the model based on this analysis? What other actions will you take?\n",
    "\n",
    "\n",
    "b.\tPlot all independent variables with the target & find out the relationship? Perform the Relevant Tests to find out if the Independent variables are associated with the Target Variable.\n",
    "\n",
    " Hint: based on your observations you may want to transform features or create additional features.\n"
   ]
  },
  {
   "cell_type": "code",
   "execution_count": 66,
   "metadata": {},
   "outputs": [
    {
     "data": {
      "text/html": [
       "<div>\n",
       "<style scoped>\n",
       "    .dataframe tbody tr th:only-of-type {\n",
       "        vertical-align: middle;\n",
       "    }\n",
       "\n",
       "    .dataframe tbody tr th {\n",
       "        vertical-align: top;\n",
       "    }\n",
       "\n",
       "    .dataframe thead th {\n",
       "        text-align: right;\n",
       "    }\n",
       "</style>\n",
       "<table border=\"1\" class=\"dataframe\">\n",
       "  <thead>\n",
       "    <tr style=\"text-align: right;\">\n",
       "      <th></th>\n",
       "      <th>MinTemp</th>\n",
       "      <th>MaxTemp</th>\n",
       "      <th>Rainfall</th>\n",
       "      <th>WindGustDir</th>\n",
       "      <th>WindGustSpeed</th>\n",
       "      <th>WindDir9am</th>\n",
       "      <th>WindDir3pm</th>\n",
       "      <th>WindSpeed9am</th>\n",
       "      <th>WindSpeed3pm</th>\n",
       "      <th>Humidity9am</th>\n",
       "      <th>Humidity3pm</th>\n",
       "      <th>Pressure9am</th>\n",
       "      <th>Pressure3pm</th>\n",
       "      <th>Temp9am</th>\n",
       "      <th>Temp3pm</th>\n",
       "      <th>RainToday</th>\n",
       "      <th>RISK_MM</th>\n",
       "      <th>RainTomorrow</th>\n",
       "    </tr>\n",
       "  </thead>\n",
       "  <tbody>\n",
       "    <tr>\n",
       "      <th>MinTemp</th>\n",
       "      <td>1.000000</td>\n",
       "      <td>0.707543</td>\n",
       "      <td>0.077413</td>\n",
       "      <td>-0.144221</td>\n",
       "      <td>0.099760</td>\n",
       "      <td>-0.064805</td>\n",
       "      <td>-0.157242</td>\n",
       "      <td>0.119573</td>\n",
       "      <td>0.076216</td>\n",
       "      <td>-0.153712</td>\n",
       "      <td>0.048838</td>\n",
       "      <td>-0.368641</td>\n",
       "      <td>-0.383588</td>\n",
       "      <td>0.889676</td>\n",
       "      <td>0.674453</td>\n",
       "      <td>0.077942</td>\n",
       "      <td>0.040349</td>\n",
       "      <td>0.044828</td>\n",
       "    </tr>\n",
       "    <tr>\n",
       "      <th>MaxTemp</th>\n",
       "      <td>0.707543</td>\n",
       "      <td>1.000000</td>\n",
       "      <td>-0.260268</td>\n",
       "      <td>-0.214059</td>\n",
       "      <td>0.017523</td>\n",
       "      <td>-0.276295</td>\n",
       "      <td>-0.182556</td>\n",
       "      <td>-0.026751</td>\n",
       "      <td>-0.037171</td>\n",
       "      <td>-0.428417</td>\n",
       "      <td>-0.490827</td>\n",
       "      <td>-0.248988</td>\n",
       "      <td>-0.352811</td>\n",
       "      <td>0.875615</td>\n",
       "      <td>0.977587</td>\n",
       "      <td>-0.234887</td>\n",
       "      <td>-0.211495</td>\n",
       "      <td>-0.181801</td>\n",
       "    </tr>\n",
       "    <tr>\n",
       "      <th>Rainfall</th>\n",
       "      <td>0.077413</td>\n",
       "      <td>-0.260268</td>\n",
       "      <td>1.000000</td>\n",
       "      <td>0.138968</td>\n",
       "      <td>0.179794</td>\n",
       "      <td>0.148074</td>\n",
       "      <td>0.181896</td>\n",
       "      <td>0.114163</td>\n",
       "      <td>0.106318</td>\n",
       "      <td>0.416269</td>\n",
       "      <td>0.439997</td>\n",
       "      <td>-0.234661</td>\n",
       "      <td>-0.150128</td>\n",
       "      <td>-0.109343</td>\n",
       "      <td>-0.270432</td>\n",
       "      <td>0.966863</td>\n",
       "      <td>0.373710</td>\n",
       "      <td>0.318262</td>\n",
       "    </tr>\n",
       "    <tr>\n",
       "      <th>WindGustDir</th>\n",
       "      <td>-0.144221</td>\n",
       "      <td>-0.214059</td>\n",
       "      <td>0.138968</td>\n",
       "      <td>1.000000</td>\n",
       "      <td>0.207441</td>\n",
       "      <td>0.393857</td>\n",
       "      <td>0.611003</td>\n",
       "      <td>0.028824</td>\n",
       "      <td>0.133771</td>\n",
       "      <td>0.061894</td>\n",
       "      <td>0.008706</td>\n",
       "      <td>-0.200294</td>\n",
       "      <td>-0.112524</td>\n",
       "      <td>-0.193272</td>\n",
       "      <td>-0.221389</td>\n",
       "      <td>0.118738</td>\n",
       "      <td>0.059061</td>\n",
       "      <td>0.035903</td>\n",
       "    </tr>\n",
       "    <tr>\n",
       "      <th>WindGustSpeed</th>\n",
       "      <td>0.099760</td>\n",
       "      <td>0.017523</td>\n",
       "      <td>0.179794</td>\n",
       "      <td>0.207441</td>\n",
       "      <td>1.000000</td>\n",
       "      <td>-0.018497</td>\n",
       "      <td>0.181394</td>\n",
       "      <td>0.562608</td>\n",
       "      <td>0.643846</td>\n",
       "      <td>-0.162835</td>\n",
       "      <td>-0.037116</td>\n",
       "      <td>-0.410929</td>\n",
       "      <td>-0.384756</td>\n",
       "      <td>0.049786</td>\n",
       "      <td>-0.016833</td>\n",
       "      <td>0.171719</td>\n",
       "      <td>0.274455</td>\n",
       "      <td>0.241238</td>\n",
       "    </tr>\n",
       "    <tr>\n",
       "      <th>WindDir9am</th>\n",
       "      <td>-0.064805</td>\n",
       "      <td>-0.276295</td>\n",
       "      <td>0.148074</td>\n",
       "      <td>0.393857</td>\n",
       "      <td>-0.018497</td>\n",
       "      <td>1.000000</td>\n",
       "      <td>0.325520</td>\n",
       "      <td>-0.022392</td>\n",
       "      <td>0.056990</td>\n",
       "      <td>0.134421</td>\n",
       "      <td>0.202056</td>\n",
       "      <td>-0.029474</td>\n",
       "      <td>0.070719</td>\n",
       "      <td>-0.167935</td>\n",
       "      <td>-0.282287</td>\n",
       "      <td>0.139153</td>\n",
       "      <td>0.020508</td>\n",
       "      <td>0.014821</td>\n",
       "    </tr>\n",
       "    <tr>\n",
       "      <th>WindDir3pm</th>\n",
       "      <td>-0.157242</td>\n",
       "      <td>-0.182556</td>\n",
       "      <td>0.181896</td>\n",
       "      <td>0.611003</td>\n",
       "      <td>0.181394</td>\n",
       "      <td>0.325520</td>\n",
       "      <td>1.000000</td>\n",
       "      <td>0.034146</td>\n",
       "      <td>0.121170</td>\n",
       "      <td>0.016028</td>\n",
       "      <td>-0.029165</td>\n",
       "      <td>-0.175750</td>\n",
       "      <td>-0.078340</td>\n",
       "      <td>-0.193590</td>\n",
       "      <td>-0.192889</td>\n",
       "      <td>0.171332</td>\n",
       "      <td>0.018498</td>\n",
       "      <td>-0.006081</td>\n",
       "    </tr>\n",
       "    <tr>\n",
       "      <th>WindSpeed9am</th>\n",
       "      <td>0.119573</td>\n",
       "      <td>-0.026751</td>\n",
       "      <td>0.114163</td>\n",
       "      <td>0.028824</td>\n",
       "      <td>0.562608</td>\n",
       "      <td>-0.022392</td>\n",
       "      <td>0.034146</td>\n",
       "      <td>1.000000</td>\n",
       "      <td>0.494509</td>\n",
       "      <td>-0.251085</td>\n",
       "      <td>-0.032399</td>\n",
       "      <td>-0.208682</td>\n",
       "      <td>-0.177879</td>\n",
       "      <td>0.064586</td>\n",
       "      <td>-0.045751</td>\n",
       "      <td>0.112990</td>\n",
       "      <td>0.111444</td>\n",
       "      <td>0.084824</td>\n",
       "    </tr>\n",
       "    <tr>\n",
       "      <th>WindSpeed3pm</th>\n",
       "      <td>0.076216</td>\n",
       "      <td>-0.037171</td>\n",
       "      <td>0.106318</td>\n",
       "      <td>0.133771</td>\n",
       "      <td>0.643846</td>\n",
       "      <td>0.056990</td>\n",
       "      <td>0.121170</td>\n",
       "      <td>0.494509</td>\n",
       "      <td>1.000000</td>\n",
       "      <td>-0.063120</td>\n",
       "      <td>0.068162</td>\n",
       "      <td>-0.275282</td>\n",
       "      <td>-0.256146</td>\n",
       "      <td>0.049967</td>\n",
       "      <td>-0.066509</td>\n",
       "      <td>0.102734</td>\n",
       "      <td>0.157833</td>\n",
       "      <td>0.138374</td>\n",
       "    </tr>\n",
       "    <tr>\n",
       "      <th>Humidity9am</th>\n",
       "      <td>-0.153712</td>\n",
       "      <td>-0.428417</td>\n",
       "      <td>0.416269</td>\n",
       "      <td>0.061894</td>\n",
       "      <td>-0.162835</td>\n",
       "      <td>0.134421</td>\n",
       "      <td>0.016028</td>\n",
       "      <td>-0.251085</td>\n",
       "      <td>-0.063120</td>\n",
       "      <td>1.000000</td>\n",
       "      <td>0.643016</td>\n",
       "      <td>0.041561</td>\n",
       "      <td>0.089958</td>\n",
       "      <td>-0.395202</td>\n",
       "      <td>-0.423854</td>\n",
       "      <td>0.387094</td>\n",
       "      <td>0.323572</td>\n",
       "      <td>0.281699</td>\n",
       "    </tr>\n",
       "    <tr>\n",
       "      <th>Humidity3pm</th>\n",
       "      <td>0.048838</td>\n",
       "      <td>-0.490827</td>\n",
       "      <td>0.439997</td>\n",
       "      <td>0.008706</td>\n",
       "      <td>-0.037116</td>\n",
       "      <td>0.202056</td>\n",
       "      <td>-0.029165</td>\n",
       "      <td>-0.032399</td>\n",
       "      <td>0.068162</td>\n",
       "      <td>0.643016</td>\n",
       "      <td>1.000000</td>\n",
       "      <td>-0.040338</td>\n",
       "      <td>0.040891</td>\n",
       "      <td>-0.181835</td>\n",
       "      <td>-0.543803</td>\n",
       "      <td>0.403629</td>\n",
       "      <td>0.490319</td>\n",
       "      <td>0.448060</td>\n",
       "    </tr>\n",
       "    <tr>\n",
       "      <th>Pressure9am</th>\n",
       "      <td>-0.368641</td>\n",
       "      <td>-0.248988</td>\n",
       "      <td>-0.234661</td>\n",
       "      <td>-0.200294</td>\n",
       "      <td>-0.410929</td>\n",
       "      <td>-0.029474</td>\n",
       "      <td>-0.175750</td>\n",
       "      <td>-0.208682</td>\n",
       "      <td>-0.275282</td>\n",
       "      <td>0.041561</td>\n",
       "      <td>-0.040338</td>\n",
       "      <td>1.000000</td>\n",
       "      <td>0.961258</td>\n",
       "      <td>-0.317182</td>\n",
       "      <td>-0.202400</td>\n",
       "      <td>-0.229678</td>\n",
       "      <td>-0.242245</td>\n",
       "      <td>-0.201407</td>\n",
       "    </tr>\n",
       "    <tr>\n",
       "      <th>Pressure3pm</th>\n",
       "      <td>-0.383588</td>\n",
       "      <td>-0.352811</td>\n",
       "      <td>-0.150128</td>\n",
       "      <td>-0.112524</td>\n",
       "      <td>-0.384756</td>\n",
       "      <td>0.070719</td>\n",
       "      <td>-0.078340</td>\n",
       "      <td>-0.177879</td>\n",
       "      <td>-0.256146</td>\n",
       "      <td>0.089958</td>\n",
       "      <td>0.040891</td>\n",
       "      <td>0.961258</td>\n",
       "      <td>1.000000</td>\n",
       "      <td>-0.375295</td>\n",
       "      <td>-0.312365</td>\n",
       "      <td>-0.150967</td>\n",
       "      <td>-0.228174</td>\n",
       "      <td>-0.197101</td>\n",
       "    </tr>\n",
       "    <tr>\n",
       "      <th>Temp9am</th>\n",
       "      <td>0.889676</td>\n",
       "      <td>0.875615</td>\n",
       "      <td>-0.109343</td>\n",
       "      <td>-0.193272</td>\n",
       "      <td>0.049786</td>\n",
       "      <td>-0.167935</td>\n",
       "      <td>-0.193590</td>\n",
       "      <td>0.064586</td>\n",
       "      <td>0.049967</td>\n",
       "      <td>-0.395202</td>\n",
       "      <td>-0.181835</td>\n",
       "      <td>-0.317182</td>\n",
       "      <td>-0.375295</td>\n",
       "      <td>1.000000</td>\n",
       "      <td>0.841176</td>\n",
       "      <td>-0.096578</td>\n",
       "      <td>-0.082677</td>\n",
       "      <td>-0.065258</td>\n",
       "    </tr>\n",
       "    <tr>\n",
       "      <th>Temp3pm</th>\n",
       "      <td>0.674453</td>\n",
       "      <td>0.977587</td>\n",
       "      <td>-0.270432</td>\n",
       "      <td>-0.221389</td>\n",
       "      <td>-0.016833</td>\n",
       "      <td>-0.282287</td>\n",
       "      <td>-0.192889</td>\n",
       "      <td>-0.045751</td>\n",
       "      <td>-0.066509</td>\n",
       "      <td>-0.423854</td>\n",
       "      <td>-0.543803</td>\n",
       "      <td>-0.202400</td>\n",
       "      <td>-0.312365</td>\n",
       "      <td>0.841176</td>\n",
       "      <td>1.000000</td>\n",
       "      <td>-0.243348</td>\n",
       "      <td>-0.241491</td>\n",
       "      <td>-0.209211</td>\n",
       "    </tr>\n",
       "    <tr>\n",
       "      <th>RainToday</th>\n",
       "      <td>0.077942</td>\n",
       "      <td>-0.234887</td>\n",
       "      <td>0.966863</td>\n",
       "      <td>0.118738</td>\n",
       "      <td>0.171719</td>\n",
       "      <td>0.139153</td>\n",
       "      <td>0.171332</td>\n",
       "      <td>0.112990</td>\n",
       "      <td>0.102734</td>\n",
       "      <td>0.387094</td>\n",
       "      <td>0.403629</td>\n",
       "      <td>-0.229678</td>\n",
       "      <td>-0.150967</td>\n",
       "      <td>-0.096578</td>\n",
       "      <td>-0.243348</td>\n",
       "      <td>1.000000</td>\n",
       "      <td>0.345659</td>\n",
       "      <td>0.295574</td>\n",
       "    </tr>\n",
       "    <tr>\n",
       "      <th>RISK_MM</th>\n",
       "      <td>0.040349</td>\n",
       "      <td>-0.211495</td>\n",
       "      <td>0.373710</td>\n",
       "      <td>0.059061</td>\n",
       "      <td>0.274455</td>\n",
       "      <td>0.020508</td>\n",
       "      <td>0.018498</td>\n",
       "      <td>0.111444</td>\n",
       "      <td>0.157833</td>\n",
       "      <td>0.323572</td>\n",
       "      <td>0.490319</td>\n",
       "      <td>-0.242245</td>\n",
       "      <td>-0.228174</td>\n",
       "      <td>-0.082677</td>\n",
       "      <td>-0.241491</td>\n",
       "      <td>0.345659</td>\n",
       "      <td>1.000000</td>\n",
       "      <td>0.950666</td>\n",
       "    </tr>\n",
       "    <tr>\n",
       "      <th>RainTomorrow</th>\n",
       "      <td>0.044828</td>\n",
       "      <td>-0.181801</td>\n",
       "      <td>0.318262</td>\n",
       "      <td>0.035903</td>\n",
       "      <td>0.241238</td>\n",
       "      <td>0.014821</td>\n",
       "      <td>-0.006081</td>\n",
       "      <td>0.084824</td>\n",
       "      <td>0.138374</td>\n",
       "      <td>0.281699</td>\n",
       "      <td>0.448060</td>\n",
       "      <td>-0.201407</td>\n",
       "      <td>-0.197101</td>\n",
       "      <td>-0.065258</td>\n",
       "      <td>-0.209211</td>\n",
       "      <td>0.295574</td>\n",
       "      <td>0.950666</td>\n",
       "      <td>1.000000</td>\n",
       "    </tr>\n",
       "  </tbody>\n",
       "</table>\n",
       "</div>"
      ],
      "text/plain": [
       "                MinTemp   MaxTemp  Rainfall  WindGustDir  WindGustSpeed  \\\n",
       "MinTemp        1.000000  0.707543  0.077413    -0.144221       0.099760   \n",
       "MaxTemp        0.707543  1.000000 -0.260268    -0.214059       0.017523   \n",
       "Rainfall       0.077413 -0.260268  1.000000     0.138968       0.179794   \n",
       "WindGustDir   -0.144221 -0.214059  0.138968     1.000000       0.207441   \n",
       "WindGustSpeed  0.099760  0.017523  0.179794     0.207441       1.000000   \n",
       "WindDir9am    -0.064805 -0.276295  0.148074     0.393857      -0.018497   \n",
       "WindDir3pm    -0.157242 -0.182556  0.181896     0.611003       0.181394   \n",
       "WindSpeed9am   0.119573 -0.026751  0.114163     0.028824       0.562608   \n",
       "WindSpeed3pm   0.076216 -0.037171  0.106318     0.133771       0.643846   \n",
       "Humidity9am   -0.153712 -0.428417  0.416269     0.061894      -0.162835   \n",
       "Humidity3pm    0.048838 -0.490827  0.439997     0.008706      -0.037116   \n",
       "Pressure9am   -0.368641 -0.248988 -0.234661    -0.200294      -0.410929   \n",
       "Pressure3pm   -0.383588 -0.352811 -0.150128    -0.112524      -0.384756   \n",
       "Temp9am        0.889676  0.875615 -0.109343    -0.193272       0.049786   \n",
       "Temp3pm        0.674453  0.977587 -0.270432    -0.221389      -0.016833   \n",
       "RainToday      0.077942 -0.234887  0.966863     0.118738       0.171719   \n",
       "RISK_MM        0.040349 -0.211495  0.373710     0.059061       0.274455   \n",
       "RainTomorrow   0.044828 -0.181801  0.318262     0.035903       0.241238   \n",
       "\n",
       "               WindDir9am  WindDir3pm  WindSpeed9am  WindSpeed3pm  \\\n",
       "MinTemp         -0.064805   -0.157242      0.119573      0.076216   \n",
       "MaxTemp         -0.276295   -0.182556     -0.026751     -0.037171   \n",
       "Rainfall         0.148074    0.181896      0.114163      0.106318   \n",
       "WindGustDir      0.393857    0.611003      0.028824      0.133771   \n",
       "WindGustSpeed   -0.018497    0.181394      0.562608      0.643846   \n",
       "WindDir9am       1.000000    0.325520     -0.022392      0.056990   \n",
       "WindDir3pm       0.325520    1.000000      0.034146      0.121170   \n",
       "WindSpeed9am    -0.022392    0.034146      1.000000      0.494509   \n",
       "WindSpeed3pm     0.056990    0.121170      0.494509      1.000000   \n",
       "Humidity9am      0.134421    0.016028     -0.251085     -0.063120   \n",
       "Humidity3pm      0.202056   -0.029165     -0.032399      0.068162   \n",
       "Pressure9am     -0.029474   -0.175750     -0.208682     -0.275282   \n",
       "Pressure3pm      0.070719   -0.078340     -0.177879     -0.256146   \n",
       "Temp9am         -0.167935   -0.193590      0.064586      0.049967   \n",
       "Temp3pm         -0.282287   -0.192889     -0.045751     -0.066509   \n",
       "RainToday        0.139153    0.171332      0.112990      0.102734   \n",
       "RISK_MM          0.020508    0.018498      0.111444      0.157833   \n",
       "RainTomorrow     0.014821   -0.006081      0.084824      0.138374   \n",
       "\n",
       "               Humidity9am  Humidity3pm  Pressure9am  Pressure3pm   Temp9am  \\\n",
       "MinTemp          -0.153712     0.048838    -0.368641    -0.383588  0.889676   \n",
       "MaxTemp          -0.428417    -0.490827    -0.248988    -0.352811  0.875615   \n",
       "Rainfall          0.416269     0.439997    -0.234661    -0.150128 -0.109343   \n",
       "WindGustDir       0.061894     0.008706    -0.200294    -0.112524 -0.193272   \n",
       "WindGustSpeed    -0.162835    -0.037116    -0.410929    -0.384756  0.049786   \n",
       "WindDir9am        0.134421     0.202056    -0.029474     0.070719 -0.167935   \n",
       "WindDir3pm        0.016028    -0.029165    -0.175750    -0.078340 -0.193590   \n",
       "WindSpeed9am     -0.251085    -0.032399    -0.208682    -0.177879  0.064586   \n",
       "WindSpeed3pm     -0.063120     0.068162    -0.275282    -0.256146  0.049967   \n",
       "Humidity9am       1.000000     0.643016     0.041561     0.089958 -0.395202   \n",
       "Humidity3pm       0.643016     1.000000    -0.040338     0.040891 -0.181835   \n",
       "Pressure9am       0.041561    -0.040338     1.000000     0.961258 -0.317182   \n",
       "Pressure3pm       0.089958     0.040891     0.961258     1.000000 -0.375295   \n",
       "Temp9am          -0.395202    -0.181835    -0.317182    -0.375295  1.000000   \n",
       "Temp3pm          -0.423854    -0.543803    -0.202400    -0.312365  0.841176   \n",
       "RainToday         0.387094     0.403629    -0.229678    -0.150967 -0.096578   \n",
       "RISK_MM           0.323572     0.490319    -0.242245    -0.228174 -0.082677   \n",
       "RainTomorrow      0.281699     0.448060    -0.201407    -0.197101 -0.065258   \n",
       "\n",
       "                Temp3pm  RainToday   RISK_MM  RainTomorrow  \n",
       "MinTemp        0.674453   0.077942  0.040349      0.044828  \n",
       "MaxTemp        0.977587  -0.234887 -0.211495     -0.181801  \n",
       "Rainfall      -0.270432   0.966863  0.373710      0.318262  \n",
       "WindGustDir   -0.221389   0.118738  0.059061      0.035903  \n",
       "WindGustSpeed -0.016833   0.171719  0.274455      0.241238  \n",
       "WindDir9am    -0.282287   0.139153  0.020508      0.014821  \n",
       "WindDir3pm    -0.192889   0.171332  0.018498     -0.006081  \n",
       "WindSpeed9am  -0.045751   0.112990  0.111444      0.084824  \n",
       "WindSpeed3pm  -0.066509   0.102734  0.157833      0.138374  \n",
       "Humidity9am   -0.423854   0.387094  0.323572      0.281699  \n",
       "Humidity3pm   -0.543803   0.403629  0.490319      0.448060  \n",
       "Pressure9am   -0.202400  -0.229678 -0.242245     -0.201407  \n",
       "Pressure3pm   -0.312365  -0.150967 -0.228174     -0.197101  \n",
       "Temp9am        0.841176  -0.096578 -0.082677     -0.065258  \n",
       "Temp3pm        1.000000  -0.243348 -0.241491     -0.209211  \n",
       "RainToday     -0.243348   1.000000  0.345659      0.295574  \n",
       "RISK_MM       -0.241491   0.345659  1.000000      0.950666  \n",
       "RainTomorrow  -0.209211   0.295574  0.950666      1.000000  "
      ]
     },
     "execution_count": 66,
     "metadata": {},
     "output_type": "execute_result"
    }
   ],
   "source": [
    "df.corr()"
   ]
  },
  {
   "cell_type": "code",
   "execution_count": 67,
   "metadata": {},
   "outputs": [
    {
     "data": {
      "text/plain": [
       "<matplotlib.axes._subplots.AxesSubplot at 0x7f4b03ec0390>"
      ]
     },
     "execution_count": 67,
     "metadata": {},
     "output_type": "execute_result"
    },
    {
     "data": {
      "image/png": "[encoded data removed]",
      "text/plain": [
       "<Figure size 432x288 with 2 Axes>"
      ]
     },
     "metadata": {
      "needs_background": "light"
     },
     "output_type": "display_data"
    }
   ],
   "source": [
    "sns.heatmap(df.corr())"
   ]
  },
  {
   "cell_type": "code",
   "execution_count": 68,
   "metadata": {
    "colab": {},
    "colab_type": "code",
    "id": "Z0c9hgLSlY8L",
    "scrolled": true
   },
   "outputs": [
    {
     "data": {
      "text/plain": [
       "MinTemp          0.128314\n",
       "MaxTemp          0.270419\n",
       "Rainfall         1.170208\n",
       "WindGustDir     -0.160264\n",
       "WindGustSpeed    0.630171\n",
       "WindDir9am       0.023787\n",
       "WindDir3pm      -0.123327\n",
       "WindSpeed9am     0.598958\n",
       "WindSpeed3pm     0.395248\n",
       "Humidity9am     -0.360040\n",
       "Humidity3pm      0.047296\n",
       "Pressure9am     -0.152621\n",
       "Pressure3pm     -0.096743\n",
       "Temp9am          0.159558\n",
       "Temp3pm          0.263208\n",
       "RainToday        1.254371\n",
       "RISK_MM          1.229295\n",
       "RainTomorrow     1.463550\n",
       "dtype: float64"
      ]
     },
     "execution_count": 68,
     "metadata": {},
     "output_type": "execute_result"
    }
   ],
   "source": [
    "df.skew()"
   ]
  },
  {
   "cell_type": "code",
   "execution_count": 69,
   "metadata": {},
   "outputs": [
    {
     "data": {
      "text/plain": [
       "<matplotlib.axes._subplots.AxesSubplot at 0x7f4b03e35668>"
      ]
     },
     "execution_count": 69,
     "metadata": {},
     "output_type": "execute_result"
    },
    {
     "data": {
      "image/png": "[encoded data removed]",
      "text/plain": [
       "<Figure size 576x576 with 1 Axes>"
      ]
     },
     "metadata": {
      "needs_background": "light"
     },
     "output_type": "display_data"
    }
   ],
   "source": [
    "plt.figure(figsize=(8,8))\n",
    "sns.scatterplot(x = 'MaxTemp', y = 'MinTemp', hue = 'RainTomorrow', palette = 'viridis', data =df)"
   ]
  },
  {
   "cell_type": "code",
   "execution_count": 70,
   "metadata": {},
   "outputs": [
    {
     "data": {
      "text/plain": [
       "<matplotlib.axes._subplots.AxesSubplot at 0x7f4b03e3df60>"
      ]
     },
     "execution_count": 70,
     "metadata": {},
     "output_type": "execute_result"
    },
    {
     "data": {
      "image/png": "[encoded data removed]",
      "text/plain": [
       "<Figure size 576x576 with 1 Axes>"
      ]
     },
     "metadata": {
      "needs_background": "light"
     },
     "output_type": "display_data"
    }
   ],
   "source": [
    "plt.figure(figsize=(8,8))\n",
    "sns.scatterplot(x = 'Humidity9am', y = 'Temp9am', hue = 'RainTomorrow', palette = 'viridis', data =df)"
   ]
  },
  {
   "cell_type": "code",
   "execution_count": null,
   "metadata": {},
   "outputs": [],
   "source": [
    "# the humidity is increasing the chnaces of rain are increasing"
   ]
  },
  {
   "cell_type": "code",
   "execution_count": 71,
   "metadata": {},
   "outputs": [
    {
     "data": {
      "text/plain": [
       "<matplotlib.axes._subplots.AxesSubplot at 0x7f4b03f03710>"
      ]
     },
     "execution_count": 71,
     "metadata": {},
     "output_type": "execute_result"
    },
    {
     "data": {
      "image/png": "[encoded data removed]",
      "text/plain": [
       "<Figure size 432x288 with 1 Axes>"
      ]
     },
     "metadata": {
      "needs_background": "light"
     },
     "output_type": "display_data"
    }
   ],
   "source": [
    "sns.countplot(df['RainTomorrow'])"
   ]
  },
  {
   "cell_type": "markdown",
   "metadata": {
    "_uuid": "9f29fa3003e7fc145f7d89c614446b2afafb3ccb",
    "colab_type": "text",
    "id": "AadElC43lY8O"
   },
   "source": [
    "### 5.\tSplit dataset into train and test (70:30) (5 marks)\n",
    "a.\tAre both train and test representative of the overall data? How would you ascertain this statistically?\n"
   ]
  },
  {
   "cell_type": "code",
   "execution_count": 72,
   "metadata": {
    "colab": {},
    "colab_type": "code",
    "id": "HwhACqDxlY8Q"
   },
   "outputs": [],
   "source": [
    "X = df.drop(['RainTomorrow'], axis =1)\n",
    "y = df['RainTomorrow']"
   ]
  },
  {
   "cell_type": "code",
   "execution_count": 76,
   "metadata": {},
   "outputs": [],
   "source": [
    "from imblearn.over_sampling import SMOTE\n",
    "smote = SMOTE()\n",
    "X ,y = smote.fit_resample(X,y)\n",
    "df = pd.concat([pd.DataFrame(X), pd.DataFrame(y)], axis =1)"
   ]
  },
  {
   "cell_type": "code",
   "execution_count": 78,
   "metadata": {},
   "outputs": [
    {
     "data": {
      "text/plain": [
       "<matplotlib.axes._subplots.AxesSubplot at 0x7f4b1e0bdcf8>"
      ]
     },
     "execution_count": 78,
     "metadata": {},
     "output_type": "execute_result"
    },
    {
     "data": {
      "image/png": "[encoded data removed]",
      "text/plain": [
       "<Figure size 432x288 with 1 Axes>"
      ]
     },
     "metadata": {
      "needs_background": "light"
     },
     "output_type": "display_data"
    }
   ],
   "source": [
    "sns.countplot(df['RainTomorrow'])"
   ]
  },
  {
   "cell_type": "code",
   "execution_count": 79,
   "metadata": {},
   "outputs": [],
   "source": [
    "X = df.drop(['RainTomorrow'], axis =1)\n",
    "y = df['RainTomorrow'] "
   ]
  },
  {
   "cell_type": "code",
   "execution_count": 80,
   "metadata": {},
   "outputs": [],
   "source": [
    "X_train, X_test, y_train, y_test = train_test_split(X,y,test_size = 0.3, random_state=10)"
   ]
  },
  {
   "cell_type": "code",
   "execution_count": 93,
   "metadata": {},
   "outputs": [
    {
     "data": {
      "text/plain": [
       "MinTemp          float64\n",
       "MaxTemp          float64\n",
       "Rainfall         float64\n",
       "WindGustDir      float64\n",
       "WindGustSpeed    float64\n",
       "WindDir9am       float64\n",
       "WindDir3pm       float64\n",
       "WindSpeed9am     float64\n",
       "WindSpeed3pm     float64\n",
       "Humidity9am      float64\n",
       "Humidity3pm      float64\n",
       "Pressure9am      float64\n",
       "Pressure3pm      float64\n",
       "Temp9am          float64\n",
       "Temp3pm          float64\n",
       "RainToday          int64\n",
       "RISK_MM          float64\n",
       "dtype: object"
      ]
     },
     "execution_count": 93,
     "metadata": {},
     "output_type": "execute_result"
    }
   ],
   "source": [
    "X_train.dtypes"
   ]
  },
  {
   "cell_type": "markdown",
   "metadata": {
    "_uuid": "2fcd4a30b10e5bf2f390190e6f3ac1c86ebc43b0",
    "colab_type": "text",
    "id": "tNozJtJ2lY8T"
   },
   "source": [
    "### 6.\tFit a base model and explain the reason of selecting that model. Please write your key observations (15 marks) \n",
    "\n",
    "a.\tWhat is the overall Accuracy? Please comment on whether it is good or not. \n",
    "\n",
    "b.\tWhat is Precision, Recall and F1 Score and what will be the optimization objective keeping in mind the problem statement.\n",
    "\n",
    "c.\tWhich variables are significant?\n",
    "\n",
    "d.\tWhat is Cohen’s Kappa Value and what inference do you make from the model\n",
    "\n",
    "e.\tWhich other key model output parameters do you want to look at? \n"
   ]
  },
  {
   "cell_type": "code",
   "execution_count": 81,
   "metadata": {
    "colab": {},
    "colab_type": "code",
    "id": "ZZ31_A34lY8U"
   },
   "outputs": [],
   "source": [
    "def get_test_report(model, test_data):\n",
    "    test_pred = model.predict(test_data)\n",
    "    return(classification_report(y_test,test_pred))"
   ]
  },
  {
   "cell_type": "code",
   "execution_count": 82,
   "metadata": {},
   "outputs": [],
   "source": [
    "def get_train_report(model,train_data):\n",
    "    train_pred = model.predict(train_data)\n",
    "    return(classification_report(y_train,train_pred))"
   ]
  },
  {
   "cell_type": "code",
   "execution_count": 83,
   "metadata": {},
   "outputs": [],
   "source": [
    "def plot_confusion_matrix(model, test_data):\n",
    "    y_pred = model.predict(test_data)\n",
    "    cm = confusion_matrix(y_test, y_pred)\n",
    "    conf_matrix = pd.DataFrame(data= cm, columns = ['Predicited:0','Predicited:1'], index = ['Actual:0','Actual:1'])\n",
    "    sns.heatmap(conf_matrix, annot = True, fmt = 'd', cmap= ListedColormap(['lightskyblue']), cbar = False,\n",
    "                 linewidths= 0.1, annot_kws= {'size':25})\n",
    "    plt.xticks(fontsize = 20)\n",
    "    plt.yticks(fontsize = 20)\n",
    "    plt.show()"
   ]
  },
  {
   "cell_type": "code",
   "execution_count": 104,
   "metadata": {},
   "outputs": [],
   "source": [
    "def plot_roc(model,test_data):\n",
    "    y_pred_prob = model.predict_proba(test_data)[:,1]\n",
    "    fpr, tpr, thresholds = roc_curve(y_test, y_pred_prob)\n",
    "    plt.plot(fpr,tpr)\n",
    "    plt.xlim([0.0, 1.0])\n",
    "    plt.ylim([0.0, 1.0])\n",
    "    plt.plot([0,1],[0,1],'r--')\n",
    "    plt.title('ROC Curve', fontsize = 15)\n",
    "    plt.xlabel('Flase Positive rate', fontsize =15)\n",
    "    plt.ylabel('True Positive rate', fontsize = 15)\n",
    "    plt.text(x =0.02, y = 0.9, s = ('AUC Score:', round(roc_auc_score(y_test, y_pred_prob),4)))\n",
    "    plt.grid(True)"
   ]
  },
  {
   "cell_type": "code",
   "execution_count": 109,
   "metadata": {},
   "outputs": [],
   "source": [
    "from sklearn.linear_model import LogisticRegression"
   ]
  },
  {
   "cell_type": "code",
   "execution_count": 113,
   "metadata": {},
   "outputs": [],
   "source": [
    "# lr = LogisticRegression()\n",
    "# base_model = lr.fit(X_train, y_train)"
   ]
  },
  {
   "cell_type": "code",
   "execution_count": null,
   "metadata": {},
   "outputs": [],
   "source": [
    "# plot_confusion_matrix(base_model,test_data = X_test)"
   ]
  },
  {
   "cell_type": "code",
   "execution_count": null,
   "metadata": {},
   "outputs": [],
   "source": [
    "# plot_roc(base_model, test_data= X_test)"
   ]
  },
  {
   "cell_type": "code",
   "execution_count": null,
   "metadata": {},
   "outputs": [],
   "source": [
    "# print(get_train_report(base_model,train_data = X_train))"
   ]
  },
  {
   "cell_type": "code",
   "execution_count": null,
   "metadata": {},
   "outputs": [],
   "source": [
    "# print(get_test_report(base_model, test_data = X_test))"
   ]
  },
  {
   "cell_type": "code",
   "execution_count": null,
   "metadata": {},
   "outputs": [],
   "source": [
    "# getting some unknown error everything is correct. and Bellow models are running fine. not sure about this. dont have any str vlaues in my X_train data. kindly have aa look and consider this "
   ]
  },
  {
   "cell_type": "code",
   "execution_count": 158,
   "metadata": {},
   "outputs": [],
   "source": [
    "\n",
    "# Precison, recall and F1 score are evaluation metrics commonly used in classification task to assess the performance of a model \n",
    "# Precison indicates thee models ability to minize flase positive \n",
    "#Recall indicated the models ability to capture all the postive instance \n"
   ]
  },
  {
   "cell_type": "code",
   "execution_count": null,
   "metadata": {},
   "outputs": [],
   "source": [
    "#Cohens Kappa value is a statistic that measure that agreement between two raters or evaluators who classify items into categories. it is commonly used to assess the reliability or agreement of machine learning model in classification tasks. "
   ]
  },
  {
   "cell_type": "markdown",
   "metadata": {
    "_uuid": "1d74e48a7d887524399923f72b0d138c53e6f791",
    "colab_type": "text",
    "id": "xnn58u13lY8Y"
   },
   "source": [
    "### 7.\tHow do you improve overall efficiency of the model? Write clearly the changes that you will make before re-fitting the model. Fit the final model. (20 marks)\n",
    "Please feel free to have any number of iterations to get to the final answer. Marks are awarded based on the quality of final model you are able to achieve. \n"
   ]
  },
  {
   "cell_type": "code",
   "execution_count": 95,
   "metadata": {
    "colab": {},
    "colab_type": "code",
    "id": "BOL1Xh8plY8Z"
   },
   "outputs": [],
   "source": [
    "knn_classification = KNeighborsClassifier(n_neighbors =3)\n",
    "knn_model = knn_classification.fit(X_train,y_train)"
   ]
  },
  {
   "cell_type": "code",
   "execution_count": 96,
   "metadata": {},
   "outputs": [
    {
     "data": {
      "image/png": "[encoded data removed]",
      "text/plain": [
       "<Figure size 432x288 with 1 Axes>"
      ]
     },
     "metadata": {
      "needs_background": "light"
     },
     "output_type": "display_data"
    }
   ],
   "source": [
    "plot_confusion_matrix(knn_model,test_data = X_test)"
   ]
  },
  {
   "cell_type": "code",
   "execution_count": 105,
   "metadata": {},
   "outputs": [
    {
     "data": {
      "image/png": "[encoded data removed]",
      "text/plain": [
       "<Figure size 432x288 with 1 Axes>"
      ]
     },
     "metadata": {
      "needs_background": "light"
     },
     "output_type": "display_data"
    }
   ],
   "source": [
    "plot_roc(knn_model, test_data= X_test)"
   ]
  },
  {
   "cell_type": "code",
   "execution_count": 106,
   "metadata": {},
   "outputs": [
    {
     "name": "stdout",
     "output_type": "stream",
     "text": [
      "              precision    recall  f1-score   support\n",
      "\n",
      "           0       0.99      0.84      0.91       503\n",
      "           1       0.86      0.99      0.92       512\n",
      "\n",
      "    accuracy                           0.92      1015\n",
      "   macro avg       0.93      0.91      0.91      1015\n",
      "weighted avg       0.92      0.92      0.91      1015\n",
      "\n"
     ]
    }
   ],
   "source": [
    "print(get_train_report(knn_model,train_data = X_train))"
   ]
  },
  {
   "cell_type": "code",
   "execution_count": 108,
   "metadata": {},
   "outputs": [
    {
     "name": "stdout",
     "output_type": "stream",
     "text": [
      "              precision    recall  f1-score   support\n",
      "\n",
      "           0       0.95      0.73      0.83       222\n",
      "           1       0.77      0.96      0.86       213\n",
      "\n",
      "    accuracy                           0.84       435\n",
      "   macro avg       0.86      0.85      0.84       435\n",
      "weighted avg       0.87      0.84      0.84       435\n",
      "\n"
     ]
    }
   ],
   "source": [
    "print(get_test_report(knn_model, test_data = X_test))"
   ]
  },
  {
   "cell_type": "code",
   "execution_count": 128,
   "metadata": {},
   "outputs": [
    {
     "name": "stdout",
     "output_type": "stream",
     "text": [
      "Best Paramter: {'criterion': 'gini', 'max_depth': 5, 'max_features': 'sqrt', 'max_leaf_nodes': 8, 'min_samples_leaf': 7, 'min_samples_split': 2} \n",
      "\n"
     ]
    }
   ],
   "source": [
    "tuned_paramaters = [{'criterion': ['entropy', 'gini'],\n",
    "                     'max_depth': range(2,10),\n",
    "                     'max_features' : [\"sqrt\",\"Log2\"],\n",
    "                     'min_samples_split':range(2,10),\n",
    "                     'min_samples_leaf': range(1,10),\n",
    "                      'max_leaf_nodes': range(1,10)}]\n",
    "\n",
    "decisioin_tree_clas = DecisionTreeClassifier(random_state =10)\n",
    "tree_grid = GridSearchCV(estimator = decisioin_tree_clas,\n",
    "                         param_grid= tuned_paramaters,\n",
    "                         cv = 5)\n",
    "tree_grid_model = tree_grid.fit(X_train,y_train)\n",
    "print(\"Best Paramter:\", tree_grid_model.best_params_,'\\n')"
   ]
  },
  {
   "cell_type": "code",
   "execution_count": 131,
   "metadata": {},
   "outputs": [],
   "source": [
    "dt_model = DecisionTreeClassifier(criterion=tree_grid_model.best_params_.get('criterion'),\n",
    "                                max_depth= tree_grid_model.best_params_.get('max_depth'),\n",
    "                                max_features= tree_grid_model.best_params_.get('max_features'),\n",
    "                                max_leaf_nodes= tree_grid_model.best_params_.get('max_leaf_nodes'),\n",
    "                                min_samples_leaf= tree_grid_model.best_params_.get('min_samples_leaf'),\n",
    "                                min_samples_split= tree_grid_model.best_params_.get('min_samples_split'),\n",
    "                                random_state= 10)\n",
    "decision_tree = dt_model.fit(X_train, y_train)\n"
   ]
  },
  {
   "cell_type": "code",
   "execution_count": 132,
   "metadata": {},
   "outputs": [
    {
     "name": "stdout",
     "output_type": "stream",
     "text": [
      "              precision    recall  f1-score   support\n",
      "\n",
      "           0       0.99      0.83      0.91       503\n",
      "           1       0.86      0.99      0.92       512\n",
      "\n",
      "    accuracy                           0.91      1015\n",
      "   macro avg       0.93      0.91      0.91      1015\n",
      "weighted avg       0.92      0.91      0.91      1015\n",
      "\n"
     ]
    }
   ],
   "source": [
    "train_report = get_train_report(decision_tree, train_data=X_train)\n",
    "print(train_report)"
   ]
  },
  {
   "cell_type": "code",
   "execution_count": 133,
   "metadata": {},
   "outputs": [
    {
     "name": "stdout",
     "output_type": "stream",
     "text": [
      "              precision    recall  f1-score   support\n",
      "\n",
      "           0       0.98      0.84      0.91       222\n",
      "           1       0.86      0.99      0.92       213\n",
      "\n",
      "    accuracy                           0.91       435\n",
      "   macro avg       0.92      0.91      0.91       435\n",
      "weighted avg       0.92      0.91      0.91       435\n",
      "\n"
     ]
    }
   ],
   "source": [
    "print(get_test_report(decision_tree, test_data = X_test))"
   ]
  },
  {
   "cell_type": "code",
   "execution_count": 137,
   "metadata": {},
   "outputs": [
    {
     "data": {
      "image/png": "[encoded data removed]",
      "text/plain": [
       "<Figure size 432x288 with 1 Axes>"
      ]
     },
     "metadata": {
      "needs_background": "light"
     },
     "output_type": "display_data"
    }
   ],
   "source": [
    "plot_confusion_matrix(decision_tree,test_data = X_test)"
   ]
  },
  {
   "cell_type": "code",
   "execution_count": 138,
   "metadata": {},
   "outputs": [
    {
     "data": {
      "image/png": "[encoded data removed]",
      "text/plain": [
       "<Figure size 432x288 with 1 Axes>"
      ]
     },
     "metadata": {
      "needs_background": "light"
     },
     "output_type": "display_data"
    }
   ],
   "source": [
    "plot_roc(decision_tree, test_data= X_test)"
   ]
  },
  {
   "cell_type": "code",
   "execution_count": null,
   "metadata": {},
   "outputs": [],
   "source": []
  },
  {
   "cell_type": "code",
   "execution_count": 140,
   "metadata": {},
   "outputs": [
    {
     "name": "stdout",
     "output_type": "stream",
     "text": [
      "Best Paramter: {'criterion': 'entropy', 'max_depth': 10, 'max_features': 'sqrt', 'max_leaf_nodes': 2, 'min_samples_leaf': 1, 'min_samples_split': 2, 'n_estimators': 30} \n",
      "\n"
     ]
    }
   ],
   "source": [
    "tuned_paramaters = [{'criterion': ['entropy', 'gini'],\n",
    "                     'n_estimators': [10,30,50,70,90],\n",
    "                     'max_depth': [10,15,20],\n",
    "                     'max_features' : [\"sqrt\",\"Log2\"],\n",
    "                     'min_samples_split':[2,5,8,11],\n",
    "                     'min_samples_leaf': [1,5,9],\n",
    "                      'max_leaf_nodes': [2,5,8,11]}]\n",
    "\n",
    "random_forest_class = RandomForestClassifier(random_state=10)\n",
    "rf_grid = GridSearchCV(estimator = random_forest_class,\n",
    "                         param_grid= tuned_paramaters,\n",
    "                         cv = 5)\n",
    "rf_grid_model = rf_grid.fit(X_train,y_train)\n",
    "print(\"Best Paramter:\", rf_grid_model.best_params_,'\\n')"
   ]
  },
  {
   "cell_type": "code",
   "execution_count": 142,
   "metadata": {},
   "outputs": [],
   "source": [
    "rf_model = RandomForestClassifier(criterion=rf_grid_model.best_params_.get('criterion'),\n",
    "                                n_estimators = rf_grid_model.best_params_.get('n_estimators'),\n",
    "                                max_depth= rf_grid_model.best_params_.get('max_depth'),\n",
    "                                max_features= rf_grid_model.best_params_.get('max_features'),\n",
    "                                max_leaf_nodes= rf_grid_model.best_params_.get('max_leaf_nodes'),\n",
    "                                min_samples_leaf= rf_grid_model.best_params_.get('min_samples_leaf'),\n",
    "                                min_samples_split= rf_grid_model.best_params_.get('min_samples_split'),\n",
    "                                random_state= 10)\n",
    "rf_model_c = rf_model.fit(X_train, y_train)"
   ]
  },
  {
   "cell_type": "code",
   "execution_count": 143,
   "metadata": {},
   "outputs": [
    {
     "name": "stdout",
     "output_type": "stream",
     "text": [
      "              precision    recall  f1-score   support\n",
      "\n",
      "           0       1.00      1.00      1.00       503\n",
      "           1       1.00      1.00      1.00       512\n",
      "\n",
      "    accuracy                           1.00      1015\n",
      "   macro avg       1.00      1.00      1.00      1015\n",
      "weighted avg       1.00      1.00      1.00      1015\n",
      "\n"
     ]
    }
   ],
   "source": [
    "train_report = get_train_report(rf_model_c, train_data=X_train)\n",
    "print(train_report)"
   ]
  },
  {
   "cell_type": "code",
   "execution_count": 144,
   "metadata": {},
   "outputs": [
    {
     "name": "stdout",
     "output_type": "stream",
     "text": [
      "              precision    recall  f1-score   support\n",
      "\n",
      "           0       1.00      1.00      1.00       222\n",
      "           1       1.00      1.00      1.00       213\n",
      "\n",
      "    accuracy                           1.00       435\n",
      "   macro avg       1.00      1.00      1.00       435\n",
      "weighted avg       1.00      1.00      1.00       435\n",
      "\n"
     ]
    }
   ],
   "source": [
    "print(get_test_report(rf_model_c, test_data = X_test))"
   ]
  },
  {
   "cell_type": "code",
   "execution_count": 145,
   "metadata": {},
   "outputs": [
    {
     "data": {
      "image/png": "[encoded data removed]",
      "text/plain": [
       "<Figure size 432x288 with 1 Axes>"
      ]
     },
     "metadata": {
      "needs_background": "light"
     },
     "output_type": "display_data"
    }
   ],
   "source": [
    "plot_confusion_matrix(rf_model_c,test_data = X_test)"
   ]
  },
  {
   "cell_type": "code",
   "execution_count": 146,
   "metadata": {},
   "outputs": [
    {
     "data": {
      "image/png": "[encoded data removed]",
      "text/plain": [
       "<Figure size 432x288 with 1 Axes>"
      ]
     },
     "metadata": {
      "needs_background": "light"
     },
     "output_type": "display_data"
    }
   ],
   "source": [
    "plot_roc(rf_model_c, test_data= X_test)"
   ]
  },
  {
   "cell_type": "code",
   "execution_count": null,
   "metadata": {},
   "outputs": [],
   "source": []
  },
  {
   "cell_type": "code",
   "execution_count": 148,
   "metadata": {},
   "outputs": [
    {
     "ename": "AttributeError",
     "evalue": "'GridSearchCV' object has no attribute 'best_parans_'",
     "output_type": "error",
     "traceback": [
      "\u001b[0;31m---------------------------------------------------------------------------\u001b[0m",
      "\u001b[0;31mAttributeError\u001b[0m                            Traceback (most recent call last)",
      "\u001b[0;32m<ipython-input-148-e5b676b0e83b>\u001b[0m in \u001b[0;36m<module>\u001b[0;34m\u001b[0m\n\u001b[1;32m      5\u001b[0m \u001b[0mxgb_grid\u001b[0m \u001b[0;34m=\u001b[0m \u001b[0mGridSearchCV\u001b[0m\u001b[0;34m(\u001b[0m\u001b[0mestimator\u001b[0m \u001b[0;34m=\u001b[0m \u001b[0mxgb_model\u001b[0m\u001b[0;34m,\u001b[0m \u001b[0mparam_grid\u001b[0m \u001b[0;34m=\u001b[0m \u001b[0mtuning_parameters\u001b[0m\u001b[0;34m,\u001b[0m \u001b[0mcv\u001b[0m \u001b[0;34m=\u001b[0m\u001b[0;36m3\u001b[0m\u001b[0;34m,\u001b[0m \u001b[0mscoring\u001b[0m \u001b[0;34m=\u001b[0m \u001b[0;34m'roc_auc'\u001b[0m\u001b[0;34m)\u001b[0m\u001b[0;34m\u001b[0m\u001b[0;34m\u001b[0m\u001b[0m\n\u001b[1;32m      6\u001b[0m \u001b[0mxgb_grid\u001b[0m\u001b[0;34m.\u001b[0m\u001b[0mfit\u001b[0m\u001b[0;34m(\u001b[0m\u001b[0mX_train\u001b[0m\u001b[0;34m,\u001b[0m \u001b[0my_train\u001b[0m\u001b[0;34m)\u001b[0m\u001b[0;34m\u001b[0m\u001b[0;34m\u001b[0m\u001b[0m\n\u001b[0;32m----> 7\u001b[0;31m \u001b[0mprint\u001b[0m\u001b[0;34m(\u001b[0m\u001b[0;34m'Best Paramters:'\u001b[0m\u001b[0;34m,\u001b[0m\u001b[0mxgb_grid\u001b[0m\u001b[0;34m.\u001b[0m\u001b[0mbest_parans_\u001b[0m\u001b[0;34m,\u001b[0m \u001b[0;34m'\\n'\u001b[0m\u001b[0;34m)\u001b[0m\u001b[0;34m\u001b[0m\u001b[0;34m\u001b[0m\u001b[0m\n\u001b[0m",
      "\u001b[0;31mAttributeError\u001b[0m: 'GridSearchCV' object has no attribute 'best_parans_'"
     ]
    }
   ],
   "source": [
    "tuning_parameters = {'learning_rate': [0.1,0.2,0.3,0.4,0.5,0.6],\n",
    "                     'max_depth': range(3,10),\n",
    "                     'gamma': [0,1,2,3,4]}\n",
    "xgb_model = XGBClassifier()\n",
    "xgb_grid = GridSearchCV(estimator = xgb_model, param_grid = tuning_parameters, cv =3, scoring = 'roc_auc')\n",
    "xgb_grid.fit(X_train, y_train)\n"
   ]
  },
  {
   "cell_type": "code",
   "execution_count": 149,
   "metadata": {},
   "outputs": [
    {
     "name": "stdout",
     "output_type": "stream",
     "text": [
      "Best Paramters: {'gamma': 0, 'learning_rate': 0.1, 'max_depth': 3} \n",
      "\n"
     ]
    }
   ],
   "source": [
    "print('Best Paramters:',xgb_grid.best_params_, '\\n')"
   ]
  },
  {
   "cell_type": "code",
   "execution_count": 150,
   "metadata": {},
   "outputs": [],
   "source": [
    "xgb_grid_model = XGBClassifier(learning_rate = xgb_grid.best_params_.get('learning_rate'),\n",
    "                               max_depth = xgb_grid.best_params_.get('max_depth'),\n",
    "                               gamma = xgb_grid.best_params_.get('gamma'))\n",
    "xgb_model = xgb_grid_model.fit(X_train,y_train)"
   ]
  },
  {
   "cell_type": "code",
   "execution_count": 151,
   "metadata": {},
   "outputs": [
    {
     "name": "stdout",
     "output_type": "stream",
     "text": [
      "              precision    recall  f1-score   support\n",
      "\n",
      "           0       1.00      1.00      1.00       503\n",
      "           1       1.00      1.00      1.00       512\n",
      "\n",
      "    accuracy                           1.00      1015\n",
      "   macro avg       1.00      1.00      1.00      1015\n",
      "weighted avg       1.00      1.00      1.00      1015\n",
      "\n"
     ]
    }
   ],
   "source": [
    "train_report = get_train_report(xgb_model, train_data=X_train)\n",
    "print(train_report)"
   ]
  },
  {
   "cell_type": "code",
   "execution_count": 152,
   "metadata": {},
   "outputs": [
    {
     "name": "stdout",
     "output_type": "stream",
     "text": [
      "              precision    recall  f1-score   support\n",
      "\n",
      "           0       1.00      1.00      1.00       222\n",
      "           1       1.00      1.00      1.00       213\n",
      "\n",
      "    accuracy                           1.00       435\n",
      "   macro avg       1.00      1.00      1.00       435\n",
      "weighted avg       1.00      1.00      1.00       435\n",
      "\n"
     ]
    }
   ],
   "source": [
    "print(get_test_report(xgb_model, test_data = X_test))"
   ]
  },
  {
   "cell_type": "code",
   "execution_count": 153,
   "metadata": {},
   "outputs": [
    {
     "data": {
      "image/png": "[encoded data removed]",
      "text/plain": [
       "<Figure size 432x288 with 1 Axes>"
      ]
     },
     "metadata": {
      "needs_background": "light"
     },
     "output_type": "display_data"
    }
   ],
   "source": [
    "plot_confusion_matrix(xgb_model,test_data = X_test)"
   ]
  },
  {
   "cell_type": "code",
   "execution_count": 154,
   "metadata": {},
   "outputs": [
    {
     "data": {
      "image/png": "[encoded data removed]",
      "text/plain": [
       "<Figure size 432x288 with 1 Axes>"
      ]
     },
     "metadata": {
      "needs_background": "light"
     },
     "output_type": "display_data"
    }
   ],
   "source": [
    "plot_roc(xgb_model, test_data= X_test)"
   ]
  },
  {
   "cell_type": "code",
   "execution_count": null,
   "metadata": {},
   "outputs": [],
   "source": []
  },
  {
   "cell_type": "code",
   "execution_count": 159,
   "metadata": {},
   "outputs": [],
   "source": [
    "gboost_model = GradientBoostingClassifier(n_estimators=150, max_depth=10, random_state=10)\n",
    "gb_model = gboost_model.fit(X_train,y_train)"
   ]
  },
  {
   "cell_type": "code",
   "execution_count": 160,
   "metadata": {},
   "outputs": [
    {
     "data": {
      "image/png": "[encoded data removed]",
      "text/plain": [
       "<Figure size 432x288 with 1 Axes>"
      ]
     },
     "metadata": {
      "needs_background": "light"
     },
     "output_type": "display_data"
    }
   ],
   "source": [
    "plot_confusion_matrix(gb_model,test_data = X_test)"
   ]
  },
  {
   "cell_type": "code",
   "execution_count": 161,
   "metadata": {},
   "outputs": [
    {
     "name": "stdout",
     "output_type": "stream",
     "text": [
      "              precision    recall  f1-score   support\n",
      "\n",
      "           0       1.00      1.00      1.00       222\n",
      "           1       1.00      1.00      1.00       213\n",
      "\n",
      "    accuracy                           1.00       435\n",
      "   macro avg       1.00      1.00      1.00       435\n",
      "weighted avg       1.00      1.00      1.00       435\n",
      "\n"
     ]
    }
   ],
   "source": [
    "print(get_test_report(gb_model, test_data = X_test))"
   ]
  },
  {
   "cell_type": "markdown",
   "metadata": {
    "colab_type": "text",
    "id": "VLwmPzFulY8d"
   },
   "source": [
    "### 8.\tSummarize as follows (10 marks) \n",
    "\n",
    "1.\tSummarize the overall fit of the model and list down the measures to prove that it is a good model\n",
    "\n",
    "2.\tWrite down a business interpretation/explanation of the model – which variables are affecting the target the most and explain the relationship. Feel free to use charts or graphs to explain.\n",
    "\n",
    "3.\tWhat changes from the base model had the most effect on model performance?\n",
    "\n",
    "4.\tWhat are the key risks to your results and interpretation?\n"
   ]
  },
  {
   "cell_type": "markdown",
   "metadata": {
    "colab": {},
    "colab_type": "code",
    "id": "J0CCCkgElY8d"
   },
   "source": [
    "### 1\n",
    "The Decision tree model with hyperparamter tuning demonstrates a good overall fit based on the provided measure. the model achieves an\n",
    "accuracy score of 0.91, indicating that it correctly predicts the traget varibale in 91% of cases. The recall score of 0.99 suggests that the \n",
    "model can effectively identifypositive instances, while the precison score of 0.86 indicates that it has a relatively low flase postive rate. \n",
    "Additionally the AUC value of 0.9774 suggests that the model has a high discriminatory power is distinguishing between postive and negative instances"
   ]
  },
  {
   "cell_type": "markdown",
   "metadata": {},
   "source": [
    "### 2"
   ]
  },
  {
   "cell_type": "markdown",
   "metadata": {},
   "source": [
    "In Tearms by of busniess interpretation, the decision tree model reveals tha variables that have the most sig impact on the target\n",
    "varibales. By examining the structure of the decision tree, we can identify which variables are influential in determining the target outcome. \n",
    "Visual aids such as charts or graphs can futher illustrate this relationship. "
   ]
  },
  {
   "cell_type": "markdown",
   "metadata": {},
   "source": [
    "### 3"
   ]
  },
  {
   "cell_type": "markdown",
   "metadata": {},
   "source": [
    "Among the changes made to the base model the most impactful on model performance cannot be determined without further information. \n",
    "the provided summary only includes the performance measure of the final model but does not specofy the modification made during hyperparametertunning \n",
    "or other enhancements. Without knowing the specific changes that were implementer, it is not possible to identify which modification effects on the models performance "
   ]
  },
  {
   "cell_type": "markdown",
   "metadata": {},
   "source": [
    "### 4"
   ]
  },
  {
   "cell_type": "markdown",
   "metadata": {},
   "source": [
    "There are several key risk to consider regarding the results and interpretation of the model. First, Although the model achieves high accurance, recall, precision and AUC score on both the training and test sets, it is important to assess the g\n",
    "generalizability of there results. the performance on the test set indicates how well the model can predict unseen data, but it is crucial to ensure that the \n",
    "test set is representative of real_world sceanrios ."
   ]
  },
  {
   "cell_type": "code",
   "execution_count": null,
   "metadata": {},
   "outputs": [],
   "source": []
  },
  {
   "cell_type": "code",
   "execution_count": null,
   "metadata": {},
   "outputs": [],
   "source": []
  }
 ],
 "metadata": {
  "colab": {
   "collapsed_sections": [],
   "name": "SLC_FINAL_EXAM_PAPER_SET_2.ipynb",
   "provenance": []
  },
  "kernelspec": {
   "display_name": "Python 3 (ipykernel)",
   "language": "python",
   "name": "python3"
  },
  "language_info": {
   "codemirror_mode": {
    "name": "ipython",
    "version": 3
   },
   "file_extension": ".py",
   "mimetype": "text/x-python",
   "name": "python",
   "nbconvert_exporter": "python",
   "pygments_lexer": "ipython3",
   "version": "3.10.5"
  }
 },
 "nbformat": 4,
 "nbformat_minor": 1
}
